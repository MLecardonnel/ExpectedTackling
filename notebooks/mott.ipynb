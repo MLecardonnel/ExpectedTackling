{
 "cells": [
  {
   "cell_type": "code",
   "execution_count": 1,
   "metadata": {},
   "outputs": [],
   "source": [
    "%load_ext autoreload\n",
    "%autoreload 2"
   ]
  },
  {
   "cell_type": "code",
   "execution_count": 2,
   "metadata": {},
   "outputs": [],
   "source": [
    "import pandas as pd\n",
    "\n",
    "from expected_tackling.data.mott_features import compute_mott_features_data"
   ]
  },
  {
   "cell_type": "code",
   "execution_count": 3,
   "metadata": {},
   "outputs": [],
   "source": [
    "features_data = pd.concat([pd.read_csv(f\"../data/features_week_{i}.csv\") for i in range(1,10)]).reset_index(drop=True)\n",
    "tackling_probability = pd.read_csv(\"../data/tackling_probability.csv\")\n",
    "tackles = pd.read_csv(\"../data/tackles.csv\")"
   ]
  },
  {
   "cell_type": "code",
   "execution_count": 4,
   "metadata": {},
   "outputs": [],
   "source": [
    "mott_features_data = compute_mott_features_data(features_data, tackling_probability, tackles)"
   ]
  },
  {
   "cell_type": "code",
   "execution_count": 5,
   "metadata": {},
   "outputs": [
    {
     "data": {
      "text/html": [
       "<div>\n",
       "<style scoped>\n",
       "    .dataframe tbody tr th:only-of-type {\n",
       "        vertical-align: middle;\n",
       "    }\n",
       "\n",
       "    .dataframe tbody tr th {\n",
       "        vertical-align: top;\n",
       "    }\n",
       "\n",
       "    .dataframe thead th {\n",
       "        text-align: right;\n",
       "    }\n",
       "</style>\n",
       "<table border=\"1\" class=\"dataframe\">\n",
       "  <thead>\n",
       "    <tr style=\"text-align: right;\">\n",
       "      <th></th>\n",
       "      <th></th>\n",
       "      <th></th>\n",
       "      <th>tackling_probability</th>\n",
       "      <th>distance_to_ball_carrier</th>\n",
       "      <th>frame_progression</th>\n",
       "      <th>nb_frames_from_end</th>\n",
       "      <th>last_distance_to_ball_carrier</th>\n",
       "      <th>last_tackling_probability</th>\n",
       "      <th>ball_carrier_distance_won_to_last_frame</th>\n",
       "      <th>tackle_or_assist</th>\n",
       "      <th>pff_missedTackle</th>\n",
       "    </tr>\n",
       "    <tr>\n",
       "      <th>gameId</th>\n",
       "      <th>playId</th>\n",
       "      <th>nflId</th>\n",
       "      <th></th>\n",
       "      <th></th>\n",
       "      <th></th>\n",
       "      <th></th>\n",
       "      <th></th>\n",
       "      <th></th>\n",
       "      <th></th>\n",
       "      <th></th>\n",
       "      <th></th>\n",
       "    </tr>\n",
       "  </thead>\n",
       "  <tbody>\n",
       "    <tr>\n",
       "      <th rowspan=\"5\" valign=\"top\">2022090800</th>\n",
       "      <th rowspan=\"5\" valign=\"top\">56</th>\n",
       "      <th>38577.0</th>\n",
       "      <td>0.363425</td>\n",
       "      <td>2.295321</td>\n",
       "      <td>0.812500</td>\n",
       "      <td>3.0</td>\n",
       "      <td>1.695789</td>\n",
       "      <td>0.228518</td>\n",
       "      <td>0.00</td>\n",
       "      <td>0.0</td>\n",
       "      <td>0.0</td>\n",
       "    </tr>\n",
       "    <tr>\n",
       "      <th>41239.0</th>\n",
       "      <td>0.008615</td>\n",
       "      <td>14.187872</td>\n",
       "      <td>0.500000</td>\n",
       "      <td>8.0</td>\n",
       "      <td>13.245384</td>\n",
       "      <td>0.000750</td>\n",
       "      <td>0.00</td>\n",
       "      <td>0.0</td>\n",
       "      <td>0.0</td>\n",
       "    </tr>\n",
       "    <tr>\n",
       "      <th>42816.0</th>\n",
       "      <td>0.037124</td>\n",
       "      <td>29.415605</td>\n",
       "      <td>0.250000</td>\n",
       "      <td>12.0</td>\n",
       "      <td>25.538068</td>\n",
       "      <td>0.001556</td>\n",
       "      <td>0.52</td>\n",
       "      <td>0.0</td>\n",
       "      <td>0.0</td>\n",
       "    </tr>\n",
       "    <tr>\n",
       "      <th>43294.0</th>\n",
       "      <td>0.701456</td>\n",
       "      <td>0.670298</td>\n",
       "      <td>1.000000</td>\n",
       "      <td>0.0</td>\n",
       "      <td>0.670298</td>\n",
       "      <td>0.701456</td>\n",
       "      <td>0.00</td>\n",
       "      <td>1.0</td>\n",
       "      <td>0.0</td>\n",
       "    </tr>\n",
       "    <tr>\n",
       "      <th>43298.0</th>\n",
       "      <td>0.003791</td>\n",
       "      <td>12.298996</td>\n",
       "      <td>0.000000</td>\n",
       "      <td>16.0</td>\n",
       "      <td>11.767770</td>\n",
       "      <td>0.001199</td>\n",
       "      <td>1.15</td>\n",
       "      <td>0.0</td>\n",
       "      <td>0.0</td>\n",
       "    </tr>\n",
       "    <tr>\n",
       "      <th>...</th>\n",
       "      <th>...</th>\n",
       "      <th>...</th>\n",
       "      <td>...</td>\n",
       "      <td>...</td>\n",
       "      <td>...</td>\n",
       "      <td>...</td>\n",
       "      <td>...</td>\n",
       "      <td>...</td>\n",
       "      <td>...</td>\n",
       "      <td>...</td>\n",
       "      <td>...</td>\n",
       "    </tr>\n",
       "    <tr>\n",
       "      <th rowspan=\"5\" valign=\"top\">2022110700</th>\n",
       "      <th rowspan=\"5\" valign=\"top\">3787</th>\n",
       "      <th>52627.0</th>\n",
       "      <td>0.228023</td>\n",
       "      <td>18.914695</td>\n",
       "      <td>0.558824</td>\n",
       "      <td>15.0</td>\n",
       "      <td>8.332647</td>\n",
       "      <td>0.028729</td>\n",
       "      <td>5.57</td>\n",
       "      <td>0.0</td>\n",
       "      <td>0.0</td>\n",
       "    </tr>\n",
       "    <tr>\n",
       "      <th>53460.0</th>\n",
       "      <td>0.374259</td>\n",
       "      <td>3.238673</td>\n",
       "      <td>0.500000</td>\n",
       "      <td>17.0</td>\n",
       "      <td>6.202064</td>\n",
       "      <td>0.047986</td>\n",
       "      <td>6.54</td>\n",
       "      <td>0.0</td>\n",
       "      <td>0.0</td>\n",
       "    </tr>\n",
       "    <tr>\n",
       "      <th>53533.0</th>\n",
       "      <td>0.021858</td>\n",
       "      <td>19.715603</td>\n",
       "      <td>1.000000</td>\n",
       "      <td>0.0</td>\n",
       "      <td>19.715603</td>\n",
       "      <td>0.021858</td>\n",
       "      <td>0.00</td>\n",
       "      <td>0.0</td>\n",
       "      <td>0.0</td>\n",
       "    </tr>\n",
       "    <tr>\n",
       "      <th>54541.0</th>\n",
       "      <td>0.879435</td>\n",
       "      <td>0.773886</td>\n",
       "      <td>0.794118</td>\n",
       "      <td>7.0</td>\n",
       "      <td>1.462771</td>\n",
       "      <td>0.766604</td>\n",
       "      <td>1.95</td>\n",
       "      <td>0.0</td>\n",
       "      <td>0.0</td>\n",
       "    </tr>\n",
       "    <tr>\n",
       "      <th>54606.0</th>\n",
       "      <td>0.070265</td>\n",
       "      <td>13.049031</td>\n",
       "      <td>0.911765</td>\n",
       "      <td>3.0</td>\n",
       "      <td>12.336296</td>\n",
       "      <td>0.060141</td>\n",
       "      <td>0.59</td>\n",
       "      <td>0.0</td>\n",
       "      <td>0.0</td>\n",
       "    </tr>\n",
       "  </tbody>\n",
       "</table>\n",
       "<p>127941 rows × 9 columns</p>\n",
       "</div>"
      ],
      "text/plain": [
       "                           tackling_probability  distance_to_ball_carrier  \\\n",
       "gameId     playId nflId                                                     \n",
       "2022090800 56     38577.0              0.363425                  2.295321   \n",
       "                  41239.0              0.008615                 14.187872   \n",
       "                  42816.0              0.037124                 29.415605   \n",
       "                  43294.0              0.701456                  0.670298   \n",
       "                  43298.0              0.003791                 12.298996   \n",
       "...                                         ...                       ...   \n",
       "2022110700 3787   52627.0              0.228023                 18.914695   \n",
       "                  53460.0              0.374259                  3.238673   \n",
       "                  53533.0              0.021858                 19.715603   \n",
       "                  54541.0              0.879435                  0.773886   \n",
       "                  54606.0              0.070265                 13.049031   \n",
       "\n",
       "                           frame_progression  nb_frames_from_end  \\\n",
       "gameId     playId nflId                                            \n",
       "2022090800 56     38577.0           0.812500                 3.0   \n",
       "                  41239.0           0.500000                 8.0   \n",
       "                  42816.0           0.250000                12.0   \n",
       "                  43294.0           1.000000                 0.0   \n",
       "                  43298.0           0.000000                16.0   \n",
       "...                                      ...                 ...   \n",
       "2022110700 3787   52627.0           0.558824                15.0   \n",
       "                  53460.0           0.500000                17.0   \n",
       "                  53533.0           1.000000                 0.0   \n",
       "                  54541.0           0.794118                 7.0   \n",
       "                  54606.0           0.911765                 3.0   \n",
       "\n",
       "                           last_distance_to_ball_carrier  \\\n",
       "gameId     playId nflId                                    \n",
       "2022090800 56     38577.0                       1.695789   \n",
       "                  41239.0                      13.245384   \n",
       "                  42816.0                      25.538068   \n",
       "                  43294.0                       0.670298   \n",
       "                  43298.0                      11.767770   \n",
       "...                                                  ...   \n",
       "2022110700 3787   52627.0                       8.332647   \n",
       "                  53460.0                       6.202064   \n",
       "                  53533.0                      19.715603   \n",
       "                  54541.0                       1.462771   \n",
       "                  54606.0                      12.336296   \n",
       "\n",
       "                           last_tackling_probability  \\\n",
       "gameId     playId nflId                                \n",
       "2022090800 56     38577.0                   0.228518   \n",
       "                  41239.0                   0.000750   \n",
       "                  42816.0                   0.001556   \n",
       "                  43294.0                   0.701456   \n",
       "                  43298.0                   0.001199   \n",
       "...                                              ...   \n",
       "2022110700 3787   52627.0                   0.028729   \n",
       "                  53460.0                   0.047986   \n",
       "                  53533.0                   0.021858   \n",
       "                  54541.0                   0.766604   \n",
       "                  54606.0                   0.060141   \n",
       "\n",
       "                           ball_carrier_distance_won_to_last_frame  \\\n",
       "gameId     playId nflId                                              \n",
       "2022090800 56     38577.0                                     0.00   \n",
       "                  41239.0                                     0.00   \n",
       "                  42816.0                                     0.52   \n",
       "                  43294.0                                     0.00   \n",
       "                  43298.0                                     1.15   \n",
       "...                                                            ...   \n",
       "2022110700 3787   52627.0                                     5.57   \n",
       "                  53460.0                                     6.54   \n",
       "                  53533.0                                     0.00   \n",
       "                  54541.0                                     1.95   \n",
       "                  54606.0                                     0.59   \n",
       "\n",
       "                           tackle_or_assist  pff_missedTackle  \n",
       "gameId     playId nflId                                        \n",
       "2022090800 56     38577.0               0.0               0.0  \n",
       "                  41239.0               0.0               0.0  \n",
       "                  42816.0               0.0               0.0  \n",
       "                  43294.0               1.0               0.0  \n",
       "                  43298.0               0.0               0.0  \n",
       "...                                     ...               ...  \n",
       "2022110700 3787   52627.0               0.0               0.0  \n",
       "                  53460.0               0.0               0.0  \n",
       "                  53533.0               0.0               0.0  \n",
       "                  54541.0               0.0               0.0  \n",
       "                  54606.0               0.0               0.0  \n",
       "\n",
       "[127941 rows x 9 columns]"
      ]
     },
     "execution_count": 5,
     "metadata": {},
     "output_type": "execute_result"
    }
   ],
   "source": [
    "mott_features_data"
   ]
  },
  {
   "cell_type": "code",
   "execution_count": 6,
   "metadata": {},
   "outputs": [],
   "source": [
    "sample_mott_features_data = pd.concat([\n",
    "    mott_features_data[mott_features_data[\"pff_missedTackle\"]==1],\n",
    "    mott_features_data[mott_features_data[\"pff_missedTackle\"]==0].sample(\n",
    "        len(mott_features_data[mott_features_data[\"pff_missedTackle\"]==1])*10\n",
    "    )\n",
    "])"
   ]
  },
  {
   "cell_type": "code",
   "execution_count": 7,
   "metadata": {},
   "outputs": [],
   "source": [
    "from sklearn.model_selection import train_test_split\n",
    "from sklearn.metrics import confusion_matrix, balanced_accuracy_score\n",
    "from catboost import CatBoostClassifier"
   ]
  },
  {
   "cell_type": "code",
   "execution_count": 8,
   "metadata": {},
   "outputs": [],
   "source": [
    "X_train, X_test, y_train, y_test = train_test_split(\n",
    "    sample_mott_features_data.drop(columns=[\"pff_missedTackle\"]), \n",
    "    sample_mott_features_data[\"pff_missedTackle\"], \n",
    "    test_size=0.33, \n",
    "    random_state=42\n",
    ")"
   ]
  },
  {
   "cell_type": "code",
   "execution_count": 31,
   "metadata": {},
   "outputs": [
    {
     "data": {
      "text/plain": [
       "<catboost.core.CatBoostClassifier at 0x1c5c9b209a0>"
      ]
     },
     "execution_count": 31,
     "metadata": {},
     "output_type": "execute_result"
    }
   ],
   "source": [
    "model = CatBoostClassifier(max_depth=3, scale_pos_weight=5, verbose=0)\n",
    "model.fit(X_train, y_train)"
   ]
  },
  {
   "cell_type": "code",
   "execution_count": 32,
   "metadata": {},
   "outputs": [],
   "source": [
    "y_pred = model.predict(X_test)"
   ]
  },
  {
   "cell_type": "code",
   "execution_count": 33,
   "metadata": {},
   "outputs": [
    {
     "data": {
      "text/plain": [
       "0.08632490571308842"
      ]
     },
     "execution_count": 33,
     "metadata": {},
     "output_type": "execute_result"
    }
   ],
   "source": [
    "y_test.sum()/len(y_test)"
   ]
  },
  {
   "cell_type": "code",
   "execution_count": 34,
   "metadata": {},
   "outputs": [
    {
     "data": {
      "text/plain": [
       "0.10588070959631234"
      ]
     },
     "execution_count": 34,
     "metadata": {},
     "output_type": "execute_result"
    }
   ],
   "source": [
    "y_pred.sum()/len(y_pred)"
   ]
  },
  {
   "cell_type": "code",
   "execution_count": 35,
   "metadata": {},
   "outputs": [
    {
     "data": {
      "text/plain": [
       "0.9477778308290695"
      ]
     },
     "execution_count": 35,
     "metadata": {},
     "output_type": "execute_result"
    }
   ],
   "source": [
    "balanced_accuracy_score(y_train, model.predict(X_train))"
   ]
  },
  {
   "cell_type": "code",
   "execution_count": 36,
   "metadata": {},
   "outputs": [
    {
     "data": {
      "text/plain": [
       "0.9308551140453867"
      ]
     },
     "execution_count": 36,
     "metadata": {},
     "output_type": "execute_result"
    }
   ],
   "source": [
    "balanced_accuracy_score(y_test, y_pred)"
   ]
  },
  {
   "cell_type": "code",
   "execution_count": 37,
   "metadata": {},
   "outputs": [
    {
     "data": {
      "text/plain": [
       "array([[12844,   335],\n",
       "       [  107,  1247]], dtype=int64)"
      ]
     },
     "execution_count": 37,
     "metadata": {},
     "output_type": "execute_result"
    }
   ],
   "source": [
    "confusion_matrix(y_train, model.predict(X_train))"
   ]
  },
  {
   "cell_type": "code",
   "execution_count": 38,
   "metadata": {},
   "outputs": [
    {
     "data": {
      "text/plain": [
       "array([[6335,  206],\n",
       "       [  66,  552]], dtype=int64)"
      ]
     },
     "execution_count": 38,
     "metadata": {},
     "output_type": "execute_result"
    }
   ],
   "source": [
    "confusion_matrix(y_test, y_pred)"
   ]
  },
  {
   "cell_type": "code",
   "execution_count": 39,
   "metadata": {},
   "outputs": [],
   "source": [
    "import pickle\n",
    "pickle.dump(model, open(\"../models/model_mott.pkl\", 'wb'))"
   ]
  },
  {
   "cell_type": "code",
   "execution_count": 40,
   "metadata": {},
   "outputs": [],
   "source": [
    "mott_features_data.to_csv(\"../data/features_mott.csv\")"
   ]
  },
  {
   "cell_type": "code",
   "execution_count": null,
   "metadata": {},
   "outputs": [],
   "source": []
  }
 ],
 "metadata": {
  "kernelspec": {
   "display_name": "nfl_bowl",
   "language": "python",
   "name": "python3"
  },
  "language_info": {
   "codemirror_mode": {
    "name": "ipython",
    "version": 3
   },
   "file_extension": ".py",
   "mimetype": "text/x-python",
   "name": "python",
   "nbconvert_exporter": "python",
   "pygments_lexer": "ipython3",
   "version": "3.10.13"
  }
 },
 "nbformat": 4,
 "nbformat_minor": 2
}
