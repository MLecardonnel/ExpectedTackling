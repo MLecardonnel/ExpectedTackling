{
 "cells": [
  {
   "cell_type": "code",
   "execution_count": 1,
   "metadata": {},
   "outputs": [],
   "source": [
    "%load_ext autoreload\n",
    "%autoreload 2"
   ]
  },
  {
   "cell_type": "code",
   "execution_count": 3,
   "metadata": {},
   "outputs": [
    {
     "name": "stderr",
     "output_type": "stream",
     "text": [
      "IProgress not found. Please update jupyter and ipywidgets. See https://ipywidgets.readthedocs.io/en/stable/user_install.html\n"
     ]
    }
   ],
   "source": [
    "import pandas as pd\n",
    "\n",
    "from expected_tackling.data.mott_features import compute_mott_features_data\n",
    "from expected_tackling.visualization.metrics import plot_confusion_matrix"
   ]
  },
  {
   "cell_type": "code",
   "execution_count": 4,
   "metadata": {},
   "outputs": [],
   "source": [
    "features_data = pd.concat([pd.read_csv(f\"../data/features_week_{i}.csv\") for i in range(1,10)]).reset_index(drop=True)\n",
    "tackling_probability = pd.read_csv(\"../data/tackling_probability.csv\")\n",
    "tackles = pd.read_csv(\"../data/tackles.csv\")"
   ]
  },
  {
   "cell_type": "code",
   "execution_count": 5,
   "metadata": {},
   "outputs": [],
   "source": [
    "mott_features_data = compute_mott_features_data(features_data, tackling_probability, tackles)"
   ]
  },
  {
   "cell_type": "code",
   "execution_count": 6,
   "metadata": {},
   "outputs": [
    {
     "data": {
      "text/html": [
       "<div>\n",
       "<style scoped>\n",
       "    .dataframe tbody tr th:only-of-type {\n",
       "        vertical-align: middle;\n",
       "    }\n",
       "\n",
       "    .dataframe tbody tr th {\n",
       "        vertical-align: top;\n",
       "    }\n",
       "\n",
       "    .dataframe thead th {\n",
       "        text-align: right;\n",
       "    }\n",
       "</style>\n",
       "<table border=\"1\" class=\"dataframe\">\n",
       "  <thead>\n",
       "    <tr style=\"text-align: right;\">\n",
       "      <th></th>\n",
       "      <th></th>\n",
       "      <th></th>\n",
       "      <th>ott</th>\n",
       "      <th>mean_distance_to_ball_carrier_from_peak</th>\n",
       "      <th>ball_carrier_distance_won_to_last_frame</th>\n",
       "      <th>tackle_or_assist</th>\n",
       "      <th>pff_missedTackle</th>\n",
       "    </tr>\n",
       "    <tr>\n",
       "      <th>gameId</th>\n",
       "      <th>playId</th>\n",
       "      <th>nflId</th>\n",
       "      <th></th>\n",
       "      <th></th>\n",
       "      <th></th>\n",
       "      <th></th>\n",
       "      <th></th>\n",
       "    </tr>\n",
       "  </thead>\n",
       "  <tbody>\n",
       "    <tr>\n",
       "      <th rowspan=\"5\" valign=\"top\">2022090800</th>\n",
       "      <th rowspan=\"5\" valign=\"top\">56</th>\n",
       "      <th>38577.0</th>\n",
       "      <td>0.158333</td>\n",
       "      <td>1.971121</td>\n",
       "      <td>0.00</td>\n",
       "      <td>0.0</td>\n",
       "      <td>0.0</td>\n",
       "    </tr>\n",
       "    <tr>\n",
       "      <th>41239.0</th>\n",
       "      <td>0.000607</td>\n",
       "      <td>13.907379</td>\n",
       "      <td>0.00</td>\n",
       "      <td>0.0</td>\n",
       "      <td>0.0</td>\n",
       "    </tr>\n",
       "    <tr>\n",
       "      <th>42816.0</th>\n",
       "      <td>0.001262</td>\n",
       "      <td>27.279112</td>\n",
       "      <td>0.52</td>\n",
       "      <td>0.0</td>\n",
       "      <td>0.0</td>\n",
       "    </tr>\n",
       "    <tr>\n",
       "      <th>43294.0</th>\n",
       "      <td>1.046483</td>\n",
       "      <td>0.670298</td>\n",
       "      <td>0.00</td>\n",
       "      <td>1.0</td>\n",
       "      <td>0.0</td>\n",
       "    </tr>\n",
       "    <tr>\n",
       "      <th>43298.0</th>\n",
       "      <td>0.000308</td>\n",
       "      <td>12.350122</td>\n",
       "      <td>1.15</td>\n",
       "      <td>0.0</td>\n",
       "      <td>0.0</td>\n",
       "    </tr>\n",
       "    <tr>\n",
       "      <th>...</th>\n",
       "      <th>...</th>\n",
       "      <th>...</th>\n",
       "      <td>...</td>\n",
       "      <td>...</td>\n",
       "      <td>...</td>\n",
       "      <td>...</td>\n",
       "      <td>...</td>\n",
       "    </tr>\n",
       "    <tr>\n",
       "      <th rowspan=\"5\" valign=\"top\">2022110700</th>\n",
       "      <th rowspan=\"5\" valign=\"top\">3787</th>\n",
       "      <th>52627.0</th>\n",
       "      <td>0.012055</td>\n",
       "      <td>13.470441</td>\n",
       "      <td>5.57</td>\n",
       "      <td>0.0</td>\n",
       "      <td>0.0</td>\n",
       "    </tr>\n",
       "    <tr>\n",
       "      <th>53460.0</th>\n",
       "      <td>0.115559</td>\n",
       "      <td>4.405723</td>\n",
       "      <td>6.54</td>\n",
       "      <td>0.0</td>\n",
       "      <td>0.0</td>\n",
       "    </tr>\n",
       "    <tr>\n",
       "      <th>53533.0</th>\n",
       "      <td>0.001109</td>\n",
       "      <td>19.715603</td>\n",
       "      <td>0.00</td>\n",
       "      <td>0.0</td>\n",
       "      <td>0.0</td>\n",
       "    </tr>\n",
       "    <tr>\n",
       "      <th>54541.0</th>\n",
       "      <td>1.136388</td>\n",
       "      <td>1.121133</td>\n",
       "      <td>1.95</td>\n",
       "      <td>0.0</td>\n",
       "      <td>0.0</td>\n",
       "    </tr>\n",
       "    <tr>\n",
       "      <th>54606.0</th>\n",
       "      <td>0.005385</td>\n",
       "      <td>12.675541</td>\n",
       "      <td>0.59</td>\n",
       "      <td>0.0</td>\n",
       "      <td>0.0</td>\n",
       "    </tr>\n",
       "  </tbody>\n",
       "</table>\n",
       "<p>127941 rows × 5 columns</p>\n",
       "</div>"
      ],
      "text/plain": [
       "                                ott  mean_distance_to_ball_carrier_from_peak  \\\n",
       "gameId     playId nflId                                                        \n",
       "2022090800 56     38577.0  0.158333                                 1.971121   \n",
       "                  41239.0  0.000607                                13.907379   \n",
       "                  42816.0  0.001262                                27.279112   \n",
       "                  43294.0  1.046483                                 0.670298   \n",
       "                  43298.0  0.000308                                12.350122   \n",
       "...                             ...                                      ...   \n",
       "2022110700 3787   52627.0  0.012055                                13.470441   \n",
       "                  53460.0  0.115559                                 4.405723   \n",
       "                  53533.0  0.001109                                19.715603   \n",
       "                  54541.0  1.136388                                 1.121133   \n",
       "                  54606.0  0.005385                                12.675541   \n",
       "\n",
       "                           ball_carrier_distance_won_to_last_frame  \\\n",
       "gameId     playId nflId                                              \n",
       "2022090800 56     38577.0                                     0.00   \n",
       "                  41239.0                                     0.00   \n",
       "                  42816.0                                     0.52   \n",
       "                  43294.0                                     0.00   \n",
       "                  43298.0                                     1.15   \n",
       "...                                                            ...   \n",
       "2022110700 3787   52627.0                                     5.57   \n",
       "                  53460.0                                     6.54   \n",
       "                  53533.0                                     0.00   \n",
       "                  54541.0                                     1.95   \n",
       "                  54606.0                                     0.59   \n",
       "\n",
       "                           tackle_or_assist  pff_missedTackle  \n",
       "gameId     playId nflId                                        \n",
       "2022090800 56     38577.0               0.0               0.0  \n",
       "                  41239.0               0.0               0.0  \n",
       "                  42816.0               0.0               0.0  \n",
       "                  43294.0               1.0               0.0  \n",
       "                  43298.0               0.0               0.0  \n",
       "...                                     ...               ...  \n",
       "2022110700 3787   52627.0               0.0               0.0  \n",
       "                  53460.0               0.0               0.0  \n",
       "                  53533.0               0.0               0.0  \n",
       "                  54541.0               0.0               0.0  \n",
       "                  54606.0               0.0               0.0  \n",
       "\n",
       "[127941 rows x 5 columns]"
      ]
     },
     "execution_count": 6,
     "metadata": {},
     "output_type": "execute_result"
    }
   ],
   "source": [
    "mott_features_data"
   ]
  },
  {
   "cell_type": "code",
   "execution_count": 7,
   "metadata": {},
   "outputs": [],
   "source": [
    "sample_mott_features_data = pd.concat([\n",
    "    mott_features_data[(mott_features_data[\"pff_missedTackle\"]==1)&(mott_features_data[\"ott\"]>0.1)],\n",
    "    mott_features_data[mott_features_data[\"pff_missedTackle\"]==0].sample(\n",
    "        len(mott_features_data[mott_features_data[\"pff_missedTackle\"]==1])*10\n",
    "    )\n",
    "])"
   ]
  },
  {
   "cell_type": "code",
   "execution_count": 8,
   "metadata": {},
   "outputs": [],
   "source": [
    "from sklearn.model_selection import train_test_split\n",
    "from sklearn.metrics import confusion_matrix, balanced_accuracy_score\n",
    "from catboost import CatBoostClassifier"
   ]
  },
  {
   "cell_type": "code",
   "execution_count": 9,
   "metadata": {},
   "outputs": [],
   "source": [
    "X_train, X_test, y_train, y_test = train_test_split(\n",
    "    sample_mott_features_data.drop(columns=[\"pff_missedTackle\"]), \n",
    "    sample_mott_features_data[\"pff_missedTackle\"], \n",
    "    test_size=0.33, \n",
    "    random_state=42\n",
    ")"
   ]
  },
  {
   "cell_type": "code",
   "execution_count": 10,
   "metadata": {},
   "outputs": [
    {
     "data": {
      "text/plain": [
       "<catboost.core.CatBoostClassifier at 0x20a8fe6f4c0>"
      ]
     },
     "execution_count": 10,
     "metadata": {},
     "output_type": "execute_result"
    }
   ],
   "source": [
    "model = CatBoostClassifier(max_depth=2, scale_pos_weight=5, verbose=0)\n",
    "model.fit(X_train, y_train)"
   ]
  },
  {
   "cell_type": "code",
   "execution_count": 11,
   "metadata": {},
   "outputs": [],
   "source": [
    "y_pred = model.predict(X_test)"
   ]
  },
  {
   "cell_type": "code",
   "execution_count": 12,
   "metadata": {},
   "outputs": [
    {
     "data": {
      "text/plain": [
       "0.08416188208934323"
      ]
     },
     "execution_count": 12,
     "metadata": {},
     "output_type": "execute_result"
    }
   ],
   "source": [
    "y_test.sum()/len(y_test)"
   ]
  },
  {
   "cell_type": "code",
   "execution_count": 13,
   "metadata": {},
   "outputs": [
    {
     "data": {
      "text/plain": [
       "0.10586752555664473"
      ]
     },
     "execution_count": 13,
     "metadata": {},
     "output_type": "execute_result"
    }
   ],
   "source": [
    "y_pred.sum()/len(y_pred)"
   ]
  },
  {
   "cell_type": "code",
   "execution_count": 14,
   "metadata": {},
   "outputs": [
    {
     "data": {
      "text/plain": [
       "0.9437096945165531"
      ]
     },
     "execution_count": 14,
     "metadata": {},
     "output_type": "execute_result"
    }
   ],
   "source": [
    "balanced_accuracy_score(y_train, model.predict(X_train))"
   ]
  },
  {
   "cell_type": "code",
   "execution_count": 15,
   "metadata": {},
   "outputs": [
    {
     "data": {
      "text/plain": [
       "0.9418214800002035"
      ]
     },
     "execution_count": 15,
     "metadata": {},
     "output_type": "execute_result"
    }
   ],
   "source": [
    "balanced_accuracy_score(y_test, y_pred)"
   ]
  },
  {
   "cell_type": "code",
   "execution_count": 16,
   "metadata": {},
   "outputs": [
    {
     "data": {
      "text/plain": [
       "array([[12767,   413],\n",
       "       [  107,  1210]], dtype=int64)"
      ]
     },
     "execution_count": 16,
     "metadata": {},
     "output_type": "execute_result"
    }
   ],
   "source": [
    "confusion_matrix(y_train, model.predict(X_train))"
   ]
  },
  {
   "cell_type": "code",
   "execution_count": 17,
   "metadata": {},
   "outputs": [
    {
     "data": {
      "text/plain": [
       "array([[6334,  206],\n",
       "       [  51,  550]], dtype=int64)"
      ]
     },
     "execution_count": 17,
     "metadata": {},
     "output_type": "execute_result"
    }
   ],
   "source": [
    "confusion_matrix(y_test, y_pred)"
   ]
  },
  {
   "cell_type": "code",
   "execution_count": 20,
   "metadata": {},
   "outputs": [
    {
     "data": {
      "image/png": "[encoded data removed]",
      "text/plain": [
       "<Figure size 1200x400 with 2 Axes>"
      ]
     },
     "metadata": {},
     "output_type": "display_data"
    }
   ],
   "source": [
    "plot_confusion_matrix(\n",
    "    confusion_matrix(y_train, model.predict(X_train)), \n",
    "    confusion_matrix(y_test, y_pred),\n",
    "    name=\"mott_confusion_matrix\"\n",
    ")"
   ]
  },
  {
   "cell_type": "code",
   "execution_count": 21,
   "metadata": {},
   "outputs": [],
   "source": [
    "import pickle\n",
    "pickle.dump(model, open(\"../models/model_mott.pkl\", 'wb'))"
   ]
  },
  {
   "cell_type": "code",
   "execution_count": 22,
   "metadata": {},
   "outputs": [],
   "source": [
    "mott_features_data.to_csv(\"../data/features_mott.csv\")"
   ]
  },
  {
   "cell_type": "code",
   "execution_count": 23,
   "metadata": {},
   "outputs": [],
   "source": [
    "result_data = mott_features_data.copy()\n",
    "result_data[\"prediction\"] = model.predict(result_data.drop(columns=[\"pff_missedTackle\"]))"
   ]
  },
  {
   "cell_type": "code",
   "execution_count": 24,
   "metadata": {},
   "outputs": [
    {
     "data": {
      "text/html": [
       "<div>\n",
       "<style scoped>\n",
       "    .dataframe tbody tr th:only-of-type {\n",
       "        vertical-align: middle;\n",
       "    }\n",
       "\n",
       "    .dataframe tbody tr th {\n",
       "        vertical-align: top;\n",
       "    }\n",
       "\n",
       "    .dataframe thead th {\n",
       "        text-align: right;\n",
       "    }\n",
       "</style>\n",
       "<table border=\"1\" class=\"dataframe\">\n",
       "  <thead>\n",
       "    <tr style=\"text-align: right;\">\n",
       "      <th></th>\n",
       "      <th></th>\n",
       "      <th></th>\n",
       "      <th>ott</th>\n",
       "      <th>mean_distance_to_ball_carrier_from_peak</th>\n",
       "      <th>ball_carrier_distance_won_to_last_frame</th>\n",
       "      <th>tackle_or_assist</th>\n",
       "      <th>pff_missedTackle</th>\n",
       "      <th>prediction</th>\n",
       "    </tr>\n",
       "    <tr>\n",
       "      <th>gameId</th>\n",
       "      <th>playId</th>\n",
       "      <th>nflId</th>\n",
       "      <th></th>\n",
       "      <th></th>\n",
       "      <th></th>\n",
       "      <th></th>\n",
       "      <th></th>\n",
       "      <th></th>\n",
       "    </tr>\n",
       "  </thead>\n",
       "  <tbody>\n",
       "    <tr>\n",
       "      <th rowspan=\"5\" valign=\"top\">2022090800</th>\n",
       "      <th rowspan=\"5\" valign=\"top\">56</th>\n",
       "      <th>38577.0</th>\n",
       "      <td>0.158333</td>\n",
       "      <td>1.971121</td>\n",
       "      <td>0.00</td>\n",
       "      <td>0.0</td>\n",
       "      <td>0.0</td>\n",
       "      <td>0.0</td>\n",
       "    </tr>\n",
       "    <tr>\n",
       "      <th>41239.0</th>\n",
       "      <td>0.000607</td>\n",
       "      <td>13.907379</td>\n",
       "      <td>0.00</td>\n",
       "      <td>0.0</td>\n",
       "      <td>0.0</td>\n",
       "      <td>0.0</td>\n",
       "    </tr>\n",
       "    <tr>\n",
       "      <th>42816.0</th>\n",
       "      <td>0.001262</td>\n",
       "      <td>27.279112</td>\n",
       "      <td>0.52</td>\n",
       "      <td>0.0</td>\n",
       "      <td>0.0</td>\n",
       "      <td>0.0</td>\n",
       "    </tr>\n",
       "    <tr>\n",
       "      <th>43294.0</th>\n",
       "      <td>1.046483</td>\n",
       "      <td>0.670298</td>\n",
       "      <td>0.00</td>\n",
       "      <td>1.0</td>\n",
       "      <td>0.0</td>\n",
       "      <td>0.0</td>\n",
       "    </tr>\n",
       "    <tr>\n",
       "      <th>43298.0</th>\n",
       "      <td>0.000308</td>\n",
       "      <td>12.350122</td>\n",
       "      <td>1.15</td>\n",
       "      <td>0.0</td>\n",
       "      <td>0.0</td>\n",
       "      <td>0.0</td>\n",
       "    </tr>\n",
       "    <tr>\n",
       "      <th>...</th>\n",
       "      <th>...</th>\n",
       "      <th>...</th>\n",
       "      <td>...</td>\n",
       "      <td>...</td>\n",
       "      <td>...</td>\n",
       "      <td>...</td>\n",
       "      <td>...</td>\n",
       "      <td>...</td>\n",
       "    </tr>\n",
       "    <tr>\n",
       "      <th rowspan=\"5\" valign=\"top\">2022110700</th>\n",
       "      <th rowspan=\"5\" valign=\"top\">3787</th>\n",
       "      <th>52627.0</th>\n",
       "      <td>0.012055</td>\n",
       "      <td>13.470441</td>\n",
       "      <td>5.57</td>\n",
       "      <td>0.0</td>\n",
       "      <td>0.0</td>\n",
       "      <td>0.0</td>\n",
       "    </tr>\n",
       "    <tr>\n",
       "      <th>53460.0</th>\n",
       "      <td>0.115559</td>\n",
       "      <td>4.405723</td>\n",
       "      <td>6.54</td>\n",
       "      <td>0.0</td>\n",
       "      <td>0.0</td>\n",
       "      <td>0.0</td>\n",
       "    </tr>\n",
       "    <tr>\n",
       "      <th>53533.0</th>\n",
       "      <td>0.001109</td>\n",
       "      <td>19.715603</td>\n",
       "      <td>0.00</td>\n",
       "      <td>0.0</td>\n",
       "      <td>0.0</td>\n",
       "      <td>0.0</td>\n",
       "    </tr>\n",
       "    <tr>\n",
       "      <th>54541.0</th>\n",
       "      <td>1.136388</td>\n",
       "      <td>1.121133</td>\n",
       "      <td>1.95</td>\n",
       "      <td>0.0</td>\n",
       "      <td>0.0</td>\n",
       "      <td>1.0</td>\n",
       "    </tr>\n",
       "    <tr>\n",
       "      <th>54606.0</th>\n",
       "      <td>0.005385</td>\n",
       "      <td>12.675541</td>\n",
       "      <td>0.59</td>\n",
       "      <td>0.0</td>\n",
       "      <td>0.0</td>\n",
       "      <td>0.0</td>\n",
       "    </tr>\n",
       "  </tbody>\n",
       "</table>\n",
       "<p>127941 rows × 6 columns</p>\n",
       "</div>"
      ],
      "text/plain": [
       "                                ott  mean_distance_to_ball_carrier_from_peak  \\\n",
       "gameId     playId nflId                                                        \n",
       "2022090800 56     38577.0  0.158333                                 1.971121   \n",
       "                  41239.0  0.000607                                13.907379   \n",
       "                  42816.0  0.001262                                27.279112   \n",
       "                  43294.0  1.046483                                 0.670298   \n",
       "                  43298.0  0.000308                                12.350122   \n",
       "...                             ...                                      ...   \n",
       "2022110700 3787   52627.0  0.012055                                13.470441   \n",
       "                  53460.0  0.115559                                 4.405723   \n",
       "                  53533.0  0.001109                                19.715603   \n",
       "                  54541.0  1.136388                                 1.121133   \n",
       "                  54606.0  0.005385                                12.675541   \n",
       "\n",
       "                           ball_carrier_distance_won_to_last_frame  \\\n",
       "gameId     playId nflId                                              \n",
       "2022090800 56     38577.0                                     0.00   \n",
       "                  41239.0                                     0.00   \n",
       "                  42816.0                                     0.52   \n",
       "                  43294.0                                     0.00   \n",
       "                  43298.0                                     1.15   \n",
       "...                                                            ...   \n",
       "2022110700 3787   52627.0                                     5.57   \n",
       "                  53460.0                                     6.54   \n",
       "                  53533.0                                     0.00   \n",
       "                  54541.0                                     1.95   \n",
       "                  54606.0                                     0.59   \n",
       "\n",
       "                           tackle_or_assist  pff_missedTackle  prediction  \n",
       "gameId     playId nflId                                                    \n",
       "2022090800 56     38577.0               0.0               0.0         0.0  \n",
       "                  41239.0               0.0               0.0         0.0  \n",
       "                  42816.0               0.0               0.0         0.0  \n",
       "                  43294.0               1.0               0.0         0.0  \n",
       "                  43298.0               0.0               0.0         0.0  \n",
       "...                                     ...               ...         ...  \n",
       "2022110700 3787   52627.0               0.0               0.0         0.0  \n",
       "                  53460.0               0.0               0.0         0.0  \n",
       "                  53533.0               0.0               0.0         0.0  \n",
       "                  54541.0               0.0               0.0         1.0  \n",
       "                  54606.0               0.0               0.0         0.0  \n",
       "\n",
       "[127941 rows x 6 columns]"
      ]
     },
     "execution_count": 24,
     "metadata": {},
     "output_type": "execute_result"
    }
   ],
   "source": [
    "result_data"
   ]
  },
  {
   "cell_type": "code",
   "execution_count": 25,
   "metadata": {},
   "outputs": [
    {
     "data": {
      "text/html": [
       "<div>\n",
       "<style scoped>\n",
       "    .dataframe tbody tr th:only-of-type {\n",
       "        vertical-align: middle;\n",
       "    }\n",
       "\n",
       "    .dataframe tbody tr th {\n",
       "        vertical-align: top;\n",
       "    }\n",
       "\n",
       "    .dataframe thead th {\n",
       "        text-align: right;\n",
       "    }\n",
       "</style>\n",
       "<table border=\"1\" class=\"dataframe\">\n",
       "  <thead>\n",
       "    <tr style=\"text-align: right;\">\n",
       "      <th></th>\n",
       "      <th>ott</th>\n",
       "      <th>mean_distance_to_ball_carrier_from_peak</th>\n",
       "      <th>ball_carrier_distance_won_to_last_frame</th>\n",
       "      <th>tackle_or_assist</th>\n",
       "      <th>pff_missedTackle</th>\n",
       "      <th>prediction</th>\n",
       "    </tr>\n",
       "    <tr>\n",
       "      <th>nflId</th>\n",
       "      <th></th>\n",
       "      <th></th>\n",
       "      <th></th>\n",
       "      <th></th>\n",
       "      <th></th>\n",
       "      <th></th>\n",
       "    </tr>\n",
       "  </thead>\n",
       "  <tbody>\n",
       "    <tr>\n",
       "      <th>42401.0</th>\n",
       "      <td>0.000421</td>\n",
       "      <td>19.369486</td>\n",
       "      <td>7.07</td>\n",
       "      <td>0.0</td>\n",
       "      <td>0.0</td>\n",
       "      <td>0.0</td>\n",
       "    </tr>\n",
       "    <tr>\n",
       "      <th>43986.0</th>\n",
       "      <td>0.795232</td>\n",
       "      <td>4.820028</td>\n",
       "      <td>6.44</td>\n",
       "      <td>0.0</td>\n",
       "      <td>1.0</td>\n",
       "      <td>1.0</td>\n",
       "    </tr>\n",
       "    <tr>\n",
       "      <th>44848.0</th>\n",
       "      <td>0.018716</td>\n",
       "      <td>8.442979</td>\n",
       "      <td>1.66</td>\n",
       "      <td>0.0</td>\n",
       "      <td>0.0</td>\n",
       "      <td>0.0</td>\n",
       "    </tr>\n",
       "    <tr>\n",
       "      <th>47816.0</th>\n",
       "      <td>1.076127</td>\n",
       "      <td>3.278709</td>\n",
       "      <td>5.02</td>\n",
       "      <td>1.0</td>\n",
       "      <td>0.0</td>\n",
       "      <td>1.0</td>\n",
       "    </tr>\n",
       "    <tr>\n",
       "      <th>47848.0</th>\n",
       "      <td>0.001377</td>\n",
       "      <td>16.561179</td>\n",
       "      <td>7.89</td>\n",
       "      <td>0.0</td>\n",
       "      <td>0.0</td>\n",
       "      <td>0.0</td>\n",
       "    </tr>\n",
       "    <tr>\n",
       "      <th>49410.0</th>\n",
       "      <td>0.012372</td>\n",
       "      <td>9.991531</td>\n",
       "      <td>3.07</td>\n",
       "      <td>0.0</td>\n",
       "      <td>0.0</td>\n",
       "      <td>0.0</td>\n",
       "    </tr>\n",
       "    <tr>\n",
       "      <th>52416.0</th>\n",
       "      <td>0.605927</td>\n",
       "      <td>2.162725</td>\n",
       "      <td>3.48</td>\n",
       "      <td>0.0</td>\n",
       "      <td>0.0</td>\n",
       "      <td>1.0</td>\n",
       "    </tr>\n",
       "    <tr>\n",
       "      <th>52522.0</th>\n",
       "      <td>0.003440</td>\n",
       "      <td>10.140932</td>\n",
       "      <td>7.43</td>\n",
       "      <td>0.0</td>\n",
       "      <td>0.0</td>\n",
       "      <td>0.0</td>\n",
       "    </tr>\n",
       "    <tr>\n",
       "      <th>53445.0</th>\n",
       "      <td>0.032192</td>\n",
       "      <td>5.606291</td>\n",
       "      <td>0.00</td>\n",
       "      <td>0.0</td>\n",
       "      <td>0.0</td>\n",
       "      <td>0.0</td>\n",
       "    </tr>\n",
       "    <tr>\n",
       "      <th>53565.0</th>\n",
       "      <td>0.000405</td>\n",
       "      <td>21.414975</td>\n",
       "      <td>7.59</td>\n",
       "      <td>0.0</td>\n",
       "      <td>0.0</td>\n",
       "      <td>0.0</td>\n",
       "    </tr>\n",
       "    <tr>\n",
       "      <th>54552.0</th>\n",
       "      <td>0.052747</td>\n",
       "      <td>3.155725</td>\n",
       "      <td>0.00</td>\n",
       "      <td>0.0</td>\n",
       "      <td>0.0</td>\n",
       "      <td>0.0</td>\n",
       "    </tr>\n",
       "  </tbody>\n",
       "</table>\n",
       "</div>"
      ],
      "text/plain": [
       "              ott  mean_distance_to_ball_carrier_from_peak  \\\n",
       "nflId                                                        \n",
       "42401.0  0.000421                                19.369486   \n",
       "43986.0  0.795232                                 4.820028   \n",
       "44848.0  0.018716                                 8.442979   \n",
       "47816.0  1.076127                                 3.278709   \n",
       "47848.0  0.001377                                16.561179   \n",
       "49410.0  0.012372                                 9.991531   \n",
       "52416.0  0.605927                                 2.162725   \n",
       "52522.0  0.003440                                10.140932   \n",
       "53445.0  0.032192                                 5.606291   \n",
       "53565.0  0.000405                                21.414975   \n",
       "54552.0  0.052747                                 3.155725   \n",
       "\n",
       "         ball_carrier_distance_won_to_last_frame  tackle_or_assist  \\\n",
       "nflId                                                                \n",
       "42401.0                                     7.07               0.0   \n",
       "43986.0                                     6.44               0.0   \n",
       "44848.0                                     1.66               0.0   \n",
       "47816.0                                     5.02               1.0   \n",
       "47848.0                                     7.89               0.0   \n",
       "49410.0                                     3.07               0.0   \n",
       "52416.0                                     3.48               0.0   \n",
       "52522.0                                     7.43               0.0   \n",
       "53445.0                                     0.00               0.0   \n",
       "53565.0                                     7.59               0.0   \n",
       "54552.0                                     0.00               0.0   \n",
       "\n",
       "         pff_missedTackle  prediction  \n",
       "nflId                                  \n",
       "42401.0               0.0         0.0  \n",
       "43986.0               1.0         1.0  \n",
       "44848.0               0.0         0.0  \n",
       "47816.0               0.0         1.0  \n",
       "47848.0               0.0         0.0  \n",
       "49410.0               0.0         0.0  \n",
       "52416.0               0.0         1.0  \n",
       "52522.0               0.0         0.0  \n",
       "53445.0               0.0         0.0  \n",
       "53565.0               0.0         0.0  \n",
       "54552.0               0.0         0.0  "
      ]
     },
     "execution_count": 25,
     "metadata": {},
     "output_type": "execute_result"
    }
   ],
   "source": [
    "result_data.loc[(2022100911,2915)]"
   ]
  },
  {
   "cell_type": "code",
   "execution_count": null,
   "metadata": {},
   "outputs": [],
   "source": []
  }
 ],
 "metadata": {
  "kernelspec": {
   "display_name": "nfl_bowl",
   "language": "python",
   "name": "python3"
  },
  "language_info": {
   "codemirror_mode": {
    "name": "ipython",
    "version": 3
   },
   "file_extension": ".py",
   "mimetype": "text/x-python",
   "name": "python",
   "nbconvert_exporter": "python",
   "pygments_lexer": "ipython3",
   "version": "3.10.13"
  }
 },
 "nbformat": 4,
 "nbformat_minor": 2
}
