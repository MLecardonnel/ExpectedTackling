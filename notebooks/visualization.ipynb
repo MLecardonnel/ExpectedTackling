{
 "cells": [
  {
   "cell_type": "code",
   "execution_count": 1,
   "metadata": {},
   "outputs": [],
   "source": [
    "%load_ext autoreload\n",
    "%autoreload 2"
   ]
  },
  {
   "cell_type": "code",
   "execution_count": 2,
   "metadata": {},
   "outputs": [
    {
     "name": "stderr",
     "output_type": "stream",
     "text": [
      "IProgress not found. Please update jupyter and ipywidgets. See https://ipywidgets.readthedocs.io/en/stable/user_install.html\n"
     ]
    }
   ],
   "source": [
    "import pandas as pd\n",
    "\n",
    "from expected_tackling.visualization import Field"
   ]
  },
  {
   "cell_type": "code",
   "execution_count": 3,
   "metadata": {},
   "outputs": [],
   "source": [
    "visualization_tracking_data = pd.read_csv(\"../data/visualization_tracking_data.csv\")"
   ]
  },
  {
   "cell_type": "code",
   "execution_count": 4,
   "metadata": {},
   "outputs": [],
   "source": [
    "tackling_probability = pd.read_csv(\"../data/tackling_probability.csv\")"
   ]
  },
  {
   "cell_type": "code",
   "execution_count": 6,
   "metadata": {},
   "outputs": [],
   "source": [
    "visualization_tracking_data = visualization_tracking_data.merge(tackling_probability, on=[\"gameId\", \"playId\", \"nflId\", \"frameId\"])"
   ]
  },
  {
   "cell_type": "code",
   "execution_count": 8,
   "metadata": {},
   "outputs": [
    {
     "data": {
      "text/html": [
       "<div>\n",
       "<style scoped>\n",
       "    .dataframe tbody tr th:only-of-type {\n",
       "        vertical-align: middle;\n",
       "    }\n",
       "\n",
       "    .dataframe tbody tr th {\n",
       "        vertical-align: top;\n",
       "    }\n",
       "\n",
       "    .dataframe thead th {\n",
       "        text-align: right;\n",
       "    }\n",
       "</style>\n",
       "<table border=\"1\" class=\"dataframe\">\n",
       "  <thead>\n",
       "    <tr style=\"text-align: right;\">\n",
       "      <th></th>\n",
       "      <th>gameId</th>\n",
       "      <th>playId</th>\n",
       "    </tr>\n",
       "  </thead>\n",
       "  <tbody>\n",
       "    <tr>\n",
       "      <th>0</th>\n",
       "      <td>2022090800</td>\n",
       "      <td>56</td>\n",
       "    </tr>\n",
       "    <tr>\n",
       "      <th>506</th>\n",
       "      <td>2022090800</td>\n",
       "      <td>80</td>\n",
       "    </tr>\n",
       "    <tr>\n",
       "      <th>1196</th>\n",
       "      <td>2022090800</td>\n",
       "      <td>101</td>\n",
       "    </tr>\n",
       "    <tr>\n",
       "      <th>2323</th>\n",
       "      <td>2022090800</td>\n",
       "      <td>122</td>\n",
       "    </tr>\n",
       "    <tr>\n",
       "      <th>3082</th>\n",
       "      <td>2022090800</td>\n",
       "      <td>146</td>\n",
       "    </tr>\n",
       "    <tr>\n",
       "      <th>4370</th>\n",
       "      <td>2022090800</td>\n",
       "      <td>167</td>\n",
       "    </tr>\n",
       "    <tr>\n",
       "      <th>4876</th>\n",
       "      <td>2022090800</td>\n",
       "      <td>191</td>\n",
       "    </tr>\n",
       "    <tr>\n",
       "      <th>6049</th>\n",
       "      <td>2022090800</td>\n",
       "      <td>212</td>\n",
       "    </tr>\n",
       "    <tr>\n",
       "      <th>6417</th>\n",
       "      <td>2022090800</td>\n",
       "      <td>236</td>\n",
       "    </tr>\n",
       "    <tr>\n",
       "      <th>6946</th>\n",
       "      <td>2022090800</td>\n",
       "      <td>299</td>\n",
       "    </tr>\n",
       "  </tbody>\n",
       "</table>\n",
       "</div>"
      ],
      "text/plain": [
       "          gameId  playId\n",
       "0     2022090800      56\n",
       "506   2022090800      80\n",
       "1196  2022090800     101\n",
       "2323  2022090800     122\n",
       "3082  2022090800     146\n",
       "4370  2022090800     167\n",
       "4876  2022090800     191\n",
       "6049  2022090800     212\n",
       "6417  2022090800     236\n",
       "6946  2022090800     299"
      ]
     },
     "execution_count": 8,
     "metadata": {},
     "output_type": "execute_result"
    }
   ],
   "source": [
    "visualization_tracking_data[[\"gameId\", \"playId\"]].drop_duplicates().head(10)"
   ]
  },
  {
   "cell_type": "code",
   "execution_count": 9,
   "metadata": {},
   "outputs": [],
   "source": [
    "test_play_tracking = visualization_tracking_data[(visualization_tracking_data[\"gameId\"]==2022090800) & (visualization_tracking_data[\"playId\"]==1385)]"
   ]
  },
  {
   "cell_type": "code",
   "execution_count": 10,
   "metadata": {},
   "outputs": [
    {
     "data": {
      "text/html": [
       "<div>\n",
       "<style scoped>\n",
       "    .dataframe tbody tr th:only-of-type {\n",
       "        vertical-align: middle;\n",
       "    }\n",
       "\n",
       "    .dataframe tbody tr th {\n",
       "        vertical-align: top;\n",
       "    }\n",
       "\n",
       "    .dataframe thead th {\n",
       "        text-align: right;\n",
       "    }\n",
       "</style>\n",
       "<table border=\"1\" class=\"dataframe\">\n",
       "  <thead>\n",
       "    <tr style=\"text-align: right;\">\n",
       "      <th></th>\n",
       "      <th>gameId</th>\n",
       "      <th>playId</th>\n",
       "      <th>nflId</th>\n",
       "      <th>frameId</th>\n",
       "      <th>club</th>\n",
       "      <th>x</th>\n",
       "      <th>y</th>\n",
       "      <th>playDirection</th>\n",
       "      <th>event</th>\n",
       "      <th>ball_carrier</th>\n",
       "      <th>...</th>\n",
       "      <th>defensiveTeam</th>\n",
       "      <th>absoluteYardlineNumber</th>\n",
       "      <th>yardsToGo</th>\n",
       "      <th>qbId</th>\n",
       "      <th>ball_carrier_id</th>\n",
       "      <th>is_defense</th>\n",
       "      <th>is_ball_carrying</th>\n",
       "      <th>position</th>\n",
       "      <th>displayName</th>\n",
       "      <th>tackling_probability</th>\n",
       "    </tr>\n",
       "  </thead>\n",
       "  <tbody>\n",
       "    <tr>\n",
       "      <th>28612</th>\n",
       "      <td>2022090800</td>\n",
       "      <td>1385</td>\n",
       "      <td>34452.0</td>\n",
       "      <td>1</td>\n",
       "      <td>LA</td>\n",
       "      <td>36.63</td>\n",
       "      <td>29.51</td>\n",
       "      <td>left</td>\n",
       "      <td>NaN</td>\n",
       "      <td>NaN</td>\n",
       "      <td>...</td>\n",
       "      <td>BUF</td>\n",
       "      <td>35</td>\n",
       "      <td>10</td>\n",
       "      <td>34452.0</td>\n",
       "      <td>NaN</td>\n",
       "      <td>False</td>\n",
       "      <td>False</td>\n",
       "      <td>QB</td>\n",
       "      <td>Matthew Stafford</td>\n",
       "      <td>0.0</td>\n",
       "    </tr>\n",
       "  </tbody>\n",
       "</table>\n",
       "<p>1 rows × 21 columns</p>\n",
       "</div>"
      ],
      "text/plain": [
       "           gameId  playId    nflId  frameId club      x      y playDirection  \\\n",
       "28612  2022090800    1385  34452.0        1   LA  36.63  29.51          left   \n",
       "\n",
       "      event ball_carrier  ...  defensiveTeam absoluteYardlineNumber  \\\n",
       "28612   NaN          NaN  ...            BUF                     35   \n",
       "\n",
       "       yardsToGo     qbId  ball_carrier_id  is_defense  is_ball_carrying  \\\n",
       "28612         10  34452.0              NaN       False             False   \n",
       "\n",
       "       position       displayName tackling_probability  \n",
       "28612        QB  Matthew Stafford                  0.0  \n",
       "\n",
       "[1 rows x 21 columns]"
      ]
     },
     "execution_count": 10,
     "metadata": {},
     "output_type": "execute_result"
    }
   ],
   "source": [
    "test_play_tracking.head(1)"
   ]
  },
  {
   "cell_type": "code",
   "execution_count": 11,
   "metadata": {},
   "outputs": [],
   "source": [
    "field = Field()\n",
    "field.draw_scrimmage_and_first_down(**test_play_tracking[[\"absoluteYardlineNumber\", \"yardsToGo\", \"playDirection\"]].iloc[0].to_dict())\n",
    "field.create_animation(test_play_tracking)"
   ]
  },
  {
   "cell_type": "code",
   "execution_count": 12,
   "metadata": {},
   "outputs": [
    {
     "data": {
      "application/vnd.plotly.v1+json": {
       "config": {
        "plotlyServerURL": "https://plot.ly"
       },
       "data": [
        {
         "hoverinfo": "none",
         "marker": {
          "color": "black",
          "size": 10
         },
         "mode": "markers",
         "name": "offense",
         "type": "scatter",
         "x": [
          36.63,
          35.58,
          36.25,
          36.02,
          36.63,
          36.08,
          35.57,
          36.22,
          42.41,
          36.02,
          36.78
         ],
         "y": [
          29.51,
          36.97,
          32.39,
          25.26,
          34.41,
          26.48,
          29.8,
          30.97,
          29.51,
          27.95,
          19.9
         ]
        },
        {
         "hoverinfo": "none",
         "marker": {
          "color": "yellow",
          "opacity": 0,
          "size": 10
         },
         "mode": "markers",
         "name": "ball_carrier",
         "type": "scatter",
         "x": [
          0
         ],
         "y": [
          0
         ]
        },
        {
         "hoverinfo": "none",
         "marker": {
          "color": "white",
          "size": 10
         },
         "mode": "markers",
         "name": "defense",
         "type": "scatter",
         "x": [
          34.36,
          22.26,
          22.43,
          34.51,
          29.98,
          29.73,
          31.68,
          34.5,
          34.15,
          34.42,
          34.88
         ],
         "y": [
          34.03,
          35,
          22.78,
          27.16,
          26.17,
          30.17,
          34.39,
          30.57,
          37.36,
          25.1,
          19.62
         ]
        }
       ],
       "frames": [
        {
         "data": [
          {
           "hoverinfo": "none",
           "marker": {
            "color": "black",
            "size": 10
           },
           "mode": "markers",
           "name": "offense",
           "type": "scatter",
           "x": [
            36.63,
            35.58,
            36.25,
            36.02,
            36.63,
            36.08,
            35.57,
            36.22,
            42.41,
            36.02,
            36.78
           ],
           "y": [
            29.51,
            36.97,
            32.39,
            25.26,
            34.41,
            26.48,
            29.8,
            30.97,
            29.51,
            27.95,
            19.9
           ]
          },
          {
           "hoverinfo": "none",
           "marker": {
            "color": "yellow",
            "opacity": 0,
            "size": 10
           },
           "mode": "markers",
           "name": "ball_carrier",
           "type": "scatter",
           "x": [
            0
           ],
           "y": [
            0
           ]
          },
          {
           "hoverinfo": "none",
           "marker": {
            "color": "white",
            "size": 10
           },
           "mode": "markers",
           "name": "defense",
           "type": "scatter",
           "x": [
            34.36,
            22.26,
            22.43,
            34.51,
            29.98,
            29.73,
            31.68,
            34.5,
            34.15,
            34.42,
            34.88
           ],
           "y": [
            34.03,
            35,
            22.78,
            27.16,
            26.17,
            30.17,
            34.39,
            30.57,
            37.36,
            25.1,
            19.62
           ]
          }
         ],
         "name": "1"
        },
        {
         "data": [
          {
           "hoverinfo": "none",
           "marker": {
            "color": "black",
            "size": 10
           },
           "mode": "markers",
           "name": "offense",
           "type": "scatter",
           "x": [
            36.63,
            35.58,
            36.25,
            36.02,
            36.63,
            36.08,
            35.57,
            36.22,
            42.41,
            36.02,
            36.78
           ],
           "y": [
            29.51,
            36.97,
            32.39,
            25.26,
            34.4,
            26.48,
            29.79,
            30.97,
            29.51,
            27.94,
            19.9
           ]
          },
          {
           "hoverinfo": "none",
           "marker": {
            "color": "yellow",
            "opacity": 0,
            "size": 10
           },
           "mode": "markers",
           "name": "ball_carrier",
           "type": "scatter",
           "x": [
            0
           ],
           "y": [
            0
           ]
          },
          {
           "hoverinfo": "none",
           "marker": {
            "color": "white",
            "size": 10
           },
           "mode": "markers",
           "name": "defense",
           "type": "scatter",
           "x": [
            34.35,
            22.24,
            22.44,
            34.52,
            29.98,
            29.73,
            31.67,
            34.49,
            34.14,
            34.43,
            34.88
           ],
           "y": [
            34.02,
            35,
            22.8,
            27.16,
            26.18,
            30.18,
            34.4,
            30.57,
            37.35,
            25.1,
            19.63
           ]
          }
         ],
         "name": "2"
        },
        {
         "data": [
          {
           "hoverinfo": "none",
           "marker": {
            "color": "black",
            "size": 10
           },
           "mode": "markers",
           "name": "offense",
           "type": "scatter",
           "x": [
            36.63,
            35.58,
            36.25,
            36.03,
            36.63,
            36.08,
            35.57,
            36.22,
            42.41,
            36.02,
            36.78
           ],
           "y": [
            29.51,
            36.97,
            32.39,
            25.26,
            34.4,
            26.47,
            29.78,
            30.97,
            29.52,
            27.94,
            19.9
           ]
          },
          {
           "hoverinfo": "none",
           "marker": {
            "color": "yellow",
            "opacity": 0,
            "size": 10
           },
           "mode": "markers",
           "name": "ball_carrier",
           "type": "scatter",
           "x": [
            0
           ],
           "y": [
            0
           ]
          },
          {
           "hoverinfo": "none",
           "marker": {
            "color": "white",
            "size": 10
           },
           "mode": "markers",
           "name": "defense",
           "type": "scatter",
           "x": [
            34.36,
            22.22,
            22.44,
            34.52,
            29.98,
            29.72,
            31.68,
            34.49,
            34.14,
            34.43,
            34.88
           ],
           "y": [
            34,
            34.99,
            22.8,
            27.16,
            26.18,
            30.17,
            34.41,
            30.58,
            37.36,
            25.1,
            19.62
           ]
          }
         ],
         "name": "3"
        },
        {
         "data": [
          {
           "hoverinfo": "none",
           "marker": {
            "color": "black",
            "size": 10
           },
           "mode": "markers",
           "name": "offense",
           "type": "scatter",
           "x": [
            36.63,
            35.58,
            36.24,
            36.03,
            36.64,
            36.08,
            35.56,
            36.21,
            42.41,
            36.03,
            36.78
           ],
           "y": [
            29.51,
            36.97,
            32.38,
            25.26,
            34.4,
            26.45,
            29.76,
            30.96,
            29.52,
            27.91,
            19.91
           ]
          },
          {
           "hoverinfo": "none",
           "marker": {
            "color": "yellow",
            "opacity": 0,
            "size": 10
           },
           "mode": "markers",
           "name": "ball_carrier",
           "type": "scatter",
           "x": [
            0
           ],
           "y": [
            0
           ]
          },
          {
           "hoverinfo": "none",
           "marker": {
            "color": "white",
            "size": 10
           },
           "mode": "markers",
           "name": "defense",
           "type": "scatter",
           "x": [
            34.38,
            22.23,
            22.44,
            34.56,
            29.99,
            29.71,
            31.69,
            34.49,
            34.13,
            34.44,
            34.87
           ],
           "y": [
            33.98,
            34.97,
            22.81,
            27.16,
            26.17,
            30.17,
            34.41,
            30.57,
            37.36,
            25.1,
            19.63
           ]
          }
         ],
         "name": "4"
        },
        {
         "data": [
          {
           "hoverinfo": "none",
           "marker": {
            "color": "black",
            "size": 10
           },
           "mode": "markers",
           "name": "offense",
           "type": "scatter",
           "x": [
            36.64,
            35.58,
            36.23,
            36.02,
            36.64,
            36.08,
            35.54,
            36.2,
            42.41,
            36.04,
            36.78
           ],
           "y": [
            29.5,
            36.98,
            32.37,
            25.26,
            34.39,
            26.42,
            29.67,
            30.94,
            29.52,
            27.87,
            19.91
           ]
          },
          {
           "hoverinfo": "none",
           "marker": {
            "color": "yellow",
            "opacity": 0,
            "size": 10
           },
           "mode": "markers",
           "name": "ball_carrier",
           "type": "scatter",
           "x": [
            0
           ],
           "y": [
            0
           ]
          },
          {
           "hoverinfo": "none",
           "marker": {
            "color": "white",
            "size": 10
           },
           "mode": "markers",
           "name": "defense",
           "type": "scatter",
           "x": [
            34.41,
            22.24,
            22.43,
            34.58,
            29.99,
            29.71,
            31.69,
            34.5,
            34.14,
            34.45,
            34.87
           ],
           "y": [
            33.95,
            34.96,
            22.82,
            27.16,
            26.17,
            30.17,
            34.39,
            30.56,
            37.36,
            25.1,
            19.63
           ]
          }
         ],
         "name": "5"
        },
        {
         "data": [
          {
           "hoverinfo": "none",
           "marker": {
            "color": "black",
            "size": 10
           },
           "mode": "markers",
           "name": "offense",
           "type": "scatter",
           "x": [
            35.57,
            36.21,
            36.02,
            36.64,
            36.09,
            35.51,
            36.2,
            42.4,
            36.05,
            36.77
           ],
           "y": [
            36.98,
            32.35,
            25.24,
            34.37,
            26.37,
            29.57,
            30.92,
            29.52,
            27.78,
            19.9
           ]
          },
          {
           "hoverinfo": "none",
           "marker": {
            "color": "yellow",
            "opacity": 1,
            "size": 10
           },
           "mode": "markers",
           "name": "ball_carrier",
           "type": "scatter",
           "x": [
            36.64
           ],
           "y": [
            29.5
           ]
          },
          {
           "hoverinfo": "none",
           "marker": {
            "color": "white",
            "size": 10
           },
           "mode": "markers",
           "name": "defense",
           "type": "scatter",
           "x": [
            34.44,
            22.25,
            22.41,
            34.62,
            30,
            29.71,
            31.71,
            34.52,
            34.14,
            34.46,
            34.84
           ],
           "y": [
            33.93,
            34.94,
            22.83,
            27.17,
            26.15,
            30.16,
            34.41,
            30.54,
            37.37,
            25.1,
            19.63
           ]
          }
         ],
         "name": "6"
        },
        {
         "data": [
          {
           "hoverinfo": "none",
           "marker": {
            "color": "black",
            "size": 10
           },
           "mode": "markers",
           "name": "offense",
           "type": "scatter",
           "x": [
            35.57,
            36.17,
            36.01,
            36.65,
            36.1,
            35.46,
            36.17,
            42.4,
            36.08,
            36.77
           ],
           "y": [
            36.98,
            32.31,
            25.22,
            34.36,
            26.28,
            29.43,
            30.87,
            29.51,
            27.68,
            19.91
           ]
          },
          {
           "hoverinfo": "none",
           "marker": {
            "color": "yellow",
            "opacity": 1,
            "size": 10
           },
           "mode": "markers",
           "name": "ball_carrier",
           "type": "scatter",
           "x": [
            36.66
           ],
           "y": [
            29.49
           ]
          },
          {
           "hoverinfo": "none",
           "marker": {
            "color": "white",
            "size": 10
           },
           "mode": "markers",
           "name": "defense",
           "type": "scatter",
           "x": [
            34.5,
            22.26,
            22.38,
            34.7,
            30.01,
            29.71,
            31.72,
            34.55,
            34.14,
            34.47,
            34.82
           ],
           "y": [
            33.87,
            34.92,
            22.83,
            27.17,
            26.14,
            30.16,
            34.41,
            30.51,
            37.38,
            25.09,
            19.62
           ]
          }
         ],
         "name": "7"
        },
        {
         "data": [
          {
           "hoverinfo": "none",
           "marker": {
            "color": "black",
            "size": 10
           },
           "mode": "markers",
           "name": "offense",
           "type": "scatter",
           "x": [
            35.56,
            36.11,
            35.99,
            36.66,
            36.1,
            35.41,
            36.11,
            42.4,
            36.12,
            36.75
           ],
           "y": [
            36.98,
            32.25,
            25.18,
            34.3,
            26.11,
            29.27,
            30.74,
            29.5,
            27.54,
            19.9
           ]
          },
          {
           "hoverinfo": "none",
           "marker": {
            "color": "yellow",
            "opacity": 1,
            "size": 10
           },
           "mode": "markers",
           "name": "ball_carrier",
           "type": "scatter",
           "x": [
            36.7
           ],
           "y": [
            29.46
           ]
          },
          {
           "hoverinfo": "none",
           "marker": {
            "color": "white",
            "size": 10
           },
           "mode": "markers",
           "name": "defense",
           "type": "scatter",
           "x": [
            34.57,
            22.26,
            22.36,
            34.81,
            30.02,
            29.72,
            31.72,
            34.6,
            34.14,
            34.49,
            34.8
           ],
           "y": [
            33.8,
            34.91,
            22.83,
            27.18,
            26.13,
            30.16,
            34.41,
            30.46,
            37.39,
            25.07,
            19.6
           ]
          }
         ],
         "name": "8"
        },
        {
         "data": [
          {
           "hoverinfo": "none",
           "marker": {
            "color": "black",
            "size": 10
           },
           "mode": "markers",
           "name": "offense",
           "type": "scatter",
           "x": [
            35.54,
            36.03,
            35.96,
            36.66,
            36.11,
            35.34,
            36.04,
            42.38,
            36.16,
            36.72
           ],
           "y": [
            36.98,
            32.18,
            25.08,
            34.21,
            25.93,
            29.07,
            30.55,
            29.43,
            27.37,
            19.9
           ]
          },
          {
           "hoverinfo": "none",
           "marker": {
            "color": "yellow",
            "opacity": 1,
            "size": 10
           },
           "mode": "markers",
           "name": "ball_carrier",
           "type": "scatter",
           "x": [
            36.8
           ],
           "y": [
            29.41
           ]
          },
          {
           "hoverinfo": "none",
           "marker": {
            "color": "white",
            "size": 10
           },
           "mode": "markers",
           "name": "defense",
           "type": "scatter",
           "x": [
            34.66,
            22.25,
            22.34,
            34.95,
            30.03,
            29.74,
            31.71,
            34.68,
            34.13,
            34.52,
            34.8
           ],
           "y": [
            33.7,
            34.9,
            22.83,
            27.19,
            26.1,
            30.13,
            34.34,
            30.36,
            37.41,
            25.06,
            19.6
           ]
          }
         ],
         "name": "9"
        },
        {
         "data": [
          {
           "hoverinfo": "none",
           "marker": {
            "color": "black",
            "size": 10
           },
           "mode": "markers",
           "name": "offense",
           "type": "scatter",
           "x": [
            35.51,
            35.93,
            35.91,
            36.67,
            36.12,
            35.25,
            35.96,
            42.35,
            36.23,
            36.63
           ],
           "y": [
            36.99,
            32.05,
            24.94,
            34.05,
            25.71,
            28.83,
            30.31,
            29.31,
            27.19,
            19.87
           ]
          },
          {
           "hoverinfo": "none",
           "marker": {
            "color": "yellow",
            "opacity": 1,
            "size": 10
           },
           "mode": "markers",
           "name": "ball_carrier",
           "type": "scatter",
           "x": [
            36.9
           ],
           "y": [
            29.36
           ]
          },
          {
           "hoverinfo": "none",
           "marker": {
            "color": "white",
            "size": 10
           },
           "mode": "markers",
           "name": "defense",
           "type": "scatter",
           "x": [
            34.76,
            22.23,
            22.32,
            35.15,
            30.06,
            29.77,
            31.74,
            34.77,
            34.13,
            34.57,
            34.79
           ],
           "y": [
            33.58,
            34.88,
            22.83,
            27.15,
            26.04,
            30.07,
            34.3,
            30.21,
            37.45,
            25.04,
            19.58
           ]
          }
         ],
         "name": "10"
        },
        {
         "data": [
          {
           "hoverinfo": "none",
           "marker": {
            "color": "black",
            "size": 10
           },
           "mode": "markers",
           "name": "offense",
           "type": "scatter",
           "x": [
            35.45,
            35.82,
            35.84,
            36.68,
            36.11,
            35.14,
            35.85,
            42.32,
            36.3,
            36.5
           ],
           "y": [
            36.97,
            31.91,
            24.76,
            33.83,
            25.47,
            28.56,
            30.03,
            29.11,
            27.01,
            19.82
           ]
          },
          {
           "hoverinfo": "none",
           "marker": {
            "color": "yellow",
            "opacity": 1,
            "size": 10
           },
           "mode": "markers",
           "name": "ball_carrier",
           "type": "scatter",
           "x": [
            37.07
           ],
           "y": [
            29.27
           ]
          },
          {
           "hoverinfo": "none",
           "marker": {
            "color": "white",
            "size": 10
           },
           "mode": "markers",
           "name": "defense",
           "type": "scatter",
           "x": [
            34.9,
            22.19,
            22.29,
            35.36,
            30.11,
            29.82,
            31.75,
            34.88,
            34.11,
            34.65,
            34.77
           ],
           "y": [
            33.43,
            34.86,
            22.82,
            27.13,
            25.93,
            29.91,
            34.28,
            30.04,
            37.5,
            24.98,
            19.54
           ]
          }
         ],
         "name": "11"
        },
        {
         "data": [
          {
           "hoverinfo": "none",
           "marker": {
            "color": "black",
            "size": 10
           },
           "mode": "markers",
           "name": "offense",
           "type": "scatter",
           "x": [
            35.38,
            35.71,
            35.76,
            36.69,
            36.1,
            35.02,
            35.76,
            42.27,
            36.4,
            36.32
           ],
           "y": [
            36.94,
            31.75,
            24.54,
            33.54,
            25.18,
            28.26,
            29.69,
            28.87,
            26.83,
            19.73
           ]
          },
          {
           "hoverinfo": "none",
           "marker": {
            "color": "yellow",
            "opacity": 1,
            "size": 10
           },
           "mode": "markers",
           "name": "ball_carrier",
           "type": "scatter",
           "x": [
            37.27
           ],
           "y": [
            29.17
           ]
          },
          {
           "hoverinfo": "none",
           "marker": {
            "color": "white",
            "size": 10
           },
           "mode": "markers",
           "name": "defense",
           "type": "scatter",
           "x": [
            35.06,
            22.13,
            22.25,
            35.6,
            30.17,
            29.88,
            31.76,
            35.02,
            34.09,
            34.77,
            34.74
           ],
           "y": [
            33.26,
            34.84,
            22.79,
            27.09,
            25.75,
            29.72,
            34.24,
            29.83,
            37.56,
            24.9,
            19.47
           ]
          }
         ],
         "name": "12"
        },
        {
         "data": [
          {
           "hoverinfo": "none",
           "marker": {
            "color": "black",
            "size": 10
           },
           "mode": "markers",
           "name": "offense",
           "type": "scatter",
           "x": [
            35.29,
            35.57,
            35.66,
            36.7,
            36.08,
            34.87,
            35.66,
            42.23,
            36.52,
            36.12
           ],
           "y": [
            36.9,
            31.54,
            24.29,
            33.22,
            24.88,
            27.91,
            29.35,
            28.55,
            26.65,
            19.63
           ]
          },
          {
           "hoverinfo": "none",
           "marker": {
            "color": "yellow",
            "opacity": 1,
            "size": 10
           },
           "mode": "markers",
           "name": "ball_carrier",
           "type": "scatter",
           "x": [
            37.53
           ],
           "y": [
            29.07
           ]
          },
          {
           "hoverinfo": "none",
           "marker": {
            "color": "white",
            "size": 10
           },
           "mode": "markers",
           "name": "defense",
           "type": "scatter",
           "x": [
            35.26,
            22.04,
            22.19,
            35.88,
            30.26,
            29.96,
            31.79,
            35.16,
            34.06,
            34.9,
            34.68
           ],
           "y": [
            33.07,
            34.81,
            22.74,
            27.04,
            25.51,
            29.5,
            34.18,
            29.6,
            37.62,
            24.81,
            19.36
           ]
          }
         ],
         "name": "13"
        },
        {
         "data": [
          {
           "hoverinfo": "none",
           "marker": {
            "color": "black",
            "size": 10
           },
           "mode": "markers",
           "name": "offense",
           "type": "scatter",
           "x": [
            35.18,
            35.41,
            35.54,
            36.7,
            36.07,
            34.72,
            35.55,
            42.18,
            36.64,
            35.88
           ],
           "y": [
            36.86,
            31.32,
            24.02,
            32.84,
            24.57,
            27.56,
            28.98,
            28.18,
            26.47,
            19.5
           ]
          },
          {
           "hoverinfo": "none",
           "marker": {
            "color": "yellow",
            "opacity": 1,
            "size": 10
           },
           "mode": "markers",
           "name": "ball_carrier",
           "type": "scatter",
           "x": [
            37.81
           ],
           "y": [
            28.96
           ]
          },
          {
           "hoverinfo": "none",
           "marker": {
            "color": "white",
            "size": 10
           },
           "mode": "markers",
           "name": "defense",
           "type": "scatter",
           "x": [
            35.49,
            21.94,
            22.13,
            36.17,
            30.38,
            30.07,
            31.82,
            35.32,
            34.02,
            35.05,
            34.62
           ],
           "y": [
            32.88,
            34.77,
            22.65,
            26.98,
            25.21,
            29.16,
            34.09,
            29.32,
            37.67,
            24.69,
            19.22
           ]
          }
         ],
         "name": "14"
        },
        {
         "data": [
          {
           "hoverinfo": "none",
           "marker": {
            "color": "black",
            "size": 10
           },
           "mode": "markers",
           "name": "offense",
           "type": "scatter",
           "x": [
            35.05,
            35.24,
            35.39,
            36.69,
            36.06,
            34.54,
            35.46,
            42.13,
            36.8,
            35.62
           ],
           "y": [
            36.78,
            31.08,
            23.71,
            32.42,
            24.25,
            27.18,
            28.6,
            27.73,
            26.32,
            19.35
           ]
          },
          {
           "hoverinfo": "none",
           "marker": {
            "color": "yellow",
            "opacity": 1,
            "size": 10
           },
           "mode": "markers",
           "name": "ball_carrier",
           "type": "scatter",
           "x": [
            38.13
           ],
           "y": [
            28.86
           ]
          },
          {
           "hoverinfo": "none",
           "marker": {
            "color": "white",
            "size": 10
           },
           "mode": "markers",
           "name": "defense",
           "type": "scatter",
           "x": [
            35.77,
            21.82,
            22.08,
            36.48,
            30.54,
            30.18,
            31.87,
            35.46,
            33.97,
            35.22,
            34.53
           ],
           "y": [
            32.68,
            34.71,
            22.49,
            26.9,
            24.83,
            28.78,
            33.95,
            29.02,
            37.71,
            24.55,
            19.04
           ]
          }
         ],
         "name": "15"
        },
        {
         "data": [
          {
           "hoverinfo": "none",
           "marker": {
            "color": "black",
            "size": 10
           },
           "mode": "markers",
           "name": "offense",
           "type": "scatter",
           "x": [
            34.91,
            35.08,
            35.23,
            36.67,
            36.07,
            34.34,
            35.38,
            42.07,
            36.96,
            35.35
           ],
           "y": [
            36.68,
            30.82,
            23.37,
            31.96,
            23.93,
            26.78,
            28.21,
            27.24,
            26.18,
            19.18
           ]
          },
          {
           "hoverinfo": "none",
           "marker": {
            "color": "yellow",
            "opacity": 1,
            "size": 10
           },
           "mode": "markers",
           "name": "ball_carrier",
           "type": "scatter",
           "x": [
            38.47
           ],
           "y": [
            28.76
           ]
          },
          {
           "hoverinfo": "none",
           "marker": {
            "color": "white",
            "size": 10
           },
           "mode": "markers",
           "name": "defense",
           "type": "scatter",
           "x": [
            36.06,
            21.68,
            22.03,
            36.79,
            30.71,
            30.3,
            31.92,
            35.6,
            33.9,
            35.4,
            34.44
           ],
           "y": [
            32.49,
            34.63,
            22.31,
            26.8,
            24.4,
            28.35,
            33.75,
            28.69,
            37.72,
            24.38,
            18.83
           ]
          }
         ],
         "name": "16"
        },
        {
         "data": [
          {
           "hoverinfo": "none",
           "marker": {
            "color": "black",
            "size": 10
           },
           "mode": "markers",
           "name": "offense",
           "type": "scatter",
           "x": [
            34.76,
            34.89,
            35.05,
            36.65,
            36.11,
            34.13,
            35.32,
            42.02,
            37.13,
            35.09
           ],
           "y": [
            36.56,
            30.53,
            23.03,
            31.49,
            23.62,
            26.37,
            27.82,
            26.69,
            26.06,
            18.97
           ]
          },
          {
           "hoverinfo": "none",
           "marker": {
            "color": "yellow",
            "opacity": 1,
            "size": 10
           },
           "mode": "markers",
           "name": "ball_carrier",
           "type": "scatter",
           "x": [
            38.83
           ],
           "y": [
            28.69
           ]
          },
          {
           "hoverinfo": "none",
           "marker": {
            "color": "white",
            "size": 10
           },
           "mode": "markers",
           "name": "defense",
           "type": "scatter",
           "x": [
            36.38,
            21.55,
            22,
            37.11,
            30.91,
            30.4,
            31.98,
            35.75,
            33.82,
            35.59,
            34.34
           ],
           "y": [
            32.28,
            34.52,
            22.08,
            26.69,
            23.93,
            27.86,
            33.5,
            28.34,
            37.7,
            24.19,
            18.57
           ]
          }
         ],
         "name": "17"
        },
        {
         "data": [
          {
           "hoverinfo": "none",
           "marker": {
            "color": "black",
            "size": 10
           },
           "mode": "markers",
           "name": "offense",
           "type": "scatter",
           "x": [
            39.21,
            34.59,
            34.7,
            34.88,
            36.63,
            36.15,
            33.9,
            35.28,
            37.31,
            34.83
           ],
           "y": [
            28.64,
            36.41,
            30.23,
            22.63,
            31,
            23.31,
            25.94,
            27.44,
            25.94,
            18.75
           ]
          },
          {
           "hoverinfo": "none",
           "marker": {
            "color": "yellow",
            "opacity": 1,
            "size": 10
           },
           "mode": "markers",
           "name": "ball_carrier",
           "type": "scatter",
           "x": [
            41.97
           ],
           "y": [
            26.11
           ]
          },
          {
           "hoverinfo": "none",
           "marker": {
            "color": "white",
            "size": 10
           },
           "mode": "markers",
           "name": "defense",
           "type": "scatter",
           "x": [
            36.71,
            21.41,
            21.98,
            37.45,
            31.12,
            30.5,
            32.06,
            35.9,
            33.72,
            35.79,
            34.24
           ],
           "y": [
            32.05,
            34.39,
            21.81,
            26.58,
            23.42,
            27.32,
            33.2,
            27.94,
            37.65,
            23.99,
            18.29
           ]
          }
         ],
         "name": "18"
        },
        {
         "data": [
          {
           "hoverinfo": "none",
           "marker": {
            "color": "black",
            "size": 10
           },
           "mode": "markers",
           "name": "offense",
           "type": "scatter",
           "x": [
            39.59,
            34.41,
            34.51,
            34.69,
            36.62,
            36.21,
            33.66,
            35.28,
            37.49,
            34.6
           ],
           "y": [
            28.63,
            36.23,
            29.93,
            22.23,
            30.51,
            23.02,
            25.49,
            27.03,
            25.84,
            18.49
           ]
          },
          {
           "hoverinfo": "none",
           "marker": {
            "color": "yellow",
            "opacity": 1,
            "size": 10
           },
           "mode": "markers",
           "name": "ball_carrier",
           "type": "scatter",
           "x": [
            41.93
           ],
           "y": [
            25.5
           ]
          },
          {
           "hoverinfo": "none",
           "marker": {
            "color": "white",
            "size": 10
           },
           "mode": "markers",
           "name": "defense",
           "type": "scatter",
           "x": [
            37.03,
            21.28,
            21.98,
            37.77,
            31.35,
            30.6,
            32.14,
            36.04,
            33.6,
            36.02,
            34.14
           ],
           "y": [
            31.79,
            34.22,
            21.5,
            26.47,
            22.88,
            26.76,
            32.86,
            27.53,
            37.54,
            23.74,
            17.97
           ]
          }
         ],
         "name": "19"
        },
        {
         "data": [
          {
           "hoverinfo": "none",
           "marker": {
            "color": "black",
            "size": 10
           },
           "mode": "markers",
           "name": "offense",
           "type": "scatter",
           "x": [
            39.97,
            34.21,
            34.32,
            34.5,
            36.62,
            36.3,
            33.41,
            35.29,
            37.7,
            34.4
           ],
           "y": [
            28.66,
            36.04,
            29.63,
            21.82,
            30.03,
            22.73,
            25.02,
            26.61,
            25.73,
            18.21
           ]
          },
          {
           "hoverinfo": "none",
           "marker": {
            "color": "yellow",
            "opacity": 1,
            "size": 10
           },
           "mode": "markers",
           "name": "ball_carrier",
           "type": "scatter",
           "x": [
            41.88
           ],
           "y": [
            24.86
           ]
          },
          {
           "hoverinfo": "none",
           "marker": {
            "color": "white",
            "size": 10
           },
           "mode": "markers",
           "name": "defense",
           "type": "scatter",
           "x": [
            37.33,
            21.18,
            22.01,
            38.08,
            31.58,
            30.67,
            32.22,
            36.16,
            33.45,
            36.26,
            34.04
           ],
           "y": [
            31.51,
            34.02,
            21.14,
            26.36,
            22.31,
            26.17,
            32.48,
            27.1,
            37.39,
            23.46,
            17.61
           ]
          }
         ],
         "name": "20"
        },
        {
         "data": [
          {
           "hoverinfo": "none",
           "marker": {
            "color": "black",
            "size": 10
           },
           "mode": "markers",
           "name": "offense",
           "type": "scatter",
           "x": [
            40.35,
            34.01,
            34.11,
            34.32,
            36.63,
            36.42,
            33.16,
            35.35,
            37.9,
            34.24
           ],
           "y": [
            28.74,
            35.84,
            29.3,
            21.39,
            29.56,
            22.45,
            24.55,
            26.17,
            25.63,
            17.91
           ]
          },
          {
           "hoverinfo": "none",
           "marker": {
            "color": "yellow",
            "opacity": 1,
            "size": 10
           },
           "mode": "markers",
           "name": "ball_carrier",
           "type": "scatter",
           "x": [
            41.81
           ],
           "y": [
            24.2
           ]
          },
          {
           "hoverinfo": "none",
           "marker": {
            "color": "white",
            "size": 10
           },
           "mode": "markers",
           "name": "defense",
           "type": "scatter",
           "x": [
            37.62,
            21.08,
            22.08,
            38.39,
            31.83,
            30.74,
            32.3,
            36.28,
            33.28,
            36.53,
            33.95
           ],
           "y": [
            31.19,
            33.79,
            20.74,
            26.22,
            21.72,
            25.55,
            32.09,
            26.62,
            37.19,
            23.18,
            17.23
           ]
          }
         ],
         "name": "21"
        },
        {
         "data": [
          {
           "hoverinfo": "none",
           "marker": {
            "color": "black",
            "size": 10
           },
           "mode": "markers",
           "name": "offense",
           "type": "scatter",
           "x": [
            40.71,
            33.8,
            33.91,
            34.16,
            36.67,
            36.54,
            32.9,
            35.41,
            38.1,
            34.1
           ],
           "y": [
            28.86,
            35.61,
            28.99,
            20.94,
            29.11,
            22.18,
            24.03,
            25.75,
            25.53,
            17.59
           ]
          },
          {
           "hoverinfo": "none",
           "marker": {
            "color": "yellow",
            "opacity": 1,
            "size": 10
           },
           "mode": "markers",
           "name": "ball_carrier",
           "type": "scatter",
           "x": [
            41.73
           ],
           "y": [
            23.54
           ]
          },
          {
           "hoverinfo": "none",
           "marker": {
            "color": "white",
            "size": 10
           },
           "mode": "markers",
           "name": "defense",
           "type": "scatter",
           "x": [
            37.87,
            21.01,
            22.19,
            38.7,
            32.09,
            30.81,
            32.38,
            36.4,
            33.1,
            36.79,
            33.88
           ],
           "y": [
            30.86,
            33.53,
            20.31,
            26.08,
            21.13,
            24.93,
            31.67,
            26.12,
            36.96,
            22.88,
            16.83
           ]
          }
         ],
         "name": "22"
        },
        {
         "data": [
          {
           "hoverinfo": "none",
           "marker": {
            "color": "black",
            "size": 10
           },
           "mode": "markers",
           "name": "offense",
           "type": "scatter",
           "x": [
            41.04,
            33.58,
            33.71,
            34.03,
            36.72,
            36.69,
            32.66,
            35.49,
            38.32,
            33.99
           ],
           "y": [
            29.03,
            35.37,
            28.67,
            20.48,
            28.69,
            21.92,
            23.54,
            25.3,
            25.42,
            17.24
           ]
          },
          {
           "hoverinfo": "none",
           "marker": {
            "color": "yellow",
            "opacity": 1,
            "size": 10
           },
           "mode": "markers",
           "name": "ball_carrier",
           "type": "scatter",
           "x": [
            41.63
           ],
           "y": [
            22.85
           ]
          },
          {
           "hoverinfo": "none",
           "marker": {
            "color": "white",
            "size": 10
           },
           "mode": "markers",
           "name": "defense",
           "type": "scatter",
           "x": [
            38.1,
            20.95,
            22.34,
            39.04,
            32.35,
            30.88,
            32.45,
            36.51,
            32.89,
            37.08,
            33.82
           ],
           "y": [
            30.5,
            33.23,
            19.86,
            25.9,
            20.53,
            24.32,
            31.23,
            25.61,
            36.7,
            22.56,
            16.42
           ]
          }
         ],
         "name": "23"
        },
        {
         "data": [
          {
           "hoverinfo": "none",
           "marker": {
            "color": "black",
            "size": 10
           },
           "mode": "markers",
           "name": "offense",
           "type": "scatter",
           "x": [
            41.35,
            33.36,
            33.52,
            33.95,
            36.79,
            36.87,
            32.43,
            35.58,
            38.55,
            33.92
           ],
           "y": [
            29.24,
            35.09,
            28.36,
            20,
            28.28,
            21.66,
            23.02,
            24.85,
            25.3,
            16.87
           ]
          },
          {
           "hoverinfo": "none",
           "marker": {
            "color": "yellow",
            "opacity": 1,
            "size": 10
           },
           "mode": "markers",
           "name": "ball_carrier",
           "type": "scatter",
           "x": [
            41.49
           ],
           "y": [
            22.15
           ]
          },
          {
           "hoverinfo": "none",
           "marker": {
            "color": "white",
            "size": 10
           },
           "mode": "markers",
           "name": "defense",
           "type": "scatter",
           "x": [
            38.27,
            20.91,
            22.52,
            39.35,
            32.63,
            30.93,
            32.5,
            36.59,
            32.64,
            37.38,
            33.79
           ],
           "y": [
            30.13,
            32.89,
            19.4,
            25.71,
            19.92,
            23.71,
            30.78,
            25.06,
            36.4,
            22.22,
            16
           ]
          }
         ],
         "name": "24"
        },
        {
         "data": [
          {
           "hoverinfo": "none",
           "marker": {
            "color": "black",
            "size": 10
           },
           "mode": "markers",
           "name": "offense",
           "type": "scatter",
           "x": [
            41.62,
            33.12,
            33.36,
            33.95,
            36.88,
            37.07,
            32.22,
            35.68,
            38.78,
            33.89
           ],
           "y": [
            29.47,
            34.8,
            28.05,
            19.51,
            27.91,
            21.4,
            22.5,
            24.38,
            25.18,
            16.48
           ]
          },
          {
           "hoverinfo": "none",
           "marker": {
            "color": "yellow",
            "opacity": 1,
            "size": 10
           },
           "mode": "markers",
           "name": "ball_carrier",
           "type": "scatter",
           "x": [
            41.31
           ],
           "y": [
            21.45
           ]
          },
          {
           "hoverinfo": "none",
           "marker": {
            "color": "white",
            "size": 10
           },
           "mode": "markers",
           "name": "defense",
           "type": "scatter",
           "x": [
            38.4,
            20.88,
            22.75,
            39.65,
            32.92,
            30.97,
            32.54,
            36.66,
            32.37,
            37.71,
            33.78
           ],
           "y": [
            29.72,
            32.52,
            18.91,
            25.53,
            19.3,
            23.1,
            30.32,
            24.49,
            36.07,
            21.84,
            15.58
           ]
          }
         ],
         "name": "25"
        },
        {
         "data": [
          {
           "hoverinfo": "none",
           "marker": {
            "color": "black",
            "size": 10
           },
           "mode": "markers",
           "name": "offense",
           "type": "scatter",
           "x": [
            41.86,
            32.89,
            33.2,
            33.98,
            36.97,
            37.29,
            32.02,
            35.78,
            39.02,
            33.88
           ],
           "y": [
            29.74,
            34.48,
            27.75,
            19.03,
            27.56,
            21.13,
            21.98,
            23.88,
            25.02,
            16.07
           ]
          },
          {
           "hoverinfo": "none",
           "marker": {
            "color": "yellow",
            "opacity": 1,
            "size": 10
           },
           "mode": "markers",
           "name": "ball_carrier",
           "type": "scatter",
           "x": [
            41.11
           ],
           "y": [
            20.76
           ]
          },
          {
           "hoverinfo": "none",
           "marker": {
            "color": "white",
            "size": 10
           },
           "mode": "markers",
           "name": "defense",
           "type": "scatter",
           "x": [
            38.48,
            20.86,
            23.03,
            39.94,
            33.21,
            30.99,
            32.56,
            36.72,
            32.09,
            38.04,
            33.79
           ],
           "y": [
            29.3,
            32.1,
            18.42,
            25.28,
            18.69,
            22.5,
            29.85,
            23.91,
            35.71,
            21.45,
            15.15
           ]
          }
         ],
         "name": "26"
        },
        {
         "data": [
          {
           "hoverinfo": "none",
           "marker": {
            "color": "black",
            "size": 10
           },
           "mode": "markers",
           "name": "offense",
           "type": "scatter",
           "x": [
            42.07,
            32.65,
            33.05,
            34.05,
            37.07,
            37.53,
            31.84,
            35.87,
            39.26,
            33.9
           ],
           "y": [
            30.02,
            34.14,
            27.45,
            18.54,
            27.24,
            20.87,
            21.45,
            23.39,
            24.84,
            15.64
           ]
          },
          {
           "hoverinfo": "none",
           "marker": {
            "color": "yellow",
            "opacity": 1,
            "size": 10
           },
           "mode": "markers",
           "name": "ball_carrier",
           "type": "scatter",
           "x": [
            40.88
           ],
           "y": [
            20.08
           ]
          },
          {
           "hoverinfo": "none",
           "marker": {
            "color": "white",
            "size": 10
           },
           "mode": "markers",
           "name": "defense",
           "type": "scatter",
           "x": [
            38.52,
            20.84,
            23.35,
            40.22,
            33.51,
            30.99,
            32.56,
            36.76,
            31.79,
            38.39,
            33.83
           ],
           "y": [
            28.87,
            31.63,
            17.92,
            24.97,
            18.07,
            21.89,
            29.39,
            23.32,
            35.33,
            21.03,
            14.71
           ]
          }
         ],
         "name": "27"
        },
        {
         "data": [
          {
           "hoverinfo": "none",
           "marker": {
            "color": "black",
            "size": 10
           },
           "mode": "markers",
           "name": "offense",
           "type": "scatter",
           "x": [
            42.25,
            32.4,
            32.9,
            34.16,
            37.17,
            37.8,
            31.71,
            35.95,
            39.48,
            33.94
           ],
           "y": [
            30.32,
            33.79,
            27.16,
            18.05,
            26.94,
            20.61,
            20.91,
            22.9,
            24.63,
            15.21
           ]
          },
          {
           "hoverinfo": "none",
           "marker": {
            "color": "yellow",
            "opacity": 1,
            "size": 10
           },
           "mode": "markers",
           "name": "ball_carrier",
           "type": "scatter",
           "x": [
            40.61
           ],
           "y": [
            19.4
           ]
          },
          {
           "hoverinfo": "none",
           "marker": {
            "color": "white",
            "size": 10
           },
           "mode": "markers",
           "name": "defense",
           "type": "scatter",
           "x": [
            38.51,
            20.83,
            23.7,
            40.48,
            33.8,
            30.98,
            32.52,
            36.76,
            31.47,
            38.74,
            33.88
           ],
           "y": [
            28.43,
            31.14,
            17.42,
            24.65,
            17.46,
            21.31,
            28.94,
            22.7,
            34.93,
            20.59,
            14.27
           ]
          }
         ],
         "name": "28"
        },
        {
         "data": [
          {
           "hoverinfo": "none",
           "marker": {
            "color": "black",
            "size": 10
           },
           "mode": "markers",
           "name": "offense",
           "type": "scatter",
           "x": [
            42.4,
            32.15,
            32.75,
            34.31,
            37.27,
            38.08,
            31.58,
            36.01,
            39.69,
            33.98
           ],
           "y": [
            30.62,
            33.41,
            26.88,
            17.55,
            26.66,
            20.36,
            20.36,
            22.37,
            24.41,
            14.77
           ]
          },
          {
           "hoverinfo": "none",
           "marker": {
            "color": "yellow",
            "opacity": 1,
            "size": 10
           },
           "mode": "markers",
           "name": "ball_carrier",
           "type": "scatter",
           "x": [
            40.29
           ],
           "y": [
            18.75
           ]
          },
          {
           "hoverinfo": "none",
           "marker": {
            "color": "white",
            "size": 10
           },
           "mode": "markers",
           "name": "defense",
           "type": "scatter",
           "x": [
            38.46,
            20.81,
            24.07,
            40.72,
            34.1,
            30.96,
            32.46,
            36.76,
            31.13,
            39.07,
            33.94
           ],
           "y": [
            28,
            30.61,
            16.93,
            24.32,
            16.86,
            20.73,
            28.49,
            22.07,
            34.51,
            20.13,
            13.83
           ]
          }
         ],
         "name": "29"
        },
        {
         "data": [
          {
           "hoverinfo": "none",
           "marker": {
            "color": "black",
            "size": 10
           },
           "mode": "markers",
           "name": "offense",
           "type": "scatter",
           "x": [
            42.51,
            31.91,
            32.58,
            34.48,
            37.35,
            38.37,
            31.45,
            36.04,
            39.9,
            34.04
           ],
           "y": [
            30.9,
            33.03,
            26.61,
            17.05,
            26.4,
            20.1,
            19.8,
            21.83,
            24.17,
            14.31
           ]
          },
          {
           "hoverinfo": "none",
           "marker": {
            "color": "yellow",
            "opacity": 1,
            "size": 10
           },
           "mode": "markers",
           "name": "ball_carrier",
           "type": "scatter",
           "x": [
            39.92
           ],
           "y": [
            18.12
           ]
          },
          {
           "hoverinfo": "none",
           "marker": {
            "color": "white",
            "size": 10
           },
           "mode": "markers",
           "name": "defense",
           "type": "scatter",
           "x": [
            38.37,
            20.81,
            24.47,
            40.93,
            34.39,
            30.91,
            32.37,
            36.72,
            30.8,
            39.39,
            34.01
           ],
           "y": [
            27.58,
            30.06,
            16.44,
            23.95,
            16.27,
            20.15,
            28.07,
            21.43,
            34.08,
            19.66,
            13.36
           ]
          }
         ],
         "name": "30"
        },
        {
         "data": [
          {
           "hoverinfo": "none",
           "marker": {
            "color": "black",
            "size": 10
           },
           "mode": "markers",
           "name": "offense",
           "type": "scatter",
           "x": [
            42.58,
            31.66,
            32.39,
            34.67,
            37.41,
            38.67,
            31.34,
            36.08,
            40.08,
            34.11
           ],
           "y": [
            31.17,
            32.63,
            26.36,
            16.53,
            26.14,
            19.83,
            19.28,
            21.29,
            23.91,
            13.83
           ]
          },
          {
           "hoverinfo": "none",
           "marker": {
            "color": "yellow",
            "opacity": 1,
            "size": 10
           },
           "mode": "markers",
           "name": "ball_carrier",
           "type": "scatter",
           "x": [
            39.49
           ],
           "y": [
            17.52
           ]
          },
          {
           "hoverinfo": "none",
           "marker": {
            "color": "white",
            "size": 10
           },
           "mode": "markers",
           "name": "defense",
           "type": "scatter",
           "x": [
            38.24,
            20.82,
            24.88,
            41.09,
            34.66,
            30.81,
            32.23,
            36.65,
            30.45,
            39.69,
            34.09
           ],
           "y": [
            27.18,
            29.49,
            15.96,
            23.51,
            15.69,
            19.57,
            27.68,
            20.77,
            33.63,
            19.16,
            12.89
           ]
          }
         ],
         "name": "31"
        },
        {
         "data": [
          {
           "hoverinfo": "none",
           "marker": {
            "color": "black",
            "size": 10
           },
           "mode": "markers",
           "name": "offense",
           "type": "scatter",
           "x": [
            42.62,
            31.42,
            32.19,
            34.86,
            37.45,
            38.97,
            31.23,
            36.09,
            40.24,
            34.18
           ],
           "y": [
            31.42,
            32.21,
            26.12,
            16,
            25.89,
            19.57,
            18.77,
            20.78,
            23.64,
            13.35
           ]
          },
          {
           "hoverinfo": "none",
           "marker": {
            "color": "yellow",
            "opacity": 1,
            "size": 10
           },
           "mode": "markers",
           "name": "ball_carrier",
           "type": "scatter",
           "x": [
            38.98
           ],
           "y": [
            16.97
           ]
          },
          {
           "hoverinfo": "none",
           "marker": {
            "color": "white",
            "size": 10
           },
           "mode": "markers",
           "name": "defense",
           "type": "scatter",
           "x": [
            38.08,
            20.84,
            25.31,
            41.22,
            34.92,
            30.72,
            32.06,
            36.55,
            30.1,
            39.96,
            34.15
           ],
           "y": [
            26.81,
            28.9,
            15.5,
            23.05,
            15.13,
            19.05,
            27.33,
            20.08,
            33.16,
            18.65,
            12.41
           ]
          }
         ],
         "name": "32"
        },
        {
         "data": [
          {
           "hoverinfo": "none",
           "marker": {
            "color": "black",
            "size": 10
           },
           "mode": "markers",
           "name": "offense",
           "type": "scatter",
           "x": [
            42.64,
            31.17,
            31.97,
            35.06,
            37.46,
            39.28,
            31.13,
            36.1,
            40.38,
            34.24
           ],
           "y": [
            31.66,
            31.78,
            25.87,
            15.46,
            25.65,
            19.31,
            18.28,
            20.24,
            23.35,
            12.84
           ]
          },
          {
           "hoverinfo": "none",
           "marker": {
            "color": "yellow",
            "opacity": 1,
            "size": 10
           },
           "mode": "markers",
           "name": "ball_carrier",
           "type": "scatter",
           "x": [
            38.43
           ],
           "y": [
            16.47
           ]
          },
          {
           "hoverinfo": "none",
           "marker": {
            "color": "white",
            "size": 10
           },
           "mode": "markers",
           "name": "defense",
           "type": "scatter",
           "x": [
            37.89,
            20.87,
            25.73,
            41.31,
            35.16,
            30.64,
            31.86,
            36.41,
            29.75,
            40.19,
            34.2
           ],
           "y": [
            26.47,
            28.3,
            15.06,
            22.57,
            14.58,
            18.51,
            26.97,
            19.39,
            32.69,
            18.13,
            11.94
           ]
          }
         ],
         "name": "33"
        },
        {
         "data": [
          {
           "hoverinfo": "none",
           "marker": {
            "color": "black",
            "size": 10
           },
           "mode": "markers",
           "name": "offense",
           "type": "scatter",
           "x": [
            42.63,
            30.93,
            31.74,
            35.24,
            37.45,
            39.57,
            31,
            36.09,
            40.5,
            34.28
           ],
           "y": [
            31.86,
            31.34,
            25.63,
            14.9,
            25.42,
            19.03,
            17.78,
            19.67,
            23.05,
            12.32
           ]
          },
          {
           "hoverinfo": "none",
           "marker": {
            "color": "yellow",
            "opacity": 1,
            "size": 10
           },
           "mode": "markers",
           "name": "ball_carrier",
           "type": "scatter",
           "x": [
            37.83
           ],
           "y": [
            16.02
           ]
          },
          {
           "hoverinfo": "none",
           "marker": {
            "color": "white",
            "size": 10
           },
           "mode": "markers",
           "name": "defense",
           "type": "scatter",
           "x": [
            37.68,
            20.91,
            26.15,
            41.35,
            35.37,
            30.52,
            31.62,
            36.26,
            29.4,
            40.36,
            34.25
           ],
           "y": [
            26.14,
            27.69,
            14.64,
            22.06,
            14.05,
            17.99,
            26.6,
            18.7,
            32.2,
            17.58,
            11.46
           ]
          }
         ],
         "name": "34"
        },
        {
         "data": [
          {
           "hoverinfo": "none",
           "marker": {
            "color": "black",
            "size": 10
           },
           "mode": "markers",
           "name": "offense",
           "type": "scatter",
           "x": [
            42.61,
            30.69,
            31.49,
            35.41,
            37.41,
            39.87,
            30.87,
            36.07,
            40.6,
            34.3
           ],
           "y": [
            32.05,
            30.89,
            25.38,
            14.34,
            25.18,
            18.73,
            17.29,
            19.13,
            22.76,
            11.8
           ]
          },
          {
           "hoverinfo": "none",
           "marker": {
            "color": "yellow",
            "opacity": 1,
            "size": 10
           },
           "mode": "markers",
           "name": "ball_carrier",
           "type": "scatter",
           "x": [
            37.2
           ],
           "y": [
            15.61
           ]
          },
          {
           "hoverinfo": "none",
           "marker": {
            "color": "white",
            "size": 10
           },
           "mode": "markers",
           "name": "defense",
           "type": "scatter",
           "x": [
            37.45,
            20.96,
            26.55,
            41.34,
            35.53,
            30.37,
            31.38,
            36.08,
            29.06,
            40.49,
            34.23
           ],
           "y": [
            25.85,
            27.07,
            14.24,
            21.53,
            13.53,
            17.48,
            26.25,
            18.01,
            31.7,
            17.04,
            11.03
           ]
          }
         ],
         "name": "35"
        },
        {
         "data": [
          {
           "hoverinfo": "none",
           "marker": {
            "color": "black",
            "size": 10
           },
           "mode": "markers",
           "name": "offense",
           "type": "scatter",
           "x": [
            42.57,
            30.45,
            31.24,
            35.56,
            37.34,
            40.15,
            30.71,
            36.04,
            40.69,
            34.27
           ],
           "y": [
            32.21,
            30.43,
            25.14,
            13.77,
            24.95,
            18.43,
            16.83,
            18.59,
            22.47,
            11.28
           ]
          },
          {
           "hoverinfo": "none",
           "marker": {
            "color": "yellow",
            "opacity": 1,
            "size": 10
           },
           "mode": "markers",
           "name": "ball_carrier",
           "type": "scatter",
           "x": [
            36.54
           ],
           "y": [
            15.24
           ]
          },
          {
           "hoverinfo": "none",
           "marker": {
            "color": "white",
            "size": 10
           },
           "mode": "markers",
           "name": "defense",
           "type": "scatter",
           "x": [
            37.2,
            21.03,
            26.92,
            41.27,
            35.63,
            30.21,
            31.09,
            35.83,
            28.72,
            40.54,
            34.19
           ],
           "y": [
            25.57,
            26.45,
            13.87,
            21,
            12.96,
            16.99,
            25.85,
            17.31,
            31.18,
            16.49,
            10.62
           ]
          }
         ],
         "name": "36"
        },
        {
         "data": [
          {
           "hoverinfo": "none",
           "marker": {
            "color": "black",
            "size": 10
           },
           "mode": "markers",
           "name": "offense",
           "type": "scatter",
           "x": [
            42.51,
            30.21,
            30.97,
            35.7,
            37.25,
            40.42,
            30.52,
            35.99,
            40.76,
            34.22
           ],
           "y": [
            32.33,
            29.97,
            24.89,
            13.2,
            24.72,
            18.12,
            16.39,
            18.07,
            22.16,
            10.75
           ]
          },
          {
           "hoverinfo": "none",
           "marker": {
            "color": "yellow",
            "opacity": 1,
            "size": 10
           },
           "mode": "markers",
           "name": "ball_carrier",
           "type": "scatter",
           "x": [
            35.84
           ],
           "y": [
            14.93
           ]
          },
          {
           "hoverinfo": "none",
           "marker": {
            "color": "white",
            "size": 10
           },
           "mode": "markers",
           "name": "defense",
           "type": "scatter",
           "x": [
            36.92,
            21.12,
            27.27,
            41.17,
            35.69,
            30.02,
            30.79,
            35.55,
            28.41,
            40.53,
            34.12
           ],
           "y": [
            25.32,
            25.82,
            13.54,
            20.48,
            12.42,
            16.51,
            25.48,
            16.66,
            30.66,
            15.95,
            10.23
           ]
          }
         ],
         "name": "37"
        },
        {
         "data": [
          {
           "hoverinfo": "none",
           "marker": {
            "color": "black",
            "size": 10
           },
           "mode": "markers",
           "name": "offense",
           "type": "scatter",
           "x": [
            42.43,
            29.98,
            30.71,
            35.82,
            37.14,
            40.66,
            30.29,
            35.91,
            40.8,
            34.16
           ],
           "y": [
            32.43,
            29.5,
            24.63,
            12.64,
            24.49,
            17.82,
            15.96,
            17.53,
            21.88,
            10.23
           ]
          },
          {
           "hoverinfo": "none",
           "marker": {
            "color": "yellow",
            "opacity": 1,
            "size": 10
           },
           "mode": "markers",
           "name": "ball_carrier",
           "type": "scatter",
           "x": [
            35.12
           ],
           "y": [
            14.68
           ]
          },
          {
           "hoverinfo": "none",
           "marker": {
            "color": "white",
            "size": 10
           },
           "mode": "markers",
           "name": "defense",
           "type": "scatter",
           "x": [
            36.62,
            21.22,
            27.59,
            41.02,
            35.7,
            29.79,
            30.49,
            35.25,
            28.1,
            40.46,
            33.99
           ],
           "y": [
            25.09,
            25.19,
            13.24,
            19.98,
            11.89,
            16.05,
            25.11,
            16.02,
            30.11,
            15.43,
            9.86
           ]
          }
         ],
         "name": "38"
        },
        {
         "data": [
          {
           "hoverinfo": "none",
           "marker": {
            "color": "black",
            "size": 10
           },
           "mode": "markers",
           "name": "offense",
           "type": "scatter",
           "x": [
            42.35,
            29.74,
            30.45,
            35.91,
            36.99,
            40.88,
            30.04,
            35.83,
            40.84,
            34.07
           ],
           "y": [
            32.51,
            29.02,
            24.35,
            12.1,
            24.27,
            17.49,
            15.53,
            17.01,
            21.6,
            9.71
           ]
          },
          {
           "hoverinfo": "none",
           "marker": {
            "color": "yellow",
            "opacity": 1,
            "size": 10
           },
           "mode": "markers",
           "name": "ball_carrier",
           "type": "scatter",
           "x": [
            34.38
           ],
           "y": [
            14.47
           ]
          },
          {
           "hoverinfo": "none",
           "marker": {
            "color": "white",
            "size": 10
           },
           "mode": "markers",
           "name": "defense",
           "type": "scatter",
           "x": [
            36.31,
            21.33,
            27.88,
            40.84,
            35.65,
            29.54,
            30.17,
            34.95,
            27.8,
            40.33,
            33.79
           ],
           "y": [
            24.86,
            24.55,
            12.99,
            19.49,
            11.38,
            15.62,
            24.74,
            15.4,
            29.55,
            14.94,
            9.52
           ]
          }
         ],
         "name": "39"
        },
        {
         "data": [
          {
           "hoverinfo": "none",
           "marker": {
            "color": "black",
            "size": 10
           },
           "mode": "markers",
           "name": "offense",
           "type": "scatter",
           "x": [
            42.26,
            29.51,
            30.19,
            35.96,
            36.84,
            41.08,
            29.78,
            35.74,
            40.87,
            33.95
           ],
           "y": [
            32.56,
            28.54,
            24.06,
            11.58,
            24.05,
            17.17,
            15.13,
            16.51,
            21.33,
            9.2
           ]
          },
          {
           "hoverinfo": "none",
           "marker": {
            "color": "yellow",
            "opacity": 1,
            "size": 10
           },
           "mode": "markers",
           "name": "ball_carrier",
           "type": "scatter",
           "x": [
            33.62
           ],
           "y": [
            14.32
           ]
          },
          {
           "hoverinfo": "none",
           "marker": {
            "color": "white",
            "size": 10
           },
           "mode": "markers",
           "name": "defense",
           "type": "scatter",
           "x": [
            35.97,
            21.45,
            28.13,
            40.61,
            35.55,
            29.28,
            29.86,
            34.66,
            27.5,
            40.14,
            33.59
           ],
           "y": [
            24.64,
            23.91,
            12.78,
            19.02,
            10.87,
            15.21,
            24.34,
            14.82,
            28.97,
            14.47,
            9.2
           ]
          }
         ],
         "name": "40"
        },
        {
         "data": [
          {
           "hoverinfo": "none",
           "marker": {
            "color": "black",
            "size": 10
           },
           "mode": "markers",
           "name": "offense",
           "type": "scatter",
           "x": [
            42.16,
            29.28,
            29.95,
            35.96,
            36.66,
            41.25,
            29.5,
            35.62,
            40.87,
            33.81
           ],
           "y": [
            32.59,
            28.05,
            23.76,
            11.08,
            23.83,
            16.83,
            14.77,
            16.02,
            21.07,
            8.69
           ]
          },
          {
           "hoverinfo": "none",
           "marker": {
            "color": "yellow",
            "opacity": 1,
            "size": 10
           },
           "mode": "markers",
           "name": "ball_carrier",
           "type": "scatter",
           "x": [
            32.86
           ],
           "y": [
            14.23
           ]
          },
          {
           "hoverinfo": "none",
           "marker": {
            "color": "white",
            "size": 10
           },
           "mode": "markers",
           "name": "defense",
           "type": "scatter",
           "x": [
            35.63,
            21.57,
            28.33,
            40.34,
            35.41,
            28.99,
            29.55,
            34.4,
            27.21,
            39.9,
            33.34
           ],
           "y": [
            24.42,
            23.27,
            12.64,
            18.56,
            10.37,
            14.81,
            23.95,
            14.29,
            28.37,
            14.02,
            8.89
           ]
          }
         ],
         "name": "41"
        },
        {
         "data": [
          {
           "hoverinfo": "none",
           "marker": {
            "color": "black",
            "size": 10
           },
           "mode": "markers",
           "name": "offense",
           "type": "scatter",
           "x": [
            42.06,
            29.05,
            29.72,
            35.92,
            36.47,
            41.39,
            29.2,
            35.46,
            40.88,
            33.65
           ],
           "y": [
            32.59,
            27.55,
            23.45,
            10.6,
            23.61,
            16.5,
            14.43,
            15.55,
            20.83,
            8.18
           ]
          },
          {
           "hoverinfo": "none",
           "marker": {
            "color": "yellow",
            "opacity": 1,
            "size": 10
           },
           "mode": "markers",
           "name": "ball_carrier",
           "type": "scatter",
           "x": [
            32.1
           ],
           "y": [
            14.2
           ]
          },
          {
           "hoverinfo": "none",
           "marker": {
            "color": "white",
            "size": 10
           },
           "mode": "markers",
           "name": "defense",
           "type": "scatter",
           "x": [
            35.25,
            21.7,
            28.44,
            40.01,
            35.22,
            28.7,
            29.26,
            34.13,
            26.93,
            39.58,
            33.07
           ],
           "y": [
            24.21,
            22.63,
            12.59,
            18.13,
            9.89,
            14.42,
            23.54,
            13.79,
            27.78,
            13.62,
            8.61
           ]
          }
         ],
         "name": "42"
        },
        {
         "data": [
          {
           "hoverinfo": "none",
           "marker": {
            "color": "black",
            "size": 10
           },
           "mode": "markers",
           "name": "offense",
           "type": "scatter",
           "x": [
            41.96,
            28.82,
            29.51,
            35.83,
            36.26,
            41.5,
            28.89,
            35.29,
            40.86,
            33.45
           ],
           "y": [
            32.58,
            27.06,
            23.13,
            10.14,
            23.41,
            16.15,
            14.13,
            15.11,
            20.61,
            7.68
           ]
          },
          {
           "hoverinfo": "none",
           "marker": {
            "color": "yellow",
            "opacity": 1,
            "size": 10
           },
           "mode": "markers",
           "name": "ball_carrier",
           "type": "scatter",
           "x": [
            31.33
           ],
           "y": [
            14.22
           ]
          },
          {
           "hoverinfo": "none",
           "marker": {
            "color": "white",
            "size": 10
           },
           "mode": "markers",
           "name": "defense",
           "type": "scatter",
           "x": [
            34.87,
            21.84,
            28.49,
            39.66,
            35.01,
            28.4,
            29.02,
            33.88,
            26.65,
            39.24,
            32.74
           ],
           "y": [
            23.99,
            22,
            12.58,
            17.72,
            9.45,
            14.06,
            23.1,
            13.33,
            27.16,
            13.25,
            8.33
           ]
          }
         ],
         "name": "43"
        },
        {
         "data": [
          {
           "hoverinfo": "none",
           "marker": {
            "color": "black",
            "size": 10
           },
           "mode": "markers",
           "name": "offense",
           "type": "scatter",
           "x": [
            41.86,
            28.58,
            29.31,
            35.71,
            36.04,
            41.55,
            28.56,
            35.09,
            40.84,
            33.23
           ],
           "y": [
            32.55,
            26.55,
            22.82,
            9.7,
            23.2,
            15.8,
            13.87,
            14.7,
            20.39,
            7.19
           ]
          },
          {
           "hoverinfo": "none",
           "marker": {
            "color": "yellow",
            "opacity": 1,
            "size": 10
           },
           "mode": "markers",
           "name": "ball_carrier",
           "type": "scatter",
           "x": [
            30.56
           ],
           "y": [
            14.29
           ]
          },
          {
           "hoverinfo": "none",
           "marker": {
            "color": "white",
            "size": 10
           },
           "mode": "markers",
           "name": "defense",
           "type": "scatter",
           "x": [
            34.48,
            21.96,
            28.47,
            39.26,
            34.77,
            28.06,
            28.82,
            33.64,
            26.37,
            38.85,
            32.4
           ],
           "y": [
            23.78,
            21.38,
            12.63,
            17.35,
            9.02,
            13.72,
            22.65,
            12.92,
            26.55,
            12.93,
            8.08
           ]
          }
         ],
         "name": "44"
        },
        {
         "data": [
          {
           "hoverinfo": "none",
           "marker": {
            "color": "black",
            "size": 10
           },
           "mode": "markers",
           "name": "offense",
           "type": "scatter",
           "x": [
            41.75,
            28.32,
            29.12,
            35.55,
            35.81,
            41.57,
            28.22,
            34.87,
            40.81,
            33
           ],
           "y": [
            32.51,
            26.04,
            22.52,
            9.29,
            22.99,
            15.45,
            13.65,
            14.33,
            20.17,
            6.71
           ]
          },
          {
           "hoverinfo": "none",
           "marker": {
            "color": "yellow",
            "opacity": 1,
            "size": 10
           },
           "mode": "markers",
           "name": "ball_carrier",
           "type": "scatter",
           "x": [
            29.8
           ],
           "y": [
            14.41
           ]
          },
          {
           "hoverinfo": "none",
           "marker": {
            "color": "white",
            "size": 10
           },
           "mode": "markers",
           "name": "defense",
           "type": "scatter",
           "x": [
            34.07,
            22.07,
            28.41,
            38.86,
            34.51,
            27.7,
            28.66,
            33.43,
            26.07,
            38.44,
            32.02
           ],
           "y": [
            23.58,
            20.78,
            12.7,
            17.01,
            8.63,
            13.44,
            22.18,
            12.55,
            25.93,
            12.67,
            7.88
           ]
          }
         ],
         "name": "45"
        },
        {
         "data": [
          {
           "hoverinfo": "none",
           "marker": {
            "color": "black",
            "size": 10
           },
           "mode": "markers",
           "name": "offense",
           "type": "scatter",
           "x": [
            41.65,
            28.04,
            28.94,
            35.33,
            35.58,
            41.55,
            27.88,
            34.61,
            40.77,
            32.75
           ],
           "y": [
            32.45,
            25.53,
            22.23,
            8.92,
            22.79,
            15.11,
            13.46,
            14.01,
            19.98,
            6.25
           ]
          },
          {
           "hoverinfo": "none",
           "marker": {
            "color": "yellow",
            "opacity": 1,
            "size": 10
           },
           "mode": "markers",
           "name": "ball_carrier",
           "type": "scatter",
           "x": [
            29.05
           ],
           "y": [
            14.56
           ]
          },
          {
           "hoverinfo": "none",
           "marker": {
            "color": "white",
            "size": 10
           },
           "mode": "markers",
           "name": "defense",
           "type": "scatter",
           "x": [
            33.64,
            22.17,
            28.29,
            38.44,
            34.25,
            27.3,
            28.55,
            33.24,
            25.77,
            37.99,
            31.61
           ],
           "y": [
            23.38,
            20.19,
            12.82,
            16.69,
            8.25,
            13.2,
            21.7,
            12.23,
            25.31,
            12.46,
            7.72
           ]
          }
         ],
         "name": "46"
        },
        {
         "data": [
          {
           "hoverinfo": "none",
           "marker": {
            "color": "black",
            "size": 10
           },
           "mode": "markers",
           "name": "offense",
           "type": "scatter",
           "x": [
            41.54,
            27.76,
            28.77,
            35.08,
            35.33,
            41.47,
            27.54,
            34.34,
            40.72,
            32.49
           ],
           "y": [
            32.39,
            25.01,
            21.94,
            8.58,
            22.59,
            14.79,
            13.31,
            13.73,
            19.81,
            5.81
           ]
          },
          {
           "hoverinfo": "none",
           "marker": {
            "color": "yellow",
            "opacity": 1,
            "size": 10
           },
           "mode": "markers",
           "name": "ball_carrier",
           "type": "scatter",
           "x": [
            28.31
           ],
           "y": [
            14.75
           ]
          },
          {
           "hoverinfo": "none",
           "marker": {
            "color": "white",
            "size": 10
           },
           "mode": "markers",
           "name": "defense",
           "type": "scatter",
           "x": [
            33.21,
            22.26,
            28.13,
            37.98,
            33.98,
            26.88,
            28.47,
            33.08,
            25.44,
            37.5,
            31.18
           ],
           "y": [
            23.19,
            19.62,
            12.96,
            16.4,
            7.91,
            13,
            21.2,
            11.96,
            24.69,
            12.31,
            7.59
           ]
          }
         ],
         "name": "47"
        },
        {
         "data": [
          {
           "hoverinfo": "none",
           "marker": {
            "color": "black",
            "size": 10
           },
           "mode": "markers",
           "name": "offense",
           "type": "scatter",
           "x": [
            41.43,
            27.45,
            28.61,
            34.78,
            35.08,
            41.37,
            27.21,
            34.05,
            40.66,
            32.23
           ],
           "y": [
            32.31,
            24.51,
            21.66,
            8.29,
            22.39,
            14.48,
            13.2,
            13.49,
            19.64,
            5.38
           ]
          },
          {
           "hoverinfo": "none",
           "marker": {
            "color": "yellow",
            "opacity": 1,
            "size": 10
           },
           "mode": "markers",
           "name": "ball_carrier",
           "type": "scatter",
           "x": [
            27.56
           ],
           "y": [
            14.95
           ]
          },
          {
           "hoverinfo": "none",
           "marker": {
            "color": "white",
            "size": 10
           },
           "mode": "markers",
           "name": "defense",
           "type": "scatter",
           "x": [
            32.76,
            22.33,
            27.92,
            37.51,
            33.69,
            26.46,
            28.41,
            32.96,
            25.11,
            37.02,
            30.72
           ],
           "y": [
            23.01,
            19.1,
            13.12,
            16.15,
            7.6,
            12.83,
            20.68,
            11.76,
            24.09,
            12.21,
            7.5
           ]
          }
         ],
         "name": "48"
        },
        {
         "data": [
          {
           "hoverinfo": "none",
           "marker": {
            "color": "black",
            "size": 10
           },
           "mode": "markers",
           "name": "offense",
           "type": "scatter",
           "x": [
            41.33,
            27.11,
            28.45,
            34.46,
            34.81,
            41.24,
            26.88,
            33.75,
            40.58,
            31.97
           ],
           "y": [
            32.22,
            24.01,
            21.4,
            8.02,
            22.21,
            14.18,
            13.11,
            13.3,
            19.49,
            4.96
           ]
          },
          {
           "hoverinfo": "none",
           "marker": {
            "color": "yellow",
            "opacity": 1,
            "size": 10
           },
           "mode": "markers",
           "name": "ball_carrier",
           "type": "scatter",
           "x": [
            26.82
           ],
           "y": [
            15.17
           ]
          },
          {
           "hoverinfo": "none",
           "marker": {
            "color": "white",
            "size": 10
           },
           "mode": "markers",
           "name": "defense",
           "type": "scatter",
           "x": [
            32.31,
            22.38,
            27.66,
            37.02,
            33.4,
            26.01,
            28.36,
            32.85,
            24.76,
            36.52,
            30.24
           ],
           "y": [
            22.83,
            18.6,
            13.29,
            15.93,
            7.32,
            12.71,
            20.15,
            11.59,
            23.48,
            12.17,
            7.47
           ]
          }
         ],
         "name": "49"
        },
        {
         "data": [
          {
           "hoverinfo": "none",
           "marker": {
            "color": "black",
            "size": 10
           },
           "mode": "markers",
           "name": "offense",
           "type": "scatter",
           "x": [
            41.22,
            26.73,
            28.28,
            34.1,
            34.53,
            41.06,
            26.55,
            33.43,
            40.51,
            31.71
           ],
           "y": [
            32.12,
            23.52,
            21.14,
            7.8,
            22.03,
            13.9,
            13.04,
            13.14,
            19.35,
            4.55
           ]
          },
          {
           "hoverinfo": "none",
           "marker": {
            "color": "yellow",
            "opacity": 1,
            "size": 10
           },
           "mode": "markers",
           "name": "ball_carrier",
           "type": "scatter",
           "x": [
            26.08
           ],
           "y": [
            15.4
           ]
          },
          {
           "hoverinfo": "none",
           "marker": {
            "color": "white",
            "size": 10
           },
           "mode": "markers",
           "name": "defense",
           "type": "scatter",
           "x": [
            31.85,
            22.41,
            27.28,
            36.51,
            33.11,
            25.55,
            28.3,
            32.73,
            24.39,
            36.01,
            29.74
           ],
           "y": [
            22.67,
            18.13,
            13.41,
            15.74,
            7.08,
            12.64,
            19.63,
            11.44,
            22.9,
            12.19,
            7.48
           ]
          }
         ],
         "name": "50"
        },
        {
         "data": [
          {
           "hoverinfo": "none",
           "marker": {
            "color": "black",
            "size": 10
           },
           "mode": "markers",
           "name": "offense",
           "type": "scatter",
           "x": [
            41.11,
            26.32,
            28.1,
            33.71,
            34.24,
            40.86,
            26.23,
            33.09,
            40.43,
            31.45
           ],
           "y": [
            32.02,
            23.04,
            20.88,
            7.6,
            21.87,
            13.63,
            12.98,
            13.04,
            19.2,
            4.16
           ]
          },
          {
           "hoverinfo": "none",
           "marker": {
            "color": "yellow",
            "opacity": 1,
            "size": 10
           },
           "mode": "markers",
           "name": "ball_carrier",
           "type": "scatter",
           "x": [
            25.37
           ],
           "y": [
            15.61
           ]
          },
          {
           "hoverinfo": "none",
           "marker": {
            "color": "white",
            "size": 10
           },
           "mode": "markers",
           "name": "defense",
           "type": "scatter",
           "x": [
            31.38,
            22.39,
            26.9,
            36,
            32.83,
            25.07,
            28.24,
            32.63,
            23.98,
            35.51,
            29.22
           ],
           "y": [
            22.53,
            17.75,
            13.53,
            15.59,
            6.86,
            12.61,
            19.12,
            11.34,
            22.33,
            12.26,
            7.53
           ]
          }
         ],
         "name": "51"
        },
        {
         "data": [
          {
           "hoverinfo": "none",
           "marker": {
            "color": "black",
            "size": 10
           },
           "mode": "markers",
           "name": "offense",
           "type": "scatter",
           "x": [
            41.01,
            25.87,
            27.91,
            33.31,
            33.94,
            40.63,
            25.93,
            32.76,
            40.35,
            31.19
           ],
           "y": [
            31.91,
            22.59,
            20.64,
            7.46,
            21.72,
            13.38,
            12.92,
            12.96,
            19.08,
            3.78
           ]
          },
          {
           "hoverinfo": "none",
           "marker": {
            "color": "yellow",
            "opacity": 1,
            "size": 10
           },
           "mode": "markers",
           "name": "ball_carrier",
           "type": "scatter",
           "x": [
            24.7
           ],
           "y": [
            15.8
           ]
          },
          {
           "hoverinfo": "none",
           "marker": {
            "color": "white",
            "size": 10
           },
           "mode": "markers",
           "name": "defense",
           "type": "scatter",
           "x": [
            30.91,
            22.32,
            26.52,
            35.46,
            32.54,
            24.59,
            28.17,
            32.54,
            23.56,
            35,
            28.68
           ],
           "y": [
            22.4,
            17.39,
            13.64,
            15.46,
            6.68,
            12.62,
            18.63,
            11.28,
            21.78,
            12.37,
            7.6
           ]
          }
         ],
         "name": "52"
        },
        {
         "data": [
          {
           "hoverinfo": "none",
           "marker": {
            "color": "black",
            "size": 10
           },
           "mode": "markers",
           "name": "offense",
           "type": "scatter",
           "x": [
            40.9,
            25.38,
            27.71,
            32.89,
            33.63,
            40.38,
            25.67,
            32.39,
            40.27,
            30.93
           ],
           "y": [
            31.79,
            22.15,
            20.41,
            7.36,
            21.59,
            13.17,
            12.87,
            12.91,
            18.91,
            3.41
           ]
          },
          {
           "hoverinfo": "none",
           "marker": {
            "color": "yellow",
            "opacity": 1,
            "size": 10
           },
           "mode": "markers",
           "name": "ball_carrier",
           "type": "scatter",
           "x": [
            24.05
           ],
           "y": [
            15.99
           ]
          },
          {
           "hoverinfo": "none",
           "marker": {
            "color": "white",
            "size": 10
           },
           "mode": "markers",
           "name": "defense",
           "type": "scatter",
           "x": [
            30.45,
            22.21,
            26.12,
            34.93,
            32.26,
            24.12,
            28.05,
            32.46,
            23.14,
            34.5,
            28.12
           ],
           "y": [
            22.3,
            17.07,
            13.73,
            15.36,
            6.54,
            12.67,
            18.18,
            11.24,
            21.26,
            12.53,
            7.71
           ]
          }
         ],
         "name": "53"
        },
        {
         "data": [
          {
           "hoverinfo": "none",
           "marker": {
            "color": "black",
            "size": 10
           },
           "mode": "markers",
           "name": "offense",
           "type": "scatter",
           "x": [
            40.79,
            24.86,
            27.48,
            32.45,
            33.32,
            40.09,
            25.41,
            32.03,
            40.17,
            30.67
           ],
           "y": [
            31.68,
            21.75,
            20.2,
            7.3,
            21.47,
            12.97,
            12.84,
            12.88,
            18.78,
            3.06
           ]
          },
          {
           "hoverinfo": "none",
           "marker": {
            "color": "yellow",
            "opacity": 1,
            "size": 10
           },
           "mode": "markers",
           "name": "ball_carrier",
           "type": "scatter",
           "x": [
            23.42
           ],
           "y": [
            16.17
           ]
          },
          {
           "hoverinfo": "none",
           "marker": {
            "color": "white",
            "size": 10
           },
           "mode": "markers",
           "name": "defense",
           "type": "scatter",
           "x": [
            29.98,
            22.06,
            25.69,
            34.4,
            31.99,
            23.62,
            27.91,
            32.37,
            22.73,
            34,
            27.56
           ],
           "y": [
            22.22,
            16.78,
            13.8,
            15.29,
            6.42,
            12.76,
            17.77,
            11.25,
            20.76,
            12.73,
            7.84
           ]
          }
         ],
         "name": "54"
        },
        {
         "data": [
          {
           "hoverinfo": "none",
           "marker": {
            "color": "black",
            "size": 10
           },
           "mode": "markers",
           "name": "offense",
           "type": "scatter",
           "x": [
            40.68,
            24.31,
            27.24,
            32.01,
            33,
            39.82,
            25.19,
            31.67,
            40.07,
            30.43
           ],
           "y": [
            31.56,
            21.38,
            19.98,
            7.26,
            21.35,
            12.78,
            12.87,
            12.87,
            18.65,
            2.72
           ]
          },
          {
           "hoverinfo": "none",
           "marker": {
            "color": "yellow",
            "opacity": 1,
            "size": 10
           },
           "mode": "markers",
           "name": "ball_carrier",
           "type": "scatter",
           "x": [
            22.88
           ],
           "y": [
            16.33
           ]
          },
          {
           "hoverinfo": "none",
           "marker": {
            "color": "white",
            "size": 10
           },
           "mode": "markers",
           "name": "defense",
           "type": "scatter",
           "x": [
            29.52,
            21.85,
            25.27,
            33.86,
            31.73,
            23.11,
            27.73,
            32.27,
            22.31,
            33.52,
            26.98
           ],
           "y": [
            22.17,
            16.53,
            13.86,
            15.24,
            6.34,
            12.92,
            17.41,
            11.31,
            20.27,
            12.95,
            7.99
           ]
          }
         ],
         "name": "55"
        },
        {
         "data": [
          {
           "hoverinfo": "none",
           "marker": {
            "color": "black",
            "size": 10
           },
           "mode": "markers",
           "name": "offense",
           "type": "scatter",
           "x": [
            40.57,
            23.74,
            26.98,
            31.55,
            32.67,
            39.52,
            24.98,
            31.3,
            39.97,
            30.19
           ],
           "y": [
            31.44,
            21.03,
            19.78,
            7.27,
            21.26,
            12.61,
            12.88,
            12.89,
            18.52,
            2.41
           ]
          },
          {
           "hoverinfo": "none",
           "marker": {
            "color": "yellow",
            "opacity": 1,
            "size": 10
           },
           "mode": "markers",
           "name": "ball_carrier",
           "type": "scatter",
           "x": [
            22.34
           ],
           "y": [
            16.49
           ]
          },
          {
           "hoverinfo": "none",
           "marker": {
            "color": "white",
            "size": 10
           },
           "mode": "markers",
           "name": "defense",
           "type": "scatter",
           "x": [
            29.07,
            21.58,
            24.84,
            33.32,
            31.49,
            22.6,
            27.51,
            32.15,
            21.89,
            33.03,
            26.4
           ],
           "y": [
            22.14,
            16.32,
            13.89,
            15.2,
            6.29,
            13.11,
            17.11,
            11.39,
            19.81,
            13.18,
            8.17
           ]
          }
         ],
         "name": "56"
        },
        {
         "data": [
          {
           "hoverinfo": "none",
           "marker": {
            "color": "black",
            "size": 10
           },
           "mode": "markers",
           "name": "offense",
           "type": "scatter",
           "x": [
            40.47,
            23.16,
            26.68,
            31.09,
            32.33,
            39.2,
            24.81,
            30.91,
            39.87,
            29.95
           ],
           "y": [
            31.32,
            20.7,
            19.58,
            7.32,
            21.17,
            12.46,
            12.93,
            12.92,
            18.4,
            2.11
           ]
          },
          {
           "hoverinfo": "none",
           "marker": {
            "color": "yellow",
            "opacity": 1,
            "size": 10
           },
           "mode": "markers",
           "name": "ball_carrier",
           "type": "scatter",
           "x": [
            21.83
           ],
           "y": [
            16.62
           ]
          },
          {
           "hoverinfo": "none",
           "marker": {
            "color": "white",
            "size": 10
           },
           "mode": "markers",
           "name": "defense",
           "type": "scatter",
           "x": [
            28.62,
            21.26,
            24.41,
            32.77,
            31.26,
            22.09,
            27.26,
            32.02,
            21.49,
            32.55,
            25.82
           ],
           "y": [
            22.12,
            16.14,
            13.91,
            15.21,
            6.27,
            13.31,
            16.86,
            11.51,
            19.37,
            13.42,
            8.36
           ]
          }
         ],
         "name": "57"
        },
        {
         "data": [
          {
           "hoverinfo": "none",
           "marker": {
            "color": "black",
            "size": 10
           },
           "mode": "markers",
           "name": "offense",
           "type": "scatter",
           "x": [
            40.36,
            22.58,
            26.37,
            30.62,
            31.99,
            38.89,
            24.66,
            30.53,
            39.75,
            29.7
           ],
           "y": [
            31.19,
            20.39,
            19.39,
            7.44,
            21.08,
            12.33,
            13,
            12.97,
            18.3,
            1.84
           ]
          },
          {
           "hoverinfo": "none",
           "marker": {
            "color": "yellow",
            "opacity": 1,
            "size": 10
           },
           "mode": "markers",
           "name": "ball_carrier",
           "type": "scatter",
           "x": [
            21.36
           ],
           "y": [
            16.73
           ]
          },
          {
           "hoverinfo": "none",
           "marker": {
            "color": "white",
            "size": 10
           },
           "mode": "markers",
           "name": "defense",
           "type": "scatter",
           "x": [
            28.18,
            20.92,
            24.01,
            32.25,
            31.04,
            21.59,
            26.98,
            31.85,
            21.11,
            32.07,
            25.23
           ],
           "y": [
            22.12,
            16.04,
            13.92,
            15.24,
            6.28,
            13.55,
            16.67,
            11.66,
            18.96,
            13.67,
            8.58
           ]
          }
         ],
         "name": "58"
        },
        {
         "data": [
          {
           "hoverinfo": "none",
           "marker": {
            "color": "black",
            "size": 10
           },
           "mode": "markers",
           "name": "offense",
           "type": "scatter",
           "x": [
            40.26,
            22.01,
            26.06,
            30.18,
            31.64,
            38.57,
            24.51,
            30.16,
            39.62,
            29.44
           ],
           "y": [
            31.07,
            20.1,
            19.22,
            7.59,
            21.01,
            12.21,
            13.08,
            13.02,
            18.19,
            1.58
           ]
          },
          {
           "hoverinfo": "none",
           "marker": {
            "color": "yellow",
            "opacity": 1,
            "size": 10
           },
           "mode": "markers",
           "name": "ball_carrier",
           "type": "scatter",
           "x": [
            20.91
           ],
           "y": [
            16.83
           ]
          },
          {
           "hoverinfo": "none",
           "marker": {
            "color": "white",
            "size": 10
           },
           "mode": "markers",
           "name": "defense",
           "type": "scatter",
           "x": [
            27.76,
            20.57,
            23.63,
            31.72,
            30.85,
            21.1,
            26.68,
            31.68,
            20.75,
            31.6,
            24.66
           ],
           "y": [
            22.14,
            15.97,
            13.94,
            15.29,
            6.33,
            13.81,
            16.52,
            11.82,
            18.57,
            13.9,
            8.82
           ]
          }
         ],
         "name": "59"
        },
        {
         "data": [
          {
           "hoverinfo": "none",
           "marker": {
            "color": "black",
            "size": 10
           },
           "mode": "markers",
           "name": "offense",
           "type": "scatter",
           "x": [
            40.17,
            21.47,
            25.72,
            29.73,
            31.28,
            38.27,
            24.39,
            29.77,
            39.48,
            29.18
           ],
           "y": [
            30.93,
            19.83,
            19.05,
            7.79,
            20.95,
            12.1,
            13.15,
            13.1,
            18.06,
            1.35
           ]
          },
          {
           "hoverinfo": "none",
           "marker": {
            "color": "yellow",
            "opacity": 1,
            "size": 10
           },
           "mode": "markers",
           "name": "ball_carrier",
           "type": "scatter",
           "x": [
            20.48
           ],
           "y": [
            16.9
           ]
          },
          {
           "hoverinfo": "none",
           "marker": {
            "color": "white",
            "size": 10
           },
           "mode": "markers",
           "name": "defense",
           "type": "scatter",
           "x": [
            27.34,
            20.26,
            23.29,
            31.2,
            30.66,
            20.61,
            26.35,
            31.51,
            20.41,
            31.11,
            24.09
           ],
           "y": [
            22.18,
            15.9,
            13.95,
            15.35,
            6.39,
            14.11,
            16.41,
            12,
            18.2,
            14.13,
            9.09
           ]
          }
         ],
         "name": "60"
        },
        {
         "data": [
          {
           "hoverinfo": "none",
           "marker": {
            "color": "black",
            "size": 10
           },
           "mode": "markers",
           "name": "offense",
           "type": "scatter",
           "x": [
            40.08,
            20.94,
            25.36,
            29.29,
            30.91,
            37.94,
            24.28,
            29.38,
            39.34,
            28.93
           ],
           "y": [
            30.8,
            19.59,
            18.9,
            8.01,
            20.89,
            12.02,
            13.24,
            13.19,
            17.96,
            1.15
           ]
          },
          {
           "hoverinfo": "none",
           "marker": {
            "color": "yellow",
            "opacity": 1,
            "size": 10
           },
           "mode": "markers",
           "name": "ball_carrier",
           "type": "scatter",
           "x": [
            20.06
           ],
           "y": [
            16.94
           ]
          },
          {
           "hoverinfo": "none",
           "marker": {
            "color": "white",
            "size": 10
           },
           "mode": "markers",
           "name": "defense",
           "type": "scatter",
           "x": [
            26.94,
            19.94,
            22.98,
            30.68,
            30.48,
            20.13,
            25.99,
            31.33,
            20.07,
            30.64,
            23.53
           ],
           "y": [
            22.22,
            15.82,
            13.96,
            15.43,
            6.48,
            14.44,
            16.34,
            12.21,
            17.87,
            14.33,
            9.38
           ]
          }
         ],
         "name": "61"
        },
        {
         "data": [
          {
           "hoverinfo": "none",
           "marker": {
            "color": "black",
            "size": 10
           },
           "mode": "markers",
           "name": "offense",
           "type": "scatter",
           "x": [
            39.98,
            20.47,
            24.97,
            28.86,
            30.53,
            37.59,
            24.19,
            29,
            39.19,
            28.67
           ],
           "y": [
            30.66,
            19.36,
            18.75,
            8.27,
            20.85,
            11.95,
            13.34,
            13.29,
            17.86,
            0.97
           ]
          },
          {
           "hoverinfo": "none",
           "marker": {
            "color": "yellow",
            "opacity": 1,
            "size": 10
           },
           "mode": "markers",
           "name": "ball_carrier",
           "type": "scatter",
           "x": [
            19.68
           ],
           "y": [
            16.97
           ]
          },
          {
           "hoverinfo": "none",
           "marker": {
            "color": "white",
            "size": 10
           },
           "mode": "markers",
           "name": "defense",
           "type": "scatter",
           "x": [
            26.54,
            19.62,
            22.69,
            30.17,
            30.31,
            19.67,
            25.63,
            31.14,
            19.75,
            30.18,
            22.98
           ],
           "y": [
            22.27,
            15.76,
            13.97,
            15.54,
            6.58,
            14.78,
            16.31,
            12.41,
            17.56,
            14.54,
            9.69
           ]
          }
         ],
         "name": "62"
        },
        {
         "data": [
          {
           "hoverinfo": "none",
           "marker": {
            "color": "black",
            "size": 10
           },
           "mode": "markers",
           "name": "offense",
           "type": "scatter",
           "x": [
            39.89,
            20.01,
            24.58,
            28.43,
            30.15,
            37.25,
            24.09,
            28.64,
            39.04,
            28.41
           ],
           "y": [
            30.52,
            19.14,
            18.62,
            8.56,
            20.81,
            11.88,
            13.46,
            13.39,
            17.77,
            0.81
           ]
          },
          {
           "hoverinfo": "none",
           "marker": {
            "color": "yellow",
            "opacity": 1,
            "size": 10
           },
           "mode": "markers",
           "name": "ball_carrier",
           "type": "scatter",
           "x": [
            19.33
           ],
           "y": [
            16.99
           ]
          },
          {
           "hoverinfo": "none",
           "marker": {
            "color": "white",
            "size": 10
           },
           "mode": "markers",
           "name": "defense",
           "type": "scatter",
           "x": [
            26.16,
            19.31,
            22.43,
            29.66,
            30.13,
            19.23,
            25.24,
            30.96,
            19.45,
            29.73,
            22.45
           ],
           "y": [
            22.31,
            15.72,
            13.98,
            15.66,
            6.7,
            15.13,
            16.29,
            12.62,
            17.29,
            14.72,
            10.02
           ]
          }
         ],
         "name": "63"
        },
        {
         "data": [
          {
           "hoverinfo": "none",
           "marker": {
            "color": "black",
            "size": 10
           },
           "mode": "markers",
           "name": "offense",
           "type": "scatter",
           "x": [
            39.8,
            19.6,
            24.16,
            28,
            29.76,
            36.91,
            24,
            28.23,
            38.87,
            28.15
           ],
           "y": [
            30.39,
            18.95,
            18.49,
            8.86,
            20.77,
            11.83,
            13.57,
            13.51,
            17.68,
            0.68
           ]
          },
          {
           "hoverinfo": "none",
           "marker": {
            "color": "yellow",
            "opacity": 1,
            "size": 10
           },
           "mode": "markers",
           "name": "ball_carrier",
           "type": "scatter",
           "x": [
            19
           ],
           "y": [
            17
           ]
          },
          {
           "hoverinfo": "none",
           "marker": {
            "color": "white",
            "size": 10
           },
           "mode": "markers",
           "name": "defense",
           "type": "scatter",
           "x": [
            25.8,
            19.06,
            22.18,
            29.14,
            29.96,
            18.83,
            24.85,
            30.77,
            19.14,
            29.27,
            21.93
           ],
           "y": [
            22.36,
            15.73,
            14,
            15.8,
            6.82,
            15.51,
            16.3,
            12.85,
            17.05,
            14.89,
            10.37
           ]
          }
         ],
         "name": "64"
        },
        {
         "data": [
          {
           "hoverinfo": "none",
           "marker": {
            "color": "black",
            "size": 10
           },
           "mode": "markers",
           "name": "offense",
           "type": "scatter",
           "x": [
            39.7,
            19.23,
            23.75,
            27.57,
            29.36,
            36.54,
            23.92,
            27.84,
            38.71,
            27.91
           ],
           "y": [
            30.23,
            18.78,
            18.39,
            9.17,
            20.73,
            11.81,
            13.68,
            13.68,
            17.6,
            0.58
           ]
          },
          {
           "hoverinfo": "none",
           "marker": {
            "color": "yellow",
            "opacity": 1,
            "size": 10
           },
           "mode": "markers",
           "name": "ball_carrier",
           "type": "scatter",
           "x": [
            18.7
           ],
           "y": [
            17
           ]
          },
          {
           "hoverinfo": "none",
           "marker": {
            "color": "white",
            "size": 10
           },
           "mode": "markers",
           "name": "defense",
           "type": "scatter",
           "x": [
            25.45,
            18.87,
            21.93,
            28.63,
            29.78,
            18.45,
            24.44,
            30.59,
            18.85,
            28.82,
            21.42
           ],
           "y": [
            22.41,
            15.78,
            14.03,
            15.96,
            6.96,
            15.88,
            16.32,
            13.07,
            16.84,
            15.04,
            10.72
           ]
          }
         ],
         "name": "65"
        },
        {
         "data": [
          {
           "hoverinfo": "none",
           "marker": {
            "color": "black",
            "size": 10
           },
           "mode": "markers",
           "name": "offense",
           "type": "scatter",
           "x": [
            39.6,
            18.89,
            23.33,
            27.15,
            28.95,
            36.19,
            23.84,
            27.45,
            38.53,
            27.68
           ],
           "y": [
            30.08,
            18.63,
            18.29,
            9.49,
            20.71,
            11.78,
            13.79,
            13.82,
            17.54,
            0.5
           ]
          },
          {
           "hoverinfo": "none",
           "marker": {
            "color": "yellow",
            "opacity": 1,
            "size": 10
           },
           "mode": "markers",
           "name": "ball_carrier",
           "type": "scatter",
           "x": [
            18.4
           ],
           "y": [
            17
           ]
          },
          {
           "hoverinfo": "none",
           "marker": {
            "color": "white",
            "size": 10
           },
           "mode": "markers",
           "name": "defense",
           "type": "scatter",
           "x": [
            25.11,
            18.67,
            21.69,
            28.13,
            29.6,
            18.13,
            24.03,
            30.42,
            18.57,
            28.36,
            20.92
           ],
           "y": [
            22.46,
            15.8,
            14.06,
            16.12,
            7.1,
            16.25,
            16.36,
            13.3,
            16.68,
            15.18,
            11.09
           ]
          }
         ],
         "name": "66"
        },
        {
         "data": [
          {
           "hoverinfo": "none",
           "marker": {
            "color": "black",
            "size": 10
           },
           "mode": "markers",
           "name": "offense",
           "type": "scatter",
           "x": [
            39.5,
            18.6,
            22.91,
            26.73,
            28.54,
            35.85,
            23.79,
            27.06,
            38.36,
            27.44
           ],
           "y": [
            29.93,
            18.5,
            18.2,
            9.81,
            20.69,
            11.77,
            13.9,
            13.98,
            17.49,
            0.45
           ]
          },
          {
           "hoverinfo": "none",
           "marker": {
            "color": "yellow",
            "opacity": 1,
            "size": 10
           },
           "mode": "markers",
           "name": "ball_carrier",
           "type": "scatter",
           "x": [
            18.13
           ],
           "y": [
            17.01
           ]
          },
          {
           "hoverinfo": "none",
           "marker": {
            "color": "white",
            "size": 10
           },
           "mode": "markers",
           "name": "defense",
           "type": "scatter",
           "x": [
            24.79,
            18.48,
            21.43,
            27.64,
            29.38,
            17.85,
            23.61,
            30.26,
            18.3,
            27.9,
            20.43
           ],
           "y": [
            22.51,
            15.83,
            14.09,
            16.29,
            7.26,
            16.59,
            16.4,
            13.53,
            16.55,
            15.3,
            11.45
           ]
          }
         ],
         "name": "67"
        },
        {
         "data": [
          {
           "hoverinfo": "none",
           "marker": {
            "color": "black",
            "size": 10
           },
           "mode": "markers",
           "name": "offense",
           "type": "scatter",
           "x": [
            39.4,
            18.35,
            22.46,
            26.32,
            28.11,
            35.49,
            23.75,
            26.65,
            38.18,
            27.19
           ],
           "y": [
            29.77,
            18.39,
            18.12,
            10.12,
            20.66,
            11.77,
            14,
            14.14,
            17.44,
            0.42
           ]
          },
          {
           "hoverinfo": "none",
           "marker": {
            "color": "yellow",
            "opacity": 1,
            "size": 10
           },
           "mode": "markers",
           "name": "ball_carrier",
           "type": "scatter",
           "x": [
            17.88
           ],
           "y": [
            17.03
           ]
          },
          {
           "hoverinfo": "none",
           "marker": {
            "color": "white",
            "size": 10
           },
           "mode": "markers",
           "name": "defense",
           "type": "scatter",
           "x": [
            24.5,
            18.32,
            21.16,
            27.16,
            29.14,
            17.62,
            23.18,
            30.1,
            18.02,
            27.46,
            19.96
           ],
           "y": [
            22.56,
            15.87,
            14.13,
            16.46,
            7.44,
            16.9,
            16.44,
            13.77,
            16.45,
            15.42,
            11.81
           ]
          }
         ],
         "name": "68"
        },
        {
         "data": [
          {
           "hoverinfo": "none",
           "marker": {
            "color": "black",
            "size": 10
           },
           "mode": "markers",
           "name": "offense",
           "type": "scatter",
           "x": [
            39.29,
            18.14,
            22.02,
            25.91,
            27.69,
            35.13,
            23.73,
            26.25,
            37.99,
            26.95
           ],
           "y": [
            29.63,
            18.3,
            18.06,
            10.45,
            20.65,
            11.78,
            14.11,
            14.32,
            17.4,
            0.4
           ]
          },
          {
           "hoverinfo": "none",
           "marker": {
            "color": "yellow",
            "opacity": 1,
            "size": 10
           },
           "mode": "markers",
           "name": "ball_carrier",
           "type": "scatter",
           "x": [
            17.66
           ],
           "y": [
            17.06
           ]
          },
          {
           "hoverinfo": "none",
           "marker": {
            "color": "white",
            "size": 10
           },
           "mode": "markers",
           "name": "defense",
           "type": "scatter",
           "x": [
            24.21,
            18.17,
            20.87,
            26.69,
            28.87,
            17.43,
            22.76,
            29.94,
            17.75,
            27.02,
            19.49
           ],
           "y": [
            22.61,
            15.92,
            14.18,
            16.64,
            7.62,
            17.18,
            16.48,
            14.03,
            16.37,
            15.52,
            12.16
           ]
          }
         ],
         "name": "69"
        },
        {
         "data": [
          {
           "hoverinfo": "none",
           "marker": {
            "color": "black",
            "size": 10
           },
           "mode": "markers",
           "name": "offense",
           "type": "scatter",
           "x": [
            39.18,
            17.97,
            21.6,
            25.5,
            27.25,
            34.76,
            23.72,
            25.85,
            37.81,
            26.7
           ],
           "y": [
            29.48,
            18.24,
            18.01,
            10.76,
            20.64,
            11.8,
            14.22,
            14.5,
            17.37,
            0.4
           ]
          },
          {
           "hoverinfo": "none",
           "marker": {
            "color": "yellow",
            "opacity": 1,
            "size": 10
           },
           "mode": "markers",
           "name": "ball_carrier",
           "type": "scatter",
           "x": [
            17.46
           ],
           "y": [
            17.12
           ]
          },
          {
           "hoverinfo": "none",
           "marker": {
            "color": "white",
            "size": 10
           },
           "mode": "markers",
           "name": "defense",
           "type": "scatter",
           "x": [
            23.94,
            18.05,
            20.56,
            26.23,
            28.59,
            17.3,
            22.36,
            29.78,
            17.48,
            26.58,
            19.03
           ],
           "y": [
            22.65,
            15.96,
            14.24,
            16.81,
            7.81,
            17.44,
            16.52,
            14.28,
            16.3,
            15.6,
            12.49
           ]
          }
         ],
         "name": "70"
        },
        {
         "data": [
          {
           "hoverinfo": "none",
           "marker": {
            "color": "black",
            "size": 10
           },
           "mode": "markers",
           "name": "offense",
           "type": "scatter",
           "x": [
            39.07,
            17.82,
            21.17,
            25.08,
            26.82,
            34.41,
            23.73,
            25.46,
            37.62,
            26.46
           ],
           "y": [
            29.34,
            18.19,
            17.95,
            11.07,
            20.62,
            11.82,
            14.32,
            14.68,
            17.35,
            0.42
           ]
          },
          {
           "hoverinfo": "none",
           "marker": {
            "color": "yellow",
            "opacity": 1,
            "size": 10
           },
           "mode": "markers",
           "name": "ball_carrier",
           "type": "scatter",
           "x": [
            17.26
           ],
           "y": [
            17.19
           ]
          },
          {
           "hoverinfo": "none",
           "marker": {
            "color": "white",
            "size": 10
           },
           "mode": "markers",
           "name": "defense",
           "type": "scatter",
           "x": [
            23.69,
            17.94,
            20.25,
            25.79,
            28.3,
            17.19,
            21.96,
            29.62,
            17.22,
            26.16,
            18.6
           ],
           "y": [
            22.7,
            16.01,
            14.31,
            16.98,
            8.01,
            17.67,
            16.56,
            14.54,
            16.25,
            15.68,
            12.81
           ]
          }
         ],
         "name": "71"
        },
        {
         "data": [
          {
           "hoverinfo": "none",
           "marker": {
            "color": "black",
            "size": 10
           },
           "mode": "markers",
           "name": "offense",
           "type": "scatter",
           "x": [
            38.96,
            17.71,
            20.75,
            24.67,
            26.39,
            34.06,
            23.75,
            25.03,
            37.45,
            26.22
           ],
           "y": [
            29.2,
            18.16,
            17.91,
            11.38,
            20.59,
            11.84,
            14.42,
            14.86,
            17.33,
            0.44
           ]
          },
          {
           "hoverinfo": "none",
           "marker": {
            "color": "yellow",
            "opacity": 1,
            "size": 10
           },
           "mode": "markers",
           "name": "ball_carrier",
           "type": "scatter",
           "x": [
            17.06
           ],
           "y": [
            17.25
           ]
          },
          {
           "hoverinfo": "none",
           "marker": {
            "color": "white",
            "size": 10
           },
           "mode": "markers",
           "name": "defense",
           "type": "scatter",
           "x": [
            23.44,
            17.84,
            19.92,
            25.35,
            27.98,
            17.13,
            21.58,
            29.45,
            16.96,
            25.76,
            18.18
           ],
           "y": [
            22.75,
            16.06,
            14.38,
            17.15,
            8.21,
            17.88,
            16.58,
            14.79,
            16.21,
            15.76,
            13.11
           ]
          }
         ],
         "name": "72"
        },
        {
         "data": [
          {
           "hoverinfo": "none",
           "marker": {
            "color": "black",
            "size": 10
           },
           "mode": "markers",
           "name": "offense",
           "type": "scatter",
           "x": [
            38.84,
            17.62,
            20.34,
            24.27,
            25.97,
            33.71,
            23.81,
            24.61,
            16.9,
            37.28,
            25.99
           ],
           "y": [
            29.06,
            18.14,
            17.88,
            11.69,
            20.57,
            11.87,
            14.51,
            15.03,
            17.3,
            17.3,
            0.48
           ]
          },
          {
           "hoverinfo": "none",
           "marker": {
            "color": "yellow",
            "opacity": 0,
            "size": 10
           },
           "mode": "markers",
           "name": "ball_carrier",
           "type": "scatter",
           "x": [
            0
           ],
           "y": [
            0
           ]
          },
          {
           "hoverinfo": "none",
           "marker": {
            "color": "white",
            "size": 10
           },
           "mode": "markers",
           "name": "defense",
           "type": "scatter",
           "x": [
            23.21,
            17.76,
            19.6,
            24.93,
            27.66,
            17.09,
            21.22,
            29.3,
            16.75,
            25.36,
            17.79
           ],
           "y": [
            22.79,
            16.13,
            14.46,
            17.31,
            8.41,
            18.06,
            16.6,
            15.05,
            16.17,
            15.83,
            13.4
           ]
          }
         ],
         "name": "73"
        },
        {
         "data": [
          {
           "hoverinfo": "none",
           "marker": {
            "color": "black",
            "size": 10
           },
           "mode": "markers",
           "name": "offense",
           "type": "scatter",
           "x": [
            38.72,
            17.55,
            19.95,
            23.88,
            25.54,
            33.36,
            23.87,
            24.2,
            16.74,
            37.11,
            25.76
           ],
           "y": [
            28.93,
            18.12,
            17.85,
            12,
            20.54,
            11.9,
            14.59,
            15.2,
            17.36,
            17.28,
            0.53
           ]
          },
          {
           "hoverinfo": "none",
           "marker": {
            "color": "yellow",
            "opacity": 0,
            "size": 10
           },
           "mode": "markers",
           "name": "ball_carrier",
           "type": "scatter",
           "x": [
            0
           ],
           "y": [
            0
           ]
          },
          {
           "hoverinfo": "none",
           "marker": {
            "color": "white",
            "size": 10
           },
           "mode": "markers",
           "name": "defense",
           "type": "scatter",
           "x": [
            22.98,
            17.7,
            19.27,
            24.53,
            27.33,
            17.07,
            20.89,
            29.16,
            16.52,
            24.98,
            17.43
           ],
           "y": [
            22.83,
            16.19,
            14.55,
            17.47,
            8.61,
            18.21,
            16.61,
            15.31,
            16.14,
            15.89,
            13.67
           ]
          }
         ],
         "name": "74"
        },
        {
         "data": [
          {
           "hoverinfo": "none",
           "marker": {
            "color": "black",
            "size": 10
           },
           "mode": "markers",
           "name": "offense",
           "type": "scatter",
           "x": [
            38.6,
            17.51,
            19.57,
            23.49,
            25.1,
            33.02,
            23.94,
            23.79,
            16.68,
            36.93,
            25.55
           ],
           "y": [
            28.8,
            18.11,
            17.81,
            12.31,
            20.5,
            11.92,
            14.68,
            15.36,
            17.37,
            17.28,
            0.6
           ]
          },
          {
           "hoverinfo": "none",
           "marker": {
            "color": "yellow",
            "opacity": 0,
            "size": 10
           },
           "mode": "markers",
           "name": "ball_carrier",
           "type": "scatter",
           "x": [
            0
           ],
           "y": [
            0
           ]
          },
          {
           "hoverinfo": "none",
           "marker": {
            "color": "white",
            "size": 10
           },
           "mode": "markers",
           "name": "defense",
           "type": "scatter",
           "x": [
            22.77,
            17.65,
            18.95,
            24.14,
            27,
            17.07,
            20.58,
            29.01,
            16.49,
            24.62,
            17.09
           ],
           "y": [
            22.86,
            16.25,
            14.64,
            17.62,
            8.8,
            18.35,
            16.62,
            15.58,
            16.14,
            15.96,
            13.91
           ]
          }
         ],
         "name": "75"
        },
        {
         "data": [
          {
           "hoverinfo": "none",
           "marker": {
            "color": "black",
            "size": 10
           },
           "mode": "markers",
           "name": "offense",
           "type": "scatter",
           "x": [
            38.47,
            17.47,
            19.23,
            23.12,
            24.67,
            32.68,
            24.03,
            23.4,
            16.61,
            36.77,
            25.35
           ],
           "y": [
            28.66,
            18.11,
            17.78,
            12.62,
            20.47,
            11.96,
            14.74,
            15.52,
            17.38,
            17.28,
            0.67
           ]
          },
          {
           "hoverinfo": "none",
           "marker": {
            "color": "yellow",
            "opacity": 0,
            "size": 10
           },
           "mode": "markers",
           "name": "ball_carrier",
           "type": "scatter",
           "x": [
            0
           ],
           "y": [
            0
           ]
          },
          {
           "hoverinfo": "none",
           "marker": {
            "color": "white",
            "size": 10
           },
           "mode": "markers",
           "name": "defense",
           "type": "scatter",
           "x": [
            22.56,
            17.62,
            18.65,
            23.77,
            26.67,
            17.06,
            20.3,
            28.87,
            16.42,
            24.27,
            16.79
           ],
           "y": [
            22.87,
            16.29,
            14.73,
            17.77,
            9,
            18.45,
            16.63,
            15.85,
            16.1,
            16.03,
            14.14
           ]
          }
         ],
         "name": "76"
        }
       ],
       "layout": {
        "annotations": [
         {
          "font": {
           "color": "white",
           "size": 25
          },
          "showarrow": false,
          "text": "10",
          "x": 20,
          "y": 48.3
         },
         {
          "font": {
           "color": "white",
           "size": 25
          },
          "showarrow": false,
          "text": "20",
          "x": 30,
          "y": 48.3
         },
         {
          "font": {
           "color": "white",
           "size": 25
          },
          "showarrow": false,
          "text": "30",
          "x": 40,
          "y": 48.3
         },
         {
          "font": {
           "color": "white",
           "size": 25
          },
          "showarrow": false,
          "text": "40",
          "x": 50,
          "y": 48.3
         },
         {
          "font": {
           "color": "white",
           "size": 25
          },
          "showarrow": false,
          "text": "50",
          "x": 60,
          "y": 48.3
         },
         {
          "font": {
           "color": "white",
           "size": 25
          },
          "showarrow": false,
          "text": "40",
          "x": 70,
          "y": 48.3
         },
         {
          "font": {
           "color": "white",
           "size": 25
          },
          "showarrow": false,
          "text": "30",
          "x": 80,
          "y": 48.3
         },
         {
          "font": {
           "color": "white",
           "size": 25
          },
          "showarrow": false,
          "text": "20",
          "x": 90,
          "y": 48.3
         },
         {
          "font": {
           "color": "white",
           "size": 25
          },
          "showarrow": false,
          "text": "10",
          "x": 100,
          "y": 48.3
         },
         {
          "font": {
           "color": "white",
           "size": 25
          },
          "showarrow": false,
          "text": "10",
          "x": 20,
          "y": 5
         },
         {
          "font": {
           "color": "white",
           "size": 25
          },
          "showarrow": false,
          "text": "20",
          "x": 30,
          "y": 5
         },
         {
          "font": {
           "color": "white",
           "size": 25
          },
          "showarrow": false,
          "text": "30",
          "x": 40,
          "y": 5
         },
         {
          "font": {
           "color": "white",
           "size": 25
          },
          "showarrow": false,
          "text": "40",
          "x": 50,
          "y": 5
         },
         {
          "font": {
           "color": "white",
           "size": 25
          },
          "showarrow": false,
          "text": "50",
          "x": 60,
          "y": 5
         },
         {
          "font": {
           "color": "white",
           "size": 25
          },
          "showarrow": false,
          "text": "40",
          "x": 70,
          "y": 5
         },
         {
          "font": {
           "color": "white",
           "size": 25
          },
          "showarrow": false,
          "text": "30",
          "x": 80,
          "y": 5
         },
         {
          "font": {
           "color": "white",
           "size": 25
          },
          "showarrow": false,
          "text": "20",
          "x": 90,
          "y": 5
         },
         {
          "font": {
           "color": "white",
           "size": 25
          },
          "showarrow": false,
          "text": "10",
          "x": 100,
          "y": 5
         }
        ],
        "height": 600,
        "shapes": [
         {
          "fillcolor": "#96B78C",
          "layer": "below",
          "line": {
           "width": 0
          },
          "type": "rect",
          "x0": 0,
          "x1": 120,
          "y0": 0,
          "y1": 53.3
         },
         {
          "fillcolor": "#6F976D",
          "layer": "below",
          "line": {
           "width": 0
          },
          "type": "rect",
          "x0": 0,
          "x1": 10,
          "y0": 0,
          "y1": 53.3
         },
         {
          "fillcolor": "#6F976D",
          "layer": "below",
          "line": {
           "width": 0
          },
          "type": "rect",
          "x0": 110,
          "x1": 120,
          "y0": 0,
          "y1": 53.3
         },
         {
          "layer": "below",
          "line": {
           "color": "white",
           "width": 2
          },
          "type": "line",
          "x0": 10,
          "x1": 10,
          "y0": 0,
          "y1": 53.3
         },
         {
          "layer": "below",
          "line": {
           "color": "white",
           "width": 1
          },
          "type": "line",
          "x0": 15,
          "x1": 15,
          "y0": 0,
          "y1": 53.3
         },
         {
          "layer": "below",
          "line": {
           "color": "white",
           "width": 2
          },
          "type": "line",
          "x0": 20,
          "x1": 20,
          "y0": 0,
          "y1": 53.3
         },
         {
          "layer": "below",
          "line": {
           "color": "white",
           "width": 1
          },
          "type": "line",
          "x0": 25,
          "x1": 25,
          "y0": 0,
          "y1": 53.3
         },
         {
          "layer": "below",
          "line": {
           "color": "white",
           "width": 2
          },
          "type": "line",
          "x0": 30,
          "x1": 30,
          "y0": 0,
          "y1": 53.3
         },
         {
          "layer": "below",
          "line": {
           "color": "white",
           "width": 1
          },
          "type": "line",
          "x0": 35,
          "x1": 35,
          "y0": 0,
          "y1": 53.3
         },
         {
          "layer": "below",
          "line": {
           "color": "white",
           "width": 2
          },
          "type": "line",
          "x0": 40,
          "x1": 40,
          "y0": 0,
          "y1": 53.3
         },
         {
          "layer": "below",
          "line": {
           "color": "white",
           "width": 1
          },
          "type": "line",
          "x0": 45,
          "x1": 45,
          "y0": 0,
          "y1": 53.3
         },
         {
          "layer": "below",
          "line": {
           "color": "white",
           "width": 2
          },
          "type": "line",
          "x0": 50,
          "x1": 50,
          "y0": 0,
          "y1": 53.3
         },
         {
          "layer": "below",
          "line": {
           "color": "white",
           "width": 1
          },
          "type": "line",
          "x0": 55,
          "x1": 55,
          "y0": 0,
          "y1": 53.3
         },
         {
          "layer": "below",
          "line": {
           "color": "white",
           "width": 2
          },
          "type": "line",
          "x0": 60,
          "x1": 60,
          "y0": 0,
          "y1": 53.3
         },
         {
          "layer": "below",
          "line": {
           "color": "white",
           "width": 1
          },
          "type": "line",
          "x0": 65,
          "x1": 65,
          "y0": 0,
          "y1": 53.3
         },
         {
          "layer": "below",
          "line": {
           "color": "white",
           "width": 2
          },
          "type": "line",
          "x0": 70,
          "x1": 70,
          "y0": 0,
          "y1": 53.3
         },
         {
          "layer": "below",
          "line": {
           "color": "white",
           "width": 1
          },
          "type": "line",
          "x0": 75,
          "x1": 75,
          "y0": 0,
          "y1": 53.3
         },
         {
          "layer": "below",
          "line": {
           "color": "white",
           "width": 2
          },
          "type": "line",
          "x0": 80,
          "x1": 80,
          "y0": 0,
          "y1": 53.3
         },
         {
          "layer": "below",
          "line": {
           "color": "white",
           "width": 1
          },
          "type": "line",
          "x0": 85,
          "x1": 85,
          "y0": 0,
          "y1": 53.3
         },
         {
          "layer": "below",
          "line": {
           "color": "white",
           "width": 2
          },
          "type": "line",
          "x0": 90,
          "x1": 90,
          "y0": 0,
          "y1": 53.3
         },
         {
          "layer": "below",
          "line": {
           "color": "white",
           "width": 1
          },
          "type": "line",
          "x0": 95,
          "x1": 95,
          "y0": 0,
          "y1": 53.3
         },
         {
          "layer": "below",
          "line": {
           "color": "white",
           "width": 2
          },
          "type": "line",
          "x0": 100,
          "x1": 100,
          "y0": 0,
          "y1": 53.3
         },
         {
          "layer": "below",
          "line": {
           "color": "white",
           "width": 1
          },
          "type": "line",
          "x0": 105,
          "x1": 105,
          "y0": 0,
          "y1": 53.3
         },
         {
          "layer": "below",
          "line": {
           "color": "white",
           "width": 2
          },
          "type": "line",
          "x0": 110,
          "x1": 110,
          "y0": 0,
          "y1": 53.3
         },
         {
          "layer": "below",
          "line": {
           "color": "#0070C0",
           "width": 2
          },
          "type": "line",
          "x0": 35,
          "x1": 35,
          "y0": 0,
          "y1": 53.3
         },
         {
          "layer": "below",
          "line": {
           "color": "#E9D11F",
           "width": 2
          },
          "type": "line",
          "x0": 25,
          "x1": 25,
          "y0": 0,
          "y1": 53.3
         }
        ],
        "sliders": [
         {
          "active": 0,
          "currentvalue": {
           "font": {
            "size": 20
           },
           "prefix": "frameId: ",
           "visible": true,
           "xanchor": "right"
          },
          "len": 0.9,
          "pad": {
           "b": 10,
           "t": 50
          },
          "steps": [
           {
            "args": [
             [
              "1"
             ],
             {
              "frame": {
               "duration": 50,
               "redraw": false
              },
              "mode": "immediate",
              "transition": {
               "duration": 0
              }
             }
            ],
            "label": "1",
            "method": "animate"
           },
           {
            "args": [
             [
              "2"
             ],
             {
              "frame": {
               "duration": 50,
               "redraw": false
              },
              "mode": "immediate",
              "transition": {
               "duration": 0
              }
             }
            ],
            "label": "2",
            "method": "animate"
           },
           {
            "args": [
             [
              "3"
             ],
             {
              "frame": {
               "duration": 50,
               "redraw": false
              },
              "mode": "immediate",
              "transition": {
               "duration": 0
              }
             }
            ],
            "label": "3",
            "method": "animate"
           },
           {
            "args": [
             [
              "4"
             ],
             {
              "frame": {
               "duration": 50,
               "redraw": false
              },
              "mode": "immediate",
              "transition": {
               "duration": 0
              }
             }
            ],
            "label": "4",
            "method": "animate"
           },
           {
            "args": [
             [
              "5"
             ],
             {
              "frame": {
               "duration": 50,
               "redraw": false
              },
              "mode": "immediate",
              "transition": {
               "duration": 0
              }
             }
            ],
            "label": "5",
            "method": "animate"
           },
           {
            "args": [
             [
              "6"
             ],
             {
              "frame": {
               "duration": 50,
               "redraw": false
              },
              "mode": "immediate",
              "transition": {
               "duration": 0
              }
             }
            ],
            "label": "6",
            "method": "animate"
           },
           {
            "args": [
             [
              "7"
             ],
             {
              "frame": {
               "duration": 50,
               "redraw": false
              },
              "mode": "immediate",
              "transition": {
               "duration": 0
              }
             }
            ],
            "label": "7",
            "method": "animate"
           },
           {
            "args": [
             [
              "8"
             ],
             {
              "frame": {
               "duration": 50,
               "redraw": false
              },
              "mode": "immediate",
              "transition": {
               "duration": 0
              }
             }
            ],
            "label": "8",
            "method": "animate"
           },
           {
            "args": [
             [
              "9"
             ],
             {
              "frame": {
               "duration": 50,
               "redraw": false
              },
              "mode": "immediate",
              "transition": {
               "duration": 0
              }
             }
            ],
            "label": "9",
            "method": "animate"
           },
           {
            "args": [
             [
              "10"
             ],
             {
              "frame": {
               "duration": 50,
               "redraw": false
              },
              "mode": "immediate",
              "transition": {
               "duration": 0
              }
             }
            ],
            "label": "10",
            "method": "animate"
           },
           {
            "args": [
             [
              "11"
             ],
             {
              "frame": {
               "duration": 50,
               "redraw": false
              },
              "mode": "immediate",
              "transition": {
               "duration": 0
              }
             }
            ],
            "label": "11",
            "method": "animate"
           },
           {
            "args": [
             [
              "12"
             ],
             {
              "frame": {
               "duration": 50,
               "redraw": false
              },
              "mode": "immediate",
              "transition": {
               "duration": 0
              }
             }
            ],
            "label": "12",
            "method": "animate"
           },
           {
            "args": [
             [
              "13"
             ],
             {
              "frame": {
               "duration": 50,
               "redraw": false
              },
              "mode": "immediate",
              "transition": {
               "duration": 0
              }
             }
            ],
            "label": "13",
            "method": "animate"
           },
           {
            "args": [
             [
              "14"
             ],
             {
              "frame": {
               "duration": 50,
               "redraw": false
              },
              "mode": "immediate",
              "transition": {
               "duration": 0
              }
             }
            ],
            "label": "14",
            "method": "animate"
           },
           {
            "args": [
             [
              "15"
             ],
             {
              "frame": {
               "duration": 50,
               "redraw": false
              },
              "mode": "immediate",
              "transition": {
               "duration": 0
              }
             }
            ],
            "label": "15",
            "method": "animate"
           },
           {
            "args": [
             [
              "16"
             ],
             {
              "frame": {
               "duration": 50,
               "redraw": false
              },
              "mode": "immediate",
              "transition": {
               "duration": 0
              }
             }
            ],
            "label": "16",
            "method": "animate"
           },
           {
            "args": [
             [
              "17"
             ],
             {
              "frame": {
               "duration": 50,
               "redraw": false
              },
              "mode": "immediate",
              "transition": {
               "duration": 0
              }
             }
            ],
            "label": "17",
            "method": "animate"
           },
           {
            "args": [
             [
              "18"
             ],
             {
              "frame": {
               "duration": 50,
               "redraw": false
              },
              "mode": "immediate",
              "transition": {
               "duration": 0
              }
             }
            ],
            "label": "18",
            "method": "animate"
           },
           {
            "args": [
             [
              "19"
             ],
             {
              "frame": {
               "duration": 50,
               "redraw": false
              },
              "mode": "immediate",
              "transition": {
               "duration": 0
              }
             }
            ],
            "label": "19",
            "method": "animate"
           },
           {
            "args": [
             [
              "20"
             ],
             {
              "frame": {
               "duration": 50,
               "redraw": false
              },
              "mode": "immediate",
              "transition": {
               "duration": 0
              }
             }
            ],
            "label": "20",
            "method": "animate"
           },
           {
            "args": [
             [
              "21"
             ],
             {
              "frame": {
               "duration": 50,
               "redraw": false
              },
              "mode": "immediate",
              "transition": {
               "duration": 0
              }
             }
            ],
            "label": "21",
            "method": "animate"
           },
           {
            "args": [
             [
              "22"
             ],
             {
              "frame": {
               "duration": 50,
               "redraw": false
              },
              "mode": "immediate",
              "transition": {
               "duration": 0
              }
             }
            ],
            "label": "22",
            "method": "animate"
           },
           {
            "args": [
             [
              "23"
             ],
             {
              "frame": {
               "duration": 50,
               "redraw": false
              },
              "mode": "immediate",
              "transition": {
               "duration": 0
              }
             }
            ],
            "label": "23",
            "method": "animate"
           },
           {
            "args": [
             [
              "24"
             ],
             {
              "frame": {
               "duration": 50,
               "redraw": false
              },
              "mode": "immediate",
              "transition": {
               "duration": 0
              }
             }
            ],
            "label": "24",
            "method": "animate"
           },
           {
            "args": [
             [
              "25"
             ],
             {
              "frame": {
               "duration": 50,
               "redraw": false
              },
              "mode": "immediate",
              "transition": {
               "duration": 0
              }
             }
            ],
            "label": "25",
            "method": "animate"
           },
           {
            "args": [
             [
              "26"
             ],
             {
              "frame": {
               "duration": 50,
               "redraw": false
              },
              "mode": "immediate",
              "transition": {
               "duration": 0
              }
             }
            ],
            "label": "26",
            "method": "animate"
           },
           {
            "args": [
             [
              "27"
             ],
             {
              "frame": {
               "duration": 50,
               "redraw": false
              },
              "mode": "immediate",
              "transition": {
               "duration": 0
              }
             }
            ],
            "label": "27",
            "method": "animate"
           },
           {
            "args": [
             [
              "28"
             ],
             {
              "frame": {
               "duration": 50,
               "redraw": false
              },
              "mode": "immediate",
              "transition": {
               "duration": 0
              }
             }
            ],
            "label": "28",
            "method": "animate"
           },
           {
            "args": [
             [
              "29"
             ],
             {
              "frame": {
               "duration": 50,
               "redraw": false
              },
              "mode": "immediate",
              "transition": {
               "duration": 0
              }
             }
            ],
            "label": "29",
            "method": "animate"
           },
           {
            "args": [
             [
              "30"
             ],
             {
              "frame": {
               "duration": 50,
               "redraw": false
              },
              "mode": "immediate",
              "transition": {
               "duration": 0
              }
             }
            ],
            "label": "30",
            "method": "animate"
           },
           {
            "args": [
             [
              "31"
             ],
             {
              "frame": {
               "duration": 50,
               "redraw": false
              },
              "mode": "immediate",
              "transition": {
               "duration": 0
              }
             }
            ],
            "label": "31",
            "method": "animate"
           },
           {
            "args": [
             [
              "32"
             ],
             {
              "frame": {
               "duration": 50,
               "redraw": false
              },
              "mode": "immediate",
              "transition": {
               "duration": 0
              }
             }
            ],
            "label": "32",
            "method": "animate"
           },
           {
            "args": [
             [
              "33"
             ],
             {
              "frame": {
               "duration": 50,
               "redraw": false
              },
              "mode": "immediate",
              "transition": {
               "duration": 0
              }
             }
            ],
            "label": "33",
            "method": "animate"
           },
           {
            "args": [
             [
              "34"
             ],
             {
              "frame": {
               "duration": 50,
               "redraw": false
              },
              "mode": "immediate",
              "transition": {
               "duration": 0
              }
             }
            ],
            "label": "34",
            "method": "animate"
           },
           {
            "args": [
             [
              "35"
             ],
             {
              "frame": {
               "duration": 50,
               "redraw": false
              },
              "mode": "immediate",
              "transition": {
               "duration": 0
              }
             }
            ],
            "label": "35",
            "method": "animate"
           },
           {
            "args": [
             [
              "36"
             ],
             {
              "frame": {
               "duration": 50,
               "redraw": false
              },
              "mode": "immediate",
              "transition": {
               "duration": 0
              }
             }
            ],
            "label": "36",
            "method": "animate"
           },
           {
            "args": [
             [
              "37"
             ],
             {
              "frame": {
               "duration": 50,
               "redraw": false
              },
              "mode": "immediate",
              "transition": {
               "duration": 0
              }
             }
            ],
            "label": "37",
            "method": "animate"
           },
           {
            "args": [
             [
              "38"
             ],
             {
              "frame": {
               "duration": 50,
               "redraw": false
              },
              "mode": "immediate",
              "transition": {
               "duration": 0
              }
             }
            ],
            "label": "38",
            "method": "animate"
           },
           {
            "args": [
             [
              "39"
             ],
             {
              "frame": {
               "duration": 50,
               "redraw": false
              },
              "mode": "immediate",
              "transition": {
               "duration": 0
              }
             }
            ],
            "label": "39",
            "method": "animate"
           },
           {
            "args": [
             [
              "40"
             ],
             {
              "frame": {
               "duration": 50,
               "redraw": false
              },
              "mode": "immediate",
              "transition": {
               "duration": 0
              }
             }
            ],
            "label": "40",
            "method": "animate"
           },
           {
            "args": [
             [
              "41"
             ],
             {
              "frame": {
               "duration": 50,
               "redraw": false
              },
              "mode": "immediate",
              "transition": {
               "duration": 0
              }
             }
            ],
            "label": "41",
            "method": "animate"
           },
           {
            "args": [
             [
              "42"
             ],
             {
              "frame": {
               "duration": 50,
               "redraw": false
              },
              "mode": "immediate",
              "transition": {
               "duration": 0
              }
             }
            ],
            "label": "42",
            "method": "animate"
           },
           {
            "args": [
             [
              "43"
             ],
             {
              "frame": {
               "duration": 50,
               "redraw": false
              },
              "mode": "immediate",
              "transition": {
               "duration": 0
              }
             }
            ],
            "label": "43",
            "method": "animate"
           },
           {
            "args": [
             [
              "44"
             ],
             {
              "frame": {
               "duration": 50,
               "redraw": false
              },
              "mode": "immediate",
              "transition": {
               "duration": 0
              }
             }
            ],
            "label": "44",
            "method": "animate"
           },
           {
            "args": [
             [
              "45"
             ],
             {
              "frame": {
               "duration": 50,
               "redraw": false
              },
              "mode": "immediate",
              "transition": {
               "duration": 0
              }
             }
            ],
            "label": "45",
            "method": "animate"
           },
           {
            "args": [
             [
              "46"
             ],
             {
              "frame": {
               "duration": 50,
               "redraw": false
              },
              "mode": "immediate",
              "transition": {
               "duration": 0
              }
             }
            ],
            "label": "46",
            "method": "animate"
           },
           {
            "args": [
             [
              "47"
             ],
             {
              "frame": {
               "duration": 50,
               "redraw": false
              },
              "mode": "immediate",
              "transition": {
               "duration": 0
              }
             }
            ],
            "label": "47",
            "method": "animate"
           },
           {
            "args": [
             [
              "48"
             ],
             {
              "frame": {
               "duration": 50,
               "redraw": false
              },
              "mode": "immediate",
              "transition": {
               "duration": 0
              }
             }
            ],
            "label": "48",
            "method": "animate"
           },
           {
            "args": [
             [
              "49"
             ],
             {
              "frame": {
               "duration": 50,
               "redraw": false
              },
              "mode": "immediate",
              "transition": {
               "duration": 0
              }
             }
            ],
            "label": "49",
            "method": "animate"
           },
           {
            "args": [
             [
              "50"
             ],
             {
              "frame": {
               "duration": 50,
               "redraw": false
              },
              "mode": "immediate",
              "transition": {
               "duration": 0
              }
             }
            ],
            "label": "50",
            "method": "animate"
           },
           {
            "args": [
             [
              "51"
             ],
             {
              "frame": {
               "duration": 50,
               "redraw": false
              },
              "mode": "immediate",
              "transition": {
               "duration": 0
              }
             }
            ],
            "label": "51",
            "method": "animate"
           },
           {
            "args": [
             [
              "52"
             ],
             {
              "frame": {
               "duration": 50,
               "redraw": false
              },
              "mode": "immediate",
              "transition": {
               "duration": 0
              }
             }
            ],
            "label": "52",
            "method": "animate"
           },
           {
            "args": [
             [
              "53"
             ],
             {
              "frame": {
               "duration": 50,
               "redraw": false
              },
              "mode": "immediate",
              "transition": {
               "duration": 0
              }
             }
            ],
            "label": "53",
            "method": "animate"
           },
           {
            "args": [
             [
              "54"
             ],
             {
              "frame": {
               "duration": 50,
               "redraw": false
              },
              "mode": "immediate",
              "transition": {
               "duration": 0
              }
             }
            ],
            "label": "54",
            "method": "animate"
           },
           {
            "args": [
             [
              "55"
             ],
             {
              "frame": {
               "duration": 50,
               "redraw": false
              },
              "mode": "immediate",
              "transition": {
               "duration": 0
              }
             }
            ],
            "label": "55",
            "method": "animate"
           },
           {
            "args": [
             [
              "56"
             ],
             {
              "frame": {
               "duration": 50,
               "redraw": false
              },
              "mode": "immediate",
              "transition": {
               "duration": 0
              }
             }
            ],
            "label": "56",
            "method": "animate"
           },
           {
            "args": [
             [
              "57"
             ],
             {
              "frame": {
               "duration": 50,
               "redraw": false
              },
              "mode": "immediate",
              "transition": {
               "duration": 0
              }
             }
            ],
            "label": "57",
            "method": "animate"
           },
           {
            "args": [
             [
              "58"
             ],
             {
              "frame": {
               "duration": 50,
               "redraw": false
              },
              "mode": "immediate",
              "transition": {
               "duration": 0
              }
             }
            ],
            "label": "58",
            "method": "animate"
           },
           {
            "args": [
             [
              "59"
             ],
             {
              "frame": {
               "duration": 50,
               "redraw": false
              },
              "mode": "immediate",
              "transition": {
               "duration": 0
              }
             }
            ],
            "label": "59",
            "method": "animate"
           },
           {
            "args": [
             [
              "60"
             ],
             {
              "frame": {
               "duration": 50,
               "redraw": false
              },
              "mode": "immediate",
              "transition": {
               "duration": 0
              }
             }
            ],
            "label": "60",
            "method": "animate"
           },
           {
            "args": [
             [
              "61"
             ],
             {
              "frame": {
               "duration": 50,
               "redraw": false
              },
              "mode": "immediate",
              "transition": {
               "duration": 0
              }
             }
            ],
            "label": "61",
            "method": "animate"
           },
           {
            "args": [
             [
              "62"
             ],
             {
              "frame": {
               "duration": 50,
               "redraw": false
              },
              "mode": "immediate",
              "transition": {
               "duration": 0
              }
             }
            ],
            "label": "62",
            "method": "animate"
           },
           {
            "args": [
             [
              "63"
             ],
             {
              "frame": {
               "duration": 50,
               "redraw": false
              },
              "mode": "immediate",
              "transition": {
               "duration": 0
              }
             }
            ],
            "label": "63",
            "method": "animate"
           },
           {
            "args": [
             [
              "64"
             ],
             {
              "frame": {
               "duration": 50,
               "redraw": false
              },
              "mode": "immediate",
              "transition": {
               "duration": 0
              }
             }
            ],
            "label": "64",
            "method": "animate"
           },
           {
            "args": [
             [
              "65"
             ],
             {
              "frame": {
               "duration": 50,
               "redraw": false
              },
              "mode": "immediate",
              "transition": {
               "duration": 0
              }
             }
            ],
            "label": "65",
            "method": "animate"
           },
           {
            "args": [
             [
              "66"
             ],
             {
              "frame": {
               "duration": 50,
               "redraw": false
              },
              "mode": "immediate",
              "transition": {
               "duration": 0
              }
             }
            ],
            "label": "66",
            "method": "animate"
           },
           {
            "args": [
             [
              "67"
             ],
             {
              "frame": {
               "duration": 50,
               "redraw": false
              },
              "mode": "immediate",
              "transition": {
               "duration": 0
              }
             }
            ],
            "label": "67",
            "method": "animate"
           },
           {
            "args": [
             [
              "68"
             ],
             {
              "frame": {
               "duration": 50,
               "redraw": false
              },
              "mode": "immediate",
              "transition": {
               "duration": 0
              }
             }
            ],
            "label": "68",
            "method": "animate"
           },
           {
            "args": [
             [
              "69"
             ],
             {
              "frame": {
               "duration": 50,
               "redraw": false
              },
              "mode": "immediate",
              "transition": {
               "duration": 0
              }
             }
            ],
            "label": "69",
            "method": "animate"
           },
           {
            "args": [
             [
              "70"
             ],
             {
              "frame": {
               "duration": 50,
               "redraw": false
              },
              "mode": "immediate",
              "transition": {
               "duration": 0
              }
             }
            ],
            "label": "70",
            "method": "animate"
           },
           {
            "args": [
             [
              "71"
             ],
             {
              "frame": {
               "duration": 50,
               "redraw": false
              },
              "mode": "immediate",
              "transition": {
               "duration": 0
              }
             }
            ],
            "label": "71",
            "method": "animate"
           },
           {
            "args": [
             [
              "72"
             ],
             {
              "frame": {
               "duration": 50,
               "redraw": false
              },
              "mode": "immediate",
              "transition": {
               "duration": 0
              }
             }
            ],
            "label": "72",
            "method": "animate"
           },
           {
            "args": [
             [
              "73"
             ],
             {
              "frame": {
               "duration": 50,
               "redraw": false
              },
              "mode": "immediate",
              "transition": {
               "duration": 0
              }
             }
            ],
            "label": "73",
            "method": "animate"
           },
           {
            "args": [
             [
              "74"
             ],
             {
              "frame": {
               "duration": 50,
               "redraw": false
              },
              "mode": "immediate",
              "transition": {
               "duration": 0
              }
             }
            ],
            "label": "74",
            "method": "animate"
           },
           {
            "args": [
             [
              "75"
             ],
             {
              "frame": {
               "duration": 50,
               "redraw": false
              },
              "mode": "immediate",
              "transition": {
               "duration": 0
              }
             }
            ],
            "label": "75",
            "method": "animate"
           },
           {
            "args": [
             [
              "76"
             ],
             {
              "frame": {
               "duration": 50,
               "redraw": false
              },
              "mode": "immediate",
              "transition": {
               "duration": 0
              }
             }
            ],
            "label": "76",
            "method": "animate"
           }
          ],
          "transition": {
           "duration": 50,
           "easing": "cubic-in-out"
          },
          "x": 0.1,
          "xanchor": "left",
          "y": 0,
          "yanchor": "top"
         }
        ],
        "template": {
         "data": {
          "bar": [
           {
            "error_x": {
             "color": "#2a3f5f"
            },
            "error_y": {
             "color": "#2a3f5f"
            },
            "marker": {
             "line": {
              "color": "#E5ECF6",
              "width": 0.5
             },
             "pattern": {
              "fillmode": "overlay",
              "size": 10,
              "solidity": 0.2
             }
            },
            "type": "bar"
           }
          ],
          "barpolar": [
           {
            "marker": {
             "line": {
              "color": "#E5ECF6",
              "width": 0.5
             },
             "pattern": {
              "fillmode": "overlay",
              "size": 10,
              "solidity": 0.2
             }
            },
            "type": "barpolar"
           }
          ],
          "carpet": [
           {
            "aaxis": {
             "endlinecolor": "#2a3f5f",
             "gridcolor": "white",
             "linecolor": "white",
             "minorgridcolor": "white",
             "startlinecolor": "#2a3f5f"
            },
            "baxis": {
             "endlinecolor": "#2a3f5f",
             "gridcolor": "white",
             "linecolor": "white",
             "minorgridcolor": "white",
             "startlinecolor": "#2a3f5f"
            },
            "type": "carpet"
           }
          ],
          "choropleth": [
           {
            "colorbar": {
             "outlinewidth": 0,
             "ticks": ""
            },
            "type": "choropleth"
           }
          ],
          "contour": [
           {
            "colorbar": {
             "outlinewidth": 0,
             "ticks": ""
            },
            "colorscale": [
             [
              0,
              "#0d0887"
             ],
             [
              0.1111111111111111,
              "#46039f"
             ],
             [
              0.2222222222222222,
              "#7201a8"
             ],
             [
              0.3333333333333333,
              "#9c179e"
             ],
             [
              0.4444444444444444,
              "#bd3786"
             ],
             [
              0.5555555555555556,
              "#d8576b"
             ],
             [
              0.6666666666666666,
              "#ed7953"
             ],
             [
              0.7777777777777778,
              "#fb9f3a"
             ],
             [
              0.8888888888888888,
              "#fdca26"
             ],
             [
              1,
              "#f0f921"
             ]
            ],
            "type": "contour"
           }
          ],
          "contourcarpet": [
           {
            "colorbar": {
             "outlinewidth": 0,
             "ticks": ""
            },
            "type": "contourcarpet"
           }
          ],
          "heatmap": [
           {
            "colorbar": {
             "outlinewidth": 0,
             "ticks": ""
            },
            "colorscale": [
             [
              0,
              "#0d0887"
             ],
             [
              0.1111111111111111,
              "#46039f"
             ],
             [
              0.2222222222222222,
              "#7201a8"
             ],
             [
              0.3333333333333333,
              "#9c179e"
             ],
             [
              0.4444444444444444,
              "#bd3786"
             ],
             [
              0.5555555555555556,
              "#d8576b"
             ],
             [
              0.6666666666666666,
              "#ed7953"
             ],
             [
              0.7777777777777778,
              "#fb9f3a"
             ],
             [
              0.8888888888888888,
              "#fdca26"
             ],
             [
              1,
              "#f0f921"
             ]
            ],
            "type": "heatmap"
           }
          ],
          "heatmapgl": [
           {
            "colorbar": {
             "outlinewidth": 0,
             "ticks": ""
            },
            "colorscale": [
             [
              0,
              "#0d0887"
             ],
             [
              0.1111111111111111,
              "#46039f"
             ],
             [
              0.2222222222222222,
              "#7201a8"
             ],
             [
              0.3333333333333333,
              "#9c179e"
             ],
             [
              0.4444444444444444,
              "#bd3786"
             ],
             [
              0.5555555555555556,
              "#d8576b"
             ],
             [
              0.6666666666666666,
              "#ed7953"
             ],
             [
              0.7777777777777778,
              "#fb9f3a"
             ],
             [
              0.8888888888888888,
              "#fdca26"
             ],
             [
              1,
              "#f0f921"
             ]
            ],
            "type": "heatmapgl"
           }
          ],
          "histogram": [
           {
            "marker": {
             "pattern": {
              "fillmode": "overlay",
              "size": 10,
              "solidity": 0.2
             }
            },
            "type": "histogram"
           }
          ],
          "histogram2d": [
           {
            "colorbar": {
             "outlinewidth": 0,
             "ticks": ""
            },
            "colorscale": [
             [
              0,
              "#0d0887"
             ],
             [
              0.1111111111111111,
              "#46039f"
             ],
             [
              0.2222222222222222,
              "#7201a8"
             ],
             [
              0.3333333333333333,
              "#9c179e"
             ],
             [
              0.4444444444444444,
              "#bd3786"
             ],
             [
              0.5555555555555556,
              "#d8576b"
             ],
             [
              0.6666666666666666,
              "#ed7953"
             ],
             [
              0.7777777777777778,
              "#fb9f3a"
             ],
             [
              0.8888888888888888,
              "#fdca26"
             ],
             [
              1,
              "#f0f921"
             ]
            ],
            "type": "histogram2d"
           }
          ],
          "histogram2dcontour": [
           {
            "colorbar": {
             "outlinewidth": 0,
             "ticks": ""
            },
            "colorscale": [
             [
              0,
              "#0d0887"
             ],
             [
              0.1111111111111111,
              "#46039f"
             ],
             [
              0.2222222222222222,
              "#7201a8"
             ],
             [
              0.3333333333333333,
              "#9c179e"
             ],
             [
              0.4444444444444444,
              "#bd3786"
             ],
             [
              0.5555555555555556,
              "#d8576b"
             ],
             [
              0.6666666666666666,
              "#ed7953"
             ],
             [
              0.7777777777777778,
              "#fb9f3a"
             ],
             [
              0.8888888888888888,
              "#fdca26"
             ],
             [
              1,
              "#f0f921"
             ]
            ],
            "type": "histogram2dcontour"
           }
          ],
          "mesh3d": [
           {
            "colorbar": {
             "outlinewidth": 0,
             "ticks": ""
            },
            "type": "mesh3d"
           }
          ],
          "parcoords": [
           {
            "line": {
             "colorbar": {
              "outlinewidth": 0,
              "ticks": ""
             }
            },
            "type": "parcoords"
           }
          ],
          "pie": [
           {
            "automargin": true,
            "type": "pie"
           }
          ],
          "scatter": [
           {
            "fillpattern": {
             "fillmode": "overlay",
             "size": 10,
             "solidity": 0.2
            },
            "type": "scatter"
           }
          ],
          "scatter3d": [
           {
            "line": {
             "colorbar": {
              "outlinewidth": 0,
              "ticks": ""
             }
            },
            "marker": {
             "colorbar": {
              "outlinewidth": 0,
              "ticks": ""
             }
            },
            "type": "scatter3d"
           }
          ],
          "scattercarpet": [
           {
            "marker": {
             "colorbar": {
              "outlinewidth": 0,
              "ticks": ""
             }
            },
            "type": "scattercarpet"
           }
          ],
          "scattergeo": [
           {
            "marker": {
             "colorbar": {
              "outlinewidth": 0,
              "ticks": ""
             }
            },
            "type": "scattergeo"
           }
          ],
          "scattergl": [
           {
            "marker": {
             "colorbar": {
              "outlinewidth": 0,
              "ticks": ""
             }
            },
            "type": "scattergl"
           }
          ],
          "scattermapbox": [
           {
            "marker": {
             "colorbar": {
              "outlinewidth": 0,
              "ticks": ""
             }
            },
            "type": "scattermapbox"
           }
          ],
          "scatterpolar": [
           {
            "marker": {
             "colorbar": {
              "outlinewidth": 0,
              "ticks": ""
             }
            },
            "type": "scatterpolar"
           }
          ],
          "scatterpolargl": [
           {
            "marker": {
             "colorbar": {
              "outlinewidth": 0,
              "ticks": ""
             }
            },
            "type": "scatterpolargl"
           }
          ],
          "scatterternary": [
           {
            "marker": {
             "colorbar": {
              "outlinewidth": 0,
              "ticks": ""
             }
            },
            "type": "scatterternary"
           }
          ],
          "surface": [
           {
            "colorbar": {
             "outlinewidth": 0,
             "ticks": ""
            },
            "colorscale": [
             [
              0,
              "#0d0887"
             ],
             [
              0.1111111111111111,
              "#46039f"
             ],
             [
              0.2222222222222222,
              "#7201a8"
             ],
             [
              0.3333333333333333,
              "#9c179e"
             ],
             [
              0.4444444444444444,
              "#bd3786"
             ],
             [
              0.5555555555555556,
              "#d8576b"
             ],
             [
              0.6666666666666666,
              "#ed7953"
             ],
             [
              0.7777777777777778,
              "#fb9f3a"
             ],
             [
              0.8888888888888888,
              "#fdca26"
             ],
             [
              1,
              "#f0f921"
             ]
            ],
            "type": "surface"
           }
          ],
          "table": [
           {
            "cells": {
             "fill": {
              "color": "#EBF0F8"
             },
             "line": {
              "color": "white"
             }
            },
            "header": {
             "fill": {
              "color": "#C8D4E3"
             },
             "line": {
              "color": "white"
             }
            },
            "type": "table"
           }
          ]
         },
         "layout": {
          "annotationdefaults": {
           "arrowcolor": "#2a3f5f",
           "arrowhead": 0,
           "arrowwidth": 1
          },
          "autotypenumbers": "strict",
          "coloraxis": {
           "colorbar": {
            "outlinewidth": 0,
            "ticks": ""
           }
          },
          "colorscale": {
           "diverging": [
            [
             0,
             "#8e0152"
            ],
            [
             0.1,
             "#c51b7d"
            ],
            [
             0.2,
             "#de77ae"
            ],
            [
             0.3,
             "#f1b6da"
            ],
            [
             0.4,
             "#fde0ef"
            ],
            [
             0.5,
             "#f7f7f7"
            ],
            [
             0.6,
             "#e6f5d0"
            ],
            [
             0.7,
             "#b8e186"
            ],
            [
             0.8,
             "#7fbc41"
            ],
            [
             0.9,
             "#4d9221"
            ],
            [
             1,
             "#276419"
            ]
           ],
           "sequential": [
            [
             0,
             "#0d0887"
            ],
            [
             0.1111111111111111,
             "#46039f"
            ],
            [
             0.2222222222222222,
             "#7201a8"
            ],
            [
             0.3333333333333333,
             "#9c179e"
            ],
            [
             0.4444444444444444,
             "#bd3786"
            ],
            [
             0.5555555555555556,
             "#d8576b"
            ],
            [
             0.6666666666666666,
             "#ed7953"
            ],
            [
             0.7777777777777778,
             "#fb9f3a"
            ],
            [
             0.8888888888888888,
             "#fdca26"
            ],
            [
             1,
             "#f0f921"
            ]
           ],
           "sequentialminus": [
            [
             0,
             "#0d0887"
            ],
            [
             0.1111111111111111,
             "#46039f"
            ],
            [
             0.2222222222222222,
             "#7201a8"
            ],
            [
             0.3333333333333333,
             "#9c179e"
            ],
            [
             0.4444444444444444,
             "#bd3786"
            ],
            [
             0.5555555555555556,
             "#d8576b"
            ],
            [
             0.6666666666666666,
             "#ed7953"
            ],
            [
             0.7777777777777778,
             "#fb9f3a"
            ],
            [
             0.8888888888888888,
             "#fdca26"
            ],
            [
             1,
             "#f0f921"
            ]
           ]
          },
          "colorway": [
           "#636efa",
           "#EF553B",
           "#00cc96",
           "#ab63fa",
           "#FFA15A",
           "#19d3f3",
           "#FF6692",
           "#B6E880",
           "#FF97FF",
           "#FECB52"
          ],
          "font": {
           "color": "#2a3f5f"
          },
          "geo": {
           "bgcolor": "white",
           "lakecolor": "white",
           "landcolor": "#E5ECF6",
           "showlakes": true,
           "showland": true,
           "subunitcolor": "white"
          },
          "hoverlabel": {
           "align": "left"
          },
          "hovermode": "closest",
          "mapbox": {
           "style": "light"
          },
          "paper_bgcolor": "white",
          "plot_bgcolor": "#E5ECF6",
          "polar": {
           "angularaxis": {
            "gridcolor": "white",
            "linecolor": "white",
            "ticks": ""
           },
           "bgcolor": "#E5ECF6",
           "radialaxis": {
            "gridcolor": "white",
            "linecolor": "white",
            "ticks": ""
           }
          },
          "scene": {
           "xaxis": {
            "backgroundcolor": "#E5ECF6",
            "gridcolor": "white",
            "gridwidth": 2,
            "linecolor": "white",
            "showbackground": true,
            "ticks": "",
            "zerolinecolor": "white"
           },
           "yaxis": {
            "backgroundcolor": "#E5ECF6",
            "gridcolor": "white",
            "gridwidth": 2,
            "linecolor": "white",
            "showbackground": true,
            "ticks": "",
            "zerolinecolor": "white"
           },
           "zaxis": {
            "backgroundcolor": "#E5ECF6",
            "gridcolor": "white",
            "gridwidth": 2,
            "linecolor": "white",
            "showbackground": true,
            "ticks": "",
            "zerolinecolor": "white"
           }
          },
          "shapedefaults": {
           "line": {
            "color": "#2a3f5f"
           }
          },
          "ternary": {
           "aaxis": {
            "gridcolor": "white",
            "linecolor": "white",
            "ticks": ""
           },
           "baxis": {
            "gridcolor": "white",
            "linecolor": "white",
            "ticks": ""
           },
           "bgcolor": "#E5ECF6",
           "caxis": {
            "gridcolor": "white",
            "linecolor": "white",
            "ticks": ""
           }
          },
          "title": {
           "x": 0.05
          },
          "xaxis": {
           "automargin": true,
           "gridcolor": "white",
           "linecolor": "white",
           "ticks": "",
           "title": {
            "standoff": 15
           },
           "zerolinecolor": "white",
           "zerolinewidth": 2
          },
          "yaxis": {
           "automargin": true,
           "gridcolor": "white",
           "linecolor": "white",
           "ticks": "",
           "title": {
            "standoff": 15
           },
           "zerolinecolor": "white",
           "zerolinewidth": 2
          }
         }
        },
        "updatemenus": [
         {
          "buttons": [
           {
            "args": [
             null,
             {
              "frame": {
               "duration": 50,
               "redraw": false
              },
              "fromcurrent": true,
              "transition": {
               "duration": 0
              }
             }
            ],
            "label": "⏵",
            "method": "animate"
           },
           {
            "args": [
             [
              null
             ],
             {
              "frame": {
               "duration": 0,
               "redraw": false
              },
              "mode": "immediate",
              "transition": {
               "duration": 0
              }
             }
            ],
            "label": "⏸",
            "method": "animate"
           }
          ],
          "direction": "left",
          "pad": {
           "r": 10,
           "t": 87
          },
          "showactive": false,
          "type": "buttons",
          "x": 0.1,
          "xanchor": "right",
          "y": 0,
          "yanchor": "top"
         }
        ],
        "xaxis": {
         "range": [
          -5,
          125
         ],
         "visible": false
        },
        "yaxis": {
         "range": [
          -5,
          58.3
         ],
         "scaleanchor": "x",
         "scaleratio": 1,
         "visible": false
        }
       }
      }
     },
     "metadata": {},
     "output_type": "display_data"
    }
   ],
   "source": [
    "field.fig.show()"
   ]
  },
  {
   "cell_type": "code",
   "execution_count": 81,
   "metadata": {},
   "outputs": [],
   "source": [
    "field_proba = Field()\n",
    "field_proba.draw_scrimmage_and_first_down(**test_play_tracking[[\"absoluteYardlineNumber\", \"yardsToGo\", \"playDirection\"]].iloc[0].to_dict())\n",
    "field_proba.create_tackling_probability_animation(test_play_tracking)"
   ]
  },
  {
   "cell_type": "code",
   "execution_count": 84,
   "metadata": {},
   "outputs": [
    {
     "data": {
      "application/vnd.plotly.v1+json": {
       "config": {
        "plotlyServerURL": "https://plot.ly"
       },
       "data": [
        {
         "hoverinfo": "none",
         "marker": {
          "color": "black",
          "size": 10
         },
         "mode": "markers",
         "name": "offense",
         "type": "scatter",
         "x": [
          36.63,
          35.58,
          36.25,
          36.02,
          36.63,
          36.08,
          35.57,
          36.22,
          42.41,
          36.02,
          36.78
         ],
         "y": [
          29.51,
          36.97,
          32.39,
          25.26,
          34.41,
          26.48,
          29.8,
          30.97,
          29.51,
          27.95,
          19.9
         ]
        },
        {
         "hoverinfo": "none",
         "marker": {
          "color": "yellow",
          "opacity": 0,
          "size": 10
         },
         "mode": "markers",
         "name": "ball_carrier",
         "type": "scatter",
         "x": [
          0
         ],
         "y": [
          0
         ]
        },
        {
         "customdata": [
          [
           37075,
           "Von Miller",
           "OLB",
           "BUF",
           0
          ],
          [
           40107,
           "Micah Hyde",
           "FS",
           "BUF",
           0
          ],
          [
           40166,
           "Jordan Poyer",
           "SS",
           "BUF",
           0
          ],
          [
           41341,
           "DaQuan Jones",
           "DT",
           "BUF",
           0
          ],
          [
           44976,
           "Matt Milano",
           "OLB",
           "BUF",
           0
          ],
          [
           46085,
           "Tremaine Edmunds",
           "ILB",
           "BUF",
           0
          ],
          [
           46190,
           "Taron Johnson",
           "CB",
           "BUF",
           0
          ],
          [
           46232,
           "Tim Settle",
           "DT",
           "BUF",
           0
          ],
          [
           52647,
           "Dane Jackson",
           "CB",
           "BUF",
           0
          ],
          [
           53459,
           "Gregory Rousseau",
           "DE",
           "BUF",
           0
          ],
          [
           54488,
           "Kaiir Elam",
           "CB",
           "BUF",
           0
          ]
         ],
         "hovertemplate": "<b>nflId:</b> %{customdata[0]}<br><b>Player:</b> %{customdata[1]} %{customdata[2]}<br><b>Team:</b> %{customdata[3]}<br><br><b>Tackling Probability:</b> %{customdata[4]}",
         "marker": {
          "cmax": 1,
          "cmin": 0,
          "color": [
           "#fff5f0",
           "#fff5f0",
           "#fff5f0",
           "#fff5f0",
           "#fff5f0",
           "#fff5f0",
           "#fff5f0",
           "#fff5f0",
           "#fff5f0",
           "#fff5f0",
           "#fff5f0"
          ],
          "colorbar": {
           "len": 0.85,
           "thickness": 10,
           "title": {
            "text": "defense"
           },
           "x": 1.03,
           "y": 0.4
          },
          "colorscale": [
           [
            0,
            "rgb(255,245,240)"
           ],
           [
            0.125,
            "rgb(254,224,210)"
           ],
           [
            0.25,
            "rgb(252,187,161)"
           ],
           [
            0.375,
            "rgb(252,146,114)"
           ],
           [
            0.5,
            "rgb(251,106,74)"
           ],
           [
            0.625,
            "rgb(239,59,44)"
           ],
           [
            0.75,
            "rgb(203,24,29)"
           ],
           [
            0.875,
            "rgb(165,15,21)"
           ],
           [
            1,
            "rgb(103,0,13)"
           ]
          ],
          "size": 10
         },
         "mode": "markers",
         "name": "defense",
         "showlegend": false,
         "type": "scatter",
         "x": [
          34.36,
          22.26,
          22.43,
          34.51,
          29.98,
          29.73,
          31.68,
          34.5,
          34.15,
          34.42,
          34.88
         ],
         "y": [
          34.03,
          35,
          22.78,
          27.16,
          26.17,
          30.17,
          34.39,
          30.57,
          37.36,
          25.1,
          19.62
         ]
        }
       ],
       "frames": [
        {
         "data": [
          {
           "hoverinfo": "none",
           "marker": {
            "color": "black",
            "size": 10
           },
           "mode": "markers",
           "name": "offense",
           "type": "scatter",
           "x": [
            36.63,
            35.58,
            36.25,
            36.02,
            36.63,
            36.08,
            35.57,
            36.22,
            42.41,
            36.02,
            36.78
           ],
           "y": [
            29.51,
            36.97,
            32.39,
            25.26,
            34.41,
            26.48,
            29.8,
            30.97,
            29.51,
            27.95,
            19.9
           ]
          },
          {
           "hoverinfo": "none",
           "marker": {
            "color": "yellow",
            "opacity": 0,
            "size": 10
           },
           "mode": "markers",
           "name": "ball_carrier",
           "type": "scatter",
           "x": [
            0
           ],
           "y": [
            0
           ]
          },
          {
           "customdata": [
            [
             37075,
             "Von Miller",
             "OLB",
             "BUF",
             0
            ],
            [
             40107,
             "Micah Hyde",
             "FS",
             "BUF",
             0
            ],
            [
             40166,
             "Jordan Poyer",
             "SS",
             "BUF",
             0
            ],
            [
             41341,
             "DaQuan Jones",
             "DT",
             "BUF",
             0
            ],
            [
             44976,
             "Matt Milano",
             "OLB",
             "BUF",
             0
            ],
            [
             46085,
             "Tremaine Edmunds",
             "ILB",
             "BUF",
             0
            ],
            [
             46190,
             "Taron Johnson",
             "CB",
             "BUF",
             0
            ],
            [
             46232,
             "Tim Settle",
             "DT",
             "BUF",
             0
            ],
            [
             52647,
             "Dane Jackson",
             "CB",
             "BUF",
             0
            ],
            [
             53459,
             "Gregory Rousseau",
             "DE",
             "BUF",
             0
            ],
            [
             54488,
             "Kaiir Elam",
             "CB",
             "BUF",
             0
            ]
           ],
           "hovertemplate": "<b>nflId:</b> %{customdata[0]}<br><b>Player:</b> %{customdata[1]} %{customdata[2]}<br><b>Team:</b> %{customdata[3]}<br><br><b>Tackling Probability:</b> %{customdata[4]}",
           "marker": {
            "cmax": 1,
            "cmin": 0,
            "color": [
             "#fff5f0",
             "#fff5f0",
             "#fff5f0",
             "#fff5f0",
             "#fff5f0",
             "#fff5f0",
             "#fff5f0",
             "#fff5f0",
             "#fff5f0",
             "#fff5f0",
             "#fff5f0"
            ],
            "colorbar": {
             "len": 0.85,
             "thickness": 10,
             "title": {
              "text": "defense"
             },
             "x": 1.03,
             "y": 0.4
            },
            "colorscale": [
             [
              0,
              "rgb(255,245,240)"
             ],
             [
              0.125,
              "rgb(254,224,210)"
             ],
             [
              0.25,
              "rgb(252,187,161)"
             ],
             [
              0.375,
              "rgb(252,146,114)"
             ],
             [
              0.5,
              "rgb(251,106,74)"
             ],
             [
              0.625,
              "rgb(239,59,44)"
             ],
             [
              0.75,
              "rgb(203,24,29)"
             ],
             [
              0.875,
              "rgb(165,15,21)"
             ],
             [
              1,
              "rgb(103,0,13)"
             ]
            ],
            "size": 10
           },
           "mode": "markers",
           "name": "defense",
           "showlegend": false,
           "type": "scatter",
           "x": [
            34.36,
            22.26,
            22.43,
            34.51,
            29.98,
            29.73,
            31.68,
            34.5,
            34.15,
            34.42,
            34.88
           ],
           "y": [
            34.03,
            35,
            22.78,
            27.16,
            26.17,
            30.17,
            34.39,
            30.57,
            37.36,
            25.1,
            19.62
           ]
          }
         ],
         "name": "1"
        },
        {
         "data": [
          {
           "hoverinfo": "none",
           "marker": {
            "color": "black",
            "size": 10
           },
           "mode": "markers",
           "name": "offense",
           "type": "scatter",
           "x": [
            36.63,
            35.58,
            36.25,
            36.02,
            36.63,
            36.08,
            35.57,
            36.22,
            42.41,
            36.02,
            36.78
           ],
           "y": [
            29.51,
            36.97,
            32.39,
            25.26,
            34.4,
            26.48,
            29.79,
            30.97,
            29.51,
            27.94,
            19.9
           ]
          },
          {
           "hoverinfo": "none",
           "marker": {
            "color": "yellow",
            "opacity": 0,
            "size": 10
           },
           "mode": "markers",
           "name": "ball_carrier",
           "type": "scatter",
           "x": [
            0
           ],
           "y": [
            0
           ]
          },
          {
           "customdata": [
            [
             37075,
             "Von Miller",
             "OLB",
             "BUF",
             0
            ],
            [
             40107,
             "Micah Hyde",
             "FS",
             "BUF",
             0
            ],
            [
             40166,
             "Jordan Poyer",
             "SS",
             "BUF",
             0
            ],
            [
             41341,
             "DaQuan Jones",
             "DT",
             "BUF",
             0
            ],
            [
             44976,
             "Matt Milano",
             "OLB",
             "BUF",
             0
            ],
            [
             46085,
             "Tremaine Edmunds",
             "ILB",
             "BUF",
             0
            ],
            [
             46190,
             "Taron Johnson",
             "CB",
             "BUF",
             0
            ],
            [
             46232,
             "Tim Settle",
             "DT",
             "BUF",
             0
            ],
            [
             52647,
             "Dane Jackson",
             "CB",
             "BUF",
             0
            ],
            [
             53459,
             "Gregory Rousseau",
             "DE",
             "BUF",
             0
            ],
            [
             54488,
             "Kaiir Elam",
             "CB",
             "BUF",
             0
            ]
           ],
           "hovertemplate": "<b>nflId:</b> %{customdata[0]}<br><b>Player:</b> %{customdata[1]} %{customdata[2]}<br><b>Team:</b> %{customdata[3]}<br><br><b>Tackling Probability:</b> %{customdata[4]}",
           "marker": {
            "cmax": 1,
            "cmin": 0,
            "color": [
             "#fff5f0",
             "#fff5f0",
             "#fff5f0",
             "#fff5f0",
             "#fff5f0",
             "#fff5f0",
             "#fff5f0",
             "#fff5f0",
             "#fff5f0",
             "#fff5f0",
             "#fff5f0"
            ],
            "colorbar": {
             "len": 0.85,
             "thickness": 10,
             "title": {
              "text": "defense"
             },
             "x": 1.03,
             "y": 0.4
            },
            "colorscale": [
             [
              0,
              "rgb(255,245,240)"
             ],
             [
              0.125,
              "rgb(254,224,210)"
             ],
             [
              0.25,
              "rgb(252,187,161)"
             ],
             [
              0.375,
              "rgb(252,146,114)"
             ],
             [
              0.5,
              "rgb(251,106,74)"
             ],
             [
              0.625,
              "rgb(239,59,44)"
             ],
             [
              0.75,
              "rgb(203,24,29)"
             ],
             [
              0.875,
              "rgb(165,15,21)"
             ],
             [
              1,
              "rgb(103,0,13)"
             ]
            ],
            "size": 10
           },
           "mode": "markers",
           "name": "defense",
           "showlegend": false,
           "type": "scatter",
           "x": [
            34.35,
            22.24,
            22.44,
            34.52,
            29.98,
            29.73,
            31.67,
            34.49,
            34.14,
            34.43,
            34.88
           ],
           "y": [
            34.02,
            35,
            22.8,
            27.16,
            26.18,
            30.18,
            34.4,
            30.57,
            37.35,
            25.1,
            19.63
           ]
          }
         ],
         "name": "2"
        },
        {
         "data": [
          {
           "hoverinfo": "none",
           "marker": {
            "color": "black",
            "size": 10
           },
           "mode": "markers",
           "name": "offense",
           "type": "scatter",
           "x": [
            36.63,
            35.58,
            36.25,
            36.03,
            36.63,
            36.08,
            35.57,
            36.22,
            42.41,
            36.02,
            36.78
           ],
           "y": [
            29.51,
            36.97,
            32.39,
            25.26,
            34.4,
            26.47,
            29.78,
            30.97,
            29.52,
            27.94,
            19.9
           ]
          },
          {
           "hoverinfo": "none",
           "marker": {
            "color": "yellow",
            "opacity": 0,
            "size": 10
           },
           "mode": "markers",
           "name": "ball_carrier",
           "type": "scatter",
           "x": [
            0
           ],
           "y": [
            0
           ]
          },
          {
           "customdata": [
            [
             37075,
             "Von Miller",
             "OLB",
             "BUF",
             0
            ],
            [
             40107,
             "Micah Hyde",
             "FS",
             "BUF",
             0
            ],
            [
             40166,
             "Jordan Poyer",
             "SS",
             "BUF",
             0
            ],
            [
             41341,
             "DaQuan Jones",
             "DT",
             "BUF",
             0
            ],
            [
             44976,
             "Matt Milano",
             "OLB",
             "BUF",
             0
            ],
            [
             46085,
             "Tremaine Edmunds",
             "ILB",
             "BUF",
             0
            ],
            [
             46190,
             "Taron Johnson",
             "CB",
             "BUF",
             0
            ],
            [
             46232,
             "Tim Settle",
             "DT",
             "BUF",
             0
            ],
            [
             52647,
             "Dane Jackson",
             "CB",
             "BUF",
             0
            ],
            [
             53459,
             "Gregory Rousseau",
             "DE",
             "BUF",
             0
            ],
            [
             54488,
             "Kaiir Elam",
             "CB",
             "BUF",
             0
            ]
           ],
           "hovertemplate": "<b>nflId:</b> %{customdata[0]}<br><b>Player:</b> %{customdata[1]} %{customdata[2]}<br><b>Team:</b> %{customdata[3]}<br><br><b>Tackling Probability:</b> %{customdata[4]}",
           "marker": {
            "cmax": 1,
            "cmin": 0,
            "color": [
             "#fff5f0",
             "#fff5f0",
             "#fff5f0",
             "#fff5f0",
             "#fff5f0",
             "#fff5f0",
             "#fff5f0",
             "#fff5f0",
             "#fff5f0",
             "#fff5f0",
             "#fff5f0"
            ],
            "colorbar": {
             "len": 0.85,
             "thickness": 10,
             "title": {
              "text": "defense"
             },
             "x": 1.03,
             "y": 0.4
            },
            "colorscale": [
             [
              0,
              "rgb(255,245,240)"
             ],
             [
              0.125,
              "rgb(254,224,210)"
             ],
             [
              0.25,
              "rgb(252,187,161)"
             ],
             [
              0.375,
              "rgb(252,146,114)"
             ],
             [
              0.5,
              "rgb(251,106,74)"
             ],
             [
              0.625,
              "rgb(239,59,44)"
             ],
             [
              0.75,
              "rgb(203,24,29)"
             ],
             [
              0.875,
              "rgb(165,15,21)"
             ],
             [
              1,
              "rgb(103,0,13)"
             ]
            ],
            "size": 10
           },
           "mode": "markers",
           "name": "defense",
           "showlegend": false,
           "type": "scatter",
           "x": [
            34.36,
            22.22,
            22.44,
            34.52,
            29.98,
            29.72,
            31.68,
            34.49,
            34.14,
            34.43,
            34.88
           ],
           "y": [
            34,
            34.99,
            22.8,
            27.16,
            26.18,
            30.17,
            34.41,
            30.58,
            37.36,
            25.1,
            19.62
           ]
          }
         ],
         "name": "3"
        },
        {
         "data": [
          {
           "hoverinfo": "none",
           "marker": {
            "color": "black",
            "size": 10
           },
           "mode": "markers",
           "name": "offense",
           "type": "scatter",
           "x": [
            36.63,
            35.58,
            36.24,
            36.03,
            36.64,
            36.08,
            35.56,
            36.21,
            42.41,
            36.03,
            36.78
           ],
           "y": [
            29.51,
            36.97,
            32.38,
            25.26,
            34.4,
            26.45,
            29.76,
            30.96,
            29.52,
            27.91,
            19.91
           ]
          },
          {
           "hoverinfo": "none",
           "marker": {
            "color": "yellow",
            "opacity": 0,
            "size": 10
           },
           "mode": "markers",
           "name": "ball_carrier",
           "type": "scatter",
           "x": [
            0
           ],
           "y": [
            0
           ]
          },
          {
           "customdata": [
            [
             37075,
             "Von Miller",
             "OLB",
             "BUF",
             0
            ],
            [
             40107,
             "Micah Hyde",
             "FS",
             "BUF",
             0
            ],
            [
             40166,
             "Jordan Poyer",
             "SS",
             "BUF",
             0
            ],
            [
             41341,
             "DaQuan Jones",
             "DT",
             "BUF",
             0
            ],
            [
             44976,
             "Matt Milano",
             "OLB",
             "BUF",
             0
            ],
            [
             46085,
             "Tremaine Edmunds",
             "ILB",
             "BUF",
             0
            ],
            [
             46190,
             "Taron Johnson",
             "CB",
             "BUF",
             0
            ],
            [
             46232,
             "Tim Settle",
             "DT",
             "BUF",
             0
            ],
            [
             52647,
             "Dane Jackson",
             "CB",
             "BUF",
             0
            ],
            [
             53459,
             "Gregory Rousseau",
             "DE",
             "BUF",
             0
            ],
            [
             54488,
             "Kaiir Elam",
             "CB",
             "BUF",
             0
            ]
           ],
           "hovertemplate": "<b>nflId:</b> %{customdata[0]}<br><b>Player:</b> %{customdata[1]} %{customdata[2]}<br><b>Team:</b> %{customdata[3]}<br><br><b>Tackling Probability:</b> %{customdata[4]}",
           "marker": {
            "cmax": 1,
            "cmin": 0,
            "color": [
             "#fff5f0",
             "#fff5f0",
             "#fff5f0",
             "#fff5f0",
             "#fff5f0",
             "#fff5f0",
             "#fff5f0",
             "#fff5f0",
             "#fff5f0",
             "#fff5f0",
             "#fff5f0"
            ],
            "colorbar": {
             "len": 0.85,
             "thickness": 10,
             "title": {
              "text": "defense"
             },
             "x": 1.03,
             "y": 0.4
            },
            "colorscale": [
             [
              0,
              "rgb(255,245,240)"
             ],
             [
              0.125,
              "rgb(254,224,210)"
             ],
             [
              0.25,
              "rgb(252,187,161)"
             ],
             [
              0.375,
              "rgb(252,146,114)"
             ],
             [
              0.5,
              "rgb(251,106,74)"
             ],
             [
              0.625,
              "rgb(239,59,44)"
             ],
             [
              0.75,
              "rgb(203,24,29)"
             ],
             [
              0.875,
              "rgb(165,15,21)"
             ],
             [
              1,
              "rgb(103,0,13)"
             ]
            ],
            "size": 10
           },
           "mode": "markers",
           "name": "defense",
           "showlegend": false,
           "type": "scatter",
           "x": [
            34.38,
            22.23,
            22.44,
            34.56,
            29.99,
            29.71,
            31.69,
            34.49,
            34.13,
            34.44,
            34.87
           ],
           "y": [
            33.98,
            34.97,
            22.81,
            27.16,
            26.17,
            30.17,
            34.41,
            30.57,
            37.36,
            25.1,
            19.63
           ]
          }
         ],
         "name": "4"
        },
        {
         "data": [
          {
           "hoverinfo": "none",
           "marker": {
            "color": "black",
            "size": 10
           },
           "mode": "markers",
           "name": "offense",
           "type": "scatter",
           "x": [
            36.64,
            35.58,
            36.23,
            36.02,
            36.64,
            36.08,
            35.54,
            36.2,
            42.41,
            36.04,
            36.78
           ],
           "y": [
            29.5,
            36.98,
            32.37,
            25.26,
            34.39,
            26.42,
            29.67,
            30.94,
            29.52,
            27.87,
            19.91
           ]
          },
          {
           "hoverinfo": "none",
           "marker": {
            "color": "yellow",
            "opacity": 0,
            "size": 10
           },
           "mode": "markers",
           "name": "ball_carrier",
           "type": "scatter",
           "x": [
            0
           ],
           "y": [
            0
           ]
          },
          {
           "customdata": [
            [
             37075,
             "Von Miller",
             "OLB",
             "BUF",
             0
            ],
            [
             40107,
             "Micah Hyde",
             "FS",
             "BUF",
             0
            ],
            [
             40166,
             "Jordan Poyer",
             "SS",
             "BUF",
             0
            ],
            [
             41341,
             "DaQuan Jones",
             "DT",
             "BUF",
             0
            ],
            [
             44976,
             "Matt Milano",
             "OLB",
             "BUF",
             0
            ],
            [
             46085,
             "Tremaine Edmunds",
             "ILB",
             "BUF",
             0
            ],
            [
             46190,
             "Taron Johnson",
             "CB",
             "BUF",
             0
            ],
            [
             46232,
             "Tim Settle",
             "DT",
             "BUF",
             0
            ],
            [
             52647,
             "Dane Jackson",
             "CB",
             "BUF",
             0
            ],
            [
             53459,
             "Gregory Rousseau",
             "DE",
             "BUF",
             0
            ],
            [
             54488,
             "Kaiir Elam",
             "CB",
             "BUF",
             0
            ]
           ],
           "hovertemplate": "<b>nflId:</b> %{customdata[0]}<br><b>Player:</b> %{customdata[1]} %{customdata[2]}<br><b>Team:</b> %{customdata[3]}<br><br><b>Tackling Probability:</b> %{customdata[4]}",
           "marker": {
            "cmax": 1,
            "cmin": 0,
            "color": [
             "#fff5f0",
             "#fff5f0",
             "#fff5f0",
             "#fff5f0",
             "#fff5f0",
             "#fff5f0",
             "#fff5f0",
             "#fff5f0",
             "#fff5f0",
             "#fff5f0",
             "#fff5f0"
            ],
            "colorbar": {
             "len": 0.85,
             "thickness": 10,
             "title": {
              "text": "defense"
             },
             "x": 1.03,
             "y": 0.4
            },
            "colorscale": [
             [
              0,
              "rgb(255,245,240)"
             ],
             [
              0.125,
              "rgb(254,224,210)"
             ],
             [
              0.25,
              "rgb(252,187,161)"
             ],
             [
              0.375,
              "rgb(252,146,114)"
             ],
             [
              0.5,
              "rgb(251,106,74)"
             ],
             [
              0.625,
              "rgb(239,59,44)"
             ],
             [
              0.75,
              "rgb(203,24,29)"
             ],
             [
              0.875,
              "rgb(165,15,21)"
             ],
             [
              1,
              "rgb(103,0,13)"
             ]
            ],
            "size": 10
           },
           "mode": "markers",
           "name": "defense",
           "showlegend": false,
           "type": "scatter",
           "x": [
            34.41,
            22.24,
            22.43,
            34.58,
            29.99,
            29.71,
            31.69,
            34.5,
            34.14,
            34.45,
            34.87
           ],
           "y": [
            33.95,
            34.96,
            22.82,
            27.16,
            26.17,
            30.17,
            34.39,
            30.56,
            37.36,
            25.1,
            19.63
           ]
          }
         ],
         "name": "5"
        },
        {
         "data": [
          {
           "hoverinfo": "none",
           "marker": {
            "color": "black",
            "size": 10
           },
           "mode": "markers",
           "name": "offense",
           "type": "scatter",
           "x": [
            35.57,
            36.21,
            36.02,
            36.64,
            36.09,
            35.51,
            36.2,
            42.4,
            36.05,
            36.77
           ],
           "y": [
            36.98,
            32.35,
            25.24,
            34.37,
            26.37,
            29.57,
            30.92,
            29.52,
            27.78,
            19.9
           ]
          },
          {
           "hoverinfo": "none",
           "marker": {
            "color": "yellow",
            "opacity": 1,
            "size": 10
           },
           "mode": "markers",
           "name": "ball_carrier",
           "type": "scatter",
           "x": [
            36.64
           ],
           "y": [
            29.5
           ]
          },
          {
           "customdata": [
            [
             37075,
             "Von Miller",
             "OLB",
             "BUF",
             0.01
            ],
            [
             40107,
             "Micah Hyde",
             "FS",
             "BUF",
             0.01
            ],
            [
             40166,
             "Jordan Poyer",
             "SS",
             "BUF",
             0.01
            ],
            [
             41341,
             "DaQuan Jones",
             "DT",
             "BUF",
             0.01
            ],
            [
             44976,
             "Matt Milano",
             "OLB",
             "BUF",
             0
            ],
            [
             46085,
             "Tremaine Edmunds",
             "ILB",
             "BUF",
             0.01
            ],
            [
             46190,
             "Taron Johnson",
             "CB",
             "BUF",
             0
            ],
            [
             46232,
             "Tim Settle",
             "DT",
             "BUF",
             0.02
            ],
            [
             52647,
             "Dane Jackson",
             "CB",
             "BUF",
             0
            ],
            [
             53459,
             "Gregory Rousseau",
             "DE",
             "BUF",
             0
            ],
            [
             54488,
             "Kaiir Elam",
             "CB",
             "BUF",
             0.01
            ]
           ],
           "hovertemplate": "<b>nflId:</b> %{customdata[0]}<br><b>Player:</b> %{customdata[1]} %{customdata[2]}<br><b>Team:</b> %{customdata[3]}<br><br><b>Tackling Probability:</b> %{customdata[4]}",
           "marker": {
            "cmax": 1,
            "cmin": 0,
            "color": [
             "#fff4ee",
             "#fff4ee",
             "#fff4ef",
             "#fff4ee",
             "#fff4ef",
             "#fff4ef",
             "#fff5f0",
             "#fff2ec",
             "#fff5f0",
             "#fff5f0",
             "#fff3ed"
            ],
            "colorbar": {
             "len": 0.85,
             "thickness": 10,
             "title": {
              "text": "defense"
             },
             "x": 1.03,
             "y": 0.4
            },
            "colorscale": [
             [
              0,
              "rgb(255,245,240)"
             ],
             [
              0.125,
              "rgb(254,224,210)"
             ],
             [
              0.25,
              "rgb(252,187,161)"
             ],
             [
              0.375,
              "rgb(252,146,114)"
             ],
             [
              0.5,
              "rgb(251,106,74)"
             ],
             [
              0.625,
              "rgb(239,59,44)"
             ],
             [
              0.75,
              "rgb(203,24,29)"
             ],
             [
              0.875,
              "rgb(165,15,21)"
             ],
             [
              1,
              "rgb(103,0,13)"
             ]
            ],
            "size": 10
           },
           "mode": "markers",
           "name": "defense",
           "showlegend": false,
           "type": "scatter",
           "x": [
            34.44,
            22.25,
            22.41,
            34.62,
            30,
            29.71,
            31.71,
            34.52,
            34.14,
            34.46,
            34.84
           ],
           "y": [
            33.93,
            34.94,
            22.83,
            27.17,
            26.15,
            30.16,
            34.41,
            30.54,
            37.37,
            25.1,
            19.63
           ]
          }
         ],
         "name": "6"
        },
        {
         "data": [
          {
           "hoverinfo": "none",
           "marker": {
            "color": "black",
            "size": 10
           },
           "mode": "markers",
           "name": "offense",
           "type": "scatter",
           "x": [
            35.57,
            36.17,
            36.01,
            36.65,
            36.1,
            35.46,
            36.17,
            42.4,
            36.08,
            36.77
           ],
           "y": [
            36.98,
            32.31,
            25.22,
            34.36,
            26.28,
            29.43,
            30.87,
            29.51,
            27.68,
            19.91
           ]
          },
          {
           "hoverinfo": "none",
           "marker": {
            "color": "yellow",
            "opacity": 1,
            "size": 10
           },
           "mode": "markers",
           "name": "ball_carrier",
           "type": "scatter",
           "x": [
            36.66
           ],
           "y": [
            29.49
           ]
          },
          {
           "customdata": [
            [
             37075,
             "Von Miller",
             "OLB",
             "BUF",
             0.01
            ],
            [
             40107,
             "Micah Hyde",
             "FS",
             "BUF",
             0
            ],
            [
             40166,
             "Jordan Poyer",
             "SS",
             "BUF",
             0.01
            ],
            [
             41341,
             "DaQuan Jones",
             "DT",
             "BUF",
             0.01
            ],
            [
             44976,
             "Matt Milano",
             "OLB",
             "BUF",
             0
            ],
            [
             46085,
             "Tremaine Edmunds",
             "ILB",
             "BUF",
             0
            ],
            [
             46190,
             "Taron Johnson",
             "CB",
             "BUF",
             0
            ],
            [
             46232,
             "Tim Settle",
             "DT",
             "BUF",
             0.01
            ],
            [
             52647,
             "Dane Jackson",
             "CB",
             "BUF",
             0
            ],
            [
             53459,
             "Gregory Rousseau",
             "DE",
             "BUF",
             0
            ],
            [
             54488,
             "Kaiir Elam",
             "CB",
             "BUF",
             0
            ]
           ],
           "hovertemplate": "<b>nflId:</b> %{customdata[0]}<br><b>Player:</b> %{customdata[1]} %{customdata[2]}<br><b>Team:</b> %{customdata[3]}<br><br><b>Tackling Probability:</b> %{customdata[4]}",
           "marker": {
            "cmax": 1,
            "cmin": 0,
            "color": [
             "#fff4ef",
             "#fff5f0",
             "#fff4ef",
             "#fff4ef",
             "#fff5f0",
             "#fff5f0",
             "#fff5f0",
             "#fff4ef",
             "#fff5f0",
             "#fff5f0",
             "#fff5f0"
            ],
            "colorbar": {
             "len": 0.85,
             "thickness": 10,
             "title": {
              "text": "defense"
             },
             "x": 1.03,
             "y": 0.4
            },
            "colorscale": [
             [
              0,
              "rgb(255,245,240)"
             ],
             [
              0.125,
              "rgb(254,224,210)"
             ],
             [
              0.25,
              "rgb(252,187,161)"
             ],
             [
              0.375,
              "rgb(252,146,114)"
             ],
             [
              0.5,
              "rgb(251,106,74)"
             ],
             [
              0.625,
              "rgb(239,59,44)"
             ],
             [
              0.75,
              "rgb(203,24,29)"
             ],
             [
              0.875,
              "rgb(165,15,21)"
             ],
             [
              1,
              "rgb(103,0,13)"
             ]
            ],
            "size": 10
           },
           "mode": "markers",
           "name": "defense",
           "showlegend": false,
           "type": "scatter",
           "x": [
            34.5,
            22.26,
            22.38,
            34.7,
            30.01,
            29.71,
            31.72,
            34.55,
            34.14,
            34.47,
            34.82
           ],
           "y": [
            33.87,
            34.92,
            22.83,
            27.17,
            26.14,
            30.16,
            34.41,
            30.51,
            37.38,
            25.09,
            19.62
           ]
          }
         ],
         "name": "7"
        },
        {
         "data": [
          {
           "hoverinfo": "none",
           "marker": {
            "color": "black",
            "size": 10
           },
           "mode": "markers",
           "name": "offense",
           "type": "scatter",
           "x": [
            35.56,
            36.11,
            35.99,
            36.66,
            36.1,
            35.41,
            36.11,
            42.4,
            36.12,
            36.75
           ],
           "y": [
            36.98,
            32.25,
            25.18,
            34.3,
            26.11,
            29.27,
            30.74,
            29.5,
            27.54,
            19.9
           ]
          },
          {
           "hoverinfo": "none",
           "marker": {
            "color": "yellow",
            "opacity": 1,
            "size": 10
           },
           "mode": "markers",
           "name": "ball_carrier",
           "type": "scatter",
           "x": [
            36.7
           ],
           "y": [
            29.46
           ]
          },
          {
           "customdata": [
            [
             37075,
             "Von Miller",
             "OLB",
             "BUF",
             0.01
            ],
            [
             40107,
             "Micah Hyde",
             "FS",
             "BUF",
             0
            ],
            [
             40166,
             "Jordan Poyer",
             "SS",
             "BUF",
             0.01
            ],
            [
             41341,
             "DaQuan Jones",
             "DT",
             "BUF",
             0.01
            ],
            [
             44976,
             "Matt Milano",
             "OLB",
             "BUF",
             0
            ],
            [
             46085,
             "Tremaine Edmunds",
             "ILB",
             "BUF",
             0
            ],
            [
             46190,
             "Taron Johnson",
             "CB",
             "BUF",
             0
            ],
            [
             46232,
             "Tim Settle",
             "DT",
             "BUF",
             0.01
            ],
            [
             52647,
             "Dane Jackson",
             "CB",
             "BUF",
             0
            ],
            [
             53459,
             "Gregory Rousseau",
             "DE",
             "BUF",
             0
            ],
            [
             54488,
             "Kaiir Elam",
             "CB",
             "BUF",
             0
            ]
           ],
           "hovertemplate": "<b>nflId:</b> %{customdata[0]}<br><b>Player:</b> %{customdata[1]} %{customdata[2]}<br><b>Team:</b> %{customdata[3]}<br><br><b>Tackling Probability:</b> %{customdata[4]}",
           "marker": {
            "cmax": 1,
            "cmin": 0,
            "color": [
             "#fff4ef",
             "#fff5f0",
             "#fff4ef",
             "#fff4ef",
             "#fff5f0",
             "#fff5f0",
             "#fff5f0",
             "#fff4ef",
             "#fff5f0",
             "#fff5f0",
             "#fff4ef"
            ],
            "colorbar": {
             "len": 0.85,
             "thickness": 10,
             "title": {
              "text": "defense"
             },
             "x": 1.03,
             "y": 0.4
            },
            "colorscale": [
             [
              0,
              "rgb(255,245,240)"
             ],
             [
              0.125,
              "rgb(254,224,210)"
             ],
             [
              0.25,
              "rgb(252,187,161)"
             ],
             [
              0.375,
              "rgb(252,146,114)"
             ],
             [
              0.5,
              "rgb(251,106,74)"
             ],
             [
              0.625,
              "rgb(239,59,44)"
             ],
             [
              0.75,
              "rgb(203,24,29)"
             ],
             [
              0.875,
              "rgb(165,15,21)"
             ],
             [
              1,
              "rgb(103,0,13)"
             ]
            ],
            "size": 10
           },
           "mode": "markers",
           "name": "defense",
           "showlegend": false,
           "type": "scatter",
           "x": [
            34.57,
            22.26,
            22.36,
            34.81,
            30.02,
            29.72,
            31.72,
            34.6,
            34.14,
            34.49,
            34.8
           ],
           "y": [
            33.8,
            34.91,
            22.83,
            27.18,
            26.13,
            30.16,
            34.41,
            30.46,
            37.39,
            25.07,
            19.6
           ]
          }
         ],
         "name": "8"
        },
        {
         "data": [
          {
           "hoverinfo": "none",
           "marker": {
            "color": "black",
            "size": 10
           },
           "mode": "markers",
           "name": "offense",
           "type": "scatter",
           "x": [
            35.54,
            36.03,
            35.96,
            36.66,
            36.11,
            35.34,
            36.04,
            42.38,
            36.16,
            36.72
           ],
           "y": [
            36.98,
            32.18,
            25.08,
            34.21,
            25.93,
            29.07,
            30.55,
            29.43,
            27.37,
            19.9
           ]
          },
          {
           "hoverinfo": "none",
           "marker": {
            "color": "yellow",
            "opacity": 1,
            "size": 10
           },
           "mode": "markers",
           "name": "ball_carrier",
           "type": "scatter",
           "x": [
            36.8
           ],
           "y": [
            29.41
           ]
          },
          {
           "customdata": [
            [
             37075,
             "Von Miller",
             "OLB",
             "BUF",
             0
            ],
            [
             40107,
             "Micah Hyde",
             "FS",
             "BUF",
             0.01
            ],
            [
             40166,
             "Jordan Poyer",
             "SS",
             "BUF",
             0
            ],
            [
             41341,
             "DaQuan Jones",
             "DT",
             "BUF",
             0.01
            ],
            [
             44976,
             "Matt Milano",
             "OLB",
             "BUF",
             0
            ],
            [
             46085,
             "Tremaine Edmunds",
             "ILB",
             "BUF",
             0
            ],
            [
             46190,
             "Taron Johnson",
             "CB",
             "BUF",
             0
            ],
            [
             46232,
             "Tim Settle",
             "DT",
             "BUF",
             0
            ],
            [
             52647,
             "Dane Jackson",
             "CB",
             "BUF",
             0
            ],
            [
             53459,
             "Gregory Rousseau",
             "DE",
             "BUF",
             0
            ],
            [
             54488,
             "Kaiir Elam",
             "CB",
             "BUF",
             0
            ]
           ],
           "hovertemplate": "<b>nflId:</b> %{customdata[0]}<br><b>Player:</b> %{customdata[1]} %{customdata[2]}<br><b>Team:</b> %{customdata[3]}<br><br><b>Tackling Probability:</b> %{customdata[4]}",
           "marker": {
            "cmax": 1,
            "cmin": 0,
            "color": [
             "#fff4ef",
             "#fff4ef",
             "#fff4ef",
             "#fff4ef",
             "#fff5f0",
             "#fff5f0",
             "#fff5f0",
             "#fff5f0",
             "#fff5f0",
             "#fff5f0",
             "#fff5f0"
            ],
            "colorbar": {
             "len": 0.85,
             "thickness": 10,
             "title": {
              "text": "defense"
             },
             "x": 1.03,
             "y": 0.4
            },
            "colorscale": [
             [
              0,
              "rgb(255,245,240)"
             ],
             [
              0.125,
              "rgb(254,224,210)"
             ],
             [
              0.25,
              "rgb(252,187,161)"
             ],
             [
              0.375,
              "rgb(252,146,114)"
             ],
             [
              0.5,
              "rgb(251,106,74)"
             ],
             [
              0.625,
              "rgb(239,59,44)"
             ],
             [
              0.75,
              "rgb(203,24,29)"
             ],
             [
              0.875,
              "rgb(165,15,21)"
             ],
             [
              1,
              "rgb(103,0,13)"
             ]
            ],
            "size": 10
           },
           "mode": "markers",
           "name": "defense",
           "showlegend": false,
           "type": "scatter",
           "x": [
            34.66,
            22.25,
            22.34,
            34.95,
            30.03,
            29.74,
            31.71,
            34.68,
            34.13,
            34.52,
            34.8
           ],
           "y": [
            33.7,
            34.9,
            22.83,
            27.19,
            26.1,
            30.13,
            34.34,
            30.36,
            37.41,
            25.06,
            19.6
           ]
          }
         ],
         "name": "9"
        },
        {
         "data": [
          {
           "hoverinfo": "none",
           "marker": {
            "color": "black",
            "size": 10
           },
           "mode": "markers",
           "name": "offense",
           "type": "scatter",
           "x": [
            35.51,
            35.93,
            35.91,
            36.67,
            36.12,
            35.25,
            35.96,
            42.35,
            36.23,
            36.63
           ],
           "y": [
            36.99,
            32.05,
            24.94,
            34.05,
            25.71,
            28.83,
            30.31,
            29.31,
            27.19,
            19.87
           ]
          },
          {
           "hoverinfo": "none",
           "marker": {
            "color": "yellow",
            "opacity": 1,
            "size": 10
           },
           "mode": "markers",
           "name": "ball_carrier",
           "type": "scatter",
           "x": [
            36.9
           ],
           "y": [
            29.36
           ]
          },
          {
           "customdata": [
            [
             37075,
             "Von Miller",
             "OLB",
             "BUF",
             0.01
            ],
            [
             40107,
             "Micah Hyde",
             "FS",
             "BUF",
             0.01
            ],
            [
             40166,
             "Jordan Poyer",
             "SS",
             "BUF",
             0.01
            ],
            [
             41341,
             "DaQuan Jones",
             "DT",
             "BUF",
             0.01
            ],
            [
             44976,
             "Matt Milano",
             "OLB",
             "BUF",
             0.01
            ],
            [
             46085,
             "Tremaine Edmunds",
             "ILB",
             "BUF",
             0.01
            ],
            [
             46190,
             "Taron Johnson",
             "CB",
             "BUF",
             0
            ],
            [
             46232,
             "Tim Settle",
             "DT",
             "BUF",
             0.01
            ],
            [
             52647,
             "Dane Jackson",
             "CB",
             "BUF",
             0
            ],
            [
             53459,
             "Gregory Rousseau",
             "DE",
             "BUF",
             0
            ],
            [
             54488,
             "Kaiir Elam",
             "CB",
             "BUF",
             0
            ]
           ],
           "hovertemplate": "<b>nflId:</b> %{customdata[0]}<br><b>Player:</b> %{customdata[1]} %{customdata[2]}<br><b>Team:</b> %{customdata[3]}<br><br><b>Tackling Probability:</b> %{customdata[4]}",
           "marker": {
            "cmax": 1,
            "cmin": 0,
            "color": [
             "#fff4ee",
             "#fff4ee",
             "#fff4ee",
             "#fff4ee",
             "#fff4ef",
             "#fff4ef",
             "#fff5f0",
             "#fff3ed",
             "#fff5f0",
             "#fff4ef",
             "#fff5f0"
            ],
            "colorbar": {
             "len": 0.85,
             "thickness": 10,
             "title": {
              "text": "defense"
             },
             "x": 1.03,
             "y": 0.4
            },
            "colorscale": [
             [
              0,
              "rgb(255,245,240)"
             ],
             [
              0.125,
              "rgb(254,224,210)"
             ],
             [
              0.25,
              "rgb(252,187,161)"
             ],
             [
              0.375,
              "rgb(252,146,114)"
             ],
             [
              0.5,
              "rgb(251,106,74)"
             ],
             [
              0.625,
              "rgb(239,59,44)"
             ],
             [
              0.75,
              "rgb(203,24,29)"
             ],
             [
              0.875,
              "rgb(165,15,21)"
             ],
             [
              1,
              "rgb(103,0,13)"
             ]
            ],
            "size": 10
           },
           "mode": "markers",
           "name": "defense",
           "showlegend": false,
           "type": "scatter",
           "x": [
            34.76,
            22.23,
            22.32,
            35.15,
            30.06,
            29.77,
            31.74,
            34.77,
            34.13,
            34.57,
            34.79
           ],
           "y": [
            33.58,
            34.88,
            22.83,
            27.15,
            26.04,
            30.07,
            34.3,
            30.21,
            37.45,
            25.04,
            19.58
           ]
          }
         ],
         "name": "10"
        },
        {
         "data": [
          {
           "hoverinfo": "none",
           "marker": {
            "color": "black",
            "size": 10
           },
           "mode": "markers",
           "name": "offense",
           "type": "scatter",
           "x": [
            35.45,
            35.82,
            35.84,
            36.68,
            36.11,
            35.14,
            35.85,
            42.32,
            36.3,
            36.5
           ],
           "y": [
            36.97,
            31.91,
            24.76,
            33.83,
            25.47,
            28.56,
            30.03,
            29.11,
            27.01,
            19.82
           ]
          },
          {
           "hoverinfo": "none",
           "marker": {
            "color": "yellow",
            "opacity": 1,
            "size": 10
           },
           "mode": "markers",
           "name": "ball_carrier",
           "type": "scatter",
           "x": [
            37.07
           ],
           "y": [
            29.27
           ]
          },
          {
           "customdata": [
            [
             37075,
             "Von Miller",
             "OLB",
             "BUF",
             0.01
            ],
            [
             40107,
             "Micah Hyde",
             "FS",
             "BUF",
             0.01
            ],
            [
             40166,
             "Jordan Poyer",
             "SS",
             "BUF",
             0.01
            ],
            [
             41341,
             "DaQuan Jones",
             "DT",
             "BUF",
             0.01
            ],
            [
             44976,
             "Matt Milano",
             "OLB",
             "BUF",
             0.01
            ],
            [
             46085,
             "Tremaine Edmunds",
             "ILB",
             "BUF",
             0.01
            ],
            [
             46190,
             "Taron Johnson",
             "CB",
             "BUF",
             0
            ],
            [
             46232,
             "Tim Settle",
             "DT",
             "BUF",
             0.02
            ],
            [
             52647,
             "Dane Jackson",
             "CB",
             "BUF",
             0
            ],
            [
             53459,
             "Gregory Rousseau",
             "DE",
             "BUF",
             0
            ],
            [
             54488,
             "Kaiir Elam",
             "CB",
             "BUF",
             0
            ]
           ],
           "hovertemplate": "<b>nflId:</b> %{customdata[0]}<br><b>Player:</b> %{customdata[1]} %{customdata[2]}<br><b>Team:</b> %{customdata[3]}<br><br><b>Tackling Probability:</b> %{customdata[4]}",
           "marker": {
            "cmax": 1,
            "cmin": 0,
            "color": [
             "#fff4ef",
             "#fff3ed",
             "#fff4ee",
             "#fff4ee",
             "#fff4ef",
             "#fff4ef",
             "#fff5f0",
             "#fff2ec",
             "#fff5f0",
             "#fff5f0",
             "#fff5f0"
            ],
            "colorbar": {
             "len": 0.85,
             "thickness": 10,
             "title": {
              "text": "defense"
             },
             "x": 1.03,
             "y": 0.4
            },
            "colorscale": [
             [
              0,
              "rgb(255,245,240)"
             ],
             [
              0.125,
              "rgb(254,224,210)"
             ],
             [
              0.25,
              "rgb(252,187,161)"
             ],
             [
              0.375,
              "rgb(252,146,114)"
             ],
             [
              0.5,
              "rgb(251,106,74)"
             ],
             [
              0.625,
              "rgb(239,59,44)"
             ],
             [
              0.75,
              "rgb(203,24,29)"
             ],
             [
              0.875,
              "rgb(165,15,21)"
             ],
             [
              1,
              "rgb(103,0,13)"
             ]
            ],
            "size": 10
           },
           "mode": "markers",
           "name": "defense",
           "showlegend": false,
           "type": "scatter",
           "x": [
            34.9,
            22.19,
            22.29,
            35.36,
            30.11,
            29.82,
            31.75,
            34.88,
            34.11,
            34.65,
            34.77
           ],
           "y": [
            33.43,
            34.86,
            22.82,
            27.13,
            25.93,
            29.91,
            34.28,
            30.04,
            37.5,
            24.98,
            19.54
           ]
          }
         ],
         "name": "11"
        },
        {
         "data": [
          {
           "hoverinfo": "none",
           "marker": {
            "color": "black",
            "size": 10
           },
           "mode": "markers",
           "name": "offense",
           "type": "scatter",
           "x": [
            35.38,
            35.71,
            35.76,
            36.69,
            36.1,
            35.02,
            35.76,
            42.27,
            36.4,
            36.32
           ],
           "y": [
            36.94,
            31.75,
            24.54,
            33.54,
            25.18,
            28.26,
            29.69,
            28.87,
            26.83,
            19.73
           ]
          },
          {
           "hoverinfo": "none",
           "marker": {
            "color": "yellow",
            "opacity": 1,
            "size": 10
           },
           "mode": "markers",
           "name": "ball_carrier",
           "type": "scatter",
           "x": [
            37.27
           ],
           "y": [
            29.17
           ]
          },
          {
           "customdata": [
            [
             37075,
             "Von Miller",
             "OLB",
             "BUF",
             0.01
            ],
            [
             40107,
             "Micah Hyde",
             "FS",
             "BUF",
             0.01
            ],
            [
             40166,
             "Jordan Poyer",
             "SS",
             "BUF",
             0
            ],
            [
             41341,
             "DaQuan Jones",
             "DT",
             "BUF",
             0.01
            ],
            [
             44976,
             "Matt Milano",
             "OLB",
             "BUF",
             0
            ],
            [
             46085,
             "Tremaine Edmunds",
             "ILB",
             "BUF",
             0
            ],
            [
             46190,
             "Taron Johnson",
             "CB",
             "BUF",
             0
            ],
            [
             46232,
             "Tim Settle",
             "DT",
             "BUF",
             0.01
            ],
            [
             52647,
             "Dane Jackson",
             "CB",
             "BUF",
             0
            ],
            [
             53459,
             "Gregory Rousseau",
             "DE",
             "BUF",
             0
            ],
            [
             54488,
             "Kaiir Elam",
             "CB",
             "BUF",
             0
            ]
           ],
           "hovertemplate": "<b>nflId:</b> %{customdata[0]}<br><b>Player:</b> %{customdata[1]} %{customdata[2]}<br><b>Team:</b> %{customdata[3]}<br><br><b>Tackling Probability:</b> %{customdata[4]}",
           "marker": {
            "cmax": 1,
            "cmin": 0,
            "color": [
             "#fff4ef",
             "#fff4ef",
             "#fff4ef",
             "#fff4ef",
             "#fff4ef",
             "#fff4ef",
             "#fff5f0",
             "#fff4ee",
             "#fff5f0",
             "#fff5f0",
             "#fff5f0"
            ],
            "colorbar": {
             "len": 0.85,
             "thickness": 10,
             "title": {
              "text": "defense"
             },
             "x": 1.03,
             "y": 0.4
            },
            "colorscale": [
             [
              0,
              "rgb(255,245,240)"
             ],
             [
              0.125,
              "rgb(254,224,210)"
             ],
             [
              0.25,
              "rgb(252,187,161)"
             ],
             [
              0.375,
              "rgb(252,146,114)"
             ],
             [
              0.5,
              "rgb(251,106,74)"
             ],
             [
              0.625,
              "rgb(239,59,44)"
             ],
             [
              0.75,
              "rgb(203,24,29)"
             ],
             [
              0.875,
              "rgb(165,15,21)"
             ],
             [
              1,
              "rgb(103,0,13)"
             ]
            ],
            "size": 10
           },
           "mode": "markers",
           "name": "defense",
           "showlegend": false,
           "type": "scatter",
           "x": [
            35.06,
            22.13,
            22.25,
            35.6,
            30.17,
            29.88,
            31.76,
            35.02,
            34.09,
            34.77,
            34.74
           ],
           "y": [
            33.26,
            34.84,
            22.79,
            27.09,
            25.75,
            29.72,
            34.24,
            29.83,
            37.56,
            24.9,
            19.47
           ]
          }
         ],
         "name": "12"
        },
        {
         "data": [
          {
           "hoverinfo": "none",
           "marker": {
            "color": "black",
            "size": 10
           },
           "mode": "markers",
           "name": "offense",
           "type": "scatter",
           "x": [
            35.29,
            35.57,
            35.66,
            36.7,
            36.08,
            34.87,
            35.66,
            42.23,
            36.52,
            36.12
           ],
           "y": [
            36.9,
            31.54,
            24.29,
            33.22,
            24.88,
            27.91,
            29.35,
            28.55,
            26.65,
            19.63
           ]
          },
          {
           "hoverinfo": "none",
           "marker": {
            "color": "yellow",
            "opacity": 1,
            "size": 10
           },
           "mode": "markers",
           "name": "ball_carrier",
           "type": "scatter",
           "x": [
            37.53
           ],
           "y": [
            29.07
           ]
          },
          {
           "customdata": [
            [
             37075,
             "Von Miller",
             "OLB",
             "BUF",
             0.01
            ],
            [
             40107,
             "Micah Hyde",
             "FS",
             "BUF",
             0.01
            ],
            [
             40166,
             "Jordan Poyer",
             "SS",
             "BUF",
             0.01
            ],
            [
             41341,
             "DaQuan Jones",
             "DT",
             "BUF",
             0.01
            ],
            [
             44976,
             "Matt Milano",
             "OLB",
             "BUF",
             0.01
            ],
            [
             46085,
             "Tremaine Edmunds",
             "ILB",
             "BUF",
             0.01
            ],
            [
             46190,
             "Taron Johnson",
             "CB",
             "BUF",
             0
            ],
            [
             46232,
             "Tim Settle",
             "DT",
             "BUF",
             0.02
            ],
            [
             52647,
             "Dane Jackson",
             "CB",
             "BUF",
             0
            ],
            [
             53459,
             "Gregory Rousseau",
             "DE",
             "BUF",
             0
            ],
            [
             54488,
             "Kaiir Elam",
             "CB",
             "BUF",
             0
            ]
           ],
           "hovertemplate": "<b>nflId:</b> %{customdata[0]}<br><b>Player:</b> %{customdata[1]} %{customdata[2]}<br><b>Team:</b> %{customdata[3]}<br><br><b>Tackling Probability:</b> %{customdata[4]}",
           "marker": {
            "cmax": 1,
            "cmin": 0,
            "color": [
             "#fff4ee",
             "#fff4ef",
             "#fff4ef",
             "#fff4ef",
             "#fff4ef",
             "#fff4ee",
             "#fff5f0",
             "#fff2eb",
             "#fff5f0",
             "#fff5f0",
             "#fff5f0"
            ],
            "colorbar": {
             "len": 0.85,
             "thickness": 10,
             "title": {
              "text": "defense"
             },
             "x": 1.03,
             "y": 0.4
            },
            "colorscale": [
             [
              0,
              "rgb(255,245,240)"
             ],
             [
              0.125,
              "rgb(254,224,210)"
             ],
             [
              0.25,
              "rgb(252,187,161)"
             ],
             [
              0.375,
              "rgb(252,146,114)"
             ],
             [
              0.5,
              "rgb(251,106,74)"
             ],
             [
              0.625,
              "rgb(239,59,44)"
             ],
             [
              0.75,
              "rgb(203,24,29)"
             ],
             [
              0.875,
              "rgb(165,15,21)"
             ],
             [
              1,
              "rgb(103,0,13)"
             ]
            ],
            "size": 10
           },
           "mode": "markers",
           "name": "defense",
           "showlegend": false,
           "type": "scatter",
           "x": [
            35.26,
            22.04,
            22.19,
            35.88,
            30.26,
            29.96,
            31.79,
            35.16,
            34.06,
            34.9,
            34.68
           ],
           "y": [
            33.07,
            34.81,
            22.74,
            27.04,
            25.51,
            29.5,
            34.18,
            29.6,
            37.62,
            24.81,
            19.36
           ]
          }
         ],
         "name": "13"
        },
        {
         "data": [
          {
           "hoverinfo": "none",
           "marker": {
            "color": "black",
            "size": 10
           },
           "mode": "markers",
           "name": "offense",
           "type": "scatter",
           "x": [
            35.18,
            35.41,
            35.54,
            36.7,
            36.07,
            34.72,
            35.55,
            42.18,
            36.64,
            35.88
           ],
           "y": [
            36.86,
            31.32,
            24.02,
            32.84,
            24.57,
            27.56,
            28.98,
            28.18,
            26.47,
            19.5
           ]
          },
          {
           "hoverinfo": "none",
           "marker": {
            "color": "yellow",
            "opacity": 1,
            "size": 10
           },
           "mode": "markers",
           "name": "ball_carrier",
           "type": "scatter",
           "x": [
            37.81
           ],
           "y": [
            28.96
           ]
          },
          {
           "customdata": [
            [
             37075,
             "Von Miller",
             "OLB",
             "BUF",
             0
            ],
            [
             40107,
             "Micah Hyde",
             "FS",
             "BUF",
             0
            ],
            [
             40166,
             "Jordan Poyer",
             "SS",
             "BUF",
             0
            ],
            [
             41341,
             "DaQuan Jones",
             "DT",
             "BUF",
             0.01
            ],
            [
             44976,
             "Matt Milano",
             "OLB",
             "BUF",
             0
            ],
            [
             46085,
             "Tremaine Edmunds",
             "ILB",
             "BUF",
             0.01
            ],
            [
             46190,
             "Taron Johnson",
             "CB",
             "BUF",
             0
            ],
            [
             46232,
             "Tim Settle",
             "DT",
             "BUF",
             0.01
            ],
            [
             52647,
             "Dane Jackson",
             "CB",
             "BUF",
             0
            ],
            [
             53459,
             "Gregory Rousseau",
             "DE",
             "BUF",
             0
            ],
            [
             54488,
             "Kaiir Elam",
             "CB",
             "BUF",
             0
            ]
           ],
           "hovertemplate": "<b>nflId:</b> %{customdata[0]}<br><b>Player:</b> %{customdata[1]} %{customdata[2]}<br><b>Team:</b> %{customdata[3]}<br><br><b>Tackling Probability:</b> %{customdata[4]}",
           "marker": {
            "cmax": 1,
            "cmin": 0,
            "color": [
             "#fff5f0",
             "#fff5f0",
             "#fff5f0",
             "#fff4ef",
             "#fff4ef",
             "#fff4ef",
             "#fff5f0",
             "#fff4ee",
             "#fff5f0",
             "#fff5f0",
             "#fff5f0"
            ],
            "colorbar": {
             "len": 0.85,
             "thickness": 10,
             "title": {
              "text": "defense"
             },
             "x": 1.03,
             "y": 0.4
            },
            "colorscale": [
             [
              0,
              "rgb(255,245,240)"
             ],
             [
              0.125,
              "rgb(254,224,210)"
             ],
             [
              0.25,
              "rgb(252,187,161)"
             ],
             [
              0.375,
              "rgb(252,146,114)"
             ],
             [
              0.5,
              "rgb(251,106,74)"
             ],
             [
              0.625,
              "rgb(239,59,44)"
             ],
             [
              0.75,
              "rgb(203,24,29)"
             ],
             [
              0.875,
              "rgb(165,15,21)"
             ],
             [
              1,
              "rgb(103,0,13)"
             ]
            ],
            "size": 10
           },
           "mode": "markers",
           "name": "defense",
           "showlegend": false,
           "type": "scatter",
           "x": [
            35.49,
            21.94,
            22.13,
            36.17,
            30.38,
            30.07,
            31.82,
            35.32,
            34.02,
            35.05,
            34.62
           ],
           "y": [
            32.88,
            34.77,
            22.65,
            26.98,
            25.21,
            29.16,
            34.09,
            29.32,
            37.67,
            24.69,
            19.22
           ]
          }
         ],
         "name": "14"
        },
        {
         "data": [
          {
           "hoverinfo": "none",
           "marker": {
            "color": "black",
            "size": 10
           },
           "mode": "markers",
           "name": "offense",
           "type": "scatter",
           "x": [
            35.05,
            35.24,
            35.39,
            36.69,
            36.06,
            34.54,
            35.46,
            42.13,
            36.8,
            35.62
           ],
           "y": [
            36.78,
            31.08,
            23.71,
            32.42,
            24.25,
            27.18,
            28.6,
            27.73,
            26.32,
            19.35
           ]
          },
          {
           "hoverinfo": "none",
           "marker": {
            "color": "yellow",
            "opacity": 1,
            "size": 10
           },
           "mode": "markers",
           "name": "ball_carrier",
           "type": "scatter",
           "x": [
            38.13
           ],
           "y": [
            28.86
           ]
          },
          {
           "customdata": [
            [
             37075,
             "Von Miller",
             "OLB",
             "BUF",
             0.01
            ],
            [
             40107,
             "Micah Hyde",
             "FS",
             "BUF",
             0
            ],
            [
             40166,
             "Jordan Poyer",
             "SS",
             "BUF",
             0
            ],
            [
             41341,
             "DaQuan Jones",
             "DT",
             "BUF",
             0.01
            ],
            [
             44976,
             "Matt Milano",
             "OLB",
             "BUF",
             0.01
            ],
            [
             46085,
             "Tremaine Edmunds",
             "ILB",
             "BUF",
             0.01
            ],
            [
             46190,
             "Taron Johnson",
             "CB",
             "BUF",
             0
            ],
            [
             46232,
             "Tim Settle",
             "DT",
             "BUF",
             0.01
            ],
            [
             52647,
             "Dane Jackson",
             "CB",
             "BUF",
             0
            ],
            [
             53459,
             "Gregory Rousseau",
             "DE",
             "BUF",
             0
            ],
            [
             54488,
             "Kaiir Elam",
             "CB",
             "BUF",
             0
            ]
           ],
           "hovertemplate": "<b>nflId:</b> %{customdata[0]}<br><b>Player:</b> %{customdata[1]} %{customdata[2]}<br><b>Team:</b> %{customdata[3]}<br><br><b>Tackling Probability:</b> %{customdata[4]}",
           "marker": {
            "cmax": 1,
            "cmin": 0,
            "color": [
             "#fff4ef",
             "#fff5f0",
             "#fff5f0",
             "#fff4ef",
             "#fff4ef",
             "#fff4ef",
             "#fff5f0",
             "#fff4ee",
             "#fff4ef",
             "#fff5f0",
             "#fff5f0"
            ],
            "colorbar": {
             "len": 0.85,
             "thickness": 10,
             "title": {
              "text": "defense"
             },
             "x": 1.03,
             "y": 0.4
            },
            "colorscale": [
             [
              0,
              "rgb(255,245,240)"
             ],
             [
              0.125,
              "rgb(254,224,210)"
             ],
             [
              0.25,
              "rgb(252,187,161)"
             ],
             [
              0.375,
              "rgb(252,146,114)"
             ],
             [
              0.5,
              "rgb(251,106,74)"
             ],
             [
              0.625,
              "rgb(239,59,44)"
             ],
             [
              0.75,
              "rgb(203,24,29)"
             ],
             [
              0.875,
              "rgb(165,15,21)"
             ],
             [
              1,
              "rgb(103,0,13)"
             ]
            ],
            "size": 10
           },
           "mode": "markers",
           "name": "defense",
           "showlegend": false,
           "type": "scatter",
           "x": [
            35.77,
            21.82,
            22.08,
            36.48,
            30.54,
            30.18,
            31.87,
            35.46,
            33.97,
            35.22,
            34.53
           ],
           "y": [
            32.68,
            34.71,
            22.49,
            26.9,
            24.83,
            28.78,
            33.95,
            29.02,
            37.71,
            24.55,
            19.04
           ]
          }
         ],
         "name": "15"
        },
        {
         "data": [
          {
           "hoverinfo": "none",
           "marker": {
            "color": "black",
            "size": 10
           },
           "mode": "markers",
           "name": "offense",
           "type": "scatter",
           "x": [
            34.91,
            35.08,
            35.23,
            36.67,
            36.07,
            34.34,
            35.38,
            42.07,
            36.96,
            35.35
           ],
           "y": [
            36.68,
            30.82,
            23.37,
            31.96,
            23.93,
            26.78,
            28.21,
            27.24,
            26.18,
            19.18
           ]
          },
          {
           "hoverinfo": "none",
           "marker": {
            "color": "yellow",
            "opacity": 1,
            "size": 10
           },
           "mode": "markers",
           "name": "ball_carrier",
           "type": "scatter",
           "x": [
            38.47
           ],
           "y": [
            28.76
           ]
          },
          {
           "customdata": [
            [
             37075,
             "Von Miller",
             "OLB",
             "BUF",
             0.01
            ],
            [
             40107,
             "Micah Hyde",
             "FS",
             "BUF",
             0.01
            ],
            [
             40166,
             "Jordan Poyer",
             "SS",
             "BUF",
             0
            ],
            [
             41341,
             "DaQuan Jones",
             "DT",
             "BUF",
             0.02
            ],
            [
             44976,
             "Matt Milano",
             "OLB",
             "BUF",
             0
            ],
            [
             46085,
             "Tremaine Edmunds",
             "ILB",
             "BUF",
             0.01
            ],
            [
             46190,
             "Taron Johnson",
             "CB",
             "BUF",
             0
            ],
            [
             46232,
             "Tim Settle",
             "DT",
             "BUF",
             0.01
            ],
            [
             52647,
             "Dane Jackson",
             "CB",
             "BUF",
             0.01
            ],
            [
             53459,
             "Gregory Rousseau",
             "DE",
             "BUF",
             0
            ],
            [
             54488,
             "Kaiir Elam",
             "CB",
             "BUF",
             0
            ]
           ],
           "hovertemplate": "<b>nflId:</b> %{customdata[0]}<br><b>Player:</b> %{customdata[1]} %{customdata[2]}<br><b>Team:</b> %{customdata[3]}<br><br><b>Tackling Probability:</b> %{customdata[4]}",
           "marker": {
            "cmax": 1,
            "cmin": 0,
            "color": [
             "#fff4ef",
             "#fff4ef",
             "#fff5f0",
             "#fff2ec",
             "#fff5f0",
             "#fff4ef",
             "#fff5f0",
             "#fff4ee",
             "#fff4ee",
             "#fff5f0",
             "#fff5f0"
            ],
            "colorbar": {
             "len": 0.85,
             "thickness": 10,
             "title": {
              "text": "defense"
             },
             "x": 1.03,
             "y": 0.4
            },
            "colorscale": [
             [
              0,
              "rgb(255,245,240)"
             ],
             [
              0.125,
              "rgb(254,224,210)"
             ],
             [
              0.25,
              "rgb(252,187,161)"
             ],
             [
              0.375,
              "rgb(252,146,114)"
             ],
             [
              0.5,
              "rgb(251,106,74)"
             ],
             [
              0.625,
              "rgb(239,59,44)"
             ],
             [
              0.75,
              "rgb(203,24,29)"
             ],
             [
              0.875,
              "rgb(165,15,21)"
             ],
             [
              1,
              "rgb(103,0,13)"
             ]
            ],
            "size": 10
           },
           "mode": "markers",
           "name": "defense",
           "showlegend": false,
           "type": "scatter",
           "x": [
            36.06,
            21.68,
            22.03,
            36.79,
            30.71,
            30.3,
            31.92,
            35.6,
            33.9,
            35.4,
            34.44
           ],
           "y": [
            32.49,
            34.63,
            22.31,
            26.8,
            24.4,
            28.35,
            33.75,
            28.69,
            37.72,
            24.38,
            18.83
           ]
          }
         ],
         "name": "16"
        },
        {
         "data": [
          {
           "hoverinfo": "none",
           "marker": {
            "color": "black",
            "size": 10
           },
           "mode": "markers",
           "name": "offense",
           "type": "scatter",
           "x": [
            34.76,
            34.89,
            35.05,
            36.65,
            36.11,
            34.13,
            35.32,
            42.02,
            37.13,
            35.09
           ],
           "y": [
            36.56,
            30.53,
            23.03,
            31.49,
            23.62,
            26.37,
            27.82,
            26.69,
            26.06,
            18.97
           ]
          },
          {
           "hoverinfo": "none",
           "marker": {
            "color": "yellow",
            "opacity": 1,
            "size": 10
           },
           "mode": "markers",
           "name": "ball_carrier",
           "type": "scatter",
           "x": [
            38.83
           ],
           "y": [
            28.69
           ]
          },
          {
           "customdata": [
            [
             37075,
             "Von Miller",
             "OLB",
             "BUF",
             0.01
            ],
            [
             40107,
             "Micah Hyde",
             "FS",
             "BUF",
             0.01
            ],
            [
             40166,
             "Jordan Poyer",
             "SS",
             "BUF",
             0
            ],
            [
             41341,
             "DaQuan Jones",
             "DT",
             "BUF",
             0.02
            ],
            [
             44976,
             "Matt Milano",
             "OLB",
             "BUF",
             0
            ],
            [
             46085,
             "Tremaine Edmunds",
             "ILB",
             "BUF",
             0
            ],
            [
             46190,
             "Taron Johnson",
             "CB",
             "BUF",
             0
            ],
            [
             46232,
             "Tim Settle",
             "DT",
             "BUF",
             0.01
            ],
            [
             52647,
             "Dane Jackson",
             "CB",
             "BUF",
             0.01
            ],
            [
             53459,
             "Gregory Rousseau",
             "DE",
             "BUF",
             0
            ],
            [
             54488,
             "Kaiir Elam",
             "CB",
             "BUF",
             0
            ]
           ],
           "hovertemplate": "<b>nflId:</b> %{customdata[0]}<br><b>Player:</b> %{customdata[1]} %{customdata[2]}<br><b>Team:</b> %{customdata[3]}<br><br><b>Tackling Probability:</b> %{customdata[4]}",
           "marker": {
            "cmax": 1,
            "cmin": 0,
            "color": [
             "#fff4ef",
             "#fff4ef",
             "#fff4ef",
             "#fff2ec",
             "#fff4ef",
             "#fff4ef",
             "#fff4ef",
             "#fff4ef",
             "#fff4ee",
             "#fff5f0",
             "#fff5f0"
            ],
            "colorbar": {
             "len": 0.85,
             "thickness": 10,
             "title": {
              "text": "defense"
             },
             "x": 1.03,
             "y": 0.4
            },
            "colorscale": [
             [
              0,
              "rgb(255,245,240)"
             ],
             [
              0.125,
              "rgb(254,224,210)"
             ],
             [
              0.25,
              "rgb(252,187,161)"
             ],
             [
              0.375,
              "rgb(252,146,114)"
             ],
             [
              0.5,
              "rgb(251,106,74)"
             ],
             [
              0.625,
              "rgb(239,59,44)"
             ],
             [
              0.75,
              "rgb(203,24,29)"
             ],
             [
              0.875,
              "rgb(165,15,21)"
             ],
             [
              1,
              "rgb(103,0,13)"
             ]
            ],
            "size": 10
           },
           "mode": "markers",
           "name": "defense",
           "showlegend": false,
           "type": "scatter",
           "x": [
            36.38,
            21.55,
            22,
            37.11,
            30.91,
            30.4,
            31.98,
            35.75,
            33.82,
            35.59,
            34.34
           ],
           "y": [
            32.28,
            34.52,
            22.08,
            26.69,
            23.93,
            27.86,
            33.5,
            28.34,
            37.7,
            24.19,
            18.57
           ]
          }
         ],
         "name": "17"
        },
        {
         "data": [
          {
           "hoverinfo": "none",
           "marker": {
            "color": "black",
            "size": 10
           },
           "mode": "markers",
           "name": "offense",
           "type": "scatter",
           "x": [
            39.21,
            34.59,
            34.7,
            34.88,
            36.63,
            36.15,
            33.9,
            35.28,
            37.31,
            34.83
           ],
           "y": [
            28.64,
            36.41,
            30.23,
            22.63,
            31,
            23.31,
            25.94,
            27.44,
            25.94,
            18.75
           ]
          },
          {
           "hoverinfo": "none",
           "marker": {
            "color": "yellow",
            "opacity": 1,
            "size": 10
           },
           "mode": "markers",
           "name": "ball_carrier",
           "type": "scatter",
           "x": [
            41.97
           ],
           "y": [
            26.11
           ]
          },
          {
           "customdata": [
            [
             37075,
             "Von Miller",
             "OLB",
             "BUF",
             0.08
            ],
            [
             40107,
             "Micah Hyde",
             "FS",
             "BUF",
             0.19
            ],
            [
             40166,
             "Jordan Poyer",
             "SS",
             "BUF",
             0.44
            ],
            [
             41341,
             "DaQuan Jones",
             "DT",
             "BUF",
             0.12
            ],
            [
             44976,
             "Matt Milano",
             "OLB",
             "BUF",
             0.32
            ],
            [
             46085,
             "Tremaine Edmunds",
             "ILB",
             "BUF",
             0.37
            ],
            [
             46190,
             "Taron Johnson",
             "CB",
             "BUF",
             0.13
            ],
            [
             46232,
             "Tim Settle",
             "DT",
             "BUF",
             0.39
            ],
            [
             52647,
             "Dane Jackson",
             "CB",
             "BUF",
             0.02
            ],
            [
             53459,
             "Gregory Rousseau",
             "DE",
             "BUF",
             0.19
            ],
            [
             54488,
             "Kaiir Elam",
             "CB",
             "BUF",
             0.19
            ]
           ],
           "hovertemplate": "<b>nflId:</b> %{customdata[0]}<br><b>Player:</b> %{customdata[1]} %{customdata[2]}<br><b>Team:</b> %{customdata[3]}<br><br><b>Tackling Probability:</b> %{customdata[4]}",
           "marker": {
            "cmax": 1,
            "cmin": 0,
            "color": [
             "#fee8dd",
             "#fdcdb9",
             "#fb7c5c",
             "#fee2d5",
             "#fca588",
             "#fc9576",
             "#fedfd0",
             "#fc8e6e",
             "#fff1ea",
             "#fdcdb9",
             "#fdcdb9"
            ],
            "colorbar": {
             "len": 0.85,
             "thickness": 10,
             "title": {
              "text": "defense"
             },
             "x": 1.03,
             "y": 0.4
            },
            "colorscale": [
             [
              0,
              "rgb(255,245,240)"
             ],
             [
              0.125,
              "rgb(254,224,210)"
             ],
             [
              0.25,
              "rgb(252,187,161)"
             ],
             [
              0.375,
              "rgb(252,146,114)"
             ],
             [
              0.5,
              "rgb(251,106,74)"
             ],
             [
              0.625,
              "rgb(239,59,44)"
             ],
             [
              0.75,
              "rgb(203,24,29)"
             ],
             [
              0.875,
              "rgb(165,15,21)"
             ],
             [
              1,
              "rgb(103,0,13)"
             ]
            ],
            "size": 10
           },
           "mode": "markers",
           "name": "defense",
           "showlegend": false,
           "type": "scatter",
           "x": [
            36.71,
            21.41,
            21.98,
            37.45,
            31.12,
            30.5,
            32.06,
            35.9,
            33.72,
            35.79,
            34.24
           ],
           "y": [
            32.05,
            34.39,
            21.81,
            26.58,
            23.42,
            27.32,
            33.2,
            27.94,
            37.65,
            23.99,
            18.29
           ]
          }
         ],
         "name": "18"
        },
        {
         "data": [
          {
           "hoverinfo": "none",
           "marker": {
            "color": "black",
            "size": 10
           },
           "mode": "markers",
           "name": "offense",
           "type": "scatter",
           "x": [
            39.59,
            34.41,
            34.51,
            34.69,
            36.62,
            36.21,
            33.66,
            35.28,
            37.49,
            34.6
           ],
           "y": [
            28.63,
            36.23,
            29.93,
            22.23,
            30.51,
            23.02,
            25.49,
            27.03,
            25.84,
            18.49
           ]
          },
          {
           "hoverinfo": "none",
           "marker": {
            "color": "yellow",
            "opacity": 1,
            "size": 10
           },
           "mode": "markers",
           "name": "ball_carrier",
           "type": "scatter",
           "x": [
            41.93
           ],
           "y": [
            25.5
           ]
          },
          {
           "customdata": [
            [
             37075,
             "Von Miller",
             "OLB",
             "BUF",
             0.05
            ],
            [
             40107,
             "Micah Hyde",
             "FS",
             "BUF",
             0.14
            ],
            [
             40166,
             "Jordan Poyer",
             "SS",
             "BUF",
             0.39
            ],
            [
             41341,
             "DaQuan Jones",
             "DT",
             "BUF",
             0.13
            ],
            [
             44976,
             "Matt Milano",
             "OLB",
             "BUF",
             0.28
            ],
            [
             46085,
             "Tremaine Edmunds",
             "ILB",
             "BUF",
             0.32
            ],
            [
             46190,
             "Taron Johnson",
             "CB",
             "BUF",
             0.08
            ],
            [
             46232,
             "Tim Settle",
             "DT",
             "BUF",
             0.27
            ],
            [
             52647,
             "Dane Jackson",
             "CB",
             "BUF",
             0.03
            ],
            [
             53459,
             "Gregory Rousseau",
             "DE",
             "BUF",
             0.26
            ],
            [
             54488,
             "Kaiir Elam",
             "CB",
             "BUF",
             0.21
            ]
           ],
           "hovertemplate": "<b>nflId:</b> %{customdata[0]}<br><b>Player:</b> %{customdata[1]} %{customdata[2]}<br><b>Team:</b> %{customdata[3]}<br><br><b>Tackling Probability:</b> %{customdata[4]}",
           "marker": {
            "cmax": 1,
            "cmin": 0,
            "color": [
             "#ffede5",
             "#fedbcc",
             "#fc8e6e",
             "#fedfd0",
             "#fcb398",
             "#fca689",
             "#fee8de",
             "#fcb69b",
             "#fff0e8",
             "#fcb99f",
             "#fdc9b3"
            ],
            "colorbar": {
             "len": 0.85,
             "thickness": 10,
             "title": {
              "text": "defense"
             },
             "x": 1.03,
             "y": 0.4
            },
            "colorscale": [
             [
              0,
              "rgb(255,245,240)"
             ],
             [
              0.125,
              "rgb(254,224,210)"
             ],
             [
              0.25,
              "rgb(252,187,161)"
             ],
             [
              0.375,
              "rgb(252,146,114)"
             ],
             [
              0.5,
              "rgb(251,106,74)"
             ],
             [
              0.625,
              "rgb(239,59,44)"
             ],
             [
              0.75,
              "rgb(203,24,29)"
             ],
             [
              0.875,
              "rgb(165,15,21)"
             ],
             [
              1,
              "rgb(103,0,13)"
             ]
            ],
            "size": 10
           },
           "mode": "markers",
           "name": "defense",
           "showlegend": false,
           "type": "scatter",
           "x": [
            37.03,
            21.28,
            21.98,
            37.77,
            31.35,
            30.6,
            32.14,
            36.04,
            33.6,
            36.02,
            34.14
           ],
           "y": [
            31.79,
            34.22,
            21.5,
            26.47,
            22.88,
            26.76,
            32.86,
            27.53,
            37.54,
            23.74,
            17.97
           ]
          }
         ],
         "name": "19"
        },
        {
         "data": [
          {
           "hoverinfo": "none",
           "marker": {
            "color": "black",
            "size": 10
           },
           "mode": "markers",
           "name": "offense",
           "type": "scatter",
           "x": [
            39.97,
            34.21,
            34.32,
            34.5,
            36.62,
            36.3,
            33.41,
            35.29,
            37.7,
            34.4
           ],
           "y": [
            28.66,
            36.04,
            29.63,
            21.82,
            30.03,
            22.73,
            25.02,
            26.61,
            25.73,
            18.21
           ]
          },
          {
           "hoverinfo": "none",
           "marker": {
            "color": "yellow",
            "opacity": 1,
            "size": 10
           },
           "mode": "markers",
           "name": "ball_carrier",
           "type": "scatter",
           "x": [
            41.88
           ],
           "y": [
            24.86
           ]
          },
          {
           "customdata": [
            [
             37075,
             "Von Miller",
             "OLB",
             "BUF",
             0.02
            ],
            [
             40107,
             "Micah Hyde",
             "FS",
             "BUF",
             0.09
            ],
            [
             40166,
             "Jordan Poyer",
             "SS",
             "BUF",
             0.44
            ],
            [
             41341,
             "DaQuan Jones",
             "DT",
             "BUF",
             0.07
            ],
            [
             44976,
             "Matt Milano",
             "OLB",
             "BUF",
             0.27
            ],
            [
             46085,
             "Tremaine Edmunds",
             "ILB",
             "BUF",
             0.35
            ],
            [
             46190,
             "Taron Johnson",
             "CB",
             "BUF",
             0.06
            ],
            [
             46232,
             "Tim Settle",
             "DT",
             "BUF",
             0.17
            ],
            [
             52647,
             "Dane Jackson",
             "CB",
             "BUF",
             0.02
            ],
            [
             53459,
             "Gregory Rousseau",
             "DE",
             "BUF",
             0.27
            ],
            [
             54488,
             "Kaiir Elam",
             "CB",
             "BUF",
             0.32
            ]
           ],
           "hovertemplate": "<b>nflId:</b> %{customdata[0]}<br><b>Player:</b> %{customdata[1]} %{customdata[2]}<br><b>Team:</b> %{customdata[3]}<br><br><b>Tackling Probability:</b> %{customdata[4]}",
           "marker": {
            "cmax": 1,
            "cmin": 0,
            "color": [
             "#fff2eb",
             "#fee7db",
             "#fb7c5c",
             "#feeae1",
             "#fcb69b",
             "#fc997a",
             "#ffece3",
             "#fdd4c2",
             "#fff1ea",
             "#fcb499",
             "#fca588"
            ],
            "colorbar": {
             "len": 0.85,
             "thickness": 10,
             "title": {
              "text": "defense"
             },
             "x": 1.03,
             "y": 0.4
            },
            "colorscale": [
             [
              0,
              "rgb(255,245,240)"
             ],
             [
              0.125,
              "rgb(254,224,210)"
             ],
             [
              0.25,
              "rgb(252,187,161)"
             ],
             [
              0.375,
              "rgb(252,146,114)"
             ],
             [
              0.5,
              "rgb(251,106,74)"
             ],
             [
              0.625,
              "rgb(239,59,44)"
             ],
             [
              0.75,
              "rgb(203,24,29)"
             ],
             [
              0.875,
              "rgb(165,15,21)"
             ],
             [
              1,
              "rgb(103,0,13)"
             ]
            ],
            "size": 10
           },
           "mode": "markers",
           "name": "defense",
           "showlegend": false,
           "type": "scatter",
           "x": [
            37.33,
            21.18,
            22.01,
            38.08,
            31.58,
            30.67,
            32.22,
            36.16,
            33.45,
            36.26,
            34.04
           ],
           "y": [
            31.51,
            34.02,
            21.14,
            26.36,
            22.31,
            26.17,
            32.48,
            27.1,
            37.39,
            23.46,
            17.61
           ]
          }
         ],
         "name": "20"
        },
        {
         "data": [
          {
           "hoverinfo": "none",
           "marker": {
            "color": "black",
            "size": 10
           },
           "mode": "markers",
           "name": "offense",
           "type": "scatter",
           "x": [
            40.35,
            34.01,
            34.11,
            34.32,
            36.63,
            36.42,
            33.16,
            35.35,
            37.9,
            34.24
           ],
           "y": [
            28.74,
            35.84,
            29.3,
            21.39,
            29.56,
            22.45,
            24.55,
            26.17,
            25.63,
            17.91
           ]
          },
          {
           "hoverinfo": "none",
           "marker": {
            "color": "yellow",
            "opacity": 1,
            "size": 10
           },
           "mode": "markers",
           "name": "ball_carrier",
           "type": "scatter",
           "x": [
            41.81
           ],
           "y": [
            24.2
           ]
          },
          {
           "customdata": [
            [
             37075,
             "Von Miller",
             "OLB",
             "BUF",
             0.02
            ],
            [
             40107,
             "Micah Hyde",
             "FS",
             "BUF",
             0.08
            ],
            [
             40166,
             "Jordan Poyer",
             "SS",
             "BUF",
             0.44
            ],
            [
             41341,
             "DaQuan Jones",
             "DT",
             "BUF",
             0.04
            ],
            [
             44976,
             "Matt Milano",
             "OLB",
             "BUF",
             0.27
            ],
            [
             46085,
             "Tremaine Edmunds",
             "ILB",
             "BUF",
             0.42
            ],
            [
             46190,
             "Taron Johnson",
             "CB",
             "BUF",
             0.05
            ],
            [
             46232,
             "Tim Settle",
             "DT",
             "BUF",
             0.19
            ],
            [
             52647,
             "Dane Jackson",
             "CB",
             "BUF",
             0.03
            ],
            [
             53459,
             "Gregory Rousseau",
             "DE",
             "BUF",
             0.28
            ],
            [
             54488,
             "Kaiir Elam",
             "CB",
             "BUF",
             0.23
            ]
           ],
           "hovertemplate": "<b>nflId:</b> %{customdata[0]}<br><b>Player:</b> %{customdata[1]} %{customdata[2]}<br><b>Team:</b> %{customdata[3]}<br><br><b>Tackling Probability:</b> %{customdata[4]}",
           "marker": {
            "cmax": 1,
            "cmin": 0,
            "color": [
             "#fff2ec",
             "#fee7dc",
             "#fb7c5c",
             "#ffefe8",
             "#fcb499",
             "#fc8565",
             "#ffece4",
             "#fdcebb",
             "#fff0e9",
             "#fcb296",
             "#fcc1a8"
            ],
            "colorbar": {
             "len": 0.85,
             "thickness": 10,
             "title": {
              "text": "defense"
             },
             "x": 1.03,
             "y": 0.4
            },
            "colorscale": [
             [
              0,
              "rgb(255,245,240)"
             ],
             [
              0.125,
              "rgb(254,224,210)"
             ],
             [
              0.25,
              "rgb(252,187,161)"
             ],
             [
              0.375,
              "rgb(252,146,114)"
             ],
             [
              0.5,
              "rgb(251,106,74)"
             ],
             [
              0.625,
              "rgb(239,59,44)"
             ],
             [
              0.75,
              "rgb(203,24,29)"
             ],
             [
              0.875,
              "rgb(165,15,21)"
             ],
             [
              1,
              "rgb(103,0,13)"
             ]
            ],
            "size": 10
           },
           "mode": "markers",
           "name": "defense",
           "showlegend": false,
           "type": "scatter",
           "x": [
            37.62,
            21.08,
            22.08,
            38.39,
            31.83,
            30.74,
            32.3,
            36.28,
            33.28,
            36.53,
            33.95
           ],
           "y": [
            31.19,
            33.79,
            20.74,
            26.22,
            21.72,
            25.55,
            32.09,
            26.62,
            37.19,
            23.18,
            17.23
           ]
          }
         ],
         "name": "21"
        },
        {
         "data": [
          {
           "hoverinfo": "none",
           "marker": {
            "color": "black",
            "size": 10
           },
           "mode": "markers",
           "name": "offense",
           "type": "scatter",
           "x": [
            40.71,
            33.8,
            33.91,
            34.16,
            36.67,
            36.54,
            32.9,
            35.41,
            38.1,
            34.1
           ],
           "y": [
            28.86,
            35.61,
            28.99,
            20.94,
            29.11,
            22.18,
            24.03,
            25.75,
            25.53,
            17.59
           ]
          },
          {
           "hoverinfo": "none",
           "marker": {
            "color": "yellow",
            "opacity": 1,
            "size": 10
           },
           "mode": "markers",
           "name": "ball_carrier",
           "type": "scatter",
           "x": [
            41.73
           ],
           "y": [
            23.54
           ]
          },
          {
           "customdata": [
            [
             37075,
             "Von Miller",
             "OLB",
             "BUF",
             0.02
            ],
            [
             40107,
             "Micah Hyde",
             "FS",
             "BUF",
             0.09
            ],
            [
             40166,
             "Jordan Poyer",
             "SS",
             "BUF",
             0.35
            ],
            [
             41341,
             "DaQuan Jones",
             "DT",
             "BUF",
             0.02
            ],
            [
             44976,
             "Matt Milano",
             "OLB",
             "BUF",
             0.34
            ],
            [
             46085,
             "Tremaine Edmunds",
             "ILB",
             "BUF",
             0.37
            ],
            [
             46190,
             "Taron Johnson",
             "CB",
             "BUF",
             0.04
            ],
            [
             46232,
             "Tim Settle",
             "DT",
             "BUF",
             0.14
            ],
            [
             52647,
             "Dane Jackson",
             "CB",
             "BUF",
             0.01
            ],
            [
             53459,
             "Gregory Rousseau",
             "DE",
             "BUF",
             0.18
            ],
            [
             54488,
             "Kaiir Elam",
             "CB",
             "BUF",
             0.22
            ]
           ],
           "hovertemplate": "<b>nflId:</b> %{customdata[0]}<br><b>Player:</b> %{customdata[1]} %{customdata[2]}<br><b>Team:</b> %{customdata[3]}<br><br><b>Tackling Probability:</b> %{customdata[4]}",
           "marker": {
            "cmax": 1,
            "cmin": 0,
            "color": [
             "#fff2ec",
             "#fee6da",
             "#fc997a",
             "#fff2ec",
             "#fca082",
             "#fc9474",
             "#ffeee6",
             "#fedccd",
             "#fff3ed",
             "#fdd0bc",
             "#fdc5ae"
            ],
            "colorbar": {
             "len": 0.85,
             "thickness": 10,
             "title": {
              "text": "defense"
             },
             "x": 1.03,
             "y": 0.4
            },
            "colorscale": [
             [
              0,
              "rgb(255,245,240)"
             ],
             [
              0.125,
              "rgb(254,224,210)"
             ],
             [
              0.25,
              "rgb(252,187,161)"
             ],
             [
              0.375,
              "rgb(252,146,114)"
             ],
             [
              0.5,
              "rgb(251,106,74)"
             ],
             [
              0.625,
              "rgb(239,59,44)"
             ],
             [
              0.75,
              "rgb(203,24,29)"
             ],
             [
              0.875,
              "rgb(165,15,21)"
             ],
             [
              1,
              "rgb(103,0,13)"
             ]
            ],
            "size": 10
           },
           "mode": "markers",
           "name": "defense",
           "showlegend": false,
           "type": "scatter",
           "x": [
            37.87,
            21.01,
            22.19,
            38.7,
            32.09,
            30.81,
            32.38,
            36.4,
            33.1,
            36.79,
            33.88
           ],
           "y": [
            30.86,
            33.53,
            20.31,
            26.08,
            21.13,
            24.93,
            31.67,
            26.12,
            36.96,
            22.88,
            16.83
           ]
          }
         ],
         "name": "22"
        },
        {
         "data": [
          {
           "hoverinfo": "none",
           "marker": {
            "color": "black",
            "size": 10
           },
           "mode": "markers",
           "name": "offense",
           "type": "scatter",
           "x": [
            41.04,
            33.58,
            33.71,
            34.03,
            36.72,
            36.69,
            32.66,
            35.49,
            38.32,
            33.99
           ],
           "y": [
            29.03,
            35.37,
            28.67,
            20.48,
            28.69,
            21.92,
            23.54,
            25.3,
            25.42,
            17.24
           ]
          },
          {
           "hoverinfo": "none",
           "marker": {
            "color": "yellow",
            "opacity": 1,
            "size": 10
           },
           "mode": "markers",
           "name": "ball_carrier",
           "type": "scatter",
           "x": [
            41.63
           ],
           "y": [
            22.85
           ]
          },
          {
           "customdata": [
            [
             37075,
             "Von Miller",
             "OLB",
             "BUF",
             0.02
            ],
            [
             40107,
             "Micah Hyde",
             "FS",
             "BUF",
             0.09
            ],
            [
             40166,
             "Jordan Poyer",
             "SS",
             "BUF",
             0.35
            ],
            [
             41341,
             "DaQuan Jones",
             "DT",
             "BUF",
             0.01
            ],
            [
             44976,
             "Matt Milano",
             "OLB",
             "BUF",
             0.27
            ],
            [
             46085,
             "Tremaine Edmunds",
             "ILB",
             "BUF",
             0.32
            ],
            [
             46190,
             "Taron Johnson",
             "CB",
             "BUF",
             0.05
            ],
            [
             46232,
             "Tim Settle",
             "DT",
             "BUF",
             0.2
            ],
            [
             52647,
             "Dane Jackson",
             "CB",
             "BUF",
             0.01
            ],
            [
             53459,
             "Gregory Rousseau",
             "DE",
             "BUF",
             0.26
            ],
            [
             54488,
             "Kaiir Elam",
             "CB",
             "BUF",
             0.27
            ]
           ],
           "hovertemplate": "<b>nflId:</b> %{customdata[0]}<br><b>Player:</b> %{customdata[1]} %{customdata[2]}<br><b>Team:</b> %{customdata[3]}<br><br><b>Tackling Probability:</b> %{customdata[4]}",
           "marker": {
            "cmax": 1,
            "cmin": 0,
            "color": [
             "#fff1ea",
             "#fee6da",
             "#fc9b7c",
             "#fff3ed",
             "#fcb398",
             "#fca486",
             "#ffede5",
             "#fdcbb6",
             "#fff4ee",
             "#fcb89e",
             "#fcb398"
            ],
            "colorbar": {
             "len": 0.85,
             "thickness": 10,
             "title": {
              "text": "defense"
             },
             "x": 1.03,
             "y": 0.4
            },
            "colorscale": [
             [
              0,
              "rgb(255,245,240)"
             ],
             [
              0.125,
              "rgb(254,224,210)"
             ],
             [
              0.25,
              "rgb(252,187,161)"
             ],
             [
              0.375,
              "rgb(252,146,114)"
             ],
             [
              0.5,
              "rgb(251,106,74)"
             ],
             [
              0.625,
              "rgb(239,59,44)"
             ],
             [
              0.75,
              "rgb(203,24,29)"
             ],
             [
              0.875,
              "rgb(165,15,21)"
             ],
             [
              1,
              "rgb(103,0,13)"
             ]
            ],
            "size": 10
           },
           "mode": "markers",
           "name": "defense",
           "showlegend": false,
           "type": "scatter",
           "x": [
            38.1,
            20.95,
            22.34,
            39.04,
            32.35,
            30.88,
            32.45,
            36.51,
            32.89,
            37.08,
            33.82
           ],
           "y": [
            30.5,
            33.23,
            19.86,
            25.9,
            20.53,
            24.32,
            31.23,
            25.61,
            36.7,
            22.56,
            16.42
           ]
          }
         ],
         "name": "23"
        },
        {
         "data": [
          {
           "hoverinfo": "none",
           "marker": {
            "color": "black",
            "size": 10
           },
           "mode": "markers",
           "name": "offense",
           "type": "scatter",
           "x": [
            41.35,
            33.36,
            33.52,
            33.95,
            36.79,
            36.87,
            32.43,
            35.58,
            38.55,
            33.92
           ],
           "y": [
            29.24,
            35.09,
            28.36,
            20,
            28.28,
            21.66,
            23.02,
            24.85,
            25.3,
            16.87
           ]
          },
          {
           "hoverinfo": "none",
           "marker": {
            "color": "yellow",
            "opacity": 1,
            "size": 10
           },
           "mode": "markers",
           "name": "ball_carrier",
           "type": "scatter",
           "x": [
            41.49
           ],
           "y": [
            22.15
           ]
          },
          {
           "customdata": [
            [
             37075,
             "Von Miller",
             "OLB",
             "BUF",
             0.01
            ],
            [
             40107,
             "Micah Hyde",
             "FS",
             "BUF",
             0.13
            ],
            [
             40166,
             "Jordan Poyer",
             "SS",
             "BUF",
             0.25
            ],
            [
             41341,
             "DaQuan Jones",
             "DT",
             "BUF",
             0.01
            ],
            [
             44976,
             "Matt Milano",
             "OLB",
             "BUF",
             0.28
            ],
            [
             46085,
             "Tremaine Edmunds",
             "ILB",
             "BUF",
             0.29
            ],
            [
             46190,
             "Taron Johnson",
             "CB",
             "BUF",
             0.05
            ],
            [
             46232,
             "Tim Settle",
             "DT",
             "BUF",
             0.28
            ],
            [
             52647,
             "Dane Jackson",
             "CB",
             "BUF",
             0.01
            ],
            [
             53459,
             "Gregory Rousseau",
             "DE",
             "BUF",
             0.17
            ],
            [
             54488,
             "Kaiir Elam",
             "CB",
             "BUF",
             0.35
            ]
           ],
           "hovertemplate": "<b>nflId:</b> %{customdata[0]}<br><b>Player:</b> %{customdata[1]} %{customdata[2]}<br><b>Team:</b> %{customdata[3]}<br><br><b>Tackling Probability:</b> %{customdata[4]}",
           "marker": {
            "cmax": 1,
            "cmin": 0,
            "color": [
             "#fff4ee",
             "#fee0d2",
             "#fcbca2",
             "#fff4ef",
             "#fcb095",
             "#fcaf93",
             "#ffeee6",
             "#fcb296",
             "#fff4ee",
             "#fdd2bf",
             "#fc9c7d"
            ],
            "colorbar": {
             "len": 0.85,
             "thickness": 10,
             "title": {
              "text": "defense"
             },
             "x": 1.03,
             "y": 0.4
            },
            "colorscale": [
             [
              0,
              "rgb(255,245,240)"
             ],
             [
              0.125,
              "rgb(254,224,210)"
             ],
             [
              0.25,
              "rgb(252,187,161)"
             ],
             [
              0.375,
              "rgb(252,146,114)"
             ],
             [
              0.5,
              "rgb(251,106,74)"
             ],
             [
              0.625,
              "rgb(239,59,44)"
             ],
             [
              0.75,
              "rgb(203,24,29)"
             ],
             [
              0.875,
              "rgb(165,15,21)"
             ],
             [
              1,
              "rgb(103,0,13)"
             ]
            ],
            "size": 10
           },
           "mode": "markers",
           "name": "defense",
           "showlegend": false,
           "type": "scatter",
           "x": [
            38.27,
            20.91,
            22.52,
            39.35,
            32.63,
            30.93,
            32.5,
            36.59,
            32.64,
            37.38,
            33.79
           ],
           "y": [
            30.13,
            32.89,
            19.4,
            25.71,
            19.92,
            23.71,
            30.78,
            25.06,
            36.4,
            22.22,
            16
           ]
          }
         ],
         "name": "24"
        },
        {
         "data": [
          {
           "hoverinfo": "none",
           "marker": {
            "color": "black",
            "size": 10
           },
           "mode": "markers",
           "name": "offense",
           "type": "scatter",
           "x": [
            41.62,
            33.12,
            33.36,
            33.95,
            36.88,
            37.07,
            32.22,
            35.68,
            38.78,
            33.89
           ],
           "y": [
            29.47,
            34.8,
            28.05,
            19.51,
            27.91,
            21.4,
            22.5,
            24.38,
            25.18,
            16.48
           ]
          },
          {
           "hoverinfo": "none",
           "marker": {
            "color": "yellow",
            "opacity": 1,
            "size": 10
           },
           "mode": "markers",
           "name": "ball_carrier",
           "type": "scatter",
           "x": [
            41.31
           ],
           "y": [
            21.45
           ]
          },
          {
           "customdata": [
            [
             37075,
             "Von Miller",
             "OLB",
             "BUF",
             0.03
            ],
            [
             40107,
             "Micah Hyde",
             "FS",
             "BUF",
             0.22
            ],
            [
             40166,
             "Jordan Poyer",
             "SS",
             "BUF",
             0.31
            ],
            [
             41341,
             "DaQuan Jones",
             "DT",
             "BUF",
             0.01
            ],
            [
             44976,
             "Matt Milano",
             "OLB",
             "BUF",
             0.33
            ],
            [
             46085,
             "Tremaine Edmunds",
             "ILB",
             "BUF",
             0.37
            ],
            [
             46190,
             "Taron Johnson",
             "CB",
             "BUF",
             0.04
            ],
            [
             46232,
             "Tim Settle",
             "DT",
             "BUF",
             0.31
            ],
            [
             52647,
             "Dane Jackson",
             "CB",
             "BUF",
             0.01
            ],
            [
             53459,
             "Gregory Rousseau",
             "DE",
             "BUF",
             0.23
            ],
            [
             54488,
             "Kaiir Elam",
             "CB",
             "BUF",
             0.42
            ]
           ],
           "hovertemplate": "<b>nflId:</b> %{customdata[0]}<br><b>Player:</b> %{customdata[1]} %{customdata[2]}<br><b>Team:</b> %{customdata[3]}<br><br><b>Tackling Probability:</b> %{customdata[4]}",
           "marker": {
            "cmax": 1,
            "cmin": 0,
            "color": [
             "#fff1ea",
             "#fdc5ae",
             "#fca78b",
             "#fff4ef",
             "#fca183",
             "#fc9576",
             "#ffefe8",
             "#fca689",
             "#fff4ee",
             "#fcc2aa",
             "#fc8565"
            ],
            "colorbar": {
             "len": 0.85,
             "thickness": 10,
             "title": {
              "text": "defense"
             },
             "x": 1.03,
             "y": 0.4
            },
            "colorscale": [
             [
              0,
              "rgb(255,245,240)"
             ],
             [
              0.125,
              "rgb(254,224,210)"
             ],
             [
              0.25,
              "rgb(252,187,161)"
             ],
             [
              0.375,
              "rgb(252,146,114)"
             ],
             [
              0.5,
              "rgb(251,106,74)"
             ],
             [
              0.625,
              "rgb(239,59,44)"
             ],
             [
              0.75,
              "rgb(203,24,29)"
             ],
             [
              0.875,
              "rgb(165,15,21)"
             ],
             [
              1,
              "rgb(103,0,13)"
             ]
            ],
            "size": 10
           },
           "mode": "markers",
           "name": "defense",
           "showlegend": false,
           "type": "scatter",
           "x": [
            38.4,
            20.88,
            22.75,
            39.65,
            32.92,
            30.97,
            32.54,
            36.66,
            32.37,
            37.71,
            33.78
           ],
           "y": [
            29.72,
            32.52,
            18.91,
            25.53,
            19.3,
            23.1,
            30.32,
            24.49,
            36.07,
            21.84,
            15.58
           ]
          }
         ],
         "name": "25"
        },
        {
         "data": [
          {
           "hoverinfo": "none",
           "marker": {
            "color": "black",
            "size": 10
           },
           "mode": "markers",
           "name": "offense",
           "type": "scatter",
           "x": [
            41.86,
            32.89,
            33.2,
            33.98,
            36.97,
            37.29,
            32.02,
            35.78,
            39.02,
            33.88
           ],
           "y": [
            29.74,
            34.48,
            27.75,
            19.03,
            27.56,
            21.13,
            21.98,
            23.88,
            25.02,
            16.07
           ]
          },
          {
           "hoverinfo": "none",
           "marker": {
            "color": "yellow",
            "opacity": 1,
            "size": 10
           },
           "mode": "markers",
           "name": "ball_carrier",
           "type": "scatter",
           "x": [
            41.11
           ],
           "y": [
            20.76
           ]
          },
          {
           "customdata": [
            [
             37075,
             "Von Miller",
             "OLB",
             "BUF",
             0.03
            ],
            [
             40107,
             "Micah Hyde",
             "FS",
             "BUF",
             0.29
            ],
            [
             40166,
             "Jordan Poyer",
             "SS",
             "BUF",
             0.29
            ],
            [
             41341,
             "DaQuan Jones",
             "DT",
             "BUF",
             0.01
            ],
            [
             44976,
             "Matt Milano",
             "OLB",
             "BUF",
             0.2
            ],
            [
             46085,
             "Tremaine Edmunds",
             "ILB",
             "BUF",
             0.45
            ],
            [
             46190,
             "Taron Johnson",
             "CB",
             "BUF",
             0.05
            ],
            [
             46232,
             "Tim Settle",
             "DT",
             "BUF",
             0.24
            ],
            [
             52647,
             "Dane Jackson",
             "CB",
             "BUF",
             0.01
            ],
            [
             53459,
             "Gregory Rousseau",
             "DE",
             "BUF",
             0.2
            ],
            [
             54488,
             "Kaiir Elam",
             "CB",
             "BUF",
             0.36
            ]
           ],
           "hovertemplate": "<b>nflId:</b> %{customdata[0]}<br><b>Player:</b> %{customdata[1]} %{customdata[2]}<br><b>Team:</b> %{customdata[3]}<br><br><b>Tackling Probability:</b> %{customdata[4]}",
           "marker": {
            "cmax": 1,
            "cmin": 0,
            "color": [
             "#fff0e9",
             "#fcad90",
             "#fcae92",
             "#fff4ef",
             "#fdcab5",
             "#fb7858",
             "#ffede5",
             "#fcbea5",
             "#fff4ee",
             "#fdc9b3",
             "#fc9777"
            ],
            "colorbar": {
             "len": 0.85,
             "thickness": 10,
             "title": {
              "text": "defense"
             },
             "x": 1.03,
             "y": 0.4
            },
            "colorscale": [
             [
              0,
              "rgb(255,245,240)"
             ],
             [
              0.125,
              "rgb(254,224,210)"
             ],
             [
              0.25,
              "rgb(252,187,161)"
             ],
             [
              0.375,
              "rgb(252,146,114)"
             ],
             [
              0.5,
              "rgb(251,106,74)"
             ],
             [
              0.625,
              "rgb(239,59,44)"
             ],
             [
              0.75,
              "rgb(203,24,29)"
             ],
             [
              0.875,
              "rgb(165,15,21)"
             ],
             [
              1,
              "rgb(103,0,13)"
             ]
            ],
            "size": 10
           },
           "mode": "markers",
           "name": "defense",
           "showlegend": false,
           "type": "scatter",
           "x": [
            38.48,
            20.86,
            23.03,
            39.94,
            33.21,
            30.99,
            32.56,
            36.72,
            32.09,
            38.04,
            33.79
           ],
           "y": [
            29.3,
            32.1,
            18.42,
            25.28,
            18.69,
            22.5,
            29.85,
            23.91,
            35.71,
            21.45,
            15.15
           ]
          }
         ],
         "name": "26"
        },
        {
         "data": [
          {
           "hoverinfo": "none",
           "marker": {
            "color": "black",
            "size": 10
           },
           "mode": "markers",
           "name": "offense",
           "type": "scatter",
           "x": [
            42.07,
            32.65,
            33.05,
            34.05,
            37.07,
            37.53,
            31.84,
            35.87,
            39.26,
            33.9
           ],
           "y": [
            30.02,
            34.14,
            27.45,
            18.54,
            27.24,
            20.87,
            21.45,
            23.39,
            24.84,
            15.64
           ]
          },
          {
           "hoverinfo": "none",
           "marker": {
            "color": "yellow",
            "opacity": 1,
            "size": 10
           },
           "mode": "markers",
           "name": "ball_carrier",
           "type": "scatter",
           "x": [
            40.88
           ],
           "y": [
            20.08
           ]
          },
          {
           "customdata": [
            [
             37075,
             "Von Miller",
             "OLB",
             "BUF",
             0.03
            ],
            [
             40107,
             "Micah Hyde",
             "FS",
             "BUF",
             0.28
            ],
            [
             40166,
             "Jordan Poyer",
             "SS",
             "BUF",
             0.22
            ],
            [
             41341,
             "DaQuan Jones",
             "DT",
             "BUF",
             0.01
            ],
            [
             44976,
             "Matt Milano",
             "OLB",
             "BUF",
             0.18
            ],
            [
             46085,
             "Tremaine Edmunds",
             "ILB",
             "BUF",
             0.42
            ],
            [
             46190,
             "Taron Johnson",
             "CB",
             "BUF",
             0.09
            ],
            [
             46232,
             "Tim Settle",
             "DT",
             "BUF",
             0.23
            ],
            [
             52647,
             "Dane Jackson",
             "CB",
             "BUF",
             0.01
            ],
            [
             53459,
             "Gregory Rousseau",
             "DE",
             "BUF",
             0.38
            ],
            [
             54488,
             "Kaiir Elam",
             "CB",
             "BUF",
             0.27
            ]
           ],
           "hovertemplate": "<b>nflId:</b> %{customdata[0]}<br><b>Player:</b> %{customdata[1]} %{customdata[2]}<br><b>Team:</b> %{customdata[3]}<br><br><b>Tackling Probability:</b> %{customdata[4]}",
           "marker": {
            "cmax": 1,
            "cmin": 0,
            "color": [
             "#fff0e8",
             "#fcb095",
             "#fcc4ad",
             "#fff4ef",
             "#fdd0bc",
             "#fc8464",
             "#fee6da",
             "#fcc1a8",
             "#fff3ed",
             "#fc8f6f",
             "#fcb398"
            ],
            "colorbar": {
             "len": 0.85,
             "thickness": 10,
             "title": {
              "text": "defense"
             },
             "x": 1.03,
             "y": 0.4
            },
            "colorscale": [
             [
              0,
              "rgb(255,245,240)"
             ],
             [
              0.125,
              "rgb(254,224,210)"
             ],
             [
              0.25,
              "rgb(252,187,161)"
             ],
             [
              0.375,
              "rgb(252,146,114)"
             ],
             [
              0.5,
              "rgb(251,106,74)"
             ],
             [
              0.625,
              "rgb(239,59,44)"
             ],
             [
              0.75,
              "rgb(203,24,29)"
             ],
             [
              0.875,
              "rgb(165,15,21)"
             ],
             [
              1,
              "rgb(103,0,13)"
             ]
            ],
            "size": 10
           },
           "mode": "markers",
           "name": "defense",
           "showlegend": false,
           "type": "scatter",
           "x": [
            38.52,
            20.84,
            23.35,
            40.22,
            33.51,
            30.99,
            32.56,
            36.76,
            31.79,
            38.39,
            33.83
           ],
           "y": [
            28.87,
            31.63,
            17.92,
            24.97,
            18.07,
            21.89,
            29.39,
            23.32,
            35.33,
            21.03,
            14.71
           ]
          }
         ],
         "name": "27"
        },
        {
         "data": [
          {
           "hoverinfo": "none",
           "marker": {
            "color": "black",
            "size": 10
           },
           "mode": "markers",
           "name": "offense",
           "type": "scatter",
           "x": [
            42.25,
            32.4,
            32.9,
            34.16,
            37.17,
            37.8,
            31.71,
            35.95,
            39.48,
            33.94
           ],
           "y": [
            30.32,
            33.79,
            27.16,
            18.05,
            26.94,
            20.61,
            20.91,
            22.9,
            24.63,
            15.21
           ]
          },
          {
           "hoverinfo": "none",
           "marker": {
            "color": "yellow",
            "opacity": 1,
            "size": 10
           },
           "mode": "markers",
           "name": "ball_carrier",
           "type": "scatter",
           "x": [
            40.61
           ],
           "y": [
            19.4
           ]
          },
          {
           "customdata": [
            [
             37075,
             "Von Miller",
             "OLB",
             "BUF",
             0.07
            ],
            [
             40107,
             "Micah Hyde",
             "FS",
             "BUF",
             0.31
            ],
            [
             40166,
             "Jordan Poyer",
             "SS",
             "BUF",
             0.18
            ],
            [
             41341,
             "DaQuan Jones",
             "DT",
             "BUF",
             0
            ],
            [
             44976,
             "Matt Milano",
             "OLB",
             "BUF",
             0.17
            ],
            [
             46085,
             "Tremaine Edmunds",
             "ILB",
             "BUF",
             0.3
            ],
            [
             46190,
             "Taron Johnson",
             "CB",
             "BUF",
             0.13
            ],
            [
             46232,
             "Tim Settle",
             "DT",
             "BUF",
             0.12
            ],
            [
             52647,
             "Dane Jackson",
             "CB",
             "BUF",
             0.03
            ],
            [
             53459,
             "Gregory Rousseau",
             "DE",
             "BUF",
             0.31
            ],
            [
             54488,
             "Kaiir Elam",
             "CB",
             "BUF",
             0.19
            ]
           ],
           "hovertemplate": "<b>nflId:</b> %{customdata[0]}<br><b>Player:</b> %{customdata[1]} %{customdata[2]}<br><b>Team:</b> %{customdata[3]}<br><br><b>Tackling Probability:</b> %{customdata[4]}",
           "marker": {
            "cmax": 1,
            "cmin": 0,
            "color": [
             "#feeae1",
             "#fca78b",
             "#fdd0bc",
             "#fff4ef",
             "#fdd2bf",
             "#fcaa8d",
             "#fee0d2",
             "#fee2d5",
             "#fff0e9",
             "#fca689",
             "#fdcebb"
            ],
            "colorbar": {
             "len": 0.85,
             "thickness": 10,
             "title": {
              "text": "defense"
             },
             "x": 1.03,
             "y": 0.4
            },
            "colorscale": [
             [
              0,
              "rgb(255,245,240)"
             ],
             [
              0.125,
              "rgb(254,224,210)"
             ],
             [
              0.25,
              "rgb(252,187,161)"
             ],
             [
              0.375,
              "rgb(252,146,114)"
             ],
             [
              0.5,
              "rgb(251,106,74)"
             ],
             [
              0.625,
              "rgb(239,59,44)"
             ],
             [
              0.75,
              "rgb(203,24,29)"
             ],
             [
              0.875,
              "rgb(165,15,21)"
             ],
             [
              1,
              "rgb(103,0,13)"
             ]
            ],
            "size": 10
           },
           "mode": "markers",
           "name": "defense",
           "showlegend": false,
           "type": "scatter",
           "x": [
            38.51,
            20.83,
            23.7,
            40.48,
            33.8,
            30.98,
            32.52,
            36.76,
            31.47,
            38.74,
            33.88
           ],
           "y": [
            28.43,
            31.14,
            17.42,
            24.65,
            17.46,
            21.31,
            28.94,
            22.7,
            34.93,
            20.59,
            14.27
           ]
          }
         ],
         "name": "28"
        },
        {
         "data": [
          {
           "hoverinfo": "none",
           "marker": {
            "color": "black",
            "size": 10
           },
           "mode": "markers",
           "name": "offense",
           "type": "scatter",
           "x": [
            42.4,
            32.15,
            32.75,
            34.31,
            37.27,
            38.08,
            31.58,
            36.01,
            39.69,
            33.98
           ],
           "y": [
            30.62,
            33.41,
            26.88,
            17.55,
            26.66,
            20.36,
            20.36,
            22.37,
            24.41,
            14.77
           ]
          },
          {
           "hoverinfo": "none",
           "marker": {
            "color": "yellow",
            "opacity": 1,
            "size": 10
           },
           "mode": "markers",
           "name": "ball_carrier",
           "type": "scatter",
           "x": [
            40.29
           ],
           "y": [
            18.75
           ]
          },
          {
           "customdata": [
            [
             37075,
             "Von Miller",
             "OLB",
             "BUF",
             0.05
            ],
            [
             40107,
             "Micah Hyde",
             "FS",
             "BUF",
             0.3
            ],
            [
             40166,
             "Jordan Poyer",
             "SS",
             "BUF",
             0.24
            ],
            [
             41341,
             "DaQuan Jones",
             "DT",
             "BUF",
             0
            ],
            [
             44976,
             "Matt Milano",
             "OLB",
             "BUF",
             0.22
            ],
            [
             46085,
             "Tremaine Edmunds",
             "ILB",
             "BUF",
             0.32
            ],
            [
             46190,
             "Taron Johnson",
             "CB",
             "BUF",
             0.16
            ],
            [
             46232,
             "Tim Settle",
             "DT",
             "BUF",
             0.4
            ],
            [
             52647,
             "Dane Jackson",
             "CB",
             "BUF",
             0.03
            ],
            [
             53459,
             "Gregory Rousseau",
             "DE",
             "BUF",
             0.13
            ],
            [
             54488,
             "Kaiir Elam",
             "CB",
             "BUF",
             0.22
            ]
           ],
           "hovertemplate": "<b>nflId:</b> %{customdata[0]}<br><b>Player:</b> %{customdata[1]} %{customdata[2]}<br><b>Team:</b> %{customdata[3]}<br><br><b>Tackling Probability:</b> %{customdata[4]}",
           "marker": {
            "cmax": 1,
            "cmin": 0,
            "color": [
             "#ffece4",
             "#fcab8f",
             "#fcbea5",
             "#fff5f0",
             "#fdc5ae",
             "#fca486",
             "#fdd7c6",
             "#fc8a6a",
             "#fff0e8",
             "#fedecf",
             "#fcc4ad"
            ],
            "colorbar": {
             "len": 0.85,
             "thickness": 10,
             "title": {
              "text": "defense"
             },
             "x": 1.03,
             "y": 0.4
            },
            "colorscale": [
             [
              0,
              "rgb(255,245,240)"
             ],
             [
              0.125,
              "rgb(254,224,210)"
             ],
             [
              0.25,
              "rgb(252,187,161)"
             ],
             [
              0.375,
              "rgb(252,146,114)"
             ],
             [
              0.5,
              "rgb(251,106,74)"
             ],
             [
              0.625,
              "rgb(239,59,44)"
             ],
             [
              0.75,
              "rgb(203,24,29)"
             ],
             [
              0.875,
              "rgb(165,15,21)"
             ],
             [
              1,
              "rgb(103,0,13)"
             ]
            ],
            "size": 10
           },
           "mode": "markers",
           "name": "defense",
           "showlegend": false,
           "type": "scatter",
           "x": [
            38.46,
            20.81,
            24.07,
            40.72,
            34.1,
            30.96,
            32.46,
            36.76,
            31.13,
            39.07,
            33.94
           ],
           "y": [
            28,
            30.61,
            16.93,
            24.32,
            16.86,
            20.73,
            28.49,
            22.07,
            34.51,
            20.13,
            13.83
           ]
          }
         ],
         "name": "29"
        },
        {
         "data": [
          {
           "hoverinfo": "none",
           "marker": {
            "color": "black",
            "size": 10
           },
           "mode": "markers",
           "name": "offense",
           "type": "scatter",
           "x": [
            42.51,
            31.91,
            32.58,
            34.48,
            37.35,
            38.37,
            31.45,
            36.04,
            39.9,
            34.04
           ],
           "y": [
            30.9,
            33.03,
            26.61,
            17.05,
            26.4,
            20.1,
            19.8,
            21.83,
            24.17,
            14.31
           ]
          },
          {
           "hoverinfo": "none",
           "marker": {
            "color": "yellow",
            "opacity": 1,
            "size": 10
           },
           "mode": "markers",
           "name": "ball_carrier",
           "type": "scatter",
           "x": [
            39.92
           ],
           "y": [
            18.12
           ]
          },
          {
           "customdata": [
            [
             37075,
             "Von Miller",
             "OLB",
             "BUF",
             0.07
            ],
            [
             40107,
             "Micah Hyde",
             "FS",
             "BUF",
             0.26
            ],
            [
             40166,
             "Jordan Poyer",
             "SS",
             "BUF",
             0.27
            ],
            [
             41341,
             "DaQuan Jones",
             "DT",
             "BUF",
             0
            ],
            [
             44976,
             "Matt Milano",
             "OLB",
             "BUF",
             0.18
            ],
            [
             46085,
             "Tremaine Edmunds",
             "ILB",
             "BUF",
             0.29
            ],
            [
             46190,
             "Taron Johnson",
             "CB",
             "BUF",
             0.13
            ],
            [
             46232,
             "Tim Settle",
             "DT",
             "BUF",
             0.22
            ],
            [
             52647,
             "Dane Jackson",
             "CB",
             "BUF",
             0.04
            ],
            [
             53459,
             "Gregory Rousseau",
             "DE",
             "BUF",
             0.06
            ],
            [
             54488,
             "Kaiir Elam",
             "CB",
             "BUF",
             0.24
            ]
           ],
           "hovertemplate": "<b>nflId:</b> %{customdata[0]}<br><b>Player:</b> %{customdata[1]} %{customdata[2]}<br><b>Team:</b> %{customdata[3]}<br><br><b>Tackling Probability:</b> %{customdata[4]}",
           "marker": {
            "cmax": 1,
            "cmin": 0,
            "color": [
             "#feeae1",
             "#fcb99f",
             "#fcb398",
             "#fff5f0",
             "#fdd1be",
             "#fcae92",
             "#fedfd0",
             "#fcc3ab",
             "#ffeee7",
             "#feeae1",
             "#fcbfa7"
            ],
            "colorbar": {
             "len": 0.85,
             "thickness": 10,
             "title": {
              "text": "defense"
             },
             "x": 1.03,
             "y": 0.4
            },
            "colorscale": [
             [
              0,
              "rgb(255,245,240)"
             ],
             [
              0.125,
              "rgb(254,224,210)"
             ],
             [
              0.25,
              "rgb(252,187,161)"
             ],
             [
              0.375,
              "rgb(252,146,114)"
             ],
             [
              0.5,
              "rgb(251,106,74)"
             ],
             [
              0.625,
              "rgb(239,59,44)"
             ],
             [
              0.75,
              "rgb(203,24,29)"
             ],
             [
              0.875,
              "rgb(165,15,21)"
             ],
             [
              1,
              "rgb(103,0,13)"
             ]
            ],
            "size": 10
           },
           "mode": "markers",
           "name": "defense",
           "showlegend": false,
           "type": "scatter",
           "x": [
            38.37,
            20.81,
            24.47,
            40.93,
            34.39,
            30.91,
            32.37,
            36.72,
            30.8,
            39.39,
            34.01
           ],
           "y": [
            27.58,
            30.06,
            16.44,
            23.95,
            16.27,
            20.15,
            28.07,
            21.43,
            34.08,
            19.66,
            13.36
           ]
          }
         ],
         "name": "30"
        },
        {
         "data": [
          {
           "hoverinfo": "none",
           "marker": {
            "color": "black",
            "size": 10
           },
           "mode": "markers",
           "name": "offense",
           "type": "scatter",
           "x": [
            42.58,
            31.66,
            32.39,
            34.67,
            37.41,
            38.67,
            31.34,
            36.08,
            40.08,
            34.11
           ],
           "y": [
            31.17,
            32.63,
            26.36,
            16.53,
            26.14,
            19.83,
            19.28,
            21.29,
            23.91,
            13.83
           ]
          },
          {
           "hoverinfo": "none",
           "marker": {
            "color": "yellow",
            "opacity": 1,
            "size": 10
           },
           "mode": "markers",
           "name": "ball_carrier",
           "type": "scatter",
           "x": [
            39.49
           ],
           "y": [
            17.52
           ]
          },
          {
           "customdata": [
            [
             37075,
             "Von Miller",
             "OLB",
             "BUF",
             0.05
            ],
            [
             40107,
             "Micah Hyde",
             "FS",
             "BUF",
             0.09
            ],
            [
             40166,
             "Jordan Poyer",
             "SS",
             "BUF",
             0.41
            ],
            [
             41341,
             "DaQuan Jones",
             "DT",
             "BUF",
             0
            ],
            [
             44976,
             "Matt Milano",
             "OLB",
             "BUF",
             0.33
            ],
            [
             46085,
             "Tremaine Edmunds",
             "ILB",
             "BUF",
             0.31
            ],
            [
             46190,
             "Taron Johnson",
             "CB",
             "BUF",
             0.11
            ],
            [
             46232,
             "Tim Settle",
             "DT",
             "BUF",
             0.33
            ],
            [
             52647,
             "Dane Jackson",
             "CB",
             "BUF",
             0.05
            ],
            [
             53459,
             "Gregory Rousseau",
             "DE",
             "BUF",
             0.01
            ],
            [
             54488,
             "Kaiir Elam",
             "CB",
             "BUF",
             0.16
            ]
           ],
           "hovertemplate": "<b>nflId:</b> %{customdata[0]}<br><b>Player:</b> %{customdata[1]} %{customdata[2]}<br><b>Team:</b> %{customdata[3]}<br><br><b>Tackling Probability:</b> %{customdata[4]}",
           "marker": {
            "cmax": 1,
            "cmin": 0,
            "color": [
             "#ffeee6",
             "#fee6da",
             "#fc8666",
             "#fff5f0",
             "#fca183",
             "#fca689",
             "#fee3d7",
             "#fca183",
             "#ffede5",
             "#fff4ee",
             "#fdd5c4"
            ],
            "colorbar": {
             "len": 0.85,
             "thickness": 10,
             "title": {
              "text": "defense"
             },
             "x": 1.03,
             "y": 0.4
            },
            "colorscale": [
             [
              0,
              "rgb(255,245,240)"
             ],
             [
              0.125,
              "rgb(254,224,210)"
             ],
             [
              0.25,
              "rgb(252,187,161)"
             ],
             [
              0.375,
              "rgb(252,146,114)"
             ],
             [
              0.5,
              "rgb(251,106,74)"
             ],
             [
              0.625,
              "rgb(239,59,44)"
             ],
             [
              0.75,
              "rgb(203,24,29)"
             ],
             [
              0.875,
              "rgb(165,15,21)"
             ],
             [
              1,
              "rgb(103,0,13)"
             ]
            ],
            "size": 10
           },
           "mode": "markers",
           "name": "defense",
           "showlegend": false,
           "type": "scatter",
           "x": [
            38.24,
            20.82,
            24.88,
            41.09,
            34.66,
            30.81,
            32.23,
            36.65,
            30.45,
            39.69,
            34.09
           ],
           "y": [
            27.18,
            29.49,
            15.96,
            23.51,
            15.69,
            19.57,
            27.68,
            20.77,
            33.63,
            19.16,
            12.89
           ]
          }
         ],
         "name": "31"
        },
        {
         "data": [
          {
           "hoverinfo": "none",
           "marker": {
            "color": "black",
            "size": 10
           },
           "mode": "markers",
           "name": "offense",
           "type": "scatter",
           "x": [
            42.62,
            31.42,
            32.19,
            34.86,
            37.45,
            38.97,
            31.23,
            36.09,
            40.24,
            34.18
           ],
           "y": [
            31.42,
            32.21,
            26.12,
            16,
            25.89,
            19.57,
            18.77,
            20.78,
            23.64,
            13.35
           ]
          },
          {
           "hoverinfo": "none",
           "marker": {
            "color": "yellow",
            "opacity": 1,
            "size": 10
           },
           "mode": "markers",
           "name": "ball_carrier",
           "type": "scatter",
           "x": [
            38.98
           ],
           "y": [
            16.97
           ]
          },
          {
           "customdata": [
            [
             37075,
             "Von Miller",
             "OLB",
             "BUF",
             0.02
            ],
            [
             40107,
             "Micah Hyde",
             "FS",
             "BUF",
             0.12
            ],
            [
             40166,
             "Jordan Poyer",
             "SS",
             "BUF",
             0.46
            ],
            [
             41341,
             "DaQuan Jones",
             "DT",
             "BUF",
             0
            ],
            [
             44976,
             "Matt Milano",
             "OLB",
             "BUF",
             0.22
            ],
            [
             46085,
             "Tremaine Edmunds",
             "ILB",
             "BUF",
             0.47
            ],
            [
             46190,
             "Taron Johnson",
             "CB",
             "BUF",
             0.12
            ],
            [
             46232,
             "Tim Settle",
             "DT",
             "BUF",
             0.5
            ],
            [
             52647,
             "Dane Jackson",
             "CB",
             "BUF",
             0.07
            ],
            [
             53459,
             "Gregory Rousseau",
             "DE",
             "BUF",
             0.01
            ],
            [
             54488,
             "Kaiir Elam",
             "CB",
             "BUF",
             0.07
            ]
           ],
           "hovertemplate": "<b>nflId:</b> %{customdata[0]}<br><b>Player:</b> %{customdata[1]} %{customdata[2]}<br><b>Team:</b> %{customdata[3]}<br><br><b>Tackling Probability:</b> %{customdata[4]}",
           "marker": {
            "cmax": 1,
            "cmin": 0,
            "color": [
             "#fff2eb",
             "#fee1d4",
             "#fb7757",
             "#fff5f0",
             "#fdc5ae",
             "#fb7353",
             "#fee2d5",
             "#fb6b4b",
             "#feeae0",
             "#fff4ef",
             "#fee9df"
            ],
            "colorbar": {
             "len": 0.85,
             "thickness": 10,
             "title": {
              "text": "defense"
             },
             "x": 1.03,
             "y": 0.4
            },
            "colorscale": [
             [
              0,
              "rgb(255,245,240)"
             ],
             [
              0.125,
              "rgb(254,224,210)"
             ],
             [
              0.25,
              "rgb(252,187,161)"
             ],
             [
              0.375,
              "rgb(252,146,114)"
             ],
             [
              0.5,
              "rgb(251,106,74)"
             ],
             [
              0.625,
              "rgb(239,59,44)"
             ],
             [
              0.75,
              "rgb(203,24,29)"
             ],
             [
              0.875,
              "rgb(165,15,21)"
             ],
             [
              1,
              "rgb(103,0,13)"
             ]
            ],
            "size": 10
           },
           "mode": "markers",
           "name": "defense",
           "showlegend": false,
           "type": "scatter",
           "x": [
            38.08,
            20.84,
            25.31,
            41.22,
            34.92,
            30.72,
            32.06,
            36.55,
            30.1,
            39.96,
            34.15
           ],
           "y": [
            26.81,
            28.9,
            15.5,
            23.05,
            15.13,
            19.05,
            27.33,
            20.08,
            33.16,
            18.65,
            12.41
           ]
          }
         ],
         "name": "32"
        },
        {
         "data": [
          {
           "hoverinfo": "none",
           "marker": {
            "color": "black",
            "size": 10
           },
           "mode": "markers",
           "name": "offense",
           "type": "scatter",
           "x": [
            42.64,
            31.17,
            31.97,
            35.06,
            37.46,
            39.28,
            31.13,
            36.1,
            40.38,
            34.24
           ],
           "y": [
            31.66,
            31.78,
            25.87,
            15.46,
            25.65,
            19.31,
            18.28,
            20.24,
            23.35,
            12.84
           ]
          },
          {
           "hoverinfo": "none",
           "marker": {
            "color": "yellow",
            "opacity": 1,
            "size": 10
           },
           "mode": "markers",
           "name": "ball_carrier",
           "type": "scatter",
           "x": [
            38.43
           ],
           "y": [
            16.47
           ]
          },
          {
           "customdata": [
            [
             37075,
             "Von Miller",
             "OLB",
             "BUF",
             0.01
            ],
            [
             40107,
             "Micah Hyde",
             "FS",
             "BUF",
             0.19
            ],
            [
             40166,
             "Jordan Poyer",
             "SS",
             "BUF",
             0.55
            ],
            [
             41341,
             "DaQuan Jones",
             "DT",
             "BUF",
             0
            ],
            [
             44976,
             "Matt Milano",
             "OLB",
             "BUF",
             0.15
            ],
            [
             46085,
             "Tremaine Edmunds",
             "ILB",
             "BUF",
             0.51
            ],
            [
             46190,
             "Taron Johnson",
             "CB",
             "BUF",
             0.06
            ],
            [
             46232,
             "Tim Settle",
             "DT",
             "BUF",
             0.48
            ],
            [
             52647,
             "Dane Jackson",
             "CB",
             "BUF",
             0.06
            ],
            [
             53459,
             "Gregory Rousseau",
             "DE",
             "BUF",
             0.01
            ],
            [
             54488,
             "Kaiir Elam",
             "CB",
             "BUF",
             0.04
            ]
           ],
           "hovertemplate": "<b>nflId:</b> %{customdata[0]}<br><b>Player:</b> %{customdata[1]} %{customdata[2]}<br><b>Team:</b> %{customdata[3]}<br><br><b>Tackling Probability:</b> %{customdata[4]}",
           "marker": {
            "cmax": 1,
            "cmin": 0,
            "color": [
             "#fff3ed",
             "#fdcdb9",
             "#f6563d",
             "#fff5f0",
             "#fed8c7",
             "#fa6648",
             "#ffece3",
             "#fb7151",
             "#ffebe2",
             "#fff4ef",
             "#ffeee7"
            ],
            "colorbar": {
             "len": 0.85,
             "thickness": 10,
             "title": {
              "text": "defense"
             },
             "x": 1.03,
             "y": 0.4
            },
            "colorscale": [
             [
              0,
              "rgb(255,245,240)"
             ],
             [
              0.125,
              "rgb(254,224,210)"
             ],
             [
              0.25,
              "rgb(252,187,161)"
             ],
             [
              0.375,
              "rgb(252,146,114)"
             ],
             [
              0.5,
              "rgb(251,106,74)"
             ],
             [
              0.625,
              "rgb(239,59,44)"
             ],
             [
              0.75,
              "rgb(203,24,29)"
             ],
             [
              0.875,
              "rgb(165,15,21)"
             ],
             [
              1,
              "rgb(103,0,13)"
             ]
            ],
            "size": 10
           },
           "mode": "markers",
           "name": "defense",
           "showlegend": false,
           "type": "scatter",
           "x": [
            37.89,
            20.87,
            25.73,
            41.31,
            35.16,
            30.64,
            31.86,
            36.41,
            29.75,
            40.19,
            34.2
           ],
           "y": [
            26.47,
            28.3,
            15.06,
            22.57,
            14.58,
            18.51,
            26.97,
            19.39,
            32.69,
            18.13,
            11.94
           ]
          }
         ],
         "name": "33"
        },
        {
         "data": [
          {
           "hoverinfo": "none",
           "marker": {
            "color": "black",
            "size": 10
           },
           "mode": "markers",
           "name": "offense",
           "type": "scatter",
           "x": [
            42.63,
            30.93,
            31.74,
            35.24,
            37.45,
            39.57,
            31,
            36.09,
            40.5,
            34.28
           ],
           "y": [
            31.86,
            31.34,
            25.63,
            14.9,
            25.42,
            19.03,
            17.78,
            19.67,
            23.05,
            12.32
           ]
          },
          {
           "hoverinfo": "none",
           "marker": {
            "color": "yellow",
            "opacity": 1,
            "size": 10
           },
           "mode": "markers",
           "name": "ball_carrier",
           "type": "scatter",
           "x": [
            37.83
           ],
           "y": [
            16.02
           ]
          },
          {
           "customdata": [
            [
             37075,
             "Von Miller",
             "OLB",
             "BUF",
             0.01
            ],
            [
             40107,
             "Micah Hyde",
             "FS",
             "BUF",
             0.23
            ],
            [
             40166,
             "Jordan Poyer",
             "SS",
             "BUF",
             0.49
            ],
            [
             41341,
             "DaQuan Jones",
             "DT",
             "BUF",
             0
            ],
            [
             44976,
             "Matt Milano",
             "OLB",
             "BUF",
             0.12
            ],
            [
             46085,
             "Tremaine Edmunds",
             "ILB",
             "BUF",
             0.48
            ],
            [
             46190,
             "Taron Johnson",
             "CB",
             "BUF",
             0.05
            ],
            [
             46232,
             "Tim Settle",
             "DT",
             "BUF",
             0.63
            ],
            [
             52647,
             "Dane Jackson",
             "CB",
             "BUF",
             0.07
            ],
            [
             53459,
             "Gregory Rousseau",
             "DE",
             "BUF",
             0.02
            ],
            [
             54488,
             "Kaiir Elam",
             "CB",
             "BUF",
             0.02
            ]
           ],
           "hovertemplate": "<b>nflId:</b> %{customdata[0]}<br><b>Player:</b> %{customdata[1]} %{customdata[2]}<br><b>Team:</b> %{customdata[3]}<br><br><b>Tackling Probability:</b> %{customdata[4]}",
           "marker": {
            "cmax": 1,
            "cmin": 0,
            "color": [
             "#fff4ee",
             "#fcc1a8",
             "#fb6c4c",
             "#fff5f0",
             "#fee1d4",
             "#fb7252",
             "#ffece4",
             "#ee3a2c",
             "#feeae1",
             "#fff2ec",
             "#fff2eb"
            ],
            "colorbar": {
             "len": 0.85,
             "thickness": 10,
             "title": {
              "text": "defense"
             },
             "x": 1.03,
             "y": 0.4
            },
            "colorscale": [
             [
              0,
              "rgb(255,245,240)"
             ],
             [
              0.125,
              "rgb(254,224,210)"
             ],
             [
              0.25,
              "rgb(252,187,161)"
             ],
             [
              0.375,
              "rgb(252,146,114)"
             ],
             [
              0.5,
              "rgb(251,106,74)"
             ],
             [
              0.625,
              "rgb(239,59,44)"
             ],
             [
              0.75,
              "rgb(203,24,29)"
             ],
             [
              0.875,
              "rgb(165,15,21)"
             ],
             [
              1,
              "rgb(103,0,13)"
             ]
            ],
            "size": 10
           },
           "mode": "markers",
           "name": "defense",
           "showlegend": false,
           "type": "scatter",
           "x": [
            37.68,
            20.91,
            26.15,
            41.35,
            35.37,
            30.52,
            31.62,
            36.26,
            29.4,
            40.36,
            34.25
           ],
           "y": [
            26.14,
            27.69,
            14.64,
            22.06,
            14.05,
            17.99,
            26.6,
            18.7,
            32.2,
            17.58,
            11.46
           ]
          }
         ],
         "name": "34"
        },
        {
         "data": [
          {
           "hoverinfo": "none",
           "marker": {
            "color": "black",
            "size": 10
           },
           "mode": "markers",
           "name": "offense",
           "type": "scatter",
           "x": [
            42.61,
            30.69,
            31.49,
            35.41,
            37.41,
            39.87,
            30.87,
            36.07,
            40.6,
            34.3
           ],
           "y": [
            32.05,
            30.89,
            25.38,
            14.34,
            25.18,
            18.73,
            17.29,
            19.13,
            22.76,
            11.8
           ]
          },
          {
           "hoverinfo": "none",
           "marker": {
            "color": "yellow",
            "opacity": 1,
            "size": 10
           },
           "mode": "markers",
           "name": "ball_carrier",
           "type": "scatter",
           "x": [
            37.2
           ],
           "y": [
            15.61
           ]
          },
          {
           "customdata": [
            [
             37075,
             "Von Miller",
             "OLB",
             "BUF",
             0
            ],
            [
             40107,
             "Micah Hyde",
             "FS",
             "BUF",
             0.24
            ],
            [
             40166,
             "Jordan Poyer",
             "SS",
             "BUF",
             0.32
            ],
            [
             41341,
             "DaQuan Jones",
             "DT",
             "BUF",
             0.01
            ],
            [
             44976,
             "Matt Milano",
             "OLB",
             "BUF",
             0.02
            ],
            [
             46085,
             "Tremaine Edmunds",
             "ILB",
             "BUF",
             0.41
            ],
            [
             46190,
             "Taron Johnson",
             "CB",
             "BUF",
             0.07
            ],
            [
             46232,
             "Tim Settle",
             "DT",
             "BUF",
             0.51
            ],
            [
             52647,
             "Dane Jackson",
             "CB",
             "BUF",
             0.08
            ],
            [
             53459,
             "Gregory Rousseau",
             "DE",
             "BUF",
             0.01
            ],
            [
             54488,
             "Kaiir Elam",
             "CB",
             "BUF",
             0.07
            ]
           ],
           "hovertemplate": "<b>nflId:</b> %{customdata[0]}<br><b>Player:</b> %{customdata[1]} %{customdata[2]}<br><b>Team:</b> %{customdata[3]}<br><br><b>Tackling Probability:</b> %{customdata[4]}",
           "marker": {
            "cmax": 1,
            "cmin": 0,
            "color": [
             "#fff4ef",
             "#fcbea5",
             "#fca588",
             "#fff4ee",
             "#fff2eb",
             "#fc8969",
             "#feeae0",
             "#fa6547",
             "#fee8dd",
             "#fff3ed",
             "#fee9df"
            ],
            "colorbar": {
             "len": 0.85,
             "thickness": 10,
             "title": {
              "text": "defense"
             },
             "x": 1.03,
             "y": 0.4
            },
            "colorscale": [
             [
              0,
              "rgb(255,245,240)"
             ],
             [
              0.125,
              "rgb(254,224,210)"
             ],
             [
              0.25,
              "rgb(252,187,161)"
             ],
             [
              0.375,
              "rgb(252,146,114)"
             ],
             [
              0.5,
              "rgb(251,106,74)"
             ],
             [
              0.625,
              "rgb(239,59,44)"
             ],
             [
              0.75,
              "rgb(203,24,29)"
             ],
             [
              0.875,
              "rgb(165,15,21)"
             ],
             [
              1,
              "rgb(103,0,13)"
             ]
            ],
            "size": 10
           },
           "mode": "markers",
           "name": "defense",
           "showlegend": false,
           "type": "scatter",
           "x": [
            37.45,
            20.96,
            26.55,
            41.34,
            35.53,
            30.37,
            31.38,
            36.08,
            29.06,
            40.49,
            34.23
           ],
           "y": [
            25.85,
            27.07,
            14.24,
            21.53,
            13.53,
            17.48,
            26.25,
            18.01,
            31.7,
            17.04,
            11.03
           ]
          }
         ],
         "name": "35"
        },
        {
         "data": [
          {
           "hoverinfo": "none",
           "marker": {
            "color": "black",
            "size": 10
           },
           "mode": "markers",
           "name": "offense",
           "type": "scatter",
           "x": [
            42.57,
            30.45,
            31.24,
            35.56,
            37.34,
            40.15,
            30.71,
            36.04,
            40.69,
            34.27
           ],
           "y": [
            32.21,
            30.43,
            25.14,
            13.77,
            24.95,
            18.43,
            16.83,
            18.59,
            22.47,
            11.28
           ]
          },
          {
           "hoverinfo": "none",
           "marker": {
            "color": "yellow",
            "opacity": 1,
            "size": 10
           },
           "mode": "markers",
           "name": "ball_carrier",
           "type": "scatter",
           "x": [
            36.54
           ],
           "y": [
            15.24
           ]
          },
          {
           "customdata": [
            [
             37075,
             "Von Miller",
             "OLB",
             "BUF",
             0.01
            ],
            [
             40107,
             "Micah Hyde",
             "FS",
             "BUF",
             0.33
            ],
            [
             40166,
             "Jordan Poyer",
             "SS",
             "BUF",
             0.36
            ],
            [
             41341,
             "DaQuan Jones",
             "DT",
             "BUF",
             0.01
            ],
            [
             44976,
             "Matt Milano",
             "OLB",
             "BUF",
             0.02
            ],
            [
             46085,
             "Tremaine Edmunds",
             "ILB",
             "BUF",
             0.34
            ],
            [
             46190,
             "Taron Johnson",
             "CB",
             "BUF",
             0.06
            ],
            [
             46232,
             "Tim Settle",
             "DT",
             "BUF",
             0.87
            ],
            [
             52647,
             "Dane Jackson",
             "CB",
             "BUF",
             0.1
            ],
            [
             53459,
             "Gregory Rousseau",
             "DE",
             "BUF",
             0.04
            ],
            [
             54488,
             "Kaiir Elam",
             "CB",
             "BUF",
             0.06
            ]
           ],
           "hovertemplate": "<b>nflId:</b> %{customdata[0]}<br><b>Player:</b> %{customdata[1]} %{customdata[2]}<br><b>Team:</b> %{customdata[3]}<br><br><b>Tackling Probability:</b> %{customdata[4]}",
           "marker": {
            "cmax": 1,
            "cmin": 0,
            "color": [
             "#fff4ee",
             "#fca285",
             "#fc9879",
             "#fff4ee",
             "#fff2ec",
             "#fc9e80",
             "#ffebe2",
             "#a81016",
             "#fee5d8",
             "#ffefe8",
             "#ffebe2"
            ],
            "colorbar": {
             "len": 0.85,
             "thickness": 10,
             "title": {
              "text": "defense"
             },
             "x": 1.03,
             "y": 0.4
            },
            "colorscale": [
             [
              0,
              "rgb(255,245,240)"
             ],
             [
              0.125,
              "rgb(254,224,210)"
             ],
             [
              0.25,
              "rgb(252,187,161)"
             ],
             [
              0.375,
              "rgb(252,146,114)"
             ],
             [
              0.5,
              "rgb(251,106,74)"
             ],
             [
              0.625,
              "rgb(239,59,44)"
             ],
             [
              0.75,
              "rgb(203,24,29)"
             ],
             [
              0.875,
              "rgb(165,15,21)"
             ],
             [
              1,
              "rgb(103,0,13)"
             ]
            ],
            "size": 10
           },
           "mode": "markers",
           "name": "defense",
           "showlegend": false,
           "type": "scatter",
           "x": [
            37.2,
            21.03,
            26.92,
            41.27,
            35.63,
            30.21,
            31.09,
            35.83,
            28.72,
            40.54,
            34.19
           ],
           "y": [
            25.57,
            26.45,
            13.87,
            21,
            12.96,
            16.99,
            25.85,
            17.31,
            31.18,
            16.49,
            10.62
           ]
          }
         ],
         "name": "36"
        },
        {
         "data": [
          {
           "hoverinfo": "none",
           "marker": {
            "color": "black",
            "size": 10
           },
           "mode": "markers",
           "name": "offense",
           "type": "scatter",
           "x": [
            42.51,
            30.21,
            30.97,
            35.7,
            37.25,
            40.42,
            30.52,
            35.99,
            40.76,
            34.22
           ],
           "y": [
            32.33,
            29.97,
            24.89,
            13.2,
            24.72,
            18.12,
            16.39,
            18.07,
            22.16,
            10.75
           ]
          },
          {
           "hoverinfo": "none",
           "marker": {
            "color": "yellow",
            "opacity": 1,
            "size": 10
           },
           "mode": "markers",
           "name": "ball_carrier",
           "type": "scatter",
           "x": [
            35.84
           ],
           "y": [
            14.93
           ]
          },
          {
           "customdata": [
            [
             37075,
             "Von Miller",
             "OLB",
             "BUF",
             0.01
            ],
            [
             40107,
             "Micah Hyde",
             "FS",
             "BUF",
             0.34
            ],
            [
             40166,
             "Jordan Poyer",
             "SS",
             "BUF",
             0.43
            ],
            [
             41341,
             "DaQuan Jones",
             "DT",
             "BUF",
             0.01
            ],
            [
             44976,
             "Matt Milano",
             "OLB",
             "BUF",
             0
            ],
            [
             46085,
             "Tremaine Edmunds",
             "ILB",
             "BUF",
             0.2
            ],
            [
             46190,
             "Taron Johnson",
             "CB",
             "BUF",
             0.07
            ],
            [
             46232,
             "Tim Settle",
             "DT",
             "BUF",
             0.61
            ],
            [
             52647,
             "Dane Jackson",
             "CB",
             "BUF",
             0.09
            ],
            [
             53459,
             "Gregory Rousseau",
             "DE",
             "BUF",
             0.03
            ],
            [
             54488,
             "Kaiir Elam",
             "CB",
             "BUF",
             0.04
            ]
           ],
           "hovertemplate": "<b>nflId:</b> %{customdata[0]}<br><b>Player:</b> %{customdata[1]} %{customdata[2]}<br><b>Team:</b> %{customdata[3]}<br><br><b>Tackling Probability:</b> %{customdata[4]}",
           "marker": {
            "cmax": 1,
            "cmin": 0,
            "color": [
             "#fff3ed",
             "#fc9d7f",
             "#fc8161",
             "#fff4ee",
             "#fff5f0",
             "#fdc9b3",
             "#feeae0",
             "#f0402f",
             "#fee7dc",
             "#fff0e9",
             "#ffeee6"
            ],
            "colorbar": {
             "len": 0.85,
             "thickness": 10,
             "title": {
              "text": "defense"
             },
             "x": 1.03,
             "y": 0.4
            },
            "colorscale": [
             [
              0,
              "rgb(255,245,240)"
             ],
             [
              0.125,
              "rgb(254,224,210)"
             ],
             [
              0.25,
              "rgb(252,187,161)"
             ],
             [
              0.375,
              "rgb(252,146,114)"
             ],
             [
              0.5,
              "rgb(251,106,74)"
             ],
             [
              0.625,
              "rgb(239,59,44)"
             ],
             [
              0.75,
              "rgb(203,24,29)"
             ],
             [
              0.875,
              "rgb(165,15,21)"
             ],
             [
              1,
              "rgb(103,0,13)"
             ]
            ],
            "size": 10
           },
           "mode": "markers",
           "name": "defense",
           "showlegend": false,
           "type": "scatter",
           "x": [
            36.92,
            21.12,
            27.27,
            41.17,
            35.69,
            30.02,
            30.79,
            35.55,
            28.41,
            40.53,
            34.12
           ],
           "y": [
            25.32,
            25.82,
            13.54,
            20.48,
            12.42,
            16.51,
            25.48,
            16.66,
            30.66,
            15.95,
            10.23
           ]
          }
         ],
         "name": "37"
        },
        {
         "data": [
          {
           "hoverinfo": "none",
           "marker": {
            "color": "black",
            "size": 10
           },
           "mode": "markers",
           "name": "offense",
           "type": "scatter",
           "x": [
            42.43,
            29.98,
            30.71,
            35.82,
            37.14,
            40.66,
            30.29,
            35.91,
            40.8,
            34.16
           ],
           "y": [
            32.43,
            29.5,
            24.63,
            12.64,
            24.49,
            17.82,
            15.96,
            17.53,
            21.88,
            10.23
           ]
          },
          {
           "hoverinfo": "none",
           "marker": {
            "color": "yellow",
            "opacity": 1,
            "size": 10
           },
           "mode": "markers",
           "name": "ball_carrier",
           "type": "scatter",
           "x": [
            35.12
           ],
           "y": [
            14.68
           ]
          },
          {
           "customdata": [
            [
             37075,
             "Von Miller",
             "OLB",
             "BUF",
             0.01
            ],
            [
             40107,
             "Micah Hyde",
             "FS",
             "BUF",
             0.35
            ],
            [
             40166,
             "Jordan Poyer",
             "SS",
             "BUF",
             0.36
            ],
            [
             41341,
             "DaQuan Jones",
             "DT",
             "BUF",
             0.01
            ],
            [
             44976,
             "Matt Milano",
             "OLB",
             "BUF",
             0
            ],
            [
             46085,
             "Tremaine Edmunds",
             "ILB",
             "BUF",
             0.27
            ],
            [
             46190,
             "Taron Johnson",
             "CB",
             "BUF",
             0.08
            ],
            [
             46232,
             "Tim Settle",
             "DT",
             "BUF",
             0.41
            ],
            [
             52647,
             "Dane Jackson",
             "CB",
             "BUF",
             0.1
            ],
            [
             53459,
             "Gregory Rousseau",
             "DE",
             "BUF",
             0.01
            ],
            [
             54488,
             "Kaiir Elam",
             "CB",
             "BUF",
             0.05
            ]
           ],
           "hovertemplate": "<b>nflId:</b> %{customdata[0]}<br><b>Player:</b> %{customdata[1]} %{customdata[2]}<br><b>Team:</b> %{customdata[3]}<br><br><b>Tackling Probability:</b> %{customdata[4]}",
           "marker": {
            "cmax": 1,
            "cmin": 0,
            "color": [
             "#fff3ed",
             "#fc9b7c",
             "#fc9879",
             "#fff4ef",
             "#fff5f0",
             "#fcb499",
             "#fee7dc",
             "#fc8767",
             "#fee5d8",
             "#fff4ee",
             "#ffece4"
            ],
            "colorbar": {
             "len": 0.85,
             "thickness": 10,
             "title": {
              "text": "defense"
             },
             "x": 1.03,
             "y": 0.4
            },
            "colorscale": [
             [
              0,
              "rgb(255,245,240)"
             ],
             [
              0.125,
              "rgb(254,224,210)"
             ],
             [
              0.25,
              "rgb(252,187,161)"
             ],
             [
              0.375,
              "rgb(252,146,114)"
             ],
             [
              0.5,
              "rgb(251,106,74)"
             ],
             [
              0.625,
              "rgb(239,59,44)"
             ],
             [
              0.75,
              "rgb(203,24,29)"
             ],
             [
              0.875,
              "rgb(165,15,21)"
             ],
             [
              1,
              "rgb(103,0,13)"
             ]
            ],
            "size": 10
           },
           "mode": "markers",
           "name": "defense",
           "showlegend": false,
           "type": "scatter",
           "x": [
            36.62,
            21.22,
            27.59,
            41.02,
            35.7,
            29.79,
            30.49,
            35.25,
            28.1,
            40.46,
            33.99
           ],
           "y": [
            25.09,
            25.19,
            13.24,
            19.98,
            11.89,
            16.05,
            25.11,
            16.02,
            30.11,
            15.43,
            9.86
           ]
          }
         ],
         "name": "38"
        },
        {
         "data": [
          {
           "hoverinfo": "none",
           "marker": {
            "color": "black",
            "size": 10
           },
           "mode": "markers",
           "name": "offense",
           "type": "scatter",
           "x": [
            42.35,
            29.74,
            30.45,
            35.91,
            36.99,
            40.88,
            30.04,
            35.83,
            40.84,
            34.07
           ],
           "y": [
            32.51,
            29.02,
            24.35,
            12.1,
            24.27,
            17.49,
            15.53,
            17.01,
            21.6,
            9.71
           ]
          },
          {
           "hoverinfo": "none",
           "marker": {
            "color": "yellow",
            "opacity": 1,
            "size": 10
           },
           "mode": "markers",
           "name": "ball_carrier",
           "type": "scatter",
           "x": [
            34.38
           ],
           "y": [
            14.47
           ]
          },
          {
           "customdata": [
            [
             37075,
             "Von Miller",
             "OLB",
             "BUF",
             0.01
            ],
            [
             40107,
             "Micah Hyde",
             "FS",
             "BUF",
             0.29
            ],
            [
             40166,
             "Jordan Poyer",
             "SS",
             "BUF",
             0.37
            ],
            [
             41341,
             "DaQuan Jones",
             "DT",
             "BUF",
             0.01
            ],
            [
             44976,
             "Matt Milano",
             "OLB",
             "BUF",
             0.01
            ],
            [
             46085,
             "Tremaine Edmunds",
             "ILB",
             "BUF",
             0.17
            ],
            [
             46190,
             "Taron Johnson",
             "CB",
             "BUF",
             0.09
            ],
            [
             46232,
             "Tim Settle",
             "DT",
             "BUF",
             0.32
            ],
            [
             52647,
             "Dane Jackson",
             "CB",
             "BUF",
             0.15
            ],
            [
             53459,
             "Gregory Rousseau",
             "DE",
             "BUF",
             0.01
            ],
            [
             54488,
             "Kaiir Elam",
             "CB",
             "BUF",
             0.05
            ]
           ],
           "hovertemplate": "<b>nflId:</b> %{customdata[0]}<br><b>Player:</b> %{customdata[1]} %{customdata[2]}<br><b>Team:</b> %{customdata[3]}<br><br><b>Tackling Probability:</b> %{customdata[4]}",
           "marker": {
            "cmax": 1,
            "cmin": 0,
            "color": [
             "#fff4ee",
             "#fcae92",
             "#fc9474",
             "#fff3ed",
             "#fff4ee",
             "#fdd3c1",
             "#fee6da",
             "#fca486",
             "#fed8c7",
             "#fff3ed",
             "#ffeee6"
            ],
            "colorbar": {
             "len": 0.85,
             "thickness": 10,
             "title": {
              "text": "defense"
             },
             "x": 1.03,
             "y": 0.4
            },
            "colorscale": [
             [
              0,
              "rgb(255,245,240)"
             ],
             [
              0.125,
              "rgb(254,224,210)"
             ],
             [
              0.25,
              "rgb(252,187,161)"
             ],
             [
              0.375,
              "rgb(252,146,114)"
             ],
             [
              0.5,
              "rgb(251,106,74)"
             ],
             [
              0.625,
              "rgb(239,59,44)"
             ],
             [
              0.75,
              "rgb(203,24,29)"
             ],
             [
              0.875,
              "rgb(165,15,21)"
             ],
             [
              1,
              "rgb(103,0,13)"
             ]
            ],
            "size": 10
           },
           "mode": "markers",
           "name": "defense",
           "showlegend": false,
           "type": "scatter",
           "x": [
            36.31,
            21.33,
            27.88,
            40.84,
            35.65,
            29.54,
            30.17,
            34.95,
            27.8,
            40.33,
            33.79
           ],
           "y": [
            24.86,
            24.55,
            12.99,
            19.49,
            11.38,
            15.62,
            24.74,
            15.4,
            29.55,
            14.94,
            9.52
           ]
          }
         ],
         "name": "39"
        },
        {
         "data": [
          {
           "hoverinfo": "none",
           "marker": {
            "color": "black",
            "size": 10
           },
           "mode": "markers",
           "name": "offense",
           "type": "scatter",
           "x": [
            42.26,
            29.51,
            30.19,
            35.96,
            36.84,
            41.08,
            29.78,
            35.74,
            40.87,
            33.95
           ],
           "y": [
            32.56,
            28.54,
            24.06,
            11.58,
            24.05,
            17.17,
            15.13,
            16.51,
            21.33,
            9.2
           ]
          },
          {
           "hoverinfo": "none",
           "marker": {
            "color": "yellow",
            "opacity": 1,
            "size": 10
           },
           "mode": "markers",
           "name": "ball_carrier",
           "type": "scatter",
           "x": [
            33.62
           ],
           "y": [
            14.32
           ]
          },
          {
           "customdata": [
            [
             37075,
             "Von Miller",
             "OLB",
             "BUF",
             0.01
            ],
            [
             40107,
             "Micah Hyde",
             "FS",
             "BUF",
             0.32
            ],
            [
             40166,
             "Jordan Poyer",
             "SS",
             "BUF",
             0.32
            ],
            [
             41341,
             "DaQuan Jones",
             "DT",
             "BUF",
             0.01
            ],
            [
             44976,
             "Matt Milano",
             "OLB",
             "BUF",
             0.01
            ],
            [
             46085,
             "Tremaine Edmunds",
             "ILB",
             "BUF",
             0.21
            ],
            [
             46190,
             "Taron Johnson",
             "CB",
             "BUF",
             0.09
            ],
            [
             46232,
             "Tim Settle",
             "DT",
             "BUF",
             0.2
            ],
            [
             52647,
             "Dane Jackson",
             "CB",
             "BUF",
             0.16
            ],
            [
             53459,
             "Gregory Rousseau",
             "DE",
             "BUF",
             0.02
            ],
            [
             54488,
             "Kaiir Elam",
             "CB",
             "BUF",
             0.05
            ]
           ],
           "hovertemplate": "<b>nflId:</b> %{customdata[0]}<br><b>Player:</b> %{customdata[1]} %{customdata[2]}<br><b>Team:</b> %{customdata[3]}<br><br><b>Tackling Probability:</b> %{customdata[4]}",
           "marker": {
            "cmax": 1,
            "cmin": 0,
            "color": [
             "#fff4ef",
             "#fca689",
             "#fca285",
             "#fff3ed",
             "#fff4ee",
             "#fdc6b0",
             "#fee6da",
             "#fdcab5",
             "#fed8c7",
             "#fff2ec",
             "#ffede5"
            ],
            "colorbar": {
             "len": 0.85,
             "thickness": 10,
             "title": {
              "text": "defense"
             },
             "x": 1.03,
             "y": 0.4
            },
            "colorscale": [
             [
              0,
              "rgb(255,245,240)"
             ],
             [
              0.125,
              "rgb(254,224,210)"
             ],
             [
              0.25,
              "rgb(252,187,161)"
             ],
             [
              0.375,
              "rgb(252,146,114)"
             ],
             [
              0.5,
              "rgb(251,106,74)"
             ],
             [
              0.625,
              "rgb(239,59,44)"
             ],
             [
              0.75,
              "rgb(203,24,29)"
             ],
             [
              0.875,
              "rgb(165,15,21)"
             ],
             [
              1,
              "rgb(103,0,13)"
             ]
            ],
            "size": 10
           },
           "mode": "markers",
           "name": "defense",
           "showlegend": false,
           "type": "scatter",
           "x": [
            35.97,
            21.45,
            28.13,
            40.61,
            35.55,
            29.28,
            29.86,
            34.66,
            27.5,
            40.14,
            33.59
           ],
           "y": [
            24.64,
            23.91,
            12.78,
            19.02,
            10.87,
            15.21,
            24.34,
            14.82,
            28.97,
            14.47,
            9.2
           ]
          }
         ],
         "name": "40"
        },
        {
         "data": [
          {
           "hoverinfo": "none",
           "marker": {
            "color": "black",
            "size": 10
           },
           "mode": "markers",
           "name": "offense",
           "type": "scatter",
           "x": [
            42.16,
            29.28,
            29.95,
            35.96,
            36.66,
            41.25,
            29.5,
            35.62,
            40.87,
            33.81
           ],
           "y": [
            32.59,
            28.05,
            23.76,
            11.08,
            23.83,
            16.83,
            14.77,
            16.02,
            21.07,
            8.69
           ]
          },
          {
           "hoverinfo": "none",
           "marker": {
            "color": "yellow",
            "opacity": 1,
            "size": 10
           },
           "mode": "markers",
           "name": "ball_carrier",
           "type": "scatter",
           "x": [
            32.86
           ],
           "y": [
            14.23
           ]
          },
          {
           "customdata": [
            [
             37075,
             "Von Miller",
             "OLB",
             "BUF",
             0
            ],
            [
             40107,
             "Micah Hyde",
             "FS",
             "BUF",
             0.43
            ],
            [
             40166,
             "Jordan Poyer",
             "SS",
             "BUF",
             0.47
            ],
            [
             41341,
             "DaQuan Jones",
             "DT",
             "BUF",
             0.01
            ],
            [
             44976,
             "Matt Milano",
             "OLB",
             "BUF",
             0.02
            ],
            [
             46085,
             "Tremaine Edmunds",
             "ILB",
             "BUF",
             0.22
            ],
            [
             46190,
             "Taron Johnson",
             "CB",
             "BUF",
             0.11
            ],
            [
             46232,
             "Tim Settle",
             "DT",
             "BUF",
             0.22
            ],
            [
             52647,
             "Dane Jackson",
             "CB",
             "BUF",
             0.11
            ],
            [
             53459,
             "Gregory Rousseau",
             "DE",
             "BUF",
             0.01
            ],
            [
             54488,
             "Kaiir Elam",
             "CB",
             "BUF",
             0.01
            ]
           ],
           "hovertemplate": "<b>nflId:</b> %{customdata[0]}<br><b>Player:</b> %{customdata[1]} %{customdata[2]}<br><b>Team:</b> %{customdata[3]}<br><br><b>Tackling Probability:</b> %{customdata[4]}",
           "marker": {
            "cmax": 1,
            "cmin": 0,
            "color": [
             "#fff4ef",
             "#fc8161",
             "#fb7353",
             "#fff3ed",
             "#fff2ec",
             "#fcc4ad",
             "#fee3d7",
             "#fdc5ae",
             "#fee3d7",
             "#fff3ed",
             "#fff3ed"
            ],
            "colorbar": {
             "len": 0.85,
             "thickness": 10,
             "title": {
              "text": "defense"
             },
             "x": 1.03,
             "y": 0.4
            },
            "colorscale": [
             [
              0,
              "rgb(255,245,240)"
             ],
             [
              0.125,
              "rgb(254,224,210)"
             ],
             [
              0.25,
              "rgb(252,187,161)"
             ],
             [
              0.375,
              "rgb(252,146,114)"
             ],
             [
              0.5,
              "rgb(251,106,74)"
             ],
             [
              0.625,
              "rgb(239,59,44)"
             ],
             [
              0.75,
              "rgb(203,24,29)"
             ],
             [
              0.875,
              "rgb(165,15,21)"
             ],
             [
              1,
              "rgb(103,0,13)"
             ]
            ],
            "size": 10
           },
           "mode": "markers",
           "name": "defense",
           "showlegend": false,
           "type": "scatter",
           "x": [
            35.63,
            21.57,
            28.33,
            40.34,
            35.41,
            28.99,
            29.55,
            34.4,
            27.21,
            39.9,
            33.34
           ],
           "y": [
            24.42,
            23.27,
            12.64,
            18.56,
            10.37,
            14.81,
            23.95,
            14.29,
            28.37,
            14.02,
            8.89
           ]
          }
         ],
         "name": "41"
        },
        {
         "data": [
          {
           "hoverinfo": "none",
           "marker": {
            "color": "black",
            "size": 10
           },
           "mode": "markers",
           "name": "offense",
           "type": "scatter",
           "x": [
            42.06,
            29.05,
            29.72,
            35.92,
            36.47,
            41.39,
            29.2,
            35.46,
            40.88,
            33.65
           ],
           "y": [
            32.59,
            27.55,
            23.45,
            10.6,
            23.61,
            16.5,
            14.43,
            15.55,
            20.83,
            8.18
           ]
          },
          {
           "hoverinfo": "none",
           "marker": {
            "color": "yellow",
            "opacity": 1,
            "size": 10
           },
           "mode": "markers",
           "name": "ball_carrier",
           "type": "scatter",
           "x": [
            32.1
           ],
           "y": [
            14.2
           ]
          },
          {
           "customdata": [
            [
             37075,
             "Von Miller",
             "OLB",
             "BUF",
             0.01
            ],
            [
             40107,
             "Micah Hyde",
             "FS",
             "BUF",
             0.43
            ],
            [
             40166,
             "Jordan Poyer",
             "SS",
             "BUF",
             0.37
            ],
            [
             41341,
             "DaQuan Jones",
             "DT",
             "BUF",
             0.02
            ],
            [
             44976,
             "Matt Milano",
             "OLB",
             "BUF",
             0.01
            ],
            [
             46085,
             "Tremaine Edmunds",
             "ILB",
             "BUF",
             0.2
            ],
            [
             46190,
             "Taron Johnson",
             "CB",
             "BUF",
             0.16
            ],
            [
             46232,
             "Tim Settle",
             "DT",
             "BUF",
             0.1
            ],
            [
             52647,
             "Dane Jackson",
             "CB",
             "BUF",
             0.15
            ],
            [
             53459,
             "Gregory Rousseau",
             "DE",
             "BUF",
             0.01
            ],
            [
             54488,
             "Kaiir Elam",
             "CB",
             "BUF",
             0.01
            ]
           ],
           "hovertemplate": "<b>nflId:</b> %{customdata[0]}<br><b>Player:</b> %{customdata[1]} %{customdata[2]}<br><b>Team:</b> %{customdata[3]}<br><br><b>Tackling Probability:</b> %{customdata[4]}",
           "marker": {
            "cmax": 1,
            "cmin": 0,
            "color": [
             "#fff4ef",
             "#fc7f5f",
             "#fc9474",
             "#fff2ec",
             "#fff4ee",
             "#fdcbb6",
             "#fdd7c6",
             "#fee5d8",
             "#fedaca",
             "#fff3ed",
             "#fff3ed"
            ],
            "colorbar": {
             "len": 0.85,
             "thickness": 10,
             "title": {
              "text": "defense"
             },
             "x": 1.03,
             "y": 0.4
            },
            "colorscale": [
             [
              0,
              "rgb(255,245,240)"
             ],
             [
              0.125,
              "rgb(254,224,210)"
             ],
             [
              0.25,
              "rgb(252,187,161)"
             ],
             [
              0.375,
              "rgb(252,146,114)"
             ],
             [
              0.5,
              "rgb(251,106,74)"
             ],
             [
              0.625,
              "rgb(239,59,44)"
             ],
             [
              0.75,
              "rgb(203,24,29)"
             ],
             [
              0.875,
              "rgb(165,15,21)"
             ],
             [
              1,
              "rgb(103,0,13)"
             ]
            ],
            "size": 10
           },
           "mode": "markers",
           "name": "defense",
           "showlegend": false,
           "type": "scatter",
           "x": [
            35.25,
            21.7,
            28.44,
            40.01,
            35.22,
            28.7,
            29.26,
            34.13,
            26.93,
            39.58,
            33.07
           ],
           "y": [
            24.21,
            22.63,
            12.59,
            18.13,
            9.89,
            14.42,
            23.54,
            13.79,
            27.78,
            13.62,
            8.61
           ]
          }
         ],
         "name": "42"
        },
        {
         "data": [
          {
           "hoverinfo": "none",
           "marker": {
            "color": "black",
            "size": 10
           },
           "mode": "markers",
           "name": "offense",
           "type": "scatter",
           "x": [
            41.96,
            28.82,
            29.51,
            35.83,
            36.26,
            41.5,
            28.89,
            35.29,
            40.86,
            33.45
           ],
           "y": [
            32.58,
            27.06,
            23.13,
            10.14,
            23.41,
            16.15,
            14.13,
            15.11,
            20.61,
            7.68
           ]
          },
          {
           "hoverinfo": "none",
           "marker": {
            "color": "yellow",
            "opacity": 1,
            "size": 10
           },
           "mode": "markers",
           "name": "ball_carrier",
           "type": "scatter",
           "x": [
            31.33
           ],
           "y": [
            14.22
           ]
          },
          {
           "customdata": [
            [
             37075,
             "Von Miller",
             "OLB",
             "BUF",
             0
            ],
            [
             40107,
             "Micah Hyde",
             "FS",
             "BUF",
             0.44
            ],
            [
             40166,
             "Jordan Poyer",
             "SS",
             "BUF",
             0.44
            ],
            [
             41341,
             "DaQuan Jones",
             "DT",
             "BUF",
             0.01
            ],
            [
             44976,
             "Matt Milano",
             "OLB",
             "BUF",
             0.01
            ],
            [
             46085,
             "Tremaine Edmunds",
             "ILB",
             "BUF",
             0.15
            ],
            [
             46190,
             "Taron Johnson",
             "CB",
             "BUF",
             0.26
            ],
            [
             46232,
             "Tim Settle",
             "DT",
             "BUF",
             0.06
            ],
            [
             52647,
             "Dane Jackson",
             "CB",
             "BUF",
             0.18
            ],
            [
             53459,
             "Gregory Rousseau",
             "DE",
             "BUF",
             0.01
            ],
            [
             54488,
             "Kaiir Elam",
             "CB",
             "BUF",
             0.01
            ]
           ],
           "hovertemplate": "<b>nflId:</b> %{customdata[0]}<br><b>Player:</b> %{customdata[1]} %{customdata[2]}<br><b>Team:</b> %{customdata[3]}<br><br><b>Tackling Probability:</b> %{customdata[4]}",
           "marker": {
            "cmax": 1,
            "cmin": 0,
            "color": [
             "#fff4ef",
             "#fb7d5d",
             "#fc7f5f",
             "#fff4ef",
             "#fff4ef",
             "#fedaca",
             "#fcb79c",
             "#ffece3",
             "#fdd0bc",
             "#fff4ef",
             "#fff4ef"
            ],
            "colorbar": {
             "len": 0.85,
             "thickness": 10,
             "title": {
              "text": "defense"
             },
             "x": 1.03,
             "y": 0.4
            },
            "colorscale": [
             [
              0,
              "rgb(255,245,240)"
             ],
             [
              0.125,
              "rgb(254,224,210)"
             ],
             [
              0.25,
              "rgb(252,187,161)"
             ],
             [
              0.375,
              "rgb(252,146,114)"
             ],
             [
              0.5,
              "rgb(251,106,74)"
             ],
             [
              0.625,
              "rgb(239,59,44)"
             ],
             [
              0.75,
              "rgb(203,24,29)"
             ],
             [
              0.875,
              "rgb(165,15,21)"
             ],
             [
              1,
              "rgb(103,0,13)"
             ]
            ],
            "size": 10
           },
           "mode": "markers",
           "name": "defense",
           "showlegend": false,
           "type": "scatter",
           "x": [
            34.87,
            21.84,
            28.49,
            39.66,
            35.01,
            28.4,
            29.02,
            33.88,
            26.65,
            39.24,
            32.74
           ],
           "y": [
            23.99,
            22,
            12.58,
            17.72,
            9.45,
            14.06,
            23.1,
            13.33,
            27.16,
            13.25,
            8.33
           ]
          }
         ],
         "name": "43"
        },
        {
         "data": [
          {
           "hoverinfo": "none",
           "marker": {
            "color": "black",
            "size": 10
           },
           "mode": "markers",
           "name": "offense",
           "type": "scatter",
           "x": [
            41.86,
            28.58,
            29.31,
            35.71,
            36.04,
            41.55,
            28.56,
            35.09,
            40.84,
            33.23
           ],
           "y": [
            32.55,
            26.55,
            22.82,
            9.7,
            23.2,
            15.8,
            13.87,
            14.7,
            20.39,
            7.19
           ]
          },
          {
           "hoverinfo": "none",
           "marker": {
            "color": "yellow",
            "opacity": 1,
            "size": 10
           },
           "mode": "markers",
           "name": "ball_carrier",
           "type": "scatter",
           "x": [
            30.56
           ],
           "y": [
            14.29
           ]
          },
          {
           "customdata": [
            [
             37075,
             "Von Miller",
             "OLB",
             "BUF",
             0
            ],
            [
             40107,
             "Micah Hyde",
             "FS",
             "BUF",
             0.43
            ],
            [
             40166,
             "Jordan Poyer",
             "SS",
             "BUF",
             0.21
            ],
            [
             41341,
             "DaQuan Jones",
             "DT",
             "BUF",
             0.01
            ],
            [
             44976,
             "Matt Milano",
             "OLB",
             "BUF",
             0.01
            ],
            [
             46085,
             "Tremaine Edmunds",
             "ILB",
             "BUF",
             0.14
            ],
            [
             46190,
             "Taron Johnson",
             "CB",
             "BUF",
             0.29
            ],
            [
             46232,
             "Tim Settle",
             "DT",
             "BUF",
             0.06
            ],
            [
             52647,
             "Dane Jackson",
             "CB",
             "BUF",
             0.23
            ],
            [
             53459,
             "Gregory Rousseau",
             "DE",
             "BUF",
             0.01
            ],
            [
             54488,
             "Kaiir Elam",
             "CB",
             "BUF",
             0.01
            ]
           ],
           "hovertemplate": "<b>nflId:</b> %{customdata[0]}<br><b>Player:</b> %{customdata[1]} %{customdata[2]}<br><b>Team:</b> %{customdata[3]}<br><br><b>Tackling Probability:</b> %{customdata[4]}",
           "marker": {
            "cmax": 1,
            "cmin": 0,
            "color": [
             "#fff4ef",
             "#fc7f5f",
             "#fdc6b0",
             "#fff4ef",
             "#fff4ef",
             "#fedccd",
             "#fcad90",
             "#ffece3",
             "#fcc1a8",
             "#fff4ee",
             "#fff4ef"
            ],
            "colorbar": {
             "len": 0.85,
             "thickness": 10,
             "title": {
              "text": "defense"
             },
             "x": 1.03,
             "y": 0.4
            },
            "colorscale": [
             [
              0,
              "rgb(255,245,240)"
             ],
             [
              0.125,
              "rgb(254,224,210)"
             ],
             [
              0.25,
              "rgb(252,187,161)"
             ],
             [
              0.375,
              "rgb(252,146,114)"
             ],
             [
              0.5,
              "rgb(251,106,74)"
             ],
             [
              0.625,
              "rgb(239,59,44)"
             ],
             [
              0.75,
              "rgb(203,24,29)"
             ],
             [
              0.875,
              "rgb(165,15,21)"
             ],
             [
              1,
              "rgb(103,0,13)"
             ]
            ],
            "size": 10
           },
           "mode": "markers",
           "name": "defense",
           "showlegend": false,
           "type": "scatter",
           "x": [
            34.48,
            21.96,
            28.47,
            39.26,
            34.77,
            28.06,
            28.82,
            33.64,
            26.37,
            38.85,
            32.4
           ],
           "y": [
            23.78,
            21.38,
            12.63,
            17.35,
            9.02,
            13.72,
            22.65,
            12.92,
            26.55,
            12.93,
            8.08
           ]
          }
         ],
         "name": "44"
        },
        {
         "data": [
          {
           "hoverinfo": "none",
           "marker": {
            "color": "black",
            "size": 10
           },
           "mode": "markers",
           "name": "offense",
           "type": "scatter",
           "x": [
            41.75,
            28.32,
            29.12,
            35.55,
            35.81,
            41.57,
            28.22,
            34.87,
            40.81,
            33
           ],
           "y": [
            32.51,
            26.04,
            22.52,
            9.29,
            22.99,
            15.45,
            13.65,
            14.33,
            20.17,
            6.71
           ]
          },
          {
           "hoverinfo": "none",
           "marker": {
            "color": "yellow",
            "opacity": 1,
            "size": 10
           },
           "mode": "markers",
           "name": "ball_carrier",
           "type": "scatter",
           "x": [
            29.8
           ],
           "y": [
            14.41
           ]
          },
          {
           "customdata": [
            [
             37075,
             "Von Miller",
             "OLB",
             "BUF",
             0.01
            ],
            [
             40107,
             "Micah Hyde",
             "FS",
             "BUF",
             0.53
            ],
            [
             40166,
             "Jordan Poyer",
             "SS",
             "BUF",
             0.15
            ],
            [
             41341,
             "DaQuan Jones",
             "DT",
             "BUF",
             0
            ],
            [
             44976,
             "Matt Milano",
             "OLB",
             "BUF",
             0
            ],
            [
             46085,
             "Tremaine Edmunds",
             "ILB",
             "BUF",
             0.15
            ],
            [
             46190,
             "Taron Johnson",
             "CB",
             "BUF",
             0.25
            ],
            [
             46232,
             "Tim Settle",
             "DT",
             "BUF",
             0.02
            ],
            [
             52647,
             "Dane Jackson",
             "CB",
             "BUF",
             0.24
            ],
            [
             53459,
             "Gregory Rousseau",
             "DE",
             "BUF",
             0.01
            ],
            [
             54488,
             "Kaiir Elam",
             "CB",
             "BUF",
             0.01
            ]
           ],
           "hovertemplate": "<b>nflId:</b> %{customdata[0]}<br><b>Player:</b> %{customdata[1]} %{customdata[2]}<br><b>Team:</b> %{customdata[3]}<br><br><b>Tackling Probability:</b> %{customdata[4]}",
           "marker": {
            "cmax": 1,
            "cmin": 0,
            "color": [
             "#fff4ee",
             "#f96044",
             "#fed9c9",
             "#fff5f0",
             "#fff4ef",
             "#fedaca",
             "#fcbba1",
             "#fff1ea",
             "#fcbfa7",
             "#fff4ef",
             "#fff4ef"
            ],
            "colorbar": {
             "len": 0.85,
             "thickness": 10,
             "title": {
              "text": "defense"
             },
             "x": 1.03,
             "y": 0.4
            },
            "colorscale": [
             [
              0,
              "rgb(255,245,240)"
             ],
             [
              0.125,
              "rgb(254,224,210)"
             ],
             [
              0.25,
              "rgb(252,187,161)"
             ],
             [
              0.375,
              "rgb(252,146,114)"
             ],
             [
              0.5,
              "rgb(251,106,74)"
             ],
             [
              0.625,
              "rgb(239,59,44)"
             ],
             [
              0.75,
              "rgb(203,24,29)"
             ],
             [
              0.875,
              "rgb(165,15,21)"
             ],
             [
              1,
              "rgb(103,0,13)"
             ]
            ],
            "size": 10
           },
           "mode": "markers",
           "name": "defense",
           "showlegend": false,
           "type": "scatter",
           "x": [
            34.07,
            22.07,
            28.41,
            38.86,
            34.51,
            27.7,
            28.66,
            33.43,
            26.07,
            38.44,
            32.02
           ],
           "y": [
            23.58,
            20.78,
            12.7,
            17.01,
            8.63,
            13.44,
            22.18,
            12.55,
            25.93,
            12.67,
            7.88
           ]
          }
         ],
         "name": "45"
        },
        {
         "data": [
          {
           "hoverinfo": "none",
           "marker": {
            "color": "black",
            "size": 10
           },
           "mode": "markers",
           "name": "offense",
           "type": "scatter",
           "x": [
            41.65,
            28.04,
            28.94,
            35.33,
            35.58,
            41.55,
            27.88,
            34.61,
            40.77,
            32.75
           ],
           "y": [
            32.45,
            25.53,
            22.23,
            8.92,
            22.79,
            15.11,
            13.46,
            14.01,
            19.98,
            6.25
           ]
          },
          {
           "hoverinfo": "none",
           "marker": {
            "color": "yellow",
            "opacity": 1,
            "size": 10
           },
           "mode": "markers",
           "name": "ball_carrier",
           "type": "scatter",
           "x": [
            29.05
           ],
           "y": [
            14.56
           ]
          },
          {
           "customdata": [
            [
             37075,
             "Von Miller",
             "OLB",
             "BUF",
             0.01
            ],
            [
             40107,
             "Micah Hyde",
             "FS",
             "BUF",
             0.49
            ],
            [
             40166,
             "Jordan Poyer",
             "SS",
             "BUF",
             0.12
            ],
            [
             41341,
             "DaQuan Jones",
             "DT",
             "BUF",
             0
            ],
            [
             44976,
             "Matt Milano",
             "OLB",
             "BUF",
             0
            ],
            [
             46085,
             "Tremaine Edmunds",
             "ILB",
             "BUF",
             0.13
            ],
            [
             46190,
             "Taron Johnson",
             "CB",
             "BUF",
             0.25
            ],
            [
             46232,
             "Tim Settle",
             "DT",
             "BUF",
             0.01
            ],
            [
             52647,
             "Dane Jackson",
             "CB",
             "BUF",
             0.2
            ],
            [
             53459,
             "Gregory Rousseau",
             "DE",
             "BUF",
             0.01
            ],
            [
             54488,
             "Kaiir Elam",
             "CB",
             "BUF",
             0.01
            ]
           ],
           "hovertemplate": "<b>nflId:</b> %{customdata[0]}<br><b>Player:</b> %{customdata[1]} %{customdata[2]}<br><b>Team:</b> %{customdata[3]}<br><br><b>Tackling Probability:</b> %{customdata[4]}",
           "marker": {
            "cmax": 1,
            "cmin": 0,
            "color": [
             "#fff4ee",
             "#fb6d4d",
             "#fee1d3",
             "#fff4ef",
             "#fff5f0",
             "#fee0d2",
             "#fcbca2",
             "#fff3ed",
             "#fdcbb6",
             "#fff4ef",
             "#fff4ef"
            ],
            "colorbar": {
             "len": 0.85,
             "thickness": 10,
             "title": {
              "text": "defense"
             },
             "x": 1.03,
             "y": 0.4
            },
            "colorscale": [
             [
              0,
              "rgb(255,245,240)"
             ],
             [
              0.125,
              "rgb(254,224,210)"
             ],
             [
              0.25,
              "rgb(252,187,161)"
             ],
             [
              0.375,
              "rgb(252,146,114)"
             ],
             [
              0.5,
              "rgb(251,106,74)"
             ],
             [
              0.625,
              "rgb(239,59,44)"
             ],
             [
              0.75,
              "rgb(203,24,29)"
             ],
             [
              0.875,
              "rgb(165,15,21)"
             ],
             [
              1,
              "rgb(103,0,13)"
             ]
            ],
            "size": 10
           },
           "mode": "markers",
           "name": "defense",
           "showlegend": false,
           "type": "scatter",
           "x": [
            33.64,
            22.17,
            28.29,
            38.44,
            34.25,
            27.3,
            28.55,
            33.24,
            25.77,
            37.99,
            31.61
           ],
           "y": [
            23.38,
            20.19,
            12.82,
            16.69,
            8.25,
            13.2,
            21.7,
            12.23,
            25.31,
            12.46,
            7.72
           ]
          }
         ],
         "name": "46"
        },
        {
         "data": [
          {
           "hoverinfo": "none",
           "marker": {
            "color": "black",
            "size": 10
           },
           "mode": "markers",
           "name": "offense",
           "type": "scatter",
           "x": [
            41.54,
            27.76,
            28.77,
            35.08,
            35.33,
            41.47,
            27.54,
            34.34,
            40.72,
            32.49
           ],
           "y": [
            32.39,
            25.01,
            21.94,
            8.58,
            22.59,
            14.79,
            13.31,
            13.73,
            19.81,
            5.81
           ]
          },
          {
           "hoverinfo": "none",
           "marker": {
            "color": "yellow",
            "opacity": 1,
            "size": 10
           },
           "mode": "markers",
           "name": "ball_carrier",
           "type": "scatter",
           "x": [
            28.31
           ],
           "y": [
            14.75
           ]
          },
          {
           "customdata": [
            [
             37075,
             "Von Miller",
             "OLB",
             "BUF",
             0.01
            ],
            [
             40107,
             "Micah Hyde",
             "FS",
             "BUF",
             0.48
            ],
            [
             40166,
             "Jordan Poyer",
             "SS",
             "BUF",
             0.06
            ],
            [
             41341,
             "DaQuan Jones",
             "DT",
             "BUF",
             0
            ],
            [
             44976,
             "Matt Milano",
             "OLB",
             "BUF",
             0
            ],
            [
             46085,
             "Tremaine Edmunds",
             "ILB",
             "BUF",
             0.11
            ],
            [
             46190,
             "Taron Johnson",
             "CB",
             "BUF",
             0.25
            ],
            [
             46232,
             "Tim Settle",
             "DT",
             "BUF",
             0.01
            ],
            [
             52647,
             "Dane Jackson",
             "CB",
             "BUF",
             0.21
            ],
            [
             53459,
             "Gregory Rousseau",
             "DE",
             "BUF",
             0
            ],
            [
             54488,
             "Kaiir Elam",
             "CB",
             "BUF",
             0.01
            ]
           ],
           "hovertemplate": "<b>nflId:</b> %{customdata[0]}<br><b>Player:</b> %{customdata[1]} %{customdata[2]}<br><b>Team:</b> %{customdata[3]}<br><br><b>Tackling Probability:</b> %{customdata[4]}",
           "marker": {
            "cmax": 1,
            "cmin": 0,
            "color": [
             "#fff3ed",
             "#fb7050",
             "#ffece3",
             "#fff4ef",
             "#fff5f0",
             "#fee3d6",
             "#fcbba1",
             "#fff4ee",
             "#fdc6b0",
             "#fff5f0",
             "#fff4ef"
            ],
            "colorbar": {
             "len": 0.85,
             "thickness": 10,
             "title": {
              "text": "defense"
             },
             "x": 1.03,
             "y": 0.4
            },
            "colorscale": [
             [
              0,
              "rgb(255,245,240)"
             ],
             [
              0.125,
              "rgb(254,224,210)"
             ],
             [
              0.25,
              "rgb(252,187,161)"
             ],
             [
              0.375,
              "rgb(252,146,114)"
             ],
             [
              0.5,
              "rgb(251,106,74)"
             ],
             [
              0.625,
              "rgb(239,59,44)"
             ],
             [
              0.75,
              "rgb(203,24,29)"
             ],
             [
              0.875,
              "rgb(165,15,21)"
             ],
             [
              1,
              "rgb(103,0,13)"
             ]
            ],
            "size": 10
           },
           "mode": "markers",
           "name": "defense",
           "showlegend": false,
           "type": "scatter",
           "x": [
            33.21,
            22.26,
            28.13,
            37.98,
            33.98,
            26.88,
            28.47,
            33.08,
            25.44,
            37.5,
            31.18
           ],
           "y": [
            23.19,
            19.62,
            12.96,
            16.4,
            7.91,
            13,
            21.2,
            11.96,
            24.69,
            12.31,
            7.59
           ]
          }
         ],
         "name": "47"
        },
        {
         "data": [
          {
           "hoverinfo": "none",
           "marker": {
            "color": "black",
            "size": 10
           },
           "mode": "markers",
           "name": "offense",
           "type": "scatter",
           "x": [
            41.43,
            27.45,
            28.61,
            34.78,
            35.08,
            41.37,
            27.21,
            34.05,
            40.66,
            32.23
           ],
           "y": [
            32.31,
            24.51,
            21.66,
            8.29,
            22.39,
            14.48,
            13.2,
            13.49,
            19.64,
            5.38
           ]
          },
          {
           "hoverinfo": "none",
           "marker": {
            "color": "yellow",
            "opacity": 1,
            "size": 10
           },
           "mode": "markers",
           "name": "ball_carrier",
           "type": "scatter",
           "x": [
            27.56
           ],
           "y": [
            14.95
           ]
          },
          {
           "customdata": [
            [
             37075,
             "Von Miller",
             "OLB",
             "BUF",
             0.01
            ],
            [
             40107,
             "Micah Hyde",
             "FS",
             "BUF",
             0.6
            ],
            [
             40166,
             "Jordan Poyer",
             "SS",
             "BUF",
             0.04
            ],
            [
             41341,
             "DaQuan Jones",
             "DT",
             "BUF",
             0
            ],
            [
             44976,
             "Matt Milano",
             "OLB",
             "BUF",
             0
            ],
            [
             46085,
             "Tremaine Edmunds",
             "ILB",
             "BUF",
             0.15
            ],
            [
             46190,
             "Taron Johnson",
             "CB",
             "BUF",
             0.13
            ],
            [
             46232,
             "Tim Settle",
             "DT",
             "BUF",
             0.01
            ],
            [
             52647,
             "Dane Jackson",
             "CB",
             "BUF",
             0.33
            ],
            [
             53459,
             "Gregory Rousseau",
             "DE",
             "BUF",
             0
            ],
            [
             54488,
             "Kaiir Elam",
             "CB",
             "BUF",
             0.02
            ]
           ],
           "hovertemplate": "<b>nflId:</b> %{customdata[0]}<br><b>Player:</b> %{customdata[1]} %{customdata[2]}<br><b>Team:</b> %{customdata[3]}<br><br><b>Tackling Probability:</b> %{customdata[4]}",
           "marker": {
            "cmax": 1,
            "cmin": 0,
            "color": [
             "#fff4ee",
             "#f14432",
             "#fff0e8",
             "#fff5f0",
             "#fff5f0",
             "#fed8c7",
             "#fedfd0",
             "#fff4ee",
             "#fca082",
             "#fff5f0",
             "#fff2ec"
            ],
            "colorbar": {
             "len": 0.85,
             "thickness": 10,
             "title": {
              "text": "defense"
             },
             "x": 1.03,
             "y": 0.4
            },
            "colorscale": [
             [
              0,
              "rgb(255,245,240)"
             ],
             [
              0.125,
              "rgb(254,224,210)"
             ],
             [
              0.25,
              "rgb(252,187,161)"
             ],
             [
              0.375,
              "rgb(252,146,114)"
             ],
             [
              0.5,
              "rgb(251,106,74)"
             ],
             [
              0.625,
              "rgb(239,59,44)"
             ],
             [
              0.75,
              "rgb(203,24,29)"
             ],
             [
              0.875,
              "rgb(165,15,21)"
             ],
             [
              1,
              "rgb(103,0,13)"
             ]
            ],
            "size": 10
           },
           "mode": "markers",
           "name": "defense",
           "showlegend": false,
           "type": "scatter",
           "x": [
            32.76,
            22.33,
            27.92,
            37.51,
            33.69,
            26.46,
            28.41,
            32.96,
            25.11,
            37.02,
            30.72
           ],
           "y": [
            23.01,
            19.1,
            13.12,
            16.15,
            7.6,
            12.83,
            20.68,
            11.76,
            24.09,
            12.21,
            7.5
           ]
          }
         ],
         "name": "48"
        },
        {
         "data": [
          {
           "hoverinfo": "none",
           "marker": {
            "color": "black",
            "size": 10
           },
           "mode": "markers",
           "name": "offense",
           "type": "scatter",
           "x": [
            41.33,
            27.11,
            28.45,
            34.46,
            34.81,
            41.24,
            26.88,
            33.75,
            40.58,
            31.97
           ],
           "y": [
            32.22,
            24.01,
            21.4,
            8.02,
            22.21,
            14.18,
            13.11,
            13.3,
            19.49,
            4.96
           ]
          },
          {
           "hoverinfo": "none",
           "marker": {
            "color": "yellow",
            "opacity": 1,
            "size": 10
           },
           "mode": "markers",
           "name": "ball_carrier",
           "type": "scatter",
           "x": [
            26.82
           ],
           "y": [
            15.17
           ]
          },
          {
           "customdata": [
            [
             37075,
             "Von Miller",
             "OLB",
             "BUF",
             0.01
            ],
            [
             40107,
             "Micah Hyde",
             "FS",
             "BUF",
             0.6
            ],
            [
             40166,
             "Jordan Poyer",
             "SS",
             "BUF",
             0.04
            ],
            [
             41341,
             "DaQuan Jones",
             "DT",
             "BUF",
             0
            ],
            [
             44976,
             "Matt Milano",
             "OLB",
             "BUF",
             0
            ],
            [
             46085,
             "Tremaine Edmunds",
             "ILB",
             "BUF",
             0.16
            ],
            [
             46190,
             "Taron Johnson",
             "CB",
             "BUF",
             0.05
            ],
            [
             46232,
             "Tim Settle",
             "DT",
             "BUF",
             0.01
            ],
            [
             52647,
             "Dane Jackson",
             "CB",
             "BUF",
             0.38
            ],
            [
             53459,
             "Gregory Rousseau",
             "DE",
             "BUF",
             0
            ],
            [
             54488,
             "Kaiir Elam",
             "CB",
             "BUF",
             0.02
            ]
           ],
           "hovertemplate": "<b>nflId:</b> %{customdata[0]}<br><b>Player:</b> %{customdata[1]} %{customdata[2]}<br><b>Team:</b> %{customdata[3]}<br><br><b>Tackling Probability:</b> %{customdata[4]}",
           "marker": {
            "cmax": 1,
            "cmin": 0,
            "color": [
             "#fff4ef",
             "#f14331",
             "#ffeee7",
             "#fff5f0",
             "#fff5f0",
             "#fdd7c6",
             "#ffede5",
             "#fff4ee",
             "#fc8f6f",
             "#fff5f0",
             "#fff2eb"
            ],
            "colorbar": {
             "len": 0.85,
             "thickness": 10,
             "title": {
              "text": "defense"
             },
             "x": 1.03,
             "y": 0.4
            },
            "colorscale": [
             [
              0,
              "rgb(255,245,240)"
             ],
             [
              0.125,
              "rgb(254,224,210)"
             ],
             [
              0.25,
              "rgb(252,187,161)"
             ],
             [
              0.375,
              "rgb(252,146,114)"
             ],
             [
              0.5,
              "rgb(251,106,74)"
             ],
             [
              0.625,
              "rgb(239,59,44)"
             ],
             [
              0.75,
              "rgb(203,24,29)"
             ],
             [
              0.875,
              "rgb(165,15,21)"
             ],
             [
              1,
              "rgb(103,0,13)"
             ]
            ],
            "size": 10
           },
           "mode": "markers",
           "name": "defense",
           "showlegend": false,
           "type": "scatter",
           "x": [
            32.31,
            22.38,
            27.66,
            37.02,
            33.4,
            26.01,
            28.36,
            32.85,
            24.76,
            36.52,
            30.24
           ],
           "y": [
            22.83,
            18.6,
            13.29,
            15.93,
            7.32,
            12.71,
            20.15,
            11.59,
            23.48,
            12.17,
            7.47
           ]
          }
         ],
         "name": "49"
        },
        {
         "data": [
          {
           "hoverinfo": "none",
           "marker": {
            "color": "black",
            "size": 10
           },
           "mode": "markers",
           "name": "offense",
           "type": "scatter",
           "x": [
            41.22,
            26.73,
            28.28,
            34.1,
            34.53,
            41.06,
            26.55,
            33.43,
            40.51,
            31.71
           ],
           "y": [
            32.12,
            23.52,
            21.14,
            7.8,
            22.03,
            13.9,
            13.04,
            13.14,
            19.35,
            4.55
           ]
          },
          {
           "hoverinfo": "none",
           "marker": {
            "color": "yellow",
            "opacity": 1,
            "size": 10
           },
           "mode": "markers",
           "name": "ball_carrier",
           "type": "scatter",
           "x": [
            26.08
           ],
           "y": [
            15.4
           ]
          },
          {
           "customdata": [
            [
             37075,
             "Von Miller",
             "OLB",
             "BUF",
             0.01
            ],
            [
             40107,
             "Micah Hyde",
             "FS",
             "BUF",
             0.69
            ],
            [
             40166,
             "Jordan Poyer",
             "SS",
             "BUF",
             0.03
            ],
            [
             41341,
             "DaQuan Jones",
             "DT",
             "BUF",
             0
            ],
            [
             44976,
             "Matt Milano",
             "OLB",
             "BUF",
             0
            ],
            [
             46085,
             "Tremaine Edmunds",
             "ILB",
             "BUF",
             0.15
            ],
            [
             46190,
             "Taron Johnson",
             "CB",
             "BUF",
             0.08
            ],
            [
             46232,
             "Tim Settle",
             "DT",
             "BUF",
             0.01
            ],
            [
             52647,
             "Dane Jackson",
             "CB",
             "BUF",
             0.31
            ],
            [
             53459,
             "Gregory Rousseau",
             "DE",
             "BUF",
             0
            ],
            [
             54488,
             "Kaiir Elam",
             "CB",
             "BUF",
             0.01
            ]
           ],
           "hovertemplate": "<b>nflId:</b> %{customdata[0]}<br><b>Player:</b> %{customdata[1]} %{customdata[2]}<br><b>Team:</b> %{customdata[3]}<br><br><b>Tackling Probability:</b> %{customdata[4]}",
           "marker": {
            "cmax": 1,
            "cmin": 0,
            "color": [
             "#fff4ee",
             "#dc2924",
             "#fff0e9",
             "#fff5f0",
             "#fff5f0",
             "#fed8c7",
             "#fee8dd",
             "#fff4ef",
             "#fca689",
             "#fff5f0",
             "#fff3ed"
            ],
            "colorbar": {
             "len": 0.85,
             "thickness": 10,
             "title": {
              "text": "defense"
             },
             "x": 1.03,
             "y": 0.4
            },
            "colorscale": [
             [
              0,
              "rgb(255,245,240)"
             ],
             [
              0.125,
              "rgb(254,224,210)"
             ],
             [
              0.25,
              "rgb(252,187,161)"
             ],
             [
              0.375,
              "rgb(252,146,114)"
             ],
             [
              0.5,
              "rgb(251,106,74)"
             ],
             [
              0.625,
              "rgb(239,59,44)"
             ],
             [
              0.75,
              "rgb(203,24,29)"
             ],
             [
              0.875,
              "rgb(165,15,21)"
             ],
             [
              1,
              "rgb(103,0,13)"
             ]
            ],
            "size": 10
           },
           "mode": "markers",
           "name": "defense",
           "showlegend": false,
           "type": "scatter",
           "x": [
            31.85,
            22.41,
            27.28,
            36.51,
            33.11,
            25.55,
            28.3,
            32.73,
            24.39,
            36.01,
            29.74
           ],
           "y": [
            22.67,
            18.13,
            13.41,
            15.74,
            7.08,
            12.64,
            19.63,
            11.44,
            22.9,
            12.19,
            7.48
           ]
          }
         ],
         "name": "50"
        },
        {
         "data": [
          {
           "hoverinfo": "none",
           "marker": {
            "color": "black",
            "size": 10
           },
           "mode": "markers",
           "name": "offense",
           "type": "scatter",
           "x": [
            41.11,
            26.32,
            28.1,
            33.71,
            34.24,
            40.86,
            26.23,
            33.09,
            40.43,
            31.45
           ],
           "y": [
            32.02,
            23.04,
            20.88,
            7.6,
            21.87,
            13.63,
            12.98,
            13.04,
            19.2,
            4.16
           ]
          },
          {
           "hoverinfo": "none",
           "marker": {
            "color": "yellow",
            "opacity": 1,
            "size": 10
           },
           "mode": "markers",
           "name": "ball_carrier",
           "type": "scatter",
           "x": [
            25.37
           ],
           "y": [
            15.61
           ]
          },
          {
           "customdata": [
            [
             37075,
             "Von Miller",
             "OLB",
             "BUF",
             0.01
            ],
            [
             40107,
             "Micah Hyde",
             "FS",
             "BUF",
             0.71
            ],
            [
             40166,
             "Jordan Poyer",
             "SS",
             "BUF",
             0.04
            ],
            [
             41341,
             "DaQuan Jones",
             "DT",
             "BUF",
             0
            ],
            [
             44976,
             "Matt Milano",
             "OLB",
             "BUF",
             0
            ],
            [
             46085,
             "Tremaine Edmunds",
             "ILB",
             "BUF",
             0.18
            ],
            [
             46190,
             "Taron Johnson",
             "CB",
             "BUF",
             0.04
            ],
            [
             46232,
             "Tim Settle",
             "DT",
             "BUF",
             0.01
            ],
            [
             52647,
             "Dane Jackson",
             "CB",
             "BUF",
             0.3
            ],
            [
             53459,
             "Gregory Rousseau",
             "DE",
             "BUF",
             0
            ],
            [
             54488,
             "Kaiir Elam",
             "CB",
             "BUF",
             0.01
            ]
           ],
           "hovertemplate": "<b>nflId:</b> %{customdata[0]}<br><b>Player:</b> %{customdata[1]} %{customdata[2]}<br><b>Team:</b> %{customdata[3]}<br><br><b>Tackling Probability:</b> %{customdata[4]}",
           "marker": {
            "cmax": 1,
            "cmin": 0,
            "color": [
             "#fff4ef",
             "#d72322",
             "#ffeee7",
             "#fff5f0",
             "#fff5f0",
             "#fdd1be",
             "#ffefe8",
             "#fff4ef",
             "#fcad90",
             "#fff5f0",
             "#fff4ee"
            ],
            "colorbar": {
             "len": 0.85,
             "thickness": 10,
             "title": {
              "text": "defense"
             },
             "x": 1.03,
             "y": 0.4
            },
            "colorscale": [
             [
              0,
              "rgb(255,245,240)"
             ],
             [
              0.125,
              "rgb(254,224,210)"
             ],
             [
              0.25,
              "rgb(252,187,161)"
             ],
             [
              0.375,
              "rgb(252,146,114)"
             ],
             [
              0.5,
              "rgb(251,106,74)"
             ],
             [
              0.625,
              "rgb(239,59,44)"
             ],
             [
              0.75,
              "rgb(203,24,29)"
             ],
             [
              0.875,
              "rgb(165,15,21)"
             ],
             [
              1,
              "rgb(103,0,13)"
             ]
            ],
            "size": 10
           },
           "mode": "markers",
           "name": "defense",
           "showlegend": false,
           "type": "scatter",
           "x": [
            31.38,
            22.39,
            26.9,
            36,
            32.83,
            25.07,
            28.24,
            32.63,
            23.98,
            35.51,
            29.22
           ],
           "y": [
            22.53,
            17.75,
            13.53,
            15.59,
            6.86,
            12.61,
            19.12,
            11.34,
            22.33,
            12.26,
            7.53
           ]
          }
         ],
         "name": "51"
        },
        {
         "data": [
          {
           "hoverinfo": "none",
           "marker": {
            "color": "black",
            "size": 10
           },
           "mode": "markers",
           "name": "offense",
           "type": "scatter",
           "x": [
            41.01,
            25.87,
            27.91,
            33.31,
            33.94,
            40.63,
            25.93,
            32.76,
            40.35,
            31.19
           ],
           "y": [
            31.91,
            22.59,
            20.64,
            7.46,
            21.72,
            13.38,
            12.92,
            12.96,
            19.08,
            3.78
           ]
          },
          {
           "hoverinfo": "none",
           "marker": {
            "color": "yellow",
            "opacity": 1,
            "size": 10
           },
           "mode": "markers",
           "name": "ball_carrier",
           "type": "scatter",
           "x": [
            24.7
           ],
           "y": [
            15.8
           ]
          },
          {
           "customdata": [
            [
             37075,
             "Von Miller",
             "OLB",
             "BUF",
             0.01
            ],
            [
             40107,
             "Micah Hyde",
             "FS",
             "BUF",
             0.72
            ],
            [
             40166,
             "Jordan Poyer",
             "SS",
             "BUF",
             0.03
            ],
            [
             41341,
             "DaQuan Jones",
             "DT",
             "BUF",
             0
            ],
            [
             44976,
             "Matt Milano",
             "OLB",
             "BUF",
             0
            ],
            [
             46085,
             "Tremaine Edmunds",
             "ILB",
             "BUF",
             0.16
            ],
            [
             46190,
             "Taron Johnson",
             "CB",
             "BUF",
             0.04
            ],
            [
             46232,
             "Tim Settle",
             "DT",
             "BUF",
             0.01
            ],
            [
             52647,
             "Dane Jackson",
             "CB",
             "BUF",
             0.3
            ],
            [
             53459,
             "Gregory Rousseau",
             "DE",
             "BUF",
             0
            ],
            [
             54488,
             "Kaiir Elam",
             "CB",
             "BUF",
             0.02
            ]
           ],
           "hovertemplate": "<b>nflId:</b> %{customdata[0]}<br><b>Player:</b> %{customdata[1]} %{customdata[2]}<br><b>Team:</b> %{customdata[3]}<br><br><b>Tackling Probability:</b> %{customdata[4]}",
           "marker": {
            "cmax": 1,
            "cmin": 0,
            "color": [
             "#fff4ee",
             "#d32020",
             "#fff0e9",
             "#fff5f0",
             "#fff5f0",
             "#fed8c7",
             "#ffeee6",
             "#fff4ee",
             "#fcab8f",
             "#fff5f0",
             "#fff2ec"
            ],
            "colorbar": {
             "len": 0.85,
             "thickness": 10,
             "title": {
              "text": "defense"
             },
             "x": 1.03,
             "y": 0.4
            },
            "colorscale": [
             [
              0,
              "rgb(255,245,240)"
             ],
             [
              0.125,
              "rgb(254,224,210)"
             ],
             [
              0.25,
              "rgb(252,187,161)"
             ],
             [
              0.375,
              "rgb(252,146,114)"
             ],
             [
              0.5,
              "rgb(251,106,74)"
             ],
             [
              0.625,
              "rgb(239,59,44)"
             ],
             [
              0.75,
              "rgb(203,24,29)"
             ],
             [
              0.875,
              "rgb(165,15,21)"
             ],
             [
              1,
              "rgb(103,0,13)"
             ]
            ],
            "size": 10
           },
           "mode": "markers",
           "name": "defense",
           "showlegend": false,
           "type": "scatter",
           "x": [
            30.91,
            22.32,
            26.52,
            35.46,
            32.54,
            24.59,
            28.17,
            32.54,
            23.56,
            35,
            28.68
           ],
           "y": [
            22.4,
            17.39,
            13.64,
            15.46,
            6.68,
            12.62,
            18.63,
            11.28,
            21.78,
            12.37,
            7.6
           ]
          }
         ],
         "name": "52"
        },
        {
         "data": [
          {
           "hoverinfo": "none",
           "marker": {
            "color": "black",
            "size": 10
           },
           "mode": "markers",
           "name": "offense",
           "type": "scatter",
           "x": [
            40.9,
            25.38,
            27.71,
            32.89,
            33.63,
            40.38,
            25.67,
            32.39,
            40.27,
            30.93
           ],
           "y": [
            31.79,
            22.15,
            20.41,
            7.36,
            21.59,
            13.17,
            12.87,
            12.91,
            18.91,
            3.41
           ]
          },
          {
           "hoverinfo": "none",
           "marker": {
            "color": "yellow",
            "opacity": 1,
            "size": 10
           },
           "mode": "markers",
           "name": "ball_carrier",
           "type": "scatter",
           "x": [
            24.05
           ],
           "y": [
            15.99
           ]
          },
          {
           "customdata": [
            [
             37075,
             "Von Miller",
             "OLB",
             "BUF",
             0.01
            ],
            [
             40107,
             "Micah Hyde",
             "FS",
             "BUF",
             0.7
            ],
            [
             40166,
             "Jordan Poyer",
             "SS",
             "BUF",
             0.04
            ],
            [
             41341,
             "DaQuan Jones",
             "DT",
             "BUF",
             0
            ],
            [
             44976,
             "Matt Milano",
             "OLB",
             "BUF",
             0
            ],
            [
             46085,
             "Tremaine Edmunds",
             "ILB",
             "BUF",
             0.12
            ],
            [
             46190,
             "Taron Johnson",
             "CB",
             "BUF",
             0.05
            ],
            [
             46232,
             "Tim Settle",
             "DT",
             "BUF",
             0
            ],
            [
             52647,
             "Dane Jackson",
             "CB",
             "BUF",
             0.23
            ],
            [
             53459,
             "Gregory Rousseau",
             "DE",
             "BUF",
             0
            ],
            [
             54488,
             "Kaiir Elam",
             "CB",
             "BUF",
             0.03
            ]
           ],
           "hovertemplate": "<b>nflId:</b> %{customdata[0]}<br><b>Player:</b> %{customdata[1]} %{customdata[2]}<br><b>Team:</b> %{customdata[3]}<br><br><b>Tackling Probability:</b> %{customdata[4]}",
           "marker": {
            "cmax": 1,
            "cmin": 0,
            "color": [
             "#fff3ed",
             "#d92523",
             "#ffefe8",
             "#fff5f0",
             "#fff5f0",
             "#fee1d3",
             "#ffede5",
             "#fff5f0",
             "#fcc2aa",
             "#fff5f0",
             "#fff1ea"
            ],
            "colorbar": {
             "len": 0.85,
             "thickness": 10,
             "title": {
              "text": "defense"
             },
             "x": 1.03,
             "y": 0.4
            },
            "colorscale": [
             [
              0,
              "rgb(255,245,240)"
             ],
             [
              0.125,
              "rgb(254,224,210)"
             ],
             [
              0.25,
              "rgb(252,187,161)"
             ],
             [
              0.375,
              "rgb(252,146,114)"
             ],
             [
              0.5,
              "rgb(251,106,74)"
             ],
             [
              0.625,
              "rgb(239,59,44)"
             ],
             [
              0.75,
              "rgb(203,24,29)"
             ],
             [
              0.875,
              "rgb(165,15,21)"
             ],
             [
              1,
              "rgb(103,0,13)"
             ]
            ],
            "size": 10
           },
           "mode": "markers",
           "name": "defense",
           "showlegend": false,
           "type": "scatter",
           "x": [
            30.45,
            22.21,
            26.12,
            34.93,
            32.26,
            24.12,
            28.05,
            32.46,
            23.14,
            34.5,
            28.12
           ],
           "y": [
            22.3,
            17.07,
            13.73,
            15.36,
            6.54,
            12.67,
            18.18,
            11.24,
            21.26,
            12.53,
            7.71
           ]
          }
         ],
         "name": "53"
        },
        {
         "data": [
          {
           "hoverinfo": "none",
           "marker": {
            "color": "black",
            "size": 10
           },
           "mode": "markers",
           "name": "offense",
           "type": "scatter",
           "x": [
            40.79,
            24.86,
            27.48,
            32.45,
            33.32,
            40.09,
            25.41,
            32.03,
            40.17,
            30.67
           ],
           "y": [
            31.68,
            21.75,
            20.2,
            7.3,
            21.47,
            12.97,
            12.84,
            12.88,
            18.78,
            3.06
           ]
          },
          {
           "hoverinfo": "none",
           "marker": {
            "color": "yellow",
            "opacity": 1,
            "size": 10
           },
           "mode": "markers",
           "name": "ball_carrier",
           "type": "scatter",
           "x": [
            23.42
           ],
           "y": [
            16.17
           ]
          },
          {
           "customdata": [
            [
             37075,
             "Von Miller",
             "OLB",
             "BUF",
             0.01
            ],
            [
             40107,
             "Micah Hyde",
             "FS",
             "BUF",
             0.7
            ],
            [
             40166,
             "Jordan Poyer",
             "SS",
             "BUF",
             0.02
            ],
            [
             41341,
             "DaQuan Jones",
             "DT",
             "BUF",
             0
            ],
            [
             44976,
             "Matt Milano",
             "OLB",
             "BUF",
             0
            ],
            [
             46085,
             "Tremaine Edmunds",
             "ILB",
             "BUF",
             0.13
            ],
            [
             46190,
             "Taron Johnson",
             "CB",
             "BUF",
             0.05
            ],
            [
             46232,
             "Tim Settle",
             "DT",
             "BUF",
             0
            ],
            [
             52647,
             "Dane Jackson",
             "CB",
             "BUF",
             0.24
            ],
            [
             53459,
             "Gregory Rousseau",
             "DE",
             "BUF",
             0
            ],
            [
             54488,
             "Kaiir Elam",
             "CB",
             "BUF",
             0.02
            ]
           ],
           "hovertemplate": "<b>nflId:</b> %{customdata[0]}<br><b>Player:</b> %{customdata[1]} %{customdata[2]}<br><b>Team:</b> %{customdata[3]}<br><br><b>Tackling Probability:</b> %{customdata[4]}",
           "marker": {
            "cmax": 1,
            "cmin": 0,
            "color": [
             "#fff4ee",
             "#da2723",
             "#fff2eb",
             "#fff5f0",
             "#fff5f0",
             "#fedecf",
             "#ffeee6",
             "#fff5f0",
             "#fcbda4",
             "#fff5f0",
             "#fff2ec"
            ],
            "colorbar": {
             "len": 0.85,
             "thickness": 10,
             "title": {
              "text": "defense"
             },
             "x": 1.03,
             "y": 0.4
            },
            "colorscale": [
             [
              0,
              "rgb(255,245,240)"
             ],
             [
              0.125,
              "rgb(254,224,210)"
             ],
             [
              0.25,
              "rgb(252,187,161)"
             ],
             [
              0.375,
              "rgb(252,146,114)"
             ],
             [
              0.5,
              "rgb(251,106,74)"
             ],
             [
              0.625,
              "rgb(239,59,44)"
             ],
             [
              0.75,
              "rgb(203,24,29)"
             ],
             [
              0.875,
              "rgb(165,15,21)"
             ],
             [
              1,
              "rgb(103,0,13)"
             ]
            ],
            "size": 10
           },
           "mode": "markers",
           "name": "defense",
           "showlegend": false,
           "type": "scatter",
           "x": [
            29.98,
            22.06,
            25.69,
            34.4,
            31.99,
            23.62,
            27.91,
            32.37,
            22.73,
            34,
            27.56
           ],
           "y": [
            22.22,
            16.78,
            13.8,
            15.29,
            6.42,
            12.76,
            17.77,
            11.25,
            20.76,
            12.73,
            7.84
           ]
          }
         ],
         "name": "54"
        },
        {
         "data": [
          {
           "hoverinfo": "none",
           "marker": {
            "color": "black",
            "size": 10
           },
           "mode": "markers",
           "name": "offense",
           "type": "scatter",
           "x": [
            40.68,
            24.31,
            27.24,
            32.01,
            33,
            39.82,
            25.19,
            31.67,
            40.07,
            30.43
           ],
           "y": [
            31.56,
            21.38,
            19.98,
            7.26,
            21.35,
            12.78,
            12.87,
            12.87,
            18.65,
            2.72
           ]
          },
          {
           "hoverinfo": "none",
           "marker": {
            "color": "yellow",
            "opacity": 1,
            "size": 10
           },
           "mode": "markers",
           "name": "ball_carrier",
           "type": "scatter",
           "x": [
            22.88
           ],
           "y": [
            16.33
           ]
          },
          {
           "customdata": [
            [
             37075,
             "Von Miller",
             "OLB",
             "BUF",
             0.01
            ],
            [
             40107,
             "Micah Hyde",
             "FS",
             "BUF",
             0.76
            ],
            [
             40166,
             "Jordan Poyer",
             "SS",
             "BUF",
             0.02
            ],
            [
             41341,
             "DaQuan Jones",
             "DT",
             "BUF",
             0
            ],
            [
             44976,
             "Matt Milano",
             "OLB",
             "BUF",
             0
            ],
            [
             46085,
             "Tremaine Edmunds",
             "ILB",
             "BUF",
             0.16
            ],
            [
             46190,
             "Taron Johnson",
             "CB",
             "BUF",
             0.03
            ],
            [
             46232,
             "Tim Settle",
             "DT",
             "BUF",
             0
            ],
            [
             52647,
             "Dane Jackson",
             "CB",
             "BUF",
             0.24
            ],
            [
             53459,
             "Gregory Rousseau",
             "DE",
             "BUF",
             0
            ],
            [
             54488,
             "Kaiir Elam",
             "CB",
             "BUF",
             0.01
            ]
           ],
           "hovertemplate": "<b>nflId:</b> %{customdata[0]}<br><b>Player:</b> %{customdata[1]} %{customdata[2]}<br><b>Team:</b> %{customdata[3]}<br><br><b>Tackling Probability:</b> %{customdata[4]}",
           "marker": {
            "cmax": 1,
            "cmin": 0,
            "color": [
             "#fff3ed",
             "#c8171c",
             "#fff2ec",
             "#fff5f0",
             "#fff5f0",
             "#fdd4c2",
             "#fff0e8",
             "#fff5f0",
             "#fcbda4",
             "#fff5f0",
             "#fff3ed"
            ],
            "colorbar": {
             "len": 0.85,
             "thickness": 10,
             "title": {
              "text": "defense"
             },
             "x": 1.03,
             "y": 0.4
            },
            "colorscale": [
             [
              0,
              "rgb(255,245,240)"
             ],
             [
              0.125,
              "rgb(254,224,210)"
             ],
             [
              0.25,
              "rgb(252,187,161)"
             ],
             [
              0.375,
              "rgb(252,146,114)"
             ],
             [
              0.5,
              "rgb(251,106,74)"
             ],
             [
              0.625,
              "rgb(239,59,44)"
             ],
             [
              0.75,
              "rgb(203,24,29)"
             ],
             [
              0.875,
              "rgb(165,15,21)"
             ],
             [
              1,
              "rgb(103,0,13)"
             ]
            ],
            "size": 10
           },
           "mode": "markers",
           "name": "defense",
           "showlegend": false,
           "type": "scatter",
           "x": [
            29.52,
            21.85,
            25.27,
            33.86,
            31.73,
            23.11,
            27.73,
            32.27,
            22.31,
            33.52,
            26.98
           ],
           "y": [
            22.17,
            16.53,
            13.86,
            15.24,
            6.34,
            12.92,
            17.41,
            11.31,
            20.27,
            12.95,
            7.99
           ]
          }
         ],
         "name": "55"
        },
        {
         "data": [
          {
           "hoverinfo": "none",
           "marker": {
            "color": "black",
            "size": 10
           },
           "mode": "markers",
           "name": "offense",
           "type": "scatter",
           "x": [
            40.57,
            23.74,
            26.98,
            31.55,
            32.67,
            39.52,
            24.98,
            31.3,
            39.97,
            30.19
           ],
           "y": [
            31.44,
            21.03,
            19.78,
            7.27,
            21.26,
            12.61,
            12.88,
            12.89,
            18.52,
            2.41
           ]
          },
          {
           "hoverinfo": "none",
           "marker": {
            "color": "yellow",
            "opacity": 1,
            "size": 10
           },
           "mode": "markers",
           "name": "ball_carrier",
           "type": "scatter",
           "x": [
            22.34
           ],
           "y": [
            16.49
           ]
          },
          {
           "customdata": [
            [
             37075,
             "Von Miller",
             "OLB",
             "BUF",
             0.01
            ],
            [
             40107,
             "Micah Hyde",
             "FS",
             "BUF",
             0.76
            ],
            [
             40166,
             "Jordan Poyer",
             "SS",
             "BUF",
             0.03
            ],
            [
             41341,
             "DaQuan Jones",
             "DT",
             "BUF",
             0
            ],
            [
             44976,
             "Matt Milano",
             "OLB",
             "BUF",
             0
            ],
            [
             46085,
             "Tremaine Edmunds",
             "ILB",
             "BUF",
             0.13
            ],
            [
             46190,
             "Taron Johnson",
             "CB",
             "BUF",
             0.02
            ],
            [
             46232,
             "Tim Settle",
             "DT",
             "BUF",
             0
            ],
            [
             52647,
             "Dane Jackson",
             "CB",
             "BUF",
             0.25
            ],
            [
             53459,
             "Gregory Rousseau",
             "DE",
             "BUF",
             0
            ],
            [
             54488,
             "Kaiir Elam",
             "CB",
             "BUF",
             0.02
            ]
           ],
           "hovertemplate": "<b>nflId:</b> %{customdata[0]}<br><b>Player:</b> %{customdata[1]} %{customdata[2]}<br><b>Team:</b> %{customdata[3]}<br><br><b>Tackling Probability:</b> %{customdata[4]}",
           "marker": {
            "cmax": 1,
            "cmin": 0,
            "color": [
             "#fff4ee",
             "#c7171c",
             "#fff0e9",
             "#fff5f0",
             "#fff5f0",
             "#fee0d2",
             "#fff1ea",
             "#fff5f0",
             "#fcbba1",
             "#fff5f0",
             "#fff2ec"
            ],
            "colorbar": {
             "len": 0.85,
             "thickness": 10,
             "title": {
              "text": "defense"
             },
             "x": 1.03,
             "y": 0.4
            },
            "colorscale": [
             [
              0,
              "rgb(255,245,240)"
             ],
             [
              0.125,
              "rgb(254,224,210)"
             ],
             [
              0.25,
              "rgb(252,187,161)"
             ],
             [
              0.375,
              "rgb(252,146,114)"
             ],
             [
              0.5,
              "rgb(251,106,74)"
             ],
             [
              0.625,
              "rgb(239,59,44)"
             ],
             [
              0.75,
              "rgb(203,24,29)"
             ],
             [
              0.875,
              "rgb(165,15,21)"
             ],
             [
              1,
              "rgb(103,0,13)"
             ]
            ],
            "size": 10
           },
           "mode": "markers",
           "name": "defense",
           "showlegend": false,
           "type": "scatter",
           "x": [
            29.07,
            21.58,
            24.84,
            33.32,
            31.49,
            22.6,
            27.51,
            32.15,
            21.89,
            33.03,
            26.4
           ],
           "y": [
            22.14,
            16.32,
            13.89,
            15.2,
            6.29,
            13.11,
            17.11,
            11.39,
            19.81,
            13.18,
            8.17
           ]
          }
         ],
         "name": "56"
        },
        {
         "data": [
          {
           "hoverinfo": "none",
           "marker": {
            "color": "black",
            "size": 10
           },
           "mode": "markers",
           "name": "offense",
           "type": "scatter",
           "x": [
            40.47,
            23.16,
            26.68,
            31.09,
            32.33,
            39.2,
            24.81,
            30.91,
            39.87,
            29.95
           ],
           "y": [
            31.32,
            20.7,
            19.58,
            7.32,
            21.17,
            12.46,
            12.93,
            12.92,
            18.4,
            2.11
           ]
          },
          {
           "hoverinfo": "none",
           "marker": {
            "color": "yellow",
            "opacity": 1,
            "size": 10
           },
           "mode": "markers",
           "name": "ball_carrier",
           "type": "scatter",
           "x": [
            21.83
           ],
           "y": [
            16.62
           ]
          },
          {
           "customdata": [
            [
             37075,
             "Von Miller",
             "OLB",
             "BUF",
             0.01
            ],
            [
             40107,
             "Micah Hyde",
             "FS",
             "BUF",
             0.74
            ],
            [
             40166,
             "Jordan Poyer",
             "SS",
             "BUF",
             0.03
            ],
            [
             41341,
             "DaQuan Jones",
             "DT",
             "BUF",
             0
            ],
            [
             44976,
             "Matt Milano",
             "OLB",
             "BUF",
             0
            ],
            [
             46085,
             "Tremaine Edmunds",
             "ILB",
             "BUF",
             0.21
            ],
            [
             46190,
             "Taron Johnson",
             "CB",
             "BUF",
             0.03
            ],
            [
             46232,
             "Tim Settle",
             "DT",
             "BUF",
             0
            ],
            [
             52647,
             "Dane Jackson",
             "CB",
             "BUF",
             0.33
            ],
            [
             53459,
             "Gregory Rousseau",
             "DE",
             "BUF",
             0
            ],
            [
             54488,
             "Kaiir Elam",
             "CB",
             "BUF",
             0.02
            ]
           ],
           "hovertemplate": "<b>nflId:</b> %{customdata[0]}<br><b>Player:</b> %{customdata[1]} %{customdata[2]}<br><b>Team:</b> %{customdata[3]}<br><br><b>Tackling Probability:</b> %{customdata[4]}",
           "marker": {
            "cmax": 1,
            "cmin": 0,
            "color": [
             "#fff4ee",
             "#cf1c1f",
             "#fff0e8",
             "#fff5f0",
             "#fff5f0",
             "#fdc7b2",
             "#fff0e9",
             "#fff5f0",
             "#fca183",
             "#fff5f0",
             "#fff1ea"
            ],
            "colorbar": {
             "len": 0.85,
             "thickness": 10,
             "title": {
              "text": "defense"
             },
             "x": 1.03,
             "y": 0.4
            },
            "colorscale": [
             [
              0,
              "rgb(255,245,240)"
             ],
             [
              0.125,
              "rgb(254,224,210)"
             ],
             [
              0.25,
              "rgb(252,187,161)"
             ],
             [
              0.375,
              "rgb(252,146,114)"
             ],
             [
              0.5,
              "rgb(251,106,74)"
             ],
             [
              0.625,
              "rgb(239,59,44)"
             ],
             [
              0.75,
              "rgb(203,24,29)"
             ],
             [
              0.875,
              "rgb(165,15,21)"
             ],
             [
              1,
              "rgb(103,0,13)"
             ]
            ],
            "size": 10
           },
           "mode": "markers",
           "name": "defense",
           "showlegend": false,
           "type": "scatter",
           "x": [
            28.62,
            21.26,
            24.41,
            32.77,
            31.26,
            22.09,
            27.26,
            32.02,
            21.49,
            32.55,
            25.82
           ],
           "y": [
            22.12,
            16.14,
            13.91,
            15.21,
            6.27,
            13.31,
            16.86,
            11.51,
            19.37,
            13.42,
            8.36
           ]
          }
         ],
         "name": "57"
        },
        {
         "data": [
          {
           "hoverinfo": "none",
           "marker": {
            "color": "black",
            "size": 10
           },
           "mode": "markers",
           "name": "offense",
           "type": "scatter",
           "x": [
            40.36,
            22.58,
            26.37,
            30.62,
            31.99,
            38.89,
            24.66,
            30.53,
            39.75,
            29.7
           ],
           "y": [
            31.19,
            20.39,
            19.39,
            7.44,
            21.08,
            12.33,
            13,
            12.97,
            18.3,
            1.84
           ]
          },
          {
           "hoverinfo": "none",
           "marker": {
            "color": "yellow",
            "opacity": 1,
            "size": 10
           },
           "mode": "markers",
           "name": "ball_carrier",
           "type": "scatter",
           "x": [
            21.36
           ],
           "y": [
            16.73
           ]
          },
          {
           "customdata": [
            [
             37075,
             "Von Miller",
             "OLB",
             "BUF",
             0.01
            ],
            [
             40107,
             "Micah Hyde",
             "FS",
             "BUF",
             0.63
            ],
            [
             40166,
             "Jordan Poyer",
             "SS",
             "BUF",
             0.02
            ],
            [
             41341,
             "DaQuan Jones",
             "DT",
             "BUF",
             0
            ],
            [
             44976,
             "Matt Milano",
             "OLB",
             "BUF",
             0
            ],
            [
             46085,
             "Tremaine Edmunds",
             "ILB",
             "BUF",
             0.2
            ],
            [
             46190,
             "Taron Johnson",
             "CB",
             "BUF",
             0.01
            ],
            [
             46232,
             "Tim Settle",
             "DT",
             "BUF",
             0
            ],
            [
             52647,
             "Dane Jackson",
             "CB",
             "BUF",
             0.33
            ],
            [
             53459,
             "Gregory Rousseau",
             "DE",
             "BUF",
             0
            ],
            [
             54488,
             "Kaiir Elam",
             "CB",
             "BUF",
             0.02
            ]
           ],
           "hovertemplate": "<b>nflId:</b> %{customdata[0]}<br><b>Player:</b> %{customdata[1]} %{customdata[2]}<br><b>Team:</b> %{customdata[3]}<br><br><b>Tackling Probability:</b> %{customdata[4]}",
           "marker": {
            "cmax": 1,
            "cmin": 0,
            "color": [
             "#fff4ef",
             "#ed392b",
             "#fff2ec",
             "#fff5f0",
             "#fff5f0",
             "#fdc9b3",
             "#fff4ee",
             "#fff5f0",
             "#fca082",
             "#fff5f0",
             "#fff2eb"
            ],
            "colorbar": {
             "len": 0.85,
             "thickness": 10,
             "title": {
              "text": "defense"
             },
             "x": 1.03,
             "y": 0.4
            },
            "colorscale": [
             [
              0,
              "rgb(255,245,240)"
             ],
             [
              0.125,
              "rgb(254,224,210)"
             ],
             [
              0.25,
              "rgb(252,187,161)"
             ],
             [
              0.375,
              "rgb(252,146,114)"
             ],
             [
              0.5,
              "rgb(251,106,74)"
             ],
             [
              0.625,
              "rgb(239,59,44)"
             ],
             [
              0.75,
              "rgb(203,24,29)"
             ],
             [
              0.875,
              "rgb(165,15,21)"
             ],
             [
              1,
              "rgb(103,0,13)"
             ]
            ],
            "size": 10
           },
           "mode": "markers",
           "name": "defense",
           "showlegend": false,
           "type": "scatter",
           "x": [
            28.18,
            20.92,
            24.01,
            32.25,
            31.04,
            21.59,
            26.98,
            31.85,
            21.11,
            32.07,
            25.23
           ],
           "y": [
            22.12,
            16.04,
            13.92,
            15.24,
            6.28,
            13.55,
            16.67,
            11.66,
            18.96,
            13.67,
            8.58
           ]
          }
         ],
         "name": "58"
        },
        {
         "data": [
          {
           "hoverinfo": "none",
           "marker": {
            "color": "black",
            "size": 10
           },
           "mode": "markers",
           "name": "offense",
           "type": "scatter",
           "x": [
            40.26,
            22.01,
            26.06,
            30.18,
            31.64,
            38.57,
            24.51,
            30.16,
            39.62,
            29.44
           ],
           "y": [
            31.07,
            20.1,
            19.22,
            7.59,
            21.01,
            12.21,
            13.08,
            13.02,
            18.19,
            1.58
           ]
          },
          {
           "hoverinfo": "none",
           "marker": {
            "color": "yellow",
            "opacity": 1,
            "size": 10
           },
           "mode": "markers",
           "name": "ball_carrier",
           "type": "scatter",
           "x": [
            20.91
           ],
           "y": [
            16.83
           ]
          },
          {
           "customdata": [
            [
             37075,
             "Von Miller",
             "OLB",
             "BUF",
             0.01
            ],
            [
             40107,
             "Micah Hyde",
             "FS",
             "BUF",
             0.68
            ],
            [
             40166,
             "Jordan Poyer",
             "SS",
             "BUF",
             0.02
            ],
            [
             41341,
             "DaQuan Jones",
             "DT",
             "BUF",
             0
            ],
            [
             44976,
             "Matt Milano",
             "OLB",
             "BUF",
             0
            ],
            [
             46085,
             "Tremaine Edmunds",
             "ILB",
             "BUF",
             0.24
            ],
            [
             46190,
             "Taron Johnson",
             "CB",
             "BUF",
             0.01
            ],
            [
             46232,
             "Tim Settle",
             "DT",
             "BUF",
             0
            ],
            [
             52647,
             "Dane Jackson",
             "CB",
             "BUF",
             0.31
            ],
            [
             53459,
             "Gregory Rousseau",
             "DE",
             "BUF",
             0
            ],
            [
             54488,
             "Kaiir Elam",
             "CB",
             "BUF",
             0.02
            ]
           ],
           "hovertemplate": "<b>nflId:</b> %{customdata[0]}<br><b>Player:</b> %{customdata[1]} %{customdata[2]}<br><b>Team:</b> %{customdata[3]}<br><br><b>Tackling Probability:</b> %{customdata[4]}",
           "marker": {
            "cmax": 1,
            "cmin": 0,
            "color": [
             "#fff4ef",
             "#e02c26",
             "#fff2ec",
             "#fff5f0",
             "#fff5f0",
             "#fcbfa7",
             "#fff3ed",
             "#fff5f0",
             "#fca689",
             "#fff5f0",
             "#fff2eb"
            ],
            "colorbar": {
             "len": 0.85,
             "thickness": 10,
             "title": {
              "text": "defense"
             },
             "x": 1.03,
             "y": 0.4
            },
            "colorscale": [
             [
              0,
              "rgb(255,245,240)"
             ],
             [
              0.125,
              "rgb(254,224,210)"
             ],
             [
              0.25,
              "rgb(252,187,161)"
             ],
             [
              0.375,
              "rgb(252,146,114)"
             ],
             [
              0.5,
              "rgb(251,106,74)"
             ],
             [
              0.625,
              "rgb(239,59,44)"
             ],
             [
              0.75,
              "rgb(203,24,29)"
             ],
             [
              0.875,
              "rgb(165,15,21)"
             ],
             [
              1,
              "rgb(103,0,13)"
             ]
            ],
            "size": 10
           },
           "mode": "markers",
           "name": "defense",
           "showlegend": false,
           "type": "scatter",
           "x": [
            27.76,
            20.57,
            23.63,
            31.72,
            30.85,
            21.1,
            26.68,
            31.68,
            20.75,
            31.6,
            24.66
           ],
           "y": [
            22.14,
            15.97,
            13.94,
            15.29,
            6.33,
            13.81,
            16.52,
            11.82,
            18.57,
            13.9,
            8.82
           ]
          }
         ],
         "name": "59"
        },
        {
         "data": [
          {
           "hoverinfo": "none",
           "marker": {
            "color": "black",
            "size": 10
           },
           "mode": "markers",
           "name": "offense",
           "type": "scatter",
           "x": [
            40.17,
            21.47,
            25.72,
            29.73,
            31.28,
            38.27,
            24.39,
            29.77,
            39.48,
            29.18
           ],
           "y": [
            30.93,
            19.83,
            19.05,
            7.79,
            20.95,
            12.1,
            13.15,
            13.1,
            18.06,
            1.35
           ]
          },
          {
           "hoverinfo": "none",
           "marker": {
            "color": "yellow",
            "opacity": 1,
            "size": 10
           },
           "mode": "markers",
           "name": "ball_carrier",
           "type": "scatter",
           "x": [
            20.48
           ],
           "y": [
            16.9
           ]
          },
          {
           "customdata": [
            [
             37075,
             "Von Miller",
             "OLB",
             "BUF",
             0
            ],
            [
             40107,
             "Micah Hyde",
             "FS",
             "BUF",
             0.64
            ],
            [
             40166,
             "Jordan Poyer",
             "SS",
             "BUF",
             0.02
            ],
            [
             41341,
             "DaQuan Jones",
             "DT",
             "BUF",
             0
            ],
            [
             44976,
             "Matt Milano",
             "OLB",
             "BUF",
             0
            ],
            [
             46085,
             "Tremaine Edmunds",
             "ILB",
             "BUF",
             0.37
            ],
            [
             46190,
             "Taron Johnson",
             "CB",
             "BUF",
             0.01
            ],
            [
             46232,
             "Tim Settle",
             "DT",
             "BUF",
             0
            ],
            [
             52647,
             "Dane Jackson",
             "CB",
             "BUF",
             0.56
            ],
            [
             53459,
             "Gregory Rousseau",
             "DE",
             "BUF",
             0
            ],
            [
             54488,
             "Kaiir Elam",
             "CB",
             "BUF",
             0.02
            ]
           ],
           "hovertemplate": "<b>nflId:</b> %{customdata[0]}<br><b>Player:</b> %{customdata[1]} %{customdata[2]}<br><b>Team:</b> %{customdata[3]}<br><br><b>Tackling Probability:</b> %{customdata[4]}",
           "marker": {
            "cmax": 1,
            "cmin": 0,
            "color": [
             "#fff4ef",
             "#ec382b",
             "#fff2eb",
             "#fff5f0",
             "#fff5f0",
             "#fc9373",
             "#fff4ee",
             "#fff5f0",
             "#f6553c",
             "#fff5f0",
             "#fff2eb"
            ],
            "colorbar": {
             "len": 0.85,
             "thickness": 10,
             "title": {
              "text": "defense"
             },
             "x": 1.03,
             "y": 0.4
            },
            "colorscale": [
             [
              0,
              "rgb(255,245,240)"
             ],
             [
              0.125,
              "rgb(254,224,210)"
             ],
             [
              0.25,
              "rgb(252,187,161)"
             ],
             [
              0.375,
              "rgb(252,146,114)"
             ],
             [
              0.5,
              "rgb(251,106,74)"
             ],
             [
              0.625,
              "rgb(239,59,44)"
             ],
             [
              0.75,
              "rgb(203,24,29)"
             ],
             [
              0.875,
              "rgb(165,15,21)"
             ],
             [
              1,
              "rgb(103,0,13)"
             ]
            ],
            "size": 10
           },
           "mode": "markers",
           "name": "defense",
           "showlegend": false,
           "type": "scatter",
           "x": [
            27.34,
            20.26,
            23.29,
            31.2,
            30.66,
            20.61,
            26.35,
            31.51,
            20.41,
            31.11,
            24.09
           ],
           "y": [
            22.18,
            15.9,
            13.95,
            15.35,
            6.39,
            14.11,
            16.41,
            12,
            18.2,
            14.13,
            9.09
           ]
          }
         ],
         "name": "60"
        },
        {
         "data": [
          {
           "hoverinfo": "none",
           "marker": {
            "color": "black",
            "size": 10
           },
           "mode": "markers",
           "name": "offense",
           "type": "scatter",
           "x": [
            40.08,
            20.94,
            25.36,
            29.29,
            30.91,
            37.94,
            24.28,
            29.38,
            39.34,
            28.93
           ],
           "y": [
            30.8,
            19.59,
            18.9,
            8.01,
            20.89,
            12.02,
            13.24,
            13.19,
            17.96,
            1.15
           ]
          },
          {
           "hoverinfo": "none",
           "marker": {
            "color": "yellow",
            "opacity": 1,
            "size": 10
           },
           "mode": "markers",
           "name": "ball_carrier",
           "type": "scatter",
           "x": [
            20.06
           ],
           "y": [
            16.94
           ]
          },
          {
           "customdata": [
            [
             37075,
             "Von Miller",
             "OLB",
             "BUF",
             0
            ],
            [
             40107,
             "Micah Hyde",
             "FS",
             "BUF",
             0.57
            ],
            [
             40166,
             "Jordan Poyer",
             "SS",
             "BUF",
             0.02
            ],
            [
             41341,
             "DaQuan Jones",
             "DT",
             "BUF",
             0
            ],
            [
             44976,
             "Matt Milano",
             "OLB",
             "BUF",
             0
            ],
            [
             46085,
             "Tremaine Edmunds",
             "ILB",
             "BUF",
             0.36
            ],
            [
             46190,
             "Taron Johnson",
             "CB",
             "BUF",
             0.01
            ],
            [
             46232,
             "Tim Settle",
             "DT",
             "BUF",
             0
            ],
            [
             52647,
             "Dane Jackson",
             "CB",
             "BUF",
             0.81
            ],
            [
             53459,
             "Gregory Rousseau",
             "DE",
             "BUF",
             0
            ],
            [
             54488,
             "Kaiir Elam",
             "CB",
             "BUF",
             0.02
            ]
           ],
           "hovertemplate": "<b>nflId:</b> %{customdata[0]}<br><b>Player:</b> %{customdata[1]} %{customdata[2]}<br><b>Team:</b> %{customdata[3]}<br><br><b>Tackling Probability:</b> %{customdata[4]}",
           "marker": {
            "cmax": 1,
            "cmin": 0,
            "color": [
             "#fff5f0",
             "#f4503a",
             "#fff2eb",
             "#fff5f0",
             "#fff5f0",
             "#fc9879",
             "#fff4ef",
             "#fff5f0",
             "#b81419",
             "#fff5f0",
             "#fff2eb"
            ],
            "colorbar": {
             "len": 0.85,
             "thickness": 10,
             "title": {
              "text": "defense"
             },
             "x": 1.03,
             "y": 0.4
            },
            "colorscale": [
             [
              0,
              "rgb(255,245,240)"
             ],
             [
              0.125,
              "rgb(254,224,210)"
             ],
             [
              0.25,
              "rgb(252,187,161)"
             ],
             [
              0.375,
              "rgb(252,146,114)"
             ],
             [
              0.5,
              "rgb(251,106,74)"
             ],
             [
              0.625,
              "rgb(239,59,44)"
             ],
             [
              0.75,
              "rgb(203,24,29)"
             ],
             [
              0.875,
              "rgb(165,15,21)"
             ],
             [
              1,
              "rgb(103,0,13)"
             ]
            ],
            "size": 10
           },
           "mode": "markers",
           "name": "defense",
           "showlegend": false,
           "type": "scatter",
           "x": [
            26.94,
            19.94,
            22.98,
            30.68,
            30.48,
            20.13,
            25.99,
            31.33,
            20.07,
            30.64,
            23.53
           ],
           "y": [
            22.22,
            15.82,
            13.96,
            15.43,
            6.48,
            14.44,
            16.34,
            12.21,
            17.87,
            14.33,
            9.38
           ]
          }
         ],
         "name": "61"
        },
        {
         "data": [
          {
           "hoverinfo": "none",
           "marker": {
            "color": "black",
            "size": 10
           },
           "mode": "markers",
           "name": "offense",
           "type": "scatter",
           "x": [
            39.98,
            20.47,
            24.97,
            28.86,
            30.53,
            37.59,
            24.19,
            29,
            39.19,
            28.67
           ],
           "y": [
            30.66,
            19.36,
            18.75,
            8.27,
            20.85,
            11.95,
            13.34,
            13.29,
            17.86,
            0.97
           ]
          },
          {
           "hoverinfo": "none",
           "marker": {
            "color": "yellow",
            "opacity": 1,
            "size": 10
           },
           "mode": "markers",
           "name": "ball_carrier",
           "type": "scatter",
           "x": [
            19.68
           ],
           "y": [
            16.97
           ]
          },
          {
           "customdata": [
            [
             37075,
             "Von Miller",
             "OLB",
             "BUF",
             0
            ],
            [
             40107,
             "Micah Hyde",
             "FS",
             "BUF",
             0.46
            ],
            [
             40166,
             "Jordan Poyer",
             "SS",
             "BUF",
             0.02
            ],
            [
             41341,
             "DaQuan Jones",
             "DT",
             "BUF",
             0
            ],
            [
             44976,
             "Matt Milano",
             "OLB",
             "BUF",
             0
            ],
            [
             46085,
             "Tremaine Edmunds",
             "ILB",
             "BUF",
             0.25
            ],
            [
             46190,
             "Taron Johnson",
             "CB",
             "BUF",
             0.01
            ],
            [
             46232,
             "Tim Settle",
             "DT",
             "BUF",
             0
            ],
            [
             52647,
             "Dane Jackson",
             "CB",
             "BUF",
             0.92
            ],
            [
             53459,
             "Gregory Rousseau",
             "DE",
             "BUF",
             0
            ],
            [
             54488,
             "Kaiir Elam",
             "CB",
             "BUF",
             0.02
            ]
           ],
           "hovertemplate": "<b>nflId:</b> %{customdata[0]}<br><b>Player:</b> %{customdata[1]} %{customdata[2]}<br><b>Team:</b> %{customdata[3]}<br><br><b>Tackling Probability:</b> %{customdata[4]}",
           "marker": {
            "cmax": 1,
            "cmin": 0,
            "color": [
             "#fff5f0",
             "#fb7757",
             "#fff2ec",
             "#fff5f0",
             "#fff5f0",
             "#fcbca2",
             "#fff4ef",
             "#fff5f0",
             "#8e0912",
             "#fff5f0",
             "#fff1ea"
            ],
            "colorbar": {
             "len": 0.85,
             "thickness": 10,
             "title": {
              "text": "defense"
             },
             "x": 1.03,
             "y": 0.4
            },
            "colorscale": [
             [
              0,
              "rgb(255,245,240)"
             ],
             [
              0.125,
              "rgb(254,224,210)"
             ],
             [
              0.25,
              "rgb(252,187,161)"
             ],
             [
              0.375,
              "rgb(252,146,114)"
             ],
             [
              0.5,
              "rgb(251,106,74)"
             ],
             [
              0.625,
              "rgb(239,59,44)"
             ],
             [
              0.75,
              "rgb(203,24,29)"
             ],
             [
              0.875,
              "rgb(165,15,21)"
             ],
             [
              1,
              "rgb(103,0,13)"
             ]
            ],
            "size": 10
           },
           "mode": "markers",
           "name": "defense",
           "showlegend": false,
           "type": "scatter",
           "x": [
            26.54,
            19.62,
            22.69,
            30.17,
            30.31,
            19.67,
            25.63,
            31.14,
            19.75,
            30.18,
            22.98
           ],
           "y": [
            22.27,
            15.76,
            13.97,
            15.54,
            6.58,
            14.78,
            16.31,
            12.41,
            17.56,
            14.54,
            9.69
           ]
          }
         ],
         "name": "62"
        },
        {
         "data": [
          {
           "hoverinfo": "none",
           "marker": {
            "color": "black",
            "size": 10
           },
           "mode": "markers",
           "name": "offense",
           "type": "scatter",
           "x": [
            39.89,
            20.01,
            24.58,
            28.43,
            30.15,
            37.25,
            24.09,
            28.64,
            39.04,
            28.41
           ],
           "y": [
            30.52,
            19.14,
            18.62,
            8.56,
            20.81,
            11.88,
            13.46,
            13.39,
            17.77,
            0.81
           ]
          },
          {
           "hoverinfo": "none",
           "marker": {
            "color": "yellow",
            "opacity": 1,
            "size": 10
           },
           "mode": "markers",
           "name": "ball_carrier",
           "type": "scatter",
           "x": [
            19.33
           ],
           "y": [
            16.99
           ]
          },
          {
           "customdata": [
            [
             37075,
             "Von Miller",
             "OLB",
             "BUF",
             0
            ],
            [
             40107,
             "Micah Hyde",
             "FS",
             "BUF",
             0.36
            ],
            [
             40166,
             "Jordan Poyer",
             "SS",
             "BUF",
             0.02
            ],
            [
             41341,
             "DaQuan Jones",
             "DT",
             "BUF",
             0
            ],
            [
             44976,
             "Matt Milano",
             "OLB",
             "BUF",
             0
            ],
            [
             46085,
             "Tremaine Edmunds",
             "ILB",
             "BUF",
             0.31
            ],
            [
             46190,
             "Taron Johnson",
             "CB",
             "BUF",
             0.01
            ],
            [
             46232,
             "Tim Settle",
             "DT",
             "BUF",
             0
            ],
            [
             52647,
             "Dane Jackson",
             "CB",
             "BUF",
             0.93
            ],
            [
             53459,
             "Gregory Rousseau",
             "DE",
             "BUF",
             0
            ],
            [
             54488,
             "Kaiir Elam",
             "CB",
             "BUF",
             0.03
            ]
           ],
           "hovertemplate": "<b>nflId:</b> %{customdata[0]}<br><b>Player:</b> %{customdata[1]} %{customdata[2]}<br><b>Team:</b> %{customdata[3]}<br><br><b>Tackling Probability:</b> %{customdata[4]}",
           "marker": {
            "cmax": 1,
            "cmin": 0,
            "color": [
             "#fff5f0",
             "#fc9576",
             "#fff2ec",
             "#fff5f0",
             "#fff5f0",
             "#fca689",
             "#fff4ef",
             "#fff5f0",
             "#8a0812",
             "#fff5f0",
             "#fff0e8"
            ],
            "colorbar": {
             "len": 0.85,
             "thickness": 10,
             "title": {
              "text": "defense"
             },
             "x": 1.03,
             "y": 0.4
            },
            "colorscale": [
             [
              0,
              "rgb(255,245,240)"
             ],
             [
              0.125,
              "rgb(254,224,210)"
             ],
             [
              0.25,
              "rgb(252,187,161)"
             ],
             [
              0.375,
              "rgb(252,146,114)"
             ],
             [
              0.5,
              "rgb(251,106,74)"
             ],
             [
              0.625,
              "rgb(239,59,44)"
             ],
             [
              0.75,
              "rgb(203,24,29)"
             ],
             [
              0.875,
              "rgb(165,15,21)"
             ],
             [
              1,
              "rgb(103,0,13)"
             ]
            ],
            "size": 10
           },
           "mode": "markers",
           "name": "defense",
           "showlegend": false,
           "type": "scatter",
           "x": [
            26.16,
            19.31,
            22.43,
            29.66,
            30.13,
            19.23,
            25.24,
            30.96,
            19.45,
            29.73,
            22.45
           ],
           "y": [
            22.31,
            15.72,
            13.98,
            15.66,
            6.7,
            15.13,
            16.29,
            12.62,
            17.29,
            14.72,
            10.02
           ]
          }
         ],
         "name": "63"
        },
        {
         "data": [
          {
           "hoverinfo": "none",
           "marker": {
            "color": "black",
            "size": 10
           },
           "mode": "markers",
           "name": "offense",
           "type": "scatter",
           "x": [
            39.8,
            19.6,
            24.16,
            28,
            29.76,
            36.91,
            24,
            28.23,
            38.87,
            28.15
           ],
           "y": [
            30.39,
            18.95,
            18.49,
            8.86,
            20.77,
            11.83,
            13.57,
            13.51,
            17.68,
            0.68
           ]
          },
          {
           "hoverinfo": "none",
           "marker": {
            "color": "yellow",
            "opacity": 1,
            "size": 10
           },
           "mode": "markers",
           "name": "ball_carrier",
           "type": "scatter",
           "x": [
            19
           ],
           "y": [
            17
           ]
          },
          {
           "customdata": [
            [
             37075,
             "Von Miller",
             "OLB",
             "BUF",
             0
            ],
            [
             40107,
             "Micah Hyde",
             "FS",
             "BUF",
             0.46
            ],
            [
             40166,
             "Jordan Poyer",
             "SS",
             "BUF",
             0.01
            ],
            [
             41341,
             "DaQuan Jones",
             "DT",
             "BUF",
             0
            ],
            [
             44976,
             "Matt Milano",
             "OLB",
             "BUF",
             0
            ],
            [
             46085,
             "Tremaine Edmunds",
             "ILB",
             "BUF",
             0.36
            ],
            [
             46190,
             "Taron Johnson",
             "CB",
             "BUF",
             0.01
            ],
            [
             46232,
             "Tim Settle",
             "DT",
             "BUF",
             0
            ],
            [
             52647,
             "Dane Jackson",
             "CB",
             "BUF",
             0.91
            ],
            [
             53459,
             "Gregory Rousseau",
             "DE",
             "BUF",
             0
            ],
            [
             54488,
             "Kaiir Elam",
             "CB",
             "BUF",
             0.03
            ]
           ],
           "hovertemplate": "<b>nflId:</b> %{customdata[0]}<br><b>Player:</b> %{customdata[1]} %{customdata[2]}<br><b>Team:</b> %{customdata[3]}<br><br><b>Tackling Probability:</b> %{customdata[4]}",
           "marker": {
            "cmax": 1,
            "cmin": 0,
            "color": [
             "#fff5f0",
             "#fb7858",
             "#fff4ee",
             "#fff5f0",
             "#fff5f0",
             "#fc9879",
             "#fff4ef",
             "#fff5f0",
             "#940b13",
             "#fff5f0",
             "#fff0e8"
            ],
            "colorbar": {
             "len": 0.85,
             "thickness": 10,
             "title": {
              "text": "defense"
             },
             "x": 1.03,
             "y": 0.4
            },
            "colorscale": [
             [
              0,
              "rgb(255,245,240)"
             ],
             [
              0.125,
              "rgb(254,224,210)"
             ],
             [
              0.25,
              "rgb(252,187,161)"
             ],
             [
              0.375,
              "rgb(252,146,114)"
             ],
             [
              0.5,
              "rgb(251,106,74)"
             ],
             [
              0.625,
              "rgb(239,59,44)"
             ],
             [
              0.75,
              "rgb(203,24,29)"
             ],
             [
              0.875,
              "rgb(165,15,21)"
             ],
             [
              1,
              "rgb(103,0,13)"
             ]
            ],
            "size": 10
           },
           "mode": "markers",
           "name": "defense",
           "showlegend": false,
           "type": "scatter",
           "x": [
            25.8,
            19.06,
            22.18,
            29.14,
            29.96,
            18.83,
            24.85,
            30.77,
            19.14,
            29.27,
            21.93
           ],
           "y": [
            22.36,
            15.73,
            14,
            15.8,
            6.82,
            15.51,
            16.3,
            12.85,
            17.05,
            14.89,
            10.37
           ]
          }
         ],
         "name": "64"
        },
        {
         "data": [
          {
           "hoverinfo": "none",
           "marker": {
            "color": "black",
            "size": 10
           },
           "mode": "markers",
           "name": "offense",
           "type": "scatter",
           "x": [
            39.7,
            19.23,
            23.75,
            27.57,
            29.36,
            36.54,
            23.92,
            27.84,
            38.71,
            27.91
           ],
           "y": [
            30.23,
            18.78,
            18.39,
            9.17,
            20.73,
            11.81,
            13.68,
            13.68,
            17.6,
            0.58
           ]
          },
          {
           "hoverinfo": "none",
           "marker": {
            "color": "yellow",
            "opacity": 1,
            "size": 10
           },
           "mode": "markers",
           "name": "ball_carrier",
           "type": "scatter",
           "x": [
            18.7
           ],
           "y": [
            17
           ]
          },
          {
           "customdata": [
            [
             37075,
             "Von Miller",
             "OLB",
             "BUF",
             0
            ],
            [
             40107,
             "Micah Hyde",
             "FS",
             "BUF",
             0.58
            ],
            [
             40166,
             "Jordan Poyer",
             "SS",
             "BUF",
             0.01
            ],
            [
             41341,
             "DaQuan Jones",
             "DT",
             "BUF",
             0
            ],
            [
             44976,
             "Matt Milano",
             "OLB",
             "BUF",
             0
            ],
            [
             46085,
             "Tremaine Edmunds",
             "ILB",
             "BUF",
             0.4
            ],
            [
             46190,
             "Taron Johnson",
             "CB",
             "BUF",
             0.01
            ],
            [
             46232,
             "Tim Settle",
             "DT",
             "BUF",
             0
            ],
            [
             52647,
             "Dane Jackson",
             "CB",
             "BUF",
             0.9
            ],
            [
             53459,
             "Gregory Rousseau",
             "DE",
             "BUF",
             0
            ],
            [
             54488,
             "Kaiir Elam",
             "CB",
             "BUF",
             0.04
            ]
           ],
           "hovertemplate": "<b>nflId:</b> %{customdata[0]}<br><b>Player:</b> %{customdata[1]} %{customdata[2]}<br><b>Team:</b> %{customdata[3]}<br><br><b>Tackling Probability:</b> %{customdata[4]}",
           "marker": {
            "cmax": 1,
            "cmin": 0,
            "color": [
             "#fff5f0",
             "#f44d38",
             "#fff4ee",
             "#fff5f0",
             "#fff5f0",
             "#fc8a6a",
             "#fff4ef",
             "#fff5f0",
             "#980c13",
             "#fff5f0",
             "#ffeee7"
            ],
            "colorbar": {
             "len": 0.85,
             "thickness": 10,
             "title": {
              "text": "defense"
             },
             "x": 1.03,
             "y": 0.4
            },
            "colorscale": [
             [
              0,
              "rgb(255,245,240)"
             ],
             [
              0.125,
              "rgb(254,224,210)"
             ],
             [
              0.25,
              "rgb(252,187,161)"
             ],
             [
              0.375,
              "rgb(252,146,114)"
             ],
             [
              0.5,
              "rgb(251,106,74)"
             ],
             [
              0.625,
              "rgb(239,59,44)"
             ],
             [
              0.75,
              "rgb(203,24,29)"
             ],
             [
              0.875,
              "rgb(165,15,21)"
             ],
             [
              1,
              "rgb(103,0,13)"
             ]
            ],
            "size": 10
           },
           "mode": "markers",
           "name": "defense",
           "showlegend": false,
           "type": "scatter",
           "x": [
            25.45,
            18.87,
            21.93,
            28.63,
            29.78,
            18.45,
            24.44,
            30.59,
            18.85,
            28.82,
            21.42
           ],
           "y": [
            22.41,
            15.78,
            14.03,
            15.96,
            6.96,
            15.88,
            16.32,
            13.07,
            16.84,
            15.04,
            10.72
           ]
          }
         ],
         "name": "65"
        },
        {
         "data": [
          {
           "hoverinfo": "none",
           "marker": {
            "color": "black",
            "size": 10
           },
           "mode": "markers",
           "name": "offense",
           "type": "scatter",
           "x": [
            39.6,
            18.89,
            23.33,
            27.15,
            28.95,
            36.19,
            23.84,
            27.45,
            38.53,
            27.68
           ],
           "y": [
            30.08,
            18.63,
            18.29,
            9.49,
            20.71,
            11.78,
            13.79,
            13.82,
            17.54,
            0.5
           ]
          },
          {
           "hoverinfo": "none",
           "marker": {
            "color": "yellow",
            "opacity": 1,
            "size": 10
           },
           "mode": "markers",
           "name": "ball_carrier",
           "type": "scatter",
           "x": [
            18.4
           ],
           "y": [
            17
           ]
          },
          {
           "customdata": [
            [
             37075,
             "Von Miller",
             "OLB",
             "BUF",
             0
            ],
            [
             40107,
             "Micah Hyde",
             "FS",
             "BUF",
             0.55
            ],
            [
             40166,
             "Jordan Poyer",
             "SS",
             "BUF",
             0.02
            ],
            [
             41341,
             "DaQuan Jones",
             "DT",
             "BUF",
             0
            ],
            [
             44976,
             "Matt Milano",
             "OLB",
             "BUF",
             0
            ],
            [
             46085,
             "Tremaine Edmunds",
             "ILB",
             "BUF",
             0.54
            ],
            [
             46190,
             "Taron Johnson",
             "CB",
             "BUF",
             0.01
            ],
            [
             46232,
             "Tim Settle",
             "DT",
             "BUF",
             0
            ],
            [
             52647,
             "Dane Jackson",
             "CB",
             "BUF",
             0.9
            ],
            [
             53459,
             "Gregory Rousseau",
             "DE",
             "BUF",
             0
            ],
            [
             54488,
             "Kaiir Elam",
             "CB",
             "BUF",
             0.02
            ]
           ],
           "hovertemplate": "<b>nflId:</b> %{customdata[0]}<br><b>Player:</b> %{customdata[1]} %{customdata[2]}<br><b>Team:</b> %{customdata[3]}<br><br><b>Tackling Probability:</b> %{customdata[4]}",
           "marker": {
            "cmax": 1,
            "cmin": 0,
            "color": [
             "#fff5f0",
             "#f6583e",
             "#fff2eb",
             "#fff5f0",
             "#fff5f0",
             "#f75c41",
             "#fff4ee",
             "#fff5f0",
             "#960b13",
             "#fff5f0",
             "#fff2eb"
            ],
            "colorbar": {
             "len": 0.85,
             "thickness": 10,
             "title": {
              "text": "defense"
             },
             "x": 1.03,
             "y": 0.4
            },
            "colorscale": [
             [
              0,
              "rgb(255,245,240)"
             ],
             [
              0.125,
              "rgb(254,224,210)"
             ],
             [
              0.25,
              "rgb(252,187,161)"
             ],
             [
              0.375,
              "rgb(252,146,114)"
             ],
             [
              0.5,
              "rgb(251,106,74)"
             ],
             [
              0.625,
              "rgb(239,59,44)"
             ],
             [
              0.75,
              "rgb(203,24,29)"
             ],
             [
              0.875,
              "rgb(165,15,21)"
             ],
             [
              1,
              "rgb(103,0,13)"
             ]
            ],
            "size": 10
           },
           "mode": "markers",
           "name": "defense",
           "showlegend": false,
           "type": "scatter",
           "x": [
            25.11,
            18.67,
            21.69,
            28.13,
            29.6,
            18.13,
            24.03,
            30.42,
            18.57,
            28.36,
            20.92
           ],
           "y": [
            22.46,
            15.8,
            14.06,
            16.12,
            7.1,
            16.25,
            16.36,
            13.3,
            16.68,
            15.18,
            11.09
           ]
          }
         ],
         "name": "66"
        },
        {
         "data": [
          {
           "hoverinfo": "none",
           "marker": {
            "color": "black",
            "size": 10
           },
           "mode": "markers",
           "name": "offense",
           "type": "scatter",
           "x": [
            39.5,
            18.6,
            22.91,
            26.73,
            28.54,
            35.85,
            23.79,
            27.06,
            38.36,
            27.44
           ],
           "y": [
            29.93,
            18.5,
            18.2,
            9.81,
            20.69,
            11.77,
            13.9,
            13.98,
            17.49,
            0.45
           ]
          },
          {
           "hoverinfo": "none",
           "marker": {
            "color": "yellow",
            "opacity": 1,
            "size": 10
           },
           "mode": "markers",
           "name": "ball_carrier",
           "type": "scatter",
           "x": [
            18.13
           ],
           "y": [
            17.01
           ]
          },
          {
           "customdata": [
            [
             37075,
             "Von Miller",
             "OLB",
             "BUF",
             0
            ],
            [
             40107,
             "Micah Hyde",
             "FS",
             "BUF",
             0.57
            ],
            [
             40166,
             "Jordan Poyer",
             "SS",
             "BUF",
             0.02
            ],
            [
             41341,
             "DaQuan Jones",
             "DT",
             "BUF",
             0
            ],
            [
             44976,
             "Matt Milano",
             "OLB",
             "BUF",
             0
            ],
            [
             46085,
             "Tremaine Edmunds",
             "ILB",
             "BUF",
             0.6
            ],
            [
             46190,
             "Taron Johnson",
             "CB",
             "BUF",
             0.01
            ],
            [
             46232,
             "Tim Settle",
             "DT",
             "BUF",
             0
            ],
            [
             52647,
             "Dane Jackson",
             "CB",
             "BUF",
             0.87
            ],
            [
             53459,
             "Gregory Rousseau",
             "DE",
             "BUF",
             0
            ],
            [
             54488,
             "Kaiir Elam",
             "CB",
             "BUF",
             0.02
            ]
           ],
           "hovertemplate": "<b>nflId:</b> %{customdata[0]}<br><b>Player:</b> %{customdata[1]} %{customdata[2]}<br><b>Team:</b> %{customdata[3]}<br><br><b>Tackling Probability:</b> %{customdata[4]}",
           "marker": {
            "cmax": 1,
            "cmin": 0,
            "color": [
             "#fff5f0",
             "#f4503a",
             "#fff2ec",
             "#fff5f0",
             "#fff5f0",
             "#f24633",
             "#fff4ef",
             "#fff5f0",
             "#a50f15",
             "#fff5f0",
             "#fff1ea"
            ],
            "colorbar": {
             "len": 0.85,
             "thickness": 10,
             "title": {
              "text": "defense"
             },
             "x": 1.03,
             "y": 0.4
            },
            "colorscale": [
             [
              0,
              "rgb(255,245,240)"
             ],
             [
              0.125,
              "rgb(254,224,210)"
             ],
             [
              0.25,
              "rgb(252,187,161)"
             ],
             [
              0.375,
              "rgb(252,146,114)"
             ],
             [
              0.5,
              "rgb(251,106,74)"
             ],
             [
              0.625,
              "rgb(239,59,44)"
             ],
             [
              0.75,
              "rgb(203,24,29)"
             ],
             [
              0.875,
              "rgb(165,15,21)"
             ],
             [
              1,
              "rgb(103,0,13)"
             ]
            ],
            "size": 10
           },
           "mode": "markers",
           "name": "defense",
           "showlegend": false,
           "type": "scatter",
           "x": [
            24.79,
            18.48,
            21.43,
            27.64,
            29.38,
            17.85,
            23.61,
            30.26,
            18.3,
            27.9,
            20.43
           ],
           "y": [
            22.51,
            15.83,
            14.09,
            16.29,
            7.26,
            16.59,
            16.4,
            13.53,
            16.55,
            15.3,
            11.45
           ]
          }
         ],
         "name": "67"
        },
        {
         "data": [
          {
           "hoverinfo": "none",
           "marker": {
            "color": "black",
            "size": 10
           },
           "mode": "markers",
           "name": "offense",
           "type": "scatter",
           "x": [
            39.4,
            18.35,
            22.46,
            26.32,
            28.11,
            35.49,
            23.75,
            26.65,
            38.18,
            27.19
           ],
           "y": [
            29.77,
            18.39,
            18.12,
            10.12,
            20.66,
            11.77,
            14,
            14.14,
            17.44,
            0.42
           ]
          },
          {
           "hoverinfo": "none",
           "marker": {
            "color": "yellow",
            "opacity": 1,
            "size": 10
           },
           "mode": "markers",
           "name": "ball_carrier",
           "type": "scatter",
           "x": [
            17.88
           ],
           "y": [
            17.03
           ]
          },
          {
           "customdata": [
            [
             37075,
             "Von Miller",
             "OLB",
             "BUF",
             0
            ],
            [
             40107,
             "Micah Hyde",
             "FS",
             "BUF",
             0.59
            ],
            [
             40166,
             "Jordan Poyer",
             "SS",
             "BUF",
             0.01
            ],
            [
             41341,
             "DaQuan Jones",
             "DT",
             "BUF",
             0
            ],
            [
             44976,
             "Matt Milano",
             "OLB",
             "BUF",
             0
            ],
            [
             46085,
             "Tremaine Edmunds",
             "ILB",
             "BUF",
             0.68
            ],
            [
             46190,
             "Taron Johnson",
             "CB",
             "BUF",
             0.01
            ],
            [
             46232,
             "Tim Settle",
             "DT",
             "BUF",
             0
            ],
            [
             52647,
             "Dane Jackson",
             "CB",
             "BUF",
             0.87
            ],
            [
             53459,
             "Gregory Rousseau",
             "DE",
             "BUF",
             0
            ],
            [
             54488,
             "Kaiir Elam",
             "CB",
             "BUF",
             0.02
            ]
           ],
           "hovertemplate": "<b>nflId:</b> %{customdata[0]}<br><b>Player:</b> %{customdata[1]} %{customdata[2]}<br><b>Team:</b> %{customdata[3]}<br><br><b>Tackling Probability:</b> %{customdata[4]}",
           "marker": {
            "cmax": 1,
            "cmin": 0,
            "color": [
             "#fff5f0",
             "#f24633",
             "#fff4ee",
             "#fff5f0",
             "#fff5f0",
             "#de2b25",
             "#fff4ef",
             "#fff5f0",
             "#a60f15",
             "#fff5f0",
             "#fff2ec"
            ],
            "colorbar": {
             "len": 0.85,
             "thickness": 10,
             "title": {
              "text": "defense"
             },
             "x": 1.03,
             "y": 0.4
            },
            "colorscale": [
             [
              0,
              "rgb(255,245,240)"
             ],
             [
              0.125,
              "rgb(254,224,210)"
             ],
             [
              0.25,
              "rgb(252,187,161)"
             ],
             [
              0.375,
              "rgb(252,146,114)"
             ],
             [
              0.5,
              "rgb(251,106,74)"
             ],
             [
              0.625,
              "rgb(239,59,44)"
             ],
             [
              0.75,
              "rgb(203,24,29)"
             ],
             [
              0.875,
              "rgb(165,15,21)"
             ],
             [
              1,
              "rgb(103,0,13)"
             ]
            ],
            "size": 10
           },
           "mode": "markers",
           "name": "defense",
           "showlegend": false,
           "type": "scatter",
           "x": [
            24.5,
            18.32,
            21.16,
            27.16,
            29.14,
            17.62,
            23.18,
            30.1,
            18.02,
            27.46,
            19.96
           ],
           "y": [
            22.56,
            15.87,
            14.13,
            16.46,
            7.44,
            16.9,
            16.44,
            13.77,
            16.45,
            15.42,
            11.81
           ]
          }
         ],
         "name": "68"
        },
        {
         "data": [
          {
           "hoverinfo": "none",
           "marker": {
            "color": "black",
            "size": 10
           },
           "mode": "markers",
           "name": "offense",
           "type": "scatter",
           "x": [
            39.29,
            18.14,
            22.02,
            25.91,
            27.69,
            35.13,
            23.73,
            26.25,
            37.99,
            26.95
           ],
           "y": [
            29.63,
            18.3,
            18.06,
            10.45,
            20.65,
            11.78,
            14.11,
            14.32,
            17.4,
            0.4
           ]
          },
          {
           "hoverinfo": "none",
           "marker": {
            "color": "yellow",
            "opacity": 1,
            "size": 10
           },
           "mode": "markers",
           "name": "ball_carrier",
           "type": "scatter",
           "x": [
            17.66
           ],
           "y": [
            17.06
           ]
          },
          {
           "customdata": [
            [
             37075,
             "Von Miller",
             "OLB",
             "BUF",
             0
            ],
            [
             40107,
             "Micah Hyde",
             "FS",
             "BUF",
             0.59
            ],
            [
             40166,
             "Jordan Poyer",
             "SS",
             "BUF",
             0.01
            ],
            [
             41341,
             "DaQuan Jones",
             "DT",
             "BUF",
             0
            ],
            [
             44976,
             "Matt Milano",
             "OLB",
             "BUF",
             0
            ],
            [
             46085,
             "Tremaine Edmunds",
             "ILB",
             "BUF",
             0.51
            ],
            [
             46190,
             "Taron Johnson",
             "CB",
             "BUF",
             0.01
            ],
            [
             46232,
             "Tim Settle",
             "DT",
             "BUF",
             0
            ],
            [
             52647,
             "Dane Jackson",
             "CB",
             "BUF",
             0.76
            ],
            [
             53459,
             "Gregory Rousseau",
             "DE",
             "BUF",
             0
            ],
            [
             54488,
             "Kaiir Elam",
             "CB",
             "BUF",
             0.02
            ]
           ],
           "hovertemplate": "<b>nflId:</b> %{customdata[0]}<br><b>Player:</b> %{customdata[1]} %{customdata[2]}<br><b>Team:</b> %{customdata[3]}<br><br><b>Tackling Probability:</b> %{customdata[4]}",
           "marker": {
            "cmax": 1,
            "cmin": 0,
            "color": [
             "#fff5f0",
             "#f34a36",
             "#fff4ee",
             "#fff4ef",
             "#fff5f0",
             "#fa6648",
             "#fff4ef",
             "#fff5f0",
             "#c8171c",
             "#fff5f0",
             "#fff2eb"
            ],
            "colorbar": {
             "len": 0.85,
             "thickness": 10,
             "title": {
              "text": "defense"
             },
             "x": 1.03,
             "y": 0.4
            },
            "colorscale": [
             [
              0,
              "rgb(255,245,240)"
             ],
             [
              0.125,
              "rgb(254,224,210)"
             ],
             [
              0.25,
              "rgb(252,187,161)"
             ],
             [
              0.375,
              "rgb(252,146,114)"
             ],
             [
              0.5,
              "rgb(251,106,74)"
             ],
             [
              0.625,
              "rgb(239,59,44)"
             ],
             [
              0.75,
              "rgb(203,24,29)"
             ],
             [
              0.875,
              "rgb(165,15,21)"
             ],
             [
              1,
              "rgb(103,0,13)"
             ]
            ],
            "size": 10
           },
           "mode": "markers",
           "name": "defense",
           "showlegend": false,
           "type": "scatter",
           "x": [
            24.21,
            18.17,
            20.87,
            26.69,
            28.87,
            17.43,
            22.76,
            29.94,
            17.75,
            27.02,
            19.49
           ],
           "y": [
            22.61,
            15.92,
            14.18,
            16.64,
            7.62,
            17.18,
            16.48,
            14.03,
            16.37,
            15.52,
            12.16
           ]
          }
         ],
         "name": "69"
        },
        {
         "data": [
          {
           "hoverinfo": "none",
           "marker": {
            "color": "black",
            "size": 10
           },
           "mode": "markers",
           "name": "offense",
           "type": "scatter",
           "x": [
            39.18,
            17.97,
            21.6,
            25.5,
            27.25,
            34.76,
            23.72,
            25.85,
            37.81,
            26.7
           ],
           "y": [
            29.48,
            18.24,
            18.01,
            10.76,
            20.64,
            11.8,
            14.22,
            14.5,
            17.37,
            0.4
           ]
          },
          {
           "hoverinfo": "none",
           "marker": {
            "color": "yellow",
            "opacity": 1,
            "size": 10
           },
           "mode": "markers",
           "name": "ball_carrier",
           "type": "scatter",
           "x": [
            17.46
           ],
           "y": [
            17.12
           ]
          },
          {
           "customdata": [
            [
             37075,
             "Von Miller",
             "OLB",
             "BUF",
             0
            ],
            [
             40107,
             "Micah Hyde",
             "FS",
             "BUF",
             0.7
            ],
            [
             40166,
             "Jordan Poyer",
             "SS",
             "BUF",
             0.01
            ],
            [
             41341,
             "DaQuan Jones",
             "DT",
             "BUF",
             0.01
            ],
            [
             44976,
             "Matt Milano",
             "OLB",
             "BUF",
             0
            ],
            [
             46085,
             "Tremaine Edmunds",
             "ILB",
             "BUF",
             0.57
            ],
            [
             46190,
             "Taron Johnson",
             "CB",
             "BUF",
             0.01
            ],
            [
             46232,
             "Tim Settle",
             "DT",
             "BUF",
             0
            ],
            [
             52647,
             "Dane Jackson",
             "CB",
             "BUF",
             0.62
            ],
            [
             53459,
             "Gregory Rousseau",
             "DE",
             "BUF",
             0
            ],
            [
             54488,
             "Kaiir Elam",
             "CB",
             "BUF",
             0.05
            ]
           ],
           "hovertemplate": "<b>nflId:</b> %{customdata[0]}<br><b>Player:</b> %{customdata[1]} %{customdata[2]}<br><b>Team:</b> %{customdata[3]}<br><br><b>Tackling Probability:</b> %{customdata[4]}",
           "marker": {
            "cmax": 1,
            "cmin": 0,
            "color": [
             "#fff5f0",
             "#d92523",
             "#fff4ee",
             "#fff4ef",
             "#fff5f0",
             "#f44d38",
             "#fff4ee",
             "#fff5f0",
             "#f03f2e",
             "#fff4ef",
             "#ffede5"
            ],
            "colorbar": {
             "len": 0.85,
             "thickness": 10,
             "title": {
              "text": "defense"
             },
             "x": 1.03,
             "y": 0.4
            },
            "colorscale": [
             [
              0,
              "rgb(255,245,240)"
             ],
             [
              0.125,
              "rgb(254,224,210)"
             ],
             [
              0.25,
              "rgb(252,187,161)"
             ],
             [
              0.375,
              "rgb(252,146,114)"
             ],
             [
              0.5,
              "rgb(251,106,74)"
             ],
             [
              0.625,
              "rgb(239,59,44)"
             ],
             [
              0.75,
              "rgb(203,24,29)"
             ],
             [
              0.875,
              "rgb(165,15,21)"
             ],
             [
              1,
              "rgb(103,0,13)"
             ]
            ],
            "size": 10
           },
           "mode": "markers",
           "name": "defense",
           "showlegend": false,
           "type": "scatter",
           "x": [
            23.94,
            18.05,
            20.56,
            26.23,
            28.59,
            17.3,
            22.36,
            29.78,
            17.48,
            26.58,
            19.03
           ],
           "y": [
            22.65,
            15.96,
            14.24,
            16.81,
            7.81,
            17.44,
            16.52,
            14.28,
            16.3,
            15.6,
            12.49
           ]
          }
         ],
         "name": "70"
        },
        {
         "data": [
          {
           "hoverinfo": "none",
           "marker": {
            "color": "black",
            "size": 10
           },
           "mode": "markers",
           "name": "offense",
           "type": "scatter",
           "x": [
            39.07,
            17.82,
            21.17,
            25.08,
            26.82,
            34.41,
            23.73,
            25.46,
            37.62,
            26.46
           ],
           "y": [
            29.34,
            18.19,
            17.95,
            11.07,
            20.62,
            11.82,
            14.32,
            14.68,
            17.35,
            0.42
           ]
          },
          {
           "hoverinfo": "none",
           "marker": {
            "color": "yellow",
            "opacity": 1,
            "size": 10
           },
           "mode": "markers",
           "name": "ball_carrier",
           "type": "scatter",
           "x": [
            17.26
           ],
           "y": [
            17.19
           ]
          },
          {
           "customdata": [
            [
             37075,
             "Von Miller",
             "OLB",
             "BUF",
             0
            ],
            [
             40107,
             "Micah Hyde",
             "FS",
             "BUF",
             0.63
            ],
            [
             40166,
             "Jordan Poyer",
             "SS",
             "BUF",
             0.01
            ],
            [
             41341,
             "DaQuan Jones",
             "DT",
             "BUF",
             0
            ],
            [
             44976,
             "Matt Milano",
             "OLB",
             "BUF",
             0
            ],
            [
             46085,
             "Tremaine Edmunds",
             "ILB",
             "BUF",
             0.61
            ],
            [
             46190,
             "Taron Johnson",
             "CB",
             "BUF",
             0.01
            ],
            [
             46232,
             "Tim Settle",
             "DT",
             "BUF",
             0
            ],
            [
             52647,
             "Dane Jackson",
             "CB",
             "BUF",
             0.43
            ],
            [
             53459,
             "Gregory Rousseau",
             "DE",
             "BUF",
             0
            ],
            [
             54488,
             "Kaiir Elam",
             "CB",
             "BUF",
             0.04
            ]
           ],
           "hovertemplate": "<b>nflId:</b> %{customdata[0]}<br><b>Player:</b> %{customdata[1]} %{customdata[2]}<br><b>Team:</b> %{customdata[3]}<br><br><b>Tackling Probability:</b> %{customdata[4]}",
           "marker": {
            "cmax": 1,
            "cmin": 0,
            "color": [
             "#fff5f0",
             "#ec382b",
             "#fff4ef",
             "#fff5f0",
             "#fff5f0",
             "#f14130",
             "#fff4ef",
             "#fff5f0",
             "#fc8060",
             "#fff5f0",
             "#ffeee7"
            ],
            "colorbar": {
             "len": 0.85,
             "thickness": 10,
             "title": {
              "text": "defense"
             },
             "x": 1.03,
             "y": 0.4
            },
            "colorscale": [
             [
              0,
              "rgb(255,245,240)"
             ],
             [
              0.125,
              "rgb(254,224,210)"
             ],
             [
              0.25,
              "rgb(252,187,161)"
             ],
             [
              0.375,
              "rgb(252,146,114)"
             ],
             [
              0.5,
              "rgb(251,106,74)"
             ],
             [
              0.625,
              "rgb(239,59,44)"
             ],
             [
              0.75,
              "rgb(203,24,29)"
             ],
             [
              0.875,
              "rgb(165,15,21)"
             ],
             [
              1,
              "rgb(103,0,13)"
             ]
            ],
            "size": 10
           },
           "mode": "markers",
           "name": "defense",
           "showlegend": false,
           "type": "scatter",
           "x": [
            23.69,
            17.94,
            20.25,
            25.79,
            28.3,
            17.19,
            21.96,
            29.62,
            17.22,
            26.16,
            18.6
           ],
           "y": [
            22.7,
            16.01,
            14.31,
            16.98,
            8.01,
            17.67,
            16.56,
            14.54,
            16.25,
            15.68,
            12.81
           ]
          }
         ],
         "name": "71"
        },
        {
         "data": [
          {
           "hoverinfo": "none",
           "marker": {
            "color": "black",
            "size": 10
           },
           "mode": "markers",
           "name": "offense",
           "type": "scatter",
           "x": [
            38.96,
            17.71,
            20.75,
            24.67,
            26.39,
            34.06,
            23.75,
            25.03,
            37.45,
            26.22
           ],
           "y": [
            29.2,
            18.16,
            17.91,
            11.38,
            20.59,
            11.84,
            14.42,
            14.86,
            17.33,
            0.44
           ]
          },
          {
           "hoverinfo": "none",
           "marker": {
            "color": "yellow",
            "opacity": 1,
            "size": 10
           },
           "mode": "markers",
           "name": "ball_carrier",
           "type": "scatter",
           "x": [
            17.06
           ],
           "y": [
            17.25
           ]
          },
          {
           "customdata": [
            [
             37075,
             "Von Miller",
             "OLB",
             "BUF",
             0
            ],
            [
             40107,
             "Micah Hyde",
             "FS",
             "BUF",
             0.64
            ],
            [
             40166,
             "Jordan Poyer",
             "SS",
             "BUF",
             0.01
            ],
            [
             41341,
             "DaQuan Jones",
             "DT",
             "BUF",
             0
            ],
            [
             44976,
             "Matt Milano",
             "OLB",
             "BUF",
             0
            ],
            [
             46085,
             "Tremaine Edmunds",
             "ILB",
             "BUF",
             0.69
            ],
            [
             46190,
             "Taron Johnson",
             "CB",
             "BUF",
             0.01
            ],
            [
             46232,
             "Tim Settle",
             "DT",
             "BUF",
             0
            ],
            [
             52647,
             "Dane Jackson",
             "CB",
             "BUF",
             0.43
            ],
            [
             53459,
             "Gregory Rousseau",
             "DE",
             "BUF",
             0
            ],
            [
             54488,
             "Kaiir Elam",
             "CB",
             "BUF",
             0.03
            ]
           ],
           "hovertemplate": "<b>nflId:</b> %{customdata[0]}<br><b>Player:</b> %{customdata[1]} %{customdata[2]}<br><b>Team:</b> %{customdata[3]}<br><br><b>Tackling Probability:</b> %{customdata[4]}",
           "marker": {
            "cmax": 1,
            "cmin": 0,
            "color": [
             "#fff5f0",
             "#eb372a",
             "#fff4ee",
             "#fff5f0",
             "#fff5f0",
             "#db2824",
             "#fff4ef",
             "#fff5f0",
             "#fc8161",
             "#fff5f0",
             "#fff1ea"
            ],
            "colorbar": {
             "len": 0.85,
             "thickness": 10,
             "title": {
              "text": "defense"
             },
             "x": 1.03,
             "y": 0.4
            },
            "colorscale": [
             [
              0,
              "rgb(255,245,240)"
             ],
             [
              0.125,
              "rgb(254,224,210)"
             ],
             [
              0.25,
              "rgb(252,187,161)"
             ],
             [
              0.375,
              "rgb(252,146,114)"
             ],
             [
              0.5,
              "rgb(251,106,74)"
             ],
             [
              0.625,
              "rgb(239,59,44)"
             ],
             [
              0.75,
              "rgb(203,24,29)"
             ],
             [
              0.875,
              "rgb(165,15,21)"
             ],
             [
              1,
              "rgb(103,0,13)"
             ]
            ],
            "size": 10
           },
           "mode": "markers",
           "name": "defense",
           "showlegend": false,
           "type": "scatter",
           "x": [
            23.44,
            17.84,
            19.92,
            25.35,
            27.98,
            17.13,
            21.58,
            29.45,
            16.96,
            25.76,
            18.18
           ],
           "y": [
            22.75,
            16.06,
            14.38,
            17.15,
            8.21,
            17.88,
            16.58,
            14.79,
            16.21,
            15.76,
            13.11
           ]
          }
         ],
         "name": "72"
        },
        {
         "data": [
          {
           "hoverinfo": "none",
           "marker": {
            "color": "black",
            "size": 10
           },
           "mode": "markers",
           "name": "offense",
           "type": "scatter",
           "x": [
            38.84,
            17.62,
            20.34,
            24.27,
            25.97,
            33.71,
            23.81,
            24.61,
            16.9,
            37.28,
            25.99
           ],
           "y": [
            29.06,
            18.14,
            17.88,
            11.69,
            20.57,
            11.87,
            14.51,
            15.03,
            17.3,
            17.3,
            0.48
           ]
          },
          {
           "hoverinfo": "none",
           "marker": {
            "color": "yellow",
            "opacity": 0,
            "size": 10
           },
           "mode": "markers",
           "name": "ball_carrier",
           "type": "scatter",
           "x": [
            0
           ],
           "y": [
            0
           ]
          },
          {
           "customdata": [
            [
             37075,
             "Von Miller",
             "OLB",
             "BUF",
             0
            ],
            [
             40107,
             "Micah Hyde",
             "FS",
             "BUF",
             0
            ],
            [
             40166,
             "Jordan Poyer",
             "SS",
             "BUF",
             0
            ],
            [
             41341,
             "DaQuan Jones",
             "DT",
             "BUF",
             0
            ],
            [
             44976,
             "Matt Milano",
             "OLB",
             "BUF",
             0
            ],
            [
             46085,
             "Tremaine Edmunds",
             "ILB",
             "BUF",
             0
            ],
            [
             46190,
             "Taron Johnson",
             "CB",
             "BUF",
             0
            ],
            [
             46232,
             "Tim Settle",
             "DT",
             "BUF",
             0
            ],
            [
             52647,
             "Dane Jackson",
             "CB",
             "BUF",
             0
            ],
            [
             53459,
             "Gregory Rousseau",
             "DE",
             "BUF",
             0
            ],
            [
             54488,
             "Kaiir Elam",
             "CB",
             "BUF",
             0
            ]
           ],
           "hovertemplate": "<b>nflId:</b> %{customdata[0]}<br><b>Player:</b> %{customdata[1]} %{customdata[2]}<br><b>Team:</b> %{customdata[3]}<br><br><b>Tackling Probability:</b> %{customdata[4]}",
           "marker": {
            "cmax": 1,
            "cmin": 0,
            "color": [
             "#fff5f0",
             "#fff5f0",
             "#fff5f0",
             "#fff5f0",
             "#fff5f0",
             "#fff5f0",
             "#fff5f0",
             "#fff5f0",
             "#fff5f0",
             "#fff5f0",
             "#fff5f0"
            ],
            "colorbar": {
             "len": 0.85,
             "thickness": 10,
             "title": {
              "text": "defense"
             },
             "x": 1.03,
             "y": 0.4
            },
            "colorscale": [
             [
              0,
              "rgb(255,245,240)"
             ],
             [
              0.125,
              "rgb(254,224,210)"
             ],
             [
              0.25,
              "rgb(252,187,161)"
             ],
             [
              0.375,
              "rgb(252,146,114)"
             ],
             [
              0.5,
              "rgb(251,106,74)"
             ],
             [
              0.625,
              "rgb(239,59,44)"
             ],
             [
              0.75,
              "rgb(203,24,29)"
             ],
             [
              0.875,
              "rgb(165,15,21)"
             ],
             [
              1,
              "rgb(103,0,13)"
             ]
            ],
            "size": 10
           },
           "mode": "markers",
           "name": "defense",
           "showlegend": false,
           "type": "scatter",
           "x": [
            23.21,
            17.76,
            19.6,
            24.93,
            27.66,
            17.09,
            21.22,
            29.3,
            16.75,
            25.36,
            17.79
           ],
           "y": [
            22.79,
            16.13,
            14.46,
            17.31,
            8.41,
            18.06,
            16.6,
            15.05,
            16.17,
            15.83,
            13.4
           ]
          }
         ],
         "name": "73"
        },
        {
         "data": [
          {
           "hoverinfo": "none",
           "marker": {
            "color": "black",
            "size": 10
           },
           "mode": "markers",
           "name": "offense",
           "type": "scatter",
           "x": [
            38.72,
            17.55,
            19.95,
            23.88,
            25.54,
            33.36,
            23.87,
            24.2,
            16.74,
            37.11,
            25.76
           ],
           "y": [
            28.93,
            18.12,
            17.85,
            12,
            20.54,
            11.9,
            14.59,
            15.2,
            17.36,
            17.28,
            0.53
           ]
          },
          {
           "hoverinfo": "none",
           "marker": {
            "color": "yellow",
            "opacity": 0,
            "size": 10
           },
           "mode": "markers",
           "name": "ball_carrier",
           "type": "scatter",
           "x": [
            0
           ],
           "y": [
            0
           ]
          },
          {
           "customdata": [
            [
             37075,
             "Von Miller",
             "OLB",
             "BUF",
             0
            ],
            [
             40107,
             "Micah Hyde",
             "FS",
             "BUF",
             0
            ],
            [
             40166,
             "Jordan Poyer",
             "SS",
             "BUF",
             0
            ],
            [
             41341,
             "DaQuan Jones",
             "DT",
             "BUF",
             0
            ],
            [
             44976,
             "Matt Milano",
             "OLB",
             "BUF",
             0
            ],
            [
             46085,
             "Tremaine Edmunds",
             "ILB",
             "BUF",
             0
            ],
            [
             46190,
             "Taron Johnson",
             "CB",
             "BUF",
             0
            ],
            [
             46232,
             "Tim Settle",
             "DT",
             "BUF",
             0
            ],
            [
             52647,
             "Dane Jackson",
             "CB",
             "BUF",
             0
            ],
            [
             53459,
             "Gregory Rousseau",
             "DE",
             "BUF",
             0
            ],
            [
             54488,
             "Kaiir Elam",
             "CB",
             "BUF",
             0
            ]
           ],
           "hovertemplate": "<b>nflId:</b> %{customdata[0]}<br><b>Player:</b> %{customdata[1]} %{customdata[2]}<br><b>Team:</b> %{customdata[3]}<br><br><b>Tackling Probability:</b> %{customdata[4]}",
           "marker": {
            "cmax": 1,
            "cmin": 0,
            "color": [
             "#fff5f0",
             "#fff5f0",
             "#fff5f0",
             "#fff5f0",
             "#fff5f0",
             "#fff5f0",
             "#fff5f0",
             "#fff5f0",
             "#fff5f0",
             "#fff5f0",
             "#fff5f0"
            ],
            "colorbar": {
             "len": 0.85,
             "thickness": 10,
             "title": {
              "text": "defense"
             },
             "x": 1.03,
             "y": 0.4
            },
            "colorscale": [
             [
              0,
              "rgb(255,245,240)"
             ],
             [
              0.125,
              "rgb(254,224,210)"
             ],
             [
              0.25,
              "rgb(252,187,161)"
             ],
             [
              0.375,
              "rgb(252,146,114)"
             ],
             [
              0.5,
              "rgb(251,106,74)"
             ],
             [
              0.625,
              "rgb(239,59,44)"
             ],
             [
              0.75,
              "rgb(203,24,29)"
             ],
             [
              0.875,
              "rgb(165,15,21)"
             ],
             [
              1,
              "rgb(103,0,13)"
             ]
            ],
            "size": 10
           },
           "mode": "markers",
           "name": "defense",
           "showlegend": false,
           "type": "scatter",
           "x": [
            22.98,
            17.7,
            19.27,
            24.53,
            27.33,
            17.07,
            20.89,
            29.16,
            16.52,
            24.98,
            17.43
           ],
           "y": [
            22.83,
            16.19,
            14.55,
            17.47,
            8.61,
            18.21,
            16.61,
            15.31,
            16.14,
            15.89,
            13.67
           ]
          }
         ],
         "name": "74"
        },
        {
         "data": [
          {
           "hoverinfo": "none",
           "marker": {
            "color": "black",
            "size": 10
           },
           "mode": "markers",
           "name": "offense",
           "type": "scatter",
           "x": [
            38.6,
            17.51,
            19.57,
            23.49,
            25.1,
            33.02,
            23.94,
            23.79,
            16.68,
            36.93,
            25.55
           ],
           "y": [
            28.8,
            18.11,
            17.81,
            12.31,
            20.5,
            11.92,
            14.68,
            15.36,
            17.37,
            17.28,
            0.6
           ]
          },
          {
           "hoverinfo": "none",
           "marker": {
            "color": "yellow",
            "opacity": 0,
            "size": 10
           },
           "mode": "markers",
           "name": "ball_carrier",
           "type": "scatter",
           "x": [
            0
           ],
           "y": [
            0
           ]
          },
          {
           "customdata": [
            [
             37075,
             "Von Miller",
             "OLB",
             "BUF",
             0
            ],
            [
             40107,
             "Micah Hyde",
             "FS",
             "BUF",
             0
            ],
            [
             40166,
             "Jordan Poyer",
             "SS",
             "BUF",
             0
            ],
            [
             41341,
             "DaQuan Jones",
             "DT",
             "BUF",
             0
            ],
            [
             44976,
             "Matt Milano",
             "OLB",
             "BUF",
             0
            ],
            [
             46085,
             "Tremaine Edmunds",
             "ILB",
             "BUF",
             0
            ],
            [
             46190,
             "Taron Johnson",
             "CB",
             "BUF",
             0
            ],
            [
             46232,
             "Tim Settle",
             "DT",
             "BUF",
             0
            ],
            [
             52647,
             "Dane Jackson",
             "CB",
             "BUF",
             0
            ],
            [
             53459,
             "Gregory Rousseau",
             "DE",
             "BUF",
             0
            ],
            [
             54488,
             "Kaiir Elam",
             "CB",
             "BUF",
             0
            ]
           ],
           "hovertemplate": "<b>nflId:</b> %{customdata[0]}<br><b>Player:</b> %{customdata[1]} %{customdata[2]}<br><b>Team:</b> %{customdata[3]}<br><br><b>Tackling Probability:</b> %{customdata[4]}",
           "marker": {
            "cmax": 1,
            "cmin": 0,
            "color": [
             "#fff5f0",
             "#fff5f0",
             "#fff5f0",
             "#fff5f0",
             "#fff5f0",
             "#fff5f0",
             "#fff5f0",
             "#fff5f0",
             "#fff5f0",
             "#fff5f0",
             "#fff5f0"
            ],
            "colorbar": {
             "len": 0.85,
             "thickness": 10,
             "title": {
              "text": "defense"
             },
             "x": 1.03,
             "y": 0.4
            },
            "colorscale": [
             [
              0,
              "rgb(255,245,240)"
             ],
             [
              0.125,
              "rgb(254,224,210)"
             ],
             [
              0.25,
              "rgb(252,187,161)"
             ],
             [
              0.375,
              "rgb(252,146,114)"
             ],
             [
              0.5,
              "rgb(251,106,74)"
             ],
             [
              0.625,
              "rgb(239,59,44)"
             ],
             [
              0.75,
              "rgb(203,24,29)"
             ],
             [
              0.875,
              "rgb(165,15,21)"
             ],
             [
              1,
              "rgb(103,0,13)"
             ]
            ],
            "size": 10
           },
           "mode": "markers",
           "name": "defense",
           "showlegend": false,
           "type": "scatter",
           "x": [
            22.77,
            17.65,
            18.95,
            24.14,
            27,
            17.07,
            20.58,
            29.01,
            16.49,
            24.62,
            17.09
           ],
           "y": [
            22.86,
            16.25,
            14.64,
            17.62,
            8.8,
            18.35,
            16.62,
            15.58,
            16.14,
            15.96,
            13.91
           ]
          }
         ],
         "name": "75"
        },
        {
         "data": [
          {
           "hoverinfo": "none",
           "marker": {
            "color": "black",
            "size": 10
           },
           "mode": "markers",
           "name": "offense",
           "type": "scatter",
           "x": [
            38.47,
            17.47,
            19.23,
            23.12,
            24.67,
            32.68,
            24.03,
            23.4,
            16.61,
            36.77,
            25.35
           ],
           "y": [
            28.66,
            18.11,
            17.78,
            12.62,
            20.47,
            11.96,
            14.74,
            15.52,
            17.38,
            17.28,
            0.67
           ]
          },
          {
           "hoverinfo": "none",
           "marker": {
            "color": "yellow",
            "opacity": 0,
            "size": 10
           },
           "mode": "markers",
           "name": "ball_carrier",
           "type": "scatter",
           "x": [
            0
           ],
           "y": [
            0
           ]
          },
          {
           "customdata": [
            [
             37075,
             "Von Miller",
             "OLB",
             "BUF",
             0
            ],
            [
             40107,
             "Micah Hyde",
             "FS",
             "BUF",
             0
            ],
            [
             40166,
             "Jordan Poyer",
             "SS",
             "BUF",
             0
            ],
            [
             41341,
             "DaQuan Jones",
             "DT",
             "BUF",
             0
            ],
            [
             44976,
             "Matt Milano",
             "OLB",
             "BUF",
             0
            ],
            [
             46085,
             "Tremaine Edmunds",
             "ILB",
             "BUF",
             0
            ],
            [
             46190,
             "Taron Johnson",
             "CB",
             "BUF",
             0
            ],
            [
             46232,
             "Tim Settle",
             "DT",
             "BUF",
             0
            ],
            [
             52647,
             "Dane Jackson",
             "CB",
             "BUF",
             0
            ],
            [
             53459,
             "Gregory Rousseau",
             "DE",
             "BUF",
             0
            ],
            [
             54488,
             "Kaiir Elam",
             "CB",
             "BUF",
             0
            ]
           ],
           "hovertemplate": "<b>nflId:</b> %{customdata[0]}<br><b>Player:</b> %{customdata[1]} %{customdata[2]}<br><b>Team:</b> %{customdata[3]}<br><br><b>Tackling Probability:</b> %{customdata[4]}",
           "marker": {
            "cmax": 1,
            "cmin": 0,
            "color": [
             "#fff5f0",
             "#fff5f0",
             "#fff5f0",
             "#fff5f0",
             "#fff5f0",
             "#fff5f0",
             "#fff5f0",
             "#fff5f0",
             "#fff5f0",
             "#fff5f0",
             "#fff5f0"
            ],
            "colorbar": {
             "len": 0.85,
             "thickness": 10,
             "title": {
              "text": "defense"
             },
             "x": 1.03,
             "y": 0.4
            },
            "colorscale": [
             [
              0,
              "rgb(255,245,240)"
             ],
             [
              0.125,
              "rgb(254,224,210)"
             ],
             [
              0.25,
              "rgb(252,187,161)"
             ],
             [
              0.375,
              "rgb(252,146,114)"
             ],
             [
              0.5,
              "rgb(251,106,74)"
             ],
             [
              0.625,
              "rgb(239,59,44)"
             ],
             [
              0.75,
              "rgb(203,24,29)"
             ],
             [
              0.875,
              "rgb(165,15,21)"
             ],
             [
              1,
              "rgb(103,0,13)"
             ]
            ],
            "size": 10
           },
           "mode": "markers",
           "name": "defense",
           "showlegend": false,
           "type": "scatter",
           "x": [
            22.56,
            17.62,
            18.65,
            23.77,
            26.67,
            17.06,
            20.3,
            28.87,
            16.42,
            24.27,
            16.79
           ],
           "y": [
            22.87,
            16.29,
            14.73,
            17.77,
            9,
            18.45,
            16.63,
            15.85,
            16.1,
            16.03,
            14.14
           ]
          }
         ],
         "name": "76"
        }
       ],
       "layout": {
        "annotations": [
         {
          "font": {
           "color": "white",
           "size": 25
          },
          "showarrow": false,
          "text": "10",
          "x": 20,
          "y": 48.3
         },
         {
          "font": {
           "color": "white",
           "size": 25
          },
          "showarrow": false,
          "text": "20",
          "x": 30,
          "y": 48.3
         },
         {
          "font": {
           "color": "white",
           "size": 25
          },
          "showarrow": false,
          "text": "30",
          "x": 40,
          "y": 48.3
         },
         {
          "font": {
           "color": "white",
           "size": 25
          },
          "showarrow": false,
          "text": "40",
          "x": 50,
          "y": 48.3
         },
         {
          "font": {
           "color": "white",
           "size": 25
          },
          "showarrow": false,
          "text": "50",
          "x": 60,
          "y": 48.3
         },
         {
          "font": {
           "color": "white",
           "size": 25
          },
          "showarrow": false,
          "text": "40",
          "x": 70,
          "y": 48.3
         },
         {
          "font": {
           "color": "white",
           "size": 25
          },
          "showarrow": false,
          "text": "30",
          "x": 80,
          "y": 48.3
         },
         {
          "font": {
           "color": "white",
           "size": 25
          },
          "showarrow": false,
          "text": "20",
          "x": 90,
          "y": 48.3
         },
         {
          "font": {
           "color": "white",
           "size": 25
          },
          "showarrow": false,
          "text": "10",
          "x": 100,
          "y": 48.3
         },
         {
          "font": {
           "color": "white",
           "size": 25
          },
          "showarrow": false,
          "text": "10",
          "x": 20,
          "y": 5
         },
         {
          "font": {
           "color": "white",
           "size": 25
          },
          "showarrow": false,
          "text": "20",
          "x": 30,
          "y": 5
         },
         {
          "font": {
           "color": "white",
           "size": 25
          },
          "showarrow": false,
          "text": "30",
          "x": 40,
          "y": 5
         },
         {
          "font": {
           "color": "white",
           "size": 25
          },
          "showarrow": false,
          "text": "40",
          "x": 50,
          "y": 5
         },
         {
          "font": {
           "color": "white",
           "size": 25
          },
          "showarrow": false,
          "text": "50",
          "x": 60,
          "y": 5
         },
         {
          "font": {
           "color": "white",
           "size": 25
          },
          "showarrow": false,
          "text": "40",
          "x": 70,
          "y": 5
         },
         {
          "font": {
           "color": "white",
           "size": 25
          },
          "showarrow": false,
          "text": "30",
          "x": 80,
          "y": 5
         },
         {
          "font": {
           "color": "white",
           "size": 25
          },
          "showarrow": false,
          "text": "20",
          "x": 90,
          "y": 5
         },
         {
          "font": {
           "color": "white",
           "size": 25
          },
          "showarrow": false,
          "text": "10",
          "x": 100,
          "y": 5
         }
        ],
        "height": 600,
        "shapes": [
         {
          "fillcolor": "#96B78C",
          "layer": "below",
          "line": {
           "width": 0
          },
          "type": "rect",
          "x0": 0,
          "x1": 120,
          "y0": 0,
          "y1": 53.3
         },
         {
          "fillcolor": "#6F976D",
          "layer": "below",
          "line": {
           "width": 0
          },
          "type": "rect",
          "x0": 0,
          "x1": 10,
          "y0": 0,
          "y1": 53.3
         },
         {
          "fillcolor": "#6F976D",
          "layer": "below",
          "line": {
           "width": 0
          },
          "type": "rect",
          "x0": 110,
          "x1": 120,
          "y0": 0,
          "y1": 53.3
         },
         {
          "layer": "below",
          "line": {
           "color": "white",
           "width": 2
          },
          "type": "line",
          "x0": 10,
          "x1": 10,
          "y0": 0,
          "y1": 53.3
         },
         {
          "layer": "below",
          "line": {
           "color": "white",
           "width": 1
          },
          "type": "line",
          "x0": 15,
          "x1": 15,
          "y0": 0,
          "y1": 53.3
         },
         {
          "layer": "below",
          "line": {
           "color": "white",
           "width": 2
          },
          "type": "line",
          "x0": 20,
          "x1": 20,
          "y0": 0,
          "y1": 53.3
         },
         {
          "layer": "below",
          "line": {
           "color": "white",
           "width": 1
          },
          "type": "line",
          "x0": 25,
          "x1": 25,
          "y0": 0,
          "y1": 53.3
         },
         {
          "layer": "below",
          "line": {
           "color": "white",
           "width": 2
          },
          "type": "line",
          "x0": 30,
          "x1": 30,
          "y0": 0,
          "y1": 53.3
         },
         {
          "layer": "below",
          "line": {
           "color": "white",
           "width": 1
          },
          "type": "line",
          "x0": 35,
          "x1": 35,
          "y0": 0,
          "y1": 53.3
         },
         {
          "layer": "below",
          "line": {
           "color": "white",
           "width": 2
          },
          "type": "line",
          "x0": 40,
          "x1": 40,
          "y0": 0,
          "y1": 53.3
         },
         {
          "layer": "below",
          "line": {
           "color": "white",
           "width": 1
          },
          "type": "line",
          "x0": 45,
          "x1": 45,
          "y0": 0,
          "y1": 53.3
         },
         {
          "layer": "below",
          "line": {
           "color": "white",
           "width": 2
          },
          "type": "line",
          "x0": 50,
          "x1": 50,
          "y0": 0,
          "y1": 53.3
         },
         {
          "layer": "below",
          "line": {
           "color": "white",
           "width": 1
          },
          "type": "line",
          "x0": 55,
          "x1": 55,
          "y0": 0,
          "y1": 53.3
         },
         {
          "layer": "below",
          "line": {
           "color": "white",
           "width": 2
          },
          "type": "line",
          "x0": 60,
          "x1": 60,
          "y0": 0,
          "y1": 53.3
         },
         {
          "layer": "below",
          "line": {
           "color": "white",
           "width": 1
          },
          "type": "line",
          "x0": 65,
          "x1": 65,
          "y0": 0,
          "y1": 53.3
         },
         {
          "layer": "below",
          "line": {
           "color": "white",
           "width": 2
          },
          "type": "line",
          "x0": 70,
          "x1": 70,
          "y0": 0,
          "y1": 53.3
         },
         {
          "layer": "below",
          "line": {
           "color": "white",
           "width": 1
          },
          "type": "line",
          "x0": 75,
          "x1": 75,
          "y0": 0,
          "y1": 53.3
         },
         {
          "layer": "below",
          "line": {
           "color": "white",
           "width": 2
          },
          "type": "line",
          "x0": 80,
          "x1": 80,
          "y0": 0,
          "y1": 53.3
         },
         {
          "layer": "below",
          "line": {
           "color": "white",
           "width": 1
          },
          "type": "line",
          "x0": 85,
          "x1": 85,
          "y0": 0,
          "y1": 53.3
         },
         {
          "layer": "below",
          "line": {
           "color": "white",
           "width": 2
          },
          "type": "line",
          "x0": 90,
          "x1": 90,
          "y0": 0,
          "y1": 53.3
         },
         {
          "layer": "below",
          "line": {
           "color": "white",
           "width": 1
          },
          "type": "line",
          "x0": 95,
          "x1": 95,
          "y0": 0,
          "y1": 53.3
         },
         {
          "layer": "below",
          "line": {
           "color": "white",
           "width": 2
          },
          "type": "line",
          "x0": 100,
          "x1": 100,
          "y0": 0,
          "y1": 53.3
         },
         {
          "layer": "below",
          "line": {
           "color": "white",
           "width": 1
          },
          "type": "line",
          "x0": 105,
          "x1": 105,
          "y0": 0,
          "y1": 53.3
         },
         {
          "layer": "below",
          "line": {
           "color": "white",
           "width": 2
          },
          "type": "line",
          "x0": 110,
          "x1": 110,
          "y0": 0,
          "y1": 53.3
         },
         {
          "layer": "below",
          "line": {
           "color": "#0070C0",
           "width": 2
          },
          "type": "line",
          "x0": 35,
          "x1": 35,
          "y0": 0,
          "y1": 53.3
         },
         {
          "layer": "below",
          "line": {
           "color": "#E9D11F",
           "width": 2
          },
          "type": "line",
          "x0": 25,
          "x1": 25,
          "y0": 0,
          "y1": 53.3
         }
        ],
        "sliders": [
         {
          "active": 0,
          "currentvalue": {
           "font": {
            "size": 20
           },
           "prefix": "frameId: ",
           "visible": true,
           "xanchor": "right"
          },
          "len": 0.9,
          "pad": {
           "b": 10,
           "t": 50
          },
          "steps": [
           {
            "args": [
             [
              "1"
             ],
             {
              "frame": {
               "duration": 50,
               "redraw": false
              },
              "mode": "immediate",
              "transition": {
               "duration": 0
              }
             }
            ],
            "label": "1",
            "method": "animate"
           },
           {
            "args": [
             [
              "2"
             ],
             {
              "frame": {
               "duration": 50,
               "redraw": false
              },
              "mode": "immediate",
              "transition": {
               "duration": 0
              }
             }
            ],
            "label": "2",
            "method": "animate"
           },
           {
            "args": [
             [
              "3"
             ],
             {
              "frame": {
               "duration": 50,
               "redraw": false
              },
              "mode": "immediate",
              "transition": {
               "duration": 0
              }
             }
            ],
            "label": "3",
            "method": "animate"
           },
           {
            "args": [
             [
              "4"
             ],
             {
              "frame": {
               "duration": 50,
               "redraw": false
              },
              "mode": "immediate",
              "transition": {
               "duration": 0
              }
             }
            ],
            "label": "4",
            "method": "animate"
           },
           {
            "args": [
             [
              "5"
             ],
             {
              "frame": {
               "duration": 50,
               "redraw": false
              },
              "mode": "immediate",
              "transition": {
               "duration": 0
              }
             }
            ],
            "label": "5",
            "method": "animate"
           },
           {
            "args": [
             [
              "6"
             ],
             {
              "frame": {
               "duration": 50,
               "redraw": false
              },
              "mode": "immediate",
              "transition": {
               "duration": 0
              }
             }
            ],
            "label": "6",
            "method": "animate"
           },
           {
            "args": [
             [
              "7"
             ],
             {
              "frame": {
               "duration": 50,
               "redraw": false
              },
              "mode": "immediate",
              "transition": {
               "duration": 0
              }
             }
            ],
            "label": "7",
            "method": "animate"
           },
           {
            "args": [
             [
              "8"
             ],
             {
              "frame": {
               "duration": 50,
               "redraw": false
              },
              "mode": "immediate",
              "transition": {
               "duration": 0
              }
             }
            ],
            "label": "8",
            "method": "animate"
           },
           {
            "args": [
             [
              "9"
             ],
             {
              "frame": {
               "duration": 50,
               "redraw": false
              },
              "mode": "immediate",
              "transition": {
               "duration": 0
              }
             }
            ],
            "label": "9",
            "method": "animate"
           },
           {
            "args": [
             [
              "10"
             ],
             {
              "frame": {
               "duration": 50,
               "redraw": false
              },
              "mode": "immediate",
              "transition": {
               "duration": 0
              }
             }
            ],
            "label": "10",
            "method": "animate"
           },
           {
            "args": [
             [
              "11"
             ],
             {
              "frame": {
               "duration": 50,
               "redraw": false
              },
              "mode": "immediate",
              "transition": {
               "duration": 0
              }
             }
            ],
            "label": "11",
            "method": "animate"
           },
           {
            "args": [
             [
              "12"
             ],
             {
              "frame": {
               "duration": 50,
               "redraw": false
              },
              "mode": "immediate",
              "transition": {
               "duration": 0
              }
             }
            ],
            "label": "12",
            "method": "animate"
           },
           {
            "args": [
             [
              "13"
             ],
             {
              "frame": {
               "duration": 50,
               "redraw": false
              },
              "mode": "immediate",
              "transition": {
               "duration": 0
              }
             }
            ],
            "label": "13",
            "method": "animate"
           },
           {
            "args": [
             [
              "14"
             ],
             {
              "frame": {
               "duration": 50,
               "redraw": false
              },
              "mode": "immediate",
              "transition": {
               "duration": 0
              }
             }
            ],
            "label": "14",
            "method": "animate"
           },
           {
            "args": [
             [
              "15"
             ],
             {
              "frame": {
               "duration": 50,
               "redraw": false
              },
              "mode": "immediate",
              "transition": {
               "duration": 0
              }
             }
            ],
            "label": "15",
            "method": "animate"
           },
           {
            "args": [
             [
              "16"
             ],
             {
              "frame": {
               "duration": 50,
               "redraw": false
              },
              "mode": "immediate",
              "transition": {
               "duration": 0
              }
             }
            ],
            "label": "16",
            "method": "animate"
           },
           {
            "args": [
             [
              "17"
             ],
             {
              "frame": {
               "duration": 50,
               "redraw": false
              },
              "mode": "immediate",
              "transition": {
               "duration": 0
              }
             }
            ],
            "label": "17",
            "method": "animate"
           },
           {
            "args": [
             [
              "18"
             ],
             {
              "frame": {
               "duration": 50,
               "redraw": false
              },
              "mode": "immediate",
              "transition": {
               "duration": 0
              }
             }
            ],
            "label": "18",
            "method": "animate"
           },
           {
            "args": [
             [
              "19"
             ],
             {
              "frame": {
               "duration": 50,
               "redraw": false
              },
              "mode": "immediate",
              "transition": {
               "duration": 0
              }
             }
            ],
            "label": "19",
            "method": "animate"
           },
           {
            "args": [
             [
              "20"
             ],
             {
              "frame": {
               "duration": 50,
               "redraw": false
              },
              "mode": "immediate",
              "transition": {
               "duration": 0
              }
             }
            ],
            "label": "20",
            "method": "animate"
           },
           {
            "args": [
             [
              "21"
             ],
             {
              "frame": {
               "duration": 50,
               "redraw": false
              },
              "mode": "immediate",
              "transition": {
               "duration": 0
              }
             }
            ],
            "label": "21",
            "method": "animate"
           },
           {
            "args": [
             [
              "22"
             ],
             {
              "frame": {
               "duration": 50,
               "redraw": false
              },
              "mode": "immediate",
              "transition": {
               "duration": 0
              }
             }
            ],
            "label": "22",
            "method": "animate"
           },
           {
            "args": [
             [
              "23"
             ],
             {
              "frame": {
               "duration": 50,
               "redraw": false
              },
              "mode": "immediate",
              "transition": {
               "duration": 0
              }
             }
            ],
            "label": "23",
            "method": "animate"
           },
           {
            "args": [
             [
              "24"
             ],
             {
              "frame": {
               "duration": 50,
               "redraw": false
              },
              "mode": "immediate",
              "transition": {
               "duration": 0
              }
             }
            ],
            "label": "24",
            "method": "animate"
           },
           {
            "args": [
             [
              "25"
             ],
             {
              "frame": {
               "duration": 50,
               "redraw": false
              },
              "mode": "immediate",
              "transition": {
               "duration": 0
              }
             }
            ],
            "label": "25",
            "method": "animate"
           },
           {
            "args": [
             [
              "26"
             ],
             {
              "frame": {
               "duration": 50,
               "redraw": false
              },
              "mode": "immediate",
              "transition": {
               "duration": 0
              }
             }
            ],
            "label": "26",
            "method": "animate"
           },
           {
            "args": [
             [
              "27"
             ],
             {
              "frame": {
               "duration": 50,
               "redraw": false
              },
              "mode": "immediate",
              "transition": {
               "duration": 0
              }
             }
            ],
            "label": "27",
            "method": "animate"
           },
           {
            "args": [
             [
              "28"
             ],
             {
              "frame": {
               "duration": 50,
               "redraw": false
              },
              "mode": "immediate",
              "transition": {
               "duration": 0
              }
             }
            ],
            "label": "28",
            "method": "animate"
           },
           {
            "args": [
             [
              "29"
             ],
             {
              "frame": {
               "duration": 50,
               "redraw": false
              },
              "mode": "immediate",
              "transition": {
               "duration": 0
              }
             }
            ],
            "label": "29",
            "method": "animate"
           },
           {
            "args": [
             [
              "30"
             ],
             {
              "frame": {
               "duration": 50,
               "redraw": false
              },
              "mode": "immediate",
              "transition": {
               "duration": 0
              }
             }
            ],
            "label": "30",
            "method": "animate"
           },
           {
            "args": [
             [
              "31"
             ],
             {
              "frame": {
               "duration": 50,
               "redraw": false
              },
              "mode": "immediate",
              "transition": {
               "duration": 0
              }
             }
            ],
            "label": "31",
            "method": "animate"
           },
           {
            "args": [
             [
              "32"
             ],
             {
              "frame": {
               "duration": 50,
               "redraw": false
              },
              "mode": "immediate",
              "transition": {
               "duration": 0
              }
             }
            ],
            "label": "32",
            "method": "animate"
           },
           {
            "args": [
             [
              "33"
             ],
             {
              "frame": {
               "duration": 50,
               "redraw": false
              },
              "mode": "immediate",
              "transition": {
               "duration": 0
              }
             }
            ],
            "label": "33",
            "method": "animate"
           },
           {
            "args": [
             [
              "34"
             ],
             {
              "frame": {
               "duration": 50,
               "redraw": false
              },
              "mode": "immediate",
              "transition": {
               "duration": 0
              }
             }
            ],
            "label": "34",
            "method": "animate"
           },
           {
            "args": [
             [
              "35"
             ],
             {
              "frame": {
               "duration": 50,
               "redraw": false
              },
              "mode": "immediate",
              "transition": {
               "duration": 0
              }
             }
            ],
            "label": "35",
            "method": "animate"
           },
           {
            "args": [
             [
              "36"
             ],
             {
              "frame": {
               "duration": 50,
               "redraw": false
              },
              "mode": "immediate",
              "transition": {
               "duration": 0
              }
             }
            ],
            "label": "36",
            "method": "animate"
           },
           {
            "args": [
             [
              "37"
             ],
             {
              "frame": {
               "duration": 50,
               "redraw": false
              },
              "mode": "immediate",
              "transition": {
               "duration": 0
              }
             }
            ],
            "label": "37",
            "method": "animate"
           },
           {
            "args": [
             [
              "38"
             ],
             {
              "frame": {
               "duration": 50,
               "redraw": false
              },
              "mode": "immediate",
              "transition": {
               "duration": 0
              }
             }
            ],
            "label": "38",
            "method": "animate"
           },
           {
            "args": [
             [
              "39"
             ],
             {
              "frame": {
               "duration": 50,
               "redraw": false
              },
              "mode": "immediate",
              "transition": {
               "duration": 0
              }
             }
            ],
            "label": "39",
            "method": "animate"
           },
           {
            "args": [
             [
              "40"
             ],
             {
              "frame": {
               "duration": 50,
               "redraw": false
              },
              "mode": "immediate",
              "transition": {
               "duration": 0
              }
             }
            ],
            "label": "40",
            "method": "animate"
           },
           {
            "args": [
             [
              "41"
             ],
             {
              "frame": {
               "duration": 50,
               "redraw": false
              },
              "mode": "immediate",
              "transition": {
               "duration": 0
              }
             }
            ],
            "label": "41",
            "method": "animate"
           },
           {
            "args": [
             [
              "42"
             ],
             {
              "frame": {
               "duration": 50,
               "redraw": false
              },
              "mode": "immediate",
              "transition": {
               "duration": 0
              }
             }
            ],
            "label": "42",
            "method": "animate"
           },
           {
            "args": [
             [
              "43"
             ],
             {
              "frame": {
               "duration": 50,
               "redraw": false
              },
              "mode": "immediate",
              "transition": {
               "duration": 0
              }
             }
            ],
            "label": "43",
            "method": "animate"
           },
           {
            "args": [
             [
              "44"
             ],
             {
              "frame": {
               "duration": 50,
               "redraw": false
              },
              "mode": "immediate",
              "transition": {
               "duration": 0
              }
             }
            ],
            "label": "44",
            "method": "animate"
           },
           {
            "args": [
             [
              "45"
             ],
             {
              "frame": {
               "duration": 50,
               "redraw": false
              },
              "mode": "immediate",
              "transition": {
               "duration": 0
              }
             }
            ],
            "label": "45",
            "method": "animate"
           },
           {
            "args": [
             [
              "46"
             ],
             {
              "frame": {
               "duration": 50,
               "redraw": false
              },
              "mode": "immediate",
              "transition": {
               "duration": 0
              }
             }
            ],
            "label": "46",
            "method": "animate"
           },
           {
            "args": [
             [
              "47"
             ],
             {
              "frame": {
               "duration": 50,
               "redraw": false
              },
              "mode": "immediate",
              "transition": {
               "duration": 0
              }
             }
            ],
            "label": "47",
            "method": "animate"
           },
           {
            "args": [
             [
              "48"
             ],
             {
              "frame": {
               "duration": 50,
               "redraw": false
              },
              "mode": "immediate",
              "transition": {
               "duration": 0
              }
             }
            ],
            "label": "48",
            "method": "animate"
           },
           {
            "args": [
             [
              "49"
             ],
             {
              "frame": {
               "duration": 50,
               "redraw": false
              },
              "mode": "immediate",
              "transition": {
               "duration": 0
              }
             }
            ],
            "label": "49",
            "method": "animate"
           },
           {
            "args": [
             [
              "50"
             ],
             {
              "frame": {
               "duration": 50,
               "redraw": false
              },
              "mode": "immediate",
              "transition": {
               "duration": 0
              }
             }
            ],
            "label": "50",
            "method": "animate"
           },
           {
            "args": [
             [
              "51"
             ],
             {
              "frame": {
               "duration": 50,
               "redraw": false
              },
              "mode": "immediate",
              "transition": {
               "duration": 0
              }
             }
            ],
            "label": "51",
            "method": "animate"
           },
           {
            "args": [
             [
              "52"
             ],
             {
              "frame": {
               "duration": 50,
               "redraw": false
              },
              "mode": "immediate",
              "transition": {
               "duration": 0
              }
             }
            ],
            "label": "52",
            "method": "animate"
           },
           {
            "args": [
             [
              "53"
             ],
             {
              "frame": {
               "duration": 50,
               "redraw": false
              },
              "mode": "immediate",
              "transition": {
               "duration": 0
              }
             }
            ],
            "label": "53",
            "method": "animate"
           },
           {
            "args": [
             [
              "54"
             ],
             {
              "frame": {
               "duration": 50,
               "redraw": false
              },
              "mode": "immediate",
              "transition": {
               "duration": 0
              }
             }
            ],
            "label": "54",
            "method": "animate"
           },
           {
            "args": [
             [
              "55"
             ],
             {
              "frame": {
               "duration": 50,
               "redraw": false
              },
              "mode": "immediate",
              "transition": {
               "duration": 0
              }
             }
            ],
            "label": "55",
            "method": "animate"
           },
           {
            "args": [
             [
              "56"
             ],
             {
              "frame": {
               "duration": 50,
               "redraw": false
              },
              "mode": "immediate",
              "transition": {
               "duration": 0
              }
             }
            ],
            "label": "56",
            "method": "animate"
           },
           {
            "args": [
             [
              "57"
             ],
             {
              "frame": {
               "duration": 50,
               "redraw": false
              },
              "mode": "immediate",
              "transition": {
               "duration": 0
              }
             }
            ],
            "label": "57",
            "method": "animate"
           },
           {
            "args": [
             [
              "58"
             ],
             {
              "frame": {
               "duration": 50,
               "redraw": false
              },
              "mode": "immediate",
              "transition": {
               "duration": 0
              }
             }
            ],
            "label": "58",
            "method": "animate"
           },
           {
            "args": [
             [
              "59"
             ],
             {
              "frame": {
               "duration": 50,
               "redraw": false
              },
              "mode": "immediate",
              "transition": {
               "duration": 0
              }
             }
            ],
            "label": "59",
            "method": "animate"
           },
           {
            "args": [
             [
              "60"
             ],
             {
              "frame": {
               "duration": 50,
               "redraw": false
              },
              "mode": "immediate",
              "transition": {
               "duration": 0
              }
             }
            ],
            "label": "60",
            "method": "animate"
           },
           {
            "args": [
             [
              "61"
             ],
             {
              "frame": {
               "duration": 50,
               "redraw": false
              },
              "mode": "immediate",
              "transition": {
               "duration": 0
              }
             }
            ],
            "label": "61",
            "method": "animate"
           },
           {
            "args": [
             [
              "62"
             ],
             {
              "frame": {
               "duration": 50,
               "redraw": false
              },
              "mode": "immediate",
              "transition": {
               "duration": 0
              }
             }
            ],
            "label": "62",
            "method": "animate"
           },
           {
            "args": [
             [
              "63"
             ],
             {
              "frame": {
               "duration": 50,
               "redraw": false
              },
              "mode": "immediate",
              "transition": {
               "duration": 0
              }
             }
            ],
            "label": "63",
            "method": "animate"
           },
           {
            "args": [
             [
              "64"
             ],
             {
              "frame": {
               "duration": 50,
               "redraw": false
              },
              "mode": "immediate",
              "transition": {
               "duration": 0
              }
             }
            ],
            "label": "64",
            "method": "animate"
           },
           {
            "args": [
             [
              "65"
             ],
             {
              "frame": {
               "duration": 50,
               "redraw": false
              },
              "mode": "immediate",
              "transition": {
               "duration": 0
              }
             }
            ],
            "label": "65",
            "method": "animate"
           },
           {
            "args": [
             [
              "66"
             ],
             {
              "frame": {
               "duration": 50,
               "redraw": false
              },
              "mode": "immediate",
              "transition": {
               "duration": 0
              }
             }
            ],
            "label": "66",
            "method": "animate"
           },
           {
            "args": [
             [
              "67"
             ],
             {
              "frame": {
               "duration": 50,
               "redraw": false
              },
              "mode": "immediate",
              "transition": {
               "duration": 0
              }
             }
            ],
            "label": "67",
            "method": "animate"
           },
           {
            "args": [
             [
              "68"
             ],
             {
              "frame": {
               "duration": 50,
               "redraw": false
              },
              "mode": "immediate",
              "transition": {
               "duration": 0
              }
             }
            ],
            "label": "68",
            "method": "animate"
           },
           {
            "args": [
             [
              "69"
             ],
             {
              "frame": {
               "duration": 50,
               "redraw": false
              },
              "mode": "immediate",
              "transition": {
               "duration": 0
              }
             }
            ],
            "label": "69",
            "method": "animate"
           },
           {
            "args": [
             [
              "70"
             ],
             {
              "frame": {
               "duration": 50,
               "redraw": false
              },
              "mode": "immediate",
              "transition": {
               "duration": 0
              }
             }
            ],
            "label": "70",
            "method": "animate"
           },
           {
            "args": [
             [
              "71"
             ],
             {
              "frame": {
               "duration": 50,
               "redraw": false
              },
              "mode": "immediate",
              "transition": {
               "duration": 0
              }
             }
            ],
            "label": "71",
            "method": "animate"
           },
           {
            "args": [
             [
              "72"
             ],
             {
              "frame": {
               "duration": 50,
               "redraw": false
              },
              "mode": "immediate",
              "transition": {
               "duration": 0
              }
             }
            ],
            "label": "72",
            "method": "animate"
           },
           {
            "args": [
             [
              "73"
             ],
             {
              "frame": {
               "duration": 50,
               "redraw": false
              },
              "mode": "immediate",
              "transition": {
               "duration": 0
              }
             }
            ],
            "label": "73",
            "method": "animate"
           },
           {
            "args": [
             [
              "74"
             ],
             {
              "frame": {
               "duration": 50,
               "redraw": false
              },
              "mode": "immediate",
              "transition": {
               "duration": 0
              }
             }
            ],
            "label": "74",
            "method": "animate"
           },
           {
            "args": [
             [
              "75"
             ],
             {
              "frame": {
               "duration": 50,
               "redraw": false
              },
              "mode": "immediate",
              "transition": {
               "duration": 0
              }
             }
            ],
            "label": "75",
            "method": "animate"
           },
           {
            "args": [
             [
              "76"
             ],
             {
              "frame": {
               "duration": 50,
               "redraw": false
              },
              "mode": "immediate",
              "transition": {
               "duration": 0
              }
             }
            ],
            "label": "76",
            "method": "animate"
           }
          ],
          "transition": {
           "duration": 50,
           "easing": "cubic-in-out"
          },
          "x": 0.1,
          "xanchor": "left",
          "y": 0,
          "yanchor": "top"
         }
        ],
        "template": {
         "data": {
          "bar": [
           {
            "error_x": {
             "color": "#2a3f5f"
            },
            "error_y": {
             "color": "#2a3f5f"
            },
            "marker": {
             "line": {
              "color": "#E5ECF6",
              "width": 0.5
             },
             "pattern": {
              "fillmode": "overlay",
              "size": 10,
              "solidity": 0.2
             }
            },
            "type": "bar"
           }
          ],
          "barpolar": [
           {
            "marker": {
             "line": {
              "color": "#E5ECF6",
              "width": 0.5
             },
             "pattern": {
              "fillmode": "overlay",
              "size": 10,
              "solidity": 0.2
             }
            },
            "type": "barpolar"
           }
          ],
          "carpet": [
           {
            "aaxis": {
             "endlinecolor": "#2a3f5f",
             "gridcolor": "white",
             "linecolor": "white",
             "minorgridcolor": "white",
             "startlinecolor": "#2a3f5f"
            },
            "baxis": {
             "endlinecolor": "#2a3f5f",
             "gridcolor": "white",
             "linecolor": "white",
             "minorgridcolor": "white",
             "startlinecolor": "#2a3f5f"
            },
            "type": "carpet"
           }
          ],
          "choropleth": [
           {
            "colorbar": {
             "outlinewidth": 0,
             "ticks": ""
            },
            "type": "choropleth"
           }
          ],
          "contour": [
           {
            "colorbar": {
             "outlinewidth": 0,
             "ticks": ""
            },
            "colorscale": [
             [
              0,
              "#0d0887"
             ],
             [
              0.1111111111111111,
              "#46039f"
             ],
             [
              0.2222222222222222,
              "#7201a8"
             ],
             [
              0.3333333333333333,
              "#9c179e"
             ],
             [
              0.4444444444444444,
              "#bd3786"
             ],
             [
              0.5555555555555556,
              "#d8576b"
             ],
             [
              0.6666666666666666,
              "#ed7953"
             ],
             [
              0.7777777777777778,
              "#fb9f3a"
             ],
             [
              0.8888888888888888,
              "#fdca26"
             ],
             [
              1,
              "#f0f921"
             ]
            ],
            "type": "contour"
           }
          ],
          "contourcarpet": [
           {
            "colorbar": {
             "outlinewidth": 0,
             "ticks": ""
            },
            "type": "contourcarpet"
           }
          ],
          "heatmap": [
           {
            "colorbar": {
             "outlinewidth": 0,
             "ticks": ""
            },
            "colorscale": [
             [
              0,
              "#0d0887"
             ],
             [
              0.1111111111111111,
              "#46039f"
             ],
             [
              0.2222222222222222,
              "#7201a8"
             ],
             [
              0.3333333333333333,
              "#9c179e"
             ],
             [
              0.4444444444444444,
              "#bd3786"
             ],
             [
              0.5555555555555556,
              "#d8576b"
             ],
             [
              0.6666666666666666,
              "#ed7953"
             ],
             [
              0.7777777777777778,
              "#fb9f3a"
             ],
             [
              0.8888888888888888,
              "#fdca26"
             ],
             [
              1,
              "#f0f921"
             ]
            ],
            "type": "heatmap"
           }
          ],
          "heatmapgl": [
           {
            "colorbar": {
             "outlinewidth": 0,
             "ticks": ""
            },
            "colorscale": [
             [
              0,
              "#0d0887"
             ],
             [
              0.1111111111111111,
              "#46039f"
             ],
             [
              0.2222222222222222,
              "#7201a8"
             ],
             [
              0.3333333333333333,
              "#9c179e"
             ],
             [
              0.4444444444444444,
              "#bd3786"
             ],
             [
              0.5555555555555556,
              "#d8576b"
             ],
             [
              0.6666666666666666,
              "#ed7953"
             ],
             [
              0.7777777777777778,
              "#fb9f3a"
             ],
             [
              0.8888888888888888,
              "#fdca26"
             ],
             [
              1,
              "#f0f921"
             ]
            ],
            "type": "heatmapgl"
           }
          ],
          "histogram": [
           {
            "marker": {
             "pattern": {
              "fillmode": "overlay",
              "size": 10,
              "solidity": 0.2
             }
            },
            "type": "histogram"
           }
          ],
          "histogram2d": [
           {
            "colorbar": {
             "outlinewidth": 0,
             "ticks": ""
            },
            "colorscale": [
             [
              0,
              "#0d0887"
             ],
             [
              0.1111111111111111,
              "#46039f"
             ],
             [
              0.2222222222222222,
              "#7201a8"
             ],
             [
              0.3333333333333333,
              "#9c179e"
             ],
             [
              0.4444444444444444,
              "#bd3786"
             ],
             [
              0.5555555555555556,
              "#d8576b"
             ],
             [
              0.6666666666666666,
              "#ed7953"
             ],
             [
              0.7777777777777778,
              "#fb9f3a"
             ],
             [
              0.8888888888888888,
              "#fdca26"
             ],
             [
              1,
              "#f0f921"
             ]
            ],
            "type": "histogram2d"
           }
          ],
          "histogram2dcontour": [
           {
            "colorbar": {
             "outlinewidth": 0,
             "ticks": ""
            },
            "colorscale": [
             [
              0,
              "#0d0887"
             ],
             [
              0.1111111111111111,
              "#46039f"
             ],
             [
              0.2222222222222222,
              "#7201a8"
             ],
             [
              0.3333333333333333,
              "#9c179e"
             ],
             [
              0.4444444444444444,
              "#bd3786"
             ],
             [
              0.5555555555555556,
              "#d8576b"
             ],
             [
              0.6666666666666666,
              "#ed7953"
             ],
             [
              0.7777777777777778,
              "#fb9f3a"
             ],
             [
              0.8888888888888888,
              "#fdca26"
             ],
             [
              1,
              "#f0f921"
             ]
            ],
            "type": "histogram2dcontour"
           }
          ],
          "mesh3d": [
           {
            "colorbar": {
             "outlinewidth": 0,
             "ticks": ""
            },
            "type": "mesh3d"
           }
          ],
          "parcoords": [
           {
            "line": {
             "colorbar": {
              "outlinewidth": 0,
              "ticks": ""
             }
            },
            "type": "parcoords"
           }
          ],
          "pie": [
           {
            "automargin": true,
            "type": "pie"
           }
          ],
          "scatter": [
           {
            "fillpattern": {
             "fillmode": "overlay",
             "size": 10,
             "solidity": 0.2
            },
            "type": "scatter"
           }
          ],
          "scatter3d": [
           {
            "line": {
             "colorbar": {
              "outlinewidth": 0,
              "ticks": ""
             }
            },
            "marker": {
             "colorbar": {
              "outlinewidth": 0,
              "ticks": ""
             }
            },
            "type": "scatter3d"
           }
          ],
          "scattercarpet": [
           {
            "marker": {
             "colorbar": {
              "outlinewidth": 0,
              "ticks": ""
             }
            },
            "type": "scattercarpet"
           }
          ],
          "scattergeo": [
           {
            "marker": {
             "colorbar": {
              "outlinewidth": 0,
              "ticks": ""
             }
            },
            "type": "scattergeo"
           }
          ],
          "scattergl": [
           {
            "marker": {
             "colorbar": {
              "outlinewidth": 0,
              "ticks": ""
             }
            },
            "type": "scattergl"
           }
          ],
          "scattermapbox": [
           {
            "marker": {
             "colorbar": {
              "outlinewidth": 0,
              "ticks": ""
             }
            },
            "type": "scattermapbox"
           }
          ],
          "scatterpolar": [
           {
            "marker": {
             "colorbar": {
              "outlinewidth": 0,
              "ticks": ""
             }
            },
            "type": "scatterpolar"
           }
          ],
          "scatterpolargl": [
           {
            "marker": {
             "colorbar": {
              "outlinewidth": 0,
              "ticks": ""
             }
            },
            "type": "scatterpolargl"
           }
          ],
          "scatterternary": [
           {
            "marker": {
             "colorbar": {
              "outlinewidth": 0,
              "ticks": ""
             }
            },
            "type": "scatterternary"
           }
          ],
          "surface": [
           {
            "colorbar": {
             "outlinewidth": 0,
             "ticks": ""
            },
            "colorscale": [
             [
              0,
              "#0d0887"
             ],
             [
              0.1111111111111111,
              "#46039f"
             ],
             [
              0.2222222222222222,
              "#7201a8"
             ],
             [
              0.3333333333333333,
              "#9c179e"
             ],
             [
              0.4444444444444444,
              "#bd3786"
             ],
             [
              0.5555555555555556,
              "#d8576b"
             ],
             [
              0.6666666666666666,
              "#ed7953"
             ],
             [
              0.7777777777777778,
              "#fb9f3a"
             ],
             [
              0.8888888888888888,
              "#fdca26"
             ],
             [
              1,
              "#f0f921"
             ]
            ],
            "type": "surface"
           }
          ],
          "table": [
           {
            "cells": {
             "fill": {
              "color": "#EBF0F8"
             },
             "line": {
              "color": "white"
             }
            },
            "header": {
             "fill": {
              "color": "#C8D4E3"
             },
             "line": {
              "color": "white"
             }
            },
            "type": "table"
           }
          ]
         },
         "layout": {
          "annotationdefaults": {
           "arrowcolor": "#2a3f5f",
           "arrowhead": 0,
           "arrowwidth": 1
          },
          "autotypenumbers": "strict",
          "coloraxis": {
           "colorbar": {
            "outlinewidth": 0,
            "ticks": ""
           }
          },
          "colorscale": {
           "diverging": [
            [
             0,
             "#8e0152"
            ],
            [
             0.1,
             "#c51b7d"
            ],
            [
             0.2,
             "#de77ae"
            ],
            [
             0.3,
             "#f1b6da"
            ],
            [
             0.4,
             "#fde0ef"
            ],
            [
             0.5,
             "#f7f7f7"
            ],
            [
             0.6,
             "#e6f5d0"
            ],
            [
             0.7,
             "#b8e186"
            ],
            [
             0.8,
             "#7fbc41"
            ],
            [
             0.9,
             "#4d9221"
            ],
            [
             1,
             "#276419"
            ]
           ],
           "sequential": [
            [
             0,
             "#0d0887"
            ],
            [
             0.1111111111111111,
             "#46039f"
            ],
            [
             0.2222222222222222,
             "#7201a8"
            ],
            [
             0.3333333333333333,
             "#9c179e"
            ],
            [
             0.4444444444444444,
             "#bd3786"
            ],
            [
             0.5555555555555556,
             "#d8576b"
            ],
            [
             0.6666666666666666,
             "#ed7953"
            ],
            [
             0.7777777777777778,
             "#fb9f3a"
            ],
            [
             0.8888888888888888,
             "#fdca26"
            ],
            [
             1,
             "#f0f921"
            ]
           ],
           "sequentialminus": [
            [
             0,
             "#0d0887"
            ],
            [
             0.1111111111111111,
             "#46039f"
            ],
            [
             0.2222222222222222,
             "#7201a8"
            ],
            [
             0.3333333333333333,
             "#9c179e"
            ],
            [
             0.4444444444444444,
             "#bd3786"
            ],
            [
             0.5555555555555556,
             "#d8576b"
            ],
            [
             0.6666666666666666,
             "#ed7953"
            ],
            [
             0.7777777777777778,
             "#fb9f3a"
            ],
            [
             0.8888888888888888,
             "#fdca26"
            ],
            [
             1,
             "#f0f921"
            ]
           ]
          },
          "colorway": [
           "#636efa",
           "#EF553B",
           "#00cc96",
           "#ab63fa",
           "#FFA15A",
           "#19d3f3",
           "#FF6692",
           "#B6E880",
           "#FF97FF",
           "#FECB52"
          ],
          "font": {
           "color": "#2a3f5f"
          },
          "geo": {
           "bgcolor": "white",
           "lakecolor": "white",
           "landcolor": "#E5ECF6",
           "showlakes": true,
           "showland": true,
           "subunitcolor": "white"
          },
          "hoverlabel": {
           "align": "left"
          },
          "hovermode": "closest",
          "mapbox": {
           "style": "light"
          },
          "paper_bgcolor": "white",
          "plot_bgcolor": "#E5ECF6",
          "polar": {
           "angularaxis": {
            "gridcolor": "white",
            "linecolor": "white",
            "ticks": ""
           },
           "bgcolor": "#E5ECF6",
           "radialaxis": {
            "gridcolor": "white",
            "linecolor": "white",
            "ticks": ""
           }
          },
          "scene": {
           "xaxis": {
            "backgroundcolor": "#E5ECF6",
            "gridcolor": "white",
            "gridwidth": 2,
            "linecolor": "white",
            "showbackground": true,
            "ticks": "",
            "zerolinecolor": "white"
           },
           "yaxis": {
            "backgroundcolor": "#E5ECF6",
            "gridcolor": "white",
            "gridwidth": 2,
            "linecolor": "white",
            "showbackground": true,
            "ticks": "",
            "zerolinecolor": "white"
           },
           "zaxis": {
            "backgroundcolor": "#E5ECF6",
            "gridcolor": "white",
            "gridwidth": 2,
            "linecolor": "white",
            "showbackground": true,
            "ticks": "",
            "zerolinecolor": "white"
           }
          },
          "shapedefaults": {
           "line": {
            "color": "#2a3f5f"
           }
          },
          "ternary": {
           "aaxis": {
            "gridcolor": "white",
            "linecolor": "white",
            "ticks": ""
           },
           "baxis": {
            "gridcolor": "white",
            "linecolor": "white",
            "ticks": ""
           },
           "bgcolor": "#E5ECF6",
           "caxis": {
            "gridcolor": "white",
            "linecolor": "white",
            "ticks": ""
           }
          },
          "title": {
           "x": 0.05
          },
          "xaxis": {
           "automargin": true,
           "gridcolor": "white",
           "linecolor": "white",
           "ticks": "",
           "title": {
            "standoff": 15
           },
           "zerolinecolor": "white",
           "zerolinewidth": 2
          },
          "yaxis": {
           "automargin": true,
           "gridcolor": "white",
           "linecolor": "white",
           "ticks": "",
           "title": {
            "standoff": 15
           },
           "zerolinecolor": "white",
           "zerolinewidth": 2
          }
         }
        },
        "updatemenus": [
         {
          "buttons": [
           {
            "args": [
             null,
             {
              "frame": {
               "duration": 50,
               "redraw": false
              },
              "fromcurrent": true,
              "transition": {
               "duration": 0
              }
             }
            ],
            "label": "⏵",
            "method": "animate"
           },
           {
            "args": [
             [
              null
             ],
             {
              "frame": {
               "duration": 0,
               "redraw": false
              },
              "mode": "immediate",
              "transition": {
               "duration": 0
              }
             }
            ],
            "label": "⏸",
            "method": "animate"
           }
          ],
          "direction": "left",
          "pad": {
           "r": 10,
           "t": 87
          },
          "showactive": false,
          "type": "buttons",
          "x": 0.1,
          "xanchor": "right",
          "y": 0,
          "yanchor": "top"
         }
        ],
        "xaxis": {
         "range": [
          -5,
          125
         ],
         "visible": false
        },
        "yaxis": {
         "range": [
          -5,
          58.3
         ],
         "scaleanchor": "x",
         "scaleratio": 1,
         "visible": false
        }
       }
      }
     },
     "metadata": {},
     "output_type": "display_data"
    }
   ],
   "source": [
    "field_proba.fig.show()"
   ]
  },
  {
   "cell_type": "code",
   "execution_count": 83,
   "metadata": {},
   "outputs": [],
   "source": [
    "field_proba.save_as_gif(\"animated_play_1\")"
   ]
  }
 ],
 "metadata": {
  "kernelspec": {
   "display_name": "Python 3 (ipykernel)",
   "language": "python",
   "name": "python3"
  },
  "language_info": {
   "codemirror_mode": {
    "name": "ipython",
    "version": 3
   },
   "file_extension": ".py",
   "mimetype": "text/x-python",
   "name": "python",
   "nbconvert_exporter": "python",
   "pygments_lexer": "ipython3",
   "version": "3.10.13"
  }
 },
 "nbformat": 4,
 "nbformat_minor": 2
}
