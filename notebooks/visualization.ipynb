{
 "cells": [
  {
   "cell_type": "code",
   "execution_count": 1,
   "metadata": {},
   "outputs": [],
   "source": [
    "%load_ext autoreload\n",
    "%autoreload 2"
   ]
  },
  {
   "cell_type": "code",
   "execution_count": 2,
   "metadata": {},
   "outputs": [],
   "source": [
    "import pandas as pd\n",
    "\n",
    "from expected_tackling.visualization import Field"
   ]
  },
  {
   "cell_type": "code",
   "execution_count": 3,
   "metadata": {},
   "outputs": [],
   "source": [
    "test_play_tracking = pd.read_csv(\"../data/test_play_tracking.csv\")"
   ]
  },
  {
   "cell_type": "code",
   "execution_count": 4,
   "metadata": {},
   "outputs": [],
   "source": [
    "field = Field()\n",
    "field.draw_scrimmage_and_first_down(**test_play_tracking[[\"absoluteYardlineNumber\", \"yardsToGo\", \"playDirection\"]].iloc[0].to_dict())\n",
    "field.create_animation(test_play_tracking)"
   ]
  },
  {
   "cell_type": "code",
   "execution_count": 5,
   "metadata": {},
   "outputs": [
    {
     "data": {
      "application/vnd.plotly.v1+json": {
       "config": {
        "plotlyServerURL": "https://plot.ly"
       },
       "data": [
        {
         "hoverinfo": "none",
         "marker": {
          "color": "white",
          "size": 10
         },
         "mode": "markers",
         "name": "defense",
         "type": "scatter",
         "x": [
          67.32,
          71.28,
          64.67,
          68.95,
          71.11,
          71.34,
          57.93,
          70.55,
          71.08,
          71.48,
          60.84
         ],
         "y": [
          29.83,
          26.41,
          40.76,
          24.25,
          35.96,
          31.73,
          22.18,
          19.07,
          29.01,
          22.81,
          34.71
         ]
        },
        {
         "hoverinfo": "none",
         "marker": {
          "color": "black",
          "size": 10
         },
         "mode": "markers",
         "name": "offense",
         "type": "scatter",
         "x": [
          73.13,
          72.5,
          73.03,
          73.15,
          73.53,
          79.61,
          73.86,
          73.06,
          72.93,
          74.47,
          73.16
         ],
         "y": [
          27.64,
          29.46,
          39.5,
          26.04,
          29.54,
          29.56,
          34.58,
          31.23,
          20.38,
          24.78,
          32.8
         ]
        },
        {
         "hoverinfo": "none",
         "marker": {
          "color": "yellow",
          "opacity": 0,
          "size": 10
         },
         "mode": "markers",
         "name": "ball_carrier",
         "type": "scatter",
         "x": [
          0
         ],
         "y": [
          0
         ]
        }
       ],
       "frames": [
        {
         "data": [
          {
           "hoverinfo": "none",
           "marker": {
            "color": "white",
            "size": 10
           },
           "mode": "markers",
           "name": "defense",
           "type": "scatter",
           "x": [
            67.32,
            71.28,
            64.67,
            68.95,
            71.11,
            71.34,
            57.93,
            70.55,
            71.08,
            71.48,
            60.84
           ],
           "y": [
            29.83,
            26.41,
            40.76,
            24.25,
            35.96,
            31.73,
            22.18,
            19.07,
            29.01,
            22.81,
            34.71
           ]
          },
          {
           "hoverinfo": "none",
           "marker": {
            "color": "black",
            "size": 10
           },
           "mode": "markers",
           "name": "offense",
           "type": "scatter",
           "x": [
            73.13,
            72.5,
            73.03,
            73.15,
            73.53,
            79.61,
            73.86,
            73.06,
            72.93,
            74.47,
            73.16
           ],
           "y": [
            27.64,
            29.46,
            39.5,
            26.04,
            29.54,
            29.56,
            34.58,
            31.23,
            20.38,
            24.78,
            32.8
           ]
          },
          {
           "hoverinfo": "none",
           "marker": {
            "color": "yellow",
            "opacity": 0,
            "size": 10
           },
           "mode": "markers",
           "name": "ball_carrier",
           "type": "scatter",
           "x": [
            0
           ],
           "y": [
            0
           ]
          }
         ],
         "name": "1"
        },
        {
         "data": [
          {
           "hoverinfo": "none",
           "marker": {
            "color": "white",
            "size": 10
           },
           "mode": "markers",
           "name": "defense",
           "type": "scatter",
           "x": [
            67.32,
            71.29,
            64.67,
            68.94,
            71.1,
            71.33,
            57.92,
            70.59,
            71.08,
            71.48,
            60.84
           ],
           "y": [
            29.84,
            26.41,
            40.77,
            24.28,
            35.96,
            31.75,
            22.18,
            19.12,
            29.01,
            22.84,
            34.71
           ]
          },
          {
           "hoverinfo": "none",
           "marker": {
            "color": "black",
            "size": 10
           },
           "mode": "markers",
           "name": "offense",
           "type": "scatter",
           "x": [
            73.13,
            72.5,
            73.03,
            73.15,
            73.53,
            79.6,
            73.82,
            73.06,
            72.93,
            74.5,
            73.16
           ],
           "y": [
            27.64,
            29.47,
            39.5,
            26.04,
            29.54,
            29.56,
            34.59,
            31.23,
            20.38,
            25,
            32.8
           ]
          },
          {
           "hoverinfo": "none",
           "marker": {
            "color": "yellow",
            "opacity": 0,
            "size": 10
           },
           "mode": "markers",
           "name": "ball_carrier",
           "type": "scatter",
           "x": [
            0
           ],
           "y": [
            0
           ]
          }
         ],
         "name": "2"
        },
        {
         "data": [
          {
           "hoverinfo": "none",
           "marker": {
            "color": "white",
            "size": 10
           },
           "mode": "markers",
           "name": "defense",
           "type": "scatter",
           "x": [
            67.32,
            71.29,
            64.66,
            68.93,
            71.1,
            71.33,
            57.91,
            70.62,
            71.08,
            71.47,
            60.84
           ],
           "y": [
            29.86,
            26.41,
            40.79,
            24.32,
            35.95,
            31.76,
            22.19,
            19.16,
            29.01,
            22.87,
            34.71
           ]
          },
          {
           "hoverinfo": "none",
           "marker": {
            "color": "black",
            "size": 10
           },
           "mode": "markers",
           "name": "offense",
           "type": "scatter",
           "x": [
            73.13,
            72.51,
            73.03,
            73.15,
            73.53,
            79.6,
            73.84,
            73.06,
            72.93,
            74.53,
            73.15
           ],
           "y": [
            27.63,
            29.47,
            39.5,
            26.04,
            29.55,
            29.56,
            34.57,
            31.23,
            20.38,
            25.26,
            32.8
           ]
          },
          {
           "hoverinfo": "none",
           "marker": {
            "color": "yellow",
            "opacity": 0,
            "size": 10
           },
           "mode": "markers",
           "name": "ball_carrier",
           "type": "scatter",
           "x": [
            0
           ],
           "y": [
            0
           ]
          }
         ],
         "name": "3"
        },
        {
         "data": [
          {
           "hoverinfo": "none",
           "marker": {
            "color": "white",
            "size": 10
           },
           "mode": "markers",
           "name": "defense",
           "type": "scatter",
           "x": [
            67.33,
            71.29,
            64.66,
            68.91,
            71.1,
            71.33,
            57.87,
            70.64,
            71.08,
            71.45,
            60.85
           ],
           "y": [
            29.89,
            26.41,
            40.81,
            24.37,
            35.94,
            31.76,
            22.19,
            19.2,
            29.01,
            22.91,
            34.71
           ]
          },
          {
           "hoverinfo": "none",
           "marker": {
            "color": "black",
            "size": 10
           },
           "mode": "markers",
           "name": "offense",
           "type": "scatter",
           "x": [
            73.13,
            72.51,
            73.03,
            73.15,
            73.53,
            79.6,
            73.84,
            73.06,
            72.93,
            74.56,
            73.15
           ],
           "y": [
            27.64,
            29.47,
            39.5,
            26.04,
            29.55,
            29.56,
            34.57,
            31.23,
            20.38,
            25.57,
            32.8
           ]
          },
          {
           "hoverinfo": "none",
           "marker": {
            "color": "yellow",
            "opacity": 0,
            "size": 10
           },
           "mode": "markers",
           "name": "ball_carrier",
           "type": "scatter",
           "x": [
            0
           ],
           "y": [
            0
           ]
          }
         ],
         "name": "4"
        },
        {
         "data": [
          {
           "hoverinfo": "none",
           "marker": {
            "color": "white",
            "size": 10
           },
           "mode": "markers",
           "name": "defense",
           "type": "scatter",
           "x": [
            67.35,
            71.29,
            64.66,
            68.89,
            71.09,
            71.33,
            57.82,
            70.66,
            71.08,
            71.45,
            60.85
           ],
           "y": [
            29.92,
            26.42,
            40.85,
            24.42,
            35.94,
            31.77,
            22.16,
            19.24,
            29.01,
            22.97,
            34.71
           ]
          },
          {
           "hoverinfo": "none",
           "marker": {
            "color": "black",
            "size": 10
           },
           "mode": "markers",
           "name": "offense",
           "type": "scatter",
           "x": [
            73.13,
            72.5,
            73.03,
            73.15,
            73.54,
            79.6,
            73.83,
            73.06,
            72.94,
            74.58,
            73.15
           ],
           "y": [
            27.65,
            29.46,
            39.5,
            26.04,
            29.56,
            29.56,
            34.54,
            31.24,
            20.38,
            25.93,
            32.8
           ]
          },
          {
           "hoverinfo": "none",
           "marker": {
            "color": "yellow",
            "opacity": 0,
            "size": 10
           },
           "mode": "markers",
           "name": "ball_carrier",
           "type": "scatter",
           "x": [
            0
           ],
           "y": [
            0
           ]
          }
         ],
         "name": "5"
        },
        {
         "data": [
          {
           "hoverinfo": "none",
           "marker": {
            "color": "white",
            "size": 10
           },
           "mode": "markers",
           "name": "defense",
           "type": "scatter",
           "x": [
            67.35,
            71.3,
            64.66,
            68.87,
            71.09,
            71.33,
            57.77,
            70.67,
            71.09,
            71.44,
            60.86
           ],
           "y": [
            29.96,
            26.43,
            40.9,
            24.48,
            35.93,
            31.77,
            22.13,
            19.27,
            29.03,
            23.01,
            34.72
           ]
          },
          {
           "hoverinfo": "none",
           "marker": {
            "color": "black",
            "size": 10
           },
           "mode": "markers",
           "name": "offense",
           "type": "scatter",
           "x": [
            73.13,
            72.5,
            73.03,
            73.15,
            79.6,
            73.82,
            73.06,
            72.93,
            74.61,
            73.15
           ],
           "y": [
            27.67,
            29.47,
            39.5,
            26.05,
            29.56,
            34.57,
            31.24,
            20.38,
            26.33,
            32.8
           ]
          },
          {
           "hoverinfo": "none",
           "marker": {
            "color": "yellow",
            "opacity": 1,
            "size": 10
           },
           "mode": "markers",
           "name": "ball_carrier",
           "type": "scatter",
           "x": [
            73.55
           ],
           "y": [
            29.56
           ]
          }
         ],
         "name": "6"
        },
        {
         "data": [
          {
           "hoverinfo": "none",
           "marker": {
            "color": "white",
            "size": 10
           },
           "mode": "markers",
           "name": "defense",
           "type": "scatter",
           "x": [
            67.34,
            71.31,
            64.65,
            68.84,
            71.1,
            71.33,
            57.72,
            70.68,
            71.09,
            71.43,
            60.86
           ],
           "y": [
            29.99,
            26.43,
            40.95,
            24.55,
            35.94,
            31.77,
            22.12,
            19.3,
            29.04,
            23.06,
            34.72
           ]
          },
          {
           "hoverinfo": "none",
           "marker": {
            "color": "black",
            "size": 10
           },
           "mode": "markers",
           "name": "offense",
           "type": "scatter",
           "x": [
            73.11,
            72.49,
            73.03,
            73.15,
            79.6,
            73.81,
            73.06,
            72.93,
            74.64,
            73.15
           ],
           "y": [
            27.71,
            29.49,
            39.5,
            26.05,
            29.56,
            34.57,
            31.24,
            20.38,
            26.78,
            32.8
           ]
          },
          {
           "hoverinfo": "none",
           "marker": {
            "color": "yellow",
            "opacity": 1,
            "size": 10
           },
           "mode": "markers",
           "name": "ball_carrier",
           "type": "scatter",
           "x": [
            73.55
           ],
           "y": [
            29.57
           ]
          }
         ],
         "name": "7"
        },
        {
         "data": [
          {
           "hoverinfo": "none",
           "marker": {
            "color": "white",
            "size": 10
           },
           "mode": "markers",
           "name": "defense",
           "type": "scatter",
           "x": [
            67.34,
            71.32,
            64.64,
            68.81,
            71.11,
            71.34,
            57.63,
            70.68,
            71.09,
            71.43,
            60.87
           ],
           "y": [
            30.07,
            26.44,
            40.99,
            24.62,
            35.95,
            31.78,
            22.09,
            19.32,
            29.05,
            23.09,
            34.73
           ]
          },
          {
           "hoverinfo": "none",
           "marker": {
            "color": "black",
            "size": 10
           },
           "mode": "markers",
           "name": "offense",
           "type": "scatter",
           "x": [
            73.09,
            72.48,
            73.02,
            73.14,
            79.6,
            73.8,
            73.05,
            72.93,
            74.67,
            73.14
           ],
           "y": [
            27.79,
            29.52,
            39.5,
            26.05,
            29.57,
            34.58,
            31.24,
            20.38,
            27.27,
            32.8
           ]
          },
          {
           "hoverinfo": "none",
           "marker": {
            "color": "yellow",
            "opacity": 1,
            "size": 10
           },
           "mode": "markers",
           "name": "ball_carrier",
           "type": "scatter",
           "x": [
            73.56
           ],
           "y": [
            29.57
           ]
          }
         ],
         "name": "8"
        },
        {
         "data": [
          {
           "hoverinfo": "none",
           "marker": {
            "color": "white",
            "size": 10
           },
           "mode": "markers",
           "name": "defense",
           "type": "scatter",
           "x": [
            67.36,
            71.33,
            64.63,
            68.79,
            71.12,
            71.35,
            57.54,
            70.68,
            71.09,
            71.43,
            60.87
           ],
           "y": [
            30.12,
            26.47,
            41.04,
            24.69,
            35.96,
            31.8,
            22.04,
            19.33,
            29.06,
            23.14,
            34.73
           ]
          },
          {
           "hoverinfo": "none",
           "marker": {
            "color": "black",
            "size": 10
           },
           "mode": "markers",
           "name": "offense",
           "type": "scatter",
           "x": [
            73.05,
            72.44,
            73.02,
            73.13,
            79.6,
            73.79,
            73.04,
            72.92,
            74.68,
            73.12
           ],
           "y": [
            27.92,
            29.57,
            39.5,
            26.07,
            29.57,
            34.64,
            31.26,
            20.38,
            27.8,
            32.81
           ]
          },
          {
           "hoverinfo": "none",
           "marker": {
            "color": "yellow",
            "opacity": 1,
            "size": 10
           },
           "mode": "markers",
           "name": "ball_carrier",
           "type": "scatter",
           "x": [
            73.6
           ],
           "y": [
            29.6
           ]
          }
         ],
         "name": "9"
        },
        {
         "data": [
          {
           "hoverinfo": "none",
           "marker": {
            "color": "white",
            "size": 10
           },
           "mode": "markers",
           "name": "defense",
           "type": "scatter",
           "x": [
            67.37,
            71.36,
            64.62,
            68.77,
            71.13,
            71.37,
            57.46,
            70.69,
            71.11,
            71.43,
            60.87
           ],
           "y": [
            30.17,
            26.52,
            41.11,
            24.79,
            35.99,
            31.82,
            22.01,
            19.34,
            29.08,
            23.22,
            34.75
           ]
          },
          {
           "hoverinfo": "none",
           "marker": {
            "color": "black",
            "size": 10
           },
           "mode": "markers",
           "name": "offense",
           "type": "scatter",
           "x": [
            72.99,
            72.39,
            72.99,
            73.1,
            79.6,
            73.79,
            73.02,
            72.92,
            74.69,
            73.07
           ],
           "y": [
            28.09,
            29.65,
            39.5,
            26.11,
            29.59,
            34.66,
            31.32,
            20.39,
            28.36,
            32.82
           ]
          },
          {
           "hoverinfo": "none",
           "marker": {
            "color": "yellow",
            "opacity": 1,
            "size": 10
           },
           "mode": "markers",
           "name": "ball_carrier",
           "type": "scatter",
           "x": [
            73.65
           ],
           "y": [
            29.65
           ]
          }
         ],
         "name": "10"
        },
        {
         "data": [
          {
           "hoverinfo": "none",
           "marker": {
            "color": "white",
            "size": 10
           },
           "mode": "markers",
           "name": "defense",
           "type": "scatter",
           "x": [
            67.4,
            71.4,
            64.6,
            68.75,
            71.13,
            71.39,
            57.38,
            70.69,
            71.13,
            71.46,
            60.87
           ],
           "y": [
            30.24,
            26.63,
            41.18,
            24.9,
            36.02,
            31.86,
            21.96,
            19.34,
            29.13,
            23.33,
            34.78
           ]
          },
          {
           "hoverinfo": "none",
           "marker": {
            "color": "black",
            "size": 10
           },
           "mode": "markers",
           "name": "offense",
           "type": "scatter",
           "x": [
            72.91,
            72.33,
            72.94,
            73.03,
            79.59,
            73.78,
            72.99,
            72.89,
            74.67,
            73
           ],
           "y": [
            28.31,
            29.75,
            39.51,
            26.21,
            29.65,
            34.7,
            31.41,
            20.4,
            28.94,
            32.85
           ]
          },
          {
           "hoverinfo": "none",
           "marker": {
            "color": "yellow",
            "opacity": 1,
            "size": 10
           },
           "mode": "markers",
           "name": "ball_carrier",
           "type": "scatter",
           "x": [
            73.73
           ],
           "y": [
            29.72
           ]
          }
         ],
         "name": "11"
        },
        {
         "data": [
          {
           "hoverinfo": "none",
           "marker": {
            "color": "white",
            "size": 10
           },
           "mode": "markers",
           "name": "defense",
           "type": "scatter",
           "x": [
            67.42,
            71.47,
            64.58,
            68.73,
            71.15,
            71.44,
            57.28,
            70.69,
            71.16,
            71.5,
            60.87
           ],
           "y": [
            30.31,
            26.78,
            41.26,
            25.02,
            36.07,
            31.92,
            21.92,
            19.35,
            29.19,
            23.48,
            34.81
           ]
          },
          {
           "hoverinfo": "none",
           "marker": {
            "color": "black",
            "size": 10
           },
           "mode": "markers",
           "name": "offense",
           "type": "scatter",
           "x": [
            72.79,
            72.25,
            72.83,
            72.95,
            79.59,
            73.76,
            72.95,
            72.88,
            74.62,
            72.91
           ],
           "y": [
            28.55,
            29.87,
            39.52,
            26.33,
            29.75,
            34.8,
            31.53,
            20.41,
            29.56,
            32.9
           ]
          },
          {
           "hoverinfo": "none",
           "marker": {
            "color": "yellow",
            "opacity": 1,
            "size": 10
           },
           "mode": "markers",
           "name": "ball_carrier",
           "type": "scatter",
           "x": [
            73.85
           ],
           "y": [
            29.8
           ]
          }
         ],
         "name": "12"
        },
        {
         "data": [
          {
           "hoverinfo": "none",
           "marker": {
            "color": "white",
            "size": 10
           },
           "mode": "markers",
           "name": "defense",
           "type": "scatter",
           "x": [
            67.44,
            71.56,
            64.58,
            68.71,
            71.17,
            71.49,
            57.16,
            70.69,
            71.2,
            71.55,
            60.87
           ],
           "y": [
            30.38,
            26.99,
            41.33,
            25.16,
            36.15,
            32,
            21.86,
            19.36,
            29.27,
            23.68,
            34.84
           ]
          },
          {
           "hoverinfo": "none",
           "marker": {
            "color": "black",
            "size": 10
           },
           "mode": "markers",
           "name": "offense",
           "type": "scatter",
           "x": [
            72.67,
            72.13,
            72.67,
            72.86,
            79.58,
            73.73,
            72.91,
            72.85,
            74.55,
            72.8
           ],
           "y": [
            28.83,
            30.04,
            39.54,
            26.49,
            29.91,
            34.95,
            31.71,
            20.42,
            30.19,
            32.98
           ]
          },
          {
           "hoverinfo": "none",
           "marker": {
            "color": "yellow",
            "opacity": 1,
            "size": 10
           },
           "mode": "markers",
           "name": "ball_carrier",
           "type": "scatter",
           "x": [
            74
           ],
           "y": [
            29.91
           ]
          }
         ],
         "name": "13"
        },
        {
         "data": [
          {
           "hoverinfo": "none",
           "marker": {
            "color": "white",
            "size": 10
           },
           "mode": "markers",
           "name": "defense",
           "type": "scatter",
           "x": [
            67.48,
            71.66,
            64.6,
            68.7,
            71.2,
            71.54,
            57.01,
            70.68,
            71.19,
            71.62,
            60.86
           ],
           "y": [
            30.49,
            27.24,
            41.44,
            25.33,
            36.27,
            32.11,
            21.81,
            19.37,
            29.4,
            23.94,
            34.88
           ]
          },
          {
           "hoverinfo": "none",
           "marker": {
            "color": "black",
            "size": 10
           },
           "mode": "markers",
           "name": "offense",
           "type": "scatter",
           "x": [
            72.54,
            72,
            72.44,
            72.75,
            79.55,
            73.68,
            72.86,
            72.78,
            74.45,
            72.68
           ],
           "y": [
            29.1,
            30.21,
            39.58,
            26.69,
            30.15,
            35.17,
            31.91,
            20.45,
            30.83,
            33.07
           ]
          },
          {
           "hoverinfo": "none",
           "marker": {
            "color": "yellow",
            "opacity": 1,
            "size": 10
           },
           "mode": "markers",
           "name": "ball_carrier",
           "type": "scatter",
           "x": [
            74.17
           ],
           "y": [
            30.03
           ]
          }
         ],
         "name": "14"
        },
        {
         "data": [
          {
           "hoverinfo": "none",
           "marker": {
            "color": "white",
            "size": 10
           },
           "mode": "markers",
           "name": "defense",
           "type": "scatter",
           "x": [
            67.56,
            71.78,
            64.6,
            68.68,
            71.26,
            71.6,
            56.82,
            70.67,
            71.15,
            71.71,
            60.86
           ],
           "y": [
            30.68,
            27.56,
            41.5,
            25.51,
            36.44,
            32.25,
            21.75,
            19.38,
            29.53,
            24.23,
            34.92
           ]
          },
          {
           "hoverinfo": "none",
           "marker": {
            "color": "black",
            "size": 10
           },
           "mode": "markers",
           "name": "offense",
           "type": "scatter",
           "x": [
            72.38,
            71.86,
            72.16,
            72.64,
            79.51,
            73.61,
            72.79,
            72.65,
            74.31,
            72.54
           ],
           "y": [
            29.37,
            30.41,
            39.62,
            26.94,
            30.43,
            35.45,
            32.14,
            20.49,
            31.48,
            33.22
           ]
          },
          {
           "hoverinfo": "none",
           "marker": {
            "color": "yellow",
            "opacity": 1,
            "size": 10
           },
           "mode": "markers",
           "name": "ball_carrier",
           "type": "scatter",
           "x": [
            74.39
           ],
           "y": [
            30.15
           ]
          }
         ],
         "name": "15"
        },
        {
         "data": [
          {
           "hoverinfo": "none",
           "marker": {
            "color": "white",
            "size": 10
           },
           "mode": "markers",
           "name": "defense",
           "type": "scatter",
           "x": [
            67.65,
            71.9,
            64.63,
            68.66,
            71.33,
            71.67,
            56.6,
            70.64,
            71.1,
            71.8,
            60.85
           ],
           "y": [
            30.93,
            27.88,
            41.6,
            25.73,
            36.67,
            32.4,
            21.69,
            19.4,
            29.68,
            24.56,
            34.99
           ]
          },
          {
           "hoverinfo": "none",
           "marker": {
            "color": "black",
            "size": 10
           },
           "mode": "markers",
           "name": "offense",
           "type": "scatter",
           "x": [
            72.22,
            71.7,
            71.82,
            72.51,
            79.45,
            73.53,
            72.72,
            72.48,
            74.15,
            72.38
           ],
           "y": [
            29.65,
            30.62,
            39.67,
            27.22,
            30.77,
            35.77,
            32.39,
            20.56,
            32.15,
            33.37
           ]
          },
          {
           "hoverinfo": "none",
           "marker": {
            "color": "yellow",
            "opacity": 1,
            "size": 10
           },
           "mode": "markers",
           "name": "ball_carrier",
           "type": "scatter",
           "x": [
            74.62
           ],
           "y": [
            30.28
           ]
          }
         ],
         "name": "16"
        },
        {
         "data": [
          {
           "hoverinfo": "none",
           "marker": {
            "color": "white",
            "size": 10
           },
           "mode": "markers",
           "name": "defense",
           "type": "scatter",
           "x": [
            67.76,
            72.04,
            64.68,
            68.64,
            71.42,
            71.74,
            56.35,
            70.62,
            71.03,
            71.92,
            60.85
           ],
           "y": [
            31.26,
            28.22,
            41.7,
            25.97,
            36.94,
            32.57,
            21.63,
            19.44,
            29.84,
            24.92,
            35.08
           ]
          },
          {
           "hoverinfo": "none",
           "marker": {
            "color": "black",
            "size": 10
           },
           "mode": "markers",
           "name": "offense",
           "type": "scatter",
           "x": [
            72.03,
            71.53,
            71.44,
            72.38,
            79.38,
            73.43,
            72.65,
            72.26,
            73.96,
            72.21
           ],
           "y": [
            29.92,
            30.86,
            39.74,
            27.53,
            31.15,
            36.12,
            32.64,
            20.64,
            32.82,
            33.57
           ]
          },
          {
           "hoverinfo": "none",
           "marker": {
            "color": "yellow",
            "opacity": 1,
            "size": 10
           },
           "mode": "markers",
           "name": "ball_carrier",
           "type": "scatter",
           "x": [
            74.88
           ],
           "y": [
            30.4
           ]
          }
         ],
         "name": "17"
        },
        {
         "data": [
          {
           "hoverinfo": "none",
           "marker": {
            "color": "white",
            "size": 10
           },
           "mode": "markers",
           "name": "defense",
           "type": "scatter",
           "x": [
            67.91,
            72.18,
            64.76,
            68.63,
            71.53,
            71.81,
            56.07,
            70.57,
            70.93,
            72.04,
            60.85
           ],
           "y": [
            31.64,
            28.59,
            41.84,
            26.25,
            37.27,
            32.76,
            21.59,
            19.49,
            30.03,
            25.33,
            35.23
           ]
          },
          {
           "hoverinfo": "none",
           "marker": {
            "color": "black",
            "size": 10
           },
           "mode": "markers",
           "name": "offense",
           "type": "scatter",
           "x": [
            71.85,
            71.34,
            71,
            72.26,
            79.28,
            73.32,
            72.6,
            71.99,
            73.76,
            72.04
           ],
           "y": [
            30.18,
            31.11,
            39.82,
            27.88,
            31.57,
            36.5,
            32.92,
            20.74,
            33.5,
            33.77
           ]
          },
          {
           "hoverinfo": "none",
           "marker": {
            "color": "yellow",
            "opacity": 1,
            "size": 10
           },
           "mode": "markers",
           "name": "ball_carrier",
           "type": "scatter",
           "x": [
            75.16
           ],
           "y": [
            30.52
           ]
          }
         ],
         "name": "18"
        },
        {
         "data": [
          {
           "hoverinfo": "none",
           "marker": {
            "color": "white",
            "size": 10
           },
           "mode": "markers",
           "name": "defense",
           "type": "scatter",
           "x": [
            68.07,
            72.32,
            64.88,
            68.61,
            71.65,
            71.86,
            55.77,
            70.52,
            70.82,
            72.16,
            60.89
           ],
           "y": [
            32.09,
            28.99,
            42.01,
            26.54,
            37.63,
            32.96,
            21.56,
            19.56,
            30.22,
            25.77,
            35.42
           ]
          },
          {
           "hoverinfo": "none",
           "marker": {
            "color": "black",
            "size": 10
           },
           "mode": "markers",
           "name": "offense",
           "type": "scatter",
           "x": [
            71.66,
            71.14,
            70.54,
            72.14,
            75.46,
            73.24,
            72.52,
            71.68,
            73.54,
            71.85
           ],
           "y": [
            30.42,
            31.37,
            39.91,
            28.25,
            30.62,
            36.92,
            33.21,
            20.86,
            34.19,
            34.01
           ]
          },
          {
           "hoverinfo": "none",
           "marker": {
            "color": "yellow",
            "opacity": 1,
            "size": 10
           },
           "mode": "markers",
           "name": "ball_carrier",
           "type": "scatter",
           "x": [
            79.16
           ],
           "y": [
            32.03
           ]
          }
         ],
         "name": "19"
        },
        {
         "data": [
          {
           "hoverinfo": "none",
           "marker": {
            "color": "white",
            "size": 10
           },
           "mode": "markers",
           "name": "defense",
           "type": "scatter",
           "x": [
            68.23,
            72.46,
            65.03,
            68.59,
            71.78,
            71.9,
            55.43,
            70.43,
            70.68,
            72.29,
            60.93
           ],
           "y": [
            32.57,
            29.4,
            42.2,
            26.85,
            38.02,
            33.19,
            21.56,
            19.64,
            30.46,
            26.25,
            35.65
           ]
          },
          {
           "hoverinfo": "none",
           "marker": {
            "color": "black",
            "size": 10
           },
           "mode": "markers",
           "name": "offense",
           "type": "scatter",
           "x": [
            71.46,
            70.93,
            70.05,
            72.05,
            75.76,
            73.15,
            72.46,
            71.34,
            73.32,
            71.62
           ],
           "y": [
            30.65,
            31.64,
            40,
            28.67,
            30.68,
            37.37,
            33.51,
            21.01,
            34.9,
            34.29
           ]
          },
          {
           "hoverinfo": "none",
           "marker": {
            "color": "yellow",
            "opacity": 1,
            "size": 10
           },
           "mode": "markers",
           "name": "ball_carrier",
           "type": "scatter",
           "x": [
            79.01
           ],
           "y": [
            32.51
           ]
          }
         ],
         "name": "20"
        },
        {
         "data": [
          {
           "hoverinfo": "none",
           "marker": {
            "color": "white",
            "size": 10
           },
           "mode": "markers",
           "name": "defense",
           "type": "scatter",
           "x": [
            68.4,
            72.6,
            65.22,
            68.56,
            71.9,
            71.96,
            55.08,
            70.33,
            70.52,
            72.42,
            61.01
           ],
           "y": [
            33.09,
            29.81,
            42.41,
            27.16,
            38.45,
            33.43,
            21.59,
            19.74,
            30.69,
            26.75,
            35.91
           ]
          },
          {
           "hoverinfo": "none",
           "marker": {
            "color": "black",
            "size": 10
           },
           "mode": "markers",
           "name": "offense",
           "type": "scatter",
           "x": [
            71.26,
            70.72,
            69.55,
            71.96,
            76.07,
            73.07,
            72.39,
            70.96,
            73.1,
            71.38
           ],
           "y": [
            30.88,
            31.91,
            40.1,
            29.1,
            30.72,
            37.83,
            33.8,
            21.19,
            35.62,
            34.58
           ]
          },
          {
           "hoverinfo": "none",
           "marker": {
            "color": "yellow",
            "opacity": 1,
            "size": 10
           },
           "mode": "markers",
           "name": "ball_carrier",
           "type": "scatter",
           "x": [
            78.82
           ],
           "y": [
            33.01
           ]
          }
         ],
         "name": "21"
        },
        {
         "data": [
          {
           "hoverinfo": "none",
           "marker": {
            "color": "white",
            "size": 10
           },
           "mode": "markers",
           "name": "defense",
           "type": "scatter",
           "x": [
            68.56,
            72.72,
            65.46,
            68.54,
            72.01,
            72.01,
            54.74,
            70.2,
            70.34,
            72.53,
            61.11
           ],
           "y": [
            33.64,
            30.25,
            42.65,
            27.47,
            38.91,
            33.68,
            21.66,
            19.85,
            30.92,
            27.28,
            36.2
           ]
          },
          {
           "hoverinfo": "none",
           "marker": {
            "color": "black",
            "size": 10
           },
           "mode": "markers",
           "name": "offense",
           "type": "scatter",
           "x": [
            71.05,
            70.51,
            69.04,
            71.9,
            76.38,
            72.99,
            72.3,
            70.56,
            72.88,
            71.14
           ],
           "y": [
            31.11,
            32.18,
            40.2,
            29.55,
            30.71,
            38.3,
            34.11,
            21.39,
            36.35,
            34.9
           ]
          },
          {
           "hoverinfo": "none",
           "marker": {
            "color": "yellow",
            "opacity": 1,
            "size": 10
           },
           "mode": "markers",
           "name": "ball_carrier",
           "type": "scatter",
           "x": [
            78.6
           ],
           "y": [
            33.53
           ]
          }
         ],
         "name": "22"
        },
        {
         "data": [
          {
           "hoverinfo": "none",
           "marker": {
            "color": "white",
            "size": 10
           },
           "mode": "markers",
           "name": "defense",
           "type": "scatter",
           "x": [
            68.7,
            72.84,
            65.74,
            68.51,
            72.09,
            72.07,
            54.4,
            70.06,
            70.14,
            72.64,
            61.25
           ],
           "y": [
            34.2,
            30.72,
            42.89,
            27.78,
            39.38,
            33.93,
            21.76,
            19.96,
            31.15,
            27.83,
            36.5
           ]
          },
          {
           "hoverinfo": "none",
           "marker": {
            "color": "black",
            "size": 10
           },
           "mode": "markers",
           "name": "offense",
           "type": "scatter",
           "x": [
            70.83,
            70.3,
            68.55,
            71.85,
            76.69,
            72.93,
            72.22,
            70.15,
            72.68,
            70.89
           ],
           "y": [
            31.34,
            32.45,
            40.29,
            30.03,
            30.66,
            38.78,
            34.4,
            21.61,
            37.09,
            35.21
           ]
          },
          {
           "hoverinfo": "none",
           "marker": {
            "color": "yellow",
            "opacity": 1,
            "size": 10
           },
           "mode": "markers",
           "name": "ball_carrier",
           "type": "scatter",
           "x": [
            78.34
           ],
           "y": [
            34.05
           ]
          }
         ],
         "name": "23"
        },
        {
         "data": [
          {
           "hoverinfo": "none",
           "marker": {
            "color": "white",
            "size": 10
           },
           "mode": "markers",
           "name": "defense",
           "type": "scatter",
           "x": [
            68.81,
            72.95,
            66.04,
            68.48,
            72.15,
            72.14,
            54.05,
            69.89,
            69.92,
            72.73,
            61.41
           ],
           "y": [
            34.76,
            31.2,
            43.14,
            28.08,
            39.86,
            34.19,
            21.89,
            20.06,
            31.4,
            28.4,
            36.83
           ]
          },
          {
           "hoverinfo": "none",
           "marker": {
            "color": "black",
            "size": 10
           },
           "mode": "markers",
           "name": "offense",
           "type": "scatter",
           "x": [
            70.61,
            70.08,
            68.08,
            71.83,
            76.98,
            72.87,
            72.18,
            69.71,
            72.49,
            70.63
           ],
           "y": [
            31.56,
            32.7,
            40.37,
            30.53,
            30.56,
            39.27,
            34.65,
            21.86,
            37.83,
            35.55
           ]
          },
          {
           "hoverinfo": "none",
           "marker": {
            "color": "yellow",
            "opacity": 1,
            "size": 10
           },
           "mode": "markers",
           "name": "ball_carrier",
           "type": "scatter",
           "x": [
            78.04
           ],
           "y": [
            34.59
           ]
          }
         ],
         "name": "24"
        },
        {
         "data": [
          {
           "hoverinfo": "none",
           "marker": {
            "color": "white",
            "size": 10
           },
           "mode": "markers",
           "name": "defense",
           "type": "scatter",
           "x": [
            68.88,
            73.04,
            66.36,
            68.43,
            72.18,
            72.23,
            53.71,
            69.71,
            69.71,
            72.8,
            61.62
           ],
           "y": [
            35.32,
            31.68,
            43.39,
            28.37,
            40.36,
            34.45,
            22.1,
            20.17,
            31.65,
            28.97,
            37.15
           ]
          },
          {
           "hoverinfo": "none",
           "marker": {
            "color": "black",
            "size": 10
           },
           "mode": "markers",
           "name": "offense",
           "type": "scatter",
           "x": [
            70.41,
            69.87,
            67.63,
            71.83,
            77.26,
            72.81,
            72.16,
            69.27,
            72.33,
            70.37
           ],
           "y": [
            31.79,
            32.95,
            40.45,
            31.03,
            30.4,
            39.77,
            34.88,
            22.15,
            38.58,
            35.9
           ]
          },
          {
           "hoverinfo": "none",
           "marker": {
            "color": "yellow",
            "opacity": 1,
            "size": 10
           },
           "mode": "markers",
           "name": "ball_carrier",
           "type": "scatter",
           "x": [
            77.7
           ],
           "y": [
            35.13
           ]
          }
         ],
         "name": "25"
        },
        {
         "data": [
          {
           "hoverinfo": "none",
           "marker": {
            "color": "white",
            "size": 10
           },
           "mode": "markers",
           "name": "defense",
           "type": "scatter",
           "x": [
            68.89,
            73.13,
            66.71,
            68.37,
            72.19,
            72.32,
            53.39,
            69.5,
            69.51,
            72.84,
            61.86
           ],
           "y": [
            35.89,
            32.17,
            43.62,
            28.65,
            40.88,
            34.71,
            22.35,
            20.27,
            31.92,
            29.56,
            37.49
           ]
          },
          {
           "hoverinfo": "none",
           "marker": {
            "color": "black",
            "size": 10
           },
           "mode": "markers",
           "name": "offense",
           "type": "scatter",
           "x": [
            70.2,
            69.66,
            67.2,
            71.85,
            77.51,
            72.75,
            72.15,
            68.82,
            72.19,
            70.11
           ],
           "y": [
            32.03,
            33.18,
            40.52,
            31.55,
            30.19,
            40.27,
            35.09,
            22.48,
            39.33,
            36.27
           ]
          },
          {
           "hoverinfo": "none",
           "marker": {
            "color": "yellow",
            "opacity": 1,
            "size": 10
           },
           "mode": "markers",
           "name": "ball_carrier",
           "type": "scatter",
           "x": [
            77.33
           ],
           "y": [
            35.68
           ]
          }
         ],
         "name": "26"
        },
        {
         "data": [
          {
           "hoverinfo": "none",
           "marker": {
            "color": "white",
            "size": 10
           },
           "mode": "markers",
           "name": "defense",
           "type": "scatter",
           "x": [
            68.87,
            73.19,
            67.06,
            68.31,
            72.19,
            72.43,
            53.09,
            69.29,
            69.33,
            72.86,
            62.13
           ],
           "y": [
            36.45,
            32.7,
            43.83,
            28.92,
            41.42,
            34.97,
            22.63,
            20.36,
            32.2,
            30.15,
            37.82
           ]
          },
          {
           "hoverinfo": "none",
           "marker": {
            "color": "black",
            "size": 10
           },
           "mode": "markers",
           "name": "offense",
           "type": "scatter",
           "x": [
            69.98,
            69.45,
            66.8,
            71.88,
            77.73,
            72.69,
            72.16,
            68.38,
            72.05,
            69.85
           ],
           "y": [
            32.27,
            33.39,
            40.59,
            32.09,
            29.94,
            40.79,
            35.26,
            22.82,
            40.06,
            36.63
           ]
          },
          {
           "hoverinfo": "none",
           "marker": {
            "color": "yellow",
            "opacity": 1,
            "size": 10
           },
           "mode": "markers",
           "name": "ball_carrier",
           "type": "scatter",
           "x": [
            76.92
           ],
           "y": [
            36.23
           ]
          }
         ],
         "name": "27"
        },
        {
         "data": [
          {
           "hoverinfo": "none",
           "marker": {
            "color": "white",
            "size": 10
           },
           "mode": "markers",
           "name": "defense",
           "type": "scatter",
           "x": [
            68.82,
            73.25,
            67.41,
            68.23,
            72.18,
            72.55,
            52.81,
            69.05,
            69.15,
            72.86,
            62.42
           ],
           "y": [
            37.01,
            33.21,
            43.99,
            29.19,
            41.98,
            35.23,
            22.96,
            20.47,
            32.47,
            30.74,
            38.16
           ]
          },
          {
           "hoverinfo": "none",
           "marker": {
            "color": "black",
            "size": 10
           },
           "mode": "markers",
           "name": "offense",
           "type": "scatter",
           "x": [
            69.79,
            69.25,
            66.43,
            71.91,
            77.92,
            72.63,
            72.22,
            67.94,
            71.92,
            69.59
           ],
           "y": [
            32.51,
            33.6,
            40.64,
            32.62,
            29.66,
            41.32,
            35.41,
            23.2,
            40.78,
            37.01
           ]
          },
          {
           "hoverinfo": "none",
           "marker": {
            "color": "yellow",
            "opacity": 1,
            "size": 10
           },
           "mode": "markers",
           "name": "ball_carrier",
           "type": "scatter",
           "x": [
            76.48
           ],
           "y": [
            36.78
           ]
          }
         ],
         "name": "28"
        },
        {
         "data": [
          {
           "hoverinfo": "none",
           "marker": {
            "color": "white",
            "size": 10
           },
           "mode": "markers",
           "name": "defense",
           "type": "scatter",
           "x": [
            68.75,
            73.31,
            67.76,
            68.15,
            72.16,
            72.67,
            52.57,
            68.8,
            68.97,
            72.82,
            62.74
           ],
           "y": [
            37.57,
            33.71,
            44.1,
            29.46,
            42.54,
            35.51,
            23.33,
            20.58,
            32.75,
            31.33,
            38.5
           ]
          },
          {
           "hoverinfo": "none",
           "marker": {
            "color": "black",
            "size": 10
           },
           "mode": "markers",
           "name": "offense",
           "type": "scatter",
           "x": [
            69.59,
            69.07,
            66.1,
            71.94,
            78.07,
            72.56,
            72.3,
            67.5,
            71.79,
            69.32
           ],
           "y": [
            32.74,
            33.8,
            40.69,
            33.17,
            29.35,
            41.86,
            35.57,
            23.6,
            41.47,
            37.43
           ]
          },
          {
           "hoverinfo": "none",
           "marker": {
            "color": "yellow",
            "opacity": 1,
            "size": 10
           },
           "mode": "markers",
           "name": "ball_carrier",
           "type": "scatter",
           "x": [
            76.02
           ],
           "y": [
            37.32
           ]
          }
         ],
         "name": "29"
        },
        {
         "data": [
          {
           "hoverinfo": "none",
           "marker": {
            "color": "white",
            "size": 10
           },
           "mode": "markers",
           "name": "defense",
           "type": "scatter",
           "x": [
            68.65,
            73.38,
            68.1,
            68.05,
            72.13,
            72.81,
            52.35,
            68.55,
            68.79,
            72.75,
            63.07
           ],
           "y": [
            38.13,
            34.2,
            44.13,
            29.73,
            43.11,
            35.8,
            23.73,
            20.7,
            33.01,
            31.92,
            38.84
           ]
          },
          {
           "hoverinfo": "none",
           "marker": {
            "color": "black",
            "size": 10
           },
           "mode": "markers",
           "name": "offense",
           "type": "scatter",
           "x": [
            69.41,
            68.89,
            65.81,
            71.97,
            78.2,
            72.5,
            72.43,
            67.07,
            71.66,
            69.09
           ],
           "y": [
            32.96,
            33.97,
            40.73,
            33.71,
            29.02,
            42.42,
            35.71,
            24.02,
            42.11,
            37.83
           ]
          },
          {
           "hoverinfo": "none",
           "marker": {
            "color": "yellow",
            "opacity": 1,
            "size": 10
           },
           "mode": "markers",
           "name": "ball_carrier",
           "type": "scatter",
           "x": [
            75.52
           ],
           "y": [
            37.85
           ]
          }
         ],
         "name": "30"
        },
        {
         "data": [
          {
           "hoverinfo": "none",
           "marker": {
            "color": "white",
            "size": 10
           },
           "mode": "markers",
           "name": "defense",
           "type": "scatter",
           "x": [
            68.54,
            73.47,
            68.42,
            67.93,
            72.1,
            72.94,
            52.18,
            68.28,
            68.63,
            72.65,
            63.41
           ],
           "y": [
            38.67,
            34.69,
            44.08,
            30.01,
            43.69,
            36.11,
            24.18,
            20.85,
            33.27,
            32.51,
            39.18
           ]
          },
          {
           "hoverinfo": "none",
           "marker": {
            "color": "black",
            "size": 10
           },
           "mode": "markers",
           "name": "offense",
           "type": "scatter",
           "x": [
            69.23,
            68.73,
            65.56,
            72,
            78.27,
            72.43,
            72.57,
            66.64,
            71.52,
            68.87
           ],
           "y": [
            33.18,
            34.15,
            40.78,
            34.25,
            28.69,
            42.98,
            35.84,
            24.48,
            42.72,
            38.24
           ]
          },
          {
           "hoverinfo": "none",
           "marker": {
            "color": "yellow",
            "opacity": 1,
            "size": 10
           },
           "mode": "markers",
           "name": "ball_carrier",
           "type": "scatter",
           "x": [
            74.99
           ],
           "y": [
            38.35
           ]
          }
         ],
         "name": "31"
        },
        {
         "data": [
          {
           "hoverinfo": "none",
           "marker": {
            "color": "white",
            "size": 10
           },
           "mode": "markers",
           "name": "defense",
           "type": "scatter",
           "x": [
            68.43,
            73.59,
            68.7,
            67.79,
            72.06,
            73.04,
            52.05,
            68.01,
            68.49,
            72.52,
            63.74
           ],
           "y": [
            39.2,
            35.16,
            43.96,
            30.29,
            44.27,
            36.41,
            24.67,
            21.02,
            33.52,
            33.09,
            39.52
           ]
          },
          {
           "hoverinfo": "none",
           "marker": {
            "color": "black",
            "size": 10
           },
           "mode": "markers",
           "name": "offense",
           "type": "scatter",
           "x": [
            69.07,
            68.56,
            65.37,
            72.01,
            78.31,
            72.37,
            72.72,
            66.24,
            71.35,
            68.65
           ],
           "y": [
            33.38,
            34.33,
            40.84,
            34.77,
            28.34,
            43.55,
            35.97,
            24.95,
            43.27,
            38.66
           ]
          },
          {
           "hoverinfo": "none",
           "marker": {
            "color": "yellow",
            "opacity": 1,
            "size": 10
           },
           "mode": "markers",
           "name": "ball_carrier",
           "type": "scatter",
           "x": [
            74.45
           ],
           "y": [
            38.83
           ]
          }
         ],
         "name": "32"
        },
        {
         "data": [
          {
           "hoverinfo": "none",
           "marker": {
            "color": "white",
            "size": 10
           },
           "mode": "markers",
           "name": "defense",
           "type": "scatter",
           "x": [
            68.3,
            73.75,
            68.95,
            67.62,
            72.01,
            73.14,
            51.96,
            67.73,
            68.34,
            72.35,
            64.04
           ],
           "y": [
            39.72,
            35.62,
            43.75,
            30.6,
            44.86,
            36.71,
            25.21,
            21.22,
            33.74,
            33.65,
            39.84
           ]
          },
          {
           "hoverinfo": "none",
           "marker": {
            "color": "black",
            "size": 10
           },
           "mode": "markers",
           "name": "offense",
           "type": "scatter",
           "x": [
            68.93,
            68.39,
            65.23,
            72,
            78.31,
            72.3,
            72.89,
            65.84,
            71.17,
            68.46
           ],
           "y": [
            33.59,
            34.48,
            40.92,
            35.3,
            28,
            44.13,
            36.11,
            25.45,
            43.77,
            39.08
           ]
          },
          {
           "hoverinfo": "none",
           "marker": {
            "color": "yellow",
            "opacity": 1,
            "size": 10
           },
           "mode": "markers",
           "name": "ball_carrier",
           "type": "scatter",
           "x": [
            73.85
           ],
           "y": [
            39.25
           ]
          }
         ],
         "name": "33"
        },
        {
         "data": [
          {
           "hoverinfo": "none",
           "marker": {
            "color": "white",
            "size": 10
           },
           "mode": "markers",
           "name": "defense",
           "type": "scatter",
           "x": [
            68.19,
            73.92,
            69.17,
            67.43,
            71.95,
            73.2,
            51.91,
            67.44,
            68.21,
            72.15,
            64.32
           ],
           "y": [
            40.23,
            36.06,
            43.46,
            30.91,
            45.45,
            37.02,
            25.77,
            21.46,
            33.92,
            34.22,
            40.14
           ]
          },
          {
           "hoverinfo": "none",
           "marker": {
            "color": "black",
            "size": 10
           },
           "mode": "markers",
           "name": "offense",
           "type": "scatter",
           "x": [
            68.79,
            68.23,
            65.16,
            71.95,
            78.28,
            72.22,
            73.06,
            65.47,
            70.96,
            68.28
           ],
           "y": [
            33.8,
            34.64,
            41.02,
            35.83,
            27.67,
            44.73,
            36.26,
            25.97,
            44.21,
            39.5
           ]
          },
          {
           "hoverinfo": "none",
           "marker": {
            "color": "yellow",
            "opacity": 1,
            "size": 10
           },
           "mode": "markers",
           "name": "ball_carrier",
           "type": "scatter",
           "x": [
            73.23
           ],
           "y": [
            39.63
           ]
          }
         ],
         "name": "34"
        },
        {
         "data": [
          {
           "hoverinfo": "none",
           "marker": {
            "color": "white",
            "size": 10
           },
           "mode": "markers",
           "name": "defense",
           "type": "scatter",
           "x": [
            68.07,
            74.09,
            69.35,
            67.21,
            71.89,
            73.22,
            51.89,
            67.16,
            68.07,
            71.91,
            64.57
           ],
           "y": [
            40.71,
            36.48,
            43.13,
            31.24,
            46.04,
            37.33,
            26.35,
            21.73,
            34.08,
            34.77,
            40.4
           ]
          },
          {
           "hoverinfo": "none",
           "marker": {
            "color": "black",
            "size": 10
           },
           "mode": "markers",
           "name": "offense",
           "type": "scatter",
           "x": [
            68.67,
            68.07,
            65.13,
            71.89,
            78.22,
            72.15,
            73.24,
            65.11,
            70.75,
            68.12
           ],
           "y": [
            34,
            34.78,
            41.14,
            36.34,
            27.36,
            45.34,
            36.42,
            26.5,
            44.6,
            39.92
           ]
          },
          {
           "hoverinfo": "none",
           "marker": {
            "color": "yellow",
            "opacity": 1,
            "size": 10
           },
           "mode": "markers",
           "name": "ball_carrier",
           "type": "scatter",
           "x": [
            72.59
           ],
           "y": [
            39.94
           ]
          }
         ],
         "name": "35"
        },
        {
         "data": [
          {
           "hoverinfo": "none",
           "marker": {
            "color": "white",
            "size": 10
           },
           "mode": "markers",
           "name": "defense",
           "type": "scatter",
           "x": [
            68.08,
            74.29,
            69.48,
            66.96,
            71.82,
            73.22,
            51.9,
            66.88,
            67.95,
            71.65,
            64.78
           ],
           "y": [
            41.11,
            36.88,
            42.75,
            31.58,
            46.63,
            37.63,
            26.94,
            22.02,
            34.23,
            35.31,
            40.63
           ]
          },
          {
           "hoverinfo": "none",
           "marker": {
            "color": "black",
            "size": 10
           },
           "mode": "markers",
           "name": "offense",
           "type": "scatter",
           "x": [
            68.56,
            67.92,
            65.13,
            71.81,
            78.14,
            72.08,
            73.42,
            64.76,
            70.52,
            67.98
           ],
           "y": [
            34.18,
            34.93,
            41.3,
            36.84,
            27.06,
            45.95,
            36.59,
            27.05,
            44.94,
            40.36
           ]
          },
          {
           "hoverinfo": "none",
           "marker": {
            "color": "yellow",
            "opacity": 1,
            "size": 10
           },
           "mode": "markers",
           "name": "ball_carrier",
           "type": "scatter",
           "x": [
            71.93
           ],
           "y": [
            40.21
           ]
          }
         ],
         "name": "36"
        },
        {
         "data": [
          {
           "hoverinfo": "none",
           "marker": {
            "color": "white",
            "size": 10
           },
           "mode": "markers",
           "name": "defense",
           "type": "scatter",
           "x": [
            68.1,
            74.52,
            69.56,
            66.67,
            71.72,
            73.15,
            51.94,
            66.6,
            67.83,
            71.34,
            64.95
           ],
           "y": [
            41.48,
            37.28,
            42.32,
            31.95,
            47.22,
            37.93,
            27.55,
            22.34,
            34.36,
            35.84,
            40.82
           ]
          },
          {
           "hoverinfo": "none",
           "marker": {
            "color": "black",
            "size": 10
           },
           "mode": "markers",
           "name": "offense",
           "type": "scatter",
           "x": [
            68.45,
            67.74,
            65.17,
            71.71,
            78.05,
            72,
            73.59,
            64.4,
            70.28,
            67.86
           ],
           "y": [
            34.36,
            35.07,
            41.47,
            37.33,
            26.78,
            46.57,
            36.79,
            27.61,
            45.22,
            40.78
           ]
          },
          {
           "hoverinfo": "none",
           "marker": {
            "color": "yellow",
            "opacity": 1,
            "size": 10
           },
           "mode": "markers",
           "name": "ball_carrier",
           "type": "scatter",
           "x": [
            71.27
           ],
           "y": [
            40.41
           ]
          }
         ],
         "name": "37"
        },
        {
         "data": [
          {
           "hoverinfo": "none",
           "marker": {
            "color": "white",
            "size": 10
           },
           "mode": "markers",
           "name": "defense",
           "type": "scatter",
           "x": [
            68.11,
            74.75,
            69.59,
            66.36,
            71.62,
            73.07,
            52.01,
            66.33,
            67.71,
            71,
            65.09
           ],
           "y": [
            41.83,
            37.66,
            41.88,
            32.33,
            47.81,
            38.21,
            28.17,
            22.69,
            34.47,
            36.34,
            40.97
           ]
          },
          {
           "hoverinfo": "none",
           "marker": {
            "color": "black",
            "size": 10
           },
           "mode": "markers",
           "name": "offense",
           "type": "scatter",
           "x": [
            68.35,
            67.57,
            65.25,
            71.6,
            77.93,
            71.91,
            73.73,
            64.05,
            70.03,
            67.76
           ],
           "y": [
            34.52,
            35.21,
            41.66,
            37.8,
            26.53,
            47.18,
            36.99,
            28.2,
            45.47,
            41.21
           ]
          },
          {
           "hoverinfo": "none",
           "marker": {
            "color": "yellow",
            "opacity": 1,
            "size": 10
           },
           "mode": "markers",
           "name": "ball_carrier",
           "type": "scatter",
           "x": [
            70.62
           ],
           "y": [
            40.56
           ]
          }
         ],
         "name": "38"
        },
        {
         "data": [
          {
           "hoverinfo": "none",
           "marker": {
            "color": "white",
            "size": 10
           },
           "mode": "markers",
           "name": "defense",
           "type": "scatter",
           "x": [
            68.14,
            74.98,
            69.57,
            66.03,
            71.49,
            72.93,
            52.11,
            66.06,
            67.58,
            70.63,
            65.21
           ],
           "y": [
            42.16,
            38.01,
            41.43,
            32.74,
            48.38,
            38.47,
            28.79,
            23.07,
            34.58,
            36.82,
            41.07
           ]
          },
          {
           "hoverinfo": "none",
           "marker": {
            "color": "black",
            "size": 10
           },
           "mode": "markers",
           "name": "offense",
           "type": "scatter",
           "x": [
            68.24,
            67.41,
            65.34,
            71.47,
            77.81,
            71.81,
            73.85,
            63.7,
            69.76,
            67.67
           ],
           "y": [
            34.69,
            35.34,
            41.86,
            38.25,
            26.29,
            47.79,
            37.22,
            28.79,
            45.68,
            41.62
           ]
          },
          {
           "hoverinfo": "none",
           "marker": {
            "color": "yellow",
            "opacity": 1,
            "size": 10
           },
           "mode": "markers",
           "name": "ball_carrier",
           "type": "scatter",
           "x": [
            69.97
           ],
           "y": [
            40.65
           ]
          }
         ],
         "name": "39"
        },
        {
         "data": [
          {
           "hoverinfo": "none",
           "marker": {
            "color": "white",
            "size": 10
           },
           "mode": "markers",
           "name": "defense",
           "type": "scatter",
           "x": [
            68.2,
            75.21,
            69.51,
            65.68,
            71.34,
            72.75,
            52.23,
            65.79,
            67.45,
            70.22,
            65.31
           ],
           "y": [
            42.44,
            38.35,
            40.99,
            33.16,
            48.95,
            38.72,
            29.41,
            23.48,
            34.67,
            37.27,
            41.11
           ]
          },
          {
           "hoverinfo": "none",
           "marker": {
            "color": "black",
            "size": 10
           },
           "mode": "markers",
           "name": "offense",
           "type": "scatter",
           "x": [
            68.13,
            67.26,
            65.45,
            71.32,
            77.68,
            71.69,
            73.95,
            63.35,
            69.48,
            67.6
           ],
           "y": [
            34.83,
            35.47,
            42.05,
            38.67,
            26.09,
            48.39,
            37.45,
            29.39,
            45.85,
            42.04
           ]
          },
          {
           "hoverinfo": "none",
           "marker": {
            "color": "yellow",
            "opacity": 1,
            "size": 10
           },
           "mode": "markers",
           "name": "ball_carrier",
           "type": "scatter",
           "x": [
            69.36
           ],
           "y": [
            40.67
           ]
          }
         ],
         "name": "40"
        },
        {
         "data": [
          {
           "hoverinfo": "none",
           "marker": {
            "color": "white",
            "size": 10
           },
           "mode": "markers",
           "name": "defense",
           "type": "scatter",
           "x": [
            68.31,
            75.45,
            69.41,
            65.32,
            71.17,
            72.5,
            52.37,
            65.51,
            67.31,
            69.78,
            65.4
           ],
           "y": [
            42.68,
            38.67,
            40.58,
            33.6,
            49.51,
            38.94,
            30.03,
            23.9,
            34.76,
            37.68,
            41.1
           ]
          },
          {
           "hoverinfo": "none",
           "marker": {
            "color": "black",
            "size": 10
           },
           "mode": "markers",
           "name": "offense",
           "type": "scatter",
           "x": [
            68.02,
            67.11,
            65.57,
            71.16,
            77.54,
            71.56,
            74.01,
            63.01,
            69.2,
            67.55
           ],
           "y": [
            34.96,
            35.61,
            42.25,
            39.08,
            25.9,
            48.97,
            37.67,
            29.98,
            45.99,
            42.44
           ]
          },
          {
           "hoverinfo": "none",
           "marker": {
            "color": "yellow",
            "opacity": 1,
            "size": 10
           },
           "mode": "markers",
           "name": "ball_carrier",
           "type": "scatter",
           "x": [
            68.76
           ],
           "y": [
            40.63
           ]
          }
         ],
         "name": "41"
        },
        {
         "data": [
          {
           "hoverinfo": "none",
           "marker": {
            "color": "white",
            "size": 10
           },
           "mode": "markers",
           "name": "defense",
           "type": "scatter",
           "x": [
            68.44,
            75.68,
            69.31,
            64.96,
            70.98,
            72.24,
            52.53,
            65.23,
            67.16,
            69.32,
            65.49
           ],
           "y": [
            42.85,
            38.97,
            40.24,
            34.05,
            50.05,
            39.14,
            30.64,
            24.34,
            34.85,
            38.05,
            41.05
           ]
          },
          {
           "hoverinfo": "none",
           "marker": {
            "color": "black",
            "size": 10
           },
           "mode": "markers",
           "name": "offense",
           "type": "scatter",
           "x": [
            67.91,
            66.98,
            65.68,
            70.98,
            77.4,
            71.41,
            74.03,
            62.65,
            68.9,
            67.5
           ],
           "y": [
            35.08,
            35.73,
            42.43,
            39.45,
            25.74,
            49.53,
            37.92,
            30.57,
            46.09,
            42.83
           ]
          },
          {
           "hoverinfo": "none",
           "marker": {
            "color": "yellow",
            "opacity": 1,
            "size": 10
           },
           "mode": "markers",
           "name": "ball_carrier",
           "type": "scatter",
           "x": [
            68.18
           ],
           "y": [
            40.54
           ]
          }
         ],
         "name": "42"
        },
        {
         "data": [
          {
           "hoverinfo": "none",
           "marker": {
            "color": "white",
            "size": 10
           },
           "mode": "markers",
           "name": "defense",
           "type": "scatter",
           "x": [
            68.56,
            75.89,
            69.22,
            64.61,
            70.75,
            71.97,
            52.7,
            64.94,
            67,
            68.83,
            65.59
           ],
           "y": [
            42.98,
            39.26,
            39.94,
            34.51,
            50.55,
            39.32,
            31.24,
            24.79,
            34.93,
            38.36,
            40.94
           ]
          },
          {
           "hoverinfo": "none",
           "marker": {
            "color": "black",
            "size": 10
           },
           "mode": "markers",
           "name": "offense",
           "type": "scatter",
           "x": [
            67.78,
            66.84,
            65.76,
            70.79,
            77.25,
            71.24,
            74.03,
            62.29,
            68.59,
            67.45
           ],
           "y": [
            35.19,
            35.87,
            42.57,
            39.79,
            25.59,
            50.07,
            38.16,
            31.15,
            46.17,
            43.21
           ]
          },
          {
           "hoverinfo": "none",
           "marker": {
            "color": "yellow",
            "opacity": 1,
            "size": 10
           },
           "mode": "markers",
           "name": "ball_carrier",
           "type": "scatter",
           "x": [
            67.65
           ],
           "y": [
            40.43
           ]
          }
         ],
         "name": "43"
        },
        {
         "data": [
          {
           "hoverinfo": "none",
           "marker": {
            "color": "white",
            "size": 10
           },
           "mode": "markers",
           "name": "defense",
           "type": "scatter",
           "x": [
            68.68,
            76.08,
            69.14,
            64.28,
            70.5,
            71.7,
            52.89,
            64.65,
            66.83,
            68.34,
            65.68
           ],
           "y": [
            43.08,
            39.52,
            39.69,
            34.97,
            51.04,
            39.49,
            31.82,
            25.26,
            35.03,
            38.64,
            40.82
           ]
          },
          {
           "hoverinfo": "none",
           "marker": {
            "color": "black",
            "size": 10
           },
           "mode": "markers",
           "name": "offense",
           "type": "scatter",
           "x": [
            67.65,
            66.71,
            65.82,
            70.59,
            77.11,
            71.05,
            74,
            61.92,
            68.29,
            67.4
           ],
           "y": [
            35.29,
            36.01,
            42.72,
            40.1,
            25.46,
            50.58,
            38.4,
            31.73,
            46.24,
            43.56
           ]
          },
          {
           "hoverinfo": "none",
           "marker": {
            "color": "yellow",
            "opacity": 1,
            "size": 10
           },
           "mode": "markers",
           "name": "ball_carrier",
           "type": "scatter",
           "x": [
            67.16
           ],
           "y": [
            40.3
           ]
          }
         ],
         "name": "44"
        },
        {
         "data": [
          {
           "hoverinfo": "none",
           "marker": {
            "color": "white",
            "size": 10
           },
           "mode": "markers",
           "name": "defense",
           "type": "scatter",
           "x": [
            68.78,
            76.26,
            69.08,
            63.97,
            70.23,
            71.42,
            53.08,
            64.34,
            66.65,
            67.82,
            65.77
           ],
           "y": [
            43.14,
            39.77,
            39.5,
            35.42,
            51.49,
            39.63,
            32.36,
            25.73,
            35.12,
            38.88,
            40.67
           ]
          },
          {
           "hoverinfo": "none",
           "marker": {
            "color": "black",
            "size": 10
           },
           "mode": "markers",
           "name": "offense",
           "type": "scatter",
           "x": [
            67.52,
            66.58,
            65.88,
            70.4,
            76.96,
            70.85,
            73.93,
            61.54,
            67.98,
            67.36
           ],
           "y": [
            35.38,
            36.16,
            42.84,
            40.37,
            25.35,
            51.05,
            38.63,
            32.29,
            46.28,
            43.88
           ]
          },
          {
           "hoverinfo": "none",
           "marker": {
            "color": "yellow",
            "opacity": 1,
            "size": 10
           },
           "mode": "markers",
           "name": "ball_carrier",
           "type": "scatter",
           "x": [
            66.69
           ],
           "y": [
            40.15
           ]
          }
         ],
         "name": "45"
        },
        {
         "data": [
          {
           "hoverinfo": "none",
           "marker": {
            "color": "white",
            "size": 10
           },
           "mode": "markers",
           "name": "defense",
           "type": "scatter",
           "x": [
            68.87,
            76.41,
            69.04,
            63.68,
            69.95,
            71.14,
            53.29,
            64.03,
            66.48,
            67.31,
            65.86
           ],
           "y": [
            43.17,
            39.99,
            39.36,
            35.87,
            51.9,
            39.75,
            32.88,
            26.21,
            35.23,
            39.08,
            40.52
           ]
          },
          {
           "hoverinfo": "none",
           "marker": {
            "color": "black",
            "size": 10
           },
           "mode": "markers",
           "name": "offense",
           "type": "scatter",
           "x": [
            67.38,
            66.45,
            65.92,
            70.19,
            76.81,
            66.26,
            70.62,
            73.82,
            61.16,
            67.67,
            67.31
           ],
           "y": [
            35.46,
            36.3,
            42.94,
            40.61,
            25.24,
            40,
            51.5,
            38.87,
            32.83,
            46.31,
            44.18
           ]
          },
          {
           "hoverinfo": "none",
           "marker": {
            "color": "yellow",
            "opacity": 0,
            "size": 10
           },
           "mode": "markers",
           "name": "ball_carrier",
           "type": "scatter",
           "x": [
            0
           ],
           "y": [
            0
           ]
          }
         ],
         "name": "46"
        },
        {
         "data": [
          {
           "hoverinfo": "none",
           "marker": {
            "color": "white",
            "size": 10
           },
           "mode": "markers",
           "name": "defense",
           "type": "scatter",
           "x": [
            68.95,
            76.54,
            69.02,
            63.43,
            69.65,
            70.87,
            53.5,
            63.73,
            66.3,
            66.79,
            65.95
           ],
           "y": [
            43.18,
            40.2,
            39.27,
            36.28,
            52.25,
            39.86,
            33.37,
            26.68,
            35.33,
            39.25,
            40.37
           ]
          },
          {
           "hoverinfo": "none",
           "marker": {
            "color": "black",
            "size": 10
           },
           "mode": "markers",
           "name": "offense",
           "type": "scatter",
           "x": [
            67.24,
            66.33,
            65.94,
            69.99,
            76.66,
            65.86,
            70.39,
            73.7,
            60.79,
            67.37,
            67.26
           ],
           "y": [
            35.53,
            36.45,
            43.01,
            40.8,
            25.16,
            39.85,
            51.91,
            39.09,
            33.35,
            46.32,
            44.46
           ]
          },
          {
           "hoverinfo": "none",
           "marker": {
            "color": "yellow",
            "opacity": 0,
            "size": 10
           },
           "mode": "markers",
           "name": "ball_carrier",
           "type": "scatter",
           "x": [
            0
           ],
           "y": [
            0
           ]
          }
         ],
         "name": "47"
        },
        {
         "data": [
          {
           "hoverinfo": "none",
           "marker": {
            "color": "white",
            "size": 10
           },
           "mode": "markers",
           "name": "defense",
           "type": "scatter",
           "x": [
            69,
            76.66,
            69.03,
            63.21,
            69.35,
            70.61,
            53.72,
            63.42,
            66.13,
            66.27,
            66.01
           ],
           "y": [
            43.17,
            40.38,
            39.21,
            36.67,
            52.55,
            39.94,
            33.82,
            27.14,
            35.45,
            39.38,
            40.24
           ]
          },
          {
           "hoverinfo": "none",
           "marker": {
            "color": "black",
            "size": 10
           },
           "mode": "markers",
           "name": "offense",
           "type": "scatter",
           "x": [
            67.1,
            66.2,
            65.95,
            69.79,
            76.51,
            65.51,
            70.13,
            73.53,
            60.41,
            67.07,
            67.22
           ],
           "y": [
            35.59,
            36.59,
            43.06,
            40.96,
            25.09,
            39.71,
            52.29,
            39.31,
            33.84,
            46.34,
            44.71
           ]
          },
          {
           "hoverinfo": "none",
           "marker": {
            "color": "yellow",
            "opacity": 0,
            "size": 10
           },
           "mode": "markers",
           "name": "ball_carrier",
           "type": "scatter",
           "x": [
            0
           ],
           "y": [
            0
           ]
          }
         ],
         "name": "48"
        },
        {
         "data": [
          {
           "hoverinfo": "none",
           "marker": {
            "color": "white",
            "size": 10
           },
           "mode": "markers",
           "name": "defense",
           "type": "scatter",
           "x": [
            69.03,
            76.76,
            69.06,
            63.02,
            69.05,
            70.37,
            53.95,
            63.11,
            65.96,
            65.76,
            66.06
           ],
           "y": [
            43.15,
            40.54,
            39.18,
            37.03,
            52.78,
            40.01,
            34.23,
            27.6,
            35.57,
            39.51,
            40.13
           ]
          },
          {
           "hoverinfo": "none",
           "marker": {
            "color": "black",
            "size": 10
           },
           "mode": "markers",
           "name": "offense",
           "type": "scatter",
           "x": [
            66.97,
            66.06,
            65.93,
            69.59,
            76.35,
            65.19,
            69.87,
            73.34,
            60.05,
            66.78,
            67.18
           ],
           "y": [
            35.65,
            36.71,
            43.07,
            41.09,
            25.03,
            39.61,
            52.63,
            39.51,
            34.31,
            46.35,
            44.93
           ]
          },
          {
           "hoverinfo": "none",
           "marker": {
            "color": "yellow",
            "opacity": 0,
            "size": 10
           },
           "mode": "markers",
           "name": "ball_carrier",
           "type": "scatter",
           "x": [
            0
           ],
           "y": [
            0
           ]
          }
         ],
         "name": "49"
        }
       ],
       "layout": {
        "annotations": [
         {
          "font": {
           "color": "white",
           "size": 25
          },
          "showarrow": false,
          "text": "10",
          "x": 20,
          "y": 48.3
         },
         {
          "font": {
           "color": "white",
           "size": 25
          },
          "showarrow": false,
          "text": "20",
          "x": 30,
          "y": 48.3
         },
         {
          "font": {
           "color": "white",
           "size": 25
          },
          "showarrow": false,
          "text": "30",
          "x": 40,
          "y": 48.3
         },
         {
          "font": {
           "color": "white",
           "size": 25
          },
          "showarrow": false,
          "text": "40",
          "x": 50,
          "y": 48.3
         },
         {
          "font": {
           "color": "white",
           "size": 25
          },
          "showarrow": false,
          "text": "50",
          "x": 60,
          "y": 48.3
         },
         {
          "font": {
           "color": "white",
           "size": 25
          },
          "showarrow": false,
          "text": "40",
          "x": 70,
          "y": 48.3
         },
         {
          "font": {
           "color": "white",
           "size": 25
          },
          "showarrow": false,
          "text": "30",
          "x": 80,
          "y": 48.3
         },
         {
          "font": {
           "color": "white",
           "size": 25
          },
          "showarrow": false,
          "text": "20",
          "x": 90,
          "y": 48.3
         },
         {
          "font": {
           "color": "white",
           "size": 25
          },
          "showarrow": false,
          "text": "10",
          "x": 100,
          "y": 48.3
         },
         {
          "font": {
           "color": "white",
           "size": 25
          },
          "showarrow": false,
          "text": "10",
          "x": 20,
          "y": 5
         },
         {
          "font": {
           "color": "white",
           "size": 25
          },
          "showarrow": false,
          "text": "20",
          "x": 30,
          "y": 5
         },
         {
          "font": {
           "color": "white",
           "size": 25
          },
          "showarrow": false,
          "text": "30",
          "x": 40,
          "y": 5
         },
         {
          "font": {
           "color": "white",
           "size": 25
          },
          "showarrow": false,
          "text": "40",
          "x": 50,
          "y": 5
         },
         {
          "font": {
           "color": "white",
           "size": 25
          },
          "showarrow": false,
          "text": "50",
          "x": 60,
          "y": 5
         },
         {
          "font": {
           "color": "white",
           "size": 25
          },
          "showarrow": false,
          "text": "40",
          "x": 70,
          "y": 5
         },
         {
          "font": {
           "color": "white",
           "size": 25
          },
          "showarrow": false,
          "text": "30",
          "x": 80,
          "y": 5
         },
         {
          "font": {
           "color": "white",
           "size": 25
          },
          "showarrow": false,
          "text": "20",
          "x": 90,
          "y": 5
         },
         {
          "font": {
           "color": "white",
           "size": 25
          },
          "showarrow": false,
          "text": "10",
          "x": 100,
          "y": 5
         }
        ],
        "height": 600,
        "shapes": [
         {
          "fillcolor": "#96B78C",
          "layer": "below",
          "line": {
           "width": 0
          },
          "type": "rect",
          "x0": 0,
          "x1": 120,
          "y0": 0,
          "y1": 53.3
         },
         {
          "fillcolor": "#6F976D",
          "layer": "below",
          "line": {
           "width": 0
          },
          "type": "rect",
          "x0": 0,
          "x1": 10,
          "y0": 0,
          "y1": 53.3
         },
         {
          "fillcolor": "#6F976D",
          "layer": "below",
          "line": {
           "width": 0
          },
          "type": "rect",
          "x0": 110,
          "x1": 120,
          "y0": 0,
          "y1": 53.3
         },
         {
          "layer": "below",
          "line": {
           "color": "white",
           "width": 2
          },
          "type": "line",
          "x0": 10,
          "x1": 10,
          "y0": 0,
          "y1": 53.3
         },
         {
          "layer": "below",
          "line": {
           "color": "white",
           "width": 1
          },
          "type": "line",
          "x0": 15,
          "x1": 15,
          "y0": 0,
          "y1": 53.3
         },
         {
          "layer": "below",
          "line": {
           "color": "white",
           "width": 2
          },
          "type": "line",
          "x0": 20,
          "x1": 20,
          "y0": 0,
          "y1": 53.3
         },
         {
          "layer": "below",
          "line": {
           "color": "white",
           "width": 1
          },
          "type": "line",
          "x0": 25,
          "x1": 25,
          "y0": 0,
          "y1": 53.3
         },
         {
          "layer": "below",
          "line": {
           "color": "white",
           "width": 2
          },
          "type": "line",
          "x0": 30,
          "x1": 30,
          "y0": 0,
          "y1": 53.3
         },
         {
          "layer": "below",
          "line": {
           "color": "white",
           "width": 1
          },
          "type": "line",
          "x0": 35,
          "x1": 35,
          "y0": 0,
          "y1": 53.3
         },
         {
          "layer": "below",
          "line": {
           "color": "white",
           "width": 2
          },
          "type": "line",
          "x0": 40,
          "x1": 40,
          "y0": 0,
          "y1": 53.3
         },
         {
          "layer": "below",
          "line": {
           "color": "white",
           "width": 1
          },
          "type": "line",
          "x0": 45,
          "x1": 45,
          "y0": 0,
          "y1": 53.3
         },
         {
          "layer": "below",
          "line": {
           "color": "white",
           "width": 2
          },
          "type": "line",
          "x0": 50,
          "x1": 50,
          "y0": 0,
          "y1": 53.3
         },
         {
          "layer": "below",
          "line": {
           "color": "white",
           "width": 1
          },
          "type": "line",
          "x0": 55,
          "x1": 55,
          "y0": 0,
          "y1": 53.3
         },
         {
          "layer": "below",
          "line": {
           "color": "white",
           "width": 2
          },
          "type": "line",
          "x0": 60,
          "x1": 60,
          "y0": 0,
          "y1": 53.3
         },
         {
          "layer": "below",
          "line": {
           "color": "white",
           "width": 1
          },
          "type": "line",
          "x0": 65,
          "x1": 65,
          "y0": 0,
          "y1": 53.3
         },
         {
          "layer": "below",
          "line": {
           "color": "white",
           "width": 2
          },
          "type": "line",
          "x0": 70,
          "x1": 70,
          "y0": 0,
          "y1": 53.3
         },
         {
          "layer": "below",
          "line": {
           "color": "white",
           "width": 1
          },
          "type": "line",
          "x0": 75,
          "x1": 75,
          "y0": 0,
          "y1": 53.3
         },
         {
          "layer": "below",
          "line": {
           "color": "white",
           "width": 2
          },
          "type": "line",
          "x0": 80,
          "x1": 80,
          "y0": 0,
          "y1": 53.3
         },
         {
          "layer": "below",
          "line": {
           "color": "white",
           "width": 1
          },
          "type": "line",
          "x0": 85,
          "x1": 85,
          "y0": 0,
          "y1": 53.3
         },
         {
          "layer": "below",
          "line": {
           "color": "white",
           "width": 2
          },
          "type": "line",
          "x0": 90,
          "x1": 90,
          "y0": 0,
          "y1": 53.3
         },
         {
          "layer": "below",
          "line": {
           "color": "white",
           "width": 1
          },
          "type": "line",
          "x0": 95,
          "x1": 95,
          "y0": 0,
          "y1": 53.3
         },
         {
          "layer": "below",
          "line": {
           "color": "white",
           "width": 2
          },
          "type": "line",
          "x0": 100,
          "x1": 100,
          "y0": 0,
          "y1": 53.3
         },
         {
          "layer": "below",
          "line": {
           "color": "white",
           "width": 1
          },
          "type": "line",
          "x0": 105,
          "x1": 105,
          "y0": 0,
          "y1": 53.3
         },
         {
          "layer": "below",
          "line": {
           "color": "white",
           "width": 2
          },
          "type": "line",
          "x0": 110,
          "x1": 110,
          "y0": 0,
          "y1": 53.3
         },
         {
          "layer": "below",
          "line": {
           "color": "#0070C0",
           "width": 2
          },
          "type": "line",
          "x0": 72,
          "x1": 72,
          "y0": 0,
          "y1": 53.3
         },
         {
          "layer": "below",
          "line": {
           "color": "#E9D11F",
           "width": 2
          },
          "type": "line",
          "x0": 62,
          "x1": 62,
          "y0": 0,
          "y1": 53.3
         }
        ],
        "sliders": [
         {
          "active": 0,
          "currentvalue": {
           "font": {
            "size": 20
           },
           "prefix": "frameId: ",
           "visible": true,
           "xanchor": "right"
          },
          "len": 0.9,
          "pad": {
           "b": 10,
           "t": 50
          },
          "steps": [
           {
            "args": [
             [
              "1"
             ],
             {
              "frame": {
               "duration": 50,
               "redraw": false
              },
              "mode": "immediate",
              "transition": {
               "duration": 0
              }
             }
            ],
            "label": "1",
            "method": "animate"
           },
           {
            "args": [
             [
              "2"
             ],
             {
              "frame": {
               "duration": 50,
               "redraw": false
              },
              "mode": "immediate",
              "transition": {
               "duration": 0
              }
             }
            ],
            "label": "2",
            "method": "animate"
           },
           {
            "args": [
             [
              "3"
             ],
             {
              "frame": {
               "duration": 50,
               "redraw": false
              },
              "mode": "immediate",
              "transition": {
               "duration": 0
              }
             }
            ],
            "label": "3",
            "method": "animate"
           },
           {
            "args": [
             [
              "4"
             ],
             {
              "frame": {
               "duration": 50,
               "redraw": false
              },
              "mode": "immediate",
              "transition": {
               "duration": 0
              }
             }
            ],
            "label": "4",
            "method": "animate"
           },
           {
            "args": [
             [
              "5"
             ],
             {
              "frame": {
               "duration": 50,
               "redraw": false
              },
              "mode": "immediate",
              "transition": {
               "duration": 0
              }
             }
            ],
            "label": "5",
            "method": "animate"
           },
           {
            "args": [
             [
              "6"
             ],
             {
              "frame": {
               "duration": 50,
               "redraw": false
              },
              "mode": "immediate",
              "transition": {
               "duration": 0
              }
             }
            ],
            "label": "6",
            "method": "animate"
           },
           {
            "args": [
             [
              "7"
             ],
             {
              "frame": {
               "duration": 50,
               "redraw": false
              },
              "mode": "immediate",
              "transition": {
               "duration": 0
              }
             }
            ],
            "label": "7",
            "method": "animate"
           },
           {
            "args": [
             [
              "8"
             ],
             {
              "frame": {
               "duration": 50,
               "redraw": false
              },
              "mode": "immediate",
              "transition": {
               "duration": 0
              }
             }
            ],
            "label": "8",
            "method": "animate"
           },
           {
            "args": [
             [
              "9"
             ],
             {
              "frame": {
               "duration": 50,
               "redraw": false
              },
              "mode": "immediate",
              "transition": {
               "duration": 0
              }
             }
            ],
            "label": "9",
            "method": "animate"
           },
           {
            "args": [
             [
              "10"
             ],
             {
              "frame": {
               "duration": 50,
               "redraw": false
              },
              "mode": "immediate",
              "transition": {
               "duration": 0
              }
             }
            ],
            "label": "10",
            "method": "animate"
           },
           {
            "args": [
             [
              "11"
             ],
             {
              "frame": {
               "duration": 50,
               "redraw": false
              },
              "mode": "immediate",
              "transition": {
               "duration": 0
              }
             }
            ],
            "label": "11",
            "method": "animate"
           },
           {
            "args": [
             [
              "12"
             ],
             {
              "frame": {
               "duration": 50,
               "redraw": false
              },
              "mode": "immediate",
              "transition": {
               "duration": 0
              }
             }
            ],
            "label": "12",
            "method": "animate"
           },
           {
            "args": [
             [
              "13"
             ],
             {
              "frame": {
               "duration": 50,
               "redraw": false
              },
              "mode": "immediate",
              "transition": {
               "duration": 0
              }
             }
            ],
            "label": "13",
            "method": "animate"
           },
           {
            "args": [
             [
              "14"
             ],
             {
              "frame": {
               "duration": 50,
               "redraw": false
              },
              "mode": "immediate",
              "transition": {
               "duration": 0
              }
             }
            ],
            "label": "14",
            "method": "animate"
           },
           {
            "args": [
             [
              "15"
             ],
             {
              "frame": {
               "duration": 50,
               "redraw": false
              },
              "mode": "immediate",
              "transition": {
               "duration": 0
              }
             }
            ],
            "label": "15",
            "method": "animate"
           },
           {
            "args": [
             [
              "16"
             ],
             {
              "frame": {
               "duration": 50,
               "redraw": false
              },
              "mode": "immediate",
              "transition": {
               "duration": 0
              }
             }
            ],
            "label": "16",
            "method": "animate"
           },
           {
            "args": [
             [
              "17"
             ],
             {
              "frame": {
               "duration": 50,
               "redraw": false
              },
              "mode": "immediate",
              "transition": {
               "duration": 0
              }
             }
            ],
            "label": "17",
            "method": "animate"
           },
           {
            "args": [
             [
              "18"
             ],
             {
              "frame": {
               "duration": 50,
               "redraw": false
              },
              "mode": "immediate",
              "transition": {
               "duration": 0
              }
             }
            ],
            "label": "18",
            "method": "animate"
           },
           {
            "args": [
             [
              "19"
             ],
             {
              "frame": {
               "duration": 50,
               "redraw": false
              },
              "mode": "immediate",
              "transition": {
               "duration": 0
              }
             }
            ],
            "label": "19",
            "method": "animate"
           },
           {
            "args": [
             [
              "20"
             ],
             {
              "frame": {
               "duration": 50,
               "redraw": false
              },
              "mode": "immediate",
              "transition": {
               "duration": 0
              }
             }
            ],
            "label": "20",
            "method": "animate"
           },
           {
            "args": [
             [
              "21"
             ],
             {
              "frame": {
               "duration": 50,
               "redraw": false
              },
              "mode": "immediate",
              "transition": {
               "duration": 0
              }
             }
            ],
            "label": "21",
            "method": "animate"
           },
           {
            "args": [
             [
              "22"
             ],
             {
              "frame": {
               "duration": 50,
               "redraw": false
              },
              "mode": "immediate",
              "transition": {
               "duration": 0
              }
             }
            ],
            "label": "22",
            "method": "animate"
           },
           {
            "args": [
             [
              "23"
             ],
             {
              "frame": {
               "duration": 50,
               "redraw": false
              },
              "mode": "immediate",
              "transition": {
               "duration": 0
              }
             }
            ],
            "label": "23",
            "method": "animate"
           },
           {
            "args": [
             [
              "24"
             ],
             {
              "frame": {
               "duration": 50,
               "redraw": false
              },
              "mode": "immediate",
              "transition": {
               "duration": 0
              }
             }
            ],
            "label": "24",
            "method": "animate"
           },
           {
            "args": [
             [
              "25"
             ],
             {
              "frame": {
               "duration": 50,
               "redraw": false
              },
              "mode": "immediate",
              "transition": {
               "duration": 0
              }
             }
            ],
            "label": "25",
            "method": "animate"
           },
           {
            "args": [
             [
              "26"
             ],
             {
              "frame": {
               "duration": 50,
               "redraw": false
              },
              "mode": "immediate",
              "transition": {
               "duration": 0
              }
             }
            ],
            "label": "26",
            "method": "animate"
           },
           {
            "args": [
             [
              "27"
             ],
             {
              "frame": {
               "duration": 50,
               "redraw": false
              },
              "mode": "immediate",
              "transition": {
               "duration": 0
              }
             }
            ],
            "label": "27",
            "method": "animate"
           },
           {
            "args": [
             [
              "28"
             ],
             {
              "frame": {
               "duration": 50,
               "redraw": false
              },
              "mode": "immediate",
              "transition": {
               "duration": 0
              }
             }
            ],
            "label": "28",
            "method": "animate"
           },
           {
            "args": [
             [
              "29"
             ],
             {
              "frame": {
               "duration": 50,
               "redraw": false
              },
              "mode": "immediate",
              "transition": {
               "duration": 0
              }
             }
            ],
            "label": "29",
            "method": "animate"
           },
           {
            "args": [
             [
              "30"
             ],
             {
              "frame": {
               "duration": 50,
               "redraw": false
              },
              "mode": "immediate",
              "transition": {
               "duration": 0
              }
             }
            ],
            "label": "30",
            "method": "animate"
           },
           {
            "args": [
             [
              "31"
             ],
             {
              "frame": {
               "duration": 50,
               "redraw": false
              },
              "mode": "immediate",
              "transition": {
               "duration": 0
              }
             }
            ],
            "label": "31",
            "method": "animate"
           },
           {
            "args": [
             [
              "32"
             ],
             {
              "frame": {
               "duration": 50,
               "redraw": false
              },
              "mode": "immediate",
              "transition": {
               "duration": 0
              }
             }
            ],
            "label": "32",
            "method": "animate"
           },
           {
            "args": [
             [
              "33"
             ],
             {
              "frame": {
               "duration": 50,
               "redraw": false
              },
              "mode": "immediate",
              "transition": {
               "duration": 0
              }
             }
            ],
            "label": "33",
            "method": "animate"
           },
           {
            "args": [
             [
              "34"
             ],
             {
              "frame": {
               "duration": 50,
               "redraw": false
              },
              "mode": "immediate",
              "transition": {
               "duration": 0
              }
             }
            ],
            "label": "34",
            "method": "animate"
           },
           {
            "args": [
             [
              "35"
             ],
             {
              "frame": {
               "duration": 50,
               "redraw": false
              },
              "mode": "immediate",
              "transition": {
               "duration": 0
              }
             }
            ],
            "label": "35",
            "method": "animate"
           },
           {
            "args": [
             [
              "36"
             ],
             {
              "frame": {
               "duration": 50,
               "redraw": false
              },
              "mode": "immediate",
              "transition": {
               "duration": 0
              }
             }
            ],
            "label": "36",
            "method": "animate"
           },
           {
            "args": [
             [
              "37"
             ],
             {
              "frame": {
               "duration": 50,
               "redraw": false
              },
              "mode": "immediate",
              "transition": {
               "duration": 0
              }
             }
            ],
            "label": "37",
            "method": "animate"
           },
           {
            "args": [
             [
              "38"
             ],
             {
              "frame": {
               "duration": 50,
               "redraw": false
              },
              "mode": "immediate",
              "transition": {
               "duration": 0
              }
             }
            ],
            "label": "38",
            "method": "animate"
           },
           {
            "args": [
             [
              "39"
             ],
             {
              "frame": {
               "duration": 50,
               "redraw": false
              },
              "mode": "immediate",
              "transition": {
               "duration": 0
              }
             }
            ],
            "label": "39",
            "method": "animate"
           },
           {
            "args": [
             [
              "40"
             ],
             {
              "frame": {
               "duration": 50,
               "redraw": false
              },
              "mode": "immediate",
              "transition": {
               "duration": 0
              }
             }
            ],
            "label": "40",
            "method": "animate"
           },
           {
            "args": [
             [
              "41"
             ],
             {
              "frame": {
               "duration": 50,
               "redraw": false
              },
              "mode": "immediate",
              "transition": {
               "duration": 0
              }
             }
            ],
            "label": "41",
            "method": "animate"
           },
           {
            "args": [
             [
              "42"
             ],
             {
              "frame": {
               "duration": 50,
               "redraw": false
              },
              "mode": "immediate",
              "transition": {
               "duration": 0
              }
             }
            ],
            "label": "42",
            "method": "animate"
           },
           {
            "args": [
             [
              "43"
             ],
             {
              "frame": {
               "duration": 50,
               "redraw": false
              },
              "mode": "immediate",
              "transition": {
               "duration": 0
              }
             }
            ],
            "label": "43",
            "method": "animate"
           },
           {
            "args": [
             [
              "44"
             ],
             {
              "frame": {
               "duration": 50,
               "redraw": false
              },
              "mode": "immediate",
              "transition": {
               "duration": 0
              }
             }
            ],
            "label": "44",
            "method": "animate"
           },
           {
            "args": [
             [
              "45"
             ],
             {
              "frame": {
               "duration": 50,
               "redraw": false
              },
              "mode": "immediate",
              "transition": {
               "duration": 0
              }
             }
            ],
            "label": "45",
            "method": "animate"
           },
           {
            "args": [
             [
              "46"
             ],
             {
              "frame": {
               "duration": 50,
               "redraw": false
              },
              "mode": "immediate",
              "transition": {
               "duration": 0
              }
             }
            ],
            "label": "46",
            "method": "animate"
           },
           {
            "args": [
             [
              "47"
             ],
             {
              "frame": {
               "duration": 50,
               "redraw": false
              },
              "mode": "immediate",
              "transition": {
               "duration": 0
              }
             }
            ],
            "label": "47",
            "method": "animate"
           },
           {
            "args": [
             [
              "48"
             ],
             {
              "frame": {
               "duration": 50,
               "redraw": false
              },
              "mode": "immediate",
              "transition": {
               "duration": 0
              }
             }
            ],
            "label": "48",
            "method": "animate"
           },
           {
            "args": [
             [
              "49"
             ],
             {
              "frame": {
               "duration": 50,
               "redraw": false
              },
              "mode": "immediate",
              "transition": {
               "duration": 0
              }
             }
            ],
            "label": "49",
            "method": "animate"
           }
          ],
          "transition": {
           "duration": 50,
           "easing": "cubic-in-out"
          },
          "x": 0.1,
          "xanchor": "left",
          "y": 0,
          "yanchor": "top"
         }
        ],
        "template": {
         "data": {
          "bar": [
           {
            "error_x": {
             "color": "#2a3f5f"
            },
            "error_y": {
             "color": "#2a3f5f"
            },
            "marker": {
             "line": {
              "color": "#E5ECF6",
              "width": 0.5
             },
             "pattern": {
              "fillmode": "overlay",
              "size": 10,
              "solidity": 0.2
             }
            },
            "type": "bar"
           }
          ],
          "barpolar": [
           {
            "marker": {
             "line": {
              "color": "#E5ECF6",
              "width": 0.5
             },
             "pattern": {
              "fillmode": "overlay",
              "size": 10,
              "solidity": 0.2
             }
            },
            "type": "barpolar"
           }
          ],
          "carpet": [
           {
            "aaxis": {
             "endlinecolor": "#2a3f5f",
             "gridcolor": "white",
             "linecolor": "white",
             "minorgridcolor": "white",
             "startlinecolor": "#2a3f5f"
            },
            "baxis": {
             "endlinecolor": "#2a3f5f",
             "gridcolor": "white",
             "linecolor": "white",
             "minorgridcolor": "white",
             "startlinecolor": "#2a3f5f"
            },
            "type": "carpet"
           }
          ],
          "choropleth": [
           {
            "colorbar": {
             "outlinewidth": 0,
             "ticks": ""
            },
            "type": "choropleth"
           }
          ],
          "contour": [
           {
            "colorbar": {
             "outlinewidth": 0,
             "ticks": ""
            },
            "colorscale": [
             [
              0,
              "#0d0887"
             ],
             [
              0.1111111111111111,
              "#46039f"
             ],
             [
              0.2222222222222222,
              "#7201a8"
             ],
             [
              0.3333333333333333,
              "#9c179e"
             ],
             [
              0.4444444444444444,
              "#bd3786"
             ],
             [
              0.5555555555555556,
              "#d8576b"
             ],
             [
              0.6666666666666666,
              "#ed7953"
             ],
             [
              0.7777777777777778,
              "#fb9f3a"
             ],
             [
              0.8888888888888888,
              "#fdca26"
             ],
             [
              1,
              "#f0f921"
             ]
            ],
            "type": "contour"
           }
          ],
          "contourcarpet": [
           {
            "colorbar": {
             "outlinewidth": 0,
             "ticks": ""
            },
            "type": "contourcarpet"
           }
          ],
          "heatmap": [
           {
            "colorbar": {
             "outlinewidth": 0,
             "ticks": ""
            },
            "colorscale": [
             [
              0,
              "#0d0887"
             ],
             [
              0.1111111111111111,
              "#46039f"
             ],
             [
              0.2222222222222222,
              "#7201a8"
             ],
             [
              0.3333333333333333,
              "#9c179e"
             ],
             [
              0.4444444444444444,
              "#bd3786"
             ],
             [
              0.5555555555555556,
              "#d8576b"
             ],
             [
              0.6666666666666666,
              "#ed7953"
             ],
             [
              0.7777777777777778,
              "#fb9f3a"
             ],
             [
              0.8888888888888888,
              "#fdca26"
             ],
             [
              1,
              "#f0f921"
             ]
            ],
            "type": "heatmap"
           }
          ],
          "heatmapgl": [
           {
            "colorbar": {
             "outlinewidth": 0,
             "ticks": ""
            },
            "colorscale": [
             [
              0,
              "#0d0887"
             ],
             [
              0.1111111111111111,
              "#46039f"
             ],
             [
              0.2222222222222222,
              "#7201a8"
             ],
             [
              0.3333333333333333,
              "#9c179e"
             ],
             [
              0.4444444444444444,
              "#bd3786"
             ],
             [
              0.5555555555555556,
              "#d8576b"
             ],
             [
              0.6666666666666666,
              "#ed7953"
             ],
             [
              0.7777777777777778,
              "#fb9f3a"
             ],
             [
              0.8888888888888888,
              "#fdca26"
             ],
             [
              1,
              "#f0f921"
             ]
            ],
            "type": "heatmapgl"
           }
          ],
          "histogram": [
           {
            "marker": {
             "pattern": {
              "fillmode": "overlay",
              "size": 10,
              "solidity": 0.2
             }
            },
            "type": "histogram"
           }
          ],
          "histogram2d": [
           {
            "colorbar": {
             "outlinewidth": 0,
             "ticks": ""
            },
            "colorscale": [
             [
              0,
              "#0d0887"
             ],
             [
              0.1111111111111111,
              "#46039f"
             ],
             [
              0.2222222222222222,
              "#7201a8"
             ],
             [
              0.3333333333333333,
              "#9c179e"
             ],
             [
              0.4444444444444444,
              "#bd3786"
             ],
             [
              0.5555555555555556,
              "#d8576b"
             ],
             [
              0.6666666666666666,
              "#ed7953"
             ],
             [
              0.7777777777777778,
              "#fb9f3a"
             ],
             [
              0.8888888888888888,
              "#fdca26"
             ],
             [
              1,
              "#f0f921"
             ]
            ],
            "type": "histogram2d"
           }
          ],
          "histogram2dcontour": [
           {
            "colorbar": {
             "outlinewidth": 0,
             "ticks": ""
            },
            "colorscale": [
             [
              0,
              "#0d0887"
             ],
             [
              0.1111111111111111,
              "#46039f"
             ],
             [
              0.2222222222222222,
              "#7201a8"
             ],
             [
              0.3333333333333333,
              "#9c179e"
             ],
             [
              0.4444444444444444,
              "#bd3786"
             ],
             [
              0.5555555555555556,
              "#d8576b"
             ],
             [
              0.6666666666666666,
              "#ed7953"
             ],
             [
              0.7777777777777778,
              "#fb9f3a"
             ],
             [
              0.8888888888888888,
              "#fdca26"
             ],
             [
              1,
              "#f0f921"
             ]
            ],
            "type": "histogram2dcontour"
           }
          ],
          "mesh3d": [
           {
            "colorbar": {
             "outlinewidth": 0,
             "ticks": ""
            },
            "type": "mesh3d"
           }
          ],
          "parcoords": [
           {
            "line": {
             "colorbar": {
              "outlinewidth": 0,
              "ticks": ""
             }
            },
            "type": "parcoords"
           }
          ],
          "pie": [
           {
            "automargin": true,
            "type": "pie"
           }
          ],
          "scatter": [
           {
            "fillpattern": {
             "fillmode": "overlay",
             "size": 10,
             "solidity": 0.2
            },
            "type": "scatter"
           }
          ],
          "scatter3d": [
           {
            "line": {
             "colorbar": {
              "outlinewidth": 0,
              "ticks": ""
             }
            },
            "marker": {
             "colorbar": {
              "outlinewidth": 0,
              "ticks": ""
             }
            },
            "type": "scatter3d"
           }
          ],
          "scattercarpet": [
           {
            "marker": {
             "colorbar": {
              "outlinewidth": 0,
              "ticks": ""
             }
            },
            "type": "scattercarpet"
           }
          ],
          "scattergeo": [
           {
            "marker": {
             "colorbar": {
              "outlinewidth": 0,
              "ticks": ""
             }
            },
            "type": "scattergeo"
           }
          ],
          "scattergl": [
           {
            "marker": {
             "colorbar": {
              "outlinewidth": 0,
              "ticks": ""
             }
            },
            "type": "scattergl"
           }
          ],
          "scattermapbox": [
           {
            "marker": {
             "colorbar": {
              "outlinewidth": 0,
              "ticks": ""
             }
            },
            "type": "scattermapbox"
           }
          ],
          "scatterpolar": [
           {
            "marker": {
             "colorbar": {
              "outlinewidth": 0,
              "ticks": ""
             }
            },
            "type": "scatterpolar"
           }
          ],
          "scatterpolargl": [
           {
            "marker": {
             "colorbar": {
              "outlinewidth": 0,
              "ticks": ""
             }
            },
            "type": "scatterpolargl"
           }
          ],
          "scatterternary": [
           {
            "marker": {
             "colorbar": {
              "outlinewidth": 0,
              "ticks": ""
             }
            },
            "type": "scatterternary"
           }
          ],
          "surface": [
           {
            "colorbar": {
             "outlinewidth": 0,
             "ticks": ""
            },
            "colorscale": [
             [
              0,
              "#0d0887"
             ],
             [
              0.1111111111111111,
              "#46039f"
             ],
             [
              0.2222222222222222,
              "#7201a8"
             ],
             [
              0.3333333333333333,
              "#9c179e"
             ],
             [
              0.4444444444444444,
              "#bd3786"
             ],
             [
              0.5555555555555556,
              "#d8576b"
             ],
             [
              0.6666666666666666,
              "#ed7953"
             ],
             [
              0.7777777777777778,
              "#fb9f3a"
             ],
             [
              0.8888888888888888,
              "#fdca26"
             ],
             [
              1,
              "#f0f921"
             ]
            ],
            "type": "surface"
           }
          ],
          "table": [
           {
            "cells": {
             "fill": {
              "color": "#EBF0F8"
             },
             "line": {
              "color": "white"
             }
            },
            "header": {
             "fill": {
              "color": "#C8D4E3"
             },
             "line": {
              "color": "white"
             }
            },
            "type": "table"
           }
          ]
         },
         "layout": {
          "annotationdefaults": {
           "arrowcolor": "#2a3f5f",
           "arrowhead": 0,
           "arrowwidth": 1
          },
          "autotypenumbers": "strict",
          "coloraxis": {
           "colorbar": {
            "outlinewidth": 0,
            "ticks": ""
           }
          },
          "colorscale": {
           "diverging": [
            [
             0,
             "#8e0152"
            ],
            [
             0.1,
             "#c51b7d"
            ],
            [
             0.2,
             "#de77ae"
            ],
            [
             0.3,
             "#f1b6da"
            ],
            [
             0.4,
             "#fde0ef"
            ],
            [
             0.5,
             "#f7f7f7"
            ],
            [
             0.6,
             "#e6f5d0"
            ],
            [
             0.7,
             "#b8e186"
            ],
            [
             0.8,
             "#7fbc41"
            ],
            [
             0.9,
             "#4d9221"
            ],
            [
             1,
             "#276419"
            ]
           ],
           "sequential": [
            [
             0,
             "#0d0887"
            ],
            [
             0.1111111111111111,
             "#46039f"
            ],
            [
             0.2222222222222222,
             "#7201a8"
            ],
            [
             0.3333333333333333,
             "#9c179e"
            ],
            [
             0.4444444444444444,
             "#bd3786"
            ],
            [
             0.5555555555555556,
             "#d8576b"
            ],
            [
             0.6666666666666666,
             "#ed7953"
            ],
            [
             0.7777777777777778,
             "#fb9f3a"
            ],
            [
             0.8888888888888888,
             "#fdca26"
            ],
            [
             1,
             "#f0f921"
            ]
           ],
           "sequentialminus": [
            [
             0,
             "#0d0887"
            ],
            [
             0.1111111111111111,
             "#46039f"
            ],
            [
             0.2222222222222222,
             "#7201a8"
            ],
            [
             0.3333333333333333,
             "#9c179e"
            ],
            [
             0.4444444444444444,
             "#bd3786"
            ],
            [
             0.5555555555555556,
             "#d8576b"
            ],
            [
             0.6666666666666666,
             "#ed7953"
            ],
            [
             0.7777777777777778,
             "#fb9f3a"
            ],
            [
             0.8888888888888888,
             "#fdca26"
            ],
            [
             1,
             "#f0f921"
            ]
           ]
          },
          "colorway": [
           "#636efa",
           "#EF553B",
           "#00cc96",
           "#ab63fa",
           "#FFA15A",
           "#19d3f3",
           "#FF6692",
           "#B6E880",
           "#FF97FF",
           "#FECB52"
          ],
          "font": {
           "color": "#2a3f5f"
          },
          "geo": {
           "bgcolor": "white",
           "lakecolor": "white",
           "landcolor": "#E5ECF6",
           "showlakes": true,
           "showland": true,
           "subunitcolor": "white"
          },
          "hoverlabel": {
           "align": "left"
          },
          "hovermode": "closest",
          "mapbox": {
           "style": "light"
          },
          "paper_bgcolor": "white",
          "plot_bgcolor": "#E5ECF6",
          "polar": {
           "angularaxis": {
            "gridcolor": "white",
            "linecolor": "white",
            "ticks": ""
           },
           "bgcolor": "#E5ECF6",
           "radialaxis": {
            "gridcolor": "white",
            "linecolor": "white",
            "ticks": ""
           }
          },
          "scene": {
           "xaxis": {
            "backgroundcolor": "#E5ECF6",
            "gridcolor": "white",
            "gridwidth": 2,
            "linecolor": "white",
            "showbackground": true,
            "ticks": "",
            "zerolinecolor": "white"
           },
           "yaxis": {
            "backgroundcolor": "#E5ECF6",
            "gridcolor": "white",
            "gridwidth": 2,
            "linecolor": "white",
            "showbackground": true,
            "ticks": "",
            "zerolinecolor": "white"
           },
           "zaxis": {
            "backgroundcolor": "#E5ECF6",
            "gridcolor": "white",
            "gridwidth": 2,
            "linecolor": "white",
            "showbackground": true,
            "ticks": "",
            "zerolinecolor": "white"
           }
          },
          "shapedefaults": {
           "line": {
            "color": "#2a3f5f"
           }
          },
          "ternary": {
           "aaxis": {
            "gridcolor": "white",
            "linecolor": "white",
            "ticks": ""
           },
           "baxis": {
            "gridcolor": "white",
            "linecolor": "white",
            "ticks": ""
           },
           "bgcolor": "#E5ECF6",
           "caxis": {
            "gridcolor": "white",
            "linecolor": "white",
            "ticks": ""
           }
          },
          "title": {
           "x": 0.05
          },
          "xaxis": {
           "automargin": true,
           "gridcolor": "white",
           "linecolor": "white",
           "ticks": "",
           "title": {
            "standoff": 15
           },
           "zerolinecolor": "white",
           "zerolinewidth": 2
          },
          "yaxis": {
           "automargin": true,
           "gridcolor": "white",
           "linecolor": "white",
           "ticks": "",
           "title": {
            "standoff": 15
           },
           "zerolinecolor": "white",
           "zerolinewidth": 2
          }
         }
        },
        "updatemenus": [
         {
          "buttons": [
           {
            "args": [
             null,
             {
              "frame": {
               "duration": 50,
               "redraw": false
              },
              "fromcurrent": true,
              "transition": {
               "duration": 0
              }
             }
            ],
            "label": "⏵",
            "method": "animate"
           },
           {
            "args": [
             [
              null
             ],
             {
              "frame": {
               "duration": 0,
               "redraw": false
              },
              "mode": "immediate",
              "transition": {
               "duration": 0
              }
             }
            ],
            "label": "⏸",
            "method": "animate"
           }
          ],
          "direction": "left",
          "pad": {
           "r": 10,
           "t": 87
          },
          "showactive": false,
          "type": "buttons",
          "x": 0.1,
          "xanchor": "right",
          "y": 0,
          "yanchor": "top"
         }
        ],
        "xaxis": {
         "range": [
          -5,
          125
         ],
         "visible": false
        },
        "yaxis": {
         "range": [
          -5,
          58.3
         ],
         "scaleanchor": "x",
         "scaleratio": 1,
         "visible": false
        }
       }
      }
     },
     "metadata": {},
     "output_type": "display_data"
    }
   ],
   "source": [
    "field.fig.show()"
   ]
  },
  {
   "cell_type": "code",
   "execution_count": 6,
   "metadata": {},
   "outputs": [],
   "source": [
    "field_proba = Field()\n",
    "field_proba.draw_scrimmage_and_first_down(**test_play_tracking[[\"absoluteYardlineNumber\", \"yardsToGo\", \"playDirection\"]].iloc[0].to_dict())\n",
    "field_proba.create_tackling_probability_animation(test_play_tracking)"
   ]
  },
  {
   "cell_type": "code",
   "execution_count": 8,
   "metadata": {},
   "outputs": [
    {
     "data": {
      "application/vnd.plotly.v1+json": {
       "config": {
        "plotlyServerURL": "https://plot.ly"
       },
       "data": [
        {
         "marker": {
          "cmax": 1,
          "cmin": 0,
          "color": "#fff2eb",
          "colorbar": {
           "len": 0.85,
           "thickness": 10,
           "title": {
            "text": "defense"
           },
           "x": 1.03,
           "y": 0.4
          },
          "colorscale": [
           [
            0,
            "rgb(255,245,240)"
           ],
           [
            0.125,
            "rgb(254,224,210)"
           ],
           [
            0.25,
            "rgb(252,187,161)"
           ],
           [
            0.375,
            "rgb(252,146,114)"
           ],
           [
            0.5,
            "rgb(251,106,74)"
           ],
           [
            0.625,
            "rgb(239,59,44)"
           ],
           [
            0.75,
            "rgb(203,24,29)"
           ],
           [
            0.875,
            "rgb(165,15,21)"
           ],
           [
            1,
            "rgb(103,0,13)"
           ]
          ],
          "size": 10
         },
         "mode": "markers",
         "name": "defense",
         "showlegend": false,
         "type": "scatter",
         "x": [
          67.32,
          71.28,
          64.67,
          68.95,
          71.11,
          71.34,
          57.93,
          70.55,
          71.08,
          71.48,
          60.84
         ],
         "y": [
          29.83,
          26.41,
          40.76,
          24.25,
          35.96,
          31.73,
          22.18,
          19.07,
          29.01,
          22.81,
          34.71
         ]
        },
        {
         "hoverinfo": "none",
         "marker": {
          "color": "black",
          "size": 10
         },
         "mode": "markers",
         "name": "offense",
         "type": "scatter",
         "x": [
          73.13,
          72.5,
          73.03,
          73.15,
          73.53,
          79.61,
          73.86,
          73.06,
          72.93,
          74.47,
          73.16
         ],
         "y": [
          27.64,
          29.46,
          39.5,
          26.04,
          29.54,
          29.56,
          34.58,
          31.23,
          20.38,
          24.78,
          32.8
         ]
        },
        {
         "hoverinfo": "none",
         "marker": {
          "color": "yellow",
          "opacity": 0,
          "size": 10
         },
         "mode": "markers",
         "name": "ball_carrier",
         "type": "scatter",
         "x": [
          0
         ],
         "y": [
          0
         ]
        }
       ],
       "frames": [
        {
         "data": [
          {
           "marker": {
            "cmax": 1,
            "cmin": 0,
            "color": "#fff2eb",
            "colorbar": {
             "len": 0.85,
             "thickness": 10,
             "title": {
              "text": "defense"
             },
             "x": 1.03,
             "y": 0.4
            },
            "colorscale": [
             [
              0,
              "rgb(255,245,240)"
             ],
             [
              0.125,
              "rgb(254,224,210)"
             ],
             [
              0.25,
              "rgb(252,187,161)"
             ],
             [
              0.375,
              "rgb(252,146,114)"
             ],
             [
              0.5,
              "rgb(251,106,74)"
             ],
             [
              0.625,
              "rgb(239,59,44)"
             ],
             [
              0.75,
              "rgb(203,24,29)"
             ],
             [
              0.875,
              "rgb(165,15,21)"
             ],
             [
              1,
              "rgb(103,0,13)"
             ]
            ],
            "size": 10
           },
           "mode": "markers",
           "name": "defense",
           "showlegend": false,
           "type": "scatter",
           "x": [
            67.32,
            71.28,
            64.67,
            68.95,
            71.11,
            71.34,
            57.93,
            70.55,
            71.08,
            71.48,
            60.84
           ],
           "y": [
            29.83,
            26.41,
            40.76,
            24.25,
            35.96,
            31.73,
            22.18,
            19.07,
            29.01,
            22.81,
            34.71
           ]
          },
          {
           "hoverinfo": "none",
           "marker": {
            "color": "black",
            "size": 10
           },
           "mode": "markers",
           "name": "offense",
           "type": "scatter",
           "x": [
            73.13,
            72.5,
            73.03,
            73.15,
            73.53,
            79.61,
            73.86,
            73.06,
            72.93,
            74.47,
            73.16
           ],
           "y": [
            27.64,
            29.46,
            39.5,
            26.04,
            29.54,
            29.56,
            34.58,
            31.23,
            20.38,
            24.78,
            32.8
           ]
          },
          {
           "hoverinfo": "none",
           "marker": {
            "color": "yellow",
            "opacity": 0,
            "size": 10
           },
           "mode": "markers",
           "name": "ball_carrier",
           "type": "scatter",
           "x": [
            0
           ],
           "y": [
            0
           ]
          }
         ],
         "name": "1"
        },
        {
         "data": [
          {
           "marker": {
            "cmax": 1,
            "cmin": 0,
            "color": "#ffeee7",
            "colorbar": {
             "len": 0.85,
             "thickness": 10,
             "title": {
              "text": "defense"
             },
             "x": 1.03,
             "y": 0.4
            },
            "colorscale": [
             [
              0,
              "rgb(255,245,240)"
             ],
             [
              0.125,
              "rgb(254,224,210)"
             ],
             [
              0.25,
              "rgb(252,187,161)"
             ],
             [
              0.375,
              "rgb(252,146,114)"
             ],
             [
              0.5,
              "rgb(251,106,74)"
             ],
             [
              0.625,
              "rgb(239,59,44)"
             ],
             [
              0.75,
              "rgb(203,24,29)"
             ],
             [
              0.875,
              "rgb(165,15,21)"
             ],
             [
              1,
              "rgb(103,0,13)"
             ]
            ],
            "size": 10
           },
           "mode": "markers",
           "name": "defense",
           "showlegend": false,
           "type": "scatter",
           "x": [
            67.32,
            71.29,
            64.67,
            68.94,
            71.1,
            71.33,
            57.92,
            70.59,
            71.08,
            71.48,
            60.84
           ],
           "y": [
            29.84,
            26.41,
            40.77,
            24.28,
            35.96,
            31.75,
            22.18,
            19.12,
            29.01,
            22.84,
            34.71
           ]
          },
          {
           "hoverinfo": "none",
           "marker": {
            "color": "black",
            "size": 10
           },
           "mode": "markers",
           "name": "offense",
           "type": "scatter",
           "x": [
            73.13,
            72.5,
            73.03,
            73.15,
            73.53,
            79.6,
            73.82,
            73.06,
            72.93,
            74.5,
            73.16
           ],
           "y": [
            27.64,
            29.47,
            39.5,
            26.04,
            29.54,
            29.56,
            34.59,
            31.23,
            20.38,
            25,
            32.8
           ]
          },
          {
           "hoverinfo": "none",
           "marker": {
            "color": "yellow",
            "opacity": 0,
            "size": 10
           },
           "mode": "markers",
           "name": "ball_carrier",
           "type": "scatter",
           "x": [
            0
           ],
           "y": [
            0
           ]
          }
         ],
         "name": "2"
        },
        {
         "data": [
          {
           "marker": {
            "cmax": 1,
            "cmin": 0,
            "color": "#ffebe2",
            "colorbar": {
             "len": 0.85,
             "thickness": 10,
             "title": {
              "text": "defense"
             },
             "x": 1.03,
             "y": 0.4
            },
            "colorscale": [
             [
              0,
              "rgb(255,245,240)"
             ],
             [
              0.125,
              "rgb(254,224,210)"
             ],
             [
              0.25,
              "rgb(252,187,161)"
             ],
             [
              0.375,
              "rgb(252,146,114)"
             ],
             [
              0.5,
              "rgb(251,106,74)"
             ],
             [
              0.625,
              "rgb(239,59,44)"
             ],
             [
              0.75,
              "rgb(203,24,29)"
             ],
             [
              0.875,
              "rgb(165,15,21)"
             ],
             [
              1,
              "rgb(103,0,13)"
             ]
            ],
            "size": 10
           },
           "mode": "markers",
           "name": "defense",
           "showlegend": false,
           "type": "scatter",
           "x": [
            67.32,
            71.29,
            64.66,
            68.93,
            71.1,
            71.33,
            57.91,
            70.62,
            71.08,
            71.47,
            60.84
           ],
           "y": [
            29.86,
            26.41,
            40.79,
            24.32,
            35.95,
            31.76,
            22.19,
            19.16,
            29.01,
            22.87,
            34.71
           ]
          },
          {
           "hoverinfo": "none",
           "marker": {
            "color": "black",
            "size": 10
           },
           "mode": "markers",
           "name": "offense",
           "type": "scatter",
           "x": [
            73.13,
            72.51,
            73.03,
            73.15,
            73.53,
            79.6,
            73.84,
            73.06,
            72.93,
            74.53,
            73.15
           ],
           "y": [
            27.63,
            29.47,
            39.5,
            26.04,
            29.55,
            29.56,
            34.57,
            31.23,
            20.38,
            25.26,
            32.8
           ]
          },
          {
           "hoverinfo": "none",
           "marker": {
            "color": "yellow",
            "opacity": 0,
            "size": 10
           },
           "mode": "markers",
           "name": "ball_carrier",
           "type": "scatter",
           "x": [
            0
           ],
           "y": [
            0
           ]
          }
         ],
         "name": "3"
        },
        {
         "data": [
          {
           "marker": {
            "cmax": 1,
            "cmin": 0,
            "color": "#fee8dd",
            "colorbar": {
             "len": 0.85,
             "thickness": 10,
             "title": {
              "text": "defense"
             },
             "x": 1.03,
             "y": 0.4
            },
            "colorscale": [
             [
              0,
              "rgb(255,245,240)"
             ],
             [
              0.125,
              "rgb(254,224,210)"
             ],
             [
              0.25,
              "rgb(252,187,161)"
             ],
             [
              0.375,
              "rgb(252,146,114)"
             ],
             [
              0.5,
              "rgb(251,106,74)"
             ],
             [
              0.625,
              "rgb(239,59,44)"
             ],
             [
              0.75,
              "rgb(203,24,29)"
             ],
             [
              0.875,
              "rgb(165,15,21)"
             ],
             [
              1,
              "rgb(103,0,13)"
             ]
            ],
            "size": 10
           },
           "mode": "markers",
           "name": "defense",
           "showlegend": false,
           "type": "scatter",
           "x": [
            67.33,
            71.29,
            64.66,
            68.91,
            71.1,
            71.33,
            57.87,
            70.64,
            71.08,
            71.45,
            60.85
           ],
           "y": [
            29.89,
            26.41,
            40.81,
            24.37,
            35.94,
            31.76,
            22.19,
            19.2,
            29.01,
            22.91,
            34.71
           ]
          },
          {
           "hoverinfo": "none",
           "marker": {
            "color": "black",
            "size": 10
           },
           "mode": "markers",
           "name": "offense",
           "type": "scatter",
           "x": [
            73.13,
            72.51,
            73.03,
            73.15,
            73.53,
            79.6,
            73.84,
            73.06,
            72.93,
            74.56,
            73.15
           ],
           "y": [
            27.64,
            29.47,
            39.5,
            26.04,
            29.55,
            29.56,
            34.57,
            31.23,
            20.38,
            25.57,
            32.8
           ]
          },
          {
           "hoverinfo": "none",
           "marker": {
            "color": "yellow",
            "opacity": 0,
            "size": 10
           },
           "mode": "markers",
           "name": "ball_carrier",
           "type": "scatter",
           "x": [
            0
           ],
           "y": [
            0
           ]
          }
         ],
         "name": "4"
        },
        {
         "data": [
          {
           "marker": {
            "cmax": 1,
            "cmin": 0,
            "color": "#fee4d8",
            "colorbar": {
             "len": 0.85,
             "thickness": 10,
             "title": {
              "text": "defense"
             },
             "x": 1.03,
             "y": 0.4
            },
            "colorscale": [
             [
              0,
              "rgb(255,245,240)"
             ],
             [
              0.125,
              "rgb(254,224,210)"
             ],
             [
              0.25,
              "rgb(252,187,161)"
             ],
             [
              0.375,
              "rgb(252,146,114)"
             ],
             [
              0.5,
              "rgb(251,106,74)"
             ],
             [
              0.625,
              "rgb(239,59,44)"
             ],
             [
              0.75,
              "rgb(203,24,29)"
             ],
             [
              0.875,
              "rgb(165,15,21)"
             ],
             [
              1,
              "rgb(103,0,13)"
             ]
            ],
            "size": 10
           },
           "mode": "markers",
           "name": "defense",
           "showlegend": false,
           "type": "scatter",
           "x": [
            67.35,
            71.29,
            64.66,
            68.89,
            71.09,
            71.33,
            57.82,
            70.66,
            71.08,
            71.45,
            60.85
           ],
           "y": [
            29.92,
            26.42,
            40.85,
            24.42,
            35.94,
            31.77,
            22.16,
            19.24,
            29.01,
            22.97,
            34.71
           ]
          },
          {
           "hoverinfo": "none",
           "marker": {
            "color": "black",
            "size": 10
           },
           "mode": "markers",
           "name": "offense",
           "type": "scatter",
           "x": [
            73.13,
            72.5,
            73.03,
            73.15,
            73.54,
            79.6,
            73.83,
            73.06,
            72.94,
            74.58,
            73.15
           ],
           "y": [
            27.65,
            29.46,
            39.5,
            26.04,
            29.56,
            29.56,
            34.54,
            31.24,
            20.38,
            25.93,
            32.8
           ]
          },
          {
           "hoverinfo": "none",
           "marker": {
            "color": "yellow",
            "opacity": 0,
            "size": 10
           },
           "mode": "markers",
           "name": "ball_carrier",
           "type": "scatter",
           "x": [
            0
           ],
           "y": [
            0
           ]
          }
         ],
         "name": "5"
        },
        {
         "data": [
          {
           "marker": {
            "cmax": 1,
            "cmin": 0,
            "color": "#fee1d3",
            "colorbar": {
             "len": 0.85,
             "thickness": 10,
             "title": {
              "text": "defense"
             },
             "x": 1.03,
             "y": 0.4
            },
            "colorscale": [
             [
              0,
              "rgb(255,245,240)"
             ],
             [
              0.125,
              "rgb(254,224,210)"
             ],
             [
              0.25,
              "rgb(252,187,161)"
             ],
             [
              0.375,
              "rgb(252,146,114)"
             ],
             [
              0.5,
              "rgb(251,106,74)"
             ],
             [
              0.625,
              "rgb(239,59,44)"
             ],
             [
              0.75,
              "rgb(203,24,29)"
             ],
             [
              0.875,
              "rgb(165,15,21)"
             ],
             [
              1,
              "rgb(103,0,13)"
             ]
            ],
            "size": 10
           },
           "mode": "markers",
           "name": "defense",
           "showlegend": false,
           "type": "scatter",
           "x": [
            67.35,
            71.3,
            64.66,
            68.87,
            71.09,
            71.33,
            57.77,
            70.67,
            71.09,
            71.44,
            60.86
           ],
           "y": [
            29.96,
            26.43,
            40.9,
            24.48,
            35.93,
            31.77,
            22.13,
            19.27,
            29.03,
            23.01,
            34.72
           ]
          },
          {
           "hoverinfo": "none",
           "marker": {
            "color": "black",
            "size": 10
           },
           "mode": "markers",
           "name": "offense",
           "type": "scatter",
           "x": [
            73.13,
            72.5,
            73.03,
            73.15,
            79.6,
            73.82,
            73.06,
            72.93,
            74.61,
            73.15
           ],
           "y": [
            27.67,
            29.47,
            39.5,
            26.05,
            29.56,
            34.57,
            31.24,
            20.38,
            26.33,
            32.8
           ]
          },
          {
           "hoverinfo": "none",
           "marker": {
            "color": "yellow",
            "opacity": 1,
            "size": 10
           },
           "mode": "markers",
           "name": "ball_carrier",
           "type": "scatter",
           "x": [
            73.55
           ],
           "y": [
            29.56
           ]
          }
         ],
         "name": "6"
        },
        {
         "data": [
          {
           "marker": {
            "cmax": 1,
            "cmin": 0,
            "color": "#fedbcc",
            "colorbar": {
             "len": 0.85,
             "thickness": 10,
             "title": {
              "text": "defense"
             },
             "x": 1.03,
             "y": 0.4
            },
            "colorscale": [
             [
              0,
              "rgb(255,245,240)"
             ],
             [
              0.125,
              "rgb(254,224,210)"
             ],
             [
              0.25,
              "rgb(252,187,161)"
             ],
             [
              0.375,
              "rgb(252,146,114)"
             ],
             [
              0.5,
              "rgb(251,106,74)"
             ],
             [
              0.625,
              "rgb(239,59,44)"
             ],
             [
              0.75,
              "rgb(203,24,29)"
             ],
             [
              0.875,
              "rgb(165,15,21)"
             ],
             [
              1,
              "rgb(103,0,13)"
             ]
            ],
            "size": 10
           },
           "mode": "markers",
           "name": "defense",
           "showlegend": false,
           "type": "scatter",
           "x": [
            67.34,
            71.31,
            64.65,
            68.84,
            71.1,
            71.33,
            57.72,
            70.68,
            71.09,
            71.43,
            60.86
           ],
           "y": [
            29.99,
            26.43,
            40.95,
            24.55,
            35.94,
            31.77,
            22.12,
            19.3,
            29.04,
            23.06,
            34.72
           ]
          },
          {
           "hoverinfo": "none",
           "marker": {
            "color": "black",
            "size": 10
           },
           "mode": "markers",
           "name": "offense",
           "type": "scatter",
           "x": [
            73.11,
            72.49,
            73.03,
            73.15,
            79.6,
            73.81,
            73.06,
            72.93,
            74.64,
            73.15
           ],
           "y": [
            27.71,
            29.49,
            39.5,
            26.05,
            29.56,
            34.57,
            31.24,
            20.38,
            26.78,
            32.8
           ]
          },
          {
           "hoverinfo": "none",
           "marker": {
            "color": "yellow",
            "opacity": 1,
            "size": 10
           },
           "mode": "markers",
           "name": "ball_carrier",
           "type": "scatter",
           "x": [
            73.55
           ],
           "y": [
            29.57
           ]
          }
         ],
         "name": "7"
        },
        {
         "data": [
          {
           "marker": {
            "cmax": 1,
            "cmin": 0,
            "color": "#fdd5c4",
            "colorbar": {
             "len": 0.85,
             "thickness": 10,
             "title": {
              "text": "defense"
             },
             "x": 1.03,
             "y": 0.4
            },
            "colorscale": [
             [
              0,
              "rgb(255,245,240)"
             ],
             [
              0.125,
              "rgb(254,224,210)"
             ],
             [
              0.25,
              "rgb(252,187,161)"
             ],
             [
              0.375,
              "rgb(252,146,114)"
             ],
             [
              0.5,
              "rgb(251,106,74)"
             ],
             [
              0.625,
              "rgb(239,59,44)"
             ],
             [
              0.75,
              "rgb(203,24,29)"
             ],
             [
              0.875,
              "rgb(165,15,21)"
             ],
             [
              1,
              "rgb(103,0,13)"
             ]
            ],
            "size": 10
           },
           "mode": "markers",
           "name": "defense",
           "showlegend": false,
           "type": "scatter",
           "x": [
            67.34,
            71.32,
            64.64,
            68.81,
            71.11,
            71.34,
            57.63,
            70.68,
            71.09,
            71.43,
            60.87
           ],
           "y": [
            30.07,
            26.44,
            40.99,
            24.62,
            35.95,
            31.78,
            22.09,
            19.32,
            29.05,
            23.09,
            34.73
           ]
          },
          {
           "hoverinfo": "none",
           "marker": {
            "color": "black",
            "size": 10
           },
           "mode": "markers",
           "name": "offense",
           "type": "scatter",
           "x": [
            73.09,
            72.48,
            73.02,
            73.14,
            79.6,
            73.8,
            73.05,
            72.93,
            74.67,
            73.14
           ],
           "y": [
            27.79,
            29.52,
            39.5,
            26.05,
            29.57,
            34.58,
            31.24,
            20.38,
            27.27,
            32.8
           ]
          },
          {
           "hoverinfo": "none",
           "marker": {
            "color": "yellow",
            "opacity": 1,
            "size": 10
           },
           "mode": "markers",
           "name": "ball_carrier",
           "type": "scatter",
           "x": [
            73.56
           ],
           "y": [
            29.57
           ]
          }
         ],
         "name": "8"
        },
        {
         "data": [
          {
           "marker": {
            "cmax": 1,
            "cmin": 0,
            "color": "#fdcebb",
            "colorbar": {
             "len": 0.85,
             "thickness": 10,
             "title": {
              "text": "defense"
             },
             "x": 1.03,
             "y": 0.4
            },
            "colorscale": [
             [
              0,
              "rgb(255,245,240)"
             ],
             [
              0.125,
              "rgb(254,224,210)"
             ],
             [
              0.25,
              "rgb(252,187,161)"
             ],
             [
              0.375,
              "rgb(252,146,114)"
             ],
             [
              0.5,
              "rgb(251,106,74)"
             ],
             [
              0.625,
              "rgb(239,59,44)"
             ],
             [
              0.75,
              "rgb(203,24,29)"
             ],
             [
              0.875,
              "rgb(165,15,21)"
             ],
             [
              1,
              "rgb(103,0,13)"
             ]
            ],
            "size": 10
           },
           "mode": "markers",
           "name": "defense",
           "showlegend": false,
           "type": "scatter",
           "x": [
            67.36,
            71.33,
            64.63,
            68.79,
            71.12,
            71.35,
            57.54,
            70.68,
            71.09,
            71.43,
            60.87
           ],
           "y": [
            30.12,
            26.47,
            41.04,
            24.69,
            35.96,
            31.8,
            22.04,
            19.33,
            29.06,
            23.14,
            34.73
           ]
          },
          {
           "hoverinfo": "none",
           "marker": {
            "color": "black",
            "size": 10
           },
           "mode": "markers",
           "name": "offense",
           "type": "scatter",
           "x": [
            73.05,
            72.44,
            73.02,
            73.13,
            79.6,
            73.79,
            73.04,
            72.92,
            74.68,
            73.12
           ],
           "y": [
            27.92,
            29.57,
            39.5,
            26.07,
            29.57,
            34.64,
            31.26,
            20.38,
            27.8,
            32.81
           ]
          },
          {
           "hoverinfo": "none",
           "marker": {
            "color": "yellow",
            "opacity": 1,
            "size": 10
           },
           "mode": "markers",
           "name": "ball_carrier",
           "type": "scatter",
           "x": [
            73.6
           ],
           "y": [
            29.6
           ]
          }
         ],
         "name": "9"
        },
        {
         "data": [
          {
           "marker": {
            "cmax": 1,
            "cmin": 0,
            "color": "#fdc9b3",
            "colorbar": {
             "len": 0.85,
             "thickness": 10,
             "title": {
              "text": "defense"
             },
             "x": 1.03,
             "y": 0.4
            },
            "colorscale": [
             [
              0,
              "rgb(255,245,240)"
             ],
             [
              0.125,
              "rgb(254,224,210)"
             ],
             [
              0.25,
              "rgb(252,187,161)"
             ],
             [
              0.375,
              "rgb(252,146,114)"
             ],
             [
              0.5,
              "rgb(251,106,74)"
             ],
             [
              0.625,
              "rgb(239,59,44)"
             ],
             [
              0.75,
              "rgb(203,24,29)"
             ],
             [
              0.875,
              "rgb(165,15,21)"
             ],
             [
              1,
              "rgb(103,0,13)"
             ]
            ],
            "size": 10
           },
           "mode": "markers",
           "name": "defense",
           "showlegend": false,
           "type": "scatter",
           "x": [
            67.37,
            71.36,
            64.62,
            68.77,
            71.13,
            71.37,
            57.46,
            70.69,
            71.11,
            71.43,
            60.87
           ],
           "y": [
            30.17,
            26.52,
            41.11,
            24.79,
            35.99,
            31.82,
            22.01,
            19.34,
            29.08,
            23.22,
            34.75
           ]
          },
          {
           "hoverinfo": "none",
           "marker": {
            "color": "black",
            "size": 10
           },
           "mode": "markers",
           "name": "offense",
           "type": "scatter",
           "x": [
            72.99,
            72.39,
            72.99,
            73.1,
            79.6,
            73.79,
            73.02,
            72.92,
            74.69,
            73.07
           ],
           "y": [
            28.09,
            29.65,
            39.5,
            26.11,
            29.59,
            34.66,
            31.32,
            20.39,
            28.36,
            32.82
           ]
          },
          {
           "hoverinfo": "none",
           "marker": {
            "color": "yellow",
            "opacity": 1,
            "size": 10
           },
           "mode": "markers",
           "name": "ball_carrier",
           "type": "scatter",
           "x": [
            73.65
           ],
           "y": [
            29.65
           ]
          }
         ],
         "name": "10"
        },
        {
         "data": [
          {
           "marker": {
            "cmax": 1,
            "cmin": 0,
            "color": "#fcc3ab",
            "colorbar": {
             "len": 0.85,
             "thickness": 10,
             "title": {
              "text": "defense"
             },
             "x": 1.03,
             "y": 0.4
            },
            "colorscale": [
             [
              0,
              "rgb(255,245,240)"
             ],
             [
              0.125,
              "rgb(254,224,210)"
             ],
             [
              0.25,
              "rgb(252,187,161)"
             ],
             [
              0.375,
              "rgb(252,146,114)"
             ],
             [
              0.5,
              "rgb(251,106,74)"
             ],
             [
              0.625,
              "rgb(239,59,44)"
             ],
             [
              0.75,
              "rgb(203,24,29)"
             ],
             [
              0.875,
              "rgb(165,15,21)"
             ],
             [
              1,
              "rgb(103,0,13)"
             ]
            ],
            "size": 10
           },
           "mode": "markers",
           "name": "defense",
           "showlegend": false,
           "type": "scatter",
           "x": [
            67.4,
            71.4,
            64.6,
            68.75,
            71.13,
            71.39,
            57.38,
            70.69,
            71.13,
            71.46,
            60.87
           ],
           "y": [
            30.24,
            26.63,
            41.18,
            24.9,
            36.02,
            31.86,
            21.96,
            19.34,
            29.13,
            23.33,
            34.78
           ]
          },
          {
           "hoverinfo": "none",
           "marker": {
            "color": "black",
            "size": 10
           },
           "mode": "markers",
           "name": "offense",
           "type": "scatter",
           "x": [
            72.91,
            72.33,
            72.94,
            73.03,
            79.59,
            73.78,
            72.99,
            72.89,
            74.67,
            73
           ],
           "y": [
            28.31,
            29.75,
            39.51,
            26.21,
            29.65,
            34.7,
            31.41,
            20.4,
            28.94,
            32.85
           ]
          },
          {
           "hoverinfo": "none",
           "marker": {
            "color": "yellow",
            "opacity": 1,
            "size": 10
           },
           "mode": "markers",
           "name": "ball_carrier",
           "type": "scatter",
           "x": [
            73.73
           ],
           "y": [
            29.72
           ]
          }
         ],
         "name": "11"
        },
        {
         "data": [
          {
           "marker": {
            "cmax": 1,
            "cmin": 0,
            "color": "#fcbda4",
            "colorbar": {
             "len": 0.85,
             "thickness": 10,
             "title": {
              "text": "defense"
             },
             "x": 1.03,
             "y": 0.4
            },
            "colorscale": [
             [
              0,
              "rgb(255,245,240)"
             ],
             [
              0.125,
              "rgb(254,224,210)"
             ],
             [
              0.25,
              "rgb(252,187,161)"
             ],
             [
              0.375,
              "rgb(252,146,114)"
             ],
             [
              0.5,
              "rgb(251,106,74)"
             ],
             [
              0.625,
              "rgb(239,59,44)"
             ],
             [
              0.75,
              "rgb(203,24,29)"
             ],
             [
              0.875,
              "rgb(165,15,21)"
             ],
             [
              1,
              "rgb(103,0,13)"
             ]
            ],
            "size": 10
           },
           "mode": "markers",
           "name": "defense",
           "showlegend": false,
           "type": "scatter",
           "x": [
            67.42,
            71.47,
            64.58,
            68.73,
            71.15,
            71.44,
            57.28,
            70.69,
            71.16,
            71.5,
            60.87
           ],
           "y": [
            30.31,
            26.78,
            41.26,
            25.02,
            36.07,
            31.92,
            21.92,
            19.35,
            29.19,
            23.48,
            34.81
           ]
          },
          {
           "hoverinfo": "none",
           "marker": {
            "color": "black",
            "size": 10
           },
           "mode": "markers",
           "name": "offense",
           "type": "scatter",
           "x": [
            72.79,
            72.25,
            72.83,
            72.95,
            79.59,
            73.76,
            72.95,
            72.88,
            74.62,
            72.91
           ],
           "y": [
            28.55,
            29.87,
            39.52,
            26.33,
            29.75,
            34.8,
            31.53,
            20.41,
            29.56,
            32.9
           ]
          },
          {
           "hoverinfo": "none",
           "marker": {
            "color": "yellow",
            "opacity": 1,
            "size": 10
           },
           "mode": "markers",
           "name": "ball_carrier",
           "type": "scatter",
           "x": [
            73.85
           ],
           "y": [
            29.8
           ]
          }
         ],
         "name": "12"
        },
        {
         "data": [
          {
           "marker": {
            "cmax": 1,
            "cmin": 0,
            "color": "#fcb79c",
            "colorbar": {
             "len": 0.85,
             "thickness": 10,
             "title": {
              "text": "defense"
             },
             "x": 1.03,
             "y": 0.4
            },
            "colorscale": [
             [
              0,
              "rgb(255,245,240)"
             ],
             [
              0.125,
              "rgb(254,224,210)"
             ],
             [
              0.25,
              "rgb(252,187,161)"
             ],
             [
              0.375,
              "rgb(252,146,114)"
             ],
             [
              0.5,
              "rgb(251,106,74)"
             ],
             [
              0.625,
              "rgb(239,59,44)"
             ],
             [
              0.75,
              "rgb(203,24,29)"
             ],
             [
              0.875,
              "rgb(165,15,21)"
             ],
             [
              1,
              "rgb(103,0,13)"
             ]
            ],
            "size": 10
           },
           "mode": "markers",
           "name": "defense",
           "showlegend": false,
           "type": "scatter",
           "x": [
            67.44,
            71.56,
            64.58,
            68.71,
            71.17,
            71.49,
            57.16,
            70.69,
            71.2,
            71.55,
            60.87
           ],
           "y": [
            30.38,
            26.99,
            41.33,
            25.16,
            36.15,
            32,
            21.86,
            19.36,
            29.27,
            23.68,
            34.84
           ]
          },
          {
           "hoverinfo": "none",
           "marker": {
            "color": "black",
            "size": 10
           },
           "mode": "markers",
           "name": "offense",
           "type": "scatter",
           "x": [
            72.67,
            72.13,
            72.67,
            72.86,
            79.58,
            73.73,
            72.91,
            72.85,
            74.55,
            72.8
           ],
           "y": [
            28.83,
            30.04,
            39.54,
            26.49,
            29.91,
            34.95,
            31.71,
            20.42,
            30.19,
            32.98
           ]
          },
          {
           "hoverinfo": "none",
           "marker": {
            "color": "yellow",
            "opacity": 1,
            "size": 10
           },
           "mode": "markers",
           "name": "ball_carrier",
           "type": "scatter",
           "x": [
            74
           ],
           "y": [
            29.91
           ]
          }
         ],
         "name": "13"
        },
        {
         "data": [
          {
           "marker": {
            "cmax": 1,
            "cmin": 0,
            "color": "#fcaf93",
            "colorbar": {
             "len": 0.85,
             "thickness": 10,
             "title": {
              "text": "defense"
             },
             "x": 1.03,
             "y": 0.4
            },
            "colorscale": [
             [
              0,
              "rgb(255,245,240)"
             ],
             [
              0.125,
              "rgb(254,224,210)"
             ],
             [
              0.25,
              "rgb(252,187,161)"
             ],
             [
              0.375,
              "rgb(252,146,114)"
             ],
             [
              0.5,
              "rgb(251,106,74)"
             ],
             [
              0.625,
              "rgb(239,59,44)"
             ],
             [
              0.75,
              "rgb(203,24,29)"
             ],
             [
              0.875,
              "rgb(165,15,21)"
             ],
             [
              1,
              "rgb(103,0,13)"
             ]
            ],
            "size": 10
           },
           "mode": "markers",
           "name": "defense",
           "showlegend": false,
           "type": "scatter",
           "x": [
            67.48,
            71.66,
            64.6,
            68.7,
            71.2,
            71.54,
            57.01,
            70.68,
            71.19,
            71.62,
            60.86
           ],
           "y": [
            30.49,
            27.24,
            41.44,
            25.33,
            36.27,
            32.11,
            21.81,
            19.37,
            29.4,
            23.94,
            34.88
           ]
          },
          {
           "hoverinfo": "none",
           "marker": {
            "color": "black",
            "size": 10
           },
           "mode": "markers",
           "name": "offense",
           "type": "scatter",
           "x": [
            72.54,
            72,
            72.44,
            72.75,
            79.55,
            73.68,
            72.86,
            72.78,
            74.45,
            72.68
           ],
           "y": [
            29.1,
            30.21,
            39.58,
            26.69,
            30.15,
            35.17,
            31.91,
            20.45,
            30.83,
            33.07
           ]
          },
          {
           "hoverinfo": "none",
           "marker": {
            "color": "yellow",
            "opacity": 1,
            "size": 10
           },
           "mode": "markers",
           "name": "ball_carrier",
           "type": "scatter",
           "x": [
            74.17
           ],
           "y": [
            30.03
           ]
          }
         ],
         "name": "14"
        },
        {
         "data": [
          {
           "marker": {
            "cmax": 1,
            "cmin": 0,
            "color": "#fca98c",
            "colorbar": {
             "len": 0.85,
             "thickness": 10,
             "title": {
              "text": "defense"
             },
             "x": 1.03,
             "y": 0.4
            },
            "colorscale": [
             [
              0,
              "rgb(255,245,240)"
             ],
             [
              0.125,
              "rgb(254,224,210)"
             ],
             [
              0.25,
              "rgb(252,187,161)"
             ],
             [
              0.375,
              "rgb(252,146,114)"
             ],
             [
              0.5,
              "rgb(251,106,74)"
             ],
             [
              0.625,
              "rgb(239,59,44)"
             ],
             [
              0.75,
              "rgb(203,24,29)"
             ],
             [
              0.875,
              "rgb(165,15,21)"
             ],
             [
              1,
              "rgb(103,0,13)"
             ]
            ],
            "size": 10
           },
           "mode": "markers",
           "name": "defense",
           "showlegend": false,
           "type": "scatter",
           "x": [
            67.56,
            71.78,
            64.6,
            68.68,
            71.26,
            71.6,
            56.82,
            70.67,
            71.15,
            71.71,
            60.86
           ],
           "y": [
            30.68,
            27.56,
            41.5,
            25.51,
            36.44,
            32.25,
            21.75,
            19.38,
            29.53,
            24.23,
            34.92
           ]
          },
          {
           "hoverinfo": "none",
           "marker": {
            "color": "black",
            "size": 10
           },
           "mode": "markers",
           "name": "offense",
           "type": "scatter",
           "x": [
            72.38,
            71.86,
            72.16,
            72.64,
            79.51,
            73.61,
            72.79,
            72.65,
            74.31,
            72.54
           ],
           "y": [
            29.37,
            30.41,
            39.62,
            26.94,
            30.43,
            35.45,
            32.14,
            20.49,
            31.48,
            33.22
           ]
          },
          {
           "hoverinfo": "none",
           "marker": {
            "color": "yellow",
            "opacity": 1,
            "size": 10
           },
           "mode": "markers",
           "name": "ball_carrier",
           "type": "scatter",
           "x": [
            74.39
           ],
           "y": [
            30.15
           ]
          }
         ],
         "name": "15"
        },
        {
         "data": [
          {
           "marker": {
            "cmax": 1,
            "cmin": 0,
            "color": "#fca285",
            "colorbar": {
             "len": 0.85,
             "thickness": 10,
             "title": {
              "text": "defense"
             },
             "x": 1.03,
             "y": 0.4
            },
            "colorscale": [
             [
              0,
              "rgb(255,245,240)"
             ],
             [
              0.125,
              "rgb(254,224,210)"
             ],
             [
              0.25,
              "rgb(252,187,161)"
             ],
             [
              0.375,
              "rgb(252,146,114)"
             ],
             [
              0.5,
              "rgb(251,106,74)"
             ],
             [
              0.625,
              "rgb(239,59,44)"
             ],
             [
              0.75,
              "rgb(203,24,29)"
             ],
             [
              0.875,
              "rgb(165,15,21)"
             ],
             [
              1,
              "rgb(103,0,13)"
             ]
            ],
            "size": 10
           },
           "mode": "markers",
           "name": "defense",
           "showlegend": false,
           "type": "scatter",
           "x": [
            67.65,
            71.9,
            64.63,
            68.66,
            71.33,
            71.67,
            56.6,
            70.64,
            71.1,
            71.8,
            60.85
           ],
           "y": [
            30.93,
            27.88,
            41.6,
            25.73,
            36.67,
            32.4,
            21.69,
            19.4,
            29.68,
            24.56,
            34.99
           ]
          },
          {
           "hoverinfo": "none",
           "marker": {
            "color": "black",
            "size": 10
           },
           "mode": "markers",
           "name": "offense",
           "type": "scatter",
           "x": [
            72.22,
            71.7,
            71.82,
            72.51,
            79.45,
            73.53,
            72.72,
            72.48,
            74.15,
            72.38
           ],
           "y": [
            29.65,
            30.62,
            39.67,
            27.22,
            30.77,
            35.77,
            32.39,
            20.56,
            32.15,
            33.37
           ]
          },
          {
           "hoverinfo": "none",
           "marker": {
            "color": "yellow",
            "opacity": 1,
            "size": 10
           },
           "mode": "markers",
           "name": "ball_carrier",
           "type": "scatter",
           "x": [
            74.62
           ],
           "y": [
            30.28
           ]
          }
         ],
         "name": "16"
        },
        {
         "data": [
          {
           "marker": {
            "cmax": 1,
            "cmin": 0,
            "color": "#fc9c7d",
            "colorbar": {
             "len": 0.85,
             "thickness": 10,
             "title": {
              "text": "defense"
             },
             "x": 1.03,
             "y": 0.4
            },
            "colorscale": [
             [
              0,
              "rgb(255,245,240)"
             ],
             [
              0.125,
              "rgb(254,224,210)"
             ],
             [
              0.25,
              "rgb(252,187,161)"
             ],
             [
              0.375,
              "rgb(252,146,114)"
             ],
             [
              0.5,
              "rgb(251,106,74)"
             ],
             [
              0.625,
              "rgb(239,59,44)"
             ],
             [
              0.75,
              "rgb(203,24,29)"
             ],
             [
              0.875,
              "rgb(165,15,21)"
             ],
             [
              1,
              "rgb(103,0,13)"
             ]
            ],
            "size": 10
           },
           "mode": "markers",
           "name": "defense",
           "showlegend": false,
           "type": "scatter",
           "x": [
            67.76,
            72.04,
            64.68,
            68.64,
            71.42,
            71.74,
            56.35,
            70.62,
            71.03,
            71.92,
            60.85
           ],
           "y": [
            31.26,
            28.22,
            41.7,
            25.97,
            36.94,
            32.57,
            21.63,
            19.44,
            29.84,
            24.92,
            35.08
           ]
          },
          {
           "hoverinfo": "none",
           "marker": {
            "color": "black",
            "size": 10
           },
           "mode": "markers",
           "name": "offense",
           "type": "scatter",
           "x": [
            72.03,
            71.53,
            71.44,
            72.38,
            79.38,
            73.43,
            72.65,
            72.26,
            73.96,
            72.21
           ],
           "y": [
            29.92,
            30.86,
            39.74,
            27.53,
            31.15,
            36.12,
            32.64,
            20.64,
            32.82,
            33.57
           ]
          },
          {
           "hoverinfo": "none",
           "marker": {
            "color": "yellow",
            "opacity": 1,
            "size": 10
           },
           "mode": "markers",
           "name": "ball_carrier",
           "type": "scatter",
           "x": [
            74.88
           ],
           "y": [
            30.4
           ]
          }
         ],
         "name": "17"
        },
        {
         "data": [
          {
           "marker": {
            "cmax": 1,
            "cmin": 0,
            "color": "#fc9474",
            "colorbar": {
             "len": 0.85,
             "thickness": 10,
             "title": {
              "text": "defense"
             },
             "x": 1.03,
             "y": 0.4
            },
            "colorscale": [
             [
              0,
              "rgb(255,245,240)"
             ],
             [
              0.125,
              "rgb(254,224,210)"
             ],
             [
              0.25,
              "rgb(252,187,161)"
             ],
             [
              0.375,
              "rgb(252,146,114)"
             ],
             [
              0.5,
              "rgb(251,106,74)"
             ],
             [
              0.625,
              "rgb(239,59,44)"
             ],
             [
              0.75,
              "rgb(203,24,29)"
             ],
             [
              0.875,
              "rgb(165,15,21)"
             ],
             [
              1,
              "rgb(103,0,13)"
             ]
            ],
            "size": 10
           },
           "mode": "markers",
           "name": "defense",
           "showlegend": false,
           "type": "scatter",
           "x": [
            67.91,
            72.18,
            64.76,
            68.63,
            71.53,
            71.81,
            56.07,
            70.57,
            70.93,
            72.04,
            60.85
           ],
           "y": [
            31.64,
            28.59,
            41.84,
            26.25,
            37.27,
            32.76,
            21.59,
            19.49,
            30.03,
            25.33,
            35.23
           ]
          },
          {
           "hoverinfo": "none",
           "marker": {
            "color": "black",
            "size": 10
           },
           "mode": "markers",
           "name": "offense",
           "type": "scatter",
           "x": [
            71.85,
            71.34,
            71,
            72.26,
            79.28,
            73.32,
            72.6,
            71.99,
            73.76,
            72.04
           ],
           "y": [
            30.18,
            31.11,
            39.82,
            27.88,
            31.57,
            36.5,
            32.92,
            20.74,
            33.5,
            33.77
           ]
          },
          {
           "hoverinfo": "none",
           "marker": {
            "color": "yellow",
            "opacity": 1,
            "size": 10
           },
           "mode": "markers",
           "name": "ball_carrier",
           "type": "scatter",
           "x": [
            75.16
           ],
           "y": [
            30.52
           ]
          }
         ],
         "name": "18"
        },
        {
         "data": [
          {
           "marker": {
            "cmax": 1,
            "cmin": 0,
            "color": "#fc8e6e",
            "colorbar": {
             "len": 0.85,
             "thickness": 10,
             "title": {
              "text": "defense"
             },
             "x": 1.03,
             "y": 0.4
            },
            "colorscale": [
             [
              0,
              "rgb(255,245,240)"
             ],
             [
              0.125,
              "rgb(254,224,210)"
             ],
             [
              0.25,
              "rgb(252,187,161)"
             ],
             [
              0.375,
              "rgb(252,146,114)"
             ],
             [
              0.5,
              "rgb(251,106,74)"
             ],
             [
              0.625,
              "rgb(239,59,44)"
             ],
             [
              0.75,
              "rgb(203,24,29)"
             ],
             [
              0.875,
              "rgb(165,15,21)"
             ],
             [
              1,
              "rgb(103,0,13)"
             ]
            ],
            "size": 10
           },
           "mode": "markers",
           "name": "defense",
           "showlegend": false,
           "type": "scatter",
           "x": [
            68.07,
            72.32,
            64.88,
            68.61,
            71.65,
            71.86,
            55.77,
            70.52,
            70.82,
            72.16,
            60.89
           ],
           "y": [
            32.09,
            28.99,
            42.01,
            26.54,
            37.63,
            32.96,
            21.56,
            19.56,
            30.22,
            25.77,
            35.42
           ]
          },
          {
           "hoverinfo": "none",
           "marker": {
            "color": "black",
            "size": 10
           },
           "mode": "markers",
           "name": "offense",
           "type": "scatter",
           "x": [
            71.66,
            71.14,
            70.54,
            72.14,
            75.46,
            73.24,
            72.52,
            71.68,
            73.54,
            71.85
           ],
           "y": [
            30.42,
            31.37,
            39.91,
            28.25,
            30.62,
            36.92,
            33.21,
            20.86,
            34.19,
            34.01
           ]
          },
          {
           "hoverinfo": "none",
           "marker": {
            "color": "yellow",
            "opacity": 1,
            "size": 10
           },
           "mode": "markers",
           "name": "ball_carrier",
           "type": "scatter",
           "x": [
            79.16
           ],
           "y": [
            32.03
           ]
          }
         ],
         "name": "19"
        },
        {
         "data": [
          {
           "marker": {
            "cmax": 1,
            "cmin": 0,
            "color": "#fc8767",
            "colorbar": {
             "len": 0.85,
             "thickness": 10,
             "title": {
              "text": "defense"
             },
             "x": 1.03,
             "y": 0.4
            },
            "colorscale": [
             [
              0,
              "rgb(255,245,240)"
             ],
             [
              0.125,
              "rgb(254,224,210)"
             ],
             [
              0.25,
              "rgb(252,187,161)"
             ],
             [
              0.375,
              "rgb(252,146,114)"
             ],
             [
              0.5,
              "rgb(251,106,74)"
             ],
             [
              0.625,
              "rgb(239,59,44)"
             ],
             [
              0.75,
              "rgb(203,24,29)"
             ],
             [
              0.875,
              "rgb(165,15,21)"
             ],
             [
              1,
              "rgb(103,0,13)"
             ]
            ],
            "size": 10
           },
           "mode": "markers",
           "name": "defense",
           "showlegend": false,
           "type": "scatter",
           "x": [
            68.23,
            72.46,
            65.03,
            68.59,
            71.78,
            71.9,
            55.43,
            70.43,
            70.68,
            72.29,
            60.93
           ],
           "y": [
            32.57,
            29.4,
            42.2,
            26.85,
            38.02,
            33.19,
            21.56,
            19.64,
            30.46,
            26.25,
            35.65
           ]
          },
          {
           "hoverinfo": "none",
           "marker": {
            "color": "black",
            "size": 10
           },
           "mode": "markers",
           "name": "offense",
           "type": "scatter",
           "x": [
            71.46,
            70.93,
            70.05,
            72.05,
            75.76,
            73.15,
            72.46,
            71.34,
            73.32,
            71.62
           ],
           "y": [
            30.65,
            31.64,
            40,
            28.67,
            30.68,
            37.37,
            33.51,
            21.01,
            34.9,
            34.29
           ]
          },
          {
           "hoverinfo": "none",
           "marker": {
            "color": "yellow",
            "opacity": 1,
            "size": 10
           },
           "mode": "markers",
           "name": "ball_carrier",
           "type": "scatter",
           "x": [
            79.01
           ],
           "y": [
            32.51
           ]
          }
         ],
         "name": "20"
        },
        {
         "data": [
          {
           "marker": {
            "cmax": 1,
            "cmin": 0,
            "color": "#fc8161",
            "colorbar": {
             "len": 0.85,
             "thickness": 10,
             "title": {
              "text": "defense"
             },
             "x": 1.03,
             "y": 0.4
            },
            "colorscale": [
             [
              0,
              "rgb(255,245,240)"
             ],
             [
              0.125,
              "rgb(254,224,210)"
             ],
             [
              0.25,
              "rgb(252,187,161)"
             ],
             [
              0.375,
              "rgb(252,146,114)"
             ],
             [
              0.5,
              "rgb(251,106,74)"
             ],
             [
              0.625,
              "rgb(239,59,44)"
             ],
             [
              0.75,
              "rgb(203,24,29)"
             ],
             [
              0.875,
              "rgb(165,15,21)"
             ],
             [
              1,
              "rgb(103,0,13)"
             ]
            ],
            "size": 10
           },
           "mode": "markers",
           "name": "defense",
           "showlegend": false,
           "type": "scatter",
           "x": [
            68.4,
            72.6,
            65.22,
            68.56,
            71.9,
            71.96,
            55.08,
            70.33,
            70.52,
            72.42,
            61.01
           ],
           "y": [
            33.09,
            29.81,
            42.41,
            27.16,
            38.45,
            33.43,
            21.59,
            19.74,
            30.69,
            26.75,
            35.91
           ]
          },
          {
           "hoverinfo": "none",
           "marker": {
            "color": "black",
            "size": 10
           },
           "mode": "markers",
           "name": "offense",
           "type": "scatter",
           "x": [
            71.26,
            70.72,
            69.55,
            71.96,
            76.07,
            73.07,
            72.39,
            70.96,
            73.1,
            71.38
           ],
           "y": [
            30.88,
            31.91,
            40.1,
            29.1,
            30.72,
            37.83,
            33.8,
            21.19,
            35.62,
            34.58
           ]
          },
          {
           "hoverinfo": "none",
           "marker": {
            "color": "yellow",
            "opacity": 1,
            "size": 10
           },
           "mode": "markers",
           "name": "ball_carrier",
           "type": "scatter",
           "x": [
            78.82
           ],
           "y": [
            33.01
           ]
          }
         ],
         "name": "21"
        },
        {
         "data": [
          {
           "marker": {
            "cmax": 1,
            "cmin": 0,
            "color": "#fb7b5b",
            "colorbar": {
             "len": 0.85,
             "thickness": 10,
             "title": {
              "text": "defense"
             },
             "x": 1.03,
             "y": 0.4
            },
            "colorscale": [
             [
              0,
              "rgb(255,245,240)"
             ],
             [
              0.125,
              "rgb(254,224,210)"
             ],
             [
              0.25,
              "rgb(252,187,161)"
             ],
             [
              0.375,
              "rgb(252,146,114)"
             ],
             [
              0.5,
              "rgb(251,106,74)"
             ],
             [
              0.625,
              "rgb(239,59,44)"
             ],
             [
              0.75,
              "rgb(203,24,29)"
             ],
             [
              0.875,
              "rgb(165,15,21)"
             ],
             [
              1,
              "rgb(103,0,13)"
             ]
            ],
            "size": 10
           },
           "mode": "markers",
           "name": "defense",
           "showlegend": false,
           "type": "scatter",
           "x": [
            68.56,
            72.72,
            65.46,
            68.54,
            72.01,
            72.01,
            54.74,
            70.2,
            70.34,
            72.53,
            61.11
           ],
           "y": [
            33.64,
            30.25,
            42.65,
            27.47,
            38.91,
            33.68,
            21.66,
            19.85,
            30.92,
            27.28,
            36.2
           ]
          },
          {
           "hoverinfo": "none",
           "marker": {
            "color": "black",
            "size": 10
           },
           "mode": "markers",
           "name": "offense",
           "type": "scatter",
           "x": [
            71.05,
            70.51,
            69.04,
            71.9,
            76.38,
            72.99,
            72.3,
            70.56,
            72.88,
            71.14
           ],
           "y": [
            31.11,
            32.18,
            40.2,
            29.55,
            30.71,
            38.3,
            34.11,
            21.39,
            36.35,
            34.9
           ]
          },
          {
           "hoverinfo": "none",
           "marker": {
            "color": "yellow",
            "opacity": 1,
            "size": 10
           },
           "mode": "markers",
           "name": "ball_carrier",
           "type": "scatter",
           "x": [
            78.6
           ],
           "y": [
            33.53
           ]
          }
         ],
         "name": "22"
        },
        {
         "data": [
          {
           "marker": {
            "cmax": 1,
            "cmin": 0,
            "color": "#fb7353",
            "colorbar": {
             "len": 0.85,
             "thickness": 10,
             "title": {
              "text": "defense"
             },
             "x": 1.03,
             "y": 0.4
            },
            "colorscale": [
             [
              0,
              "rgb(255,245,240)"
             ],
             [
              0.125,
              "rgb(254,224,210)"
             ],
             [
              0.25,
              "rgb(252,187,161)"
             ],
             [
              0.375,
              "rgb(252,146,114)"
             ],
             [
              0.5,
              "rgb(251,106,74)"
             ],
             [
              0.625,
              "rgb(239,59,44)"
             ],
             [
              0.75,
              "rgb(203,24,29)"
             ],
             [
              0.875,
              "rgb(165,15,21)"
             ],
             [
              1,
              "rgb(103,0,13)"
             ]
            ],
            "size": 10
           },
           "mode": "markers",
           "name": "defense",
           "showlegend": false,
           "type": "scatter",
           "x": [
            68.7,
            72.84,
            65.74,
            68.51,
            72.09,
            72.07,
            54.4,
            70.06,
            70.14,
            72.64,
            61.25
           ],
           "y": [
            34.2,
            30.72,
            42.89,
            27.78,
            39.38,
            33.93,
            21.76,
            19.96,
            31.15,
            27.83,
            36.5
           ]
          },
          {
           "hoverinfo": "none",
           "marker": {
            "color": "black",
            "size": 10
           },
           "mode": "markers",
           "name": "offense",
           "type": "scatter",
           "x": [
            70.83,
            70.3,
            68.55,
            71.85,
            76.69,
            72.93,
            72.22,
            70.15,
            72.68,
            70.89
           ],
           "y": [
            31.34,
            32.45,
            40.29,
            30.03,
            30.66,
            38.78,
            34.4,
            21.61,
            37.09,
            35.21
           ]
          },
          {
           "hoverinfo": "none",
           "marker": {
            "color": "yellow",
            "opacity": 1,
            "size": 10
           },
           "mode": "markers",
           "name": "ball_carrier",
           "type": "scatter",
           "x": [
            78.34
           ],
           "y": [
            34.05
           ]
          }
         ],
         "name": "23"
        },
        {
         "data": [
          {
           "marker": {
            "cmax": 1,
            "cmin": 0,
            "color": "#fb6d4d",
            "colorbar": {
             "len": 0.85,
             "thickness": 10,
             "title": {
              "text": "defense"
             },
             "x": 1.03,
             "y": 0.4
            },
            "colorscale": [
             [
              0,
              "rgb(255,245,240)"
             ],
             [
              0.125,
              "rgb(254,224,210)"
             ],
             [
              0.25,
              "rgb(252,187,161)"
             ],
             [
              0.375,
              "rgb(252,146,114)"
             ],
             [
              0.5,
              "rgb(251,106,74)"
             ],
             [
              0.625,
              "rgb(239,59,44)"
             ],
             [
              0.75,
              "rgb(203,24,29)"
             ],
             [
              0.875,
              "rgb(165,15,21)"
             ],
             [
              1,
              "rgb(103,0,13)"
             ]
            ],
            "size": 10
           },
           "mode": "markers",
           "name": "defense",
           "showlegend": false,
           "type": "scatter",
           "x": [
            68.81,
            72.95,
            66.04,
            68.48,
            72.15,
            72.14,
            54.05,
            69.89,
            69.92,
            72.73,
            61.41
           ],
           "y": [
            34.76,
            31.2,
            43.14,
            28.08,
            39.86,
            34.19,
            21.89,
            20.06,
            31.4,
            28.4,
            36.83
           ]
          },
          {
           "hoverinfo": "none",
           "marker": {
            "color": "black",
            "size": 10
           },
           "mode": "markers",
           "name": "offense",
           "type": "scatter",
           "x": [
            70.61,
            70.08,
            68.08,
            71.83,
            76.98,
            72.87,
            72.18,
            69.71,
            72.49,
            70.63
           ],
           "y": [
            31.56,
            32.7,
            40.37,
            30.53,
            30.56,
            39.27,
            34.65,
            21.86,
            37.83,
            35.55
           ]
          },
          {
           "hoverinfo": "none",
           "marker": {
            "color": "yellow",
            "opacity": 1,
            "size": 10
           },
           "mode": "markers",
           "name": "ball_carrier",
           "type": "scatter",
           "x": [
            78.04
           ],
           "y": [
            34.59
           ]
          }
         ],
         "name": "24"
        },
        {
         "data": [
          {
           "marker": {
            "cmax": 1,
            "cmin": 0,
            "color": "#fa6648",
            "colorbar": {
             "len": 0.85,
             "thickness": 10,
             "title": {
              "text": "defense"
             },
             "x": 1.03,
             "y": 0.4
            },
            "colorscale": [
             [
              0,
              "rgb(255,245,240)"
             ],
             [
              0.125,
              "rgb(254,224,210)"
             ],
             [
              0.25,
              "rgb(252,187,161)"
             ],
             [
              0.375,
              "rgb(252,146,114)"
             ],
             [
              0.5,
              "rgb(251,106,74)"
             ],
             [
              0.625,
              "rgb(239,59,44)"
             ],
             [
              0.75,
              "rgb(203,24,29)"
             ],
             [
              0.875,
              "rgb(165,15,21)"
             ],
             [
              1,
              "rgb(103,0,13)"
             ]
            ],
            "size": 10
           },
           "mode": "markers",
           "name": "defense",
           "showlegend": false,
           "type": "scatter",
           "x": [
            68.88,
            73.04,
            66.36,
            68.43,
            72.18,
            72.23,
            53.71,
            69.71,
            69.71,
            72.8,
            61.62
           ],
           "y": [
            35.32,
            31.68,
            43.39,
            28.37,
            40.36,
            34.45,
            22.1,
            20.17,
            31.65,
            28.97,
            37.15
           ]
          },
          {
           "hoverinfo": "none",
           "marker": {
            "color": "black",
            "size": 10
           },
           "mode": "markers",
           "name": "offense",
           "type": "scatter",
           "x": [
            70.41,
            69.87,
            67.63,
            71.83,
            77.26,
            72.81,
            72.16,
            69.27,
            72.33,
            70.37
           ],
           "y": [
            31.79,
            32.95,
            40.45,
            31.03,
            30.4,
            39.77,
            34.88,
            22.15,
            38.58,
            35.9
           ]
          },
          {
           "hoverinfo": "none",
           "marker": {
            "color": "yellow",
            "opacity": 1,
            "size": 10
           },
           "mode": "markers",
           "name": "ball_carrier",
           "type": "scatter",
           "x": [
            77.7
           ],
           "y": [
            35.13
           ]
          }
         ],
         "name": "25"
        },
        {
         "data": [
          {
           "marker": {
            "cmax": 1,
            "cmin": 0,
            "color": "#f85f43",
            "colorbar": {
             "len": 0.85,
             "thickness": 10,
             "title": {
              "text": "defense"
             },
             "x": 1.03,
             "y": 0.4
            },
            "colorscale": [
             [
              0,
              "rgb(255,245,240)"
             ],
             [
              0.125,
              "rgb(254,224,210)"
             ],
             [
              0.25,
              "rgb(252,187,161)"
             ],
             [
              0.375,
              "rgb(252,146,114)"
             ],
             [
              0.5,
              "rgb(251,106,74)"
             ],
             [
              0.625,
              "rgb(239,59,44)"
             ],
             [
              0.75,
              "rgb(203,24,29)"
             ],
             [
              0.875,
              "rgb(165,15,21)"
             ],
             [
              1,
              "rgb(103,0,13)"
             ]
            ],
            "size": 10
           },
           "mode": "markers",
           "name": "defense",
           "showlegend": false,
           "type": "scatter",
           "x": [
            68.89,
            73.13,
            66.71,
            68.37,
            72.19,
            72.32,
            53.39,
            69.5,
            69.51,
            72.84,
            61.86
           ],
           "y": [
            35.89,
            32.17,
            43.62,
            28.65,
            40.88,
            34.71,
            22.35,
            20.27,
            31.92,
            29.56,
            37.49
           ]
          },
          {
           "hoverinfo": "none",
           "marker": {
            "color": "black",
            "size": 10
           },
           "mode": "markers",
           "name": "offense",
           "type": "scatter",
           "x": [
            70.2,
            69.66,
            67.2,
            71.85,
            77.51,
            72.75,
            72.15,
            68.82,
            72.19,
            70.11
           ],
           "y": [
            32.03,
            33.18,
            40.52,
            31.55,
            30.19,
            40.27,
            35.09,
            22.48,
            39.33,
            36.27
           ]
          },
          {
           "hoverinfo": "none",
           "marker": {
            "color": "yellow",
            "opacity": 1,
            "size": 10
           },
           "mode": "markers",
           "name": "ball_carrier",
           "type": "scatter",
           "x": [
            77.33
           ],
           "y": [
            35.68
           ]
          }
         ],
         "name": "26"
        },
        {
         "data": [
          {
           "marker": {
            "cmax": 1,
            "cmin": 0,
            "color": "#f6563d",
            "colorbar": {
             "len": 0.85,
             "thickness": 10,
             "title": {
              "text": "defense"
             },
             "x": 1.03,
             "y": 0.4
            },
            "colorscale": [
             [
              0,
              "rgb(255,245,240)"
             ],
             [
              0.125,
              "rgb(254,224,210)"
             ],
             [
              0.25,
              "rgb(252,187,161)"
             ],
             [
              0.375,
              "rgb(252,146,114)"
             ],
             [
              0.5,
              "rgb(251,106,74)"
             ],
             [
              0.625,
              "rgb(239,59,44)"
             ],
             [
              0.75,
              "rgb(203,24,29)"
             ],
             [
              0.875,
              "rgb(165,15,21)"
             ],
             [
              1,
              "rgb(103,0,13)"
             ]
            ],
            "size": 10
           },
           "mode": "markers",
           "name": "defense",
           "showlegend": false,
           "type": "scatter",
           "x": [
            68.87,
            73.19,
            67.06,
            68.31,
            72.19,
            72.43,
            53.09,
            69.29,
            69.33,
            72.86,
            62.13
           ],
           "y": [
            36.45,
            32.7,
            43.83,
            28.92,
            41.42,
            34.97,
            22.63,
            20.36,
            32.2,
            30.15,
            37.82
           ]
          },
          {
           "hoverinfo": "none",
           "marker": {
            "color": "black",
            "size": 10
           },
           "mode": "markers",
           "name": "offense",
           "type": "scatter",
           "x": [
            69.98,
            69.45,
            66.8,
            71.88,
            77.73,
            72.69,
            72.16,
            68.38,
            72.05,
            69.85
           ],
           "y": [
            32.27,
            33.39,
            40.59,
            32.09,
            29.94,
            40.79,
            35.26,
            22.82,
            40.06,
            36.63
           ]
          },
          {
           "hoverinfo": "none",
           "marker": {
            "color": "yellow",
            "opacity": 1,
            "size": 10
           },
           "mode": "markers",
           "name": "ball_carrier",
           "type": "scatter",
           "x": [
            76.92
           ],
           "y": [
            36.23
           ]
          }
         ],
         "name": "27"
        },
        {
         "data": [
          {
           "marker": {
            "cmax": 1,
            "cmin": 0,
            "color": "#f44f39",
            "colorbar": {
             "len": 0.85,
             "thickness": 10,
             "title": {
              "text": "defense"
             },
             "x": 1.03,
             "y": 0.4
            },
            "colorscale": [
             [
              0,
              "rgb(255,245,240)"
             ],
             [
              0.125,
              "rgb(254,224,210)"
             ],
             [
              0.25,
              "rgb(252,187,161)"
             ],
             [
              0.375,
              "rgb(252,146,114)"
             ],
             [
              0.5,
              "rgb(251,106,74)"
             ],
             [
              0.625,
              "rgb(239,59,44)"
             ],
             [
              0.75,
              "rgb(203,24,29)"
             ],
             [
              0.875,
              "rgb(165,15,21)"
             ],
             [
              1,
              "rgb(103,0,13)"
             ]
            ],
            "size": 10
           },
           "mode": "markers",
           "name": "defense",
           "showlegend": false,
           "type": "scatter",
           "x": [
            68.82,
            73.25,
            67.41,
            68.23,
            72.18,
            72.55,
            52.81,
            69.05,
            69.15,
            72.86,
            62.42
           ],
           "y": [
            37.01,
            33.21,
            43.99,
            29.19,
            41.98,
            35.23,
            22.96,
            20.47,
            32.47,
            30.74,
            38.16
           ]
          },
          {
           "hoverinfo": "none",
           "marker": {
            "color": "black",
            "size": 10
           },
           "mode": "markers",
           "name": "offense",
           "type": "scatter",
           "x": [
            69.79,
            69.25,
            66.43,
            71.91,
            77.92,
            72.63,
            72.22,
            67.94,
            71.92,
            69.59
           ],
           "y": [
            32.51,
            33.6,
            40.64,
            32.62,
            29.66,
            41.32,
            35.41,
            23.2,
            40.78,
            37.01
           ]
          },
          {
           "hoverinfo": "none",
           "marker": {
            "color": "yellow",
            "opacity": 1,
            "size": 10
           },
           "mode": "markers",
           "name": "ball_carrier",
           "type": "scatter",
           "x": [
            76.48
           ],
           "y": [
            36.78
           ]
          }
         ],
         "name": "28"
        },
        {
         "data": [
          {
           "marker": {
            "cmax": 1,
            "cmin": 0,
            "color": "#f24734",
            "colorbar": {
             "len": 0.85,
             "thickness": 10,
             "title": {
              "text": "defense"
             },
             "x": 1.03,
             "y": 0.4
            },
            "colorscale": [
             [
              0,
              "rgb(255,245,240)"
             ],
             [
              0.125,
              "rgb(254,224,210)"
             ],
             [
              0.25,
              "rgb(252,187,161)"
             ],
             [
              0.375,
              "rgb(252,146,114)"
             ],
             [
              0.5,
              "rgb(251,106,74)"
             ],
             [
              0.625,
              "rgb(239,59,44)"
             ],
             [
              0.75,
              "rgb(203,24,29)"
             ],
             [
              0.875,
              "rgb(165,15,21)"
             ],
             [
              1,
              "rgb(103,0,13)"
             ]
            ],
            "size": 10
           },
           "mode": "markers",
           "name": "defense",
           "showlegend": false,
           "type": "scatter",
           "x": [
            68.75,
            73.31,
            67.76,
            68.15,
            72.16,
            72.67,
            52.57,
            68.8,
            68.97,
            72.82,
            62.74
           ],
           "y": [
            37.57,
            33.71,
            44.1,
            29.46,
            42.54,
            35.51,
            23.33,
            20.58,
            32.75,
            31.33,
            38.5
           ]
          },
          {
           "hoverinfo": "none",
           "marker": {
            "color": "black",
            "size": 10
           },
           "mode": "markers",
           "name": "offense",
           "type": "scatter",
           "x": [
            69.59,
            69.07,
            66.1,
            71.94,
            78.07,
            72.56,
            72.3,
            67.5,
            71.79,
            69.32
           ],
           "y": [
            32.74,
            33.8,
            40.69,
            33.17,
            29.35,
            41.86,
            35.57,
            23.6,
            41.47,
            37.43
           ]
          },
          {
           "hoverinfo": "none",
           "marker": {
            "color": "yellow",
            "opacity": 1,
            "size": 10
           },
           "mode": "markers",
           "name": "ball_carrier",
           "type": "scatter",
           "x": [
            76.02
           ],
           "y": [
            37.32
           ]
          }
         ],
         "name": "29"
        },
        {
         "data": [
          {
           "marker": {
            "cmax": 1,
            "cmin": 0,
            "color": "#f0402f",
            "colorbar": {
             "len": 0.85,
             "thickness": 10,
             "title": {
              "text": "defense"
             },
             "x": 1.03,
             "y": 0.4
            },
            "colorscale": [
             [
              0,
              "rgb(255,245,240)"
             ],
             [
              0.125,
              "rgb(254,224,210)"
             ],
             [
              0.25,
              "rgb(252,187,161)"
             ],
             [
              0.375,
              "rgb(252,146,114)"
             ],
             [
              0.5,
              "rgb(251,106,74)"
             ],
             [
              0.625,
              "rgb(239,59,44)"
             ],
             [
              0.75,
              "rgb(203,24,29)"
             ],
             [
              0.875,
              "rgb(165,15,21)"
             ],
             [
              1,
              "rgb(103,0,13)"
             ]
            ],
            "size": 10
           },
           "mode": "markers",
           "name": "defense",
           "showlegend": false,
           "type": "scatter",
           "x": [
            68.65,
            73.38,
            68.1,
            68.05,
            72.13,
            72.81,
            52.35,
            68.55,
            68.79,
            72.75,
            63.07
           ],
           "y": [
            38.13,
            34.2,
            44.13,
            29.73,
            43.11,
            35.8,
            23.73,
            20.7,
            33.01,
            31.92,
            38.84
           ]
          },
          {
           "hoverinfo": "none",
           "marker": {
            "color": "black",
            "size": 10
           },
           "mode": "markers",
           "name": "offense",
           "type": "scatter",
           "x": [
            69.41,
            68.89,
            65.81,
            71.97,
            78.2,
            72.5,
            72.43,
            67.07,
            71.66,
            69.09
           ],
           "y": [
            32.96,
            33.97,
            40.73,
            33.71,
            29.02,
            42.42,
            35.71,
            24.02,
            42.11,
            37.83
           ]
          },
          {
           "hoverinfo": "none",
           "marker": {
            "color": "yellow",
            "opacity": 1,
            "size": 10
           },
           "mode": "markers",
           "name": "ball_carrier",
           "type": "scatter",
           "x": [
            75.52
           ],
           "y": [
            37.85
           ]
          }
         ],
         "name": "30"
        },
        {
         "data": [
          {
           "marker": {
            "cmax": 1,
            "cmin": 0,
            "color": "#ed392b",
            "colorbar": {
             "len": 0.85,
             "thickness": 10,
             "title": {
              "text": "defense"
             },
             "x": 1.03,
             "y": 0.4
            },
            "colorscale": [
             [
              0,
              "rgb(255,245,240)"
             ],
             [
              0.125,
              "rgb(254,224,210)"
             ],
             [
              0.25,
              "rgb(252,187,161)"
             ],
             [
              0.375,
              "rgb(252,146,114)"
             ],
             [
              0.5,
              "rgb(251,106,74)"
             ],
             [
              0.625,
              "rgb(239,59,44)"
             ],
             [
              0.75,
              "rgb(203,24,29)"
             ],
             [
              0.875,
              "rgb(165,15,21)"
             ],
             [
              1,
              "rgb(103,0,13)"
             ]
            ],
            "size": 10
           },
           "mode": "markers",
           "name": "defense",
           "showlegend": false,
           "type": "scatter",
           "x": [
            68.54,
            73.47,
            68.42,
            67.93,
            72.1,
            72.94,
            52.18,
            68.28,
            68.63,
            72.65,
            63.41
           ],
           "y": [
            38.67,
            34.69,
            44.08,
            30.01,
            43.69,
            36.11,
            24.18,
            20.85,
            33.27,
            32.51,
            39.18
           ]
          },
          {
           "hoverinfo": "none",
           "marker": {
            "color": "black",
            "size": 10
           },
           "mode": "markers",
           "name": "offense",
           "type": "scatter",
           "x": [
            69.23,
            68.73,
            65.56,
            72,
            78.27,
            72.43,
            72.57,
            66.64,
            71.52,
            68.87
           ],
           "y": [
            33.18,
            34.15,
            40.78,
            34.25,
            28.69,
            42.98,
            35.84,
            24.48,
            42.72,
            38.24
           ]
          },
          {
           "hoverinfo": "none",
           "marker": {
            "color": "yellow",
            "opacity": 1,
            "size": 10
           },
           "mode": "markers",
           "name": "ball_carrier",
           "type": "scatter",
           "x": [
            74.99
           ],
           "y": [
            38.35
           ]
          }
         ],
         "name": "31"
        },
        {
         "data": [
          {
           "marker": {
            "cmax": 1,
            "cmin": 0,
            "color": "#e63328",
            "colorbar": {
             "len": 0.85,
             "thickness": 10,
             "title": {
              "text": "defense"
             },
             "x": 1.03,
             "y": 0.4
            },
            "colorscale": [
             [
              0,
              "rgb(255,245,240)"
             ],
             [
              0.125,
              "rgb(254,224,210)"
             ],
             [
              0.25,
              "rgb(252,187,161)"
             ],
             [
              0.375,
              "rgb(252,146,114)"
             ],
             [
              0.5,
              "rgb(251,106,74)"
             ],
             [
              0.625,
              "rgb(239,59,44)"
             ],
             [
              0.75,
              "rgb(203,24,29)"
             ],
             [
              0.875,
              "rgb(165,15,21)"
             ],
             [
              1,
              "rgb(103,0,13)"
             ]
            ],
            "size": 10
           },
           "mode": "markers",
           "name": "defense",
           "showlegend": false,
           "type": "scatter",
           "x": [
            68.43,
            73.59,
            68.7,
            67.79,
            72.06,
            73.04,
            52.05,
            68.01,
            68.49,
            72.52,
            63.74
           ],
           "y": [
            39.2,
            35.16,
            43.96,
            30.29,
            44.27,
            36.41,
            24.67,
            21.02,
            33.52,
            33.09,
            39.52
           ]
          },
          {
           "hoverinfo": "none",
           "marker": {
            "color": "black",
            "size": 10
           },
           "mode": "markers",
           "name": "offense",
           "type": "scatter",
           "x": [
            69.07,
            68.56,
            65.37,
            72.01,
            78.31,
            72.37,
            72.72,
            66.24,
            71.35,
            68.65
           ],
           "y": [
            33.38,
            34.33,
            40.84,
            34.77,
            28.34,
            43.55,
            35.97,
            24.95,
            43.27,
            38.66
           ]
          },
          {
           "hoverinfo": "none",
           "marker": {
            "color": "yellow",
            "opacity": 1,
            "size": 10
           },
           "mode": "markers",
           "name": "ball_carrier",
           "type": "scatter",
           "x": [
            74.45
           ],
           "y": [
            38.83
           ]
          }
         ],
         "name": "32"
        },
        {
         "data": [
          {
           "marker": {
            "cmax": 1,
            "cmin": 0,
            "color": "#e12d26",
            "colorbar": {
             "len": 0.85,
             "thickness": 10,
             "title": {
              "text": "defense"
             },
             "x": 1.03,
             "y": 0.4
            },
            "colorscale": [
             [
              0,
              "rgb(255,245,240)"
             ],
             [
              0.125,
              "rgb(254,224,210)"
             ],
             [
              0.25,
              "rgb(252,187,161)"
             ],
             [
              0.375,
              "rgb(252,146,114)"
             ],
             [
              0.5,
              "rgb(251,106,74)"
             ],
             [
              0.625,
              "rgb(239,59,44)"
             ],
             [
              0.75,
              "rgb(203,24,29)"
             ],
             [
              0.875,
              "rgb(165,15,21)"
             ],
             [
              1,
              "rgb(103,0,13)"
             ]
            ],
            "size": 10
           },
           "mode": "markers",
           "name": "defense",
           "showlegend": false,
           "type": "scatter",
           "x": [
            68.3,
            73.75,
            68.95,
            67.62,
            72.01,
            73.14,
            51.96,
            67.73,
            68.34,
            72.35,
            64.04
           ],
           "y": [
            39.72,
            35.62,
            43.75,
            30.6,
            44.86,
            36.71,
            25.21,
            21.22,
            33.74,
            33.65,
            39.84
           ]
          },
          {
           "hoverinfo": "none",
           "marker": {
            "color": "black",
            "size": 10
           },
           "mode": "markers",
           "name": "offense",
           "type": "scatter",
           "x": [
            68.93,
            68.39,
            65.23,
            72,
            78.31,
            72.3,
            72.89,
            65.84,
            71.17,
            68.46
           ],
           "y": [
            33.59,
            34.48,
            40.92,
            35.3,
            28,
            44.13,
            36.11,
            25.45,
            43.77,
            39.08
           ]
          },
          {
           "hoverinfo": "none",
           "marker": {
            "color": "yellow",
            "opacity": 1,
            "size": 10
           },
           "mode": "markers",
           "name": "ball_carrier",
           "type": "scatter",
           "x": [
            73.85
           ],
           "y": [
            39.25
           ]
          }
         ],
         "name": "33"
        },
        {
         "data": [
          {
           "marker": {
            "cmax": 1,
            "cmin": 0,
            "color": "#db2824",
            "colorbar": {
             "len": 0.85,
             "thickness": 10,
             "title": {
              "text": "defense"
             },
             "x": 1.03,
             "y": 0.4
            },
            "colorscale": [
             [
              0,
              "rgb(255,245,240)"
             ],
             [
              0.125,
              "rgb(254,224,210)"
             ],
             [
              0.25,
              "rgb(252,187,161)"
             ],
             [
              0.375,
              "rgb(252,146,114)"
             ],
             [
              0.5,
              "rgb(251,106,74)"
             ],
             [
              0.625,
              "rgb(239,59,44)"
             ],
             [
              0.75,
              "rgb(203,24,29)"
             ],
             [
              0.875,
              "rgb(165,15,21)"
             ],
             [
              1,
              "rgb(103,0,13)"
             ]
            ],
            "size": 10
           },
           "mode": "markers",
           "name": "defense",
           "showlegend": false,
           "type": "scatter",
           "x": [
            68.19,
            73.92,
            69.17,
            67.43,
            71.95,
            73.2,
            51.91,
            67.44,
            68.21,
            72.15,
            64.32
           ],
           "y": [
            40.23,
            36.06,
            43.46,
            30.91,
            45.45,
            37.02,
            25.77,
            21.46,
            33.92,
            34.22,
            40.14
           ]
          },
          {
           "hoverinfo": "none",
           "marker": {
            "color": "black",
            "size": 10
           },
           "mode": "markers",
           "name": "offense",
           "type": "scatter",
           "x": [
            68.79,
            68.23,
            65.16,
            71.95,
            78.28,
            72.22,
            73.06,
            65.47,
            70.96,
            68.28
           ],
           "y": [
            33.8,
            34.64,
            41.02,
            35.83,
            27.67,
            44.73,
            36.26,
            25.97,
            44.21,
            39.5
           ]
          },
          {
           "hoverinfo": "none",
           "marker": {
            "color": "yellow",
            "opacity": 1,
            "size": 10
           },
           "mode": "markers",
           "name": "ball_carrier",
           "type": "scatter",
           "x": [
            73.23
           ],
           "y": [
            39.63
           ]
          }
         ],
         "name": "34"
        },
        {
         "data": [
          {
           "marker": {
            "cmax": 1,
            "cmin": 0,
            "color": "#d52221",
            "colorbar": {
             "len": 0.85,
             "thickness": 10,
             "title": {
              "text": "defense"
             },
             "x": 1.03,
             "y": 0.4
            },
            "colorscale": [
             [
              0,
              "rgb(255,245,240)"
             ],
             [
              0.125,
              "rgb(254,224,210)"
             ],
             [
              0.25,
              "rgb(252,187,161)"
             ],
             [
              0.375,
              "rgb(252,146,114)"
             ],
             [
              0.5,
              "rgb(251,106,74)"
             ],
             [
              0.625,
              "rgb(239,59,44)"
             ],
             [
              0.75,
              "rgb(203,24,29)"
             ],
             [
              0.875,
              "rgb(165,15,21)"
             ],
             [
              1,
              "rgb(103,0,13)"
             ]
            ],
            "size": 10
           },
           "mode": "markers",
           "name": "defense",
           "showlegend": false,
           "type": "scatter",
           "x": [
            68.07,
            74.09,
            69.35,
            67.21,
            71.89,
            73.22,
            51.89,
            67.16,
            68.07,
            71.91,
            64.57
           ],
           "y": [
            40.71,
            36.48,
            43.13,
            31.24,
            46.04,
            37.33,
            26.35,
            21.73,
            34.08,
            34.77,
            40.4
           ]
          },
          {
           "hoverinfo": "none",
           "marker": {
            "color": "black",
            "size": 10
           },
           "mode": "markers",
           "name": "offense",
           "type": "scatter",
           "x": [
            68.67,
            68.07,
            65.13,
            71.89,
            78.22,
            72.15,
            73.24,
            65.11,
            70.75,
            68.12
           ],
           "y": [
            34,
            34.78,
            41.14,
            36.34,
            27.36,
            45.34,
            36.42,
            26.5,
            44.6,
            39.92
           ]
          },
          {
           "hoverinfo": "none",
           "marker": {
            "color": "yellow",
            "opacity": 1,
            "size": 10
           },
           "mode": "markers",
           "name": "ball_carrier",
           "type": "scatter",
           "x": [
            72.59
           ],
           "y": [
            39.94
           ]
          }
         ],
         "name": "35"
        },
        {
         "data": [
          {
           "marker": {
            "cmax": 1,
            "cmin": 0,
            "color": "#cf1c1f",
            "colorbar": {
             "len": 0.85,
             "thickness": 10,
             "title": {
              "text": "defense"
             },
             "x": 1.03,
             "y": 0.4
            },
            "colorscale": [
             [
              0,
              "rgb(255,245,240)"
             ],
             [
              0.125,
              "rgb(254,224,210)"
             ],
             [
              0.25,
              "rgb(252,187,161)"
             ],
             [
              0.375,
              "rgb(252,146,114)"
             ],
             [
              0.5,
              "rgb(251,106,74)"
             ],
             [
              0.625,
              "rgb(239,59,44)"
             ],
             [
              0.75,
              "rgb(203,24,29)"
             ],
             [
              0.875,
              "rgb(165,15,21)"
             ],
             [
              1,
              "rgb(103,0,13)"
             ]
            ],
            "size": 10
           },
           "mode": "markers",
           "name": "defense",
           "showlegend": false,
           "type": "scatter",
           "x": [
            68.08,
            74.29,
            69.48,
            66.96,
            71.82,
            73.22,
            51.9,
            66.88,
            67.95,
            71.65,
            64.78
           ],
           "y": [
            41.11,
            36.88,
            42.75,
            31.58,
            46.63,
            37.63,
            26.94,
            22.02,
            34.23,
            35.31,
            40.63
           ]
          },
          {
           "hoverinfo": "none",
           "marker": {
            "color": "black",
            "size": 10
           },
           "mode": "markers",
           "name": "offense",
           "type": "scatter",
           "x": [
            68.56,
            67.92,
            65.13,
            71.81,
            78.14,
            72.08,
            73.42,
            64.76,
            70.52,
            67.98
           ],
           "y": [
            34.18,
            34.93,
            41.3,
            36.84,
            27.06,
            45.95,
            36.59,
            27.05,
            44.94,
            40.36
           ]
          },
          {
           "hoverinfo": "none",
           "marker": {
            "color": "yellow",
            "opacity": 1,
            "size": 10
           },
           "mode": "markers",
           "name": "ball_carrier",
           "type": "scatter",
           "x": [
            71.93
           ],
           "y": [
            40.21
           ]
          }
         ],
         "name": "36"
        },
        {
         "data": [
          {
           "marker": {
            "cmax": 1,
            "cmin": 0,
            "color": "#c9181d",
            "colorbar": {
             "len": 0.85,
             "thickness": 10,
             "title": {
              "text": "defense"
             },
             "x": 1.03,
             "y": 0.4
            },
            "colorscale": [
             [
              0,
              "rgb(255,245,240)"
             ],
             [
              0.125,
              "rgb(254,224,210)"
             ],
             [
              0.25,
              "rgb(252,187,161)"
             ],
             [
              0.375,
              "rgb(252,146,114)"
             ],
             [
              0.5,
              "rgb(251,106,74)"
             ],
             [
              0.625,
              "rgb(239,59,44)"
             ],
             [
              0.75,
              "rgb(203,24,29)"
             ],
             [
              0.875,
              "rgb(165,15,21)"
             ],
             [
              1,
              "rgb(103,0,13)"
             ]
            ],
            "size": 10
           },
           "mode": "markers",
           "name": "defense",
           "showlegend": false,
           "type": "scatter",
           "x": [
            68.1,
            74.52,
            69.56,
            66.67,
            71.72,
            73.15,
            51.94,
            66.6,
            67.83,
            71.34,
            64.95
           ],
           "y": [
            41.48,
            37.28,
            42.32,
            31.95,
            47.22,
            37.93,
            27.55,
            22.34,
            34.36,
            35.84,
            40.82
           ]
          },
          {
           "hoverinfo": "none",
           "marker": {
            "color": "black",
            "size": 10
           },
           "mode": "markers",
           "name": "offense",
           "type": "scatter",
           "x": [
            68.45,
            67.74,
            65.17,
            71.71,
            78.05,
            72,
            73.59,
            64.4,
            70.28,
            67.86
           ],
           "y": [
            34.36,
            35.07,
            41.47,
            37.33,
            26.78,
            46.57,
            36.79,
            27.61,
            45.22,
            40.78
           ]
          },
          {
           "hoverinfo": "none",
           "marker": {
            "color": "yellow",
            "opacity": 1,
            "size": 10
           },
           "mode": "markers",
           "name": "ball_carrier",
           "type": "scatter",
           "x": [
            71.27
           ],
           "y": [
            40.41
           ]
          }
         ],
         "name": "37"
        },
        {
         "data": [
          {
           "marker": {
            "cmax": 1,
            "cmin": 0,
            "color": "#c3161b",
            "colorbar": {
             "len": 0.85,
             "thickness": 10,
             "title": {
              "text": "defense"
             },
             "x": 1.03,
             "y": 0.4
            },
            "colorscale": [
             [
              0,
              "rgb(255,245,240)"
             ],
             [
              0.125,
              "rgb(254,224,210)"
             ],
             [
              0.25,
              "rgb(252,187,161)"
             ],
             [
              0.375,
              "rgb(252,146,114)"
             ],
             [
              0.5,
              "rgb(251,106,74)"
             ],
             [
              0.625,
              "rgb(239,59,44)"
             ],
             [
              0.75,
              "rgb(203,24,29)"
             ],
             [
              0.875,
              "rgb(165,15,21)"
             ],
             [
              1,
              "rgb(103,0,13)"
             ]
            ],
            "size": 10
           },
           "mode": "markers",
           "name": "defense",
           "showlegend": false,
           "type": "scatter",
           "x": [
            68.11,
            74.75,
            69.59,
            66.36,
            71.62,
            73.07,
            52.01,
            66.33,
            67.71,
            71,
            65.09
           ],
           "y": [
            41.83,
            37.66,
            41.88,
            32.33,
            47.81,
            38.21,
            28.17,
            22.69,
            34.47,
            36.34,
            40.97
           ]
          },
          {
           "hoverinfo": "none",
           "marker": {
            "color": "black",
            "size": 10
           },
           "mode": "markers",
           "name": "offense",
           "type": "scatter",
           "x": [
            68.35,
            67.57,
            65.25,
            71.6,
            77.93,
            71.91,
            73.73,
            64.05,
            70.03,
            67.76
           ],
           "y": [
            34.52,
            35.21,
            41.66,
            37.8,
            26.53,
            47.18,
            36.99,
            28.2,
            45.47,
            41.21
           ]
          },
          {
           "hoverinfo": "none",
           "marker": {
            "color": "yellow",
            "opacity": 1,
            "size": 10
           },
           "mode": "markers",
           "name": "ball_carrier",
           "type": "scatter",
           "x": [
            70.62
           ],
           "y": [
            40.56
           ]
          }
         ],
         "name": "38"
        },
        {
         "data": [
          {
           "marker": {
            "cmax": 1,
            "cmin": 0,
            "color": "#bd151a",
            "colorbar": {
             "len": 0.85,
             "thickness": 10,
             "title": {
              "text": "defense"
             },
             "x": 1.03,
             "y": 0.4
            },
            "colorscale": [
             [
              0,
              "rgb(255,245,240)"
             ],
             [
              0.125,
              "rgb(254,224,210)"
             ],
             [
              0.25,
              "rgb(252,187,161)"
             ],
             [
              0.375,
              "rgb(252,146,114)"
             ],
             [
              0.5,
              "rgb(251,106,74)"
             ],
             [
              0.625,
              "rgb(239,59,44)"
             ],
             [
              0.75,
              "rgb(203,24,29)"
             ],
             [
              0.875,
              "rgb(165,15,21)"
             ],
             [
              1,
              "rgb(103,0,13)"
             ]
            ],
            "size": 10
           },
           "mode": "markers",
           "name": "defense",
           "showlegend": false,
           "type": "scatter",
           "x": [
            68.14,
            74.98,
            69.57,
            66.03,
            71.49,
            72.93,
            52.11,
            66.06,
            67.58,
            70.63,
            65.21
           ],
           "y": [
            42.16,
            38.01,
            41.43,
            32.74,
            48.38,
            38.47,
            28.79,
            23.07,
            34.58,
            36.82,
            41.07
           ]
          },
          {
           "hoverinfo": "none",
           "marker": {
            "color": "black",
            "size": 10
           },
           "mode": "markers",
           "name": "offense",
           "type": "scatter",
           "x": [
            68.24,
            67.41,
            65.34,
            71.47,
            77.81,
            71.81,
            73.85,
            63.7,
            69.76,
            67.67
           ],
           "y": [
            34.69,
            35.34,
            41.86,
            38.25,
            26.29,
            47.79,
            37.22,
            28.79,
            45.68,
            41.62
           ]
          },
          {
           "hoverinfo": "none",
           "marker": {
            "color": "yellow",
            "opacity": 1,
            "size": 10
           },
           "mode": "markers",
           "name": "ball_carrier",
           "type": "scatter",
           "x": [
            69.97
           ],
           "y": [
            40.65
           ]
          }
         ],
         "name": "39"
        },
        {
         "data": [
          {
           "marker": {
            "cmax": 1,
            "cmin": 0,
            "color": "#b71319",
            "colorbar": {
             "len": 0.85,
             "thickness": 10,
             "title": {
              "text": "defense"
             },
             "x": 1.03,
             "y": 0.4
            },
            "colorscale": [
             [
              0,
              "rgb(255,245,240)"
             ],
             [
              0.125,
              "rgb(254,224,210)"
             ],
             [
              0.25,
              "rgb(252,187,161)"
             ],
             [
              0.375,
              "rgb(252,146,114)"
             ],
             [
              0.5,
              "rgb(251,106,74)"
             ],
             [
              0.625,
              "rgb(239,59,44)"
             ],
             [
              0.75,
              "rgb(203,24,29)"
             ],
             [
              0.875,
              "rgb(165,15,21)"
             ],
             [
              1,
              "rgb(103,0,13)"
             ]
            ],
            "size": 10
           },
           "mode": "markers",
           "name": "defense",
           "showlegend": false,
           "type": "scatter",
           "x": [
            68.2,
            75.21,
            69.51,
            65.68,
            71.34,
            72.75,
            52.23,
            65.79,
            67.45,
            70.22,
            65.31
           ],
           "y": [
            42.44,
            38.35,
            40.99,
            33.16,
            48.95,
            38.72,
            29.41,
            23.48,
            34.67,
            37.27,
            41.11
           ]
          },
          {
           "hoverinfo": "none",
           "marker": {
            "color": "black",
            "size": 10
           },
           "mode": "markers",
           "name": "offense",
           "type": "scatter",
           "x": [
            68.13,
            67.26,
            65.45,
            71.32,
            77.68,
            71.69,
            73.95,
            63.35,
            69.48,
            67.6
           ],
           "y": [
            34.83,
            35.47,
            42.05,
            38.67,
            26.09,
            48.39,
            37.45,
            29.39,
            45.85,
            42.04
           ]
          },
          {
           "hoverinfo": "none",
           "marker": {
            "color": "yellow",
            "opacity": 1,
            "size": 10
           },
           "mode": "markers",
           "name": "ball_carrier",
           "type": "scatter",
           "x": [
            69.36
           ],
           "y": [
            40.67
           ]
          }
         ],
         "name": "40"
        },
        {
         "data": [
          {
           "marker": {
            "cmax": 1,
            "cmin": 0,
            "color": "#b01217",
            "colorbar": {
             "len": 0.85,
             "thickness": 10,
             "title": {
              "text": "defense"
             },
             "x": 1.03,
             "y": 0.4
            },
            "colorscale": [
             [
              0,
              "rgb(255,245,240)"
             ],
             [
              0.125,
              "rgb(254,224,210)"
             ],
             [
              0.25,
              "rgb(252,187,161)"
             ],
             [
              0.375,
              "rgb(252,146,114)"
             ],
             [
              0.5,
              "rgb(251,106,74)"
             ],
             [
              0.625,
              "rgb(239,59,44)"
             ],
             [
              0.75,
              "rgb(203,24,29)"
             ],
             [
              0.875,
              "rgb(165,15,21)"
             ],
             [
              1,
              "rgb(103,0,13)"
             ]
            ],
            "size": 10
           },
           "mode": "markers",
           "name": "defense",
           "showlegend": false,
           "type": "scatter",
           "x": [
            68.31,
            75.45,
            69.41,
            65.32,
            71.17,
            72.5,
            52.37,
            65.51,
            67.31,
            69.78,
            65.4
           ],
           "y": [
            42.68,
            38.67,
            40.58,
            33.6,
            49.51,
            38.94,
            30.03,
            23.9,
            34.76,
            37.68,
            41.1
           ]
          },
          {
           "hoverinfo": "none",
           "marker": {
            "color": "black",
            "size": 10
           },
           "mode": "markers",
           "name": "offense",
           "type": "scatter",
           "x": [
            68.02,
            67.11,
            65.57,
            71.16,
            77.54,
            71.56,
            74.01,
            63.01,
            69.2,
            67.55
           ],
           "y": [
            34.96,
            35.61,
            42.25,
            39.08,
            25.9,
            48.97,
            37.67,
            29.98,
            45.99,
            42.44
           ]
          },
          {
           "hoverinfo": "none",
           "marker": {
            "color": "yellow",
            "opacity": 1,
            "size": 10
           },
           "mode": "markers",
           "name": "ball_carrier",
           "type": "scatter",
           "x": [
            68.76
           ],
           "y": [
            40.63
           ]
          }
         ],
         "name": "41"
        },
        {
         "data": [
          {
           "marker": {
            "cmax": 1,
            "cmin": 0,
            "color": "#aa1016",
            "colorbar": {
             "len": 0.85,
             "thickness": 10,
             "title": {
              "text": "defense"
             },
             "x": 1.03,
             "y": 0.4
            },
            "colorscale": [
             [
              0,
              "rgb(255,245,240)"
             ],
             [
              0.125,
              "rgb(254,224,210)"
             ],
             [
              0.25,
              "rgb(252,187,161)"
             ],
             [
              0.375,
              "rgb(252,146,114)"
             ],
             [
              0.5,
              "rgb(251,106,74)"
             ],
             [
              0.625,
              "rgb(239,59,44)"
             ],
             [
              0.75,
              "rgb(203,24,29)"
             ],
             [
              0.875,
              "rgb(165,15,21)"
             ],
             [
              1,
              "rgb(103,0,13)"
             ]
            ],
            "size": 10
           },
           "mode": "markers",
           "name": "defense",
           "showlegend": false,
           "type": "scatter",
           "x": [
            68.44,
            75.68,
            69.31,
            64.96,
            70.98,
            72.24,
            52.53,
            65.23,
            67.16,
            69.32,
            65.49
           ],
           "y": [
            42.85,
            38.97,
            40.24,
            34.05,
            50.05,
            39.14,
            30.64,
            24.34,
            34.85,
            38.05,
            41.05
           ]
          },
          {
           "hoverinfo": "none",
           "marker": {
            "color": "black",
            "size": 10
           },
           "mode": "markers",
           "name": "offense",
           "type": "scatter",
           "x": [
            67.91,
            66.98,
            65.68,
            70.98,
            77.4,
            71.41,
            74.03,
            62.65,
            68.9,
            67.5
           ],
           "y": [
            35.08,
            35.73,
            42.43,
            39.45,
            25.74,
            49.53,
            37.92,
            30.57,
            46.09,
            42.83
           ]
          },
          {
           "hoverinfo": "none",
           "marker": {
            "color": "yellow",
            "opacity": 1,
            "size": 10
           },
           "mode": "markers",
           "name": "ball_carrier",
           "type": "scatter",
           "x": [
            68.18
           ],
           "y": [
            40.54
           ]
          }
         ],
         "name": "42"
        },
        {
         "data": [
          {
           "marker": {
            "cmax": 1,
            "cmin": 0,
            "color": "#a30f15",
            "colorbar": {
             "len": 0.85,
             "thickness": 10,
             "title": {
              "text": "defense"
             },
             "x": 1.03,
             "y": 0.4
            },
            "colorscale": [
             [
              0,
              "rgb(255,245,240)"
             ],
             [
              0.125,
              "rgb(254,224,210)"
             ],
             [
              0.25,
              "rgb(252,187,161)"
             ],
             [
              0.375,
              "rgb(252,146,114)"
             ],
             [
              0.5,
              "rgb(251,106,74)"
             ],
             [
              0.625,
              "rgb(239,59,44)"
             ],
             [
              0.75,
              "rgb(203,24,29)"
             ],
             [
              0.875,
              "rgb(165,15,21)"
             ],
             [
              1,
              "rgb(103,0,13)"
             ]
            ],
            "size": 10
           },
           "mode": "markers",
           "name": "defense",
           "showlegend": false,
           "type": "scatter",
           "x": [
            68.56,
            75.89,
            69.22,
            64.61,
            70.75,
            71.97,
            52.7,
            64.94,
            67,
            68.83,
            65.59
           ],
           "y": [
            42.98,
            39.26,
            39.94,
            34.51,
            50.55,
            39.32,
            31.24,
            24.79,
            34.93,
            38.36,
            40.94
           ]
          },
          {
           "hoverinfo": "none",
           "marker": {
            "color": "black",
            "size": 10
           },
           "mode": "markers",
           "name": "offense",
           "type": "scatter",
           "x": [
            67.78,
            66.84,
            65.76,
            70.79,
            77.25,
            71.24,
            74.03,
            62.29,
            68.59,
            67.45
           ],
           "y": [
            35.19,
            35.87,
            42.57,
            39.79,
            25.59,
            50.07,
            38.16,
            31.15,
            46.17,
            43.21
           ]
          },
          {
           "hoverinfo": "none",
           "marker": {
            "color": "yellow",
            "opacity": 1,
            "size": 10
           },
           "mode": "markers",
           "name": "ball_carrier",
           "type": "scatter",
           "x": [
            67.65
           ],
           "y": [
            40.43
           ]
          }
         ],
         "name": "43"
        },
        {
         "data": [
          {
           "marker": {
            "cmax": 1,
            "cmin": 0,
            "color": "#9a0c14",
            "colorbar": {
             "len": 0.85,
             "thickness": 10,
             "title": {
              "text": "defense"
             },
             "x": 1.03,
             "y": 0.4
            },
            "colorscale": [
             [
              0,
              "rgb(255,245,240)"
             ],
             [
              0.125,
              "rgb(254,224,210)"
             ],
             [
              0.25,
              "rgb(252,187,161)"
             ],
             [
              0.375,
              "rgb(252,146,114)"
             ],
             [
              0.5,
              "rgb(251,106,74)"
             ],
             [
              0.625,
              "rgb(239,59,44)"
             ],
             [
              0.75,
              "rgb(203,24,29)"
             ],
             [
              0.875,
              "rgb(165,15,21)"
             ],
             [
              1,
              "rgb(103,0,13)"
             ]
            ],
            "size": 10
           },
           "mode": "markers",
           "name": "defense",
           "showlegend": false,
           "type": "scatter",
           "x": [
            68.68,
            76.08,
            69.14,
            64.28,
            70.5,
            71.7,
            52.89,
            64.65,
            66.83,
            68.34,
            65.68
           ],
           "y": [
            43.08,
            39.52,
            39.69,
            34.97,
            51.04,
            39.49,
            31.82,
            25.26,
            35.03,
            38.64,
            40.82
           ]
          },
          {
           "hoverinfo": "none",
           "marker": {
            "color": "black",
            "size": 10
           },
           "mode": "markers",
           "name": "offense",
           "type": "scatter",
           "x": [
            67.65,
            66.71,
            65.82,
            70.59,
            77.11,
            71.05,
            74,
            61.92,
            68.29,
            67.4
           ],
           "y": [
            35.29,
            36.01,
            42.72,
            40.1,
            25.46,
            50.58,
            38.4,
            31.73,
            46.24,
            43.56
           ]
          },
          {
           "hoverinfo": "none",
           "marker": {
            "color": "yellow",
            "opacity": 1,
            "size": 10
           },
           "mode": "markers",
           "name": "ball_carrier",
           "type": "scatter",
           "x": [
            67.16
           ],
           "y": [
            40.3
           ]
          }
         ],
         "name": "44"
        },
        {
         "data": [
          {
           "marker": {
            "cmax": 1,
            "cmin": 0,
            "color": "#8e0912",
            "colorbar": {
             "len": 0.85,
             "thickness": 10,
             "title": {
              "text": "defense"
             },
             "x": 1.03,
             "y": 0.4
            },
            "colorscale": [
             [
              0,
              "rgb(255,245,240)"
             ],
             [
              0.125,
              "rgb(254,224,210)"
             ],
             [
              0.25,
              "rgb(252,187,161)"
             ],
             [
              0.375,
              "rgb(252,146,114)"
             ],
             [
              0.5,
              "rgb(251,106,74)"
             ],
             [
              0.625,
              "rgb(239,59,44)"
             ],
             [
              0.75,
              "rgb(203,24,29)"
             ],
             [
              0.875,
              "rgb(165,15,21)"
             ],
             [
              1,
              "rgb(103,0,13)"
             ]
            ],
            "size": 10
           },
           "mode": "markers",
           "name": "defense",
           "showlegend": false,
           "type": "scatter",
           "x": [
            68.78,
            76.26,
            69.08,
            63.97,
            70.23,
            71.42,
            53.08,
            64.34,
            66.65,
            67.82,
            65.77
           ],
           "y": [
            43.14,
            39.77,
            39.5,
            35.42,
            51.49,
            39.63,
            32.36,
            25.73,
            35.12,
            38.88,
            40.67
           ]
          },
          {
           "hoverinfo": "none",
           "marker": {
            "color": "black",
            "size": 10
           },
           "mode": "markers",
           "name": "offense",
           "type": "scatter",
           "x": [
            67.52,
            66.58,
            65.88,
            70.4,
            76.96,
            70.85,
            73.93,
            61.54,
            67.98,
            67.36
           ],
           "y": [
            35.38,
            36.16,
            42.84,
            40.37,
            25.35,
            51.05,
            38.63,
            32.29,
            46.28,
            43.88
           ]
          },
          {
           "hoverinfo": "none",
           "marker": {
            "color": "yellow",
            "opacity": 1,
            "size": 10
           },
           "mode": "markers",
           "name": "ball_carrier",
           "type": "scatter",
           "x": [
            66.69
           ],
           "y": [
            40.15
           ]
          }
         ],
         "name": "45"
        },
        {
         "data": [
          {
           "marker": {
            "cmax": 1,
            "cmin": 0,
            "color": "#840711",
            "colorbar": {
             "len": 0.85,
             "thickness": 10,
             "title": {
              "text": "defense"
             },
             "x": 1.03,
             "y": 0.4
            },
            "colorscale": [
             [
              0,
              "rgb(255,245,240)"
             ],
             [
              0.125,
              "rgb(254,224,210)"
             ],
             [
              0.25,
              "rgb(252,187,161)"
             ],
             [
              0.375,
              "rgb(252,146,114)"
             ],
             [
              0.5,
              "rgb(251,106,74)"
             ],
             [
              0.625,
              "rgb(239,59,44)"
             ],
             [
              0.75,
              "rgb(203,24,29)"
             ],
             [
              0.875,
              "rgb(165,15,21)"
             ],
             [
              1,
              "rgb(103,0,13)"
             ]
            ],
            "size": 10
           },
           "mode": "markers",
           "name": "defense",
           "showlegend": false,
           "type": "scatter",
           "x": [
            68.87,
            76.41,
            69.04,
            63.68,
            69.95,
            71.14,
            53.29,
            64.03,
            66.48,
            67.31,
            65.86
           ],
           "y": [
            43.17,
            39.99,
            39.36,
            35.87,
            51.9,
            39.75,
            32.88,
            26.21,
            35.23,
            39.08,
            40.52
           ]
          },
          {
           "hoverinfo": "none",
           "marker": {
            "color": "black",
            "size": 10
           },
           "mode": "markers",
           "name": "offense",
           "type": "scatter",
           "x": [
            67.38,
            66.45,
            65.92,
            70.19,
            76.81,
            66.26,
            70.62,
            73.82,
            61.16,
            67.67,
            67.31
           ],
           "y": [
            35.46,
            36.3,
            42.94,
            40.61,
            25.24,
            40,
            51.5,
            38.87,
            32.83,
            46.31,
            44.18
           ]
          },
          {
           "hoverinfo": "none",
           "marker": {
            "color": "yellow",
            "opacity": 0,
            "size": 10
           },
           "mode": "markers",
           "name": "ball_carrier",
           "type": "scatter",
           "x": [
            0
           ],
           "y": [
            0
           ]
          }
         ],
         "name": "46"
        },
        {
         "data": [
          {
           "marker": {
            "cmax": 1,
            "cmin": 0,
            "color": "#7a0510",
            "colorbar": {
             "len": 0.85,
             "thickness": 10,
             "title": {
              "text": "defense"
             },
             "x": 1.03,
             "y": 0.4
            },
            "colorscale": [
             [
              0,
              "rgb(255,245,240)"
             ],
             [
              0.125,
              "rgb(254,224,210)"
             ],
             [
              0.25,
              "rgb(252,187,161)"
             ],
             [
              0.375,
              "rgb(252,146,114)"
             ],
             [
              0.5,
              "rgb(251,106,74)"
             ],
             [
              0.625,
              "rgb(239,59,44)"
             ],
             [
              0.75,
              "rgb(203,24,29)"
             ],
             [
              0.875,
              "rgb(165,15,21)"
             ],
             [
              1,
              "rgb(103,0,13)"
             ]
            ],
            "size": 10
           },
           "mode": "markers",
           "name": "defense",
           "showlegend": false,
           "type": "scatter",
           "x": [
            68.95,
            76.54,
            69.02,
            63.43,
            69.65,
            70.87,
            53.5,
            63.73,
            66.3,
            66.79,
            65.95
           ],
           "y": [
            43.18,
            40.2,
            39.27,
            36.28,
            52.25,
            39.86,
            33.37,
            26.68,
            35.33,
            39.25,
            40.37
           ]
          },
          {
           "hoverinfo": "none",
           "marker": {
            "color": "black",
            "size": 10
           },
           "mode": "markers",
           "name": "offense",
           "type": "scatter",
           "x": [
            67.24,
            66.33,
            65.94,
            69.99,
            76.66,
            65.86,
            70.39,
            73.7,
            60.79,
            67.37,
            67.26
           ],
           "y": [
            35.53,
            36.45,
            43.01,
            40.8,
            25.16,
            39.85,
            51.91,
            39.09,
            33.35,
            46.32,
            44.46
           ]
          },
          {
           "hoverinfo": "none",
           "marker": {
            "color": "yellow",
            "opacity": 0,
            "size": 10
           },
           "mode": "markers",
           "name": "ball_carrier",
           "type": "scatter",
           "x": [
            0
           ],
           "y": [
            0
           ]
          }
         ],
         "name": "47"
        },
        {
         "data": [
          {
           "marker": {
            "cmax": 1,
            "cmin": 0,
            "color": "#71020e",
            "colorbar": {
             "len": 0.85,
             "thickness": 10,
             "title": {
              "text": "defense"
             },
             "x": 1.03,
             "y": 0.4
            },
            "colorscale": [
             [
              0,
              "rgb(255,245,240)"
             ],
             [
              0.125,
              "rgb(254,224,210)"
             ],
             [
              0.25,
              "rgb(252,187,161)"
             ],
             [
              0.375,
              "rgb(252,146,114)"
             ],
             [
              0.5,
              "rgb(251,106,74)"
             ],
             [
              0.625,
              "rgb(239,59,44)"
             ],
             [
              0.75,
              "rgb(203,24,29)"
             ],
             [
              0.875,
              "rgb(165,15,21)"
             ],
             [
              1,
              "rgb(103,0,13)"
             ]
            ],
            "size": 10
           },
           "mode": "markers",
           "name": "defense",
           "showlegend": false,
           "type": "scatter",
           "x": [
            69,
            76.66,
            69.03,
            63.21,
            69.35,
            70.61,
            53.72,
            63.42,
            66.13,
            66.27,
            66.01
           ],
           "y": [
            43.17,
            40.38,
            39.21,
            36.67,
            52.55,
            39.94,
            33.82,
            27.14,
            35.45,
            39.38,
            40.24
           ]
          },
          {
           "hoverinfo": "none",
           "marker": {
            "color": "black",
            "size": 10
           },
           "mode": "markers",
           "name": "offense",
           "type": "scatter",
           "x": [
            67.1,
            66.2,
            65.95,
            69.79,
            76.51,
            65.51,
            70.13,
            73.53,
            60.41,
            67.07,
            67.22
           ],
           "y": [
            35.59,
            36.59,
            43.06,
            40.96,
            25.09,
            39.71,
            52.29,
            39.31,
            33.84,
            46.34,
            44.71
           ]
          },
          {
           "hoverinfo": "none",
           "marker": {
            "color": "yellow",
            "opacity": 0,
            "size": 10
           },
           "mode": "markers",
           "name": "ball_carrier",
           "type": "scatter",
           "x": [
            0
           ],
           "y": [
            0
           ]
          }
         ],
         "name": "48"
        },
        {
         "data": [
          {
           "marker": {
            "cmax": 1,
            "cmin": 0,
            "color": "#67000d",
            "colorbar": {
             "len": 0.85,
             "thickness": 10,
             "title": {
              "text": "defense"
             },
             "x": 1.03,
             "y": 0.4
            },
            "colorscale": [
             [
              0,
              "rgb(255,245,240)"
             ],
             [
              0.125,
              "rgb(254,224,210)"
             ],
             [
              0.25,
              "rgb(252,187,161)"
             ],
             [
              0.375,
              "rgb(252,146,114)"
             ],
             [
              0.5,
              "rgb(251,106,74)"
             ],
             [
              0.625,
              "rgb(239,59,44)"
             ],
             [
              0.75,
              "rgb(203,24,29)"
             ],
             [
              0.875,
              "rgb(165,15,21)"
             ],
             [
              1,
              "rgb(103,0,13)"
             ]
            ],
            "size": 10
           },
           "mode": "markers",
           "name": "defense",
           "showlegend": false,
           "type": "scatter",
           "x": [
            69.03,
            76.76,
            69.06,
            63.02,
            69.05,
            70.37,
            53.95,
            63.11,
            65.96,
            65.76,
            66.06
           ],
           "y": [
            43.15,
            40.54,
            39.18,
            37.03,
            52.78,
            40.01,
            34.23,
            27.6,
            35.57,
            39.51,
            40.13
           ]
          },
          {
           "hoverinfo": "none",
           "marker": {
            "color": "black",
            "size": 10
           },
           "mode": "markers",
           "name": "offense",
           "type": "scatter",
           "x": [
            66.97,
            66.06,
            65.93,
            69.59,
            76.35,
            65.19,
            69.87,
            73.34,
            60.05,
            66.78,
            67.18
           ],
           "y": [
            35.65,
            36.71,
            43.07,
            41.09,
            25.03,
            39.61,
            52.63,
            39.51,
            34.31,
            46.35,
            44.93
           ]
          },
          {
           "hoverinfo": "none",
           "marker": {
            "color": "yellow",
            "opacity": 0,
            "size": 10
           },
           "mode": "markers",
           "name": "ball_carrier",
           "type": "scatter",
           "x": [
            0
           ],
           "y": [
            0
           ]
          }
         ],
         "name": "49"
        }
       ],
       "layout": {
        "annotations": [
         {
          "font": {
           "color": "white",
           "size": 25
          },
          "showarrow": false,
          "text": "10",
          "x": 20,
          "y": 48.3
         },
         {
          "font": {
           "color": "white",
           "size": 25
          },
          "showarrow": false,
          "text": "20",
          "x": 30,
          "y": 48.3
         },
         {
          "font": {
           "color": "white",
           "size": 25
          },
          "showarrow": false,
          "text": "30",
          "x": 40,
          "y": 48.3
         },
         {
          "font": {
           "color": "white",
           "size": 25
          },
          "showarrow": false,
          "text": "40",
          "x": 50,
          "y": 48.3
         },
         {
          "font": {
           "color": "white",
           "size": 25
          },
          "showarrow": false,
          "text": "50",
          "x": 60,
          "y": 48.3
         },
         {
          "font": {
           "color": "white",
           "size": 25
          },
          "showarrow": false,
          "text": "40",
          "x": 70,
          "y": 48.3
         },
         {
          "font": {
           "color": "white",
           "size": 25
          },
          "showarrow": false,
          "text": "30",
          "x": 80,
          "y": 48.3
         },
         {
          "font": {
           "color": "white",
           "size": 25
          },
          "showarrow": false,
          "text": "20",
          "x": 90,
          "y": 48.3
         },
         {
          "font": {
           "color": "white",
           "size": 25
          },
          "showarrow": false,
          "text": "10",
          "x": 100,
          "y": 48.3
         },
         {
          "font": {
           "color": "white",
           "size": 25
          },
          "showarrow": false,
          "text": "10",
          "x": 20,
          "y": 5
         },
         {
          "font": {
           "color": "white",
           "size": 25
          },
          "showarrow": false,
          "text": "20",
          "x": 30,
          "y": 5
         },
         {
          "font": {
           "color": "white",
           "size": 25
          },
          "showarrow": false,
          "text": "30",
          "x": 40,
          "y": 5
         },
         {
          "font": {
           "color": "white",
           "size": 25
          },
          "showarrow": false,
          "text": "40",
          "x": 50,
          "y": 5
         },
         {
          "font": {
           "color": "white",
           "size": 25
          },
          "showarrow": false,
          "text": "50",
          "x": 60,
          "y": 5
         },
         {
          "font": {
           "color": "white",
           "size": 25
          },
          "showarrow": false,
          "text": "40",
          "x": 70,
          "y": 5
         },
         {
          "font": {
           "color": "white",
           "size": 25
          },
          "showarrow": false,
          "text": "30",
          "x": 80,
          "y": 5
         },
         {
          "font": {
           "color": "white",
           "size": 25
          },
          "showarrow": false,
          "text": "20",
          "x": 90,
          "y": 5
         },
         {
          "font": {
           "color": "white",
           "size": 25
          },
          "showarrow": false,
          "text": "10",
          "x": 100,
          "y": 5
         }
        ],
        "height": 600,
        "shapes": [
         {
          "fillcolor": "#96B78C",
          "layer": "below",
          "line": {
           "width": 0
          },
          "type": "rect",
          "x0": 0,
          "x1": 120,
          "y0": 0,
          "y1": 53.3
         },
         {
          "fillcolor": "#6F976D",
          "layer": "below",
          "line": {
           "width": 0
          },
          "type": "rect",
          "x0": 0,
          "x1": 10,
          "y0": 0,
          "y1": 53.3
         },
         {
          "fillcolor": "#6F976D",
          "layer": "below",
          "line": {
           "width": 0
          },
          "type": "rect",
          "x0": 110,
          "x1": 120,
          "y0": 0,
          "y1": 53.3
         },
         {
          "layer": "below",
          "line": {
           "color": "white",
           "width": 2
          },
          "type": "line",
          "x0": 10,
          "x1": 10,
          "y0": 0,
          "y1": 53.3
         },
         {
          "layer": "below",
          "line": {
           "color": "white",
           "width": 1
          },
          "type": "line",
          "x0": 15,
          "x1": 15,
          "y0": 0,
          "y1": 53.3
         },
         {
          "layer": "below",
          "line": {
           "color": "white",
           "width": 2
          },
          "type": "line",
          "x0": 20,
          "x1": 20,
          "y0": 0,
          "y1": 53.3
         },
         {
          "layer": "below",
          "line": {
           "color": "white",
           "width": 1
          },
          "type": "line",
          "x0": 25,
          "x1": 25,
          "y0": 0,
          "y1": 53.3
         },
         {
          "layer": "below",
          "line": {
           "color": "white",
           "width": 2
          },
          "type": "line",
          "x0": 30,
          "x1": 30,
          "y0": 0,
          "y1": 53.3
         },
         {
          "layer": "below",
          "line": {
           "color": "white",
           "width": 1
          },
          "type": "line",
          "x0": 35,
          "x1": 35,
          "y0": 0,
          "y1": 53.3
         },
         {
          "layer": "below",
          "line": {
           "color": "white",
           "width": 2
          },
          "type": "line",
          "x0": 40,
          "x1": 40,
          "y0": 0,
          "y1": 53.3
         },
         {
          "layer": "below",
          "line": {
           "color": "white",
           "width": 1
          },
          "type": "line",
          "x0": 45,
          "x1": 45,
          "y0": 0,
          "y1": 53.3
         },
         {
          "layer": "below",
          "line": {
           "color": "white",
           "width": 2
          },
          "type": "line",
          "x0": 50,
          "x1": 50,
          "y0": 0,
          "y1": 53.3
         },
         {
          "layer": "below",
          "line": {
           "color": "white",
           "width": 1
          },
          "type": "line",
          "x0": 55,
          "x1": 55,
          "y0": 0,
          "y1": 53.3
         },
         {
          "layer": "below",
          "line": {
           "color": "white",
           "width": 2
          },
          "type": "line",
          "x0": 60,
          "x1": 60,
          "y0": 0,
          "y1": 53.3
         },
         {
          "layer": "below",
          "line": {
           "color": "white",
           "width": 1
          },
          "type": "line",
          "x0": 65,
          "x1": 65,
          "y0": 0,
          "y1": 53.3
         },
         {
          "layer": "below",
          "line": {
           "color": "white",
           "width": 2
          },
          "type": "line",
          "x0": 70,
          "x1": 70,
          "y0": 0,
          "y1": 53.3
         },
         {
          "layer": "below",
          "line": {
           "color": "white",
           "width": 1
          },
          "type": "line",
          "x0": 75,
          "x1": 75,
          "y0": 0,
          "y1": 53.3
         },
         {
          "layer": "below",
          "line": {
           "color": "white",
           "width": 2
          },
          "type": "line",
          "x0": 80,
          "x1": 80,
          "y0": 0,
          "y1": 53.3
         },
         {
          "layer": "below",
          "line": {
           "color": "white",
           "width": 1
          },
          "type": "line",
          "x0": 85,
          "x1": 85,
          "y0": 0,
          "y1": 53.3
         },
         {
          "layer": "below",
          "line": {
           "color": "white",
           "width": 2
          },
          "type": "line",
          "x0": 90,
          "x1": 90,
          "y0": 0,
          "y1": 53.3
         },
         {
          "layer": "below",
          "line": {
           "color": "white",
           "width": 1
          },
          "type": "line",
          "x0": 95,
          "x1": 95,
          "y0": 0,
          "y1": 53.3
         },
         {
          "layer": "below",
          "line": {
           "color": "white",
           "width": 2
          },
          "type": "line",
          "x0": 100,
          "x1": 100,
          "y0": 0,
          "y1": 53.3
         },
         {
          "layer": "below",
          "line": {
           "color": "white",
           "width": 1
          },
          "type": "line",
          "x0": 105,
          "x1": 105,
          "y0": 0,
          "y1": 53.3
         },
         {
          "layer": "below",
          "line": {
           "color": "white",
           "width": 2
          },
          "type": "line",
          "x0": 110,
          "x1": 110,
          "y0": 0,
          "y1": 53.3
         },
         {
          "layer": "below",
          "line": {
           "color": "#0070C0",
           "width": 2
          },
          "type": "line",
          "x0": 72,
          "x1": 72,
          "y0": 0,
          "y1": 53.3
         },
         {
          "layer": "below",
          "line": {
           "color": "#E9D11F",
           "width": 2
          },
          "type": "line",
          "x0": 62,
          "x1": 62,
          "y0": 0,
          "y1": 53.3
         }
        ],
        "sliders": [
         {
          "active": 0,
          "currentvalue": {
           "font": {
            "size": 20
           },
           "prefix": "frameId: ",
           "visible": true,
           "xanchor": "right"
          },
          "len": 0.9,
          "pad": {
           "b": 10,
           "t": 50
          },
          "steps": [
           {
            "args": [
             [
              "1"
             ],
             {
              "frame": {
               "duration": 50,
               "redraw": false
              },
              "mode": "immediate",
              "transition": {
               "duration": 0
              }
             }
            ],
            "label": "1",
            "method": "animate"
           },
           {
            "args": [
             [
              "2"
             ],
             {
              "frame": {
               "duration": 50,
               "redraw": false
              },
              "mode": "immediate",
              "transition": {
               "duration": 0
              }
             }
            ],
            "label": "2",
            "method": "animate"
           },
           {
            "args": [
             [
              "3"
             ],
             {
              "frame": {
               "duration": 50,
               "redraw": false
              },
              "mode": "immediate",
              "transition": {
               "duration": 0
              }
             }
            ],
            "label": "3",
            "method": "animate"
           },
           {
            "args": [
             [
              "4"
             ],
             {
              "frame": {
               "duration": 50,
               "redraw": false
              },
              "mode": "immediate",
              "transition": {
               "duration": 0
              }
             }
            ],
            "label": "4",
            "method": "animate"
           },
           {
            "args": [
             [
              "5"
             ],
             {
              "frame": {
               "duration": 50,
               "redraw": false
              },
              "mode": "immediate",
              "transition": {
               "duration": 0
              }
             }
            ],
            "label": "5",
            "method": "animate"
           },
           {
            "args": [
             [
              "6"
             ],
             {
              "frame": {
               "duration": 50,
               "redraw": false
              },
              "mode": "immediate",
              "transition": {
               "duration": 0
              }
             }
            ],
            "label": "6",
            "method": "animate"
           },
           {
            "args": [
             [
              "7"
             ],
             {
              "frame": {
               "duration": 50,
               "redraw": false
              },
              "mode": "immediate",
              "transition": {
               "duration": 0
              }
             }
            ],
            "label": "7",
            "method": "animate"
           },
           {
            "args": [
             [
              "8"
             ],
             {
              "frame": {
               "duration": 50,
               "redraw": false
              },
              "mode": "immediate",
              "transition": {
               "duration": 0
              }
             }
            ],
            "label": "8",
            "method": "animate"
           },
           {
            "args": [
             [
              "9"
             ],
             {
              "frame": {
               "duration": 50,
               "redraw": false
              },
              "mode": "immediate",
              "transition": {
               "duration": 0
              }
             }
            ],
            "label": "9",
            "method": "animate"
           },
           {
            "args": [
             [
              "10"
             ],
             {
              "frame": {
               "duration": 50,
               "redraw": false
              },
              "mode": "immediate",
              "transition": {
               "duration": 0
              }
             }
            ],
            "label": "10",
            "method": "animate"
           },
           {
            "args": [
             [
              "11"
             ],
             {
              "frame": {
               "duration": 50,
               "redraw": false
              },
              "mode": "immediate",
              "transition": {
               "duration": 0
              }
             }
            ],
            "label": "11",
            "method": "animate"
           },
           {
            "args": [
             [
              "12"
             ],
             {
              "frame": {
               "duration": 50,
               "redraw": false
              },
              "mode": "immediate",
              "transition": {
               "duration": 0
              }
             }
            ],
            "label": "12",
            "method": "animate"
           },
           {
            "args": [
             [
              "13"
             ],
             {
              "frame": {
               "duration": 50,
               "redraw": false
              },
              "mode": "immediate",
              "transition": {
               "duration": 0
              }
             }
            ],
            "label": "13",
            "method": "animate"
           },
           {
            "args": [
             [
              "14"
             ],
             {
              "frame": {
               "duration": 50,
               "redraw": false
              },
              "mode": "immediate",
              "transition": {
               "duration": 0
              }
             }
            ],
            "label": "14",
            "method": "animate"
           },
           {
            "args": [
             [
              "15"
             ],
             {
              "frame": {
               "duration": 50,
               "redraw": false
              },
              "mode": "immediate",
              "transition": {
               "duration": 0
              }
             }
            ],
            "label": "15",
            "method": "animate"
           },
           {
            "args": [
             [
              "16"
             ],
             {
              "frame": {
               "duration": 50,
               "redraw": false
              },
              "mode": "immediate",
              "transition": {
               "duration": 0
              }
             }
            ],
            "label": "16",
            "method": "animate"
           },
           {
            "args": [
             [
              "17"
             ],
             {
              "frame": {
               "duration": 50,
               "redraw": false
              },
              "mode": "immediate",
              "transition": {
               "duration": 0
              }
             }
            ],
            "label": "17",
            "method": "animate"
           },
           {
            "args": [
             [
              "18"
             ],
             {
              "frame": {
               "duration": 50,
               "redraw": false
              },
              "mode": "immediate",
              "transition": {
               "duration": 0
              }
             }
            ],
            "label": "18",
            "method": "animate"
           },
           {
            "args": [
             [
              "19"
             ],
             {
              "frame": {
               "duration": 50,
               "redraw": false
              },
              "mode": "immediate",
              "transition": {
               "duration": 0
              }
             }
            ],
            "label": "19",
            "method": "animate"
           },
           {
            "args": [
             [
              "20"
             ],
             {
              "frame": {
               "duration": 50,
               "redraw": false
              },
              "mode": "immediate",
              "transition": {
               "duration": 0
              }
             }
            ],
            "label": "20",
            "method": "animate"
           },
           {
            "args": [
             [
              "21"
             ],
             {
              "frame": {
               "duration": 50,
               "redraw": false
              },
              "mode": "immediate",
              "transition": {
               "duration": 0
              }
             }
            ],
            "label": "21",
            "method": "animate"
           },
           {
            "args": [
             [
              "22"
             ],
             {
              "frame": {
               "duration": 50,
               "redraw": false
              },
              "mode": "immediate",
              "transition": {
               "duration": 0
              }
             }
            ],
            "label": "22",
            "method": "animate"
           },
           {
            "args": [
             [
              "23"
             ],
             {
              "frame": {
               "duration": 50,
               "redraw": false
              },
              "mode": "immediate",
              "transition": {
               "duration": 0
              }
             }
            ],
            "label": "23",
            "method": "animate"
           },
           {
            "args": [
             [
              "24"
             ],
             {
              "frame": {
               "duration": 50,
               "redraw": false
              },
              "mode": "immediate",
              "transition": {
               "duration": 0
              }
             }
            ],
            "label": "24",
            "method": "animate"
           },
           {
            "args": [
             [
              "25"
             ],
             {
              "frame": {
               "duration": 50,
               "redraw": false
              },
              "mode": "immediate",
              "transition": {
               "duration": 0
              }
             }
            ],
            "label": "25",
            "method": "animate"
           },
           {
            "args": [
             [
              "26"
             ],
             {
              "frame": {
               "duration": 50,
               "redraw": false
              },
              "mode": "immediate",
              "transition": {
               "duration": 0
              }
             }
            ],
            "label": "26",
            "method": "animate"
           },
           {
            "args": [
             [
              "27"
             ],
             {
              "frame": {
               "duration": 50,
               "redraw": false
              },
              "mode": "immediate",
              "transition": {
               "duration": 0
              }
             }
            ],
            "label": "27",
            "method": "animate"
           },
           {
            "args": [
             [
              "28"
             ],
             {
              "frame": {
               "duration": 50,
               "redraw": false
              },
              "mode": "immediate",
              "transition": {
               "duration": 0
              }
             }
            ],
            "label": "28",
            "method": "animate"
           },
           {
            "args": [
             [
              "29"
             ],
             {
              "frame": {
               "duration": 50,
               "redraw": false
              },
              "mode": "immediate",
              "transition": {
               "duration": 0
              }
             }
            ],
            "label": "29",
            "method": "animate"
           },
           {
            "args": [
             [
              "30"
             ],
             {
              "frame": {
               "duration": 50,
               "redraw": false
              },
              "mode": "immediate",
              "transition": {
               "duration": 0
              }
             }
            ],
            "label": "30",
            "method": "animate"
           },
           {
            "args": [
             [
              "31"
             ],
             {
              "frame": {
               "duration": 50,
               "redraw": false
              },
              "mode": "immediate",
              "transition": {
               "duration": 0
              }
             }
            ],
            "label": "31",
            "method": "animate"
           },
           {
            "args": [
             [
              "32"
             ],
             {
              "frame": {
               "duration": 50,
               "redraw": false
              },
              "mode": "immediate",
              "transition": {
               "duration": 0
              }
             }
            ],
            "label": "32",
            "method": "animate"
           },
           {
            "args": [
             [
              "33"
             ],
             {
              "frame": {
               "duration": 50,
               "redraw": false
              },
              "mode": "immediate",
              "transition": {
               "duration": 0
              }
             }
            ],
            "label": "33",
            "method": "animate"
           },
           {
            "args": [
             [
              "34"
             ],
             {
              "frame": {
               "duration": 50,
               "redraw": false
              },
              "mode": "immediate",
              "transition": {
               "duration": 0
              }
             }
            ],
            "label": "34",
            "method": "animate"
           },
           {
            "args": [
             [
              "35"
             ],
             {
              "frame": {
               "duration": 50,
               "redraw": false
              },
              "mode": "immediate",
              "transition": {
               "duration": 0
              }
             }
            ],
            "label": "35",
            "method": "animate"
           },
           {
            "args": [
             [
              "36"
             ],
             {
              "frame": {
               "duration": 50,
               "redraw": false
              },
              "mode": "immediate",
              "transition": {
               "duration": 0
              }
             }
            ],
            "label": "36",
            "method": "animate"
           },
           {
            "args": [
             [
              "37"
             ],
             {
              "frame": {
               "duration": 50,
               "redraw": false
              },
              "mode": "immediate",
              "transition": {
               "duration": 0
              }
             }
            ],
            "label": "37",
            "method": "animate"
           },
           {
            "args": [
             [
              "38"
             ],
             {
              "frame": {
               "duration": 50,
               "redraw": false
              },
              "mode": "immediate",
              "transition": {
               "duration": 0
              }
             }
            ],
            "label": "38",
            "method": "animate"
           },
           {
            "args": [
             [
              "39"
             ],
             {
              "frame": {
               "duration": 50,
               "redraw": false
              },
              "mode": "immediate",
              "transition": {
               "duration": 0
              }
             }
            ],
            "label": "39",
            "method": "animate"
           },
           {
            "args": [
             [
              "40"
             ],
             {
              "frame": {
               "duration": 50,
               "redraw": false
              },
              "mode": "immediate",
              "transition": {
               "duration": 0
              }
             }
            ],
            "label": "40",
            "method": "animate"
           },
           {
            "args": [
             [
              "41"
             ],
             {
              "frame": {
               "duration": 50,
               "redraw": false
              },
              "mode": "immediate",
              "transition": {
               "duration": 0
              }
             }
            ],
            "label": "41",
            "method": "animate"
           },
           {
            "args": [
             [
              "42"
             ],
             {
              "frame": {
               "duration": 50,
               "redraw": false
              },
              "mode": "immediate",
              "transition": {
               "duration": 0
              }
             }
            ],
            "label": "42",
            "method": "animate"
           },
           {
            "args": [
             [
              "43"
             ],
             {
              "frame": {
               "duration": 50,
               "redraw": false
              },
              "mode": "immediate",
              "transition": {
               "duration": 0
              }
             }
            ],
            "label": "43",
            "method": "animate"
           },
           {
            "args": [
             [
              "44"
             ],
             {
              "frame": {
               "duration": 50,
               "redraw": false
              },
              "mode": "immediate",
              "transition": {
               "duration": 0
              }
             }
            ],
            "label": "44",
            "method": "animate"
           },
           {
            "args": [
             [
              "45"
             ],
             {
              "frame": {
               "duration": 50,
               "redraw": false
              },
              "mode": "immediate",
              "transition": {
               "duration": 0
              }
             }
            ],
            "label": "45",
            "method": "animate"
           },
           {
            "args": [
             [
              "46"
             ],
             {
              "frame": {
               "duration": 50,
               "redraw": false
              },
              "mode": "immediate",
              "transition": {
               "duration": 0
              }
             }
            ],
            "label": "46",
            "method": "animate"
           },
           {
            "args": [
             [
              "47"
             ],
             {
              "frame": {
               "duration": 50,
               "redraw": false
              },
              "mode": "immediate",
              "transition": {
               "duration": 0
              }
             }
            ],
            "label": "47",
            "method": "animate"
           },
           {
            "args": [
             [
              "48"
             ],
             {
              "frame": {
               "duration": 50,
               "redraw": false
              },
              "mode": "immediate",
              "transition": {
               "duration": 0
              }
             }
            ],
            "label": "48",
            "method": "animate"
           },
           {
            "args": [
             [
              "49"
             ],
             {
              "frame": {
               "duration": 50,
               "redraw": false
              },
              "mode": "immediate",
              "transition": {
               "duration": 0
              }
             }
            ],
            "label": "49",
            "method": "animate"
           }
          ],
          "transition": {
           "duration": 50,
           "easing": "cubic-in-out"
          },
          "x": 0.1,
          "xanchor": "left",
          "y": 0,
          "yanchor": "top"
         }
        ],
        "template": {
         "data": {
          "bar": [
           {
            "error_x": {
             "color": "#2a3f5f"
            },
            "error_y": {
             "color": "#2a3f5f"
            },
            "marker": {
             "line": {
              "color": "#E5ECF6",
              "width": 0.5
             },
             "pattern": {
              "fillmode": "overlay",
              "size": 10,
              "solidity": 0.2
             }
            },
            "type": "bar"
           }
          ],
          "barpolar": [
           {
            "marker": {
             "line": {
              "color": "#E5ECF6",
              "width": 0.5
             },
             "pattern": {
              "fillmode": "overlay",
              "size": 10,
              "solidity": 0.2
             }
            },
            "type": "barpolar"
           }
          ],
          "carpet": [
           {
            "aaxis": {
             "endlinecolor": "#2a3f5f",
             "gridcolor": "white",
             "linecolor": "white",
             "minorgridcolor": "white",
             "startlinecolor": "#2a3f5f"
            },
            "baxis": {
             "endlinecolor": "#2a3f5f",
             "gridcolor": "white",
             "linecolor": "white",
             "minorgridcolor": "white",
             "startlinecolor": "#2a3f5f"
            },
            "type": "carpet"
           }
          ],
          "choropleth": [
           {
            "colorbar": {
             "outlinewidth": 0,
             "ticks": ""
            },
            "type": "choropleth"
           }
          ],
          "contour": [
           {
            "colorbar": {
             "outlinewidth": 0,
             "ticks": ""
            },
            "colorscale": [
             [
              0,
              "#0d0887"
             ],
             [
              0.1111111111111111,
              "#46039f"
             ],
             [
              0.2222222222222222,
              "#7201a8"
             ],
             [
              0.3333333333333333,
              "#9c179e"
             ],
             [
              0.4444444444444444,
              "#bd3786"
             ],
             [
              0.5555555555555556,
              "#d8576b"
             ],
             [
              0.6666666666666666,
              "#ed7953"
             ],
             [
              0.7777777777777778,
              "#fb9f3a"
             ],
             [
              0.8888888888888888,
              "#fdca26"
             ],
             [
              1,
              "#f0f921"
             ]
            ],
            "type": "contour"
           }
          ],
          "contourcarpet": [
           {
            "colorbar": {
             "outlinewidth": 0,
             "ticks": ""
            },
            "type": "contourcarpet"
           }
          ],
          "heatmap": [
           {
            "colorbar": {
             "outlinewidth": 0,
             "ticks": ""
            },
            "colorscale": [
             [
              0,
              "#0d0887"
             ],
             [
              0.1111111111111111,
              "#46039f"
             ],
             [
              0.2222222222222222,
              "#7201a8"
             ],
             [
              0.3333333333333333,
              "#9c179e"
             ],
             [
              0.4444444444444444,
              "#bd3786"
             ],
             [
              0.5555555555555556,
              "#d8576b"
             ],
             [
              0.6666666666666666,
              "#ed7953"
             ],
             [
              0.7777777777777778,
              "#fb9f3a"
             ],
             [
              0.8888888888888888,
              "#fdca26"
             ],
             [
              1,
              "#f0f921"
             ]
            ],
            "type": "heatmap"
           }
          ],
          "heatmapgl": [
           {
            "colorbar": {
             "outlinewidth": 0,
             "ticks": ""
            },
            "colorscale": [
             [
              0,
              "#0d0887"
             ],
             [
              0.1111111111111111,
              "#46039f"
             ],
             [
              0.2222222222222222,
              "#7201a8"
             ],
             [
              0.3333333333333333,
              "#9c179e"
             ],
             [
              0.4444444444444444,
              "#bd3786"
             ],
             [
              0.5555555555555556,
              "#d8576b"
             ],
             [
              0.6666666666666666,
              "#ed7953"
             ],
             [
              0.7777777777777778,
              "#fb9f3a"
             ],
             [
              0.8888888888888888,
              "#fdca26"
             ],
             [
              1,
              "#f0f921"
             ]
            ],
            "type": "heatmapgl"
           }
          ],
          "histogram": [
           {
            "marker": {
             "pattern": {
              "fillmode": "overlay",
              "size": 10,
              "solidity": 0.2
             }
            },
            "type": "histogram"
           }
          ],
          "histogram2d": [
           {
            "colorbar": {
             "outlinewidth": 0,
             "ticks": ""
            },
            "colorscale": [
             [
              0,
              "#0d0887"
             ],
             [
              0.1111111111111111,
              "#46039f"
             ],
             [
              0.2222222222222222,
              "#7201a8"
             ],
             [
              0.3333333333333333,
              "#9c179e"
             ],
             [
              0.4444444444444444,
              "#bd3786"
             ],
             [
              0.5555555555555556,
              "#d8576b"
             ],
             [
              0.6666666666666666,
              "#ed7953"
             ],
             [
              0.7777777777777778,
              "#fb9f3a"
             ],
             [
              0.8888888888888888,
              "#fdca26"
             ],
             [
              1,
              "#f0f921"
             ]
            ],
            "type": "histogram2d"
           }
          ],
          "histogram2dcontour": [
           {
            "colorbar": {
             "outlinewidth": 0,
             "ticks": ""
            },
            "colorscale": [
             [
              0,
              "#0d0887"
             ],
             [
              0.1111111111111111,
              "#46039f"
             ],
             [
              0.2222222222222222,
              "#7201a8"
             ],
             [
              0.3333333333333333,
              "#9c179e"
             ],
             [
              0.4444444444444444,
              "#bd3786"
             ],
             [
              0.5555555555555556,
              "#d8576b"
             ],
             [
              0.6666666666666666,
              "#ed7953"
             ],
             [
              0.7777777777777778,
              "#fb9f3a"
             ],
             [
              0.8888888888888888,
              "#fdca26"
             ],
             [
              1,
              "#f0f921"
             ]
            ],
            "type": "histogram2dcontour"
           }
          ],
          "mesh3d": [
           {
            "colorbar": {
             "outlinewidth": 0,
             "ticks": ""
            },
            "type": "mesh3d"
           }
          ],
          "parcoords": [
           {
            "line": {
             "colorbar": {
              "outlinewidth": 0,
              "ticks": ""
             }
            },
            "type": "parcoords"
           }
          ],
          "pie": [
           {
            "automargin": true,
            "type": "pie"
           }
          ],
          "scatter": [
           {
            "fillpattern": {
             "fillmode": "overlay",
             "size": 10,
             "solidity": 0.2
            },
            "type": "scatter"
           }
          ],
          "scatter3d": [
           {
            "line": {
             "colorbar": {
              "outlinewidth": 0,
              "ticks": ""
             }
            },
            "marker": {
             "colorbar": {
              "outlinewidth": 0,
              "ticks": ""
             }
            },
            "type": "scatter3d"
           }
          ],
          "scattercarpet": [
           {
            "marker": {
             "colorbar": {
              "outlinewidth": 0,
              "ticks": ""
             }
            },
            "type": "scattercarpet"
           }
          ],
          "scattergeo": [
           {
            "marker": {
             "colorbar": {
              "outlinewidth": 0,
              "ticks": ""
             }
            },
            "type": "scattergeo"
           }
          ],
          "scattergl": [
           {
            "marker": {
             "colorbar": {
              "outlinewidth": 0,
              "ticks": ""
             }
            },
            "type": "scattergl"
           }
          ],
          "scattermapbox": [
           {
            "marker": {
             "colorbar": {
              "outlinewidth": 0,
              "ticks": ""
             }
            },
            "type": "scattermapbox"
           }
          ],
          "scatterpolar": [
           {
            "marker": {
             "colorbar": {
              "outlinewidth": 0,
              "ticks": ""
             }
            },
            "type": "scatterpolar"
           }
          ],
          "scatterpolargl": [
           {
            "marker": {
             "colorbar": {
              "outlinewidth": 0,
              "ticks": ""
             }
            },
            "type": "scatterpolargl"
           }
          ],
          "scatterternary": [
           {
            "marker": {
             "colorbar": {
              "outlinewidth": 0,
              "ticks": ""
             }
            },
            "type": "scatterternary"
           }
          ],
          "surface": [
           {
            "colorbar": {
             "outlinewidth": 0,
             "ticks": ""
            },
            "colorscale": [
             [
              0,
              "#0d0887"
             ],
             [
              0.1111111111111111,
              "#46039f"
             ],
             [
              0.2222222222222222,
              "#7201a8"
             ],
             [
              0.3333333333333333,
              "#9c179e"
             ],
             [
              0.4444444444444444,
              "#bd3786"
             ],
             [
              0.5555555555555556,
              "#d8576b"
             ],
             [
              0.6666666666666666,
              "#ed7953"
             ],
             [
              0.7777777777777778,
              "#fb9f3a"
             ],
             [
              0.8888888888888888,
              "#fdca26"
             ],
             [
              1,
              "#f0f921"
             ]
            ],
            "type": "surface"
           }
          ],
          "table": [
           {
            "cells": {
             "fill": {
              "color": "#EBF0F8"
             },
             "line": {
              "color": "white"
             }
            },
            "header": {
             "fill": {
              "color": "#C8D4E3"
             },
             "line": {
              "color": "white"
             }
            },
            "type": "table"
           }
          ]
         },
         "layout": {
          "annotationdefaults": {
           "arrowcolor": "#2a3f5f",
           "arrowhead": 0,
           "arrowwidth": 1
          },
          "autotypenumbers": "strict",
          "coloraxis": {
           "colorbar": {
            "outlinewidth": 0,
            "ticks": ""
           }
          },
          "colorscale": {
           "diverging": [
            [
             0,
             "#8e0152"
            ],
            [
             0.1,
             "#c51b7d"
            ],
            [
             0.2,
             "#de77ae"
            ],
            [
             0.3,
             "#f1b6da"
            ],
            [
             0.4,
             "#fde0ef"
            ],
            [
             0.5,
             "#f7f7f7"
            ],
            [
             0.6,
             "#e6f5d0"
            ],
            [
             0.7,
             "#b8e186"
            ],
            [
             0.8,
             "#7fbc41"
            ],
            [
             0.9,
             "#4d9221"
            ],
            [
             1,
             "#276419"
            ]
           ],
           "sequential": [
            [
             0,
             "#0d0887"
            ],
            [
             0.1111111111111111,
             "#46039f"
            ],
            [
             0.2222222222222222,
             "#7201a8"
            ],
            [
             0.3333333333333333,
             "#9c179e"
            ],
            [
             0.4444444444444444,
             "#bd3786"
            ],
            [
             0.5555555555555556,
             "#d8576b"
            ],
            [
             0.6666666666666666,
             "#ed7953"
            ],
            [
             0.7777777777777778,
             "#fb9f3a"
            ],
            [
             0.8888888888888888,
             "#fdca26"
            ],
            [
             1,
             "#f0f921"
            ]
           ],
           "sequentialminus": [
            [
             0,
             "#0d0887"
            ],
            [
             0.1111111111111111,
             "#46039f"
            ],
            [
             0.2222222222222222,
             "#7201a8"
            ],
            [
             0.3333333333333333,
             "#9c179e"
            ],
            [
             0.4444444444444444,
             "#bd3786"
            ],
            [
             0.5555555555555556,
             "#d8576b"
            ],
            [
             0.6666666666666666,
             "#ed7953"
            ],
            [
             0.7777777777777778,
             "#fb9f3a"
            ],
            [
             0.8888888888888888,
             "#fdca26"
            ],
            [
             1,
             "#f0f921"
            ]
           ]
          },
          "colorway": [
           "#636efa",
           "#EF553B",
           "#00cc96",
           "#ab63fa",
           "#FFA15A",
           "#19d3f3",
           "#FF6692",
           "#B6E880",
           "#FF97FF",
           "#FECB52"
          ],
          "font": {
           "color": "#2a3f5f"
          },
          "geo": {
           "bgcolor": "white",
           "lakecolor": "white",
           "landcolor": "#E5ECF6",
           "showlakes": true,
           "showland": true,
           "subunitcolor": "white"
          },
          "hoverlabel": {
           "align": "left"
          },
          "hovermode": "closest",
          "mapbox": {
           "style": "light"
          },
          "paper_bgcolor": "white",
          "plot_bgcolor": "#E5ECF6",
          "polar": {
           "angularaxis": {
            "gridcolor": "white",
            "linecolor": "white",
            "ticks": ""
           },
           "bgcolor": "#E5ECF6",
           "radialaxis": {
            "gridcolor": "white",
            "linecolor": "white",
            "ticks": ""
           }
          },
          "scene": {
           "xaxis": {
            "backgroundcolor": "#E5ECF6",
            "gridcolor": "white",
            "gridwidth": 2,
            "linecolor": "white",
            "showbackground": true,
            "ticks": "",
            "zerolinecolor": "white"
           },
           "yaxis": {
            "backgroundcolor": "#E5ECF6",
            "gridcolor": "white",
            "gridwidth": 2,
            "linecolor": "white",
            "showbackground": true,
            "ticks": "",
            "zerolinecolor": "white"
           },
           "zaxis": {
            "backgroundcolor": "#E5ECF6",
            "gridcolor": "white",
            "gridwidth": 2,
            "linecolor": "white",
            "showbackground": true,
            "ticks": "",
            "zerolinecolor": "white"
           }
          },
          "shapedefaults": {
           "line": {
            "color": "#2a3f5f"
           }
          },
          "ternary": {
           "aaxis": {
            "gridcolor": "white",
            "linecolor": "white",
            "ticks": ""
           },
           "baxis": {
            "gridcolor": "white",
            "linecolor": "white",
            "ticks": ""
           },
           "bgcolor": "#E5ECF6",
           "caxis": {
            "gridcolor": "white",
            "linecolor": "white",
            "ticks": ""
           }
          },
          "title": {
           "x": 0.05
          },
          "xaxis": {
           "automargin": true,
           "gridcolor": "white",
           "linecolor": "white",
           "ticks": "",
           "title": {
            "standoff": 15
           },
           "zerolinecolor": "white",
           "zerolinewidth": 2
          },
          "yaxis": {
           "automargin": true,
           "gridcolor": "white",
           "linecolor": "white",
           "ticks": "",
           "title": {
            "standoff": 15
           },
           "zerolinecolor": "white",
           "zerolinewidth": 2
          }
         }
        },
        "updatemenus": [
         {
          "buttons": [
           {
            "args": [
             null,
             {
              "frame": {
               "duration": 50,
               "redraw": false
              },
              "fromcurrent": true,
              "transition": {
               "duration": 0
              }
             }
            ],
            "label": "⏵",
            "method": "animate"
           },
           {
            "args": [
             [
              null
             ],
             {
              "frame": {
               "duration": 0,
               "redraw": false
              },
              "mode": "immediate",
              "transition": {
               "duration": 0
              }
             }
            ],
            "label": "⏸",
            "method": "animate"
           }
          ],
          "direction": "left",
          "pad": {
           "r": 10,
           "t": 87
          },
          "showactive": false,
          "type": "buttons",
          "x": 0.1,
          "xanchor": "right",
          "y": 0,
          "yanchor": "top"
         }
        ],
        "xaxis": {
         "range": [
          -5,
          125
         ],
         "visible": false
        },
        "yaxis": {
         "range": [
          -5,
          58.3
         ],
         "scaleanchor": "x",
         "scaleratio": 1,
         "visible": false
        }
       }
      }
     },
     "metadata": {},
     "output_type": "display_data"
    }
   ],
   "source": [
    "field_proba.fig.show()"
   ]
  },
  {
   "cell_type": "code",
   "execution_count": null,
   "metadata": {},
   "outputs": [],
   "source": []
  }
 ],
 "metadata": {
  "kernelspec": {
   "display_name": "Python 3 (ipykernel)",
   "language": "python",
   "name": "python3"
  },
  "language_info": {
   "codemirror_mode": {
    "name": "ipython",
    "version": 3
   },
   "file_extension": ".py",
   "mimetype": "text/x-python",
   "name": "python",
   "nbconvert_exporter": "python",
   "pygments_lexer": "ipython3",
   "version": "3.10.13"
  }
 },
 "nbformat": 4,
 "nbformat_minor": 2
}
