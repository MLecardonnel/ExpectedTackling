{
 "cells": [
  {
   "cell_type": "code",
   "execution_count": 1,
   "metadata": {},
   "outputs": [],
   "source": [
    "%load_ext autoreload\n",
    "%autoreload 2"
   ]
  },
  {
   "cell_type": "code",
   "execution_count": 2,
   "metadata": {},
   "outputs": [
    {
     "name": "stderr",
     "output_type": "stream",
     "text": [
      "IProgress not found. Please update jupyter and ipywidgets. See https://ipywidgets.readthedocs.io/en/stable/user_install.html\n"
     ]
    }
   ],
   "source": [
    "import pandas as pd\n",
    "\n",
    "from expected_tackling.visualization import Field"
   ]
  },
  {
   "cell_type": "code",
   "execution_count": 3,
   "metadata": {},
   "outputs": [],
   "source": [
    "visualization_tracking_data = pd.read_csv(\"../data/visualization_tracking_data.csv\")\n",
    "tackling_probability = pd.read_csv(\"../data/tackling_probability.csv\")"
   ]
  },
  {
   "cell_type": "code",
   "execution_count": 4,
   "metadata": {},
   "outputs": [],
   "source": [
    "visualization_tracking_data = visualization_tracking_data.merge(tackling_probability, on=[\"gameId\", \"playId\", \"nflId\", \"frameId\"])"
   ]
  },
  {
   "cell_type": "code",
   "execution_count": 5,
   "metadata": {},
   "outputs": [],
   "source": [
    "mott_predictions = pd.read_csv(\"../data/mott_predictions.csv\")"
   ]
  },
  {
   "cell_type": "code",
   "execution_count": 6,
   "metadata": {},
   "outputs": [
    {
     "data": {
      "text/html": [
       "<div>\n",
       "<style scoped>\n",
       "    .dataframe tbody tr th:only-of-type {\n",
       "        vertical-align: middle;\n",
       "    }\n",
       "\n",
       "    .dataframe tbody tr th {\n",
       "        vertical-align: top;\n",
       "    }\n",
       "\n",
       "    .dataframe thead th {\n",
       "        text-align: right;\n",
       "    }\n",
       "</style>\n",
       "<table border=\"1\" class=\"dataframe\">\n",
       "  <thead>\n",
       "    <tr style=\"text-align: right;\">\n",
       "      <th></th>\n",
       "      <th>gameId</th>\n",
       "      <th>playId</th>\n",
       "    </tr>\n",
       "  </thead>\n",
       "  <tbody>\n",
       "    <tr>\n",
       "      <th>0</th>\n",
       "      <td>2022090800</td>\n",
       "      <td>56</td>\n",
       "    </tr>\n",
       "    <tr>\n",
       "      <th>506</th>\n",
       "      <td>2022090800</td>\n",
       "      <td>80</td>\n",
       "    </tr>\n",
       "    <tr>\n",
       "      <th>1196</th>\n",
       "      <td>2022090800</td>\n",
       "      <td>101</td>\n",
       "    </tr>\n",
       "    <tr>\n",
       "      <th>2323</th>\n",
       "      <td>2022090800</td>\n",
       "      <td>122</td>\n",
       "    </tr>\n",
       "    <tr>\n",
       "      <th>3082</th>\n",
       "      <td>2022090800</td>\n",
       "      <td>146</td>\n",
       "    </tr>\n",
       "    <tr>\n",
       "      <th>4370</th>\n",
       "      <td>2022090800</td>\n",
       "      <td>167</td>\n",
       "    </tr>\n",
       "    <tr>\n",
       "      <th>4876</th>\n",
       "      <td>2022090800</td>\n",
       "      <td>191</td>\n",
       "    </tr>\n",
       "    <tr>\n",
       "      <th>6049</th>\n",
       "      <td>2022090800</td>\n",
       "      <td>212</td>\n",
       "    </tr>\n",
       "    <tr>\n",
       "      <th>6417</th>\n",
       "      <td>2022090800</td>\n",
       "      <td>236</td>\n",
       "    </tr>\n",
       "    <tr>\n",
       "      <th>6946</th>\n",
       "      <td>2022090800</td>\n",
       "      <td>299</td>\n",
       "    </tr>\n",
       "  </tbody>\n",
       "</table>\n",
       "</div>"
      ],
      "text/plain": [
       "          gameId  playId\n",
       "0     2022090800      56\n",
       "506   2022090800      80\n",
       "1196  2022090800     101\n",
       "2323  2022090800     122\n",
       "3082  2022090800     146\n",
       "4370  2022090800     167\n",
       "4876  2022090800     191\n",
       "6049  2022090800     212\n",
       "6417  2022090800     236\n",
       "6946  2022090800     299"
      ]
     },
     "execution_count": 6,
     "metadata": {},
     "output_type": "execute_result"
    }
   ],
   "source": [
    "visualization_tracking_data[[\"gameId\", \"playId\"]].drop_duplicates().head(10)"
   ]
  },
  {
   "cell_type": "code",
   "execution_count": 7,
   "metadata": {},
   "outputs": [],
   "source": [
    "test_play_tracking = visualization_tracking_data[(visualization_tracking_data[\"gameId\"]==2022100911) & (visualization_tracking_data[\"playId\"]==2915)]"
   ]
  },
  {
   "cell_type": "code",
   "execution_count": 8,
   "metadata": {},
   "outputs": [],
   "source": [
    "test_mott_predictions = mott_predictions[(mott_predictions[\"gameId\"]==2022100911) & (mott_predictions[\"playId\"]==2915)]"
   ]
  },
  {
   "cell_type": "code",
   "execution_count": 11,
   "metadata": {},
   "outputs": [
    {
     "data": {
      "text/html": [
       "<div>\n",
       "<style scoped>\n",
       "    .dataframe tbody tr th:only-of-type {\n",
       "        vertical-align: middle;\n",
       "    }\n",
       "\n",
       "    .dataframe tbody tr th {\n",
       "        vertical-align: top;\n",
       "    }\n",
       "\n",
       "    .dataframe thead th {\n",
       "        text-align: right;\n",
       "    }\n",
       "</style>\n",
       "<table border=\"1\" class=\"dataframe\">\n",
       "  <thead>\n",
       "    <tr style=\"text-align: right;\">\n",
       "      <th></th>\n",
       "      <th>gameId</th>\n",
       "      <th>playId</th>\n",
       "      <th>nflId</th>\n",
       "      <th>frameId</th>\n",
       "      <th>club</th>\n",
       "      <th>x</th>\n",
       "      <th>y</th>\n",
       "      <th>playDirection</th>\n",
       "      <th>event</th>\n",
       "      <th>ball_carrier</th>\n",
       "      <th>...</th>\n",
       "      <th>defensiveTeam</th>\n",
       "      <th>absoluteYardlineNumber</th>\n",
       "      <th>yardsToGo</th>\n",
       "      <th>qbId</th>\n",
       "      <th>ball_carrier_id</th>\n",
       "      <th>is_defense</th>\n",
       "      <th>is_ball_carrying</th>\n",
       "      <th>position</th>\n",
       "      <th>displayName</th>\n",
       "      <th>tackling_probability</th>\n",
       "    </tr>\n",
       "  </thead>\n",
       "  <tbody>\n",
       "    <tr>\n",
       "      <th>6500766</th>\n",
       "      <td>2022100911</td>\n",
       "      <td>2915</td>\n",
       "      <td>37266.0</td>\n",
       "      <td>1</td>\n",
       "      <td>PHI</td>\n",
       "      <td>55.29</td>\n",
       "      <td>27.28</td>\n",
       "      <td>left</td>\n",
       "      <td>NaN</td>\n",
       "      <td>NaN</td>\n",
       "      <td>...</td>\n",
       "      <td>ARI</td>\n",
       "      <td>57</td>\n",
       "      <td>4</td>\n",
       "      <td>52461.0</td>\n",
       "      <td>NaN</td>\n",
       "      <td>False</td>\n",
       "      <td>False</td>\n",
       "      <td>C</td>\n",
       "      <td>Jason Kelce</td>\n",
       "      <td>0.0</td>\n",
       "    </tr>\n",
       "  </tbody>\n",
       "</table>\n",
       "<p>1 rows × 21 columns</p>\n",
       "</div>"
      ],
      "text/plain": [
       "             gameId  playId    nflId  frameId club      x      y  \\\n",
       "6500766  2022100911    2915  37266.0        1  PHI  55.29  27.28   \n",
       "\n",
       "        playDirection event ball_carrier  ...  defensiveTeam  \\\n",
       "6500766          left   NaN          NaN  ...            ARI   \n",
       "\n",
       "        absoluteYardlineNumber  yardsToGo     qbId  ball_carrier_id  \\\n",
       "6500766                     57          4  52461.0              NaN   \n",
       "\n",
       "         is_defense  is_ball_carrying  position  displayName  \\\n",
       "6500766       False             False         C  Jason Kelce   \n",
       "\n",
       "        tackling_probability  \n",
       "6500766                  0.0  \n",
       "\n",
       "[1 rows x 21 columns]"
      ]
     },
     "execution_count": 11,
     "metadata": {},
     "output_type": "execute_result"
    }
   ],
   "source": [
    "test_play_tracking.head(1)"
   ]
  },
  {
   "cell_type": "code",
   "execution_count": 12,
   "metadata": {},
   "outputs": [],
   "source": [
    "field = Field()\n",
    "field.draw_scrimmage_and_first_down(**test_play_tracking[[\"absoluteYardlineNumber\", \"yardsToGo\", \"playDirection\"]].iloc[0].to_dict())\n",
    "field.create_animation(test_play_tracking)"
   ]
  },
  {
   "cell_type": "code",
   "execution_count": 13,
   "metadata": {},
   "outputs": [
    {
     "data": {
      "application/vnd.plotly.v1+json": {
       "config": {
        "plotlyServerURL": "https://plot.ly"
       },
       "data": [
        {
         "hoverinfo": "none",
         "marker": {
          "color": "black",
          "size": 10
         },
         "mode": "markers",
         "name": "offense",
         "type": "scatter",
         "x": [
          55.29,
          58.01,
          57.73,
          56.52,
          60.38,
          62.82,
          55.54,
          59.32,
          56.66,
          58.08,
          56.89
         ],
         "y": [
          27.28,
          29.17,
          27.1,
          20.09,
          24.15,
          24.25,
          23.68,
          36.4,
          25.3,
          20.87,
          31.44
         ]
        },
        {
         "hoverinfo": "none",
         "marker": {
          "color": "yellow",
          "opacity": 0,
          "size": 10
         },
         "mode": "markers",
         "name": "ball_carrier",
         "type": "scatter",
         "x": [
          0
         ],
         "y": [
          0
         ]
        },
        {
         "hoverinfo": "none",
         "marker": {
          "color": "white",
          "size": 10
         },
         "mode": "markers",
         "name": "defense",
         "type": "scatter",
         "x": [
          57.64,
          50.6,
          51.91,
          51.85,
          56.17,
          40.1,
          53.9,
          57.75,
          53.76,
          50.91,
          57.57
         ],
         "y": [
          20.66,
          36.13,
          22.24,
          33.03,
          25.74,
          27.74,
          28.54,
          27.86,
          25.72,
          18.12,
          29.71
         ]
        }
       ],
       "frames": [
        {
         "data": [
          {
           "hoverinfo": "none",
           "marker": {
            "color": "black",
            "size": 10
           },
           "mode": "markers",
           "name": "offense",
           "type": "scatter",
           "x": [
            55.29,
            58.01,
            57.73,
            56.52,
            60.38,
            62.82,
            55.54,
            59.32,
            56.66,
            58.08,
            56.89
           ],
           "y": [
            27.28,
            29.17,
            27.1,
            20.09,
            24.15,
            24.25,
            23.68,
            36.4,
            25.3,
            20.87,
            31.44
           ]
          },
          {
           "hoverinfo": "none",
           "marker": {
            "color": "yellow",
            "opacity": 0,
            "size": 10
           },
           "mode": "markers",
           "name": "ball_carrier",
           "type": "scatter",
           "x": [
            0
           ],
           "y": [
            0
           ]
          },
          {
           "hoverinfo": "none",
           "marker": {
            "color": "white",
            "size": 10
           },
           "mode": "markers",
           "name": "defense",
           "type": "scatter",
           "x": [
            57.64,
            50.6,
            51.91,
            51.85,
            56.17,
            40.1,
            53.9,
            57.75,
            53.76,
            50.91,
            57.57
           ],
           "y": [
            20.66,
            36.13,
            22.24,
            33.03,
            25.74,
            27.74,
            28.54,
            27.86,
            25.72,
            18.12,
            29.71
           ]
          }
         ],
         "name": "1"
        },
        {
         "data": [
          {
           "hoverinfo": "none",
           "marker": {
            "color": "black",
            "size": 10
           },
           "mode": "markers",
           "name": "offense",
           "type": "scatter",
           "x": [
            55.06,
            57.95,
            57.68,
            56.31,
            60.02,
            62.84,
            55.28,
            59.36,
            56.46,
            57.95,
            56.64
           ],
           "y": [
            27.68,
            29.39,
            27.29,
            20.21,
            24.35,
            24.29,
            24.01,
            36.61,
            25.46,
            21.07,
            31.9
           ]
          },
          {
           "hoverinfo": "none",
           "marker": {
            "color": "yellow",
            "opacity": 0,
            "size": 10
           },
           "mode": "markers",
           "name": "ball_carrier",
           "type": "scatter",
           "x": [
            0
           ],
           "y": [
            0
           ]
          },
          {
           "hoverinfo": "none",
           "marker": {
            "color": "white",
            "size": 10
           },
           "mode": "markers",
           "name": "defense",
           "type": "scatter",
           "x": [
            57.51,
            50.92,
            51.91,
            52.03,
            56.04,
            40.24,
            53.98,
            57.78,
            53.6,
            51.01,
            57.59
           ],
           "y": [
            20.91,
            36.29,
            22.71,
            33.45,
            25.98,
            27.85,
            29.01,
            28.09,
            26.12,
            18.4,
            30
           ]
          }
         ],
         "name": "2"
        },
        {
         "data": [
          {
           "hoverinfo": "none",
           "marker": {
            "color": "black",
            "size": 10
           },
           "mode": "markers",
           "name": "offense",
           "type": "scatter",
           "x": [
            54.84,
            57.88,
            57.64,
            56.08,
            59.66,
            62.84,
            55.05,
            59.36,
            56.22,
            57.78,
            56.39
           ],
           "y": [
            28.07,
            29.62,
            27.49,
            20.35,
            24.54,
            24.34,
            24.33,
            36.84,
            25.62,
            21.26,
            32.38
           ]
          },
          {
           "hoverinfo": "none",
           "marker": {
            "color": "yellow",
            "opacity": 0,
            "size": 10
           },
           "mode": "markers",
           "name": "ball_carrier",
           "type": "scatter",
           "x": [
            0
           ],
           "y": [
            0
           ]
          },
          {
           "hoverinfo": "none",
           "marker": {
            "color": "white",
            "size": 10
           },
           "mode": "markers",
           "name": "defense",
           "type": "scatter",
           "x": [
            57.34,
            51.3,
            51.88,
            52.23,
            55.92,
            40.41,
            54.08,
            57.8,
            53.45,
            51.1,
            57.59
           ],
           "y": [
            21.18,
            36.47,
            23.22,
            33.89,
            26.22,
            28,
            29.53,
            28.32,
            26.55,
            18.72,
            30.3
           ]
          }
         ],
         "name": "3"
        },
        {
         "data": [
          {
           "hoverinfo": "none",
           "marker": {
            "color": "black",
            "size": 10
           },
           "mode": "markers",
           "name": "offense",
           "type": "scatter",
           "x": [
            54.66,
            57.82,
            57.62,
            55.82,
            59.31,
            62.85,
            54.83,
            59.33,
            55.99,
            57.59,
            56.16
           ],
           "y": [
            28.49,
            29.86,
            27.71,
            20.53,
            24.72,
            24.37,
            24.65,
            37.09,
            25.77,
            21.44,
            32.88
           ]
          },
          {
           "hoverinfo": "none",
           "marker": {
            "color": "yellow",
            "opacity": 0,
            "size": 10
           },
           "mode": "markers",
           "name": "ball_carrier",
           "type": "scatter",
           "x": [
            0
           ],
           "y": [
            0
           ]
          },
          {
           "hoverinfo": "none",
           "marker": {
            "color": "white",
            "size": 10
           },
           "mode": "markers",
           "name": "defense",
           "type": "scatter",
           "x": [
            57.13,
            51.72,
            51.83,
            52.45,
            55.81,
            40.61,
            54.18,
            57.82,
            53.3,
            51.16,
            57.58
           ],
           "y": [
            21.46,
            36.68,
            23.76,
            34.36,
            26.45,
            28.2,
            30.1,
            28.57,
            27,
            19.05,
            30.63
           ]
          }
         ],
         "name": "4"
        },
        {
         "data": [
          {
           "hoverinfo": "none",
           "marker": {
            "color": "black",
            "size": 10
           },
           "mode": "markers",
           "name": "offense",
           "type": "scatter",
           "x": [
            54.51,
            57.74,
            57.62,
            55.53,
            58.98,
            62.84,
            54.63,
            55.74,
            57.36,
            55.95
           ],
           "y": [
            28.92,
            30.11,
            27.95,
            20.73,
            24.87,
            24.4,
            24.96,
            25.92,
            21.62,
            33.41
           ]
          },
          {
           "hoverinfo": "none",
           "marker": {
            "color": "yellow",
            "opacity": 1,
            "size": 10
           },
           "mode": "markers",
           "name": "ball_carrier",
           "type": "scatter",
           "x": [
            59.28
           ],
           "y": [
            37.36
           ]
          },
          {
           "hoverinfo": "none",
           "marker": {
            "color": "white",
            "size": 10
           },
           "mode": "markers",
           "name": "defense",
           "type": "scatter",
           "x": [
            56.9,
            52.18,
            51.76,
            52.68,
            55.71,
            40.83,
            54.29,
            57.84,
            53.17,
            51.18,
            57.55
           ],
           "y": [
            21.75,
            36.93,
            24.31,
            34.84,
            26.68,
            28.45,
            30.7,
            28.83,
            27.48,
            19.41,
            30.96
           ]
          }
         ],
         "name": "5"
        },
        {
         "data": [
          {
           "hoverinfo": "none",
           "marker": {
            "color": "black",
            "size": 10
           },
           "mode": "markers",
           "name": "offense",
           "type": "scatter",
           "x": [
            54.4,
            57.65,
            57.63,
            55.23,
            58.67,
            62.83,
            54.46,
            55.49,
            57.07,
            55.75
           ],
           "y": [
            29.34,
            30.38,
            28.19,
            20.95,
            25.01,
            24.42,
            25.26,
            26.07,
            21.77,
            33.97
           ]
          },
          {
           "hoverinfo": "none",
           "marker": {
            "color": "yellow",
            "opacity": 1,
            "size": 10
           },
           "mode": "markers",
           "name": "ball_carrier",
           "type": "scatter",
           "x": [
            59.18
           ],
           "y": [
            37.66
           ]
          },
          {
           "hoverinfo": "none",
           "marker": {
            "color": "white",
            "size": 10
           },
           "mode": "markers",
           "name": "defense",
           "type": "scatter",
           "x": [
            56.66,
            52.68,
            51.65,
            52.91,
            55.61,
            41.08,
            54.42,
            57.85,
            53.06,
            51.17,
            57.51
           ],
           "y": [
            22.05,
            37.2,
            24.9,
            35.33,
            26.89,
            28.74,
            31.34,
            29.09,
            27.98,
            19.78,
            31.31
           ]
          }
         ],
         "name": "6"
        },
        {
         "data": [
          {
           "hoverinfo": "none",
           "marker": {
            "color": "black",
            "size": 10
           },
           "mode": "markers",
           "name": "offense",
           "type": "scatter",
           "x": [
            54.31,
            57.54,
            57.66,
            54.92,
            58.38,
            62.82,
            54.3,
            55.24,
            56.79,
            55.57
           ],
           "y": [
            29.75,
            30.67,
            28.43,
            21.19,
            25.13,
            24.44,
            25.54,
            26.24,
            21.9,
            34.55
           ]
          },
          {
           "hoverinfo": "none",
           "marker": {
            "color": "yellow",
            "opacity": 1,
            "size": 10
           },
           "mode": "markers",
           "name": "ball_carrier",
           "type": "scatter",
           "x": [
            59.06
           ],
           "y": [
            38
           ]
          },
          {
           "hoverinfo": "none",
           "marker": {
            "color": "white",
            "size": 10
           },
           "mode": "markers",
           "name": "defense",
           "type": "scatter",
           "x": [
            56.4,
            53.19,
            51.52,
            53.14,
            55.52,
            41.36,
            54.55,
            57.85,
            52.97,
            51.12,
            57.45
           ],
           "y": [
            22.36,
            37.51,
            25.5,
            35.84,
            27.09,
            29.08,
            32.01,
            29.39,
            28.5,
            20.17,
            31.67
           ]
          }
         ],
         "name": "7"
        },
        {
         "data": [
          {
           "hoverinfo": "none",
           "marker": {
            "color": "black",
            "size": 10
           },
           "mode": "markers",
           "name": "offense",
           "type": "scatter",
           "x": [
            54.25,
            57.43,
            57.72,
            54.59,
            58.13,
            62.82,
            54.15,
            55.01,
            56.47,
            55.38
           ],
           "y": [
            30.16,
            30.98,
            28.67,
            21.46,
            25.24,
            24.45,
            25.81,
            26.39,
            22.02,
            35.14
           ]
          },
          {
           "hoverinfo": "none",
           "marker": {
            "color": "yellow",
            "opacity": 1,
            "size": 10
           },
           "mode": "markers",
           "name": "ball_carrier",
           "type": "scatter",
           "x": [
            58.92
           ],
           "y": [
            38.36
           ]
          },
          {
           "hoverinfo": "none",
           "marker": {
            "color": "white",
            "size": 10
           },
           "mode": "markers",
           "name": "defense",
           "type": "scatter",
           "x": [
            56.14,
            53.72,
            51.38,
            53.34,
            55.44,
            41.65,
            54.68,
            57.85,
            52.9,
            51.03,
            57.37
           ],
           "y": [
            22.69,
            37.86,
            26.13,
            36.37,
            27.29,
            29.45,
            32.69,
            29.7,
            29.05,
            20.57,
            32.07
           ]
          }
         ],
         "name": "8"
        },
        {
         "data": [
          {
           "hoverinfo": "none",
           "marker": {
            "color": "black",
            "size": 10
           },
           "mode": "markers",
           "name": "offense",
           "type": "scatter",
           "x": [
            54.22,
            57.31,
            57.79,
            54.27,
            57.9,
            62.8,
            54.02,
            54.79,
            56.14,
            55.21
           ],
           "y": [
            30.58,
            31.29,
            28.92,
            21.73,
            25.34,
            24.44,
            26.06,
            26.54,
            22.13,
            35.76
           ]
          },
          {
           "hoverinfo": "none",
           "marker": {
            "color": "yellow",
            "opacity": 1,
            "size": 10
           },
           "mode": "markers",
           "name": "ball_carrier",
           "type": "scatter",
           "x": [
            58.76
           ],
           "y": [
            38.77
           ]
          },
          {
           "hoverinfo": "none",
           "marker": {
            "color": "white",
            "size": 10
           },
           "mode": "markers",
           "name": "defense",
           "type": "scatter",
           "x": [
            55.88,
            54.26,
            51.22,
            53.54,
            55.38,
            41.97,
            54.81,
            57.84,
            52.85,
            50.9,
            57.28
           ],
           "y": [
            23.02,
            38.24,
            26.77,
            36.92,
            27.49,
            29.87,
            33.39,
            30.04,
            29.62,
            20.98,
            32.49
           ]
          }
         ],
         "name": "9"
        },
        {
         "data": [
          {
           "hoverinfo": "none",
           "marker": {
            "color": "black",
            "size": 10
           },
           "mode": "markers",
           "name": "offense",
           "type": "scatter",
           "x": [
            54.22,
            57.21,
            57.88,
            53.95,
            57.7,
            62.8,
            53.89,
            54.61,
            55.79,
            55.04
           ],
           "y": [
            30.99,
            31.62,
            29.14,
            22.01,
            25.43,
            24.44,
            26.3,
            26.69,
            22.23,
            36.38
           ]
          },
          {
           "hoverinfo": "none",
           "marker": {
            "color": "yellow",
            "opacity": 1,
            "size": 10
           },
           "mode": "markers",
           "name": "ball_carrier",
           "type": "scatter",
           "x": [
            58.6
           ],
           "y": [
            39.2
           ]
          },
          {
           "hoverinfo": "none",
           "marker": {
            "color": "white",
            "size": 10
           },
           "mode": "markers",
           "name": "defense",
           "type": "scatter",
           "x": [
            55.63,
            54.79,
            51.04,
            53.72,
            55.32,
            42.29,
            54.94,
            57.82,
            52.82,
            50.74,
            57.18
           ],
           "y": [
            23.37,
            38.64,
            27.43,
            37.48,
            27.67,
            30.32,
            34.12,
            30.4,
            30.22,
            21.4,
            32.92
           ]
          }
         ],
         "name": "10"
        },
        {
         "data": [
          {
           "hoverinfo": "none",
           "marker": {
            "color": "black",
            "size": 10
           },
           "mode": "markers",
           "name": "offense",
           "type": "scatter",
           "x": [
            54.23,
            57.12,
            57.99,
            53.62,
            57.54,
            62.78,
            53.77,
            54.43,
            55.44,
            54.88
           ],
           "y": [
            31.37,
            31.94,
            29.36,
            22.29,
            25.52,
            24.44,
            26.51,
            26.82,
            22.32,
            37.02
           ]
          },
          {
           "hoverinfo": "none",
           "marker": {
            "color": "yellow",
            "opacity": 1,
            "size": 10
           },
           "mode": "markers",
           "name": "ball_carrier",
           "type": "scatter",
           "x": [
            58.42
           ],
           "y": [
            39.65
           ]
          },
          {
           "hoverinfo": "none",
           "marker": {
            "color": "white",
            "size": 10
           },
           "mode": "markers",
           "name": "defense",
           "type": "scatter",
           "x": [
            55.39,
            55.29,
            50.87,
            53.88,
            55.28,
            42.62,
            55.07,
            57.79,
            52.8,
            50.54,
            57.07
           ],
           "y": [
            23.72,
            39.08,
            28.1,
            38.06,
            27.85,
            30.8,
            34.86,
            30.78,
            30.84,
            21.83,
            33.37
           ]
          }
         ],
         "name": "11"
        },
        {
         "data": [
          {
           "hoverinfo": "none",
           "marker": {
            "color": "black",
            "size": 10
           },
           "mode": "markers",
           "name": "offense",
           "type": "scatter",
           "x": [
            54.28,
            57.04,
            58.1,
            53.31,
            57.4,
            62.77,
            53.67,
            54.29,
            55.06,
            54.74
           ],
           "y": [
            31.74,
            32.26,
            29.56,
            22.57,
            25.6,
            24.43,
            26.71,
            26.94,
            22.41,
            37.66
           ]
          },
          {
           "hoverinfo": "none",
           "marker": {
            "color": "yellow",
            "opacity": 1,
            "size": 10
           },
           "mode": "markers",
           "name": "ball_carrier",
           "type": "scatter",
           "x": [
            58.24
           ],
           "y": [
            40.13
           ]
          },
          {
           "hoverinfo": "none",
           "marker": {
            "color": "white",
            "size": 10
           },
           "mode": "markers",
           "name": "defense",
           "type": "scatter",
           "x": [
            55.17,
            55.78,
            50.69,
            54.02,
            55.24,
            42.95,
            55.2,
            57.75,
            52.8,
            50.32,
            56.92
           ],
           "y": [
            24.08,
            39.54,
            28.79,
            38.67,
            28.03,
            31.32,
            35.62,
            31.17,
            31.48,
            22.27,
            33.87
           ]
          }
         ],
         "name": "12"
        },
        {
         "data": [
          {
           "hoverinfo": "none",
           "marker": {
            "color": "black",
            "size": 10
           },
           "mode": "markers",
           "name": "offense",
           "type": "scatter",
           "x": [
            54.33,
            56.97,
            58.23,
            53,
            57.28,
            62.74,
            53.56,
            54.17,
            54.69,
            54.62
           ],
           "y": [
            32.09,
            32.58,
            29.74,
            22.84,
            25.69,
            24.41,
            26.89,
            27.05,
            22.5,
            38.32
           ]
          },
          {
           "hoverinfo": "none",
           "marker": {
            "color": "yellow",
            "opacity": 1,
            "size": 10
           },
           "mode": "markers",
           "name": "ball_carrier",
           "type": "scatter",
           "x": [
            58.06
           ],
           "y": [
            40.66
           ]
          },
          {
           "hoverinfo": "none",
           "marker": {
            "color": "white",
            "size": 10
           },
           "mode": "markers",
           "name": "defense",
           "type": "scatter",
           "x": [
            54.97,
            56.23,
            50.52,
            54.15,
            55.2,
            43.27,
            55.32,
            57.7,
            52.81,
            50.08,
            56.79
           ],
           "y": [
            24.45,
            40.06,
            29.5,
            39.3,
            28.21,
            31.86,
            36.41,
            31.6,
            32.14,
            22.71,
            34.38
           ]
          }
         ],
         "name": "13"
        },
        {
         "data": [
          {
           "hoverinfo": "none",
           "marker": {
            "color": "black",
            "size": 10
           },
           "mode": "markers",
           "name": "offense",
           "type": "scatter",
           "x": [
            54.41,
            56.91,
            58.34,
            52.71,
            57.2,
            62.71,
            53.46,
            54.06,
            54.32,
            54.52
           ],
           "y": [
            32.43,
            32.89,
            29.91,
            23.1,
            25.78,
            24.4,
            27.05,
            27.15,
            22.59,
            38.99
           ]
          },
          {
           "hoverinfo": "none",
           "marker": {
            "color": "yellow",
            "opacity": 1,
            "size": 10
           },
           "mode": "markers",
           "name": "ball_carrier",
           "type": "scatter",
           "x": [
            57.9
           ],
           "y": [
            41.22
           ]
          },
          {
           "hoverinfo": "none",
           "marker": {
            "color": "white",
            "size": 10
           },
           "mode": "markers",
           "name": "defense",
           "type": "scatter",
           "x": [
            54.8,
            56.62,
            50.34,
            54.27,
            55.17,
            43.59,
            55.43,
            57.65,
            52.82,
            49.83,
            56.65
           ],
           "y": [
            24.83,
            40.58,
            30.23,
            39.94,
            28.39,
            32.43,
            37.2,
            32.05,
            32.82,
            23.15,
            34.91
           ]
          }
         ],
         "name": "14"
        },
        {
         "data": [
          {
           "hoverinfo": "none",
           "marker": {
            "color": "black",
            "size": 10
           },
           "mode": "markers",
           "name": "offense",
           "type": "scatter",
           "x": [
            54.49,
            56.86,
            58.46,
            52.44,
            57.13,
            62.67,
            53.35,
            53.98,
            53.95,
            54.44
           ],
           "y": [
            32.74,
            33.19,
            30.07,
            23.34,
            25.86,
            24.39,
            27.21,
            27.24,
            22.69,
            39.65
           ]
          },
          {
           "hoverinfo": "none",
           "marker": {
            "color": "yellow",
            "opacity": 1,
            "size": 10
           },
           "mode": "markers",
           "name": "ball_carrier",
           "type": "scatter",
           "x": [
            57.75
           ],
           "y": [
            41.8
           ]
          },
          {
           "hoverinfo": "none",
           "marker": {
            "color": "white",
            "size": 10
           },
           "mode": "markers",
           "name": "defense",
           "type": "scatter",
           "x": [
            54.65,
            56.99,
            50.18,
            54.39,
            55.14,
            43.88,
            55.53,
            57.59,
            52.82,
            49.56,
            56.5
           ],
           "y": [
            25.21,
            41.1,
            30.97,
            40.61,
            28.57,
            33.03,
            38.01,
            32.52,
            33.5,
            23.6,
            35.48
           ]
          }
         ],
         "name": "15"
        },
        {
         "data": [
          {
           "hoverinfo": "none",
           "marker": {
            "color": "black",
            "size": 10
           },
           "mode": "markers",
           "name": "offense",
           "type": "scatter",
           "x": [
            54.57,
            56.81,
            58.57,
            52.18,
            57.08,
            62.63,
            53.26,
            53.92,
            53.59,
            54.37
           ],
           "y": [
            33.05,
            33.5,
            30.22,
            23.57,
            25.95,
            24.37,
            27.35,
            27.31,
            22.79,
            40.3
           ]
          },
          {
           "hoverinfo": "none",
           "marker": {
            "color": "yellow",
            "opacity": 1,
            "size": 10
           },
           "mode": "markers",
           "name": "ball_carrier",
           "type": "scatter",
           "x": [
            57.61
           ],
           "y": [
            42.41
           ]
          },
          {
           "hoverinfo": "none",
           "marker": {
            "color": "white",
            "size": 10
           },
           "mode": "markers",
           "name": "defense",
           "type": "scatter",
           "x": [
            54.53,
            57.33,
            50.02,
            54.52,
            55.12,
            44.16,
            55.63,
            57.53,
            52.81,
            49.3,
            56.35
           ],
           "y": [
            25.59,
            41.61,
            31.72,
            41.29,
            28.74,
            33.65,
            38.83,
            33.02,
            34.19,
            24.05,
            36.06
           ]
          }
         ],
         "name": "16"
        },
        {
         "data": [
          {
           "hoverinfo": "none",
           "marker": {
            "color": "black",
            "size": 10
           },
           "mode": "markers",
           "name": "offense",
           "type": "scatter",
           "x": [
            54.65,
            56.77,
            58.68,
            51.94,
            57.04,
            62.58,
            53.17,
            53.86,
            53.24,
            54.36
           ],
           "y": [
            33.32,
            33.79,
            30.36,
            23.78,
            26.05,
            24.36,
            27.49,
            27.38,
            22.9,
            40.94
           ]
          },
          {
           "hoverinfo": "none",
           "marker": {
            "color": "yellow",
            "opacity": 1,
            "size": 10
           },
           "mode": "markers",
           "name": "ball_carrier",
           "type": "scatter",
           "x": [
            57.47
           ],
           "y": [
            43.03
           ]
          },
          {
           "hoverinfo": "none",
           "marker": {
            "color": "white",
            "size": 10
           },
           "mode": "markers",
           "name": "defense",
           "type": "scatter",
           "x": [
            54.43,
            57.61,
            49.88,
            54.65,
            55.11,
            44.42,
            55.71,
            57.47,
            52.79,
            49.04,
            56.2
           ],
           "y": [
            25.97,
            42.09,
            32.49,
            41.98,
            28.93,
            34.28,
            39.66,
            33.52,
            34.88,
            24.49,
            36.67
           ]
          }
         ],
         "name": "17"
        },
        {
         "data": [
          {
           "hoverinfo": "none",
           "marker": {
            "color": "black",
            "size": 10
           },
           "mode": "markers",
           "name": "offense",
           "type": "scatter",
           "x": [
            54.74,
            56.74,
            58.79,
            51.72,
            57.01,
            62.54,
            53.09,
            53.82,
            52.9,
            54.36
           ],
           "y": [
            33.59,
            34.08,
            30.49,
            23.97,
            26.14,
            24.36,
            27.61,
            27.43,
            23.01,
            41.58
           ]
          },
          {
           "hoverinfo": "none",
           "marker": {
            "color": "yellow",
            "opacity": 1,
            "size": 10
           },
           "mode": "markers",
           "name": "ball_carrier",
           "type": "scatter",
           "x": [
            57.32
           ],
           "y": [
            43.67
           ]
          },
          {
           "hoverinfo": "none",
           "marker": {
            "color": "white",
            "size": 10
           },
           "mode": "markers",
           "name": "defense",
           "type": "scatter",
           "x": [
            54.36,
            57.86,
            49.76,
            54.8,
            55.09,
            44.66,
            55.77,
            57.42,
            52.76,
            48.78,
            56.06
           ],
           "y": [
            26.34,
            42.56,
            33.26,
            42.68,
            29.11,
            34.93,
            40.51,
            34,
            35.58,
            24.94,
            37.31
           ]
          }
         ],
         "name": "18"
        },
        {
         "data": [
          {
           "hoverinfo": "none",
           "marker": {
            "color": "black",
            "size": 10
           },
           "mode": "markers",
           "name": "offense",
           "type": "scatter",
           "x": [
            54.83,
            56.71,
            58.89,
            51.52,
            56.98,
            62.49,
            53.01,
            53.77,
            52.57,
            54.39
           ],
           "y": [
            33.85,
            34.36,
            30.63,
            24.15,
            26.22,
            24.37,
            27.73,
            27.48,
            23.14,
            42.22
           ]
          },
          {
           "hoverinfo": "none",
           "marker": {
            "color": "yellow",
            "opacity": 1,
            "size": 10
           },
           "mode": "markers",
           "name": "ball_carrier",
           "type": "scatter",
           "x": [
            57.17
           ],
           "y": [
            44.32
           ]
          },
          {
           "hoverinfo": "none",
           "marker": {
            "color": "white",
            "size": 10
           },
           "mode": "markers",
           "name": "defense",
           "type": "scatter",
           "x": [
            54.29,
            58.07,
            49.65,
            54.95,
            55.07,
            44.88,
            55.83,
            57.36,
            52.71,
            48.52,
            55.93
           ],
           "y": [
            26.7,
            43.01,
            34.04,
            43.41,
            29.29,
            35.6,
            41.37,
            34.52,
            36.28,
            25.39,
            37.99
           ]
          }
         ],
         "name": "19"
        },
        {
         "data": [
          {
           "hoverinfo": "none",
           "marker": {
            "color": "black",
            "size": 10
           },
           "mode": "markers",
           "name": "offense",
           "type": "scatter",
           "x": [
            54.92,
            56.68,
            58.98,
            51.33,
            56.95,
            62.46,
            52.94,
            53.73,
            52.27,
            54.44
           ],
           "y": [
            34.09,
            34.63,
            30.77,
            24.32,
            26.31,
            24.39,
            27.85,
            27.52,
            23.28,
            42.85
           ]
          },
          {
           "hoverinfo": "none",
           "marker": {
            "color": "yellow",
            "opacity": 1,
            "size": 10
           },
           "mode": "markers",
           "name": "ball_carrier",
           "type": "scatter",
           "x": [
            57.01
           ],
           "y": [
            44.99
           ]
          },
          {
           "hoverinfo": "none",
           "marker": {
            "color": "white",
            "size": 10
           },
           "mode": "markers",
           "name": "defense",
           "type": "scatter",
           "x": [
            54.24,
            58.25,
            49.54,
            55.12,
            55.05,
            45.06,
            55.88,
            57.3,
            52.64,
            48.27,
            55.8
           ],
           "y": [
            27.05,
            43.42,
            34.82,
            44.14,
            29.47,
            36.29,
            42.24,
            35.07,
            36.98,
            25.84,
            38.68
           ]
          }
         ],
         "name": "20"
        },
        {
         "data": [
          {
           "hoverinfo": "none",
           "marker": {
            "color": "black",
            "size": 10
           },
           "mode": "markers",
           "name": "offense",
           "type": "scatter",
           "x": [
            55,
            56.64,
            59.07,
            51.16,
            56.92,
            62.42,
            52.87,
            53.67,
            51.99,
            54.5
           ],
           "y": [
            34.31,
            34.9,
            30.9,
            24.48,
            26.4,
            24.41,
            27.96,
            27.55,
            23.42,
            43.48
           ]
          },
          {
           "hoverinfo": "none",
           "marker": {
            "color": "yellow",
            "opacity": 1,
            "size": 10
           },
           "mode": "markers",
           "name": "ball_carrier",
           "type": "scatter",
           "x": [
            56.83
           ],
           "y": [
            45.68
           ]
          },
          {
           "hoverinfo": "none",
           "marker": {
            "color": "white",
            "size": 10
           },
           "mode": "markers",
           "name": "defense",
           "type": "scatter",
           "x": [
            54.2,
            58.39,
            49.45,
            55.3,
            55.03,
            45.23,
            55.92,
            57.24,
            52.55,
            48.03,
            55.68
           ],
           "y": [
            27.4,
            43.8,
            35.62,
            44.87,
            29.65,
            36.98,
            43.13,
            35.63,
            37.67,
            26.29,
            39.39
           ]
          }
         ],
         "name": "21"
        },
        {
         "data": [
          {
           "hoverinfo": "none",
           "marker": {
            "color": "black",
            "size": 10
           },
           "mode": "markers",
           "name": "offense",
           "type": "scatter",
           "x": [
            55.08,
            56.61,
            59.14,
            51.01,
            56.9,
            62.38,
            52.8,
            53.61,
            51.73,
            54.59
           ],
           "y": [
            34.5,
            35.15,
            31.02,
            24.63,
            26.47,
            24.45,
            28.07,
            27.57,
            23.57,
            44.1
           ]
          },
          {
           "hoverinfo": "none",
           "marker": {
            "color": "yellow",
            "opacity": 1,
            "size": 10
           },
           "mode": "markers",
           "name": "ball_carrier",
           "type": "scatter",
           "x": [
            56.64
           ],
           "y": [
            46.37
           ]
          },
          {
           "hoverinfo": "none",
           "marker": {
            "color": "white",
            "size": 10
           },
           "mode": "markers",
           "name": "defense",
           "type": "scatter",
           "x": [
            54.16,
            58.49,
            49.37,
            55.48,
            55,
            45.38,
            55.93,
            57.17,
            52.45,
            47.78,
            55.57
           ],
           "y": [
            27.73,
            44.13,
            36.42,
            45.59,
            29.83,
            37.69,
            44.02,
            36.21,
            38.37,
            26.73,
            40.1
           ]
          }
         ],
         "name": "22"
        },
        {
         "data": [
          {
           "hoverinfo": "none",
           "marker": {
            "color": "black",
            "size": 10
           },
           "mode": "markers",
           "name": "offense",
           "type": "scatter",
           "x": [
            55.16,
            56.57,
            59.2,
            50.88,
            56.89,
            62.34,
            52.75,
            53.56,
            51.5,
            54.7
           ],
           "y": [
            34.68,
            35.39,
            31.15,
            24.77,
            26.55,
            24.49,
            28.18,
            27.58,
            23.73,
            44.72
           ]
          },
          {
           "hoverinfo": "none",
           "marker": {
            "color": "yellow",
            "opacity": 1,
            "size": 10
           },
           "mode": "markers",
           "name": "ball_carrier",
           "type": "scatter",
           "x": [
            56.42
           ],
           "y": [
            47.08
           ]
          },
          {
           "hoverinfo": "none",
           "marker": {
            "color": "white",
            "size": 10
           },
           "mode": "markers",
           "name": "defense",
           "type": "scatter",
           "x": [
            54.13,
            58.57,
            49.29,
            55.67,
            54.98,
            45.5,
            55.93,
            57.1,
            52.34,
            47.54,
            55.45
           ],
           "y": [
            28.06,
            44.42,
            37.21,
            46.3,
            30.01,
            38.4,
            44.92,
            36.79,
            39.08,
            27.17,
            40.83
           ]
          }
         ],
         "name": "23"
        },
        {
         "data": [
          {
           "hoverinfo": "none",
           "marker": {
            "color": "black",
            "size": 10
           },
           "mode": "markers",
           "name": "offense",
           "type": "scatter",
           "x": [
            55.24,
            56.55,
            59.24,
            50.78,
            56.87,
            62.29,
            52.71,
            53.5,
            51.3,
            54.83
           ],
           "y": [
            34.84,
            35.62,
            31.28,
            24.9,
            26.62,
            24.54,
            28.3,
            27.59,
            23.9,
            45.34
           ]
          },
          {
           "hoverinfo": "none",
           "marker": {
            "color": "yellow",
            "opacity": 1,
            "size": 10
           },
           "mode": "markers",
           "name": "ball_carrier",
           "type": "scatter",
           "x": [
            56.19
           ],
           "y": [
            47.78
           ]
          },
          {
           "hoverinfo": "none",
           "marker": {
            "color": "white",
            "size": 10
           },
           "mode": "markers",
           "name": "defense",
           "type": "scatter",
           "x": [
            54.1,
            58.61,
            49.22,
            55.87,
            54.96,
            45.62,
            55.92,
            57.03,
            52.21,
            47.31,
            55.34
           ],
           "y": [
            28.37,
            44.69,
            38,
            47,
            30.19,
            39.11,
            45.81,
            37.38,
            39.78,
            27.61,
            41.58
           ]
          }
         ],
         "name": "24"
        },
        {
         "data": [
          {
           "hoverinfo": "none",
           "marker": {
            "color": "black",
            "size": 10
           },
           "mode": "markers",
           "name": "offense",
           "type": "scatter",
           "x": [
            55.31,
            56.51,
            59.27,
            50.69,
            56.87,
            62.24,
            52.68,
            53.43,
            51.13,
            54.97
           ],
           "y": [
            34.99,
            35.83,
            31.41,
            25.03,
            26.68,
            24.59,
            28.42,
            27.59,
            24.08,
            45.96
           ]
          },
          {
           "hoverinfo": "none",
           "marker": {
            "color": "yellow",
            "opacity": 1,
            "size": 10
           },
           "mode": "markers",
           "name": "ball_carrier",
           "type": "scatter",
           "x": [
            55.94
           ],
           "y": [
            48.48
           ]
          },
          {
           "hoverinfo": "none",
           "marker": {
            "color": "white",
            "size": 10
           },
           "mode": "markers",
           "name": "defense",
           "type": "scatter",
           "x": [
            54.06,
            58.62,
            49.16,
            56.06,
            54.94,
            45.72,
            55.89,
            56.94,
            52.07,
            47.07,
            55.21
           ],
           "y": [
            28.68,
            44.92,
            38.79,
            47.66,
            30.37,
            39.82,
            46.71,
            37.96,
            40.49,
            28.04,
            42.34
           ]
          }
         ],
         "name": "25"
        },
        {
         "data": [
          {
           "hoverinfo": "none",
           "marker": {
            "color": "black",
            "size": 10
           },
           "mode": "markers",
           "name": "offense",
           "type": "scatter",
           "x": [
            55.37,
            56.49,
            59.28,
            50.62,
            56.87,
            62.18,
            52.65,
            53.36,
            50.98,
            55.12
           ],
           "y": [
            35.12,
            36.04,
            31.53,
            25.16,
            26.74,
            24.64,
            28.54,
            27.58,
            24.26,
            46.58
           ]
          },
          {
           "hoverinfo": "none",
           "marker": {
            "color": "yellow",
            "opacity": 1,
            "size": 10
           },
           "mode": "markers",
           "name": "ball_carrier",
           "type": "scatter",
           "x": [
            55.67
           ],
           "y": [
            49.17
           ]
          },
          {
           "hoverinfo": "none",
           "marker": {
            "color": "white",
            "size": 10
           },
           "mode": "markers",
           "name": "defense",
           "type": "scatter",
           "x": [
            54.02,
            58.61,
            49.08,
            56.24,
            54.92,
            45.8,
            55.84,
            56.86,
            51.91,
            46.84,
            55.07
           ],
           "y": [
            28.98,
            45.16,
            39.57,
            48.27,
            30.54,
            40.52,
            47.6,
            38.55,
            41.19,
            28.46,
            43.1
           ]
          }
         ],
         "name": "26"
        },
        {
         "data": [
          {
           "hoverinfo": "none",
           "marker": {
            "color": "black",
            "size": 10
           },
           "mode": "markers",
           "name": "offense",
           "type": "scatter",
           "x": [
            55.43,
            56.47,
            59.28,
            50.56,
            56.88,
            62.12,
            52.64,
            53.29,
            50.86,
            55.29
           ],
           "y": [
            35.24,
            36.23,
            31.66,
            25.28,
            26.79,
            24.69,
            28.66,
            27.58,
            24.44,
            47.18
           ]
          },
          {
           "hoverinfo": "none",
           "marker": {
            "color": "yellow",
            "opacity": 1,
            "size": 10
           },
           "mode": "markers",
           "name": "ball_carrier",
           "type": "scatter",
           "x": [
            55.36
           ],
           "y": [
            49.82
           ]
          },
          {
           "hoverinfo": "none",
           "marker": {
            "color": "white",
            "size": 10
           },
           "mode": "markers",
           "name": "defense",
           "type": "scatter",
           "x": [
            53.96,
            58.57,
            48.99,
            56.4,
            54.89,
            45.87,
            55.77,
            56.78,
            51.73,
            46.61,
            54.89
           ],
           "y": [
            29.28,
            45.37,
            40.35,
            48.78,
            30.7,
            41.23,
            48.49,
            39.12,
            41.9,
            28.88,
            43.88
           ]
          }
         ],
         "name": "27"
        },
        {
         "data": [
          {
           "hoverinfo": "none",
           "marker": {
            "color": "black",
            "size": 10
           },
           "mode": "markers",
           "name": "offense",
           "type": "scatter",
           "x": [
            55.49,
            56.45,
            59.26,
            50.51,
            56.89,
            62.06,
            52.65,
            53.21,
            50.77,
            55.46
           ],
           "y": [
            35.35,
            36.42,
            31.78,
            25.4,
            26.84,
            24.75,
            28.79,
            27.57,
            24.62,
            47.77
           ]
          },
          {
           "hoverinfo": "none",
           "marker": {
            "color": "yellow",
            "opacity": 1,
            "size": 10
           },
           "mode": "markers",
           "name": "ball_carrier",
           "type": "scatter",
           "x": [
            55.02
           ],
           "y": [
            50.44
           ]
          },
          {
           "hoverinfo": "none",
           "marker": {
            "color": "white",
            "size": 10
           },
           "mode": "markers",
           "name": "defense",
           "type": "scatter",
           "x": [
            53.9,
            58.52,
            48.88,
            56.55,
            54.87,
            45.92,
            55.67,
            56.69,
            51.54,
            46.39,
            54.7
           ],
           "y": [
            29.58,
            45.57,
            41.12,
            49.26,
            30.86,
            41.94,
            49.37,
            39.68,
            42.61,
            29.28,
            44.64
           ]
          }
         ],
         "name": "28"
        },
        {
         "data": [
          {
           "hoverinfo": "none",
           "marker": {
            "color": "black",
            "size": 10
           },
           "mode": "markers",
           "name": "offense",
           "type": "scatter",
           "x": [
            55.55,
            56.43,
            59.22,
            50.47,
            56.9,
            62,
            52.66,
            53.13,
            50.7,
            55.64
           ],
           "y": [
            35.44,
            36.6,
            31.89,
            25.5,
            26.88,
            24.81,
            28.92,
            27.58,
            24.81,
            48.35
           ]
          },
          {
           "hoverinfo": "none",
           "marker": {
            "color": "yellow",
            "opacity": 1,
            "size": 10
           },
           "mode": "markers",
           "name": "ball_carrier",
           "type": "scatter",
           "x": [
            54.65
           ],
           "y": [
            51.01
           ]
          },
          {
           "hoverinfo": "none",
           "marker": {
            "color": "white",
            "size": 10
           },
           "mode": "markers",
           "name": "defense",
           "type": "scatter",
           "x": [
            53.84,
            58.44,
            48.75,
            56.68,
            54.84,
            45.96,
            55.55,
            56.6,
            51.33,
            46.17,
            54.49
           ],
           "y": [
            29.88,
            45.77,
            41.9,
            49.68,
            30.99,
            42.65,
            50.23,
            40.23,
            43.31,
            29.68,
            45.39
           ]
          }
         ],
         "name": "29"
        },
        {
         "data": [
          {
           "hoverinfo": "none",
           "marker": {
            "color": "black",
            "size": 10
           },
           "mode": "markers",
           "name": "offense",
           "type": "scatter",
           "x": [
            55.61,
            56.4,
            59.17,
            50.44,
            56.92,
            61.93,
            52.69,
            53.06,
            50.65,
            55.82
           ],
           "y": [
            35.52,
            36.77,
            32.01,
            25.61,
            26.91,
            24.87,
            29.05,
            27.58,
            24.99,
            48.92
           ]
          },
          {
           "hoverinfo": "none",
           "marker": {
            "color": "yellow",
            "opacity": 1,
            "size": 10
           },
           "mode": "markers",
           "name": "ball_carrier",
           "type": "scatter",
           "x": [
            54.24
           ],
           "y": [
            51.53
           ]
          },
          {
           "hoverinfo": "none",
           "marker": {
            "color": "white",
            "size": 10
           },
           "mode": "markers",
           "name": "defense",
           "type": "scatter",
           "x": [
            53.77,
            58.32,
            48.6,
            56.81,
            54.82,
            45.98,
            55.42,
            56.5,
            51.09,
            45.95,
            54.24
           ],
           "y": [
            30.18,
            45.99,
            42.66,
            50.04,
            31.12,
            43.35,
            51.07,
            40.76,
            44.01,
            30.06,
            46.13
           ]
          }
         ],
         "name": "30"
        },
        {
         "data": [
          {
           "hoverinfo": "none",
           "marker": {
            "color": "black",
            "size": 10
           },
           "mode": "markers",
           "name": "offense",
           "type": "scatter",
           "x": [
            55.65,
            56.39,
            59.11,
            50.42,
            56.94,
            61.86,
            52.71,
            52.99,
            50.63,
            55.99
           ],
           "y": [
            35.59,
            36.93,
            32.11,
            25.7,
            26.94,
            24.93,
            29.18,
            27.59,
            25.17,
            49.47
           ]
          },
          {
           "hoverinfo": "none",
           "marker": {
            "color": "yellow",
            "opacity": 1,
            "size": 10
           },
           "mode": "markers",
           "name": "ball_carrier",
           "type": "scatter",
           "x": [
            53.8
           ],
           "y": [
            52
           ]
          },
          {
           "hoverinfo": "none",
           "marker": {
            "color": "white",
            "size": 10
           },
           "mode": "markers",
           "name": "defense",
           "type": "scatter",
           "x": [
            53.69,
            58.19,
            48.41,
            56.97,
            54.79,
            45.99,
            55.26,
            56.4,
            50.82,
            45.74,
            53.96
           ],
           "y": [
            30.48,
            46.22,
            43.41,
            50.32,
            31.24,
            44.04,
            51.87,
            41.29,
            44.7,
            30.43,
            46.85
           ]
          }
         ],
         "name": "31"
        },
        {
         "data": [
          {
           "hoverinfo": "none",
           "marker": {
            "color": "black",
            "size": 10
           },
           "mode": "markers",
           "name": "offense",
           "type": "scatter",
           "x": [
            55.69,
            56.39,
            59.03,
            50.4,
            56.95,
            61.77,
            52.74,
            52.92,
            50.62,
            56.16
           ],
           "y": [
            35.65,
            37.08,
            32.21,
            25.8,
            26.95,
            24.99,
            29.32,
            27.61,
            25.35,
            50
           ]
          },
          {
           "hoverinfo": "none",
           "marker": {
            "color": "yellow",
            "opacity": 1,
            "size": 10
           },
           "mode": "markers",
           "name": "ball_carrier",
           "type": "scatter",
           "x": [
            53.33
           ],
           "y": [
            52.43
           ]
          },
          {
           "hoverinfo": "none",
           "marker": {
            "color": "white",
            "size": 10
           },
           "mode": "markers",
           "name": "defense",
           "type": "scatter",
           "x": [
            53.61,
            58.04,
            48.21,
            57.1,
            54.77,
            45.97,
            55.1,
            56.3,
            50.52,
            45.53,
            53.65
           ],
           "y": [
            30.77,
            46.47,
            44.14,
            50.55,
            31.34,
            44.72,
            52.61,
            41.81,
            45.38,
            30.79,
            47.55
           ]
          }
         ],
         "name": "32"
        },
        {
         "data": [
          {
           "hoverinfo": "none",
           "marker": {
            "color": "black",
            "size": 10
           },
           "mode": "markers",
           "name": "offense",
           "type": "scatter",
           "x": [
            55.76,
            56.39,
            58.96,
            50.38,
            56.96,
            61.68,
            52.77,
            52.86,
            50.64,
            56.33
           ],
           "y": [
            35.69,
            37.22,
            32.3,
            25.89,
            26.96,
            25.06,
            29.46,
            27.63,
            25.54,
            50.52
           ]
          },
          {
           "hoverinfo": "none",
           "marker": {
            "color": "yellow",
            "opacity": 1,
            "size": 10
           },
           "mode": "markers",
           "name": "ball_carrier",
           "type": "scatter",
           "x": [
            52.83
           ],
           "y": [
            52.8
           ]
          },
          {
           "hoverinfo": "none",
           "marker": {
            "color": "white",
            "size": 10
           },
           "mode": "markers",
           "name": "defense",
           "type": "scatter",
           "x": [
            53.51,
            57.88,
            47.97,
            57.22,
            54.75,
            45.93,
            54.92,
            56.19,
            50.19,
            45.31,
            53.29
           ],
           "y": [
            31.06,
            46.72,
            44.86,
            50.73,
            31.43,
            45.4,
            53.3,
            42.31,
            46.05,
            31.13,
            48.22
           ]
          }
         ],
         "name": "33"
        },
        {
         "data": [
          {
           "hoverinfo": "none",
           "marker": {
            "color": "black",
            "size": 10
           },
           "mode": "markers",
           "name": "offense",
           "type": "scatter",
           "x": [
            55.82,
            56.39,
            58.87,
            50.38,
            56.97,
            61.59,
            52.8,
            52.8,
            50.66,
            56.5
           ],
           "y": [
            35.72,
            37.35,
            32.38,
            25.98,
            26.97,
            25.14,
            29.59,
            27.66,
            25.74,
            51.03
           ]
          },
          {
           "hoverinfo": "none",
           "marker": {
            "color": "yellow",
            "opacity": 1,
            "size": 10
           },
           "mode": "markers",
           "name": "ball_carrier",
           "type": "scatter",
           "x": [
            52.3
           ],
           "y": [
            53.14
           ]
          },
          {
           "hoverinfo": "none",
           "marker": {
            "color": "white",
            "size": 10
           },
           "mode": "markers",
           "name": "defense",
           "type": "scatter",
           "x": [
            53.41,
            57.71,
            47.7,
            57.34,
            54.74,
            45.86,
            54.74,
            56.08,
            49.83,
            45.11,
            52.88
           ],
           "y": [
            31.34,
            46.98,
            45.57,
            50.86,
            31.51,
            46.07,
            53.93,
            42.79,
            46.71,
            31.46,
            48.89
           ]
          }
         ],
         "name": "34"
        },
        {
         "data": [
          {
           "hoverinfo": "none",
           "marker": {
            "color": "black",
            "size": 10
           },
           "mode": "markers",
           "name": "offense",
           "type": "scatter",
           "x": [
            55.88,
            56.4,
            58.77,
            50.37,
            56.97,
            61.48,
            52.83,
            52.75,
            50.69,
            56.66
           ],
           "y": [
            35.75,
            37.48,
            32.46,
            26.06,
            26.97,
            25.21,
            29.72,
            27.69,
            25.93,
            51.53
           ]
          },
          {
           "hoverinfo": "none",
           "marker": {
            "color": "yellow",
            "opacity": 1,
            "size": 10
           },
           "mode": "markers",
           "name": "ball_carrier",
           "type": "scatter",
           "x": [
            51.74
           ],
           "y": [
            53.17
           ]
          },
          {
           "hoverinfo": "none",
           "marker": {
            "color": "white",
            "size": 10
           },
           "mode": "markers",
           "name": "defense",
           "type": "scatter",
           "x": [
            53.3,
            57.54,
            47.41,
            57.46,
            54.73,
            45.77,
            54.57,
            55.97,
            49.45,
            44.9,
            52.44
           ],
           "y": [
            31.62,
            47.24,
            46.26,
            50.95,
            31.58,
            46.72,
            54.53,
            43.26,
            47.36,
            31.77,
            49.52
           ]
          }
         ],
         "name": "35"
        },
        {
         "data": [
          {
           "hoverinfo": "none",
           "marker": {
            "color": "black",
            "size": 10
           },
           "mode": "markers",
           "name": "offense",
           "type": "scatter",
           "x": [
            55.94,
            56.41,
            58.67,
            50.37,
            56.96,
            61.37,
            52.86,
            52.71,
            50.71,
            56.83
           ],
           "y": [
            35.77,
            37.6,
            32.52,
            26.14,
            26.96,
            25.29,
            29.86,
            27.72,
            26.13,
            52
           ]
          },
          {
           "hoverinfo": "none",
           "marker": {
            "color": "yellow",
            "opacity": 1,
            "size": 10
           },
           "mode": "markers",
           "name": "ball_carrier",
           "type": "scatter",
           "x": [
            51.17
           ],
           "y": [
            53.17
           ]
          },
          {
           "hoverinfo": "none",
           "marker": {
            "color": "white",
            "size": 10
           },
           "mode": "markers",
           "name": "defense",
           "type": "scatter",
           "x": [
            53.2,
            57.35,
            47.1,
            57.58,
            54.71,
            45.63,
            54.41,
            55.85,
            49.05,
            44.71,
            51.98
           ],
           "y": [
            31.89,
            47.49,
            46.93,
            51.01,
            31.64,
            47.35,
            55.05,
            43.71,
            47.98,
            32.07,
            50.12
           ]
          }
         ],
         "name": "36"
        },
        {
         "data": [
          {
           "hoverinfo": "none",
           "marker": {
            "color": "black",
            "size": 10
           },
           "mode": "markers",
           "name": "offense",
           "type": "scatter",
           "x": [
            56.01,
            56.41,
            58.57,
            50.37,
            56.95,
            61.26,
            52.88,
            50.57,
            52.69,
            50.74,
            56.98
           ],
           "y": [
            35.77,
            37.72,
            32.57,
            26.23,
            26.95,
            25.36,
            29.99,
            53.17,
            27.74,
            26.34,
            52.46
           ]
          },
          {
           "hoverinfo": "none",
           "marker": {
            "color": "yellow",
            "opacity": 0,
            "size": 10
           },
           "mode": "markers",
           "name": "ball_carrier",
           "type": "scatter",
           "x": [
            0
           ],
           "y": [
            0
           ]
          },
          {
           "hoverinfo": "none",
           "marker": {
            "color": "white",
            "size": 10
           },
           "mode": "markers",
           "name": "defense",
           "type": "scatter",
           "x": [
            53.09,
            57.16,
            46.76,
            57.69,
            54.69,
            45.48,
            54.25,
            55.72,
            48.64,
            44.51,
            51.47
           ],
           "y": [
            32.16,
            47.73,
            47.57,
            51.04,
            31.68,
            47.96,
            55.53,
            44.15,
            48.58,
            32.37,
            50.68
           ]
          }
         ],
         "name": "37"
        },
        {
         "data": [
          {
           "hoverinfo": "none",
           "marker": {
            "color": "black",
            "size": 10
           },
           "mode": "markers",
           "name": "offense",
           "type": "scatter",
           "x": [
            56.08,
            56.41,
            58.46,
            50.36,
            56.93,
            61.15,
            52.9,
            49.98,
            52.66,
            50.75,
            57.14
           ],
           "y": [
            35.77,
            37.83,
            32.62,
            26.31,
            26.93,
            25.44,
            30.13,
            53.17,
            27.76,
            26.56,
            52.9
           ]
          },
          {
           "hoverinfo": "none",
           "marker": {
            "color": "yellow",
            "opacity": 0,
            "size": 10
           },
           "mode": "markers",
           "name": "ball_carrier",
           "type": "scatter",
           "x": [
            0
           ],
           "y": [
            0
           ]
          },
          {
           "hoverinfo": "none",
           "marker": {
            "color": "white",
            "size": 10
           },
           "mode": "markers",
           "name": "defense",
           "type": "scatter",
           "x": [
            52.97,
            56.96,
            46.41,
            57.8,
            54.68,
            45.31,
            54.17,
            55.59,
            48.24,
            44.32,
            50.95
           ],
           "y": [
            32.41,
            47.96,
            48.19,
            51.05,
            31.7,
            48.55,
            55.91,
            44.57,
            49.15,
            32.64,
            51.21
           ]
          }
         ],
         "name": "38"
        },
        {
         "data": [
          {
           "hoverinfo": "none",
           "marker": {
            "color": "black",
            "size": 10
           },
           "mode": "markers",
           "name": "offense",
           "type": "scatter",
           "x": [
            56.16,
            56.4,
            58.36,
            50.36,
            56.91,
            61.04,
            52.9,
            49.38,
            52.65,
            50.75,
            57.3
           ],
           "y": [
            35.76,
            37.94,
            32.65,
            26.38,
            26.91,
            25.52,
            30.27,
            53.17,
            27.79,
            26.78,
            53.33
           ]
          },
          {
           "hoverinfo": "none",
           "marker": {
            "color": "yellow",
            "opacity": 0,
            "size": 10
           },
           "mode": "markers",
           "name": "ball_carrier",
           "type": "scatter",
           "x": [
            0
           ],
           "y": [
            0
           ]
          },
          {
           "hoverinfo": "none",
           "marker": {
            "color": "white",
            "size": 10
           },
           "mode": "markers",
           "name": "defense",
           "type": "scatter",
           "x": [
            52.85,
            56.76,
            46.06,
            57.9,
            54.66,
            45.13,
            54.12,
            55.45,
            47.82,
            44.14,
            50.4
           ],
           "y": [
            32.64,
            48.18,
            48.78,
            51.05,
            31.7,
            49.12,
            56.25,
            44.97,
            49.7,
            32.9,
            51.7
           ]
          }
         ],
         "name": "39"
        },
        {
         "data": [
          {
           "hoverinfo": "none",
           "marker": {
            "color": "black",
            "size": 10
           },
           "mode": "markers",
           "name": "offense",
           "type": "scatter",
           "x": [
            56.25,
            56.39,
            58.24,
            50.34,
            56.89,
            60.93,
            52.9,
            48.79,
            52.65,
            50.73,
            57.45
           ],
           "y": [
            35.75,
            38.04,
            32.69,
            26.46,
            26.89,
            25.6,
            30.4,
            54.57,
            27.81,
            27,
            53.73
           ]
          },
          {
           "hoverinfo": "none",
           "marker": {
            "color": "yellow",
            "opacity": 0,
            "size": 10
           },
           "mode": "markers",
           "name": "ball_carrier",
           "type": "scatter",
           "x": [
            0
           ],
           "y": [
            0
           ]
          },
          {
           "hoverinfo": "none",
           "marker": {
            "color": "white",
            "size": 10
           },
           "mode": "markers",
           "name": "defense",
           "type": "scatter",
           "x": [
            52.72,
            56.56,
            45.7,
            58,
            54.65,
            44.92,
            54.1,
            55.32,
            47.42,
            43.96,
            49.88
           ],
           "y": [
            32.87,
            48.38,
            49.34,
            51.05,
            31.69,
            49.65,
            56.54,
            45.34,
            50.21,
            33.14,
            52.14
           ]
          }
         ],
         "name": "40"
        }
       ],
       "layout": {
        "annotations": [
         {
          "font": {
           "color": "white",
           "size": 25
          },
          "showarrow": false,
          "text": "10",
          "x": 20,
          "y": 48.3
         },
         {
          "font": {
           "color": "white",
           "size": 25
          },
          "showarrow": false,
          "text": "20",
          "x": 30,
          "y": 48.3
         },
         {
          "font": {
           "color": "white",
           "size": 25
          },
          "showarrow": false,
          "text": "30",
          "x": 40,
          "y": 48.3
         },
         {
          "font": {
           "color": "white",
           "size": 25
          },
          "showarrow": false,
          "text": "40",
          "x": 50,
          "y": 48.3
         },
         {
          "font": {
           "color": "white",
           "size": 25
          },
          "showarrow": false,
          "text": "50",
          "x": 60,
          "y": 48.3
         },
         {
          "font": {
           "color": "white",
           "size": 25
          },
          "showarrow": false,
          "text": "40",
          "x": 70,
          "y": 48.3
         },
         {
          "font": {
           "color": "white",
           "size": 25
          },
          "showarrow": false,
          "text": "30",
          "x": 80,
          "y": 48.3
         },
         {
          "font": {
           "color": "white",
           "size": 25
          },
          "showarrow": false,
          "text": "20",
          "x": 90,
          "y": 48.3
         },
         {
          "font": {
           "color": "white",
           "size": 25
          },
          "showarrow": false,
          "text": "10",
          "x": 100,
          "y": 48.3
         },
         {
          "font": {
           "color": "white",
           "size": 25
          },
          "showarrow": false,
          "text": "10",
          "x": 20,
          "y": 5
         },
         {
          "font": {
           "color": "white",
           "size": 25
          },
          "showarrow": false,
          "text": "20",
          "x": 30,
          "y": 5
         },
         {
          "font": {
           "color": "white",
           "size": 25
          },
          "showarrow": false,
          "text": "30",
          "x": 40,
          "y": 5
         },
         {
          "font": {
           "color": "white",
           "size": 25
          },
          "showarrow": false,
          "text": "40",
          "x": 50,
          "y": 5
         },
         {
          "font": {
           "color": "white",
           "size": 25
          },
          "showarrow": false,
          "text": "50",
          "x": 60,
          "y": 5
         },
         {
          "font": {
           "color": "white",
           "size": 25
          },
          "showarrow": false,
          "text": "40",
          "x": 70,
          "y": 5
         },
         {
          "font": {
           "color": "white",
           "size": 25
          },
          "showarrow": false,
          "text": "30",
          "x": 80,
          "y": 5
         },
         {
          "font": {
           "color": "white",
           "size": 25
          },
          "showarrow": false,
          "text": "20",
          "x": 90,
          "y": 5
         },
         {
          "font": {
           "color": "white",
           "size": 25
          },
          "showarrow": false,
          "text": "10",
          "x": 100,
          "y": 5
         }
        ],
        "height": 600,
        "shapes": [
         {
          "fillcolor": "#96B78C",
          "layer": "below",
          "line": {
           "width": 0
          },
          "type": "rect",
          "x0": 0,
          "x1": 120,
          "y0": 0,
          "y1": 53.3
         },
         {
          "fillcolor": "#6F976D",
          "layer": "below",
          "line": {
           "width": 0
          },
          "type": "rect",
          "x0": 0,
          "x1": 10,
          "y0": 0,
          "y1": 53.3
         },
         {
          "fillcolor": "#6F976D",
          "layer": "below",
          "line": {
           "width": 0
          },
          "type": "rect",
          "x0": 110,
          "x1": 120,
          "y0": 0,
          "y1": 53.3
         },
         {
          "layer": "below",
          "line": {
           "color": "white",
           "width": 2
          },
          "type": "line",
          "x0": 10,
          "x1": 10,
          "y0": 0,
          "y1": 53.3
         },
         {
          "layer": "below",
          "line": {
           "color": "white",
           "width": 1
          },
          "type": "line",
          "x0": 15,
          "x1": 15,
          "y0": 0,
          "y1": 53.3
         },
         {
          "layer": "below",
          "line": {
           "color": "white",
           "width": 2
          },
          "type": "line",
          "x0": 20,
          "x1": 20,
          "y0": 0,
          "y1": 53.3
         },
         {
          "layer": "below",
          "line": {
           "color": "white",
           "width": 1
          },
          "type": "line",
          "x0": 25,
          "x1": 25,
          "y0": 0,
          "y1": 53.3
         },
         {
          "layer": "below",
          "line": {
           "color": "white",
           "width": 2
          },
          "type": "line",
          "x0": 30,
          "x1": 30,
          "y0": 0,
          "y1": 53.3
         },
         {
          "layer": "below",
          "line": {
           "color": "white",
           "width": 1
          },
          "type": "line",
          "x0": 35,
          "x1": 35,
          "y0": 0,
          "y1": 53.3
         },
         {
          "layer": "below",
          "line": {
           "color": "white",
           "width": 2
          },
          "type": "line",
          "x0": 40,
          "x1": 40,
          "y0": 0,
          "y1": 53.3
         },
         {
          "layer": "below",
          "line": {
           "color": "white",
           "width": 1
          },
          "type": "line",
          "x0": 45,
          "x1": 45,
          "y0": 0,
          "y1": 53.3
         },
         {
          "layer": "below",
          "line": {
           "color": "white",
           "width": 2
          },
          "type": "line",
          "x0": 50,
          "x1": 50,
          "y0": 0,
          "y1": 53.3
         },
         {
          "layer": "below",
          "line": {
           "color": "white",
           "width": 1
          },
          "type": "line",
          "x0": 55,
          "x1": 55,
          "y0": 0,
          "y1": 53.3
         },
         {
          "layer": "below",
          "line": {
           "color": "white",
           "width": 2
          },
          "type": "line",
          "x0": 60,
          "x1": 60,
          "y0": 0,
          "y1": 53.3
         },
         {
          "layer": "below",
          "line": {
           "color": "white",
           "width": 1
          },
          "type": "line",
          "x0": 65,
          "x1": 65,
          "y0": 0,
          "y1": 53.3
         },
         {
          "layer": "below",
          "line": {
           "color": "white",
           "width": 2
          },
          "type": "line",
          "x0": 70,
          "x1": 70,
          "y0": 0,
          "y1": 53.3
         },
         {
          "layer": "below",
          "line": {
           "color": "white",
           "width": 1
          },
          "type": "line",
          "x0": 75,
          "x1": 75,
          "y0": 0,
          "y1": 53.3
         },
         {
          "layer": "below",
          "line": {
           "color": "white",
           "width": 2
          },
          "type": "line",
          "x0": 80,
          "x1": 80,
          "y0": 0,
          "y1": 53.3
         },
         {
          "layer": "below",
          "line": {
           "color": "white",
           "width": 1
          },
          "type": "line",
          "x0": 85,
          "x1": 85,
          "y0": 0,
          "y1": 53.3
         },
         {
          "layer": "below",
          "line": {
           "color": "white",
           "width": 2
          },
          "type": "line",
          "x0": 90,
          "x1": 90,
          "y0": 0,
          "y1": 53.3
         },
         {
          "layer": "below",
          "line": {
           "color": "white",
           "width": 1
          },
          "type": "line",
          "x0": 95,
          "x1": 95,
          "y0": 0,
          "y1": 53.3
         },
         {
          "layer": "below",
          "line": {
           "color": "white",
           "width": 2
          },
          "type": "line",
          "x0": 100,
          "x1": 100,
          "y0": 0,
          "y1": 53.3
         },
         {
          "layer": "below",
          "line": {
           "color": "white",
           "width": 1
          },
          "type": "line",
          "x0": 105,
          "x1": 105,
          "y0": 0,
          "y1": 53.3
         },
         {
          "layer": "below",
          "line": {
           "color": "white",
           "width": 2
          },
          "type": "line",
          "x0": 110,
          "x1": 110,
          "y0": 0,
          "y1": 53.3
         },
         {
          "layer": "below",
          "line": {
           "color": "#0070C0",
           "width": 2
          },
          "type": "line",
          "x0": 57,
          "x1": 57,
          "y0": 0,
          "y1": 53.3
         },
         {
          "layer": "below",
          "line": {
           "color": "#E9D11F",
           "width": 2
          },
          "type": "line",
          "x0": 53,
          "x1": 53,
          "y0": 0,
          "y1": 53.3
         }
        ],
        "sliders": [
         {
          "active": 0,
          "currentvalue": {
           "font": {
            "size": 20
           },
           "prefix": "frameId: ",
           "visible": true,
           "xanchor": "right"
          },
          "len": 0.9,
          "pad": {
           "b": 10,
           "t": 50
          },
          "steps": [
           {
            "args": [
             [
              "1"
             ],
             {
              "frame": {
               "duration": 50,
               "redraw": false
              },
              "mode": "immediate",
              "transition": {
               "duration": 0
              }
             }
            ],
            "label": "1",
            "method": "animate"
           },
           {
            "args": [
             [
              "2"
             ],
             {
              "frame": {
               "duration": 50,
               "redraw": false
              },
              "mode": "immediate",
              "transition": {
               "duration": 0
              }
             }
            ],
            "label": "2",
            "method": "animate"
           },
           {
            "args": [
             [
              "3"
             ],
             {
              "frame": {
               "duration": 50,
               "redraw": false
              },
              "mode": "immediate",
              "transition": {
               "duration": 0
              }
             }
            ],
            "label": "3",
            "method": "animate"
           },
           {
            "args": [
             [
              "4"
             ],
             {
              "frame": {
               "duration": 50,
               "redraw": false
              },
              "mode": "immediate",
              "transition": {
               "duration": 0
              }
             }
            ],
            "label": "4",
            "method": "animate"
           },
           {
            "args": [
             [
              "5"
             ],
             {
              "frame": {
               "duration": 50,
               "redraw": false
              },
              "mode": "immediate",
              "transition": {
               "duration": 0
              }
             }
            ],
            "label": "5",
            "method": "animate"
           },
           {
            "args": [
             [
              "6"
             ],
             {
              "frame": {
               "duration": 50,
               "redraw": false
              },
              "mode": "immediate",
              "transition": {
               "duration": 0
              }
             }
            ],
            "label": "6",
            "method": "animate"
           },
           {
            "args": [
             [
              "7"
             ],
             {
              "frame": {
               "duration": 50,
               "redraw": false
              },
              "mode": "immediate",
              "transition": {
               "duration": 0
              }
             }
            ],
            "label": "7",
            "method": "animate"
           },
           {
            "args": [
             [
              "8"
             ],
             {
              "frame": {
               "duration": 50,
               "redraw": false
              },
              "mode": "immediate",
              "transition": {
               "duration": 0
              }
             }
            ],
            "label": "8",
            "method": "animate"
           },
           {
            "args": [
             [
              "9"
             ],
             {
              "frame": {
               "duration": 50,
               "redraw": false
              },
              "mode": "immediate",
              "transition": {
               "duration": 0
              }
             }
            ],
            "label": "9",
            "method": "animate"
           },
           {
            "args": [
             [
              "10"
             ],
             {
              "frame": {
               "duration": 50,
               "redraw": false
              },
              "mode": "immediate",
              "transition": {
               "duration": 0
              }
             }
            ],
            "label": "10",
            "method": "animate"
           },
           {
            "args": [
             [
              "11"
             ],
             {
              "frame": {
               "duration": 50,
               "redraw": false
              },
              "mode": "immediate",
              "transition": {
               "duration": 0
              }
             }
            ],
            "label": "11",
            "method": "animate"
           },
           {
            "args": [
             [
              "12"
             ],
             {
              "frame": {
               "duration": 50,
               "redraw": false
              },
              "mode": "immediate",
              "transition": {
               "duration": 0
              }
             }
            ],
            "label": "12",
            "method": "animate"
           },
           {
            "args": [
             [
              "13"
             ],
             {
              "frame": {
               "duration": 50,
               "redraw": false
              },
              "mode": "immediate",
              "transition": {
               "duration": 0
              }
             }
            ],
            "label": "13",
            "method": "animate"
           },
           {
            "args": [
             [
              "14"
             ],
             {
              "frame": {
               "duration": 50,
               "redraw": false
              },
              "mode": "immediate",
              "transition": {
               "duration": 0
              }
             }
            ],
            "label": "14",
            "method": "animate"
           },
           {
            "args": [
             [
              "15"
             ],
             {
              "frame": {
               "duration": 50,
               "redraw": false
              },
              "mode": "immediate",
              "transition": {
               "duration": 0
              }
             }
            ],
            "label": "15",
            "method": "animate"
           },
           {
            "args": [
             [
              "16"
             ],
             {
              "frame": {
               "duration": 50,
               "redraw": false
              },
              "mode": "immediate",
              "transition": {
               "duration": 0
              }
             }
            ],
            "label": "16",
            "method": "animate"
           },
           {
            "args": [
             [
              "17"
             ],
             {
              "frame": {
               "duration": 50,
               "redraw": false
              },
              "mode": "immediate",
              "transition": {
               "duration": 0
              }
             }
            ],
            "label": "17",
            "method": "animate"
           },
           {
            "args": [
             [
              "18"
             ],
             {
              "frame": {
               "duration": 50,
               "redraw": false
              },
              "mode": "immediate",
              "transition": {
               "duration": 0
              }
             }
            ],
            "label": "18",
            "method": "animate"
           },
           {
            "args": [
             [
              "19"
             ],
             {
              "frame": {
               "duration": 50,
               "redraw": false
              },
              "mode": "immediate",
              "transition": {
               "duration": 0
              }
             }
            ],
            "label": "19",
            "method": "animate"
           },
           {
            "args": [
             [
              "20"
             ],
             {
              "frame": {
               "duration": 50,
               "redraw": false
              },
              "mode": "immediate",
              "transition": {
               "duration": 0
              }
             }
            ],
            "label": "20",
            "method": "animate"
           },
           {
            "args": [
             [
              "21"
             ],
             {
              "frame": {
               "duration": 50,
               "redraw": false
              },
              "mode": "immediate",
              "transition": {
               "duration": 0
              }
             }
            ],
            "label": "21",
            "method": "animate"
           },
           {
            "args": [
             [
              "22"
             ],
             {
              "frame": {
               "duration": 50,
               "redraw": false
              },
              "mode": "immediate",
              "transition": {
               "duration": 0
              }
             }
            ],
            "label": "22",
            "method": "animate"
           },
           {
            "args": [
             [
              "23"
             ],
             {
              "frame": {
               "duration": 50,
               "redraw": false
              },
              "mode": "immediate",
              "transition": {
               "duration": 0
              }
             }
            ],
            "label": "23",
            "method": "animate"
           },
           {
            "args": [
             [
              "24"
             ],
             {
              "frame": {
               "duration": 50,
               "redraw": false
              },
              "mode": "immediate",
              "transition": {
               "duration": 0
              }
             }
            ],
            "label": "24",
            "method": "animate"
           },
           {
            "args": [
             [
              "25"
             ],
             {
              "frame": {
               "duration": 50,
               "redraw": false
              },
              "mode": "immediate",
              "transition": {
               "duration": 0
              }
             }
            ],
            "label": "25",
            "method": "animate"
           },
           {
            "args": [
             [
              "26"
             ],
             {
              "frame": {
               "duration": 50,
               "redraw": false
              },
              "mode": "immediate",
              "transition": {
               "duration": 0
              }
             }
            ],
            "label": "26",
            "method": "animate"
           },
           {
            "args": [
             [
              "27"
             ],
             {
              "frame": {
               "duration": 50,
               "redraw": false
              },
              "mode": "immediate",
              "transition": {
               "duration": 0
              }
             }
            ],
            "label": "27",
            "method": "animate"
           },
           {
            "args": [
             [
              "28"
             ],
             {
              "frame": {
               "duration": 50,
               "redraw": false
              },
              "mode": "immediate",
              "transition": {
               "duration": 0
              }
             }
            ],
            "label": "28",
            "method": "animate"
           },
           {
            "args": [
             [
              "29"
             ],
             {
              "frame": {
               "duration": 50,
               "redraw": false
              },
              "mode": "immediate",
              "transition": {
               "duration": 0
              }
             }
            ],
            "label": "29",
            "method": "animate"
           },
           {
            "args": [
             [
              "30"
             ],
             {
              "frame": {
               "duration": 50,
               "redraw": false
              },
              "mode": "immediate",
              "transition": {
               "duration": 0
              }
             }
            ],
            "label": "30",
            "method": "animate"
           },
           {
            "args": [
             [
              "31"
             ],
             {
              "frame": {
               "duration": 50,
               "redraw": false
              },
              "mode": "immediate",
              "transition": {
               "duration": 0
              }
             }
            ],
            "label": "31",
            "method": "animate"
           },
           {
            "args": [
             [
              "32"
             ],
             {
              "frame": {
               "duration": 50,
               "redraw": false
              },
              "mode": "immediate",
              "transition": {
               "duration": 0
              }
             }
            ],
            "label": "32",
            "method": "animate"
           },
           {
            "args": [
             [
              "33"
             ],
             {
              "frame": {
               "duration": 50,
               "redraw": false
              },
              "mode": "immediate",
              "transition": {
               "duration": 0
              }
             }
            ],
            "label": "33",
            "method": "animate"
           },
           {
            "args": [
             [
              "34"
             ],
             {
              "frame": {
               "duration": 50,
               "redraw": false
              },
              "mode": "immediate",
              "transition": {
               "duration": 0
              }
             }
            ],
            "label": "34",
            "method": "animate"
           },
           {
            "args": [
             [
              "35"
             ],
             {
              "frame": {
               "duration": 50,
               "redraw": false
              },
              "mode": "immediate",
              "transition": {
               "duration": 0
              }
             }
            ],
            "label": "35",
            "method": "animate"
           },
           {
            "args": [
             [
              "36"
             ],
             {
              "frame": {
               "duration": 50,
               "redraw": false
              },
              "mode": "immediate",
              "transition": {
               "duration": 0
              }
             }
            ],
            "label": "36",
            "method": "animate"
           },
           {
            "args": [
             [
              "37"
             ],
             {
              "frame": {
               "duration": 50,
               "redraw": false
              },
              "mode": "immediate",
              "transition": {
               "duration": 0
              }
             }
            ],
            "label": "37",
            "method": "animate"
           },
           {
            "args": [
             [
              "38"
             ],
             {
              "frame": {
               "duration": 50,
               "redraw": false
              },
              "mode": "immediate",
              "transition": {
               "duration": 0
              }
             }
            ],
            "label": "38",
            "method": "animate"
           },
           {
            "args": [
             [
              "39"
             ],
             {
              "frame": {
               "duration": 50,
               "redraw": false
              },
              "mode": "immediate",
              "transition": {
               "duration": 0
              }
             }
            ],
            "label": "39",
            "method": "animate"
           },
           {
            "args": [
             [
              "40"
             ],
             {
              "frame": {
               "duration": 50,
               "redraw": false
              },
              "mode": "immediate",
              "transition": {
               "duration": 0
              }
             }
            ],
            "label": "40",
            "method": "animate"
           }
          ],
          "transition": {
           "duration": 50,
           "easing": "cubic-in-out"
          },
          "x": 0.1,
          "xanchor": "left",
          "y": 0,
          "yanchor": "top"
         }
        ],
        "template": {
         "data": {
          "bar": [
           {
            "error_x": {
             "color": "#2a3f5f"
            },
            "error_y": {
             "color": "#2a3f5f"
            },
            "marker": {
             "line": {
              "color": "#E5ECF6",
              "width": 0.5
             },
             "pattern": {
              "fillmode": "overlay",
              "size": 10,
              "solidity": 0.2
             }
            },
            "type": "bar"
           }
          ],
          "barpolar": [
           {
            "marker": {
             "line": {
              "color": "#E5ECF6",
              "width": 0.5
             },
             "pattern": {
              "fillmode": "overlay",
              "size": 10,
              "solidity": 0.2
             }
            },
            "type": "barpolar"
           }
          ],
          "carpet": [
           {
            "aaxis": {
             "endlinecolor": "#2a3f5f",
             "gridcolor": "white",
             "linecolor": "white",
             "minorgridcolor": "white",
             "startlinecolor": "#2a3f5f"
            },
            "baxis": {
             "endlinecolor": "#2a3f5f",
             "gridcolor": "white",
             "linecolor": "white",
             "minorgridcolor": "white",
             "startlinecolor": "#2a3f5f"
            },
            "type": "carpet"
           }
          ],
          "choropleth": [
           {
            "colorbar": {
             "outlinewidth": 0,
             "ticks": ""
            },
            "type": "choropleth"
           }
          ],
          "contour": [
           {
            "colorbar": {
             "outlinewidth": 0,
             "ticks": ""
            },
            "colorscale": [
             [
              0,
              "#0d0887"
             ],
             [
              0.1111111111111111,
              "#46039f"
             ],
             [
              0.2222222222222222,
              "#7201a8"
             ],
             [
              0.3333333333333333,
              "#9c179e"
             ],
             [
              0.4444444444444444,
              "#bd3786"
             ],
             [
              0.5555555555555556,
              "#d8576b"
             ],
             [
              0.6666666666666666,
              "#ed7953"
             ],
             [
              0.7777777777777778,
              "#fb9f3a"
             ],
             [
              0.8888888888888888,
              "#fdca26"
             ],
             [
              1,
              "#f0f921"
             ]
            ],
            "type": "contour"
           }
          ],
          "contourcarpet": [
           {
            "colorbar": {
             "outlinewidth": 0,
             "ticks": ""
            },
            "type": "contourcarpet"
           }
          ],
          "heatmap": [
           {
            "colorbar": {
             "outlinewidth": 0,
             "ticks": ""
            },
            "colorscale": [
             [
              0,
              "#0d0887"
             ],
             [
              0.1111111111111111,
              "#46039f"
             ],
             [
              0.2222222222222222,
              "#7201a8"
             ],
             [
              0.3333333333333333,
              "#9c179e"
             ],
             [
              0.4444444444444444,
              "#bd3786"
             ],
             [
              0.5555555555555556,
              "#d8576b"
             ],
             [
              0.6666666666666666,
              "#ed7953"
             ],
             [
              0.7777777777777778,
              "#fb9f3a"
             ],
             [
              0.8888888888888888,
              "#fdca26"
             ],
             [
              1,
              "#f0f921"
             ]
            ],
            "type": "heatmap"
           }
          ],
          "heatmapgl": [
           {
            "colorbar": {
             "outlinewidth": 0,
             "ticks": ""
            },
            "colorscale": [
             [
              0,
              "#0d0887"
             ],
             [
              0.1111111111111111,
              "#46039f"
             ],
             [
              0.2222222222222222,
              "#7201a8"
             ],
             [
              0.3333333333333333,
              "#9c179e"
             ],
             [
              0.4444444444444444,
              "#bd3786"
             ],
             [
              0.5555555555555556,
              "#d8576b"
             ],
             [
              0.6666666666666666,
              "#ed7953"
             ],
             [
              0.7777777777777778,
              "#fb9f3a"
             ],
             [
              0.8888888888888888,
              "#fdca26"
             ],
             [
              1,
              "#f0f921"
             ]
            ],
            "type": "heatmapgl"
           }
          ],
          "histogram": [
           {
            "marker": {
             "pattern": {
              "fillmode": "overlay",
              "size": 10,
              "solidity": 0.2
             }
            },
            "type": "histogram"
           }
          ],
          "histogram2d": [
           {
            "colorbar": {
             "outlinewidth": 0,
             "ticks": ""
            },
            "colorscale": [
             [
              0,
              "#0d0887"
             ],
             [
              0.1111111111111111,
              "#46039f"
             ],
             [
              0.2222222222222222,
              "#7201a8"
             ],
             [
              0.3333333333333333,
              "#9c179e"
             ],
             [
              0.4444444444444444,
              "#bd3786"
             ],
             [
              0.5555555555555556,
              "#d8576b"
             ],
             [
              0.6666666666666666,
              "#ed7953"
             ],
             [
              0.7777777777777778,
              "#fb9f3a"
             ],
             [
              0.8888888888888888,
              "#fdca26"
             ],
             [
              1,
              "#f0f921"
             ]
            ],
            "type": "histogram2d"
           }
          ],
          "histogram2dcontour": [
           {
            "colorbar": {
             "outlinewidth": 0,
             "ticks": ""
            },
            "colorscale": [
             [
              0,
              "#0d0887"
             ],
             [
              0.1111111111111111,
              "#46039f"
             ],
             [
              0.2222222222222222,
              "#7201a8"
             ],
             [
              0.3333333333333333,
              "#9c179e"
             ],
             [
              0.4444444444444444,
              "#bd3786"
             ],
             [
              0.5555555555555556,
              "#d8576b"
             ],
             [
              0.6666666666666666,
              "#ed7953"
             ],
             [
              0.7777777777777778,
              "#fb9f3a"
             ],
             [
              0.8888888888888888,
              "#fdca26"
             ],
             [
              1,
              "#f0f921"
             ]
            ],
            "type": "histogram2dcontour"
           }
          ],
          "mesh3d": [
           {
            "colorbar": {
             "outlinewidth": 0,
             "ticks": ""
            },
            "type": "mesh3d"
           }
          ],
          "parcoords": [
           {
            "line": {
             "colorbar": {
              "outlinewidth": 0,
              "ticks": ""
             }
            },
            "type": "parcoords"
           }
          ],
          "pie": [
           {
            "automargin": true,
            "type": "pie"
           }
          ],
          "scatter": [
           {
            "fillpattern": {
             "fillmode": "overlay",
             "size": 10,
             "solidity": 0.2
            },
            "type": "scatter"
           }
          ],
          "scatter3d": [
           {
            "line": {
             "colorbar": {
              "outlinewidth": 0,
              "ticks": ""
             }
            },
            "marker": {
             "colorbar": {
              "outlinewidth": 0,
              "ticks": ""
             }
            },
            "type": "scatter3d"
           }
          ],
          "scattercarpet": [
           {
            "marker": {
             "colorbar": {
              "outlinewidth": 0,
              "ticks": ""
             }
            },
            "type": "scattercarpet"
           }
          ],
          "scattergeo": [
           {
            "marker": {
             "colorbar": {
              "outlinewidth": 0,
              "ticks": ""
             }
            },
            "type": "scattergeo"
           }
          ],
          "scattergl": [
           {
            "marker": {
             "colorbar": {
              "outlinewidth": 0,
              "ticks": ""
             }
            },
            "type": "scattergl"
           }
          ],
          "scattermapbox": [
           {
            "marker": {
             "colorbar": {
              "outlinewidth": 0,
              "ticks": ""
             }
            },
            "type": "scattermapbox"
           }
          ],
          "scatterpolar": [
           {
            "marker": {
             "colorbar": {
              "outlinewidth": 0,
              "ticks": ""
             }
            },
            "type": "scatterpolar"
           }
          ],
          "scatterpolargl": [
           {
            "marker": {
             "colorbar": {
              "outlinewidth": 0,
              "ticks": ""
             }
            },
            "type": "scatterpolargl"
           }
          ],
          "scatterternary": [
           {
            "marker": {
             "colorbar": {
              "outlinewidth": 0,
              "ticks": ""
             }
            },
            "type": "scatterternary"
           }
          ],
          "surface": [
           {
            "colorbar": {
             "outlinewidth": 0,
             "ticks": ""
            },
            "colorscale": [
             [
              0,
              "#0d0887"
             ],
             [
              0.1111111111111111,
              "#46039f"
             ],
             [
              0.2222222222222222,
              "#7201a8"
             ],
             [
              0.3333333333333333,
              "#9c179e"
             ],
             [
              0.4444444444444444,
              "#bd3786"
             ],
             [
              0.5555555555555556,
              "#d8576b"
             ],
             [
              0.6666666666666666,
              "#ed7953"
             ],
             [
              0.7777777777777778,
              "#fb9f3a"
             ],
             [
              0.8888888888888888,
              "#fdca26"
             ],
             [
              1,
              "#f0f921"
             ]
            ],
            "type": "surface"
           }
          ],
          "table": [
           {
            "cells": {
             "fill": {
              "color": "#EBF0F8"
             },
             "line": {
              "color": "white"
             }
            },
            "header": {
             "fill": {
              "color": "#C8D4E3"
             },
             "line": {
              "color": "white"
             }
            },
            "type": "table"
           }
          ]
         },
         "layout": {
          "annotationdefaults": {
           "arrowcolor": "#2a3f5f",
           "arrowhead": 0,
           "arrowwidth": 1
          },
          "autotypenumbers": "strict",
          "coloraxis": {
           "colorbar": {
            "outlinewidth": 0,
            "ticks": ""
           }
          },
          "colorscale": {
           "diverging": [
            [
             0,
             "#8e0152"
            ],
            [
             0.1,
             "#c51b7d"
            ],
            [
             0.2,
             "#de77ae"
            ],
            [
             0.3,
             "#f1b6da"
            ],
            [
             0.4,
             "#fde0ef"
            ],
            [
             0.5,
             "#f7f7f7"
            ],
            [
             0.6,
             "#e6f5d0"
            ],
            [
             0.7,
             "#b8e186"
            ],
            [
             0.8,
             "#7fbc41"
            ],
            [
             0.9,
             "#4d9221"
            ],
            [
             1,
             "#276419"
            ]
           ],
           "sequential": [
            [
             0,
             "#0d0887"
            ],
            [
             0.1111111111111111,
             "#46039f"
            ],
            [
             0.2222222222222222,
             "#7201a8"
            ],
            [
             0.3333333333333333,
             "#9c179e"
            ],
            [
             0.4444444444444444,
             "#bd3786"
            ],
            [
             0.5555555555555556,
             "#d8576b"
            ],
            [
             0.6666666666666666,
             "#ed7953"
            ],
            [
             0.7777777777777778,
             "#fb9f3a"
            ],
            [
             0.8888888888888888,
             "#fdca26"
            ],
            [
             1,
             "#f0f921"
            ]
           ],
           "sequentialminus": [
            [
             0,
             "#0d0887"
            ],
            [
             0.1111111111111111,
             "#46039f"
            ],
            [
             0.2222222222222222,
             "#7201a8"
            ],
            [
             0.3333333333333333,
             "#9c179e"
            ],
            [
             0.4444444444444444,
             "#bd3786"
            ],
            [
             0.5555555555555556,
             "#d8576b"
            ],
            [
             0.6666666666666666,
             "#ed7953"
            ],
            [
             0.7777777777777778,
             "#fb9f3a"
            ],
            [
             0.8888888888888888,
             "#fdca26"
            ],
            [
             1,
             "#f0f921"
            ]
           ]
          },
          "colorway": [
           "#636efa",
           "#EF553B",
           "#00cc96",
           "#ab63fa",
           "#FFA15A",
           "#19d3f3",
           "#FF6692",
           "#B6E880",
           "#FF97FF",
           "#FECB52"
          ],
          "font": {
           "color": "#2a3f5f"
          },
          "geo": {
           "bgcolor": "white",
           "lakecolor": "white",
           "landcolor": "#E5ECF6",
           "showlakes": true,
           "showland": true,
           "subunitcolor": "white"
          },
          "hoverlabel": {
           "align": "left"
          },
          "hovermode": "closest",
          "mapbox": {
           "style": "light"
          },
          "paper_bgcolor": "white",
          "plot_bgcolor": "#E5ECF6",
          "polar": {
           "angularaxis": {
            "gridcolor": "white",
            "linecolor": "white",
            "ticks": ""
           },
           "bgcolor": "#E5ECF6",
           "radialaxis": {
            "gridcolor": "white",
            "linecolor": "white",
            "ticks": ""
           }
          },
          "scene": {
           "xaxis": {
            "backgroundcolor": "#E5ECF6",
            "gridcolor": "white",
            "gridwidth": 2,
            "linecolor": "white",
            "showbackground": true,
            "ticks": "",
            "zerolinecolor": "white"
           },
           "yaxis": {
            "backgroundcolor": "#E5ECF6",
            "gridcolor": "white",
            "gridwidth": 2,
            "linecolor": "white",
            "showbackground": true,
            "ticks": "",
            "zerolinecolor": "white"
           },
           "zaxis": {
            "backgroundcolor": "#E5ECF6",
            "gridcolor": "white",
            "gridwidth": 2,
            "linecolor": "white",
            "showbackground": true,
            "ticks": "",
            "zerolinecolor": "white"
           }
          },
          "shapedefaults": {
           "line": {
            "color": "#2a3f5f"
           }
          },
          "ternary": {
           "aaxis": {
            "gridcolor": "white",
            "linecolor": "white",
            "ticks": ""
           },
           "baxis": {
            "gridcolor": "white",
            "linecolor": "white",
            "ticks": ""
           },
           "bgcolor": "#E5ECF6",
           "caxis": {
            "gridcolor": "white",
            "linecolor": "white",
            "ticks": ""
           }
          },
          "title": {
           "x": 0.05
          },
          "xaxis": {
           "automargin": true,
           "gridcolor": "white",
           "linecolor": "white",
           "ticks": "",
           "title": {
            "standoff": 15
           },
           "zerolinecolor": "white",
           "zerolinewidth": 2
          },
          "yaxis": {
           "automargin": true,
           "gridcolor": "white",
           "linecolor": "white",
           "ticks": "",
           "title": {
            "standoff": 15
           },
           "zerolinecolor": "white",
           "zerolinewidth": 2
          }
         }
        },
        "updatemenus": [
         {
          "buttons": [
           {
            "args": [
             null,
             {
              "frame": {
               "duration": 50,
               "redraw": false
              },
              "fromcurrent": true,
              "transition": {
               "duration": 0
              }
             }
            ],
            "label": "⏵",
            "method": "animate"
           },
           {
            "args": [
             [
              null
             ],
             {
              "frame": {
               "duration": 0,
               "redraw": false
              },
              "mode": "immediate",
              "transition": {
               "duration": 0
              }
             }
            ],
            "label": "⏸",
            "method": "animate"
           }
          ],
          "direction": "left",
          "pad": {
           "r": 10,
           "t": 87
          },
          "showactive": false,
          "type": "buttons",
          "x": 0.1,
          "xanchor": "right",
          "y": 0,
          "yanchor": "top"
         }
        ],
        "xaxis": {
         "range": [
          -5,
          125
         ],
         "visible": false
        },
        "yaxis": {
         "range": [
          -5,
          58.3
         ],
         "scaleanchor": "x",
         "scaleratio": 1,
         "visible": false
        }
       }
      }
     },
     "metadata": {},
     "output_type": "display_data"
    }
   ],
   "source": [
    "field.fig.show()"
   ]
  },
  {
   "cell_type": "code",
   "execution_count": 41,
   "metadata": {},
   "outputs": [],
   "source": [
    "field_proba = Field()\n",
    "field_proba.draw_scrimmage_and_first_down(**test_play_tracking[[\"absoluteYardlineNumber\", \"yardsToGo\", \"playDirection\"]].iloc[0].to_dict())\n",
    "field_proba.create_tackling_probability_animation(test_play_tracking)"
   ]
  },
  {
   "cell_type": "code",
   "execution_count": 42,
   "metadata": {},
   "outputs": [
    {
     "data": {
      "application/vnd.plotly.v1+json": {
       "config": {
        "plotlyServerURL": "https://plot.ly"
       },
       "data": [
        {
         "hoverinfo": "none",
         "marker": {
          "color": "black",
          "size": 10
         },
         "mode": "markers",
         "name": "offense",
         "type": "scatter",
         "x": [
          55.29,
          58.01,
          57.73,
          56.52,
          60.38,
          62.82,
          55.54,
          59.32,
          56.66,
          58.08,
          56.89
         ],
         "y": [
          27.28,
          29.17,
          27.1,
          20.09,
          24.15,
          24.25,
          23.68,
          36.4,
          25.3,
          20.87,
          31.44
         ]
        },
        {
         "hoverinfo": "none",
         "marker": {
          "color": "yellow",
          "opacity": 0,
          "size": 10
         },
         "mode": "markers",
         "name": "ball_carrier",
         "type": "scatter",
         "x": [
          0
         ],
         "y": [
          0
         ]
        },
        {
         "customdata": [
          [
           42401,
           "Markus Golden",
           "OLB",
           "ARI",
           0
          ],
          [
           43986,
           "Antonio Hamilton",
           "CB",
           "ARI",
           0
          ],
          [
           44848,
           "Budda Baker",
           "SS",
           "ARI",
           0
          ],
          [
           47816,
           "Byron Murphy",
           "CB",
           "ARI",
           0
          ],
          [
           47848,
           "Zach Allen",
           "DE",
           "ARI",
           0
          ],
          [
           49410,
           "Jalen Thompson",
           "FS",
           "ARI",
           0
          ],
          [
           52416,
           "Isaiah Simmons",
           "DB",
           "ARI",
           0
          ],
          [
           52522,
           "Leki Fotu",
           "DT",
           "ARI",
           0
          ],
          [
           53445,
           "Zaven Collins",
           "OLB",
           "ARI",
           0
          ],
          [
           53565,
           "Marco Wilson",
           "CB",
           "ARI",
           0
          ],
          [
           54552,
           "Cameron Thomas",
           "OLB",
           "ARI",
           0
          ]
         ],
         "hovertemplate": "<b>nflId:</b> %{customdata[0]}<br><b>Player:</b> %{customdata[1]} %{customdata[2]}<br><b>Team:</b> %{customdata[3]}<br><br><b>Tackling Probability:</b> %{customdata[4]}",
         "marker": {
          "cmax": 1,
          "cmin": 0,
          "color": [
           "#fff5f0",
           "#fff5f0",
           "#fff5f0",
           "#fff5f0",
           "#fff5f0",
           "#fff5f0",
           "#fff5f0",
           "#fff5f0",
           "#fff5f0",
           "#fff5f0",
           "#fff5f0"
          ],
          "colorbar": {
           "len": 0.85,
           "thickness": 10,
           "title": {
            "text": "defense"
           },
           "x": 1.03,
           "y": 0.4
          },
          "colorscale": [
           [
            0,
            "rgb(255,245,240)"
           ],
           [
            0.125,
            "rgb(254,224,210)"
           ],
           [
            0.25,
            "rgb(252,187,161)"
           ],
           [
            0.375,
            "rgb(252,146,114)"
           ],
           [
            0.5,
            "rgb(251,106,74)"
           ],
           [
            0.625,
            "rgb(239,59,44)"
           ],
           [
            0.75,
            "rgb(203,24,29)"
           ],
           [
            0.875,
            "rgb(165,15,21)"
           ],
           [
            1,
            "rgb(103,0,13)"
           ]
          ],
          "size": 10
         },
         "mode": "markers",
         "name": "defense",
         "showlegend": false,
         "type": "scatter",
         "x": [
          57.64,
          50.6,
          51.91,
          51.85,
          56.17,
          40.1,
          53.9,
          57.75,
          53.76,
          50.91,
          57.57
         ],
         "y": [
          20.66,
          36.13,
          22.24,
          33.03,
          25.74,
          27.74,
          28.54,
          27.86,
          25.72,
          18.12,
          29.71
         ]
        }
       ],
       "frames": [
        {
         "data": [
          {
           "hoverinfo": "none",
           "marker": {
            "color": "black",
            "size": 10
           },
           "mode": "markers",
           "name": "offense",
           "type": "scatter",
           "x": [
            55.29,
            58.01,
            57.73,
            56.52,
            60.38,
            62.82,
            55.54,
            59.32,
            56.66,
            58.08,
            56.89
           ],
           "y": [
            27.28,
            29.17,
            27.1,
            20.09,
            24.15,
            24.25,
            23.68,
            36.4,
            25.3,
            20.87,
            31.44
           ]
          },
          {
           "hoverinfo": "none",
           "marker": {
            "color": "yellow",
            "opacity": 0,
            "size": 10
           },
           "mode": "markers",
           "name": "ball_carrier",
           "type": "scatter",
           "x": [
            0
           ],
           "y": [
            0
           ]
          },
          {
           "customdata": [
            [
             42401,
             "Markus Golden",
             "OLB",
             "ARI",
             0
            ],
            [
             43986,
             "Antonio Hamilton",
             "CB",
             "ARI",
             0
            ],
            [
             44848,
             "Budda Baker",
             "SS",
             "ARI",
             0
            ],
            [
             47816,
             "Byron Murphy",
             "CB",
             "ARI",
             0
            ],
            [
             47848,
             "Zach Allen",
             "DE",
             "ARI",
             0
            ],
            [
             49410,
             "Jalen Thompson",
             "FS",
             "ARI",
             0
            ],
            [
             52416,
             "Isaiah Simmons",
             "DB",
             "ARI",
             0
            ],
            [
             52522,
             "Leki Fotu",
             "DT",
             "ARI",
             0
            ],
            [
             53445,
             "Zaven Collins",
             "OLB",
             "ARI",
             0
            ],
            [
             53565,
             "Marco Wilson",
             "CB",
             "ARI",
             0
            ],
            [
             54552,
             "Cameron Thomas",
             "OLB",
             "ARI",
             0
            ]
           ],
           "hovertemplate": "<b>nflId:</b> %{customdata[0]}<br><b>Player:</b> %{customdata[1]} %{customdata[2]}<br><b>Team:</b> %{customdata[3]}<br><br><b>Tackling Probability:</b> %{customdata[4]}",
           "marker": {
            "cmax": 1,
            "cmin": 0,
            "color": [
             "#fff5f0",
             "#fff5f0",
             "#fff5f0",
             "#fff5f0",
             "#fff5f0",
             "#fff5f0",
             "#fff5f0",
             "#fff5f0",
             "#fff5f0",
             "#fff5f0",
             "#fff5f0"
            ],
            "colorbar": {
             "len": 0.85,
             "thickness": 10,
             "title": {
              "text": "defense"
             },
             "x": 1.03,
             "y": 0.4
            },
            "colorscale": [
             [
              0,
              "rgb(255,245,240)"
             ],
             [
              0.125,
              "rgb(254,224,210)"
             ],
             [
              0.25,
              "rgb(252,187,161)"
             ],
             [
              0.375,
              "rgb(252,146,114)"
             ],
             [
              0.5,
              "rgb(251,106,74)"
             ],
             [
              0.625,
              "rgb(239,59,44)"
             ],
             [
              0.75,
              "rgb(203,24,29)"
             ],
             [
              0.875,
              "rgb(165,15,21)"
             ],
             [
              1,
              "rgb(103,0,13)"
             ]
            ],
            "size": 10
           },
           "mode": "markers",
           "name": "defense",
           "showlegend": false,
           "type": "scatter",
           "x": [
            57.64,
            50.6,
            51.91,
            51.85,
            56.17,
            40.1,
            53.9,
            57.75,
            53.76,
            50.91,
            57.57
           ],
           "y": [
            20.66,
            36.13,
            22.24,
            33.03,
            25.74,
            27.74,
            28.54,
            27.86,
            25.72,
            18.12,
            29.71
           ]
          }
         ],
         "name": "1"
        },
        {
         "data": [
          {
           "hoverinfo": "none",
           "marker": {
            "color": "black",
            "size": 10
           },
           "mode": "markers",
           "name": "offense",
           "type": "scatter",
           "x": [
            55.06,
            57.95,
            57.68,
            56.31,
            60.02,
            62.84,
            55.28,
            59.36,
            56.46,
            57.95,
            56.64
           ],
           "y": [
            27.68,
            29.39,
            27.29,
            20.21,
            24.35,
            24.29,
            24.01,
            36.61,
            25.46,
            21.07,
            31.9
           ]
          },
          {
           "hoverinfo": "none",
           "marker": {
            "color": "yellow",
            "opacity": 0,
            "size": 10
           },
           "mode": "markers",
           "name": "ball_carrier",
           "type": "scatter",
           "x": [
            0
           ],
           "y": [
            0
           ]
          },
          {
           "customdata": [
            [
             42401,
             "Markus Golden",
             "OLB",
             "ARI",
             0
            ],
            [
             43986,
             "Antonio Hamilton",
             "CB",
             "ARI",
             0
            ],
            [
             44848,
             "Budda Baker",
             "SS",
             "ARI",
             0
            ],
            [
             47816,
             "Byron Murphy",
             "CB",
             "ARI",
             0
            ],
            [
             47848,
             "Zach Allen",
             "DE",
             "ARI",
             0
            ],
            [
             49410,
             "Jalen Thompson",
             "FS",
             "ARI",
             0
            ],
            [
             52416,
             "Isaiah Simmons",
             "DB",
             "ARI",
             0
            ],
            [
             52522,
             "Leki Fotu",
             "DT",
             "ARI",
             0
            ],
            [
             53445,
             "Zaven Collins",
             "OLB",
             "ARI",
             0
            ],
            [
             53565,
             "Marco Wilson",
             "CB",
             "ARI",
             0
            ],
            [
             54552,
             "Cameron Thomas",
             "OLB",
             "ARI",
             0
            ]
           ],
           "hovertemplate": "<b>nflId:</b> %{customdata[0]}<br><b>Player:</b> %{customdata[1]} %{customdata[2]}<br><b>Team:</b> %{customdata[3]}<br><br><b>Tackling Probability:</b> %{customdata[4]}",
           "marker": {
            "cmax": 1,
            "cmin": 0,
            "color": [
             "#fff5f0",
             "#fff5f0",
             "#fff5f0",
             "#fff5f0",
             "#fff5f0",
             "#fff5f0",
             "#fff5f0",
             "#fff5f0",
             "#fff5f0",
             "#fff5f0",
             "#fff5f0"
            ],
            "colorbar": {
             "len": 0.85,
             "thickness": 10,
             "title": {
              "text": "defense"
             },
             "x": 1.03,
             "y": 0.4
            },
            "colorscale": [
             [
              0,
              "rgb(255,245,240)"
             ],
             [
              0.125,
              "rgb(254,224,210)"
             ],
             [
              0.25,
              "rgb(252,187,161)"
             ],
             [
              0.375,
              "rgb(252,146,114)"
             ],
             [
              0.5,
              "rgb(251,106,74)"
             ],
             [
              0.625,
              "rgb(239,59,44)"
             ],
             [
              0.75,
              "rgb(203,24,29)"
             ],
             [
              0.875,
              "rgb(165,15,21)"
             ],
             [
              1,
              "rgb(103,0,13)"
             ]
            ],
            "size": 10
           },
           "mode": "markers",
           "name": "defense",
           "showlegend": false,
           "type": "scatter",
           "x": [
            57.51,
            50.92,
            51.91,
            52.03,
            56.04,
            40.24,
            53.98,
            57.78,
            53.6,
            51.01,
            57.59
           ],
           "y": [
            20.91,
            36.29,
            22.71,
            33.45,
            25.98,
            27.85,
            29.01,
            28.09,
            26.12,
            18.4,
            30
           ]
          }
         ],
         "name": "2"
        },
        {
         "data": [
          {
           "hoverinfo": "none",
           "marker": {
            "color": "black",
            "size": 10
           },
           "mode": "markers",
           "name": "offense",
           "type": "scatter",
           "x": [
            54.84,
            57.88,
            57.64,
            56.08,
            59.66,
            62.84,
            55.05,
            59.36,
            56.22,
            57.78,
            56.39
           ],
           "y": [
            28.07,
            29.62,
            27.49,
            20.35,
            24.54,
            24.34,
            24.33,
            36.84,
            25.62,
            21.26,
            32.38
           ]
          },
          {
           "hoverinfo": "none",
           "marker": {
            "color": "yellow",
            "opacity": 0,
            "size": 10
           },
           "mode": "markers",
           "name": "ball_carrier",
           "type": "scatter",
           "x": [
            0
           ],
           "y": [
            0
           ]
          },
          {
           "customdata": [
            [
             42401,
             "Markus Golden",
             "OLB",
             "ARI",
             0
            ],
            [
             43986,
             "Antonio Hamilton",
             "CB",
             "ARI",
             0
            ],
            [
             44848,
             "Budda Baker",
             "SS",
             "ARI",
             0
            ],
            [
             47816,
             "Byron Murphy",
             "CB",
             "ARI",
             0
            ],
            [
             47848,
             "Zach Allen",
             "DE",
             "ARI",
             0
            ],
            [
             49410,
             "Jalen Thompson",
             "FS",
             "ARI",
             0
            ],
            [
             52416,
             "Isaiah Simmons",
             "DB",
             "ARI",
             0
            ],
            [
             52522,
             "Leki Fotu",
             "DT",
             "ARI",
             0
            ],
            [
             53445,
             "Zaven Collins",
             "OLB",
             "ARI",
             0
            ],
            [
             53565,
             "Marco Wilson",
             "CB",
             "ARI",
             0
            ],
            [
             54552,
             "Cameron Thomas",
             "OLB",
             "ARI",
             0
            ]
           ],
           "hovertemplate": "<b>nflId:</b> %{customdata[0]}<br><b>Player:</b> %{customdata[1]} %{customdata[2]}<br><b>Team:</b> %{customdata[3]}<br><br><b>Tackling Probability:</b> %{customdata[4]}",
           "marker": {
            "cmax": 1,
            "cmin": 0,
            "color": [
             "#fff5f0",
             "#fff5f0",
             "#fff5f0",
             "#fff5f0",
             "#fff5f0",
             "#fff5f0",
             "#fff5f0",
             "#fff5f0",
             "#fff5f0",
             "#fff5f0",
             "#fff5f0"
            ],
            "colorbar": {
             "len": 0.85,
             "thickness": 10,
             "title": {
              "text": "defense"
             },
             "x": 1.03,
             "y": 0.4
            },
            "colorscale": [
             [
              0,
              "rgb(255,245,240)"
             ],
             [
              0.125,
              "rgb(254,224,210)"
             ],
             [
              0.25,
              "rgb(252,187,161)"
             ],
             [
              0.375,
              "rgb(252,146,114)"
             ],
             [
              0.5,
              "rgb(251,106,74)"
             ],
             [
              0.625,
              "rgb(239,59,44)"
             ],
             [
              0.75,
              "rgb(203,24,29)"
             ],
             [
              0.875,
              "rgb(165,15,21)"
             ],
             [
              1,
              "rgb(103,0,13)"
             ]
            ],
            "size": 10
           },
           "mode": "markers",
           "name": "defense",
           "showlegend": false,
           "type": "scatter",
           "x": [
            57.34,
            51.3,
            51.88,
            52.23,
            55.92,
            40.41,
            54.08,
            57.8,
            53.45,
            51.1,
            57.59
           ],
           "y": [
            21.18,
            36.47,
            23.22,
            33.89,
            26.22,
            28,
            29.53,
            28.32,
            26.55,
            18.72,
            30.3
           ]
          }
         ],
         "name": "3"
        },
        {
         "data": [
          {
           "hoverinfo": "none",
           "marker": {
            "color": "black",
            "size": 10
           },
           "mode": "markers",
           "name": "offense",
           "type": "scatter",
           "x": [
            54.66,
            57.82,
            57.62,
            55.82,
            59.31,
            62.85,
            54.83,
            59.33,
            55.99,
            57.59,
            56.16
           ],
           "y": [
            28.49,
            29.86,
            27.71,
            20.53,
            24.72,
            24.37,
            24.65,
            37.09,
            25.77,
            21.44,
            32.88
           ]
          },
          {
           "hoverinfo": "none",
           "marker": {
            "color": "yellow",
            "opacity": 0,
            "size": 10
           },
           "mode": "markers",
           "name": "ball_carrier",
           "type": "scatter",
           "x": [
            0
           ],
           "y": [
            0
           ]
          },
          {
           "customdata": [
            [
             42401,
             "Markus Golden",
             "OLB",
             "ARI",
             0
            ],
            [
             43986,
             "Antonio Hamilton",
             "CB",
             "ARI",
             0
            ],
            [
             44848,
             "Budda Baker",
             "SS",
             "ARI",
             0
            ],
            [
             47816,
             "Byron Murphy",
             "CB",
             "ARI",
             0
            ],
            [
             47848,
             "Zach Allen",
             "DE",
             "ARI",
             0
            ],
            [
             49410,
             "Jalen Thompson",
             "FS",
             "ARI",
             0
            ],
            [
             52416,
             "Isaiah Simmons",
             "DB",
             "ARI",
             0
            ],
            [
             52522,
             "Leki Fotu",
             "DT",
             "ARI",
             0
            ],
            [
             53445,
             "Zaven Collins",
             "OLB",
             "ARI",
             0
            ],
            [
             53565,
             "Marco Wilson",
             "CB",
             "ARI",
             0
            ],
            [
             54552,
             "Cameron Thomas",
             "OLB",
             "ARI",
             0
            ]
           ],
           "hovertemplate": "<b>nflId:</b> %{customdata[0]}<br><b>Player:</b> %{customdata[1]} %{customdata[2]}<br><b>Team:</b> %{customdata[3]}<br><br><b>Tackling Probability:</b> %{customdata[4]}",
           "marker": {
            "cmax": 1,
            "cmin": 0,
            "color": [
             "#fff5f0",
             "#fff5f0",
             "#fff5f0",
             "#fff5f0",
             "#fff5f0",
             "#fff5f0",
             "#fff5f0",
             "#fff5f0",
             "#fff5f0",
             "#fff5f0",
             "#fff5f0"
            ],
            "colorbar": {
             "len": 0.85,
             "thickness": 10,
             "title": {
              "text": "defense"
             },
             "x": 1.03,
             "y": 0.4
            },
            "colorscale": [
             [
              0,
              "rgb(255,245,240)"
             ],
             [
              0.125,
              "rgb(254,224,210)"
             ],
             [
              0.25,
              "rgb(252,187,161)"
             ],
             [
              0.375,
              "rgb(252,146,114)"
             ],
             [
              0.5,
              "rgb(251,106,74)"
             ],
             [
              0.625,
              "rgb(239,59,44)"
             ],
             [
              0.75,
              "rgb(203,24,29)"
             ],
             [
              0.875,
              "rgb(165,15,21)"
             ],
             [
              1,
              "rgb(103,0,13)"
             ]
            ],
            "size": 10
           },
           "mode": "markers",
           "name": "defense",
           "showlegend": false,
           "type": "scatter",
           "x": [
            57.13,
            51.72,
            51.83,
            52.45,
            55.81,
            40.61,
            54.18,
            57.82,
            53.3,
            51.16,
            57.58
           ],
           "y": [
            21.46,
            36.68,
            23.76,
            34.36,
            26.45,
            28.2,
            30.1,
            28.57,
            27,
            19.05,
            30.63
           ]
          }
         ],
         "name": "4"
        },
        {
         "data": [
          {
           "hoverinfo": "none",
           "marker": {
            "color": "black",
            "size": 10
           },
           "mode": "markers",
           "name": "offense",
           "type": "scatter",
           "x": [
            54.51,
            57.74,
            57.62,
            55.53,
            58.98,
            62.84,
            54.63,
            55.74,
            57.36,
            55.95
           ],
           "y": [
            28.92,
            30.11,
            27.95,
            20.73,
            24.87,
            24.4,
            24.96,
            25.92,
            21.62,
            33.41
           ]
          },
          {
           "hoverinfo": "none",
           "marker": {
            "color": "yellow",
            "opacity": 1,
            "size": 10
           },
           "mode": "markers",
           "name": "ball_carrier",
           "type": "scatter",
           "x": [
            59.28
           ],
           "y": [
            37.36
           ]
          },
          {
           "customdata": [
            [
             42401,
             "Markus Golden",
             "OLB",
             "ARI",
             0
            ],
            [
             43986,
             "Antonio Hamilton",
             "CB",
             "ARI",
             0.84
            ],
            [
             44848,
             "Budda Baker",
             "SS",
             "ARI",
             0.01
            ],
            [
             47816,
             "Byron Murphy",
             "CB",
             "ARI",
             0.38
            ],
            [
             47848,
             "Zach Allen",
             "DE",
             "ARI",
             0.01
            ],
            [
             49410,
             "Jalen Thompson",
             "FS",
             "ARI",
             0.03
            ],
            [
             52416,
             "Isaiah Simmons",
             "DB",
             "ARI",
             0.17
            ],
            [
             52522,
             "Leki Fotu",
             "DT",
             "ARI",
             0.02
            ],
            [
             53445,
             "Zaven Collins",
             "OLB",
             "ARI",
             0.02
            ],
            [
             53565,
             "Marco Wilson",
             "CB",
             "ARI",
             0
            ],
            [
             54552,
             "Cameron Thomas",
             "OLB",
             "ARI",
             0.05
            ]
           ],
           "hovertemplate": "<b>nflId:</b> %{customdata[0]}<br><b>Player:</b> %{customdata[1]} %{customdata[2]}<br><b>Team:</b> %{customdata[3]}<br><br><b>Tackling Probability:</b> %{customdata[4]}",
           "marker": {
            "cmax": 1,
            "cmin": 0,
            "color": [
             "#fff5f0",
             "#af1117",
             "#fff4ee",
             "#fc9272",
             "#fff4ef",
             "#fff0e9",
             "#fdd3c1",
             "#fff2eb",
             "#fff2ec",
             "#fff4ef",
             "#ffeee6"
            ],
            "colorbar": {
             "len": 0.85,
             "thickness": 10,
             "title": {
              "text": "defense"
             },
             "x": 1.03,
             "y": 0.4
            },
            "colorscale": [
             [
              0,
              "rgb(255,245,240)"
             ],
             [
              0.125,
              "rgb(254,224,210)"
             ],
             [
              0.25,
              "rgb(252,187,161)"
             ],
             [
              0.375,
              "rgb(252,146,114)"
             ],
             [
              0.5,
              "rgb(251,106,74)"
             ],
             [
              0.625,
              "rgb(239,59,44)"
             ],
             [
              0.75,
              "rgb(203,24,29)"
             ],
             [
              0.875,
              "rgb(165,15,21)"
             ],
             [
              1,
              "rgb(103,0,13)"
             ]
            ],
            "size": 10
           },
           "mode": "markers",
           "name": "defense",
           "showlegend": false,
           "type": "scatter",
           "x": [
            56.9,
            52.18,
            51.76,
            52.68,
            55.71,
            40.83,
            54.29,
            57.84,
            53.17,
            51.18,
            57.55
           ],
           "y": [
            21.75,
            36.93,
            24.31,
            34.84,
            26.68,
            28.45,
            30.7,
            28.83,
            27.48,
            19.41,
            30.96
           ]
          }
         ],
         "name": "5"
        },
        {
         "data": [
          {
           "hoverinfo": "none",
           "marker": {
            "color": "black",
            "size": 10
           },
           "mode": "markers",
           "name": "offense",
           "type": "scatter",
           "x": [
            54.4,
            57.65,
            57.63,
            55.23,
            58.67,
            62.83,
            54.46,
            55.49,
            57.07,
            55.75
           ],
           "y": [
            29.34,
            30.38,
            28.19,
            20.95,
            25.01,
            24.42,
            25.26,
            26.07,
            21.77,
            33.97
           ]
          },
          {
           "hoverinfo": "none",
           "marker": {
            "color": "yellow",
            "opacity": 1,
            "size": 10
           },
           "mode": "markers",
           "name": "ball_carrier",
           "type": "scatter",
           "x": [
            59.18
           ],
           "y": [
            37.66
           ]
          },
          {
           "customdata": [
            [
             42401,
             "Markus Golden",
             "OLB",
             "ARI",
             0
            ],
            [
             43986,
             "Antonio Hamilton",
             "CB",
             "ARI",
             0.62
            ],
            [
             44848,
             "Budda Baker",
             "SS",
             "ARI",
             0.02
            ],
            [
             47816,
             "Byron Murphy",
             "CB",
             "ARI",
             0.48
            ],
            [
             47848,
             "Zach Allen",
             "DE",
             "ARI",
             0.01
            ],
            [
             49410,
             "Jalen Thompson",
             "FS",
             "ARI",
             0.06
            ],
            [
             52416,
             "Isaiah Simmons",
             "DB",
             "ARI",
             0.18
            ],
            [
             52522,
             "Leki Fotu",
             "DT",
             "ARI",
             0.02
            ],
            [
             53445,
             "Zaven Collins",
             "OLB",
             "ARI",
             0.03
            ],
            [
             53565,
             "Marco Wilson",
             "CB",
             "ARI",
             0.01
            ],
            [
             54552,
             "Cameron Thomas",
             "OLB",
             "ARI",
             0.06
            ]
           ],
           "hovertemplate": "<b>nflId:</b> %{customdata[0]}<br><b>Player:</b> %{customdata[1]} %{customdata[2]}<br><b>Team:</b> %{customdata[3]}<br><br><b>Tackling Probability:</b> %{customdata[4]}",
           "marker": {
            "cmax": 1,
            "cmin": 0,
            "color": [
             "#fff5f0",
             "#f03f2e",
             "#fff2eb",
             "#fb7151",
             "#fff4ee",
             "#ffebe2",
             "#fdcebb",
             "#fff2eb",
             "#fff0e9",
             "#fff4ef",
             "#ffebe2"
            ],
            "colorbar": {
             "len": 0.85,
             "thickness": 10,
             "title": {
              "text": "defense"
             },
             "x": 1.03,
             "y": 0.4
            },
            "colorscale": [
             [
              0,
              "rgb(255,245,240)"
             ],
             [
              0.125,
              "rgb(254,224,210)"
             ],
             [
              0.25,
              "rgb(252,187,161)"
             ],
             [
              0.375,
              "rgb(252,146,114)"
             ],
             [
              0.5,
              "rgb(251,106,74)"
             ],
             [
              0.625,
              "rgb(239,59,44)"
             ],
             [
              0.75,
              "rgb(203,24,29)"
             ],
             [
              0.875,
              "rgb(165,15,21)"
             ],
             [
              1,
              "rgb(103,0,13)"
             ]
            ],
            "size": 10
           },
           "mode": "markers",
           "name": "defense",
           "showlegend": false,
           "type": "scatter",
           "x": [
            56.66,
            52.68,
            51.65,
            52.91,
            55.61,
            41.08,
            54.42,
            57.85,
            53.06,
            51.17,
            57.51
           ],
           "y": [
            22.05,
            37.2,
            24.9,
            35.33,
            26.89,
            28.74,
            31.34,
            29.09,
            27.98,
            19.78,
            31.31
           ]
          }
         ],
         "name": "6"
        },
        {
         "data": [
          {
           "hoverinfo": "none",
           "marker": {
            "color": "black",
            "size": 10
           },
           "mode": "markers",
           "name": "offense",
           "type": "scatter",
           "x": [
            54.31,
            57.54,
            57.66,
            54.92,
            58.38,
            62.82,
            54.3,
            55.24,
            56.79,
            55.57
           ],
           "y": [
            29.75,
            30.67,
            28.43,
            21.19,
            25.13,
            24.44,
            25.54,
            26.24,
            21.9,
            34.55
           ]
          },
          {
           "hoverinfo": "none",
           "marker": {
            "color": "yellow",
            "opacity": 1,
            "size": 10
           },
           "mode": "markers",
           "name": "ball_carrier",
           "type": "scatter",
           "x": [
            59.06
           ],
           "y": [
            38
           ]
          },
          {
           "customdata": [
            [
             42401,
             "Markus Golden",
             "OLB",
             "ARI",
             0
            ],
            [
             43986,
             "Antonio Hamilton",
             "CB",
             "ARI",
             0.55
            ],
            [
             44848,
             "Budda Baker",
             "SS",
             "ARI",
             0.02
            ],
            [
             47816,
             "Byron Murphy",
             "CB",
             "ARI",
             0.37
            ],
            [
             47848,
             "Zach Allen",
             "DE",
             "ARI",
             0.02
            ],
            [
             49410,
             "Jalen Thompson",
             "FS",
             "ARI",
             0.07
            ],
            [
             52416,
             "Isaiah Simmons",
             "DB",
             "ARI",
             0.22
            ],
            [
             52522,
             "Leki Fotu",
             "DT",
             "ARI",
             0.02
            ],
            [
             53445,
             "Zaven Collins",
             "OLB",
             "ARI",
             0.03
            ],
            [
             53565,
             "Marco Wilson",
             "CB",
             "ARI",
             0.01
            ],
            [
             54552,
             "Cameron Thomas",
             "OLB",
             "ARI",
             0.08
            ]
           ],
           "hovertemplate": "<b>nflId:</b> %{customdata[0]}<br><b>Player:</b> %{customdata[1]} %{customdata[2]}<br><b>Team:</b> %{customdata[3]}<br><br><b>Tackling Probability:</b> %{customdata[4]}",
           "marker": {
            "cmax": 1,
            "cmin": 0,
            "color": [
             "#fff5f0",
             "#f6563d",
             "#fff2eb",
             "#fc9373",
             "#fff2ec",
             "#fee9df",
             "#fdc5ae",
             "#fff1ea",
             "#fff0e8",
             "#fff4ef",
             "#fee8de"
            ],
            "colorbar": {
             "len": 0.85,
             "thickness": 10,
             "title": {
              "text": "defense"
             },
             "x": 1.03,
             "y": 0.4
            },
            "colorscale": [
             [
              0,
              "rgb(255,245,240)"
             ],
             [
              0.125,
              "rgb(254,224,210)"
             ],
             [
              0.25,
              "rgb(252,187,161)"
             ],
             [
              0.375,
              "rgb(252,146,114)"
             ],
             [
              0.5,
              "rgb(251,106,74)"
             ],
             [
              0.625,
              "rgb(239,59,44)"
             ],
             [
              0.75,
              "rgb(203,24,29)"
             ],
             [
              0.875,
              "rgb(165,15,21)"
             ],
             [
              1,
              "rgb(103,0,13)"
             ]
            ],
            "size": 10
           },
           "mode": "markers",
           "name": "defense",
           "showlegend": false,
           "type": "scatter",
           "x": [
            56.4,
            53.19,
            51.52,
            53.14,
            55.52,
            41.36,
            54.55,
            57.85,
            52.97,
            51.12,
            57.45
           ],
           "y": [
            22.36,
            37.51,
            25.5,
            35.84,
            27.09,
            29.08,
            32.01,
            29.39,
            28.5,
            20.17,
            31.67
           ]
          }
         ],
         "name": "7"
        },
        {
         "data": [
          {
           "hoverinfo": "none",
           "marker": {
            "color": "black",
            "size": 10
           },
           "mode": "markers",
           "name": "offense",
           "type": "scatter",
           "x": [
            54.25,
            57.43,
            57.72,
            54.59,
            58.13,
            62.82,
            54.15,
            55.01,
            56.47,
            55.38
           ],
           "y": [
            30.16,
            30.98,
            28.67,
            21.46,
            25.24,
            24.45,
            25.81,
            26.39,
            22.02,
            35.14
           ]
          },
          {
           "hoverinfo": "none",
           "marker": {
            "color": "yellow",
            "opacity": 1,
            "size": 10
           },
           "mode": "markers",
           "name": "ball_carrier",
           "type": "scatter",
           "x": [
            58.92
           ],
           "y": [
            38.36
           ]
          },
          {
           "customdata": [
            [
             42401,
             "Markus Golden",
             "OLB",
             "ARI",
             0
            ],
            [
             43986,
             "Antonio Hamilton",
             "CB",
             "ARI",
             0.6
            ],
            [
             44848,
             "Budda Baker",
             "SS",
             "ARI",
             0.02
            ],
            [
             47816,
             "Byron Murphy",
             "CB",
             "ARI",
             0.42
            ],
            [
             47848,
             "Zach Allen",
             "DE",
             "ARI",
             0.02
            ],
            [
             49410,
             "Jalen Thompson",
             "FS",
             "ARI",
             0.06
            ],
            [
             52416,
             "Isaiah Simmons",
             "DB",
             "ARI",
             0.17
            ],
            [
             52522,
             "Leki Fotu",
             "DT",
             "ARI",
             0.02
            ],
            [
             53445,
             "Zaven Collins",
             "OLB",
             "ARI",
             0.06
            ],
            [
             53565,
             "Marco Wilson",
             "CB",
             "ARI",
             0.01
            ],
            [
             54552,
             "Cameron Thomas",
             "OLB",
             "ARI",
             0.08
            ]
           ],
           "hovertemplate": "<b>nflId:</b> %{customdata[0]}<br><b>Player:</b> %{customdata[1]} %{customdata[2]}<br><b>Team:</b> %{customdata[3]}<br><br><b>Tackling Probability:</b> %{customdata[4]}",
           "marker": {
            "cmax": 1,
            "cmin": 0,
            "color": [
             "#fff4ef",
             "#f24633",
             "#fff2eb",
             "#fc8565",
             "#fff2ec",
             "#ffebe2",
             "#fdd2bf",
             "#fff2ec",
             "#ffece3",
             "#fff4ef",
             "#fee8de"
            ],
            "colorbar": {
             "len": 0.85,
             "thickness": 10,
             "title": {
              "text": "defense"
             },
             "x": 1.03,
             "y": 0.4
            },
            "colorscale": [
             [
              0,
              "rgb(255,245,240)"
             ],
             [
              0.125,
              "rgb(254,224,210)"
             ],
             [
              0.25,
              "rgb(252,187,161)"
             ],
             [
              0.375,
              "rgb(252,146,114)"
             ],
             [
              0.5,
              "rgb(251,106,74)"
             ],
             [
              0.625,
              "rgb(239,59,44)"
             ],
             [
              0.75,
              "rgb(203,24,29)"
             ],
             [
              0.875,
              "rgb(165,15,21)"
             ],
             [
              1,
              "rgb(103,0,13)"
             ]
            ],
            "size": 10
           },
           "mode": "markers",
           "name": "defense",
           "showlegend": false,
           "type": "scatter",
           "x": [
            56.14,
            53.72,
            51.38,
            53.34,
            55.44,
            41.65,
            54.68,
            57.85,
            52.9,
            51.03,
            57.37
           ],
           "y": [
            22.69,
            37.86,
            26.13,
            36.37,
            27.29,
            29.45,
            32.69,
            29.7,
            29.05,
            20.57,
            32.07
           ]
          }
         ],
         "name": "8"
        },
        {
         "data": [
          {
           "hoverinfo": "none",
           "marker": {
            "color": "black",
            "size": 10
           },
           "mode": "markers",
           "name": "offense",
           "type": "scatter",
           "x": [
            54.22,
            57.31,
            57.79,
            54.27,
            57.9,
            62.8,
            54.02,
            54.79,
            56.14,
            55.21
           ],
           "y": [
            30.58,
            31.29,
            28.92,
            21.73,
            25.34,
            24.44,
            26.06,
            26.54,
            22.13,
            35.76
           ]
          },
          {
           "hoverinfo": "none",
           "marker": {
            "color": "yellow",
            "opacity": 1,
            "size": 10
           },
           "mode": "markers",
           "name": "ball_carrier",
           "type": "scatter",
           "x": [
            58.76
           ],
           "y": [
            38.77
           ]
          },
          {
           "customdata": [
            [
             42401,
             "Markus Golden",
             "OLB",
             "ARI",
             0.01
            ],
            [
             43986,
             "Antonio Hamilton",
             "CB",
             "ARI",
             0.72
            ],
            [
             44848,
             "Budda Baker",
             "SS",
             "ARI",
             0.02
            ],
            [
             47816,
             "Byron Murphy",
             "CB",
             "ARI",
             0.47
            ],
            [
             47848,
             "Zach Allen",
             "DE",
             "ARI",
             0.01
            ],
            [
             49410,
             "Jalen Thompson",
             "FS",
             "ARI",
             0.05
            ],
            [
             52416,
             "Isaiah Simmons",
             "DB",
             "ARI",
             0.27
            ],
            [
             52522,
             "Leki Fotu",
             "DT",
             "ARI",
             0.01
            ],
            [
             53445,
             "Zaven Collins",
             "OLB",
             "ARI",
             0.03
            ],
            [
             53565,
             "Marco Wilson",
             "CB",
             "ARI",
             0.01
            ],
            [
             54552,
             "Cameron Thomas",
             "OLB",
             "ARI",
             0.09
            ]
           ],
           "hovertemplate": "<b>nflId:</b> %{customdata[0]}<br><b>Player:</b> %{customdata[1]} %{customdata[2]}<br><b>Team:</b> %{customdata[3]}<br><br><b>Tackling Probability:</b> %{customdata[4]}",
           "marker": {
            "cmax": 1,
            "cmin": 0,
            "color": [
             "#fff4ef",
             "#d42121",
             "#fff2ec",
             "#fb7252",
             "#fff3ed",
             "#ffece4",
             "#fcb69b",
             "#fff3ed",
             "#fff0e9",
             "#fff4ee",
             "#fee5d9"
            ],
            "colorbar": {
             "len": 0.85,
             "thickness": 10,
             "title": {
              "text": "defense"
             },
             "x": 1.03,
             "y": 0.4
            },
            "colorscale": [
             [
              0,
              "rgb(255,245,240)"
             ],
             [
              0.125,
              "rgb(254,224,210)"
             ],
             [
              0.25,
              "rgb(252,187,161)"
             ],
             [
              0.375,
              "rgb(252,146,114)"
             ],
             [
              0.5,
              "rgb(251,106,74)"
             ],
             [
              0.625,
              "rgb(239,59,44)"
             ],
             [
              0.75,
              "rgb(203,24,29)"
             ],
             [
              0.875,
              "rgb(165,15,21)"
             ],
             [
              1,
              "rgb(103,0,13)"
             ]
            ],
            "size": 10
           },
           "mode": "markers",
           "name": "defense",
           "showlegend": false,
           "type": "scatter",
           "x": [
            55.88,
            54.26,
            51.22,
            53.54,
            55.38,
            41.97,
            54.81,
            57.84,
            52.85,
            50.9,
            57.28
           ],
           "y": [
            23.02,
            38.24,
            26.77,
            36.92,
            27.49,
            29.87,
            33.39,
            30.04,
            29.62,
            20.98,
            32.49
           ]
          }
         ],
         "name": "9"
        },
        {
         "data": [
          {
           "hoverinfo": "none",
           "marker": {
            "color": "black",
            "size": 10
           },
           "mode": "markers",
           "name": "offense",
           "type": "scatter",
           "x": [
            54.22,
            57.21,
            57.88,
            53.95,
            57.7,
            62.8,
            53.89,
            54.61,
            55.79,
            55.04
           ],
           "y": [
            30.99,
            31.62,
            29.14,
            22.01,
            25.43,
            24.44,
            26.3,
            26.69,
            22.23,
            36.38
           ]
          },
          {
           "hoverinfo": "none",
           "marker": {
            "color": "yellow",
            "opacity": 1,
            "size": 10
           },
           "mode": "markers",
           "name": "ball_carrier",
           "type": "scatter",
           "x": [
            58.6
           ],
           "y": [
            39.2
           ]
          },
          {
           "customdata": [
            [
             42401,
             "Markus Golden",
             "OLB",
             "ARI",
             0.01
            ],
            [
             43986,
             "Antonio Hamilton",
             "CB",
             "ARI",
             0.73
            ],
            [
             44848,
             "Budda Baker",
             "SS",
             "ARI",
             0.02
            ],
            [
             47816,
             "Byron Murphy",
             "CB",
             "ARI",
             0.47
            ],
            [
             47848,
             "Zach Allen",
             "DE",
             "ARI",
             0.02
            ],
            [
             49410,
             "Jalen Thompson",
             "FS",
             "ARI",
             0.06
            ],
            [
             52416,
             "Isaiah Simmons",
             "DB",
             "ARI",
             0.23
            ],
            [
             52522,
             "Leki Fotu",
             "DT",
             "ARI",
             0.03
            ],
            [
             53445,
             "Zaven Collins",
             "OLB",
             "ARI",
             0.05
            ],
            [
             53565,
             "Marco Wilson",
             "CB",
             "ARI",
             0.01
            ],
            [
             54552,
             "Cameron Thomas",
             "OLB",
             "ARI",
             0.1
            ]
           ],
           "hovertemplate": "<b>nflId:</b> %{customdata[0]}<br><b>Player:</b> %{customdata[1]} %{customdata[2]}<br><b>Team:</b> %{customdata[3]}<br><br><b>Tackling Probability:</b> %{customdata[4]}",
           "marker": {
            "cmax": 1,
            "cmin": 0,
            "color": [
             "#fff4ef",
             "#d11e1f",
             "#fff1ea",
             "#fb7555",
             "#fff2ec",
             "#ffece3",
             "#fcbfa7",
             "#fff0e9",
             "#ffece4",
             "#fff4ef",
             "#fee5d9"
            ],
            "colorbar": {
             "len": 0.85,
             "thickness": 10,
             "title": {
              "text": "defense"
             },
             "x": 1.03,
             "y": 0.4
            },
            "colorscale": [
             [
              0,
              "rgb(255,245,240)"
             ],
             [
              0.125,
              "rgb(254,224,210)"
             ],
             [
              0.25,
              "rgb(252,187,161)"
             ],
             [
              0.375,
              "rgb(252,146,114)"
             ],
             [
              0.5,
              "rgb(251,106,74)"
             ],
             [
              0.625,
              "rgb(239,59,44)"
             ],
             [
              0.75,
              "rgb(203,24,29)"
             ],
             [
              0.875,
              "rgb(165,15,21)"
             ],
             [
              1,
              "rgb(103,0,13)"
             ]
            ],
            "size": 10
           },
           "mode": "markers",
           "name": "defense",
           "showlegend": false,
           "type": "scatter",
           "x": [
            55.63,
            54.79,
            51.04,
            53.72,
            55.32,
            42.29,
            54.94,
            57.82,
            52.82,
            50.74,
            57.18
           ],
           "y": [
            23.37,
            38.64,
            27.43,
            37.48,
            27.67,
            30.32,
            34.12,
            30.4,
            30.22,
            21.4,
            32.92
           ]
          }
         ],
         "name": "10"
        },
        {
         "data": [
          {
           "hoverinfo": "none",
           "marker": {
            "color": "black",
            "size": 10
           },
           "mode": "markers",
           "name": "offense",
           "type": "scatter",
           "x": [
            54.23,
            57.12,
            57.99,
            53.62,
            57.54,
            62.78,
            53.77,
            54.43,
            55.44,
            54.88
           ],
           "y": [
            31.37,
            31.94,
            29.36,
            22.29,
            25.52,
            24.44,
            26.51,
            26.82,
            22.32,
            37.02
           ]
          },
          {
           "hoverinfo": "none",
           "marker": {
            "color": "yellow",
            "opacity": 1,
            "size": 10
           },
           "mode": "markers",
           "name": "ball_carrier",
           "type": "scatter",
           "x": [
            58.42
           ],
           "y": [
            39.65
           ]
          },
          {
           "customdata": [
            [
             42401,
             "Markus Golden",
             "OLB",
             "ARI",
             0.01
            ],
            [
             43986,
             "Antonio Hamilton",
             "CB",
             "ARI",
             0.82
            ],
            [
             44848,
             "Budda Baker",
             "SS",
             "ARI",
             0.04
            ],
            [
             47816,
             "Byron Murphy",
             "CB",
             "ARI",
             0.6
            ],
            [
             47848,
             "Zach Allen",
             "DE",
             "ARI",
             0.01
            ],
            [
             49410,
             "Jalen Thompson",
             "FS",
             "ARI",
             0.04
            ],
            [
             52416,
             "Isaiah Simmons",
             "DB",
             "ARI",
             0.16
            ],
            [
             52522,
             "Leki Fotu",
             "DT",
             "ARI",
             0.02
            ],
            [
             53445,
             "Zaven Collins",
             "OLB",
             "ARI",
             0.09
            ],
            [
             53565,
             "Marco Wilson",
             "CB",
             "ARI",
             0.01
            ],
            [
             54552,
             "Cameron Thomas",
             "OLB",
             "ARI",
             0.13
            ]
           ],
           "hovertemplate": "<b>nflId:</b> %{customdata[0]}<br><b>Player:</b> %{customdata[1]} %{customdata[2]}<br><b>Team:</b> %{customdata[3]}<br><br><b>Tackling Probability:</b> %{customdata[4]}",
           "marker": {
            "cmax": 1,
            "cmin": 0,
            "color": [
             "#fff4ef",
             "#b51318",
             "#ffefe8",
             "#f14331",
             "#fff3ed",
             "#ffeee7",
             "#fdd7c6",
             "#fff2ec",
             "#fee7db",
             "#fff4ef",
             "#fedfd0"
            ],
            "colorbar": {
             "len": 0.85,
             "thickness": 10,
             "title": {
              "text": "defense"
             },
             "x": 1.03,
             "y": 0.4
            },
            "colorscale": [
             [
              0,
              "rgb(255,245,240)"
             ],
             [
              0.125,
              "rgb(254,224,210)"
             ],
             [
              0.25,
              "rgb(252,187,161)"
             ],
             [
              0.375,
              "rgb(252,146,114)"
             ],
             [
              0.5,
              "rgb(251,106,74)"
             ],
             [
              0.625,
              "rgb(239,59,44)"
             ],
             [
              0.75,
              "rgb(203,24,29)"
             ],
             [
              0.875,
              "rgb(165,15,21)"
             ],
             [
              1,
              "rgb(103,0,13)"
             ]
            ],
            "size": 10
           },
           "mode": "markers",
           "name": "defense",
           "showlegend": false,
           "type": "scatter",
           "x": [
            55.39,
            55.29,
            50.87,
            53.88,
            55.28,
            42.62,
            55.07,
            57.79,
            52.8,
            50.54,
            57.07
           ],
           "y": [
            23.72,
            39.08,
            28.1,
            38.06,
            27.85,
            30.8,
            34.86,
            30.78,
            30.84,
            21.83,
            33.37
           ]
          }
         ],
         "name": "11"
        },
        {
         "data": [
          {
           "hoverinfo": "none",
           "marker": {
            "color": "black",
            "size": 10
           },
           "mode": "markers",
           "name": "offense",
           "type": "scatter",
           "x": [
            54.28,
            57.04,
            58.1,
            53.31,
            57.4,
            62.77,
            53.67,
            54.29,
            55.06,
            54.74
           ],
           "y": [
            31.74,
            32.26,
            29.56,
            22.57,
            25.6,
            24.43,
            26.71,
            26.94,
            22.41,
            37.66
           ]
          },
          {
           "hoverinfo": "none",
           "marker": {
            "color": "yellow",
            "opacity": 1,
            "size": 10
           },
           "mode": "markers",
           "name": "ball_carrier",
           "type": "scatter",
           "x": [
            58.24
           ],
           "y": [
            40.13
           ]
          },
          {
           "customdata": [
            [
             42401,
             "Markus Golden",
             "OLB",
             "ARI",
             0.01
            ],
            [
             43986,
             "Antonio Hamilton",
             "CB",
             "ARI",
             0.88
            ],
            [
             44848,
             "Budda Baker",
             "SS",
             "ARI",
             0.05
            ],
            [
             47816,
             "Byron Murphy",
             "CB",
             "ARI",
             0.67
            ],
            [
             47848,
             "Zach Allen",
             "DE",
             "ARI",
             0.01
            ],
            [
             49410,
             "Jalen Thompson",
             "FS",
             "ARI",
             0.07
            ],
            [
             52416,
             "Isaiah Simmons",
             "DB",
             "ARI",
             0.27
            ],
            [
             52522,
             "Leki Fotu",
             "DT",
             "ARI",
             0.01
            ],
            [
             53445,
             "Zaven Collins",
             "OLB",
             "ARI",
             0.07
            ],
            [
             53565,
             "Marco Wilson",
             "CB",
             "ARI",
             0
            ],
            [
             54552,
             "Cameron Thomas",
             "OLB",
             "ARI",
             0.1
            ]
           ],
           "hovertemplate": "<b>nflId:</b> %{customdata[0]}<br><b>Player:</b> %{customdata[1]} %{customdata[2]}<br><b>Team:</b> %{customdata[3]}<br><br><b>Tackling Probability:</b> %{customdata[4]}",
           "marker": {
            "cmax": 1,
            "cmin": 0,
            "color": [
             "#fff4ef",
             "#a10e15",
             "#ffede5",
             "#e12d26",
             "#fff4ee",
             "#feeae1",
             "#fcb499",
             "#fff3ed",
             "#fee9df",
             "#fff4ef",
             "#fee5d9"
            ],
            "colorbar": {
             "len": 0.85,
             "thickness": 10,
             "title": {
              "text": "defense"
             },
             "x": 1.03,
             "y": 0.4
            },
            "colorscale": [
             [
              0,
              "rgb(255,245,240)"
             ],
             [
              0.125,
              "rgb(254,224,210)"
             ],
             [
              0.25,
              "rgb(252,187,161)"
             ],
             [
              0.375,
              "rgb(252,146,114)"
             ],
             [
              0.5,
              "rgb(251,106,74)"
             ],
             [
              0.625,
              "rgb(239,59,44)"
             ],
             [
              0.75,
              "rgb(203,24,29)"
             ],
             [
              0.875,
              "rgb(165,15,21)"
             ],
             [
              1,
              "rgb(103,0,13)"
             ]
            ],
            "size": 10
           },
           "mode": "markers",
           "name": "defense",
           "showlegend": false,
           "type": "scatter",
           "x": [
            55.17,
            55.78,
            50.69,
            54.02,
            55.24,
            42.95,
            55.2,
            57.75,
            52.8,
            50.32,
            56.92
           ],
           "y": [
            24.08,
            39.54,
            28.79,
            38.67,
            28.03,
            31.32,
            35.62,
            31.17,
            31.48,
            22.27,
            33.87
           ]
          }
         ],
         "name": "12"
        },
        {
         "data": [
          {
           "hoverinfo": "none",
           "marker": {
            "color": "black",
            "size": 10
           },
           "mode": "markers",
           "name": "offense",
           "type": "scatter",
           "x": [
            54.33,
            56.97,
            58.23,
            53,
            57.28,
            62.74,
            53.56,
            54.17,
            54.69,
            54.62
           ],
           "y": [
            32.09,
            32.58,
            29.74,
            22.84,
            25.69,
            24.41,
            26.89,
            27.05,
            22.5,
            38.32
           ]
          },
          {
           "hoverinfo": "none",
           "marker": {
            "color": "yellow",
            "opacity": 1,
            "size": 10
           },
           "mode": "markers",
           "name": "ball_carrier",
           "type": "scatter",
           "x": [
            58.06
           ],
           "y": [
            40.66
           ]
          },
          {
           "customdata": [
            [
             42401,
             "Markus Golden",
             "OLB",
             "ARI",
             0.01
            ],
            [
             43986,
             "Antonio Hamilton",
             "CB",
             "ARI",
             0.83
            ],
            [
             44848,
             "Budda Baker",
             "SS",
             "ARI",
             0.04
            ],
            [
             47816,
             "Byron Murphy",
             "CB",
             "ARI",
             0.67
            ],
            [
             47848,
             "Zach Allen",
             "DE",
             "ARI",
             0.01
            ],
            [
             49410,
             "Jalen Thompson",
             "FS",
             "ARI",
             0.08
            ],
            [
             52416,
             "Isaiah Simmons",
             "DB",
             "ARI",
             0.21
            ],
            [
             52522,
             "Leki Fotu",
             "DT",
             "ARI",
             0.02
            ],
            [
             53445,
             "Zaven Collins",
             "OLB",
             "ARI",
             0.06
            ],
            [
             53565,
             "Marco Wilson",
             "CB",
             "ARI",
             0.01
            ],
            [
             54552,
             "Cameron Thomas",
             "OLB",
             "ARI",
             0.04
            ]
           ],
           "hovertemplate": "<b>nflId:</b> %{customdata[0]}<br><b>Player:</b> %{customdata[1]} %{customdata[2]}<br><b>Team:</b> %{customdata[3]}<br><br><b>Tackling Probability:</b> %{customdata[4]}",
           "marker": {
            "cmax": 1,
            "cmin": 0,
            "color": [
             "#fff4ef",
             "#b21218",
             "#ffeee7",
             "#e22e27",
             "#fff3ed",
             "#fee8dd",
             "#fdc6b0",
             "#fff2eb",
             "#feeae1",
             "#fff4ef",
             "#ffeee7"
            ],
            "colorbar": {
             "len": 0.85,
             "thickness": 10,
             "title": {
              "text": "defense"
             },
             "x": 1.03,
             "y": 0.4
            },
            "colorscale": [
             [
              0,
              "rgb(255,245,240)"
             ],
             [
              0.125,
              "rgb(254,224,210)"
             ],
             [
              0.25,
              "rgb(252,187,161)"
             ],
             [
              0.375,
              "rgb(252,146,114)"
             ],
             [
              0.5,
              "rgb(251,106,74)"
             ],
             [
              0.625,
              "rgb(239,59,44)"
             ],
             [
              0.75,
              "rgb(203,24,29)"
             ],
             [
              0.875,
              "rgb(165,15,21)"
             ],
             [
              1,
              "rgb(103,0,13)"
             ]
            ],
            "size": 10
           },
           "mode": "markers",
           "name": "defense",
           "showlegend": false,
           "type": "scatter",
           "x": [
            54.97,
            56.23,
            50.52,
            54.15,
            55.2,
            43.27,
            55.32,
            57.7,
            52.81,
            50.08,
            56.79
           ],
           "y": [
            24.45,
            40.06,
            29.5,
            39.3,
            28.21,
            31.86,
            36.41,
            31.6,
            32.14,
            22.71,
            34.38
           ]
          }
         ],
         "name": "13"
        },
        {
         "data": [
          {
           "hoverinfo": "none",
           "marker": {
            "color": "black",
            "size": 10
           },
           "mode": "markers",
           "name": "offense",
           "type": "scatter",
           "x": [
            54.41,
            56.91,
            58.34,
            52.71,
            57.2,
            62.71,
            53.46,
            54.06,
            54.32,
            54.52
           ],
           "y": [
            32.43,
            32.89,
            29.91,
            23.1,
            25.78,
            24.4,
            27.05,
            27.15,
            22.59,
            38.99
           ]
          },
          {
           "hoverinfo": "none",
           "marker": {
            "color": "yellow",
            "opacity": 1,
            "size": 10
           },
           "mode": "markers",
           "name": "ball_carrier",
           "type": "scatter",
           "x": [
            57.9
           ],
           "y": [
            41.22
           ]
          },
          {
           "customdata": [
            [
             42401,
             "Markus Golden",
             "OLB",
             "ARI",
             0
            ],
            [
             43986,
             "Antonio Hamilton",
             "CB",
             "ARI",
             0.81
            ],
            [
             44848,
             "Budda Baker",
             "SS",
             "ARI",
             0.03
            ],
            [
             47816,
             "Byron Murphy",
             "CB",
             "ARI",
             0.76
            ],
            [
             47848,
             "Zach Allen",
             "DE",
             "ARI",
             0.01
            ],
            [
             49410,
             "Jalen Thompson",
             "FS",
             "ARI",
             0.05
            ],
            [
             52416,
             "Isaiah Simmons",
             "DB",
             "ARI",
             0.27
            ],
            [
             52522,
             "Leki Fotu",
             "DT",
             "ARI",
             0.02
            ],
            [
             53445,
             "Zaven Collins",
             "OLB",
             "ARI",
             0.05
            ],
            [
             53565,
             "Marco Wilson",
             "CB",
             "ARI",
             0
            ],
            [
             54552,
             "Cameron Thomas",
             "OLB",
             "ARI",
             0.05
            ]
           ],
           "hovertemplate": "<b>nflId:</b> %{customdata[0]}<br><b>Player:</b> %{customdata[1]} %{customdata[2]}<br><b>Team:</b> %{customdata[3]}<br><br><b>Tackling Probability:</b> %{customdata[4]}",
           "marker": {
            "cmax": 1,
            "cmin": 0,
            "color": [
             "#fff4ef",
             "#b91419",
             "#fff1ea",
             "#c8171c",
             "#fff4ee",
             "#ffede5",
             "#fcb69b",
             "#fff1ea",
             "#ffece4",
             "#fff5f0",
             "#ffede5"
            ],
            "colorbar": {
             "len": 0.85,
             "thickness": 10,
             "title": {
              "text": "defense"
             },
             "x": 1.03,
             "y": 0.4
            },
            "colorscale": [
             [
              0,
              "rgb(255,245,240)"
             ],
             [
              0.125,
              "rgb(254,224,210)"
             ],
             [
              0.25,
              "rgb(252,187,161)"
             ],
             [
              0.375,
              "rgb(252,146,114)"
             ],
             [
              0.5,
              "rgb(251,106,74)"
             ],
             [
              0.625,
              "rgb(239,59,44)"
             ],
             [
              0.75,
              "rgb(203,24,29)"
             ],
             [
              0.875,
              "rgb(165,15,21)"
             ],
             [
              1,
              "rgb(103,0,13)"
             ]
            ],
            "size": 10
           },
           "mode": "markers",
           "name": "defense",
           "showlegend": false,
           "type": "scatter",
           "x": [
            54.8,
            56.62,
            50.34,
            54.27,
            55.17,
            43.59,
            55.43,
            57.65,
            52.82,
            49.83,
            56.65
           ],
           "y": [
            24.83,
            40.58,
            30.23,
            39.94,
            28.39,
            32.43,
            37.2,
            32.05,
            32.82,
            23.15,
            34.91
           ]
          }
         ],
         "name": "14"
        },
        {
         "data": [
          {
           "hoverinfo": "none",
           "marker": {
            "color": "black",
            "size": 10
           },
           "mode": "markers",
           "name": "offense",
           "type": "scatter",
           "x": [
            54.49,
            56.86,
            58.46,
            52.44,
            57.13,
            62.67,
            53.35,
            53.98,
            53.95,
            54.44
           ],
           "y": [
            32.74,
            33.19,
            30.07,
            23.34,
            25.86,
            24.39,
            27.21,
            27.24,
            22.69,
            39.65
           ]
          },
          {
           "hoverinfo": "none",
           "marker": {
            "color": "yellow",
            "opacity": 1,
            "size": 10
           },
           "mode": "markers",
           "name": "ball_carrier",
           "type": "scatter",
           "x": [
            57.75
           ],
           "y": [
            41.8
           ]
          },
          {
           "customdata": [
            [
             42401,
             "Markus Golden",
             "OLB",
             "ARI",
             0
            ],
            [
             43986,
             "Antonio Hamilton",
             "CB",
             "ARI",
             0.64
            ],
            [
             44848,
             "Budda Baker",
             "SS",
             "ARI",
             0.03
            ],
            [
             47816,
             "Byron Murphy",
             "CB",
             "ARI",
             0.71
            ],
            [
             47848,
             "Zach Allen",
             "DE",
             "ARI",
             0
            ],
            [
             49410,
             "Jalen Thompson",
             "FS",
             "ARI",
             0.05
            ],
            [
             52416,
             "Isaiah Simmons",
             "DB",
             "ARI",
             0.39
            ],
            [
             52522,
             "Leki Fotu",
             "DT",
             "ARI",
             0.03
            ],
            [
             53445,
             "Zaven Collins",
             "OLB",
             "ARI",
             0.04
            ],
            [
             53565,
             "Marco Wilson",
             "CB",
             "ARI",
             0
            ],
            [
             54552,
             "Cameron Thomas",
             "OLB",
             "ARI",
             0.04
            ]
           ],
           "hovertemplate": "<b>nflId:</b> %{customdata[0]}<br><b>Player:</b> %{customdata[1]} %{customdata[2]}<br><b>Team:</b> %{customdata[3]}<br><br><b>Tackling Probability:</b> %{customdata[4]}",
           "marker": {
            "cmax": 1,
            "cmin": 0,
            "color": [
             "#fff5f0",
             "#eb372a",
             "#fff0e8",
             "#d82422",
             "#fff5f0",
             "#ffece4",
             "#fc8d6d",
             "#fff1ea",
             "#ffeee7",
             "#fff5f0",
             "#ffeee7"
            ],
            "colorbar": {
             "len": 0.85,
             "thickness": 10,
             "title": {
              "text": "defense"
             },
             "x": 1.03,
             "y": 0.4
            },
            "colorscale": [
             [
              0,
              "rgb(255,245,240)"
             ],
             [
              0.125,
              "rgb(254,224,210)"
             ],
             [
              0.25,
              "rgb(252,187,161)"
             ],
             [
              0.375,
              "rgb(252,146,114)"
             ],
             [
              0.5,
              "rgb(251,106,74)"
             ],
             [
              0.625,
              "rgb(239,59,44)"
             ],
             [
              0.75,
              "rgb(203,24,29)"
             ],
             [
              0.875,
              "rgb(165,15,21)"
             ],
             [
              1,
              "rgb(103,0,13)"
             ]
            ],
            "size": 10
           },
           "mode": "markers",
           "name": "defense",
           "showlegend": false,
           "type": "scatter",
           "x": [
            54.65,
            56.99,
            50.18,
            54.39,
            55.14,
            43.88,
            55.53,
            57.59,
            52.82,
            49.56,
            56.5
           ],
           "y": [
            25.21,
            41.1,
            30.97,
            40.61,
            28.57,
            33.03,
            38.01,
            32.52,
            33.5,
            23.6,
            35.48
           ]
          }
         ],
         "name": "15"
        },
        {
         "data": [
          {
           "hoverinfo": "none",
           "marker": {
            "color": "black",
            "size": 10
           },
           "mode": "markers",
           "name": "offense",
           "type": "scatter",
           "x": [
            54.57,
            56.81,
            58.57,
            52.18,
            57.08,
            62.63,
            53.26,
            53.92,
            53.59,
            54.37
           ],
           "y": [
            33.05,
            33.5,
            30.22,
            23.57,
            25.95,
            24.37,
            27.35,
            27.31,
            22.79,
            40.3
           ]
          },
          {
           "hoverinfo": "none",
           "marker": {
            "color": "yellow",
            "opacity": 1,
            "size": 10
           },
           "mode": "markers",
           "name": "ball_carrier",
           "type": "scatter",
           "x": [
            57.61
           ],
           "y": [
            42.41
           ]
          },
          {
           "customdata": [
            [
             42401,
             "Markus Golden",
             "OLB",
             "ARI",
             0
            ],
            [
             43986,
             "Antonio Hamilton",
             "CB",
             "ARI",
             0.67
            ],
            [
             44848,
             "Budda Baker",
             "SS",
             "ARI",
             0.02
            ],
            [
             47816,
             "Byron Murphy",
             "CB",
             "ARI",
             0.83
            ],
            [
             47848,
             "Zach Allen",
             "DE",
             "ARI",
             0
            ],
            [
             49410,
             "Jalen Thompson",
             "FS",
             "ARI",
             0.05
            ],
            [
             52416,
             "Isaiah Simmons",
             "DB",
             "ARI",
             0.37
            ],
            [
             52522,
             "Leki Fotu",
             "DT",
             "ARI",
             0.01
            ],
            [
             53445,
             "Zaven Collins",
             "OLB",
             "ARI",
             0.03
            ],
            [
             53565,
             "Marco Wilson",
             "CB",
             "ARI",
             0
            ],
            [
             54552,
             "Cameron Thomas",
             "OLB",
             "ARI",
             0.05
            ]
           ],
           "hovertemplate": "<b>nflId:</b> %{customdata[0]}<br><b>Player:</b> %{customdata[1]} %{customdata[2]}<br><b>Team:</b> %{customdata[3]}<br><br><b>Tackling Probability:</b> %{customdata[4]}",
           "marker": {
            "cmax": 1,
            "cmin": 0,
            "color": [
             "#fff5f0",
             "#e12d26",
             "#fff2eb",
             "#b21218",
             "#fff5f0",
             "#ffece4",
             "#fc9373",
             "#fff4ef",
             "#fff0e8",
             "#fff5f0",
             "#ffece4"
            ],
            "colorbar": {
             "len": 0.85,
             "thickness": 10,
             "title": {
              "text": "defense"
             },
             "x": 1.03,
             "y": 0.4
            },
            "colorscale": [
             [
              0,
              "rgb(255,245,240)"
             ],
             [
              0.125,
              "rgb(254,224,210)"
             ],
             [
              0.25,
              "rgb(252,187,161)"
             ],
             [
              0.375,
              "rgb(252,146,114)"
             ],
             [
              0.5,
              "rgb(251,106,74)"
             ],
             [
              0.625,
              "rgb(239,59,44)"
             ],
             [
              0.75,
              "rgb(203,24,29)"
             ],
             [
              0.875,
              "rgb(165,15,21)"
             ],
             [
              1,
              "rgb(103,0,13)"
             ]
            ],
            "size": 10
           },
           "mode": "markers",
           "name": "defense",
           "showlegend": false,
           "type": "scatter",
           "x": [
            54.53,
            57.33,
            50.02,
            54.52,
            55.12,
            44.16,
            55.63,
            57.53,
            52.81,
            49.3,
            56.35
           ],
           "y": [
            25.59,
            41.61,
            31.72,
            41.29,
            28.74,
            33.65,
            38.83,
            33.02,
            34.19,
            24.05,
            36.06
           ]
          }
         ],
         "name": "16"
        },
        {
         "data": [
          {
           "hoverinfo": "none",
           "marker": {
            "color": "black",
            "size": 10
           },
           "mode": "markers",
           "name": "offense",
           "type": "scatter",
           "x": [
            54.65,
            56.77,
            58.68,
            51.94,
            57.04,
            62.58,
            53.17,
            53.86,
            53.24,
            54.36
           ],
           "y": [
            33.32,
            33.79,
            30.36,
            23.78,
            26.05,
            24.36,
            27.49,
            27.38,
            22.9,
            40.94
           ]
          },
          {
           "hoverinfo": "none",
           "marker": {
            "color": "yellow",
            "opacity": 1,
            "size": 10
           },
           "mode": "markers",
           "name": "ball_carrier",
           "type": "scatter",
           "x": [
            57.47
           ],
           "y": [
            43.03
           ]
          },
          {
           "customdata": [
            [
             42401,
             "Markus Golden",
             "OLB",
             "ARI",
             0
            ],
            [
             43986,
             "Antonio Hamilton",
             "CB",
             "ARI",
             0.49
            ],
            [
             44848,
             "Budda Baker",
             "SS",
             "ARI",
             0.02
            ],
            [
             47816,
             "Byron Murphy",
             "CB",
             "ARI",
             0.81
            ],
            [
             47848,
             "Zach Allen",
             "DE",
             "ARI",
             0
            ],
            [
             49410,
             "Jalen Thompson",
             "FS",
             "ARI",
             0.04
            ],
            [
             52416,
             "Isaiah Simmons",
             "DB",
             "ARI",
             0.36
            ],
            [
             52522,
             "Leki Fotu",
             "DT",
             "ARI",
             0.01
            ],
            [
             53445,
             "Zaven Collins",
             "OLB",
             "ARI",
             0.04
            ],
            [
             53565,
             "Marco Wilson",
             "CB",
             "ARI",
             0
            ],
            [
             54552,
             "Cameron Thomas",
             "OLB",
             "ARI",
             0.04
            ]
           ],
           "hovertemplate": "<b>nflId:</b> %{customdata[0]}<br><b>Player:</b> %{customdata[1]} %{customdata[2]}<br><b>Team:</b> %{customdata[3]}<br><br><b>Tackling Probability:</b> %{customdata[4]}",
           "marker": {
            "cmax": 1,
            "cmin": 0,
            "color": [
             "#fff5f0",
             "#fb6c4c",
             "#fff2eb",
             "#b71319",
             "#fff5f0",
             "#ffeee6",
             "#fc9879",
             "#fff4ef",
             "#ffefe8",
             "#fff5f0",
             "#ffeee7"
            ],
            "colorbar": {
             "len": 0.85,
             "thickness": 10,
             "title": {
              "text": "defense"
             },
             "x": 1.03,
             "y": 0.4
            },
            "colorscale": [
             [
              0,
              "rgb(255,245,240)"
             ],
             [
              0.125,
              "rgb(254,224,210)"
             ],
             [
              0.25,
              "rgb(252,187,161)"
             ],
             [
              0.375,
              "rgb(252,146,114)"
             ],
             [
              0.5,
              "rgb(251,106,74)"
             ],
             [
              0.625,
              "rgb(239,59,44)"
             ],
             [
              0.75,
              "rgb(203,24,29)"
             ],
             [
              0.875,
              "rgb(165,15,21)"
             ],
             [
              1,
              "rgb(103,0,13)"
             ]
            ],
            "size": 10
           },
           "mode": "markers",
           "name": "defense",
           "showlegend": false,
           "type": "scatter",
           "x": [
            54.43,
            57.61,
            49.88,
            54.65,
            55.11,
            44.42,
            55.71,
            57.47,
            52.79,
            49.04,
            56.2
           ],
           "y": [
            25.97,
            42.09,
            32.49,
            41.98,
            28.93,
            34.28,
            39.66,
            33.52,
            34.88,
            24.49,
            36.67
           ]
          }
         ],
         "name": "17"
        },
        {
         "data": [
          {
           "hoverinfo": "none",
           "marker": {
            "color": "black",
            "size": 10
           },
           "mode": "markers",
           "name": "offense",
           "type": "scatter",
           "x": [
            54.74,
            56.74,
            58.79,
            51.72,
            57.01,
            62.54,
            53.09,
            53.82,
            52.9,
            54.36
           ],
           "y": [
            33.59,
            34.08,
            30.49,
            23.97,
            26.14,
            24.36,
            27.61,
            27.43,
            23.01,
            41.58
           ]
          },
          {
           "hoverinfo": "none",
           "marker": {
            "color": "yellow",
            "opacity": 1,
            "size": 10
           },
           "mode": "markers",
           "name": "ball_carrier",
           "type": "scatter",
           "x": [
            57.32
           ],
           "y": [
            43.67
           ]
          },
          {
           "customdata": [
            [
             42401,
             "Markus Golden",
             "OLB",
             "ARI",
             0
            ],
            [
             43986,
             "Antonio Hamilton",
             "CB",
             "ARI",
             0.32
            ],
            [
             44848,
             "Budda Baker",
             "SS",
             "ARI",
             0.01
            ],
            [
             47816,
             "Byron Murphy",
             "CB",
             "ARI",
             0.88
            ],
            [
             47848,
             "Zach Allen",
             "DE",
             "ARI",
             0
            ],
            [
             49410,
             "Jalen Thompson",
             "FS",
             "ARI",
             0.04
            ],
            [
             52416,
             "Isaiah Simmons",
             "DB",
             "ARI",
             0.33
            ],
            [
             52522,
             "Leki Fotu",
             "DT",
             "ARI",
             0.01
            ],
            [
             53445,
             "Zaven Collins",
             "OLB",
             "ARI",
             0.03
            ],
            [
             53565,
             "Marco Wilson",
             "CB",
             "ARI",
             0
            ],
            [
             54552,
             "Cameron Thomas",
             "OLB",
             "ARI",
             0.05
            ]
           ],
           "hovertemplate": "<b>nflId:</b> %{customdata[0]}<br><b>Player:</b> %{customdata[1]} %{customdata[2]}<br><b>Team:</b> %{customdata[3]}<br><br><b>Tackling Probability:</b> %{customdata[4]}",
           "marker": {
            "cmax": 1,
            "cmin": 0,
            "color": [
             "#fff5f0",
             "#fca588",
             "#fff3ed",
             "#a10e15",
             "#fff5f0",
             "#ffeee7",
             "#fca082",
             "#fff4ef",
             "#fff0e8",
             "#fff5f0",
             "#ffece4"
            ],
            "colorbar": {
             "len": 0.85,
             "thickness": 10,
             "title": {
              "text": "defense"
             },
             "x": 1.03,
             "y": 0.4
            },
            "colorscale": [
             [
              0,
              "rgb(255,245,240)"
             ],
             [
              0.125,
              "rgb(254,224,210)"
             ],
             [
              0.25,
              "rgb(252,187,161)"
             ],
             [
              0.375,
              "rgb(252,146,114)"
             ],
             [
              0.5,
              "rgb(251,106,74)"
             ],
             [
              0.625,
              "rgb(239,59,44)"
             ],
             [
              0.75,
              "rgb(203,24,29)"
             ],
             [
              0.875,
              "rgb(165,15,21)"
             ],
             [
              1,
              "rgb(103,0,13)"
             ]
            ],
            "size": 10
           },
           "mode": "markers",
           "name": "defense",
           "showlegend": false,
           "type": "scatter",
           "x": [
            54.36,
            57.86,
            49.76,
            54.8,
            55.09,
            44.66,
            55.77,
            57.42,
            52.76,
            48.78,
            56.06
           ],
           "y": [
            26.34,
            42.56,
            33.26,
            42.68,
            29.11,
            34.93,
            40.51,
            34,
            35.58,
            24.94,
            37.31
           ]
          }
         ],
         "name": "18"
        },
        {
         "data": [
          {
           "hoverinfo": "none",
           "marker": {
            "color": "black",
            "size": 10
           },
           "mode": "markers",
           "name": "offense",
           "type": "scatter",
           "x": [
            54.83,
            56.71,
            58.89,
            51.52,
            56.98,
            62.49,
            53.01,
            53.77,
            52.57,
            54.39
           ],
           "y": [
            33.85,
            34.36,
            30.63,
            24.15,
            26.22,
            24.37,
            27.73,
            27.48,
            23.14,
            42.22
           ]
          },
          {
           "hoverinfo": "none",
           "marker": {
            "color": "yellow",
            "opacity": 1,
            "size": 10
           },
           "mode": "markers",
           "name": "ball_carrier",
           "type": "scatter",
           "x": [
            57.17
           ],
           "y": [
            44.32
           ]
          },
          {
           "customdata": [
            [
             42401,
             "Markus Golden",
             "OLB",
             "ARI",
             0
            ],
            [
             43986,
             "Antonio Hamilton",
             "CB",
             "ARI",
             0.29
            ],
            [
             44848,
             "Budda Baker",
             "SS",
             "ARI",
             0.01
            ],
            [
             47816,
             "Byron Murphy",
             "CB",
             "ARI",
             0.87
            ],
            [
             47848,
             "Zach Allen",
             "DE",
             "ARI",
             0
            ],
            [
             49410,
             "Jalen Thompson",
             "FS",
             "ARI",
             0.04
            ],
            [
             52416,
             "Isaiah Simmons",
             "DB",
             "ARI",
             0.28
            ],
            [
             52522,
             "Leki Fotu",
             "DT",
             "ARI",
             0.01
            ],
            [
             53445,
             "Zaven Collins",
             "OLB",
             "ARI",
             0.04
            ],
            [
             53565,
             "Marco Wilson",
             "CB",
             "ARI",
             0
            ],
            [
             54552,
             "Cameron Thomas",
             "OLB",
             "ARI",
             0.05
            ]
           ],
           "hovertemplate": "<b>nflId:</b> %{customdata[0]}<br><b>Player:</b> %{customdata[1]} %{customdata[2]}<br><b>Team:</b> %{customdata[3]}<br><br><b>Tackling Probability:</b> %{customdata[4]}",
           "marker": {
            "cmax": 1,
            "cmin": 0,
            "color": [
             "#fff5f0",
             "#fcaf93",
             "#fff4ee",
             "#a60f15",
             "#fff5f0",
             "#ffefe8",
             "#fcb095",
             "#fff4ef",
             "#ffeee7",
             "#fff5f0",
             "#ffeee6"
            ],
            "colorbar": {
             "len": 0.85,
             "thickness": 10,
             "title": {
              "text": "defense"
             },
             "x": 1.03,
             "y": 0.4
            },
            "colorscale": [
             [
              0,
              "rgb(255,245,240)"
             ],
             [
              0.125,
              "rgb(254,224,210)"
             ],
             [
              0.25,
              "rgb(252,187,161)"
             ],
             [
              0.375,
              "rgb(252,146,114)"
             ],
             [
              0.5,
              "rgb(251,106,74)"
             ],
             [
              0.625,
              "rgb(239,59,44)"
             ],
             [
              0.75,
              "rgb(203,24,29)"
             ],
             [
              0.875,
              "rgb(165,15,21)"
             ],
             [
              1,
              "rgb(103,0,13)"
             ]
            ],
            "size": 10
           },
           "mode": "markers",
           "name": "defense",
           "showlegend": false,
           "type": "scatter",
           "x": [
            54.29,
            58.07,
            49.65,
            54.95,
            55.07,
            44.88,
            55.83,
            57.36,
            52.71,
            48.52,
            55.93
           ],
           "y": [
            26.7,
            43.01,
            34.04,
            43.41,
            29.29,
            35.6,
            41.37,
            34.52,
            36.28,
            25.39,
            37.99
           ]
          }
         ],
         "name": "19"
        },
        {
         "data": [
          {
           "hoverinfo": "none",
           "marker": {
            "color": "black",
            "size": 10
           },
           "mode": "markers",
           "name": "offense",
           "type": "scatter",
           "x": [
            54.92,
            56.68,
            58.98,
            51.33,
            56.95,
            62.46,
            52.94,
            53.73,
            52.27,
            54.44
           ],
           "y": [
            34.09,
            34.63,
            30.77,
            24.32,
            26.31,
            24.39,
            27.85,
            27.52,
            23.28,
            42.85
           ]
          },
          {
           "hoverinfo": "none",
           "marker": {
            "color": "yellow",
            "opacity": 1,
            "size": 10
           },
           "mode": "markers",
           "name": "ball_carrier",
           "type": "scatter",
           "x": [
            57.01
           ],
           "y": [
            44.99
           ]
          },
          {
           "customdata": [
            [
             42401,
             "Markus Golden",
             "OLB",
             "ARI",
             0
            ],
            [
             43986,
             "Antonio Hamilton",
             "CB",
             "ARI",
             0.16
            ],
            [
             44848,
             "Budda Baker",
             "SS",
             "ARI",
             0.01
            ],
            [
             47816,
             "Byron Murphy",
             "CB",
             "ARI",
             0.89
            ],
            [
             47848,
             "Zach Allen",
             "DE",
             "ARI",
             0
            ],
            [
             49410,
             "Jalen Thompson",
             "FS",
             "ARI",
             0.04
            ],
            [
             52416,
             "Isaiah Simmons",
             "DB",
             "ARI",
             0.14
            ],
            [
             52522,
             "Leki Fotu",
             "DT",
             "ARI",
             0.01
            ],
            [
             53445,
             "Zaven Collins",
             "OLB",
             "ARI",
             0.04
            ],
            [
             53565,
             "Marco Wilson",
             "CB",
             "ARI",
             0
            ],
            [
             54552,
             "Cameron Thomas",
             "OLB",
             "ARI",
             0.04
            ]
           ],
           "hovertemplate": "<b>nflId:</b> %{customdata[0]}<br><b>Player:</b> %{customdata[1]} %{customdata[2]}<br><b>Team:</b> %{customdata[3]}<br><br><b>Tackling Probability:</b> %{customdata[4]}",
           "marker": {
            "cmax": 1,
            "cmin": 0,
            "color": [
             "#fff5f0",
             "#fdd5c4",
             "#fff4ee",
             "#9d0d14",
             "#fff5f0",
             "#ffeee7",
             "#fedbcc",
             "#fff4ef",
             "#ffeee7",
             "#fff5f0",
             "#ffeee7"
            ],
            "colorbar": {
             "len": 0.85,
             "thickness": 10,
             "title": {
              "text": "defense"
             },
             "x": 1.03,
             "y": 0.4
            },
            "colorscale": [
             [
              0,
              "rgb(255,245,240)"
             ],
             [
              0.125,
              "rgb(254,224,210)"
             ],
             [
              0.25,
              "rgb(252,187,161)"
             ],
             [
              0.375,
              "rgb(252,146,114)"
             ],
             [
              0.5,
              "rgb(251,106,74)"
             ],
             [
              0.625,
              "rgb(239,59,44)"
             ],
             [
              0.75,
              "rgb(203,24,29)"
             ],
             [
              0.875,
              "rgb(165,15,21)"
             ],
             [
              1,
              "rgb(103,0,13)"
             ]
            ],
            "size": 10
           },
           "mode": "markers",
           "name": "defense",
           "showlegend": false,
           "type": "scatter",
           "x": [
            54.24,
            58.25,
            49.54,
            55.12,
            55.05,
            45.06,
            55.88,
            57.3,
            52.64,
            48.27,
            55.8
           ],
           "y": [
            27.05,
            43.42,
            34.82,
            44.14,
            29.47,
            36.29,
            42.24,
            35.07,
            36.98,
            25.84,
            38.68
           ]
          }
         ],
         "name": "20"
        },
        {
         "data": [
          {
           "hoverinfo": "none",
           "marker": {
            "color": "black",
            "size": 10
           },
           "mode": "markers",
           "name": "offense",
           "type": "scatter",
           "x": [
            55,
            56.64,
            59.07,
            51.16,
            56.92,
            62.42,
            52.87,
            53.67,
            51.99,
            54.5
           ],
           "y": [
            34.31,
            34.9,
            30.9,
            24.48,
            26.4,
            24.41,
            27.96,
            27.55,
            23.42,
            43.48
           ]
          },
          {
           "hoverinfo": "none",
           "marker": {
            "color": "yellow",
            "opacity": 1,
            "size": 10
           },
           "mode": "markers",
           "name": "ball_carrier",
           "type": "scatter",
           "x": [
            56.83
           ],
           "y": [
            45.68
           ]
          },
          {
           "customdata": [
            [
             42401,
             "Markus Golden",
             "OLB",
             "ARI",
             0
            ],
            [
             43986,
             "Antonio Hamilton",
             "CB",
             "ARI",
             0.07
            ],
            [
             44848,
             "Budda Baker",
             "SS",
             "ARI",
             0.02
            ],
            [
             47816,
             "Byron Murphy",
             "CB",
             "ARI",
             0.88
            ],
            [
             47848,
             "Zach Allen",
             "DE",
             "ARI",
             0
            ],
            [
             49410,
             "Jalen Thompson",
             "FS",
             "ARI",
             0.04
            ],
            [
             52416,
             "Isaiah Simmons",
             "DB",
             "ARI",
             0.16
            ],
            [
             52522,
             "Leki Fotu",
             "DT",
             "ARI",
             0.01
            ],
            [
             53445,
             "Zaven Collins",
             "OLB",
             "ARI",
             0.04
            ],
            [
             53565,
             "Marco Wilson",
             "CB",
             "ARI",
             0
            ],
            [
             54552,
             "Cameron Thomas",
             "OLB",
             "ARI",
             0.02
            ]
           ],
           "hovertemplate": "<b>nflId:</b> %{customdata[0]}<br><b>Player:</b> %{customdata[1]} %{customdata[2]}<br><b>Team:</b> %{customdata[3]}<br><br><b>Tackling Probability:</b> %{customdata[4]}",
           "marker": {
            "cmax": 1,
            "cmin": 0,
            "color": [
             "#fff5f0",
             "#fee9df",
             "#fff2ec",
             "#9f0e14",
             "#fff5f0",
             "#ffefe8",
             "#fdd4c2",
             "#fff4ef",
             "#ffeee7",
             "#fff5f0",
             "#fff2eb"
            ],
            "colorbar": {
             "len": 0.85,
             "thickness": 10,
             "title": {
              "text": "defense"
             },
             "x": 1.03,
             "y": 0.4
            },
            "colorscale": [
             [
              0,
              "rgb(255,245,240)"
             ],
             [
              0.125,
              "rgb(254,224,210)"
             ],
             [
              0.25,
              "rgb(252,187,161)"
             ],
             [
              0.375,
              "rgb(252,146,114)"
             ],
             [
              0.5,
              "rgb(251,106,74)"
             ],
             [
              0.625,
              "rgb(239,59,44)"
             ],
             [
              0.75,
              "rgb(203,24,29)"
             ],
             [
              0.875,
              "rgb(165,15,21)"
             ],
             [
              1,
              "rgb(103,0,13)"
             ]
            ],
            "size": 10
           },
           "mode": "markers",
           "name": "defense",
           "showlegend": false,
           "type": "scatter",
           "x": [
            54.2,
            58.39,
            49.45,
            55.3,
            55.03,
            45.23,
            55.92,
            57.24,
            52.55,
            48.03,
            55.68
           ],
           "y": [
            27.4,
            43.8,
            35.62,
            44.87,
            29.65,
            36.98,
            43.13,
            35.63,
            37.67,
            26.29,
            39.39
           ]
          }
         ],
         "name": "21"
        },
        {
         "data": [
          {
           "hoverinfo": "none",
           "marker": {
            "color": "black",
            "size": 10
           },
           "mode": "markers",
           "name": "offense",
           "type": "scatter",
           "x": [
            55.08,
            56.61,
            59.14,
            51.01,
            56.9,
            62.38,
            52.8,
            53.61,
            51.73,
            54.59
           ],
           "y": [
            34.5,
            35.15,
            31.02,
            24.63,
            26.47,
            24.45,
            28.07,
            27.57,
            23.57,
            44.1
           ]
          },
          {
           "hoverinfo": "none",
           "marker": {
            "color": "yellow",
            "opacity": 1,
            "size": 10
           },
           "mode": "markers",
           "name": "ball_carrier",
           "type": "scatter",
           "x": [
            56.64
           ],
           "y": [
            46.37
           ]
          },
          {
           "customdata": [
            [
             42401,
             "Markus Golden",
             "OLB",
             "ARI",
             0
            ],
            [
             43986,
             "Antonio Hamilton",
             "CB",
             "ARI",
             0.05
            ],
            [
             44848,
             "Budda Baker",
             "SS",
             "ARI",
             0.02
            ],
            [
             47816,
             "Byron Murphy",
             "CB",
             "ARI",
             0.85
            ],
            [
             47848,
             "Zach Allen",
             "DE",
             "ARI",
             0
            ],
            [
             49410,
             "Jalen Thompson",
             "FS",
             "ARI",
             0.03
            ],
            [
             52416,
             "Isaiah Simmons",
             "DB",
             "ARI",
             0.26
            ],
            [
             52522,
             "Leki Fotu",
             "DT",
             "ARI",
             0.01
            ],
            [
             53445,
             "Zaven Collins",
             "OLB",
             "ARI",
             0.04
            ],
            [
             53565,
             "Marco Wilson",
             "CB",
             "ARI",
             0
            ],
            [
             54552,
             "Cameron Thomas",
             "OLB",
             "ARI",
             0.04
            ]
           ],
           "hovertemplate": "<b>nflId:</b> %{customdata[0]}<br><b>Player:</b> %{customdata[1]} %{customdata[2]}<br><b>Team:</b> %{customdata[3]}<br><br><b>Tackling Probability:</b> %{customdata[4]}",
           "marker": {
            "cmax": 1,
            "cmin": 0,
            "color": [
             "#fff5f0",
             "#ffeee6",
             "#fff2ec",
             "#ab1016",
             "#fff5f0",
             "#fff0e9",
             "#fcb79c",
             "#fff4ee",
             "#ffefe8",
             "#fff5f0",
             "#ffeee7"
            ],
            "colorbar": {
             "len": 0.85,
             "thickness": 10,
             "title": {
              "text": "defense"
             },
             "x": 1.03,
             "y": 0.4
            },
            "colorscale": [
             [
              0,
              "rgb(255,245,240)"
             ],
             [
              0.125,
              "rgb(254,224,210)"
             ],
             [
              0.25,
              "rgb(252,187,161)"
             ],
             [
              0.375,
              "rgb(252,146,114)"
             ],
             [
              0.5,
              "rgb(251,106,74)"
             ],
             [
              0.625,
              "rgb(239,59,44)"
             ],
             [
              0.75,
              "rgb(203,24,29)"
             ],
             [
              0.875,
              "rgb(165,15,21)"
             ],
             [
              1,
              "rgb(103,0,13)"
             ]
            ],
            "size": 10
           },
           "mode": "markers",
           "name": "defense",
           "showlegend": false,
           "type": "scatter",
           "x": [
            54.16,
            58.49,
            49.37,
            55.48,
            55,
            45.38,
            55.93,
            57.17,
            52.45,
            47.78,
            55.57
           ],
           "y": [
            27.73,
            44.13,
            36.42,
            45.59,
            29.83,
            37.69,
            44.02,
            36.21,
            38.37,
            26.73,
            40.1
           ]
          }
         ],
         "name": "22"
        },
        {
         "data": [
          {
           "hoverinfo": "none",
           "marker": {
            "color": "black",
            "size": 10
           },
           "mode": "markers",
           "name": "offense",
           "type": "scatter",
           "x": [
            55.16,
            56.57,
            59.2,
            50.88,
            56.89,
            62.34,
            52.75,
            53.56,
            51.5,
            54.7
           ],
           "y": [
            34.68,
            35.39,
            31.15,
            24.77,
            26.55,
            24.49,
            28.18,
            27.58,
            23.73,
            44.72
           ]
          },
          {
           "hoverinfo": "none",
           "marker": {
            "color": "yellow",
            "opacity": 1,
            "size": 10
           },
           "mode": "markers",
           "name": "ball_carrier",
           "type": "scatter",
           "x": [
            56.42
           ],
           "y": [
            47.08
           ]
          },
          {
           "customdata": [
            [
             42401,
             "Markus Golden",
             "OLB",
             "ARI",
             0
            ],
            [
             43986,
             "Antonio Hamilton",
             "CB",
             "ARI",
             0.02
            ],
            [
             44848,
             "Budda Baker",
             "SS",
             "ARI",
             0.01
            ],
            [
             47816,
             "Byron Murphy",
             "CB",
             "ARI",
             0.73
            ],
            [
             47848,
             "Zach Allen",
             "DE",
             "ARI",
             0
            ],
            [
             49410,
             "Jalen Thompson",
             "FS",
             "ARI",
             0.03
            ],
            [
             52416,
             "Isaiah Simmons",
             "DB",
             "ARI",
             0.4
            ],
            [
             52522,
             "Leki Fotu",
             "DT",
             "ARI",
             0.01
            ],
            [
             53445,
             "Zaven Collins",
             "OLB",
             "ARI",
             0.03
            ],
            [
             53565,
             "Marco Wilson",
             "CB",
             "ARI",
             0
            ],
            [
             54552,
             "Cameron Thomas",
             "OLB",
             "ARI",
             0.01
            ]
           ],
           "hovertemplate": "<b>nflId:</b> %{customdata[0]}<br><b>Player:</b> %{customdata[1]} %{customdata[2]}<br><b>Team:</b> %{customdata[3]}<br><br><b>Tackling Probability:</b> %{customdata[4]}",
           "marker": {
            "cmax": 1,
            "cmin": 0,
            "color": [
             "#fff5f0",
             "#fff2eb",
             "#fff3ed",
             "#d11e1f",
             "#fff5f0",
             "#fff0e8",
             "#fc8a6a",
             "#fff4ef",
             "#fff0e8",
             "#fff5f0",
             "#fff3ed"
            ],
            "colorbar": {
             "len": 0.85,
             "thickness": 10,
             "title": {
              "text": "defense"
             },
             "x": 1.03,
             "y": 0.4
            },
            "colorscale": [
             [
              0,
              "rgb(255,245,240)"
             ],
             [
              0.125,
              "rgb(254,224,210)"
             ],
             [
              0.25,
              "rgb(252,187,161)"
             ],
             [
              0.375,
              "rgb(252,146,114)"
             ],
             [
              0.5,
              "rgb(251,106,74)"
             ],
             [
              0.625,
              "rgb(239,59,44)"
             ],
             [
              0.75,
              "rgb(203,24,29)"
             ],
             [
              0.875,
              "rgb(165,15,21)"
             ],
             [
              1,
              "rgb(103,0,13)"
             ]
            ],
            "size": 10
           },
           "mode": "markers",
           "name": "defense",
           "showlegend": false,
           "type": "scatter",
           "x": [
            54.13,
            58.57,
            49.29,
            55.67,
            54.98,
            45.5,
            55.93,
            57.1,
            52.34,
            47.54,
            55.45
           ],
           "y": [
            28.06,
            44.42,
            37.21,
            46.3,
            30.01,
            38.4,
            44.92,
            36.79,
            39.08,
            27.17,
            40.83
           ]
          }
         ],
         "name": "23"
        },
        {
         "data": [
          {
           "hoverinfo": "none",
           "marker": {
            "color": "black",
            "size": 10
           },
           "mode": "markers",
           "name": "offense",
           "type": "scatter",
           "x": [
            55.24,
            56.55,
            59.24,
            50.78,
            56.87,
            62.29,
            52.71,
            53.5,
            51.3,
            54.83
           ],
           "y": [
            34.84,
            35.62,
            31.28,
            24.9,
            26.62,
            24.54,
            28.3,
            27.59,
            23.9,
            45.34
           ]
          },
          {
           "hoverinfo": "none",
           "marker": {
            "color": "yellow",
            "opacity": 1,
            "size": 10
           },
           "mode": "markers",
           "name": "ball_carrier",
           "type": "scatter",
           "x": [
            56.19
           ],
           "y": [
            47.78
           ]
          },
          {
           "customdata": [
            [
             42401,
             "Markus Golden",
             "OLB",
             "ARI",
             0
            ],
            [
             43986,
             "Antonio Hamilton",
             "CB",
             "ARI",
             0.01
            ],
            [
             44848,
             "Budda Baker",
             "SS",
             "ARI",
             0.02
            ],
            [
             47816,
             "Byron Murphy",
             "CB",
             "ARI",
             0.91
            ],
            [
             47848,
             "Zach Allen",
             "DE",
             "ARI",
             0
            ],
            [
             49410,
             "Jalen Thompson",
             "FS",
             "ARI",
             0.02
            ],
            [
             52416,
             "Isaiah Simmons",
             "DB",
             "ARI",
             0.2
            ],
            [
             52522,
             "Leki Fotu",
             "DT",
             "ARI",
             0
            ],
            [
             53445,
             "Zaven Collins",
             "OLB",
             "ARI",
             0.04
            ],
            [
             53565,
             "Marco Wilson",
             "CB",
             "ARI",
             0
            ],
            [
             54552,
             "Cameron Thomas",
             "OLB",
             "ARI",
             0.05
            ]
           ],
           "hovertemplate": "<b>nflId:</b> %{customdata[0]}<br><b>Player:</b> %{customdata[1]} %{customdata[2]}<br><b>Team:</b> %{customdata[3]}<br><br><b>Tackling Probability:</b> %{customdata[4]}",
           "marker": {
            "cmax": 1,
            "cmin": 0,
            "color": [
             "#fff5f0",
             "#fff4ef",
             "#fff3ed",
             "#940b13",
             "#fff5f0",
             "#fff2eb",
             "#fdc9b3",
             "#fff5f0",
             "#ffeee6",
             "#fff5f0",
             "#ffece4"
            ],
            "colorbar": {
             "len": 0.85,
             "thickness": 10,
             "title": {
              "text": "defense"
             },
             "x": 1.03,
             "y": 0.4
            },
            "colorscale": [
             [
              0,
              "rgb(255,245,240)"
             ],
             [
              0.125,
              "rgb(254,224,210)"
             ],
             [
              0.25,
              "rgb(252,187,161)"
             ],
             [
              0.375,
              "rgb(252,146,114)"
             ],
             [
              0.5,
              "rgb(251,106,74)"
             ],
             [
              0.625,
              "rgb(239,59,44)"
             ],
             [
              0.75,
              "rgb(203,24,29)"
             ],
             [
              0.875,
              "rgb(165,15,21)"
             ],
             [
              1,
              "rgb(103,0,13)"
             ]
            ],
            "size": 10
           },
           "mode": "markers",
           "name": "defense",
           "showlegend": false,
           "type": "scatter",
           "x": [
            54.1,
            58.61,
            49.22,
            55.87,
            54.96,
            45.62,
            55.92,
            57.03,
            52.21,
            47.31,
            55.34
           ],
           "y": [
            28.37,
            44.69,
            38,
            47,
            30.19,
            39.11,
            45.81,
            37.38,
            39.78,
            27.61,
            41.58
           ]
          }
         ],
         "name": "24"
        },
        {
         "data": [
          {
           "hoverinfo": "none",
           "marker": {
            "color": "black",
            "size": 10
           },
           "mode": "markers",
           "name": "offense",
           "type": "scatter",
           "x": [
            55.31,
            56.51,
            59.27,
            50.69,
            56.87,
            62.24,
            52.68,
            53.43,
            51.13,
            54.97
           ],
           "y": [
            34.99,
            35.83,
            31.41,
            25.03,
            26.68,
            24.59,
            28.42,
            27.59,
            24.08,
            45.96
           ]
          },
          {
           "hoverinfo": "none",
           "marker": {
            "color": "yellow",
            "opacity": 1,
            "size": 10
           },
           "mode": "markers",
           "name": "ball_carrier",
           "type": "scatter",
           "x": [
            55.94
           ],
           "y": [
            48.48
           ]
          },
          {
           "customdata": [
            [
             42401,
             "Markus Golden",
             "OLB",
             "ARI",
             0
            ],
            [
             43986,
             "Antonio Hamilton",
             "CB",
             "ARI",
             0
            ],
            [
             44848,
             "Budda Baker",
             "SS",
             "ARI",
             0.02
            ],
            [
             47816,
             "Byron Murphy",
             "CB",
             "ARI",
             0.77
            ],
            [
             47848,
             "Zach Allen",
             "DE",
             "ARI",
             0
            ],
            [
             49410,
             "Jalen Thompson",
             "FS",
             "ARI",
             0.02
            ],
            [
             52416,
             "Isaiah Simmons",
             "DB",
             "ARI",
             0.24
            ],
            [
             52522,
             "Leki Fotu",
             "DT",
             "ARI",
             0
            ],
            [
             53445,
             "Zaven Collins",
             "OLB",
             "ARI",
             0.04
            ],
            [
             53565,
             "Marco Wilson",
             "CB",
             "ARI",
             0
            ],
            [
             54552,
             "Cameron Thomas",
             "OLB",
             "ARI",
             0.06
            ]
           ],
           "hovertemplate": "<b>nflId:</b> %{customdata[0]}<br><b>Player:</b> %{customdata[1]} %{customdata[2]}<br><b>Team:</b> %{customdata[3]}<br><br><b>Tackling Probability:</b> %{customdata[4]}",
           "marker": {
            "cmax": 1,
            "cmin": 0,
            "color": [
             "#fff5f0",
             "#fff4ef",
             "#fff2ec",
             "#c3161b",
             "#fff5f0",
             "#fff2ec",
             "#fcbfa7",
             "#fff5f0",
             "#ffeee6",
             "#fff5f0",
             "#ffebe2"
            ],
            "colorbar": {
             "len": 0.85,
             "thickness": 10,
             "title": {
              "text": "defense"
             },
             "x": 1.03,
             "y": 0.4
            },
            "colorscale": [
             [
              0,
              "rgb(255,245,240)"
             ],
             [
              0.125,
              "rgb(254,224,210)"
             ],
             [
              0.25,
              "rgb(252,187,161)"
             ],
             [
              0.375,
              "rgb(252,146,114)"
             ],
             [
              0.5,
              "rgb(251,106,74)"
             ],
             [
              0.625,
              "rgb(239,59,44)"
             ],
             [
              0.75,
              "rgb(203,24,29)"
             ],
             [
              0.875,
              "rgb(165,15,21)"
             ],
             [
              1,
              "rgb(103,0,13)"
             ]
            ],
            "size": 10
           },
           "mode": "markers",
           "name": "defense",
           "showlegend": false,
           "type": "scatter",
           "x": [
            54.06,
            58.62,
            49.16,
            56.06,
            54.94,
            45.72,
            55.89,
            56.94,
            52.07,
            47.07,
            55.21
           ],
           "y": [
            28.68,
            44.92,
            38.79,
            47.66,
            30.37,
            39.82,
            46.71,
            37.96,
            40.49,
            28.04,
            42.34
           ]
          }
         ],
         "name": "25"
        },
        {
         "data": [
          {
           "hoverinfo": "none",
           "marker": {
            "color": "black",
            "size": 10
           },
           "mode": "markers",
           "name": "offense",
           "type": "scatter",
           "x": [
            55.37,
            56.49,
            59.28,
            50.62,
            56.87,
            62.18,
            52.65,
            53.36,
            50.98,
            55.12
           ],
           "y": [
            35.12,
            36.04,
            31.53,
            25.16,
            26.74,
            24.64,
            28.54,
            27.58,
            24.26,
            46.58
           ]
          },
          {
           "hoverinfo": "none",
           "marker": {
            "color": "yellow",
            "opacity": 1,
            "size": 10
           },
           "mode": "markers",
           "name": "ball_carrier",
           "type": "scatter",
           "x": [
            55.67
           ],
           "y": [
            49.17
           ]
          },
          {
           "customdata": [
            [
             42401,
             "Markus Golden",
             "OLB",
             "ARI",
             0
            ],
            [
             43986,
             "Antonio Hamilton",
             "CB",
             "ARI",
             0.01
            ],
            [
             44848,
             "Budda Baker",
             "SS",
             "ARI",
             0.03
            ],
            [
             47816,
             "Byron Murphy",
             "CB",
             "ARI",
             0.65
            ],
            [
             47848,
             "Zach Allen",
             "DE",
             "ARI",
             0
            ],
            [
             49410,
             "Jalen Thompson",
             "FS",
             "ARI",
             0.03
            ],
            [
             52416,
             "Isaiah Simmons",
             "DB",
             "ARI",
             0.21
            ],
            [
             52522,
             "Leki Fotu",
             "DT",
             "ARI",
             0
            ],
            [
             53445,
             "Zaven Collins",
             "OLB",
             "ARI",
             0.07
            ],
            [
             53565,
             "Marco Wilson",
             "CB",
             "ARI",
             0
            ],
            [
             54552,
             "Cameron Thomas",
             "OLB",
             "ARI",
             0.05
            ]
           ],
           "hovertemplate": "<b>nflId:</b> %{customdata[0]}<br><b>Player:</b> %{customdata[1]} %{customdata[2]}<br><b>Team:</b> %{customdata[3]}<br><br><b>Tackling Probability:</b> %{customdata[4]}",
           "marker": {
            "cmax": 1,
            "cmin": 0,
            "color": [
             "#fff5f0",
             "#fff4ef",
             "#fff1ea",
             "#e83429",
             "#fff5f0",
             "#fff0e9",
             "#fdc5ae",
             "#fff5f0",
             "#feeae1",
             "#fff5f0",
             "#ffece4"
            ],
            "colorbar": {
             "len": 0.85,
             "thickness": 10,
             "title": {
              "text": "defense"
             },
             "x": 1.03,
             "y": 0.4
            },
            "colorscale": [
             [
              0,
              "rgb(255,245,240)"
             ],
             [
              0.125,
              "rgb(254,224,210)"
             ],
             [
              0.25,
              "rgb(252,187,161)"
             ],
             [
              0.375,
              "rgb(252,146,114)"
             ],
             [
              0.5,
              "rgb(251,106,74)"
             ],
             [
              0.625,
              "rgb(239,59,44)"
             ],
             [
              0.75,
              "rgb(203,24,29)"
             ],
             [
              0.875,
              "rgb(165,15,21)"
             ],
             [
              1,
              "rgb(103,0,13)"
             ]
            ],
            "size": 10
           },
           "mode": "markers",
           "name": "defense",
           "showlegend": false,
           "type": "scatter",
           "x": [
            54.02,
            58.61,
            49.08,
            56.24,
            54.92,
            45.8,
            55.84,
            56.86,
            51.91,
            46.84,
            55.07
           ],
           "y": [
            28.98,
            45.16,
            39.57,
            48.27,
            30.54,
            40.52,
            47.6,
            38.55,
            41.19,
            28.46,
            43.1
           ]
          }
         ],
         "name": "26"
        },
        {
         "data": [
          {
           "hoverinfo": "none",
           "marker": {
            "color": "black",
            "size": 10
           },
           "mode": "markers",
           "name": "offense",
           "type": "scatter",
           "x": [
            55.43,
            56.47,
            59.28,
            50.56,
            56.88,
            62.12,
            52.64,
            53.29,
            50.86,
            55.29
           ],
           "y": [
            35.24,
            36.23,
            31.66,
            25.28,
            26.79,
            24.69,
            28.66,
            27.58,
            24.44,
            47.18
           ]
          },
          {
           "hoverinfo": "none",
           "marker": {
            "color": "yellow",
            "opacity": 1,
            "size": 10
           },
           "mode": "markers",
           "name": "ball_carrier",
           "type": "scatter",
           "x": [
            55.36
           ],
           "y": [
            49.82
           ]
          },
          {
           "customdata": [
            [
             42401,
             "Markus Golden",
             "OLB",
             "ARI",
             0
            ],
            [
             43986,
             "Antonio Hamilton",
             "CB",
             "ARI",
             0
            ],
            [
             44848,
             "Budda Baker",
             "SS",
             "ARI",
             0.03
            ],
            [
             47816,
             "Byron Murphy",
             "CB",
             "ARI",
             0.67
            ],
            [
             47848,
             "Zach Allen",
             "DE",
             "ARI",
             0
            ],
            [
             49410,
             "Jalen Thompson",
             "FS",
             "ARI",
             0.07
            ],
            [
             52416,
             "Isaiah Simmons",
             "DB",
             "ARI",
             0.53
            ],
            [
             52522,
             "Leki Fotu",
             "DT",
             "ARI",
             0
            ],
            [
             53445,
             "Zaven Collins",
             "OLB",
             "ARI",
             0.07
            ],
            [
             53565,
             "Marco Wilson",
             "CB",
             "ARI",
             0
            ],
            [
             54552,
             "Cameron Thomas",
             "OLB",
             "ARI",
             0.03
            ]
           ],
           "hovertemplate": "<b>nflId:</b> %{customdata[0]}<br><b>Player:</b> %{customdata[1]} %{customdata[2]}<br><b>Team:</b> %{customdata[3]}<br><br><b>Tackling Probability:</b> %{customdata[4]}",
           "marker": {
            "cmax": 1,
            "cmin": 0,
            "color": [
             "#fff5f0",
             "#fff5f0",
             "#fff0e8",
             "#e22e27",
             "#fff5f0",
             "#feeae1",
             "#f96044",
             "#fff5f0",
             "#feeae0",
             "#fff5f0",
             "#fff0e8"
            ],
            "colorbar": {
             "len": 0.85,
             "thickness": 10,
             "title": {
              "text": "defense"
             },
             "x": 1.03,
             "y": 0.4
            },
            "colorscale": [
             [
              0,
              "rgb(255,245,240)"
             ],
             [
              0.125,
              "rgb(254,224,210)"
             ],
             [
              0.25,
              "rgb(252,187,161)"
             ],
             [
              0.375,
              "rgb(252,146,114)"
             ],
             [
              0.5,
              "rgb(251,106,74)"
             ],
             [
              0.625,
              "rgb(239,59,44)"
             ],
             [
              0.75,
              "rgb(203,24,29)"
             ],
             [
              0.875,
              "rgb(165,15,21)"
             ],
             [
              1,
              "rgb(103,0,13)"
             ]
            ],
            "size": 10
           },
           "mode": "markers",
           "name": "defense",
           "showlegend": false,
           "type": "scatter",
           "x": [
            53.96,
            58.57,
            48.99,
            56.4,
            54.89,
            45.87,
            55.77,
            56.78,
            51.73,
            46.61,
            54.89
           ],
           "y": [
            29.28,
            45.37,
            40.35,
            48.78,
            30.7,
            41.23,
            48.49,
            39.12,
            41.9,
            28.88,
            43.88
           ]
          }
         ],
         "name": "27"
        },
        {
         "data": [
          {
           "hoverinfo": "none",
           "marker": {
            "color": "black",
            "size": 10
           },
           "mode": "markers",
           "name": "offense",
           "type": "scatter",
           "x": [
            55.49,
            56.45,
            59.26,
            50.51,
            56.89,
            62.06,
            52.65,
            53.21,
            50.77,
            55.46
           ],
           "y": [
            35.35,
            36.42,
            31.78,
            25.4,
            26.84,
            24.75,
            28.79,
            27.57,
            24.62,
            47.77
           ]
          },
          {
           "hoverinfo": "none",
           "marker": {
            "color": "yellow",
            "opacity": 1,
            "size": 10
           },
           "mode": "markers",
           "name": "ball_carrier",
           "type": "scatter",
           "x": [
            55.02
           ],
           "y": [
            50.44
           ]
          },
          {
           "customdata": [
            [
             42401,
             "Markus Golden",
             "OLB",
             "ARI",
             0
            ],
            [
             43986,
             "Antonio Hamilton",
             "CB",
             "ARI",
             0.01
            ],
            [
             44848,
             "Budda Baker",
             "SS",
             "ARI",
             0.05
            ],
            [
             47816,
             "Byron Murphy",
             "CB",
             "ARI",
             0.43
            ],
            [
             47848,
             "Zach Allen",
             "DE",
             "ARI",
             0
            ],
            [
             49410,
             "Jalen Thompson",
             "FS",
             "ARI",
             0.09
            ],
            [
             52416,
             "Isaiah Simmons",
             "DB",
             "ARI",
             0.64
            ],
            [
             52522,
             "Leki Fotu",
             "DT",
             "ARI",
             0
            ],
            [
             53445,
             "Zaven Collins",
             "OLB",
             "ARI",
             0.16
            ],
            [
             53565,
             "Marco Wilson",
             "CB",
             "ARI",
             0
            ],
            [
             54552,
             "Cameron Thomas",
             "OLB",
             "ARI",
             0.07
            ]
           ],
           "hovertemplate": "<b>nflId:</b> %{customdata[0]}<br><b>Player:</b> %{customdata[1]} %{customdata[2]}<br><b>Team:</b> %{customdata[3]}<br><br><b>Tackling Probability:</b> %{customdata[4]}",
           "marker": {
            "cmax": 1,
            "cmin": 0,
            "color": [
             "#fff5f0",
             "#fff4ef",
             "#ffece4",
             "#fc8060",
             "#fff5f0",
             "#fee7db",
             "#ea362a",
             "#fff5f0",
             "#fed8c7",
             "#fff4ef",
             "#feeae0"
            ],
            "colorbar": {
             "len": 0.85,
             "thickness": 10,
             "title": {
              "text": "defense"
             },
             "x": 1.03,
             "y": 0.4
            },
            "colorscale": [
             [
              0,
              "rgb(255,245,240)"
             ],
             [
              0.125,
              "rgb(254,224,210)"
             ],
             [
              0.25,
              "rgb(252,187,161)"
             ],
             [
              0.375,
              "rgb(252,146,114)"
             ],
             [
              0.5,
              "rgb(251,106,74)"
             ],
             [
              0.625,
              "rgb(239,59,44)"
             ],
             [
              0.75,
              "rgb(203,24,29)"
             ],
             [
              0.875,
              "rgb(165,15,21)"
             ],
             [
              1,
              "rgb(103,0,13)"
             ]
            ],
            "size": 10
           },
           "mode": "markers",
           "name": "defense",
           "showlegend": false,
           "type": "scatter",
           "x": [
            53.9,
            58.52,
            48.88,
            56.55,
            54.87,
            45.92,
            55.67,
            56.69,
            51.54,
            46.39,
            54.7
           ],
           "y": [
            29.58,
            45.57,
            41.12,
            49.26,
            30.86,
            41.94,
            49.37,
            39.68,
            42.61,
            29.28,
            44.64
           ]
          }
         ],
         "name": "28"
        },
        {
         "data": [
          {
           "hoverinfo": "none",
           "marker": {
            "color": "black",
            "size": 10
           },
           "mode": "markers",
           "name": "offense",
           "type": "scatter",
           "x": [
            55.55,
            56.43,
            59.22,
            50.47,
            56.9,
            62,
            52.66,
            53.13,
            50.7,
            55.64
           ],
           "y": [
            35.44,
            36.6,
            31.89,
            25.5,
            26.88,
            24.81,
            28.92,
            27.58,
            24.81,
            48.35
           ]
          },
          {
           "hoverinfo": "none",
           "marker": {
            "color": "yellow",
            "opacity": 1,
            "size": 10
           },
           "mode": "markers",
           "name": "ball_carrier",
           "type": "scatter",
           "x": [
            54.65
           ],
           "y": [
            51.01
           ]
          },
          {
           "customdata": [
            [
             42401,
             "Markus Golden",
             "OLB",
             "ARI",
             0
            ],
            [
             43986,
             "Antonio Hamilton",
             "CB",
             "ARI",
             0.01
            ],
            [
             44848,
             "Budda Baker",
             "SS",
             "ARI",
             0.09
            ],
            [
             47816,
             "Byron Murphy",
             "CB",
             "ARI",
             0.3
            ],
            [
             47848,
             "Zach Allen",
             "DE",
             "ARI",
             0
            ],
            [
             49410,
             "Jalen Thompson",
             "FS",
             "ARI",
             0.11
            ],
            [
             52416,
             "Isaiah Simmons",
             "DB",
             "ARI",
             0.72
            ],
            [
             52522,
             "Leki Fotu",
             "DT",
             "ARI",
             0
            ],
            [
             53445,
             "Zaven Collins",
             "OLB",
             "ARI",
             0.13
            ],
            [
             53565,
             "Marco Wilson",
             "CB",
             "ARI",
             0
            ],
            [
             54552,
             "Cameron Thomas",
             "OLB",
             "ARI",
             0.08
            ]
           ],
           "hovertemplate": "<b>nflId:</b> %{customdata[0]}<br><b>Player:</b> %{customdata[1]} %{customdata[2]}<br><b>Team:</b> %{customdata[3]}<br><br><b>Tackling Probability:</b> %{customdata[4]}",
           "marker": {
            "cmax": 1,
            "cmin": 0,
            "color": [
             "#fff5f0",
             "#fff4ee",
             "#fee7dc",
             "#fcad90",
             "#fff5f0",
             "#fee3d6",
             "#d32020",
             "#fff5f0",
             "#fedfd0",
             "#fff5f0",
             "#fee8dd"
            ],
            "colorbar": {
             "len": 0.85,
             "thickness": 10,
             "title": {
              "text": "defense"
             },
             "x": 1.03,
             "y": 0.4
            },
            "colorscale": [
             [
              0,
              "rgb(255,245,240)"
             ],
             [
              0.125,
              "rgb(254,224,210)"
             ],
             [
              0.25,
              "rgb(252,187,161)"
             ],
             [
              0.375,
              "rgb(252,146,114)"
             ],
             [
              0.5,
              "rgb(251,106,74)"
             ],
             [
              0.625,
              "rgb(239,59,44)"
             ],
             [
              0.75,
              "rgb(203,24,29)"
             ],
             [
              0.875,
              "rgb(165,15,21)"
             ],
             [
              1,
              "rgb(103,0,13)"
             ]
            ],
            "size": 10
           },
           "mode": "markers",
           "name": "defense",
           "showlegend": false,
           "type": "scatter",
           "x": [
            53.84,
            58.44,
            48.75,
            56.68,
            54.84,
            45.96,
            55.55,
            56.6,
            51.33,
            46.17,
            54.49
           ],
           "y": [
            29.88,
            45.77,
            41.9,
            49.68,
            30.99,
            42.65,
            50.23,
            40.23,
            43.31,
            29.68,
            45.39
           ]
          }
         ],
         "name": "29"
        },
        {
         "data": [
          {
           "hoverinfo": "none",
           "marker": {
            "color": "black",
            "size": 10
           },
           "mode": "markers",
           "name": "offense",
           "type": "scatter",
           "x": [
            55.61,
            56.4,
            59.17,
            50.44,
            56.92,
            61.93,
            52.69,
            53.06,
            50.65,
            55.82
           ],
           "y": [
            35.52,
            36.77,
            32.01,
            25.61,
            26.91,
            24.87,
            29.05,
            27.58,
            24.99,
            48.92
           ]
          },
          {
           "hoverinfo": "none",
           "marker": {
            "color": "yellow",
            "opacity": 1,
            "size": 10
           },
           "mode": "markers",
           "name": "ball_carrier",
           "type": "scatter",
           "x": [
            54.24
           ],
           "y": [
            51.53
           ]
          },
          {
           "customdata": [
            [
             42401,
             "Markus Golden",
             "OLB",
             "ARI",
             0
            ],
            [
             43986,
             "Antonio Hamilton",
             "CB",
             "ARI",
             0.01
            ],
            [
             44848,
             "Budda Baker",
             "SS",
             "ARI",
             0.15
            ],
            [
             47816,
             "Byron Murphy",
             "CB",
             "ARI",
             0.64
            ],
            [
             47848,
             "Zach Allen",
             "DE",
             "ARI",
             0
            ],
            [
             49410,
             "Jalen Thompson",
             "FS",
             "ARI",
             0.14
            ],
            [
             52416,
             "Isaiah Simmons",
             "DB",
             "ARI",
             0.54
            ],
            [
             52522,
             "Leki Fotu",
             "DT",
             "ARI",
             0
            ],
            [
             53445,
             "Zaven Collins",
             "OLB",
             "ARI",
             0.14
            ],
            [
             53565,
             "Marco Wilson",
             "CB",
             "ARI",
             0
            ],
            [
             54552,
             "Cameron Thomas",
             "OLB",
             "ARI",
             0.08
            ]
           ],
           "hovertemplate": "<b>nflId:</b> %{customdata[0]}<br><b>Player:</b> %{customdata[1]} %{customdata[2]}<br><b>Team:</b> %{customdata[3]}<br><br><b>Tackling Probability:</b> %{customdata[4]}",
           "marker": {
            "cmax": 1,
            "cmin": 0,
            "color": [
             "#fff5f0",
             "#fff4ee",
             "#fedaca",
             "#eb372a",
             "#fff5f0",
             "#fedbcc",
             "#f75c41",
             "#fff5f0",
             "#fedecf",
             "#fff5f0",
             "#fee8dd"
            ],
            "colorbar": {
             "len": 0.85,
             "thickness": 10,
             "title": {
              "text": "defense"
             },
             "x": 1.03,
             "y": 0.4
            },
            "colorscale": [
             [
              0,
              "rgb(255,245,240)"
             ],
             [
              0.125,
              "rgb(254,224,210)"
             ],
             [
              0.25,
              "rgb(252,187,161)"
             ],
             [
              0.375,
              "rgb(252,146,114)"
             ],
             [
              0.5,
              "rgb(251,106,74)"
             ],
             [
              0.625,
              "rgb(239,59,44)"
             ],
             [
              0.75,
              "rgb(203,24,29)"
             ],
             [
              0.875,
              "rgb(165,15,21)"
             ],
             [
              1,
              "rgb(103,0,13)"
             ]
            ],
            "size": 10
           },
           "mode": "markers",
           "name": "defense",
           "showlegend": false,
           "type": "scatter",
           "x": [
            53.77,
            58.32,
            48.6,
            56.81,
            54.82,
            45.98,
            55.42,
            56.5,
            51.09,
            45.95,
            54.24
           ],
           "y": [
            30.18,
            45.99,
            42.66,
            50.04,
            31.12,
            43.35,
            51.07,
            40.76,
            44.01,
            30.06,
            46.13
           ]
          }
         ],
         "name": "30"
        },
        {
         "data": [
          {
           "hoverinfo": "none",
           "marker": {
            "color": "black",
            "size": 10
           },
           "mode": "markers",
           "name": "offense",
           "type": "scatter",
           "x": [
            55.65,
            56.39,
            59.11,
            50.42,
            56.94,
            61.86,
            52.71,
            52.99,
            50.63,
            55.99
           ],
           "y": [
            35.59,
            36.93,
            32.11,
            25.7,
            26.94,
            24.93,
            29.18,
            27.59,
            25.17,
            49.47
           ]
          },
          {
           "hoverinfo": "none",
           "marker": {
            "color": "yellow",
            "opacity": 1,
            "size": 10
           },
           "mode": "markers",
           "name": "ball_carrier",
           "type": "scatter",
           "x": [
            53.8
           ],
           "y": [
            52
           ]
          },
          {
           "customdata": [
            [
             42401,
             "Markus Golden",
             "OLB",
             "ARI",
             0
            ],
            [
             43986,
             "Antonio Hamilton",
             "CB",
             "ARI",
             0.01
            ],
            [
             44848,
             "Budda Baker",
             "SS",
             "ARI",
             0.1
            ],
            [
             47816,
             "Byron Murphy",
             "CB",
             "ARI",
             0.65
            ],
            [
             47848,
             "Zach Allen",
             "DE",
             "ARI",
             0
            ],
            [
             49410,
             "Jalen Thompson",
             "FS",
             "ARI",
             0.07
            ],
            [
             52416,
             "Isaiah Simmons",
             "DB",
             "ARI",
             0.44
            ],
            [
             52522,
             "Leki Fotu",
             "DT",
             "ARI",
             0
            ],
            [
             53445,
             "Zaven Collins",
             "OLB",
             "ARI",
             0.17
            ],
            [
             53565,
             "Marco Wilson",
             "CB",
             "ARI",
             0
            ],
            [
             54552,
             "Cameron Thomas",
             "OLB",
             "ARI",
             0.09
            ]
           ],
           "hovertemplate": "<b>nflId:</b> %{customdata[0]}<br><b>Player:</b> %{customdata[1]} %{customdata[2]}<br><b>Team:</b> %{customdata[3]}<br><br><b>Tackling Probability:</b> %{customdata[4]}",
           "marker": {
            "cmax": 1,
            "cmin": 0,
            "color": [
             "#fff5f0",
             "#fff4ef",
             "#fee5d8",
             "#e83429",
             "#fff5f0",
             "#feeae0",
             "#fc7f5f",
             "#fff4ef",
             "#fdd3c1",
             "#fff5f0",
             "#fee6da"
            ],
            "colorbar": {
             "len": 0.85,
             "thickness": 10,
             "title": {
              "text": "defense"
             },
             "x": 1.03,
             "y": 0.4
            },
            "colorscale": [
             [
              0,
              "rgb(255,245,240)"
             ],
             [
              0.125,
              "rgb(254,224,210)"
             ],
             [
              0.25,
              "rgb(252,187,161)"
             ],
             [
              0.375,
              "rgb(252,146,114)"
             ],
             [
              0.5,
              "rgb(251,106,74)"
             ],
             [
              0.625,
              "rgb(239,59,44)"
             ],
             [
              0.75,
              "rgb(203,24,29)"
             ],
             [
              0.875,
              "rgb(165,15,21)"
             ],
             [
              1,
              "rgb(103,0,13)"
             ]
            ],
            "size": 10
           },
           "mode": "markers",
           "name": "defense",
           "showlegend": false,
           "type": "scatter",
           "x": [
            53.69,
            58.19,
            48.41,
            56.97,
            54.79,
            45.99,
            55.26,
            56.4,
            50.82,
            45.74,
            53.96
           ],
           "y": [
            30.48,
            46.22,
            43.41,
            50.32,
            31.24,
            44.04,
            51.87,
            41.29,
            44.7,
            30.43,
            46.85
           ]
          }
         ],
         "name": "31"
        },
        {
         "data": [
          {
           "hoverinfo": "none",
           "marker": {
            "color": "black",
            "size": 10
           },
           "mode": "markers",
           "name": "offense",
           "type": "scatter",
           "x": [
            55.69,
            56.39,
            59.03,
            50.4,
            56.95,
            61.77,
            52.74,
            52.92,
            50.62,
            56.16
           ],
           "y": [
            35.65,
            37.08,
            32.21,
            25.8,
            26.95,
            24.99,
            29.32,
            27.61,
            25.35,
            50
           ]
          },
          {
           "hoverinfo": "none",
           "marker": {
            "color": "yellow",
            "opacity": 1,
            "size": 10
           },
           "mode": "markers",
           "name": "ball_carrier",
           "type": "scatter",
           "x": [
            53.33
           ],
           "y": [
            52.43
           ]
          },
          {
           "customdata": [
            [
             42401,
             "Markus Golden",
             "OLB",
             "ARI",
             0
            ],
            [
             43986,
             "Antonio Hamilton",
             "CB",
             "ARI",
             0
            ],
            [
             44848,
             "Budda Baker",
             "SS",
             "ARI",
             0.15
            ],
            [
             47816,
             "Byron Murphy",
             "CB",
             "ARI",
             0.65
            ],
            [
             47848,
             "Zach Allen",
             "DE",
             "ARI",
             0
            ],
            [
             49410,
             "Jalen Thompson",
             "FS",
             "ARI",
             0.07
            ],
            [
             52416,
             "Isaiah Simmons",
             "DB",
             "ARI",
             0.44
            ],
            [
             52522,
             "Leki Fotu",
             "DT",
             "ARI",
             0.01
            ],
            [
             53445,
             "Zaven Collins",
             "OLB",
             "ARI",
             0.16
            ],
            [
             53565,
             "Marco Wilson",
             "CB",
             "ARI",
             0
            ],
            [
             54552,
             "Cameron Thomas",
             "OLB",
             "ARI",
             0.14
            ]
           ],
           "hovertemplate": "<b>nflId:</b> %{customdata[0]}<br><b>Player:</b> %{customdata[1]} %{customdata[2]}<br><b>Team:</b> %{customdata[3]}<br><br><b>Tackling Probability:</b> %{customdata[4]}",
           "marker": {
            "cmax": 1,
            "cmin": 0,
            "color": [
             "#fff5f0",
             "#fff5f0",
             "#fed9c9",
             "#e83429",
             "#fff5f0",
             "#feeae0",
             "#fb7d5d",
             "#fff4ef",
             "#fdd5c4",
             "#fff5f0",
             "#fedbcc"
            ],
            "colorbar": {
             "len": 0.85,
             "thickness": 10,
             "title": {
              "text": "defense"
             },
             "x": 1.03,
             "y": 0.4
            },
            "colorscale": [
             [
              0,
              "rgb(255,245,240)"
             ],
             [
              0.125,
              "rgb(254,224,210)"
             ],
             [
              0.25,
              "rgb(252,187,161)"
             ],
             [
              0.375,
              "rgb(252,146,114)"
             ],
             [
              0.5,
              "rgb(251,106,74)"
             ],
             [
              0.625,
              "rgb(239,59,44)"
             ],
             [
              0.75,
              "rgb(203,24,29)"
             ],
             [
              0.875,
              "rgb(165,15,21)"
             ],
             [
              1,
              "rgb(103,0,13)"
             ]
            ],
            "size": 10
           },
           "mode": "markers",
           "name": "defense",
           "showlegend": false,
           "type": "scatter",
           "x": [
            53.61,
            58.04,
            48.21,
            57.1,
            54.77,
            45.97,
            55.1,
            56.3,
            50.52,
            45.53,
            53.65
           ],
           "y": [
            30.77,
            46.47,
            44.14,
            50.55,
            31.34,
            44.72,
            52.61,
            41.81,
            45.38,
            30.79,
            47.55
           ]
          }
         ],
         "name": "32"
        },
        {
         "data": [
          {
           "hoverinfo": "none",
           "marker": {
            "color": "black",
            "size": 10
           },
           "mode": "markers",
           "name": "offense",
           "type": "scatter",
           "x": [
            55.76,
            56.39,
            58.96,
            50.38,
            56.96,
            61.68,
            52.77,
            52.86,
            50.64,
            56.33
           ],
           "y": [
            35.69,
            37.22,
            32.3,
            25.89,
            26.96,
            25.06,
            29.46,
            27.63,
            25.54,
            50.52
           ]
          },
          {
           "hoverinfo": "none",
           "marker": {
            "color": "yellow",
            "opacity": 1,
            "size": 10
           },
           "mode": "markers",
           "name": "ball_carrier",
           "type": "scatter",
           "x": [
            52.83
           ],
           "y": [
            52.8
           ]
          },
          {
           "customdata": [
            [
             42401,
             "Markus Golden",
             "OLB",
             "ARI",
             0
            ],
            [
             43986,
             "Antonio Hamilton",
             "CB",
             "ARI",
             0
            ],
            [
             44848,
             "Budda Baker",
             "SS",
             "ARI",
             0.17
            ],
            [
             47816,
             "Byron Murphy",
             "CB",
             "ARI",
             0.25
            ],
            [
             47848,
             "Zach Allen",
             "DE",
             "ARI",
             0
            ],
            [
             49410,
             "Jalen Thompson",
             "FS",
             "ARI",
             0.11
            ],
            [
             52416,
             "Isaiah Simmons",
             "DB",
             "ARI",
             0.51
            ],
            [
             52522,
             "Leki Fotu",
             "DT",
             "ARI",
             0.01
            ],
            [
             53445,
             "Zaven Collins",
             "OLB",
             "ARI",
             0.13
            ],
            [
             53565,
             "Marco Wilson",
             "CB",
             "ARI",
             0
            ],
            [
             54552,
             "Cameron Thomas",
             "OLB",
             "ARI",
             0.18
            ]
           ],
           "hovertemplate": "<b>nflId:</b> %{customdata[0]}<br><b>Player:</b> %{customdata[1]} %{customdata[2]}<br><b>Team:</b> %{customdata[3]}<br><br><b>Tackling Probability:</b> %{customdata[4]}",
           "marker": {
            "cmax": 1,
            "cmin": 0,
            "color": [
             "#fff5f0",
             "#fff5f0",
             "#fdd2bf",
             "#fcb99f",
             "#fff5f0",
             "#fee3d7",
             "#fa6648",
             "#fff4ef",
             "#fee0d2",
             "#fff5f0",
             "#fdd1be"
            ],
            "colorbar": {
             "len": 0.85,
             "thickness": 10,
             "title": {
              "text": "defense"
             },
             "x": 1.03,
             "y": 0.4
            },
            "colorscale": [
             [
              0,
              "rgb(255,245,240)"
             ],
             [
              0.125,
              "rgb(254,224,210)"
             ],
             [
              0.25,
              "rgb(252,187,161)"
             ],
             [
              0.375,
              "rgb(252,146,114)"
             ],
             [
              0.5,
              "rgb(251,106,74)"
             ],
             [
              0.625,
              "rgb(239,59,44)"
             ],
             [
              0.75,
              "rgb(203,24,29)"
             ],
             [
              0.875,
              "rgb(165,15,21)"
             ],
             [
              1,
              "rgb(103,0,13)"
             ]
            ],
            "size": 10
           },
           "mode": "markers",
           "name": "defense",
           "showlegend": false,
           "type": "scatter",
           "x": [
            53.51,
            57.88,
            47.97,
            57.22,
            54.75,
            45.93,
            54.92,
            56.19,
            50.19,
            45.31,
            53.29
           ],
           "y": [
            31.06,
            46.72,
            44.86,
            50.73,
            31.43,
            45.4,
            53.3,
            42.31,
            46.05,
            31.13,
            48.22
           ]
          }
         ],
         "name": "33"
        },
        {
         "data": [
          {
           "hoverinfo": "none",
           "marker": {
            "color": "black",
            "size": 10
           },
           "mode": "markers",
           "name": "offense",
           "type": "scatter",
           "x": [
            55.82,
            56.39,
            58.87,
            50.38,
            56.97,
            61.59,
            52.8,
            52.8,
            50.66,
            56.5
           ],
           "y": [
            35.72,
            37.35,
            32.38,
            25.98,
            26.97,
            25.14,
            29.59,
            27.66,
            25.74,
            51.03
           ]
          },
          {
           "hoverinfo": "none",
           "marker": {
            "color": "yellow",
            "opacity": 1,
            "size": 10
           },
           "mode": "markers",
           "name": "ball_carrier",
           "type": "scatter",
           "x": [
            52.3
           ],
           "y": [
            53.14
           ]
          },
          {
           "customdata": [
            [
             42401,
             "Markus Golden",
             "OLB",
             "ARI",
             0
            ],
            [
             43986,
             "Antonio Hamilton",
             "CB",
             "ARI",
             0
            ],
            [
             44848,
             "Budda Baker",
             "SS",
             "ARI",
             0.09
            ],
            [
             47816,
             "Byron Murphy",
             "CB",
             "ARI",
             0.23
            ],
            [
             47848,
             "Zach Allen",
             "DE",
             "ARI",
             0
            ],
            [
             49410,
             "Jalen Thompson",
             "FS",
             "ARI",
             0.06
            ],
            [
             52416,
             "Isaiah Simmons",
             "DB",
             "ARI",
             0.37
            ],
            [
             52522,
             "Leki Fotu",
             "DT",
             "ARI",
             0.01
            ],
            [
             53445,
             "Zaven Collins",
             "OLB",
             "ARI",
             0.11
            ],
            [
             53565,
             "Marco Wilson",
             "CB",
             "ARI",
             0
            ],
            [
             54552,
             "Cameron Thomas",
             "OLB",
             "ARI",
             0.1
            ]
           ],
           "hovertemplate": "<b>nflId:</b> %{customdata[0]}<br><b>Player:</b> %{customdata[1]} %{customdata[2]}<br><b>Team:</b> %{customdata[3]}<br><br><b>Tackling Probability:</b> %{customdata[4]}",
           "marker": {
            "cmax": 1,
            "cmin": 0,
            "color": [
             "#fff5f0",
             "#fff5f0",
             "#fee7dc",
             "#fcc3ab",
             "#fff5f0",
             "#ffebe2",
             "#fc9474",
             "#fff4ef",
             "#fee3d6",
             "#fff5f0",
             "#fee5d8"
            ],
            "colorbar": {
             "len": 0.85,
             "thickness": 10,
             "title": {
              "text": "defense"
             },
             "x": 1.03,
             "y": 0.4
            },
            "colorscale": [
             [
              0,
              "rgb(255,245,240)"
             ],
             [
              0.125,
              "rgb(254,224,210)"
             ],
             [
              0.25,
              "rgb(252,187,161)"
             ],
             [
              0.375,
              "rgb(252,146,114)"
             ],
             [
              0.5,
              "rgb(251,106,74)"
             ],
             [
              0.625,
              "rgb(239,59,44)"
             ],
             [
              0.75,
              "rgb(203,24,29)"
             ],
             [
              0.875,
              "rgb(165,15,21)"
             ],
             [
              1,
              "rgb(103,0,13)"
             ]
            ],
            "size": 10
           },
           "mode": "markers",
           "name": "defense",
           "showlegend": false,
           "type": "scatter",
           "x": [
            53.41,
            57.71,
            47.7,
            57.34,
            54.74,
            45.86,
            54.74,
            56.08,
            49.83,
            45.11,
            52.88
           ],
           "y": [
            31.34,
            46.98,
            45.57,
            50.86,
            31.51,
            46.07,
            53.93,
            42.79,
            46.71,
            31.46,
            48.89
           ]
          }
         ],
         "name": "34"
        },
        {
         "data": [
          {
           "hoverinfo": "none",
           "marker": {
            "color": "black",
            "size": 10
           },
           "mode": "markers",
           "name": "offense",
           "type": "scatter",
           "x": [
            55.88,
            56.4,
            58.77,
            50.37,
            56.97,
            61.48,
            52.83,
            52.75,
            50.69,
            56.66
           ],
           "y": [
            35.75,
            37.48,
            32.46,
            26.06,
            26.97,
            25.21,
            29.72,
            27.69,
            25.93,
            51.53
           ]
          },
          {
           "hoverinfo": "none",
           "marker": {
            "color": "yellow",
            "opacity": 1,
            "size": 10
           },
           "mode": "markers",
           "name": "ball_carrier",
           "type": "scatter",
           "x": [
            51.74
           ],
           "y": [
            53.17
           ]
          },
          {
           "customdata": [
            [
             42401,
             "Markus Golden",
             "OLB",
             "ARI",
             0
            ],
            [
             43986,
             "Antonio Hamilton",
             "CB",
             "ARI",
             0
            ],
            [
             44848,
             "Budda Baker",
             "SS",
             "ARI",
             0.12
            ],
            [
             47816,
             "Byron Murphy",
             "CB",
             "ARI",
             0.2
            ],
            [
             47848,
             "Zach Allen",
             "DE",
             "ARI",
             0
            ],
            [
             49410,
             "Jalen Thompson",
             "FS",
             "ARI",
             0.09
            ],
            [
             52416,
             "Isaiah Simmons",
             "DB",
             "ARI",
             0.3
            ],
            [
             52522,
             "Leki Fotu",
             "DT",
             "ARI",
             0
            ],
            [
             53445,
             "Zaven Collins",
             "OLB",
             "ARI",
             0.13
            ],
            [
             53565,
             "Marco Wilson",
             "CB",
             "ARI",
             0
            ],
            [
             54552,
             "Cameron Thomas",
             "OLB",
             "ARI",
             0.19
            ]
           ],
           "hovertemplate": "<b>nflId:</b> %{customdata[0]}<br><b>Player:</b> %{customdata[1]} %{customdata[2]}<br><b>Team:</b> %{customdata[3]}<br><br><b>Tackling Probability:</b> %{customdata[4]}",
           "marker": {
            "cmax": 1,
            "cmin": 0,
            "color": [
             "#fff5f0",
             "#fff5f0",
             "#fee2d5",
             "#fdcab5",
             "#fff5f0",
             "#fee6da",
             "#fcab8f",
             "#fff5f0",
             "#fedfd0",
             "#fff5f0",
             "#fdccb8"
            ],
            "colorbar": {
             "len": 0.85,
             "thickness": 10,
             "title": {
              "text": "defense"
             },
             "x": 1.03,
             "y": 0.4
            },
            "colorscale": [
             [
              0,
              "rgb(255,245,240)"
             ],
             [
              0.125,
              "rgb(254,224,210)"
             ],
             [
              0.25,
              "rgb(252,187,161)"
             ],
             [
              0.375,
              "rgb(252,146,114)"
             ],
             [
              0.5,
              "rgb(251,106,74)"
             ],
             [
              0.625,
              "rgb(239,59,44)"
             ],
             [
              0.75,
              "rgb(203,24,29)"
             ],
             [
              0.875,
              "rgb(165,15,21)"
             ],
             [
              1,
              "rgb(103,0,13)"
             ]
            ],
            "size": 10
           },
           "mode": "markers",
           "name": "defense",
           "showlegend": false,
           "type": "scatter",
           "x": [
            53.3,
            57.54,
            47.41,
            57.46,
            54.73,
            45.77,
            54.57,
            55.97,
            49.45,
            44.9,
            52.44
           ],
           "y": [
            31.62,
            47.24,
            46.26,
            50.95,
            31.58,
            46.72,
            54.53,
            43.26,
            47.36,
            31.77,
            49.52
           ]
          }
         ],
         "name": "35"
        },
        {
         "data": [
          {
           "hoverinfo": "none",
           "marker": {
            "color": "black",
            "size": 10
           },
           "mode": "markers",
           "name": "offense",
           "type": "scatter",
           "x": [
            55.94,
            56.41,
            58.67,
            50.37,
            56.96,
            61.37,
            52.86,
            52.71,
            50.71,
            56.83
           ],
           "y": [
            35.77,
            37.6,
            32.52,
            26.14,
            26.96,
            25.29,
            29.86,
            27.72,
            26.13,
            52
           ]
          },
          {
           "hoverinfo": "none",
           "marker": {
            "color": "yellow",
            "opacity": 1,
            "size": 10
           },
           "mode": "markers",
           "name": "ball_carrier",
           "type": "scatter",
           "x": [
            51.17
           ],
           "y": [
            53.17
           ]
          },
          {
           "customdata": [
            [
             42401,
             "Markus Golden",
             "OLB",
             "ARI",
             0
            ],
            [
             43986,
             "Antonio Hamilton",
             "CB",
             "ARI",
             0
            ],
            [
             44848,
             "Budda Baker",
             "SS",
             "ARI",
             0.1
            ],
            [
             47816,
             "Byron Murphy",
             "CB",
             "ARI",
             0.11
            ],
            [
             47848,
             "Zach Allen",
             "DE",
             "ARI",
             0
            ],
            [
             49410,
             "Jalen Thompson",
             "FS",
             "ARI",
             0.09
            ],
            [
             52416,
             "Isaiah Simmons",
             "DB",
             "ARI",
             0.47
            ],
            [
             52522,
             "Leki Fotu",
             "DT",
             "ARI",
             0
            ],
            [
             53445,
             "Zaven Collins",
             "OLB",
             "ARI",
             0.18
            ],
            [
             53565,
             "Marco Wilson",
             "CB",
             "ARI",
             0
            ],
            [
             54552,
             "Cameron Thomas",
             "OLB",
             "ARI",
             0.17
            ]
           ],
           "hovertemplate": "<b>nflId:</b> %{customdata[0]}<br><b>Player:</b> %{customdata[1]} %{customdata[2]}<br><b>Team:</b> %{customdata[3]}<br><br><b>Tackling Probability:</b> %{customdata[4]}",
           "marker": {
            "cmax": 1,
            "cmin": 0,
            "color": [
             "#fff5f0",
             "#fff4ef",
             "#fee4d8",
             "#fee3d6",
             "#fff5f0",
             "#fee6da",
             "#fb7555",
             "#fff5f0",
             "#fdd0bc",
             "#fff5f0",
             "#fdd4c2"
            ],
            "colorbar": {
             "len": 0.85,
             "thickness": 10,
             "title": {
              "text": "defense"
             },
             "x": 1.03,
             "y": 0.4
            },
            "colorscale": [
             [
              0,
              "rgb(255,245,240)"
             ],
             [
              0.125,
              "rgb(254,224,210)"
             ],
             [
              0.25,
              "rgb(252,187,161)"
             ],
             [
              0.375,
              "rgb(252,146,114)"
             ],
             [
              0.5,
              "rgb(251,106,74)"
             ],
             [
              0.625,
              "rgb(239,59,44)"
             ],
             [
              0.75,
              "rgb(203,24,29)"
             ],
             [
              0.875,
              "rgb(165,15,21)"
             ],
             [
              1,
              "rgb(103,0,13)"
             ]
            ],
            "size": 10
           },
           "mode": "markers",
           "name": "defense",
           "showlegend": false,
           "type": "scatter",
           "x": [
            53.2,
            57.35,
            47.1,
            57.58,
            54.71,
            45.63,
            54.41,
            55.85,
            49.05,
            44.71,
            51.98
           ],
           "y": [
            31.89,
            47.49,
            46.93,
            51.01,
            31.64,
            47.35,
            55.05,
            43.71,
            47.98,
            32.07,
            50.12
           ]
          }
         ],
         "name": "36"
        },
        {
         "data": [
          {
           "hoverinfo": "none",
           "marker": {
            "color": "black",
            "size": 10
           },
           "mode": "markers",
           "name": "offense",
           "type": "scatter",
           "x": [
            56.01,
            56.41,
            58.57,
            50.37,
            56.95,
            61.26,
            52.88,
            50.57,
            52.69,
            50.74,
            56.98
           ],
           "y": [
            35.77,
            37.72,
            32.57,
            26.23,
            26.95,
            25.36,
            29.99,
            53.17,
            27.74,
            26.34,
            52.46
           ]
          },
          {
           "hoverinfo": "none",
           "marker": {
            "color": "yellow",
            "opacity": 0,
            "size": 10
           },
           "mode": "markers",
           "name": "ball_carrier",
           "type": "scatter",
           "x": [
            0
           ],
           "y": [
            0
           ]
          },
          {
           "customdata": [
            [
             42401,
             "Markus Golden",
             "OLB",
             "ARI",
             0
            ],
            [
             43986,
             "Antonio Hamilton",
             "CB",
             "ARI",
             0
            ],
            [
             44848,
             "Budda Baker",
             "SS",
             "ARI",
             0
            ],
            [
             47816,
             "Byron Murphy",
             "CB",
             "ARI",
             0
            ],
            [
             47848,
             "Zach Allen",
             "DE",
             "ARI",
             0
            ],
            [
             49410,
             "Jalen Thompson",
             "FS",
             "ARI",
             0
            ],
            [
             52416,
             "Isaiah Simmons",
             "DB",
             "ARI",
             0
            ],
            [
             52522,
             "Leki Fotu",
             "DT",
             "ARI",
             0
            ],
            [
             53445,
             "Zaven Collins",
             "OLB",
             "ARI",
             0
            ],
            [
             53565,
             "Marco Wilson",
             "CB",
             "ARI",
             0
            ],
            [
             54552,
             "Cameron Thomas",
             "OLB",
             "ARI",
             0
            ]
           ],
           "hovertemplate": "<b>nflId:</b> %{customdata[0]}<br><b>Player:</b> %{customdata[1]} %{customdata[2]}<br><b>Team:</b> %{customdata[3]}<br><br><b>Tackling Probability:</b> %{customdata[4]}",
           "marker": {
            "cmax": 1,
            "cmin": 0,
            "color": [
             "#fff5f0",
             "#fff5f0",
             "#fff5f0",
             "#fff5f0",
             "#fff5f0",
             "#fff5f0",
             "#fff5f0",
             "#fff5f0",
             "#fff5f0",
             "#fff5f0",
             "#fff5f0"
            ],
            "colorbar": {
             "len": 0.85,
             "thickness": 10,
             "title": {
              "text": "defense"
             },
             "x": 1.03,
             "y": 0.4
            },
            "colorscale": [
             [
              0,
              "rgb(255,245,240)"
             ],
             [
              0.125,
              "rgb(254,224,210)"
             ],
             [
              0.25,
              "rgb(252,187,161)"
             ],
             [
              0.375,
              "rgb(252,146,114)"
             ],
             [
              0.5,
              "rgb(251,106,74)"
             ],
             [
              0.625,
              "rgb(239,59,44)"
             ],
             [
              0.75,
              "rgb(203,24,29)"
             ],
             [
              0.875,
              "rgb(165,15,21)"
             ],
             [
              1,
              "rgb(103,0,13)"
             ]
            ],
            "size": 10
           },
           "mode": "markers",
           "name": "defense",
           "showlegend": false,
           "type": "scatter",
           "x": [
            53.09,
            57.16,
            46.76,
            57.69,
            54.69,
            45.48,
            54.25,
            55.72,
            48.64,
            44.51,
            51.47
           ],
           "y": [
            32.16,
            47.73,
            47.57,
            51.04,
            31.68,
            47.96,
            55.53,
            44.15,
            48.58,
            32.37,
            50.68
           ]
          }
         ],
         "name": "37"
        },
        {
         "data": [
          {
           "hoverinfo": "none",
           "marker": {
            "color": "black",
            "size": 10
           },
           "mode": "markers",
           "name": "offense",
           "type": "scatter",
           "x": [
            56.08,
            56.41,
            58.46,
            50.36,
            56.93,
            61.15,
            52.9,
            49.98,
            52.66,
            50.75,
            57.14
           ],
           "y": [
            35.77,
            37.83,
            32.62,
            26.31,
            26.93,
            25.44,
            30.13,
            53.17,
            27.76,
            26.56,
            52.9
           ]
          },
          {
           "hoverinfo": "none",
           "marker": {
            "color": "yellow",
            "opacity": 0,
            "size": 10
           },
           "mode": "markers",
           "name": "ball_carrier",
           "type": "scatter",
           "x": [
            0
           ],
           "y": [
            0
           ]
          },
          {
           "customdata": [
            [
             42401,
             "Markus Golden",
             "OLB",
             "ARI",
             0
            ],
            [
             43986,
             "Antonio Hamilton",
             "CB",
             "ARI",
             0
            ],
            [
             44848,
             "Budda Baker",
             "SS",
             "ARI",
             0
            ],
            [
             47816,
             "Byron Murphy",
             "CB",
             "ARI",
             0
            ],
            [
             47848,
             "Zach Allen",
             "DE",
             "ARI",
             0
            ],
            [
             49410,
             "Jalen Thompson",
             "FS",
             "ARI",
             0
            ],
            [
             52416,
             "Isaiah Simmons",
             "DB",
             "ARI",
             0
            ],
            [
             52522,
             "Leki Fotu",
             "DT",
             "ARI",
             0
            ],
            [
             53445,
             "Zaven Collins",
             "OLB",
             "ARI",
             0
            ],
            [
             53565,
             "Marco Wilson",
             "CB",
             "ARI",
             0
            ],
            [
             54552,
             "Cameron Thomas",
             "OLB",
             "ARI",
             0
            ]
           ],
           "hovertemplate": "<b>nflId:</b> %{customdata[0]}<br><b>Player:</b> %{customdata[1]} %{customdata[2]}<br><b>Team:</b> %{customdata[3]}<br><br><b>Tackling Probability:</b> %{customdata[4]}",
           "marker": {
            "cmax": 1,
            "cmin": 0,
            "color": [
             "#fff5f0",
             "#fff5f0",
             "#fff5f0",
             "#fff5f0",
             "#fff5f0",
             "#fff5f0",
             "#fff5f0",
             "#fff5f0",
             "#fff5f0",
             "#fff5f0",
             "#fff5f0"
            ],
            "colorbar": {
             "len": 0.85,
             "thickness": 10,
             "title": {
              "text": "defense"
             },
             "x": 1.03,
             "y": 0.4
            },
            "colorscale": [
             [
              0,
              "rgb(255,245,240)"
             ],
             [
              0.125,
              "rgb(254,224,210)"
             ],
             [
              0.25,
              "rgb(252,187,161)"
             ],
             [
              0.375,
              "rgb(252,146,114)"
             ],
             [
              0.5,
              "rgb(251,106,74)"
             ],
             [
              0.625,
              "rgb(239,59,44)"
             ],
             [
              0.75,
              "rgb(203,24,29)"
             ],
             [
              0.875,
              "rgb(165,15,21)"
             ],
             [
              1,
              "rgb(103,0,13)"
             ]
            ],
            "size": 10
           },
           "mode": "markers",
           "name": "defense",
           "showlegend": false,
           "type": "scatter",
           "x": [
            52.97,
            56.96,
            46.41,
            57.8,
            54.68,
            45.31,
            54.17,
            55.59,
            48.24,
            44.32,
            50.95
           ],
           "y": [
            32.41,
            47.96,
            48.19,
            51.05,
            31.7,
            48.55,
            55.91,
            44.57,
            49.15,
            32.64,
            51.21
           ]
          }
         ],
         "name": "38"
        },
        {
         "data": [
          {
           "hoverinfo": "none",
           "marker": {
            "color": "black",
            "size": 10
           },
           "mode": "markers",
           "name": "offense",
           "type": "scatter",
           "x": [
            56.16,
            56.4,
            58.36,
            50.36,
            56.91,
            61.04,
            52.9,
            49.38,
            52.65,
            50.75,
            57.3
           ],
           "y": [
            35.76,
            37.94,
            32.65,
            26.38,
            26.91,
            25.52,
            30.27,
            53.17,
            27.79,
            26.78,
            53.33
           ]
          },
          {
           "hoverinfo": "none",
           "marker": {
            "color": "yellow",
            "opacity": 0,
            "size": 10
           },
           "mode": "markers",
           "name": "ball_carrier",
           "type": "scatter",
           "x": [
            0
           ],
           "y": [
            0
           ]
          },
          {
           "customdata": [
            [
             42401,
             "Markus Golden",
             "OLB",
             "ARI",
             0
            ],
            [
             43986,
             "Antonio Hamilton",
             "CB",
             "ARI",
             0
            ],
            [
             44848,
             "Budda Baker",
             "SS",
             "ARI",
             0
            ],
            [
             47816,
             "Byron Murphy",
             "CB",
             "ARI",
             0
            ],
            [
             47848,
             "Zach Allen",
             "DE",
             "ARI",
             0
            ],
            [
             49410,
             "Jalen Thompson",
             "FS",
             "ARI",
             0
            ],
            [
             52416,
             "Isaiah Simmons",
             "DB",
             "ARI",
             0
            ],
            [
             52522,
             "Leki Fotu",
             "DT",
             "ARI",
             0
            ],
            [
             53445,
             "Zaven Collins",
             "OLB",
             "ARI",
             0
            ],
            [
             53565,
             "Marco Wilson",
             "CB",
             "ARI",
             0
            ],
            [
             54552,
             "Cameron Thomas",
             "OLB",
             "ARI",
             0
            ]
           ],
           "hovertemplate": "<b>nflId:</b> %{customdata[0]}<br><b>Player:</b> %{customdata[1]} %{customdata[2]}<br><b>Team:</b> %{customdata[3]}<br><br><b>Tackling Probability:</b> %{customdata[4]}",
           "marker": {
            "cmax": 1,
            "cmin": 0,
            "color": [
             "#fff5f0",
             "#fff5f0",
             "#fff5f0",
             "#fff5f0",
             "#fff5f0",
             "#fff5f0",
             "#fff5f0",
             "#fff5f0",
             "#fff5f0",
             "#fff5f0",
             "#fff5f0"
            ],
            "colorbar": {
             "len": 0.85,
             "thickness": 10,
             "title": {
              "text": "defense"
             },
             "x": 1.03,
             "y": 0.4
            },
            "colorscale": [
             [
              0,
              "rgb(255,245,240)"
             ],
             [
              0.125,
              "rgb(254,224,210)"
             ],
             [
              0.25,
              "rgb(252,187,161)"
             ],
             [
              0.375,
              "rgb(252,146,114)"
             ],
             [
              0.5,
              "rgb(251,106,74)"
             ],
             [
              0.625,
              "rgb(239,59,44)"
             ],
             [
              0.75,
              "rgb(203,24,29)"
             ],
             [
              0.875,
              "rgb(165,15,21)"
             ],
             [
              1,
              "rgb(103,0,13)"
             ]
            ],
            "size": 10
           },
           "mode": "markers",
           "name": "defense",
           "showlegend": false,
           "type": "scatter",
           "x": [
            52.85,
            56.76,
            46.06,
            57.9,
            54.66,
            45.13,
            54.12,
            55.45,
            47.82,
            44.14,
            50.4
           ],
           "y": [
            32.64,
            48.18,
            48.78,
            51.05,
            31.7,
            49.12,
            56.25,
            44.97,
            49.7,
            32.9,
            51.7
           ]
          }
         ],
         "name": "39"
        },
        {
         "data": [
          {
           "hoverinfo": "none",
           "marker": {
            "color": "black",
            "size": 10
           },
           "mode": "markers",
           "name": "offense",
           "type": "scatter",
           "x": [
            56.25,
            56.39,
            58.24,
            50.34,
            56.89,
            60.93,
            52.9,
            48.79,
            52.65,
            50.73,
            57.45
           ],
           "y": [
            35.75,
            38.04,
            32.69,
            26.46,
            26.89,
            25.6,
            30.4,
            54.57,
            27.81,
            27,
            53.73
           ]
          },
          {
           "hoverinfo": "none",
           "marker": {
            "color": "yellow",
            "opacity": 0,
            "size": 10
           },
           "mode": "markers",
           "name": "ball_carrier",
           "type": "scatter",
           "x": [
            0
           ],
           "y": [
            0
           ]
          },
          {
           "customdata": [
            [
             42401,
             "Markus Golden",
             "OLB",
             "ARI",
             0
            ],
            [
             43986,
             "Antonio Hamilton",
             "CB",
             "ARI",
             0
            ],
            [
             44848,
             "Budda Baker",
             "SS",
             "ARI",
             0
            ],
            [
             47816,
             "Byron Murphy",
             "CB",
             "ARI",
             0
            ],
            [
             47848,
             "Zach Allen",
             "DE",
             "ARI",
             0
            ],
            [
             49410,
             "Jalen Thompson",
             "FS",
             "ARI",
             0
            ],
            [
             52416,
             "Isaiah Simmons",
             "DB",
             "ARI",
             0
            ],
            [
             52522,
             "Leki Fotu",
             "DT",
             "ARI",
             0
            ],
            [
             53445,
             "Zaven Collins",
             "OLB",
             "ARI",
             0
            ],
            [
             53565,
             "Marco Wilson",
             "CB",
             "ARI",
             0
            ],
            [
             54552,
             "Cameron Thomas",
             "OLB",
             "ARI",
             0
            ]
           ],
           "hovertemplate": "<b>nflId:</b> %{customdata[0]}<br><b>Player:</b> %{customdata[1]} %{customdata[2]}<br><b>Team:</b> %{customdata[3]}<br><br><b>Tackling Probability:</b> %{customdata[4]}",
           "marker": {
            "cmax": 1,
            "cmin": 0,
            "color": [
             "#fff5f0",
             "#fff5f0",
             "#fff5f0",
             "#fff5f0",
             "#fff5f0",
             "#fff5f0",
             "#fff5f0",
             "#fff5f0",
             "#fff5f0",
             "#fff5f0",
             "#fff5f0"
            ],
            "colorbar": {
             "len": 0.85,
             "thickness": 10,
             "title": {
              "text": "defense"
             },
             "x": 1.03,
             "y": 0.4
            },
            "colorscale": [
             [
              0,
              "rgb(255,245,240)"
             ],
             [
              0.125,
              "rgb(254,224,210)"
             ],
             [
              0.25,
              "rgb(252,187,161)"
             ],
             [
              0.375,
              "rgb(252,146,114)"
             ],
             [
              0.5,
              "rgb(251,106,74)"
             ],
             [
              0.625,
              "rgb(239,59,44)"
             ],
             [
              0.75,
              "rgb(203,24,29)"
             ],
             [
              0.875,
              "rgb(165,15,21)"
             ],
             [
              1,
              "rgb(103,0,13)"
             ]
            ],
            "size": 10
           },
           "mode": "markers",
           "name": "defense",
           "showlegend": false,
           "type": "scatter",
           "x": [
            52.72,
            56.56,
            45.7,
            58,
            54.65,
            44.92,
            54.1,
            55.32,
            47.42,
            43.96,
            49.88
           ],
           "y": [
            32.87,
            48.38,
            49.34,
            51.05,
            31.69,
            49.65,
            56.54,
            45.34,
            50.21,
            33.14,
            52.14
           ]
          }
         ],
         "name": "40"
        }
       ],
       "layout": {
        "annotations": [
         {
          "font": {
           "color": "white",
           "size": 25
          },
          "showarrow": false,
          "text": "10",
          "x": 20,
          "y": 48.3
         },
         {
          "font": {
           "color": "white",
           "size": 25
          },
          "showarrow": false,
          "text": "20",
          "x": 30,
          "y": 48.3
         },
         {
          "font": {
           "color": "white",
           "size": 25
          },
          "showarrow": false,
          "text": "30",
          "x": 40,
          "y": 48.3
         },
         {
          "font": {
           "color": "white",
           "size": 25
          },
          "showarrow": false,
          "text": "40",
          "x": 50,
          "y": 48.3
         },
         {
          "font": {
           "color": "white",
           "size": 25
          },
          "showarrow": false,
          "text": "50",
          "x": 60,
          "y": 48.3
         },
         {
          "font": {
           "color": "white",
           "size": 25
          },
          "showarrow": false,
          "text": "40",
          "x": 70,
          "y": 48.3
         },
         {
          "font": {
           "color": "white",
           "size": 25
          },
          "showarrow": false,
          "text": "30",
          "x": 80,
          "y": 48.3
         },
         {
          "font": {
           "color": "white",
           "size": 25
          },
          "showarrow": false,
          "text": "20",
          "x": 90,
          "y": 48.3
         },
         {
          "font": {
           "color": "white",
           "size": 25
          },
          "showarrow": false,
          "text": "10",
          "x": 100,
          "y": 48.3
         },
         {
          "font": {
           "color": "white",
           "size": 25
          },
          "showarrow": false,
          "text": "10",
          "x": 20,
          "y": 5
         },
         {
          "font": {
           "color": "white",
           "size": 25
          },
          "showarrow": false,
          "text": "20",
          "x": 30,
          "y": 5
         },
         {
          "font": {
           "color": "white",
           "size": 25
          },
          "showarrow": false,
          "text": "30",
          "x": 40,
          "y": 5
         },
         {
          "font": {
           "color": "white",
           "size": 25
          },
          "showarrow": false,
          "text": "40",
          "x": 50,
          "y": 5
         },
         {
          "font": {
           "color": "white",
           "size": 25
          },
          "showarrow": false,
          "text": "50",
          "x": 60,
          "y": 5
         },
         {
          "font": {
           "color": "white",
           "size": 25
          },
          "showarrow": false,
          "text": "40",
          "x": 70,
          "y": 5
         },
         {
          "font": {
           "color": "white",
           "size": 25
          },
          "showarrow": false,
          "text": "30",
          "x": 80,
          "y": 5
         },
         {
          "font": {
           "color": "white",
           "size": 25
          },
          "showarrow": false,
          "text": "20",
          "x": 90,
          "y": 5
         },
         {
          "font": {
           "color": "white",
           "size": 25
          },
          "showarrow": false,
          "text": "10",
          "x": 100,
          "y": 5
         }
        ],
        "height": 600,
        "shapes": [
         {
          "fillcolor": "#96B78C",
          "layer": "below",
          "line": {
           "width": 0
          },
          "type": "rect",
          "x0": 0,
          "x1": 120,
          "y0": 0,
          "y1": 53.3
         },
         {
          "fillcolor": "#6F976D",
          "layer": "below",
          "line": {
           "width": 0
          },
          "type": "rect",
          "x0": 0,
          "x1": 10,
          "y0": 0,
          "y1": 53.3
         },
         {
          "fillcolor": "#6F976D",
          "layer": "below",
          "line": {
           "width": 0
          },
          "type": "rect",
          "x0": 110,
          "x1": 120,
          "y0": 0,
          "y1": 53.3
         },
         {
          "layer": "below",
          "line": {
           "color": "white",
           "width": 2
          },
          "type": "line",
          "x0": 10,
          "x1": 10,
          "y0": 0,
          "y1": 53.3
         },
         {
          "layer": "below",
          "line": {
           "color": "white",
           "width": 1
          },
          "type": "line",
          "x0": 15,
          "x1": 15,
          "y0": 0,
          "y1": 53.3
         },
         {
          "layer": "below",
          "line": {
           "color": "white",
           "width": 2
          },
          "type": "line",
          "x0": 20,
          "x1": 20,
          "y0": 0,
          "y1": 53.3
         },
         {
          "layer": "below",
          "line": {
           "color": "white",
           "width": 1
          },
          "type": "line",
          "x0": 25,
          "x1": 25,
          "y0": 0,
          "y1": 53.3
         },
         {
          "layer": "below",
          "line": {
           "color": "white",
           "width": 2
          },
          "type": "line",
          "x0": 30,
          "x1": 30,
          "y0": 0,
          "y1": 53.3
         },
         {
          "layer": "below",
          "line": {
           "color": "white",
           "width": 1
          },
          "type": "line",
          "x0": 35,
          "x1": 35,
          "y0": 0,
          "y1": 53.3
         },
         {
          "layer": "below",
          "line": {
           "color": "white",
           "width": 2
          },
          "type": "line",
          "x0": 40,
          "x1": 40,
          "y0": 0,
          "y1": 53.3
         },
         {
          "layer": "below",
          "line": {
           "color": "white",
           "width": 1
          },
          "type": "line",
          "x0": 45,
          "x1": 45,
          "y0": 0,
          "y1": 53.3
         },
         {
          "layer": "below",
          "line": {
           "color": "white",
           "width": 2
          },
          "type": "line",
          "x0": 50,
          "x1": 50,
          "y0": 0,
          "y1": 53.3
         },
         {
          "layer": "below",
          "line": {
           "color": "white",
           "width": 1
          },
          "type": "line",
          "x0": 55,
          "x1": 55,
          "y0": 0,
          "y1": 53.3
         },
         {
          "layer": "below",
          "line": {
           "color": "white",
           "width": 2
          },
          "type": "line",
          "x0": 60,
          "x1": 60,
          "y0": 0,
          "y1": 53.3
         },
         {
          "layer": "below",
          "line": {
           "color": "white",
           "width": 1
          },
          "type": "line",
          "x0": 65,
          "x1": 65,
          "y0": 0,
          "y1": 53.3
         },
         {
          "layer": "below",
          "line": {
           "color": "white",
           "width": 2
          },
          "type": "line",
          "x0": 70,
          "x1": 70,
          "y0": 0,
          "y1": 53.3
         },
         {
          "layer": "below",
          "line": {
           "color": "white",
           "width": 1
          },
          "type": "line",
          "x0": 75,
          "x1": 75,
          "y0": 0,
          "y1": 53.3
         },
         {
          "layer": "below",
          "line": {
           "color": "white",
           "width": 2
          },
          "type": "line",
          "x0": 80,
          "x1": 80,
          "y0": 0,
          "y1": 53.3
         },
         {
          "layer": "below",
          "line": {
           "color": "white",
           "width": 1
          },
          "type": "line",
          "x0": 85,
          "x1": 85,
          "y0": 0,
          "y1": 53.3
         },
         {
          "layer": "below",
          "line": {
           "color": "white",
           "width": 2
          },
          "type": "line",
          "x0": 90,
          "x1": 90,
          "y0": 0,
          "y1": 53.3
         },
         {
          "layer": "below",
          "line": {
           "color": "white",
           "width": 1
          },
          "type": "line",
          "x0": 95,
          "x1": 95,
          "y0": 0,
          "y1": 53.3
         },
         {
          "layer": "below",
          "line": {
           "color": "white",
           "width": 2
          },
          "type": "line",
          "x0": 100,
          "x1": 100,
          "y0": 0,
          "y1": 53.3
         },
         {
          "layer": "below",
          "line": {
           "color": "white",
           "width": 1
          },
          "type": "line",
          "x0": 105,
          "x1": 105,
          "y0": 0,
          "y1": 53.3
         },
         {
          "layer": "below",
          "line": {
           "color": "white",
           "width": 2
          },
          "type": "line",
          "x0": 110,
          "x1": 110,
          "y0": 0,
          "y1": 53.3
         },
         {
          "layer": "below",
          "line": {
           "color": "#0070C0",
           "width": 2
          },
          "type": "line",
          "x0": 57,
          "x1": 57,
          "y0": 0,
          "y1": 53.3
         },
         {
          "layer": "below",
          "line": {
           "color": "#E9D11F",
           "width": 2
          },
          "type": "line",
          "x0": 53,
          "x1": 53,
          "y0": 0,
          "y1": 53.3
         }
        ],
        "sliders": [
         {
          "active": 0,
          "currentvalue": {
           "font": {
            "size": 20
           },
           "prefix": "frameId: ",
           "visible": true,
           "xanchor": "right"
          },
          "len": 0.9,
          "pad": {
           "b": 10,
           "t": 50
          },
          "steps": [
           {
            "args": [
             [
              "1"
             ],
             {
              "frame": {
               "duration": 50,
               "redraw": false
              },
              "mode": "immediate",
              "transition": {
               "duration": 0
              }
             }
            ],
            "label": "1",
            "method": "animate"
           },
           {
            "args": [
             [
              "2"
             ],
             {
              "frame": {
               "duration": 50,
               "redraw": false
              },
              "mode": "immediate",
              "transition": {
               "duration": 0
              }
             }
            ],
            "label": "2",
            "method": "animate"
           },
           {
            "args": [
             [
              "3"
             ],
             {
              "frame": {
               "duration": 50,
               "redraw": false
              },
              "mode": "immediate",
              "transition": {
               "duration": 0
              }
             }
            ],
            "label": "3",
            "method": "animate"
           },
           {
            "args": [
             [
              "4"
             ],
             {
              "frame": {
               "duration": 50,
               "redraw": false
              },
              "mode": "immediate",
              "transition": {
               "duration": 0
              }
             }
            ],
            "label": "4",
            "method": "animate"
           },
           {
            "args": [
             [
              "5"
             ],
             {
              "frame": {
               "duration": 50,
               "redraw": false
              },
              "mode": "immediate",
              "transition": {
               "duration": 0
              }
             }
            ],
            "label": "5",
            "method": "animate"
           },
           {
            "args": [
             [
              "6"
             ],
             {
              "frame": {
               "duration": 50,
               "redraw": false
              },
              "mode": "immediate",
              "transition": {
               "duration": 0
              }
             }
            ],
            "label": "6",
            "method": "animate"
           },
           {
            "args": [
             [
              "7"
             ],
             {
              "frame": {
               "duration": 50,
               "redraw": false
              },
              "mode": "immediate",
              "transition": {
               "duration": 0
              }
             }
            ],
            "label": "7",
            "method": "animate"
           },
           {
            "args": [
             [
              "8"
             ],
             {
              "frame": {
               "duration": 50,
               "redraw": false
              },
              "mode": "immediate",
              "transition": {
               "duration": 0
              }
             }
            ],
            "label": "8",
            "method": "animate"
           },
           {
            "args": [
             [
              "9"
             ],
             {
              "frame": {
               "duration": 50,
               "redraw": false
              },
              "mode": "immediate",
              "transition": {
               "duration": 0
              }
             }
            ],
            "label": "9",
            "method": "animate"
           },
           {
            "args": [
             [
              "10"
             ],
             {
              "frame": {
               "duration": 50,
               "redraw": false
              },
              "mode": "immediate",
              "transition": {
               "duration": 0
              }
             }
            ],
            "label": "10",
            "method": "animate"
           },
           {
            "args": [
             [
              "11"
             ],
             {
              "frame": {
               "duration": 50,
               "redraw": false
              },
              "mode": "immediate",
              "transition": {
               "duration": 0
              }
             }
            ],
            "label": "11",
            "method": "animate"
           },
           {
            "args": [
             [
              "12"
             ],
             {
              "frame": {
               "duration": 50,
               "redraw": false
              },
              "mode": "immediate",
              "transition": {
               "duration": 0
              }
             }
            ],
            "label": "12",
            "method": "animate"
           },
           {
            "args": [
             [
              "13"
             ],
             {
              "frame": {
               "duration": 50,
               "redraw": false
              },
              "mode": "immediate",
              "transition": {
               "duration": 0
              }
             }
            ],
            "label": "13",
            "method": "animate"
           },
           {
            "args": [
             [
              "14"
             ],
             {
              "frame": {
               "duration": 50,
               "redraw": false
              },
              "mode": "immediate",
              "transition": {
               "duration": 0
              }
             }
            ],
            "label": "14",
            "method": "animate"
           },
           {
            "args": [
             [
              "15"
             ],
             {
              "frame": {
               "duration": 50,
               "redraw": false
              },
              "mode": "immediate",
              "transition": {
               "duration": 0
              }
             }
            ],
            "label": "15",
            "method": "animate"
           },
           {
            "args": [
             [
              "16"
             ],
             {
              "frame": {
               "duration": 50,
               "redraw": false
              },
              "mode": "immediate",
              "transition": {
               "duration": 0
              }
             }
            ],
            "label": "16",
            "method": "animate"
           },
           {
            "args": [
             [
              "17"
             ],
             {
              "frame": {
               "duration": 50,
               "redraw": false
              },
              "mode": "immediate",
              "transition": {
               "duration": 0
              }
             }
            ],
            "label": "17",
            "method": "animate"
           },
           {
            "args": [
             [
              "18"
             ],
             {
              "frame": {
               "duration": 50,
               "redraw": false
              },
              "mode": "immediate",
              "transition": {
               "duration": 0
              }
             }
            ],
            "label": "18",
            "method": "animate"
           },
           {
            "args": [
             [
              "19"
             ],
             {
              "frame": {
               "duration": 50,
               "redraw": false
              },
              "mode": "immediate",
              "transition": {
               "duration": 0
              }
             }
            ],
            "label": "19",
            "method": "animate"
           },
           {
            "args": [
             [
              "20"
             ],
             {
              "frame": {
               "duration": 50,
               "redraw": false
              },
              "mode": "immediate",
              "transition": {
               "duration": 0
              }
             }
            ],
            "label": "20",
            "method": "animate"
           },
           {
            "args": [
             [
              "21"
             ],
             {
              "frame": {
               "duration": 50,
               "redraw": false
              },
              "mode": "immediate",
              "transition": {
               "duration": 0
              }
             }
            ],
            "label": "21",
            "method": "animate"
           },
           {
            "args": [
             [
              "22"
             ],
             {
              "frame": {
               "duration": 50,
               "redraw": false
              },
              "mode": "immediate",
              "transition": {
               "duration": 0
              }
             }
            ],
            "label": "22",
            "method": "animate"
           },
           {
            "args": [
             [
              "23"
             ],
             {
              "frame": {
               "duration": 50,
               "redraw": false
              },
              "mode": "immediate",
              "transition": {
               "duration": 0
              }
             }
            ],
            "label": "23",
            "method": "animate"
           },
           {
            "args": [
             [
              "24"
             ],
             {
              "frame": {
               "duration": 50,
               "redraw": false
              },
              "mode": "immediate",
              "transition": {
               "duration": 0
              }
             }
            ],
            "label": "24",
            "method": "animate"
           },
           {
            "args": [
             [
              "25"
             ],
             {
              "frame": {
               "duration": 50,
               "redraw": false
              },
              "mode": "immediate",
              "transition": {
               "duration": 0
              }
             }
            ],
            "label": "25",
            "method": "animate"
           },
           {
            "args": [
             [
              "26"
             ],
             {
              "frame": {
               "duration": 50,
               "redraw": false
              },
              "mode": "immediate",
              "transition": {
               "duration": 0
              }
             }
            ],
            "label": "26",
            "method": "animate"
           },
           {
            "args": [
             [
              "27"
             ],
             {
              "frame": {
               "duration": 50,
               "redraw": false
              },
              "mode": "immediate",
              "transition": {
               "duration": 0
              }
             }
            ],
            "label": "27",
            "method": "animate"
           },
           {
            "args": [
             [
              "28"
             ],
             {
              "frame": {
               "duration": 50,
               "redraw": false
              },
              "mode": "immediate",
              "transition": {
               "duration": 0
              }
             }
            ],
            "label": "28",
            "method": "animate"
           },
           {
            "args": [
             [
              "29"
             ],
             {
              "frame": {
               "duration": 50,
               "redraw": false
              },
              "mode": "immediate",
              "transition": {
               "duration": 0
              }
             }
            ],
            "label": "29",
            "method": "animate"
           },
           {
            "args": [
             [
              "30"
             ],
             {
              "frame": {
               "duration": 50,
               "redraw": false
              },
              "mode": "immediate",
              "transition": {
               "duration": 0
              }
             }
            ],
            "label": "30",
            "method": "animate"
           },
           {
            "args": [
             [
              "31"
             ],
             {
              "frame": {
               "duration": 50,
               "redraw": false
              },
              "mode": "immediate",
              "transition": {
               "duration": 0
              }
             }
            ],
            "label": "31",
            "method": "animate"
           },
           {
            "args": [
             [
              "32"
             ],
             {
              "frame": {
               "duration": 50,
               "redraw": false
              },
              "mode": "immediate",
              "transition": {
               "duration": 0
              }
             }
            ],
            "label": "32",
            "method": "animate"
           },
           {
            "args": [
             [
              "33"
             ],
             {
              "frame": {
               "duration": 50,
               "redraw": false
              },
              "mode": "immediate",
              "transition": {
               "duration": 0
              }
             }
            ],
            "label": "33",
            "method": "animate"
           },
           {
            "args": [
             [
              "34"
             ],
             {
              "frame": {
               "duration": 50,
               "redraw": false
              },
              "mode": "immediate",
              "transition": {
               "duration": 0
              }
             }
            ],
            "label": "34",
            "method": "animate"
           },
           {
            "args": [
             [
              "35"
             ],
             {
              "frame": {
               "duration": 50,
               "redraw": false
              },
              "mode": "immediate",
              "transition": {
               "duration": 0
              }
             }
            ],
            "label": "35",
            "method": "animate"
           },
           {
            "args": [
             [
              "36"
             ],
             {
              "frame": {
               "duration": 50,
               "redraw": false
              },
              "mode": "immediate",
              "transition": {
               "duration": 0
              }
             }
            ],
            "label": "36",
            "method": "animate"
           },
           {
            "args": [
             [
              "37"
             ],
             {
              "frame": {
               "duration": 50,
               "redraw": false
              },
              "mode": "immediate",
              "transition": {
               "duration": 0
              }
             }
            ],
            "label": "37",
            "method": "animate"
           },
           {
            "args": [
             [
              "38"
             ],
             {
              "frame": {
               "duration": 50,
               "redraw": false
              },
              "mode": "immediate",
              "transition": {
               "duration": 0
              }
             }
            ],
            "label": "38",
            "method": "animate"
           },
           {
            "args": [
             [
              "39"
             ],
             {
              "frame": {
               "duration": 50,
               "redraw": false
              },
              "mode": "immediate",
              "transition": {
               "duration": 0
              }
             }
            ],
            "label": "39",
            "method": "animate"
           },
           {
            "args": [
             [
              "40"
             ],
             {
              "frame": {
               "duration": 50,
               "redraw": false
              },
              "mode": "immediate",
              "transition": {
               "duration": 0
              }
             }
            ],
            "label": "40",
            "method": "animate"
           }
          ],
          "transition": {
           "duration": 50,
           "easing": "cubic-in-out"
          },
          "x": 0.1,
          "xanchor": "left",
          "y": 0,
          "yanchor": "top"
         }
        ],
        "template": {
         "data": {
          "bar": [
           {
            "error_x": {
             "color": "#2a3f5f"
            },
            "error_y": {
             "color": "#2a3f5f"
            },
            "marker": {
             "line": {
              "color": "#E5ECF6",
              "width": 0.5
             },
             "pattern": {
              "fillmode": "overlay",
              "size": 10,
              "solidity": 0.2
             }
            },
            "type": "bar"
           }
          ],
          "barpolar": [
           {
            "marker": {
             "line": {
              "color": "#E5ECF6",
              "width": 0.5
             },
             "pattern": {
              "fillmode": "overlay",
              "size": 10,
              "solidity": 0.2
             }
            },
            "type": "barpolar"
           }
          ],
          "carpet": [
           {
            "aaxis": {
             "endlinecolor": "#2a3f5f",
             "gridcolor": "white",
             "linecolor": "white",
             "minorgridcolor": "white",
             "startlinecolor": "#2a3f5f"
            },
            "baxis": {
             "endlinecolor": "#2a3f5f",
             "gridcolor": "white",
             "linecolor": "white",
             "minorgridcolor": "white",
             "startlinecolor": "#2a3f5f"
            },
            "type": "carpet"
           }
          ],
          "choropleth": [
           {
            "colorbar": {
             "outlinewidth": 0,
             "ticks": ""
            },
            "type": "choropleth"
           }
          ],
          "contour": [
           {
            "colorbar": {
             "outlinewidth": 0,
             "ticks": ""
            },
            "colorscale": [
             [
              0,
              "#0d0887"
             ],
             [
              0.1111111111111111,
              "#46039f"
             ],
             [
              0.2222222222222222,
              "#7201a8"
             ],
             [
              0.3333333333333333,
              "#9c179e"
             ],
             [
              0.4444444444444444,
              "#bd3786"
             ],
             [
              0.5555555555555556,
              "#d8576b"
             ],
             [
              0.6666666666666666,
              "#ed7953"
             ],
             [
              0.7777777777777778,
              "#fb9f3a"
             ],
             [
              0.8888888888888888,
              "#fdca26"
             ],
             [
              1,
              "#f0f921"
             ]
            ],
            "type": "contour"
           }
          ],
          "contourcarpet": [
           {
            "colorbar": {
             "outlinewidth": 0,
             "ticks": ""
            },
            "type": "contourcarpet"
           }
          ],
          "heatmap": [
           {
            "colorbar": {
             "outlinewidth": 0,
             "ticks": ""
            },
            "colorscale": [
             [
              0,
              "#0d0887"
             ],
             [
              0.1111111111111111,
              "#46039f"
             ],
             [
              0.2222222222222222,
              "#7201a8"
             ],
             [
              0.3333333333333333,
              "#9c179e"
             ],
             [
              0.4444444444444444,
              "#bd3786"
             ],
             [
              0.5555555555555556,
              "#d8576b"
             ],
             [
              0.6666666666666666,
              "#ed7953"
             ],
             [
              0.7777777777777778,
              "#fb9f3a"
             ],
             [
              0.8888888888888888,
              "#fdca26"
             ],
             [
              1,
              "#f0f921"
             ]
            ],
            "type": "heatmap"
           }
          ],
          "heatmapgl": [
           {
            "colorbar": {
             "outlinewidth": 0,
             "ticks": ""
            },
            "colorscale": [
             [
              0,
              "#0d0887"
             ],
             [
              0.1111111111111111,
              "#46039f"
             ],
             [
              0.2222222222222222,
              "#7201a8"
             ],
             [
              0.3333333333333333,
              "#9c179e"
             ],
             [
              0.4444444444444444,
              "#bd3786"
             ],
             [
              0.5555555555555556,
              "#d8576b"
             ],
             [
              0.6666666666666666,
              "#ed7953"
             ],
             [
              0.7777777777777778,
              "#fb9f3a"
             ],
             [
              0.8888888888888888,
              "#fdca26"
             ],
             [
              1,
              "#f0f921"
             ]
            ],
            "type": "heatmapgl"
           }
          ],
          "histogram": [
           {
            "marker": {
             "pattern": {
              "fillmode": "overlay",
              "size": 10,
              "solidity": 0.2
             }
            },
            "type": "histogram"
           }
          ],
          "histogram2d": [
           {
            "colorbar": {
             "outlinewidth": 0,
             "ticks": ""
            },
            "colorscale": [
             [
              0,
              "#0d0887"
             ],
             [
              0.1111111111111111,
              "#46039f"
             ],
             [
              0.2222222222222222,
              "#7201a8"
             ],
             [
              0.3333333333333333,
              "#9c179e"
             ],
             [
              0.4444444444444444,
              "#bd3786"
             ],
             [
              0.5555555555555556,
              "#d8576b"
             ],
             [
              0.6666666666666666,
              "#ed7953"
             ],
             [
              0.7777777777777778,
              "#fb9f3a"
             ],
             [
              0.8888888888888888,
              "#fdca26"
             ],
             [
              1,
              "#f0f921"
             ]
            ],
            "type": "histogram2d"
           }
          ],
          "histogram2dcontour": [
           {
            "colorbar": {
             "outlinewidth": 0,
             "ticks": ""
            },
            "colorscale": [
             [
              0,
              "#0d0887"
             ],
             [
              0.1111111111111111,
              "#46039f"
             ],
             [
              0.2222222222222222,
              "#7201a8"
             ],
             [
              0.3333333333333333,
              "#9c179e"
             ],
             [
              0.4444444444444444,
              "#bd3786"
             ],
             [
              0.5555555555555556,
              "#d8576b"
             ],
             [
              0.6666666666666666,
              "#ed7953"
             ],
             [
              0.7777777777777778,
              "#fb9f3a"
             ],
             [
              0.8888888888888888,
              "#fdca26"
             ],
             [
              1,
              "#f0f921"
             ]
            ],
            "type": "histogram2dcontour"
           }
          ],
          "mesh3d": [
           {
            "colorbar": {
             "outlinewidth": 0,
             "ticks": ""
            },
            "type": "mesh3d"
           }
          ],
          "parcoords": [
           {
            "line": {
             "colorbar": {
              "outlinewidth": 0,
              "ticks": ""
             }
            },
            "type": "parcoords"
           }
          ],
          "pie": [
           {
            "automargin": true,
            "type": "pie"
           }
          ],
          "scatter": [
           {
            "fillpattern": {
             "fillmode": "overlay",
             "size": 10,
             "solidity": 0.2
            },
            "type": "scatter"
           }
          ],
          "scatter3d": [
           {
            "line": {
             "colorbar": {
              "outlinewidth": 0,
              "ticks": ""
             }
            },
            "marker": {
             "colorbar": {
              "outlinewidth": 0,
              "ticks": ""
             }
            },
            "type": "scatter3d"
           }
          ],
          "scattercarpet": [
           {
            "marker": {
             "colorbar": {
              "outlinewidth": 0,
              "ticks": ""
             }
            },
            "type": "scattercarpet"
           }
          ],
          "scattergeo": [
           {
            "marker": {
             "colorbar": {
              "outlinewidth": 0,
              "ticks": ""
             }
            },
            "type": "scattergeo"
           }
          ],
          "scattergl": [
           {
            "marker": {
             "colorbar": {
              "outlinewidth": 0,
              "ticks": ""
             }
            },
            "type": "scattergl"
           }
          ],
          "scattermapbox": [
           {
            "marker": {
             "colorbar": {
              "outlinewidth": 0,
              "ticks": ""
             }
            },
            "type": "scattermapbox"
           }
          ],
          "scatterpolar": [
           {
            "marker": {
             "colorbar": {
              "outlinewidth": 0,
              "ticks": ""
             }
            },
            "type": "scatterpolar"
           }
          ],
          "scatterpolargl": [
           {
            "marker": {
             "colorbar": {
              "outlinewidth": 0,
              "ticks": ""
             }
            },
            "type": "scatterpolargl"
           }
          ],
          "scatterternary": [
           {
            "marker": {
             "colorbar": {
              "outlinewidth": 0,
              "ticks": ""
             }
            },
            "type": "scatterternary"
           }
          ],
          "surface": [
           {
            "colorbar": {
             "outlinewidth": 0,
             "ticks": ""
            },
            "colorscale": [
             [
              0,
              "#0d0887"
             ],
             [
              0.1111111111111111,
              "#46039f"
             ],
             [
              0.2222222222222222,
              "#7201a8"
             ],
             [
              0.3333333333333333,
              "#9c179e"
             ],
             [
              0.4444444444444444,
              "#bd3786"
             ],
             [
              0.5555555555555556,
              "#d8576b"
             ],
             [
              0.6666666666666666,
              "#ed7953"
             ],
             [
              0.7777777777777778,
              "#fb9f3a"
             ],
             [
              0.8888888888888888,
              "#fdca26"
             ],
             [
              1,
              "#f0f921"
             ]
            ],
            "type": "surface"
           }
          ],
          "table": [
           {
            "cells": {
             "fill": {
              "color": "#EBF0F8"
             },
             "line": {
              "color": "white"
             }
            },
            "header": {
             "fill": {
              "color": "#C8D4E3"
             },
             "line": {
              "color": "white"
             }
            },
            "type": "table"
           }
          ]
         },
         "layout": {
          "annotationdefaults": {
           "arrowcolor": "#2a3f5f",
           "arrowhead": 0,
           "arrowwidth": 1
          },
          "autotypenumbers": "strict",
          "coloraxis": {
           "colorbar": {
            "outlinewidth": 0,
            "ticks": ""
           }
          },
          "colorscale": {
           "diverging": [
            [
             0,
             "#8e0152"
            ],
            [
             0.1,
             "#c51b7d"
            ],
            [
             0.2,
             "#de77ae"
            ],
            [
             0.3,
             "#f1b6da"
            ],
            [
             0.4,
             "#fde0ef"
            ],
            [
             0.5,
             "#f7f7f7"
            ],
            [
             0.6,
             "#e6f5d0"
            ],
            [
             0.7,
             "#b8e186"
            ],
            [
             0.8,
             "#7fbc41"
            ],
            [
             0.9,
             "#4d9221"
            ],
            [
             1,
             "#276419"
            ]
           ],
           "sequential": [
            [
             0,
             "#0d0887"
            ],
            [
             0.1111111111111111,
             "#46039f"
            ],
            [
             0.2222222222222222,
             "#7201a8"
            ],
            [
             0.3333333333333333,
             "#9c179e"
            ],
            [
             0.4444444444444444,
             "#bd3786"
            ],
            [
             0.5555555555555556,
             "#d8576b"
            ],
            [
             0.6666666666666666,
             "#ed7953"
            ],
            [
             0.7777777777777778,
             "#fb9f3a"
            ],
            [
             0.8888888888888888,
             "#fdca26"
            ],
            [
             1,
             "#f0f921"
            ]
           ],
           "sequentialminus": [
            [
             0,
             "#0d0887"
            ],
            [
             0.1111111111111111,
             "#46039f"
            ],
            [
             0.2222222222222222,
             "#7201a8"
            ],
            [
             0.3333333333333333,
             "#9c179e"
            ],
            [
             0.4444444444444444,
             "#bd3786"
            ],
            [
             0.5555555555555556,
             "#d8576b"
            ],
            [
             0.6666666666666666,
             "#ed7953"
            ],
            [
             0.7777777777777778,
             "#fb9f3a"
            ],
            [
             0.8888888888888888,
             "#fdca26"
            ],
            [
             1,
             "#f0f921"
            ]
           ]
          },
          "colorway": [
           "#636efa",
           "#EF553B",
           "#00cc96",
           "#ab63fa",
           "#FFA15A",
           "#19d3f3",
           "#FF6692",
           "#B6E880",
           "#FF97FF",
           "#FECB52"
          ],
          "font": {
           "color": "#2a3f5f"
          },
          "geo": {
           "bgcolor": "white",
           "lakecolor": "white",
           "landcolor": "#E5ECF6",
           "showlakes": true,
           "showland": true,
           "subunitcolor": "white"
          },
          "hoverlabel": {
           "align": "left"
          },
          "hovermode": "closest",
          "mapbox": {
           "style": "light"
          },
          "paper_bgcolor": "white",
          "plot_bgcolor": "#E5ECF6",
          "polar": {
           "angularaxis": {
            "gridcolor": "white",
            "linecolor": "white",
            "ticks": ""
           },
           "bgcolor": "#E5ECF6",
           "radialaxis": {
            "gridcolor": "white",
            "linecolor": "white",
            "ticks": ""
           }
          },
          "scene": {
           "xaxis": {
            "backgroundcolor": "#E5ECF6",
            "gridcolor": "white",
            "gridwidth": 2,
            "linecolor": "white",
            "showbackground": true,
            "ticks": "",
            "zerolinecolor": "white"
           },
           "yaxis": {
            "backgroundcolor": "#E5ECF6",
            "gridcolor": "white",
            "gridwidth": 2,
            "linecolor": "white",
            "showbackground": true,
            "ticks": "",
            "zerolinecolor": "white"
           },
           "zaxis": {
            "backgroundcolor": "#E5ECF6",
            "gridcolor": "white",
            "gridwidth": 2,
            "linecolor": "white",
            "showbackground": true,
            "ticks": "",
            "zerolinecolor": "white"
           }
          },
          "shapedefaults": {
           "line": {
            "color": "#2a3f5f"
           }
          },
          "ternary": {
           "aaxis": {
            "gridcolor": "white",
            "linecolor": "white",
            "ticks": ""
           },
           "baxis": {
            "gridcolor": "white",
            "linecolor": "white",
            "ticks": ""
           },
           "bgcolor": "#E5ECF6",
           "caxis": {
            "gridcolor": "white",
            "linecolor": "white",
            "ticks": ""
           }
          },
          "title": {
           "x": 0.05
          },
          "xaxis": {
           "automargin": true,
           "gridcolor": "white",
           "linecolor": "white",
           "ticks": "",
           "title": {
            "standoff": 15
           },
           "zerolinecolor": "white",
           "zerolinewidth": 2
          },
          "yaxis": {
           "automargin": true,
           "gridcolor": "white",
           "linecolor": "white",
           "ticks": "",
           "title": {
            "standoff": 15
           },
           "zerolinecolor": "white",
           "zerolinewidth": 2
          }
         }
        },
        "updatemenus": [
         {
          "buttons": [
           {
            "args": [
             null,
             {
              "frame": {
               "duration": 50,
               "redraw": false
              },
              "fromcurrent": true,
              "transition": {
               "duration": 0
              }
             }
            ],
            "label": "⏵",
            "method": "animate"
           },
           {
            "args": [
             [
              null
             ],
             {
              "frame": {
               "duration": 0,
               "redraw": false
              },
              "mode": "immediate",
              "transition": {
               "duration": 0
              }
             }
            ],
            "label": "⏸",
            "method": "animate"
           }
          ],
          "direction": "left",
          "pad": {
           "r": 10,
           "t": 87
          },
          "showactive": false,
          "type": "buttons",
          "x": 0.1,
          "xanchor": "right",
          "y": 0,
          "yanchor": "top"
         }
        ],
        "xaxis": {
         "range": [
          -5,
          125
         ],
         "visible": false
        },
        "yaxis": {
         "range": [
          -5,
          58.3
         ],
         "scaleanchor": "x",
         "scaleratio": 1,
         "visible": false
        }
       }
      }
     },
     "metadata": {},
     "output_type": "display_data"
    }
   ],
   "source": [
    "field_proba.fig.show()"
   ]
  },
  {
   "cell_type": "code",
   "execution_count": 43,
   "metadata": {},
   "outputs": [],
   "source": [
    "field_mott = Field()\n",
    "field_mott.draw_scrimmage_and_first_down(**test_play_tracking[[\"absoluteYardlineNumber\", \"yardsToGo\", \"playDirection\"]].iloc[0].to_dict())\n",
    "field_mott.create_mott_predictions_animation(test_play_tracking, test_mott_predictions)"
   ]
  },
  {
   "cell_type": "code",
   "execution_count": 44,
   "metadata": {},
   "outputs": [
    {
     "data": {
      "application/vnd.plotly.v1+json": {
       "config": {
        "plotlyServerURL": "https://plot.ly"
       },
       "data": [
        {
         "hoverinfo": "none",
         "marker": {
          "color": "#FE962F",
          "line": {
           "width": 1
          },
          "opacity": 0,
          "size": 12,
          "symbol": "x"
         },
         "mode": "markers",
         "name": "MOTT",
         "type": "scatter",
         "x": [
          0
         ],
         "y": [
          0
         ]
        },
        {
         "hoverinfo": "none",
         "marker": {
          "color": "black",
          "size": 10
         },
         "mode": "markers",
         "name": "offense",
         "type": "scatter",
         "x": [
          55.29,
          58.01,
          57.73,
          56.52,
          60.38,
          62.82,
          55.54,
          59.32,
          56.66,
          58.08,
          56.89
         ],
         "y": [
          27.28,
          29.17,
          27.1,
          20.09,
          24.15,
          24.25,
          23.68,
          36.4,
          25.3,
          20.87,
          31.44
         ]
        },
        {
         "hoverinfo": "none",
         "marker": {
          "color": "yellow",
          "opacity": 0,
          "size": 10
         },
         "mode": "markers",
         "name": "ball_carrier",
         "type": "scatter",
         "x": [
          0
         ],
         "y": [
          0
         ]
        },
        {
         "customdata": [
          [
           42401,
           "Markus Golden",
           "OLB",
           "ARI",
           0
          ],
          [
           43986,
           "Antonio Hamilton",
           "CB",
           "ARI",
           0
          ],
          [
           44848,
           "Budda Baker",
           "SS",
           "ARI",
           0
          ],
          [
           47816,
           "Byron Murphy",
           "CB",
           "ARI",
           0
          ],
          [
           47848,
           "Zach Allen",
           "DE",
           "ARI",
           0
          ],
          [
           49410,
           "Jalen Thompson",
           "FS",
           "ARI",
           0
          ],
          [
           52416,
           "Isaiah Simmons",
           "DB",
           "ARI",
           0
          ],
          [
           52522,
           "Leki Fotu",
           "DT",
           "ARI",
           0
          ],
          [
           53445,
           "Zaven Collins",
           "OLB",
           "ARI",
           0
          ],
          [
           53565,
           "Marco Wilson",
           "CB",
           "ARI",
           0
          ],
          [
           54552,
           "Cameron Thomas",
           "OLB",
           "ARI",
           0
          ]
         ],
         "hovertemplate": "<b>nflId:</b> %{customdata[0]}<br><b>Player:</b> %{customdata[1]} %{customdata[2]}<br><b>Team:</b> %{customdata[3]}<br><br><b>Tackling Probability:</b> %{customdata[4]}",
         "marker": {
          "cmax": 1,
          "cmin": 0,
          "color": [
           "#fff5f0",
           "#fff5f0",
           "#fff5f0",
           "#fff5f0",
           "#fff5f0",
           "#fff5f0",
           "#fff5f0",
           "#fff5f0",
           "#fff5f0",
           "#fff5f0",
           "#fff5f0"
          ],
          "colorbar": {
           "len": 0.85,
           "thickness": 10,
           "title": {
            "text": "defense"
           },
           "x": 1.03,
           "y": 0.4
          },
          "colorscale": [
           [
            0,
            "rgb(255,245,240)"
           ],
           [
            0.125,
            "rgb(254,224,210)"
           ],
           [
            0.25,
            "rgb(252,187,161)"
           ],
           [
            0.375,
            "rgb(252,146,114)"
           ],
           [
            0.5,
            "rgb(251,106,74)"
           ],
           [
            0.625,
            "rgb(239,59,44)"
           ],
           [
            0.75,
            "rgb(203,24,29)"
           ],
           [
            0.875,
            "rgb(165,15,21)"
           ],
           [
            1,
            "rgb(103,0,13)"
           ]
          ],
          "size": 10
         },
         "mode": "markers",
         "name": "defense",
         "showlegend": false,
         "type": "scatter",
         "x": [
          57.64,
          50.6,
          51.91,
          51.85,
          56.17,
          40.1,
          53.9,
          57.75,
          53.76,
          50.91,
          57.57
         ],
         "y": [
          20.66,
          36.13,
          22.24,
          33.03,
          25.74,
          27.74,
          28.54,
          27.86,
          25.72,
          18.12,
          29.71
         ]
        }
       ],
       "frames": [
        {
         "data": [
          {
           "hoverinfo": "none",
           "marker": {
            "color": "#FE962F",
            "line": {
             "width": 1
            },
            "opacity": 0,
            "size": 12,
            "symbol": "x"
           },
           "mode": "markers",
           "name": "MOTT",
           "type": "scatter",
           "x": [
            0
           ],
           "y": [
            0
           ]
          },
          {
           "hoverinfo": "none",
           "marker": {
            "color": "black",
            "size": 10
           },
           "mode": "markers",
           "name": "offense",
           "type": "scatter",
           "x": [
            55.29,
            58.01,
            57.73,
            56.52,
            60.38,
            62.82,
            55.54,
            59.32,
            56.66,
            58.08,
            56.89
           ],
           "y": [
            27.28,
            29.17,
            27.1,
            20.09,
            24.15,
            24.25,
            23.68,
            36.4,
            25.3,
            20.87,
            31.44
           ]
          },
          {
           "hoverinfo": "none",
           "marker": {
            "color": "yellow",
            "opacity": 0,
            "size": 10
           },
           "mode": "markers",
           "name": "ball_carrier",
           "type": "scatter",
           "x": [
            0
           ],
           "y": [
            0
           ]
          },
          {
           "customdata": [
            [
             42401,
             "Markus Golden",
             "OLB",
             "ARI",
             0
            ],
            [
             43986,
             "Antonio Hamilton",
             "CB",
             "ARI",
             0
            ],
            [
             44848,
             "Budda Baker",
             "SS",
             "ARI",
             0
            ],
            [
             47816,
             "Byron Murphy",
             "CB",
             "ARI",
             0
            ],
            [
             47848,
             "Zach Allen",
             "DE",
             "ARI",
             0
            ],
            [
             49410,
             "Jalen Thompson",
             "FS",
             "ARI",
             0
            ],
            [
             52416,
             "Isaiah Simmons",
             "DB",
             "ARI",
             0
            ],
            [
             52522,
             "Leki Fotu",
             "DT",
             "ARI",
             0
            ],
            [
             53445,
             "Zaven Collins",
             "OLB",
             "ARI",
             0
            ],
            [
             53565,
             "Marco Wilson",
             "CB",
             "ARI",
             0
            ],
            [
             54552,
             "Cameron Thomas",
             "OLB",
             "ARI",
             0
            ]
           ],
           "hovertemplate": "<b>nflId:</b> %{customdata[0]}<br><b>Player:</b> %{customdata[1]} %{customdata[2]}<br><b>Team:</b> %{customdata[3]}<br><br><b>Tackling Probability:</b> %{customdata[4]}",
           "marker": {
            "cmax": 1,
            "cmin": 0,
            "color": [
             "#fff5f0",
             "#fff5f0",
             "#fff5f0",
             "#fff5f0",
             "#fff5f0",
             "#fff5f0",
             "#fff5f0",
             "#fff5f0",
             "#fff5f0",
             "#fff5f0",
             "#fff5f0"
            ],
            "colorbar": {
             "len": 0.85,
             "thickness": 10,
             "title": {
              "text": "defense"
             },
             "x": 1.03,
             "y": 0.4
            },
            "colorscale": [
             [
              0,
              "rgb(255,245,240)"
             ],
             [
              0.125,
              "rgb(254,224,210)"
             ],
             [
              0.25,
              "rgb(252,187,161)"
             ],
             [
              0.375,
              "rgb(252,146,114)"
             ],
             [
              0.5,
              "rgb(251,106,74)"
             ],
             [
              0.625,
              "rgb(239,59,44)"
             ],
             [
              0.75,
              "rgb(203,24,29)"
             ],
             [
              0.875,
              "rgb(165,15,21)"
             ],
             [
              1,
              "rgb(103,0,13)"
             ]
            ],
            "size": 10
           },
           "mode": "markers",
           "name": "defense",
           "showlegend": false,
           "type": "scatter",
           "x": [
            57.64,
            50.6,
            51.91,
            51.85,
            56.17,
            40.1,
            53.9,
            57.75,
            53.76,
            50.91,
            57.57
           ],
           "y": [
            20.66,
            36.13,
            22.24,
            33.03,
            25.74,
            27.74,
            28.54,
            27.86,
            25.72,
            18.12,
            29.71
           ]
          }
         ],
         "name": "1"
        },
        {
         "data": [
          {
           "hoverinfo": "none",
           "marker": {
            "color": "#FE962F",
            "line": {
             "width": 1
            },
            "opacity": 0,
            "size": 12,
            "symbol": "x"
           },
           "mode": "markers",
           "name": "MOTT",
           "type": "scatter",
           "x": [
            0
           ],
           "y": [
            0
           ]
          },
          {
           "hoverinfo": "none",
           "marker": {
            "color": "black",
            "size": 10
           },
           "mode": "markers",
           "name": "offense",
           "type": "scatter",
           "x": [
            55.06,
            57.95,
            57.68,
            56.31,
            60.02,
            62.84,
            55.28,
            59.36,
            56.46,
            57.95,
            56.64
           ],
           "y": [
            27.68,
            29.39,
            27.29,
            20.21,
            24.35,
            24.29,
            24.01,
            36.61,
            25.46,
            21.07,
            31.9
           ]
          },
          {
           "hoverinfo": "none",
           "marker": {
            "color": "yellow",
            "opacity": 0,
            "size": 10
           },
           "mode": "markers",
           "name": "ball_carrier",
           "type": "scatter",
           "x": [
            0
           ],
           "y": [
            0
           ]
          },
          {
           "customdata": [
            [
             42401,
             "Markus Golden",
             "OLB",
             "ARI",
             0
            ],
            [
             43986,
             "Antonio Hamilton",
             "CB",
             "ARI",
             0
            ],
            [
             44848,
             "Budda Baker",
             "SS",
             "ARI",
             0
            ],
            [
             47816,
             "Byron Murphy",
             "CB",
             "ARI",
             0
            ],
            [
             47848,
             "Zach Allen",
             "DE",
             "ARI",
             0
            ],
            [
             49410,
             "Jalen Thompson",
             "FS",
             "ARI",
             0
            ],
            [
             52416,
             "Isaiah Simmons",
             "DB",
             "ARI",
             0
            ],
            [
             52522,
             "Leki Fotu",
             "DT",
             "ARI",
             0
            ],
            [
             53445,
             "Zaven Collins",
             "OLB",
             "ARI",
             0
            ],
            [
             53565,
             "Marco Wilson",
             "CB",
             "ARI",
             0
            ],
            [
             54552,
             "Cameron Thomas",
             "OLB",
             "ARI",
             0
            ]
           ],
           "hovertemplate": "<b>nflId:</b> %{customdata[0]}<br><b>Player:</b> %{customdata[1]} %{customdata[2]}<br><b>Team:</b> %{customdata[3]}<br><br><b>Tackling Probability:</b> %{customdata[4]}",
           "marker": {
            "cmax": 1,
            "cmin": 0,
            "color": [
             "#fff5f0",
             "#fff5f0",
             "#fff5f0",
             "#fff5f0",
             "#fff5f0",
             "#fff5f0",
             "#fff5f0",
             "#fff5f0",
             "#fff5f0",
             "#fff5f0",
             "#fff5f0"
            ],
            "colorbar": {
             "len": 0.85,
             "thickness": 10,
             "title": {
              "text": "defense"
             },
             "x": 1.03,
             "y": 0.4
            },
            "colorscale": [
             [
              0,
              "rgb(255,245,240)"
             ],
             [
              0.125,
              "rgb(254,224,210)"
             ],
             [
              0.25,
              "rgb(252,187,161)"
             ],
             [
              0.375,
              "rgb(252,146,114)"
             ],
             [
              0.5,
              "rgb(251,106,74)"
             ],
             [
              0.625,
              "rgb(239,59,44)"
             ],
             [
              0.75,
              "rgb(203,24,29)"
             ],
             [
              0.875,
              "rgb(165,15,21)"
             ],
             [
              1,
              "rgb(103,0,13)"
             ]
            ],
            "size": 10
           },
           "mode": "markers",
           "name": "defense",
           "showlegend": false,
           "type": "scatter",
           "x": [
            57.51,
            50.92,
            51.91,
            52.03,
            56.04,
            40.24,
            53.98,
            57.78,
            53.6,
            51.01,
            57.59
           ],
           "y": [
            20.91,
            36.29,
            22.71,
            33.45,
            25.98,
            27.85,
            29.01,
            28.09,
            26.12,
            18.4,
            30
           ]
          }
         ],
         "name": "2"
        },
        {
         "data": [
          {
           "hoverinfo": "none",
           "marker": {
            "color": "#FE962F",
            "line": {
             "width": 1
            },
            "opacity": 0,
            "size": 12,
            "symbol": "x"
           },
           "mode": "markers",
           "name": "MOTT",
           "type": "scatter",
           "x": [
            0
           ],
           "y": [
            0
           ]
          },
          {
           "hoverinfo": "none",
           "marker": {
            "color": "black",
            "size": 10
           },
           "mode": "markers",
           "name": "offense",
           "type": "scatter",
           "x": [
            54.84,
            57.88,
            57.64,
            56.08,
            59.66,
            62.84,
            55.05,
            59.36,
            56.22,
            57.78,
            56.39
           ],
           "y": [
            28.07,
            29.62,
            27.49,
            20.35,
            24.54,
            24.34,
            24.33,
            36.84,
            25.62,
            21.26,
            32.38
           ]
          },
          {
           "hoverinfo": "none",
           "marker": {
            "color": "yellow",
            "opacity": 0,
            "size": 10
           },
           "mode": "markers",
           "name": "ball_carrier",
           "type": "scatter",
           "x": [
            0
           ],
           "y": [
            0
           ]
          },
          {
           "customdata": [
            [
             42401,
             "Markus Golden",
             "OLB",
             "ARI",
             0
            ],
            [
             43986,
             "Antonio Hamilton",
             "CB",
             "ARI",
             0
            ],
            [
             44848,
             "Budda Baker",
             "SS",
             "ARI",
             0
            ],
            [
             47816,
             "Byron Murphy",
             "CB",
             "ARI",
             0
            ],
            [
             47848,
             "Zach Allen",
             "DE",
             "ARI",
             0
            ],
            [
             49410,
             "Jalen Thompson",
             "FS",
             "ARI",
             0
            ],
            [
             52416,
             "Isaiah Simmons",
             "DB",
             "ARI",
             0
            ],
            [
             52522,
             "Leki Fotu",
             "DT",
             "ARI",
             0
            ],
            [
             53445,
             "Zaven Collins",
             "OLB",
             "ARI",
             0
            ],
            [
             53565,
             "Marco Wilson",
             "CB",
             "ARI",
             0
            ],
            [
             54552,
             "Cameron Thomas",
             "OLB",
             "ARI",
             0
            ]
           ],
           "hovertemplate": "<b>nflId:</b> %{customdata[0]}<br><b>Player:</b> %{customdata[1]} %{customdata[2]}<br><b>Team:</b> %{customdata[3]}<br><br><b>Tackling Probability:</b> %{customdata[4]}",
           "marker": {
            "cmax": 1,
            "cmin": 0,
            "color": [
             "#fff5f0",
             "#fff5f0",
             "#fff5f0",
             "#fff5f0",
             "#fff5f0",
             "#fff5f0",
             "#fff5f0",
             "#fff5f0",
             "#fff5f0",
             "#fff5f0",
             "#fff5f0"
            ],
            "colorbar": {
             "len": 0.85,
             "thickness": 10,
             "title": {
              "text": "defense"
             },
             "x": 1.03,
             "y": 0.4
            },
            "colorscale": [
             [
              0,
              "rgb(255,245,240)"
             ],
             [
              0.125,
              "rgb(254,224,210)"
             ],
             [
              0.25,
              "rgb(252,187,161)"
             ],
             [
              0.375,
              "rgb(252,146,114)"
             ],
             [
              0.5,
              "rgb(251,106,74)"
             ],
             [
              0.625,
              "rgb(239,59,44)"
             ],
             [
              0.75,
              "rgb(203,24,29)"
             ],
             [
              0.875,
              "rgb(165,15,21)"
             ],
             [
              1,
              "rgb(103,0,13)"
             ]
            ],
            "size": 10
           },
           "mode": "markers",
           "name": "defense",
           "showlegend": false,
           "type": "scatter",
           "x": [
            57.34,
            51.3,
            51.88,
            52.23,
            55.92,
            40.41,
            54.08,
            57.8,
            53.45,
            51.1,
            57.59
           ],
           "y": [
            21.18,
            36.47,
            23.22,
            33.89,
            26.22,
            28,
            29.53,
            28.32,
            26.55,
            18.72,
            30.3
           ]
          }
         ],
         "name": "3"
        },
        {
         "data": [
          {
           "hoverinfo": "none",
           "marker": {
            "color": "#FE962F",
            "line": {
             "width": 1
            },
            "opacity": 0,
            "size": 12,
            "symbol": "x"
           },
           "mode": "markers",
           "name": "MOTT",
           "type": "scatter",
           "x": [
            0
           ],
           "y": [
            0
           ]
          },
          {
           "hoverinfo": "none",
           "marker": {
            "color": "black",
            "size": 10
           },
           "mode": "markers",
           "name": "offense",
           "type": "scatter",
           "x": [
            54.66,
            57.82,
            57.62,
            55.82,
            59.31,
            62.85,
            54.83,
            59.33,
            55.99,
            57.59,
            56.16
           ],
           "y": [
            28.49,
            29.86,
            27.71,
            20.53,
            24.72,
            24.37,
            24.65,
            37.09,
            25.77,
            21.44,
            32.88
           ]
          },
          {
           "hoverinfo": "none",
           "marker": {
            "color": "yellow",
            "opacity": 0,
            "size": 10
           },
           "mode": "markers",
           "name": "ball_carrier",
           "type": "scatter",
           "x": [
            0
           ],
           "y": [
            0
           ]
          },
          {
           "customdata": [
            [
             42401,
             "Markus Golden",
             "OLB",
             "ARI",
             0
            ],
            [
             43986,
             "Antonio Hamilton",
             "CB",
             "ARI",
             0
            ],
            [
             44848,
             "Budda Baker",
             "SS",
             "ARI",
             0
            ],
            [
             47816,
             "Byron Murphy",
             "CB",
             "ARI",
             0
            ],
            [
             47848,
             "Zach Allen",
             "DE",
             "ARI",
             0
            ],
            [
             49410,
             "Jalen Thompson",
             "FS",
             "ARI",
             0
            ],
            [
             52416,
             "Isaiah Simmons",
             "DB",
             "ARI",
             0
            ],
            [
             52522,
             "Leki Fotu",
             "DT",
             "ARI",
             0
            ],
            [
             53445,
             "Zaven Collins",
             "OLB",
             "ARI",
             0
            ],
            [
             53565,
             "Marco Wilson",
             "CB",
             "ARI",
             0
            ],
            [
             54552,
             "Cameron Thomas",
             "OLB",
             "ARI",
             0
            ]
           ],
           "hovertemplate": "<b>nflId:</b> %{customdata[0]}<br><b>Player:</b> %{customdata[1]} %{customdata[2]}<br><b>Team:</b> %{customdata[3]}<br><br><b>Tackling Probability:</b> %{customdata[4]}",
           "marker": {
            "cmax": 1,
            "cmin": 0,
            "color": [
             "#fff5f0",
             "#fff5f0",
             "#fff5f0",
             "#fff5f0",
             "#fff5f0",
             "#fff5f0",
             "#fff5f0",
             "#fff5f0",
             "#fff5f0",
             "#fff5f0",
             "#fff5f0"
            ],
            "colorbar": {
             "len": 0.85,
             "thickness": 10,
             "title": {
              "text": "defense"
             },
             "x": 1.03,
             "y": 0.4
            },
            "colorscale": [
             [
              0,
              "rgb(255,245,240)"
             ],
             [
              0.125,
              "rgb(254,224,210)"
             ],
             [
              0.25,
              "rgb(252,187,161)"
             ],
             [
              0.375,
              "rgb(252,146,114)"
             ],
             [
              0.5,
              "rgb(251,106,74)"
             ],
             [
              0.625,
              "rgb(239,59,44)"
             ],
             [
              0.75,
              "rgb(203,24,29)"
             ],
             [
              0.875,
              "rgb(165,15,21)"
             ],
             [
              1,
              "rgb(103,0,13)"
             ]
            ],
            "size": 10
           },
           "mode": "markers",
           "name": "defense",
           "showlegend": false,
           "type": "scatter",
           "x": [
            57.13,
            51.72,
            51.83,
            52.45,
            55.81,
            40.61,
            54.18,
            57.82,
            53.3,
            51.16,
            57.58
           ],
           "y": [
            21.46,
            36.68,
            23.76,
            34.36,
            26.45,
            28.2,
            30.1,
            28.57,
            27,
            19.05,
            30.63
           ]
          }
         ],
         "name": "4"
        },
        {
         "data": [
          {
           "hoverinfo": "none",
           "marker": {
            "color": "#FE962F",
            "line": {
             "width": 1
            },
            "opacity": 0,
            "size": 12,
            "symbol": "x"
           },
           "mode": "markers",
           "name": "MOTT",
           "type": "scatter",
           "x": [
            0
           ],
           "y": [
            0
           ]
          },
          {
           "hoverinfo": "none",
           "marker": {
            "color": "black",
            "size": 10
           },
           "mode": "markers",
           "name": "offense",
           "type": "scatter",
           "x": [
            54.51,
            57.74,
            57.62,
            55.53,
            58.98,
            62.84,
            54.63,
            55.74,
            57.36,
            55.95
           ],
           "y": [
            28.92,
            30.11,
            27.95,
            20.73,
            24.87,
            24.4,
            24.96,
            25.92,
            21.62,
            33.41
           ]
          },
          {
           "hoverinfo": "none",
           "marker": {
            "color": "yellow",
            "opacity": 1,
            "size": 10
           },
           "mode": "markers",
           "name": "ball_carrier",
           "type": "scatter",
           "x": [
            59.28
           ],
           "y": [
            37.36
           ]
          },
          {
           "customdata": [
            [
             42401,
             "Markus Golden",
             "OLB",
             "ARI",
             0
            ],
            [
             43986,
             "Antonio Hamilton",
             "CB",
             "ARI",
             0.84
            ],
            [
             44848,
             "Budda Baker",
             "SS",
             "ARI",
             0.01
            ],
            [
             47816,
             "Byron Murphy",
             "CB",
             "ARI",
             0.38
            ],
            [
             47848,
             "Zach Allen",
             "DE",
             "ARI",
             0.01
            ],
            [
             49410,
             "Jalen Thompson",
             "FS",
             "ARI",
             0.03
            ],
            [
             52416,
             "Isaiah Simmons",
             "DB",
             "ARI",
             0.17
            ],
            [
             52522,
             "Leki Fotu",
             "DT",
             "ARI",
             0.02
            ],
            [
             53445,
             "Zaven Collins",
             "OLB",
             "ARI",
             0.02
            ],
            [
             53565,
             "Marco Wilson",
             "CB",
             "ARI",
             0
            ],
            [
             54552,
             "Cameron Thomas",
             "OLB",
             "ARI",
             0.05
            ]
           ],
           "hovertemplate": "<b>nflId:</b> %{customdata[0]}<br><b>Player:</b> %{customdata[1]} %{customdata[2]}<br><b>Team:</b> %{customdata[3]}<br><br><b>Tackling Probability:</b> %{customdata[4]}",
           "marker": {
            "cmax": 1,
            "cmin": 0,
            "color": [
             "#fff5f0",
             "#af1117",
             "#fff4ee",
             "#fc9272",
             "#fff4ef",
             "#fff0e9",
             "#fdd3c1",
             "#fff2eb",
             "#fff2ec",
             "#fff4ef",
             "#ffeee6"
            ],
            "colorbar": {
             "len": 0.85,
             "thickness": 10,
             "title": {
              "text": "defense"
             },
             "x": 1.03,
             "y": 0.4
            },
            "colorscale": [
             [
              0,
              "rgb(255,245,240)"
             ],
             [
              0.125,
              "rgb(254,224,210)"
             ],
             [
              0.25,
              "rgb(252,187,161)"
             ],
             [
              0.375,
              "rgb(252,146,114)"
             ],
             [
              0.5,
              "rgb(251,106,74)"
             ],
             [
              0.625,
              "rgb(239,59,44)"
             ],
             [
              0.75,
              "rgb(203,24,29)"
             ],
             [
              0.875,
              "rgb(165,15,21)"
             ],
             [
              1,
              "rgb(103,0,13)"
             ]
            ],
            "size": 10
           },
           "mode": "markers",
           "name": "defense",
           "showlegend": false,
           "type": "scatter",
           "x": [
            56.9,
            52.18,
            51.76,
            52.68,
            55.71,
            40.83,
            54.29,
            57.84,
            53.17,
            51.18,
            57.55
           ],
           "y": [
            21.75,
            36.93,
            24.31,
            34.84,
            26.68,
            28.45,
            30.7,
            28.83,
            27.48,
            19.41,
            30.96
           ]
          }
         ],
         "name": "5"
        },
        {
         "data": [
          {
           "hoverinfo": "none",
           "marker": {
            "color": "#FE962F",
            "line": {
             "width": 1
            },
            "opacity": 0,
            "size": 12,
            "symbol": "x"
           },
           "mode": "markers",
           "name": "MOTT",
           "type": "scatter",
           "x": [
            0
           ],
           "y": [
            0
           ]
          },
          {
           "hoverinfo": "none",
           "marker": {
            "color": "black",
            "size": 10
           },
           "mode": "markers",
           "name": "offense",
           "type": "scatter",
           "x": [
            54.4,
            57.65,
            57.63,
            55.23,
            58.67,
            62.83,
            54.46,
            55.49,
            57.07,
            55.75
           ],
           "y": [
            29.34,
            30.38,
            28.19,
            20.95,
            25.01,
            24.42,
            25.26,
            26.07,
            21.77,
            33.97
           ]
          },
          {
           "hoverinfo": "none",
           "marker": {
            "color": "yellow",
            "opacity": 1,
            "size": 10
           },
           "mode": "markers",
           "name": "ball_carrier",
           "type": "scatter",
           "x": [
            59.18
           ],
           "y": [
            37.66
           ]
          },
          {
           "customdata": [
            [
             42401,
             "Markus Golden",
             "OLB",
             "ARI",
             0
            ],
            [
             43986,
             "Antonio Hamilton",
             "CB",
             "ARI",
             0.62
            ],
            [
             44848,
             "Budda Baker",
             "SS",
             "ARI",
             0.02
            ],
            [
             47816,
             "Byron Murphy",
             "CB",
             "ARI",
             0.48
            ],
            [
             47848,
             "Zach Allen",
             "DE",
             "ARI",
             0.01
            ],
            [
             49410,
             "Jalen Thompson",
             "FS",
             "ARI",
             0.06
            ],
            [
             52416,
             "Isaiah Simmons",
             "DB",
             "ARI",
             0.18
            ],
            [
             52522,
             "Leki Fotu",
             "DT",
             "ARI",
             0.02
            ],
            [
             53445,
             "Zaven Collins",
             "OLB",
             "ARI",
             0.03
            ],
            [
             53565,
             "Marco Wilson",
             "CB",
             "ARI",
             0.01
            ],
            [
             54552,
             "Cameron Thomas",
             "OLB",
             "ARI",
             0.06
            ]
           ],
           "hovertemplate": "<b>nflId:</b> %{customdata[0]}<br><b>Player:</b> %{customdata[1]} %{customdata[2]}<br><b>Team:</b> %{customdata[3]}<br><br><b>Tackling Probability:</b> %{customdata[4]}",
           "marker": {
            "cmax": 1,
            "cmin": 0,
            "color": [
             "#fff5f0",
             "#f03f2e",
             "#fff2eb",
             "#fb7151",
             "#fff4ee",
             "#ffebe2",
             "#fdcebb",
             "#fff2eb",
             "#fff0e9",
             "#fff4ef",
             "#ffebe2"
            ],
            "colorbar": {
             "len": 0.85,
             "thickness": 10,
             "title": {
              "text": "defense"
             },
             "x": 1.03,
             "y": 0.4
            },
            "colorscale": [
             [
              0,
              "rgb(255,245,240)"
             ],
             [
              0.125,
              "rgb(254,224,210)"
             ],
             [
              0.25,
              "rgb(252,187,161)"
             ],
             [
              0.375,
              "rgb(252,146,114)"
             ],
             [
              0.5,
              "rgb(251,106,74)"
             ],
             [
              0.625,
              "rgb(239,59,44)"
             ],
             [
              0.75,
              "rgb(203,24,29)"
             ],
             [
              0.875,
              "rgb(165,15,21)"
             ],
             [
              1,
              "rgb(103,0,13)"
             ]
            ],
            "size": 10
           },
           "mode": "markers",
           "name": "defense",
           "showlegend": false,
           "type": "scatter",
           "x": [
            56.66,
            52.68,
            51.65,
            52.91,
            55.61,
            41.08,
            54.42,
            57.85,
            53.06,
            51.17,
            57.51
           ],
           "y": [
            22.05,
            37.2,
            24.9,
            35.33,
            26.89,
            28.74,
            31.34,
            29.09,
            27.98,
            19.78,
            31.31
           ]
          }
         ],
         "name": "6"
        },
        {
         "data": [
          {
           "hoverinfo": "none",
           "marker": {
            "color": "#FE962F",
            "line": {
             "width": 1
            },
            "opacity": 0,
            "size": 12,
            "symbol": "x"
           },
           "mode": "markers",
           "name": "MOTT",
           "type": "scatter",
           "x": [
            0
           ],
           "y": [
            0
           ]
          },
          {
           "hoverinfo": "none",
           "marker": {
            "color": "black",
            "size": 10
           },
           "mode": "markers",
           "name": "offense",
           "type": "scatter",
           "x": [
            54.31,
            57.54,
            57.66,
            54.92,
            58.38,
            62.82,
            54.3,
            55.24,
            56.79,
            55.57
           ],
           "y": [
            29.75,
            30.67,
            28.43,
            21.19,
            25.13,
            24.44,
            25.54,
            26.24,
            21.9,
            34.55
           ]
          },
          {
           "hoverinfo": "none",
           "marker": {
            "color": "yellow",
            "opacity": 1,
            "size": 10
           },
           "mode": "markers",
           "name": "ball_carrier",
           "type": "scatter",
           "x": [
            59.06
           ],
           "y": [
            38
           ]
          },
          {
           "customdata": [
            [
             42401,
             "Markus Golden",
             "OLB",
             "ARI",
             0
            ],
            [
             43986,
             "Antonio Hamilton",
             "CB",
             "ARI",
             0.55
            ],
            [
             44848,
             "Budda Baker",
             "SS",
             "ARI",
             0.02
            ],
            [
             47816,
             "Byron Murphy",
             "CB",
             "ARI",
             0.37
            ],
            [
             47848,
             "Zach Allen",
             "DE",
             "ARI",
             0.02
            ],
            [
             49410,
             "Jalen Thompson",
             "FS",
             "ARI",
             0.07
            ],
            [
             52416,
             "Isaiah Simmons",
             "DB",
             "ARI",
             0.22
            ],
            [
             52522,
             "Leki Fotu",
             "DT",
             "ARI",
             0.02
            ],
            [
             53445,
             "Zaven Collins",
             "OLB",
             "ARI",
             0.03
            ],
            [
             53565,
             "Marco Wilson",
             "CB",
             "ARI",
             0.01
            ],
            [
             54552,
             "Cameron Thomas",
             "OLB",
             "ARI",
             0.08
            ]
           ],
           "hovertemplate": "<b>nflId:</b> %{customdata[0]}<br><b>Player:</b> %{customdata[1]} %{customdata[2]}<br><b>Team:</b> %{customdata[3]}<br><br><b>Tackling Probability:</b> %{customdata[4]}",
           "marker": {
            "cmax": 1,
            "cmin": 0,
            "color": [
             "#fff5f0",
             "#f6563d",
             "#fff2eb",
             "#fc9373",
             "#fff2ec",
             "#fee9df",
             "#fdc5ae",
             "#fff1ea",
             "#fff0e8",
             "#fff4ef",
             "#fee8de"
            ],
            "colorbar": {
             "len": 0.85,
             "thickness": 10,
             "title": {
              "text": "defense"
             },
             "x": 1.03,
             "y": 0.4
            },
            "colorscale": [
             [
              0,
              "rgb(255,245,240)"
             ],
             [
              0.125,
              "rgb(254,224,210)"
             ],
             [
              0.25,
              "rgb(252,187,161)"
             ],
             [
              0.375,
              "rgb(252,146,114)"
             ],
             [
              0.5,
              "rgb(251,106,74)"
             ],
             [
              0.625,
              "rgb(239,59,44)"
             ],
             [
              0.75,
              "rgb(203,24,29)"
             ],
             [
              0.875,
              "rgb(165,15,21)"
             ],
             [
              1,
              "rgb(103,0,13)"
             ]
            ],
            "size": 10
           },
           "mode": "markers",
           "name": "defense",
           "showlegend": false,
           "type": "scatter",
           "x": [
            56.4,
            53.19,
            51.52,
            53.14,
            55.52,
            41.36,
            54.55,
            57.85,
            52.97,
            51.12,
            57.45
           ],
           "y": [
            22.36,
            37.51,
            25.5,
            35.84,
            27.09,
            29.08,
            32.01,
            29.39,
            28.5,
            20.17,
            31.67
           ]
          }
         ],
         "name": "7"
        },
        {
         "data": [
          {
           "hoverinfo": "none",
           "marker": {
            "color": "#FE962F",
            "line": {
             "width": 1
            },
            "opacity": 0,
            "size": 12,
            "symbol": "x"
           },
           "mode": "markers",
           "name": "MOTT",
           "type": "scatter",
           "x": [
            0
           ],
           "y": [
            0
           ]
          },
          {
           "hoverinfo": "none",
           "marker": {
            "color": "black",
            "size": 10
           },
           "mode": "markers",
           "name": "offense",
           "type": "scatter",
           "x": [
            54.25,
            57.43,
            57.72,
            54.59,
            58.13,
            62.82,
            54.15,
            55.01,
            56.47,
            55.38
           ],
           "y": [
            30.16,
            30.98,
            28.67,
            21.46,
            25.24,
            24.45,
            25.81,
            26.39,
            22.02,
            35.14
           ]
          },
          {
           "hoverinfo": "none",
           "marker": {
            "color": "yellow",
            "opacity": 1,
            "size": 10
           },
           "mode": "markers",
           "name": "ball_carrier",
           "type": "scatter",
           "x": [
            58.92
           ],
           "y": [
            38.36
           ]
          },
          {
           "customdata": [
            [
             42401,
             "Markus Golden",
             "OLB",
             "ARI",
             0
            ],
            [
             43986,
             "Antonio Hamilton",
             "CB",
             "ARI",
             0.6
            ],
            [
             44848,
             "Budda Baker",
             "SS",
             "ARI",
             0.02
            ],
            [
             47816,
             "Byron Murphy",
             "CB",
             "ARI",
             0.42
            ],
            [
             47848,
             "Zach Allen",
             "DE",
             "ARI",
             0.02
            ],
            [
             49410,
             "Jalen Thompson",
             "FS",
             "ARI",
             0.06
            ],
            [
             52416,
             "Isaiah Simmons",
             "DB",
             "ARI",
             0.17
            ],
            [
             52522,
             "Leki Fotu",
             "DT",
             "ARI",
             0.02
            ],
            [
             53445,
             "Zaven Collins",
             "OLB",
             "ARI",
             0.06
            ],
            [
             53565,
             "Marco Wilson",
             "CB",
             "ARI",
             0.01
            ],
            [
             54552,
             "Cameron Thomas",
             "OLB",
             "ARI",
             0.08
            ]
           ],
           "hovertemplate": "<b>nflId:</b> %{customdata[0]}<br><b>Player:</b> %{customdata[1]} %{customdata[2]}<br><b>Team:</b> %{customdata[3]}<br><br><b>Tackling Probability:</b> %{customdata[4]}",
           "marker": {
            "cmax": 1,
            "cmin": 0,
            "color": [
             "#fff4ef",
             "#f24633",
             "#fff2eb",
             "#fc8565",
             "#fff2ec",
             "#ffebe2",
             "#fdd2bf",
             "#fff2ec",
             "#ffece3",
             "#fff4ef",
             "#fee8de"
            ],
            "colorbar": {
             "len": 0.85,
             "thickness": 10,
             "title": {
              "text": "defense"
             },
             "x": 1.03,
             "y": 0.4
            },
            "colorscale": [
             [
              0,
              "rgb(255,245,240)"
             ],
             [
              0.125,
              "rgb(254,224,210)"
             ],
             [
              0.25,
              "rgb(252,187,161)"
             ],
             [
              0.375,
              "rgb(252,146,114)"
             ],
             [
              0.5,
              "rgb(251,106,74)"
             ],
             [
              0.625,
              "rgb(239,59,44)"
             ],
             [
              0.75,
              "rgb(203,24,29)"
             ],
             [
              0.875,
              "rgb(165,15,21)"
             ],
             [
              1,
              "rgb(103,0,13)"
             ]
            ],
            "size": 10
           },
           "mode": "markers",
           "name": "defense",
           "showlegend": false,
           "type": "scatter",
           "x": [
            56.14,
            53.72,
            51.38,
            53.34,
            55.44,
            41.65,
            54.68,
            57.85,
            52.9,
            51.03,
            57.37
           ],
           "y": [
            22.69,
            37.86,
            26.13,
            36.37,
            27.29,
            29.45,
            32.69,
            29.7,
            29.05,
            20.57,
            32.07
           ]
          }
         ],
         "name": "8"
        },
        {
         "data": [
          {
           "hoverinfo": "none",
           "marker": {
            "color": "#FE962F",
            "line": {
             "width": 1
            },
            "opacity": 0,
            "size": 12,
            "symbol": "x"
           },
           "mode": "markers",
           "name": "MOTT",
           "type": "scatter",
           "x": [
            0
           ],
           "y": [
            0
           ]
          },
          {
           "hoverinfo": "none",
           "marker": {
            "color": "black",
            "size": 10
           },
           "mode": "markers",
           "name": "offense",
           "type": "scatter",
           "x": [
            54.22,
            57.31,
            57.79,
            54.27,
            57.9,
            62.8,
            54.02,
            54.79,
            56.14,
            55.21
           ],
           "y": [
            30.58,
            31.29,
            28.92,
            21.73,
            25.34,
            24.44,
            26.06,
            26.54,
            22.13,
            35.76
           ]
          },
          {
           "hoverinfo": "none",
           "marker": {
            "color": "yellow",
            "opacity": 1,
            "size": 10
           },
           "mode": "markers",
           "name": "ball_carrier",
           "type": "scatter",
           "x": [
            58.76
           ],
           "y": [
            38.77
           ]
          },
          {
           "customdata": [
            [
             42401,
             "Markus Golden",
             "OLB",
             "ARI",
             0.01
            ],
            [
             43986,
             "Antonio Hamilton",
             "CB",
             "ARI",
             0.72
            ],
            [
             44848,
             "Budda Baker",
             "SS",
             "ARI",
             0.02
            ],
            [
             47816,
             "Byron Murphy",
             "CB",
             "ARI",
             0.47
            ],
            [
             47848,
             "Zach Allen",
             "DE",
             "ARI",
             0.01
            ],
            [
             49410,
             "Jalen Thompson",
             "FS",
             "ARI",
             0.05
            ],
            [
             52416,
             "Isaiah Simmons",
             "DB",
             "ARI",
             0.27
            ],
            [
             52522,
             "Leki Fotu",
             "DT",
             "ARI",
             0.01
            ],
            [
             53445,
             "Zaven Collins",
             "OLB",
             "ARI",
             0.03
            ],
            [
             53565,
             "Marco Wilson",
             "CB",
             "ARI",
             0.01
            ],
            [
             54552,
             "Cameron Thomas",
             "OLB",
             "ARI",
             0.09
            ]
           ],
           "hovertemplate": "<b>nflId:</b> %{customdata[0]}<br><b>Player:</b> %{customdata[1]} %{customdata[2]}<br><b>Team:</b> %{customdata[3]}<br><br><b>Tackling Probability:</b> %{customdata[4]}",
           "marker": {
            "cmax": 1,
            "cmin": 0,
            "color": [
             "#fff4ef",
             "#d42121",
             "#fff2ec",
             "#fb7252",
             "#fff3ed",
             "#ffece4",
             "#fcb69b",
             "#fff3ed",
             "#fff0e9",
             "#fff4ee",
             "#fee5d9"
            ],
            "colorbar": {
             "len": 0.85,
             "thickness": 10,
             "title": {
              "text": "defense"
             },
             "x": 1.03,
             "y": 0.4
            },
            "colorscale": [
             [
              0,
              "rgb(255,245,240)"
             ],
             [
              0.125,
              "rgb(254,224,210)"
             ],
             [
              0.25,
              "rgb(252,187,161)"
             ],
             [
              0.375,
              "rgb(252,146,114)"
             ],
             [
              0.5,
              "rgb(251,106,74)"
             ],
             [
              0.625,
              "rgb(239,59,44)"
             ],
             [
              0.75,
              "rgb(203,24,29)"
             ],
             [
              0.875,
              "rgb(165,15,21)"
             ],
             [
              1,
              "rgb(103,0,13)"
             ]
            ],
            "size": 10
           },
           "mode": "markers",
           "name": "defense",
           "showlegend": false,
           "type": "scatter",
           "x": [
            55.88,
            54.26,
            51.22,
            53.54,
            55.38,
            41.97,
            54.81,
            57.84,
            52.85,
            50.9,
            57.28
           ],
           "y": [
            23.02,
            38.24,
            26.77,
            36.92,
            27.49,
            29.87,
            33.39,
            30.04,
            29.62,
            20.98,
            32.49
           ]
          }
         ],
         "name": "9"
        },
        {
         "data": [
          {
           "hoverinfo": "none",
           "marker": {
            "color": "#FE962F",
            "line": {
             "width": 1
            },
            "opacity": 0,
            "size": 12,
            "symbol": "x"
           },
           "mode": "markers",
           "name": "MOTT",
           "type": "scatter",
           "x": [
            0
           ],
           "y": [
            0
           ]
          },
          {
           "hoverinfo": "none",
           "marker": {
            "color": "black",
            "size": 10
           },
           "mode": "markers",
           "name": "offense",
           "type": "scatter",
           "x": [
            54.22,
            57.21,
            57.88,
            53.95,
            57.7,
            62.8,
            53.89,
            54.61,
            55.79,
            55.04
           ],
           "y": [
            30.99,
            31.62,
            29.14,
            22.01,
            25.43,
            24.44,
            26.3,
            26.69,
            22.23,
            36.38
           ]
          },
          {
           "hoverinfo": "none",
           "marker": {
            "color": "yellow",
            "opacity": 1,
            "size": 10
           },
           "mode": "markers",
           "name": "ball_carrier",
           "type": "scatter",
           "x": [
            58.6
           ],
           "y": [
            39.2
           ]
          },
          {
           "customdata": [
            [
             42401,
             "Markus Golden",
             "OLB",
             "ARI",
             0.01
            ],
            [
             43986,
             "Antonio Hamilton",
             "CB",
             "ARI",
             0.73
            ],
            [
             44848,
             "Budda Baker",
             "SS",
             "ARI",
             0.02
            ],
            [
             47816,
             "Byron Murphy",
             "CB",
             "ARI",
             0.47
            ],
            [
             47848,
             "Zach Allen",
             "DE",
             "ARI",
             0.02
            ],
            [
             49410,
             "Jalen Thompson",
             "FS",
             "ARI",
             0.06
            ],
            [
             52416,
             "Isaiah Simmons",
             "DB",
             "ARI",
             0.23
            ],
            [
             52522,
             "Leki Fotu",
             "DT",
             "ARI",
             0.03
            ],
            [
             53445,
             "Zaven Collins",
             "OLB",
             "ARI",
             0.05
            ],
            [
             53565,
             "Marco Wilson",
             "CB",
             "ARI",
             0.01
            ],
            [
             54552,
             "Cameron Thomas",
             "OLB",
             "ARI",
             0.1
            ]
           ],
           "hovertemplate": "<b>nflId:</b> %{customdata[0]}<br><b>Player:</b> %{customdata[1]} %{customdata[2]}<br><b>Team:</b> %{customdata[3]}<br><br><b>Tackling Probability:</b> %{customdata[4]}",
           "marker": {
            "cmax": 1,
            "cmin": 0,
            "color": [
             "#fff4ef",
             "#d11e1f",
             "#fff1ea",
             "#fb7555",
             "#fff2ec",
             "#ffece3",
             "#fcbfa7",
             "#fff0e9",
             "#ffece4",
             "#fff4ef",
             "#fee5d9"
            ],
            "colorbar": {
             "len": 0.85,
             "thickness": 10,
             "title": {
              "text": "defense"
             },
             "x": 1.03,
             "y": 0.4
            },
            "colorscale": [
             [
              0,
              "rgb(255,245,240)"
             ],
             [
              0.125,
              "rgb(254,224,210)"
             ],
             [
              0.25,
              "rgb(252,187,161)"
             ],
             [
              0.375,
              "rgb(252,146,114)"
             ],
             [
              0.5,
              "rgb(251,106,74)"
             ],
             [
              0.625,
              "rgb(239,59,44)"
             ],
             [
              0.75,
              "rgb(203,24,29)"
             ],
             [
              0.875,
              "rgb(165,15,21)"
             ],
             [
              1,
              "rgb(103,0,13)"
             ]
            ],
            "size": 10
           },
           "mode": "markers",
           "name": "defense",
           "showlegend": false,
           "type": "scatter",
           "x": [
            55.63,
            54.79,
            51.04,
            53.72,
            55.32,
            42.29,
            54.94,
            57.82,
            52.82,
            50.74,
            57.18
           ],
           "y": [
            23.37,
            38.64,
            27.43,
            37.48,
            27.67,
            30.32,
            34.12,
            30.4,
            30.22,
            21.4,
            32.92
           ]
          }
         ],
         "name": "10"
        },
        {
         "data": [
          {
           "hoverinfo": "none",
           "marker": {
            "color": "#FE962F",
            "line": {
             "width": 1
            },
            "opacity": 0,
            "size": 12,
            "symbol": "x"
           },
           "mode": "markers",
           "name": "MOTT",
           "type": "scatter",
           "x": [
            0
           ],
           "y": [
            0
           ]
          },
          {
           "hoverinfo": "none",
           "marker": {
            "color": "black",
            "size": 10
           },
           "mode": "markers",
           "name": "offense",
           "type": "scatter",
           "x": [
            54.23,
            57.12,
            57.99,
            53.62,
            57.54,
            62.78,
            53.77,
            54.43,
            55.44,
            54.88
           ],
           "y": [
            31.37,
            31.94,
            29.36,
            22.29,
            25.52,
            24.44,
            26.51,
            26.82,
            22.32,
            37.02
           ]
          },
          {
           "hoverinfo": "none",
           "marker": {
            "color": "yellow",
            "opacity": 1,
            "size": 10
           },
           "mode": "markers",
           "name": "ball_carrier",
           "type": "scatter",
           "x": [
            58.42
           ],
           "y": [
            39.65
           ]
          },
          {
           "customdata": [
            [
             42401,
             "Markus Golden",
             "OLB",
             "ARI",
             0.01
            ],
            [
             43986,
             "Antonio Hamilton",
             "CB",
             "ARI",
             0.82
            ],
            [
             44848,
             "Budda Baker",
             "SS",
             "ARI",
             0.04
            ],
            [
             47816,
             "Byron Murphy",
             "CB",
             "ARI",
             0.6
            ],
            [
             47848,
             "Zach Allen",
             "DE",
             "ARI",
             0.01
            ],
            [
             49410,
             "Jalen Thompson",
             "FS",
             "ARI",
             0.04
            ],
            [
             52416,
             "Isaiah Simmons",
             "DB",
             "ARI",
             0.16
            ],
            [
             52522,
             "Leki Fotu",
             "DT",
             "ARI",
             0.02
            ],
            [
             53445,
             "Zaven Collins",
             "OLB",
             "ARI",
             0.09
            ],
            [
             53565,
             "Marco Wilson",
             "CB",
             "ARI",
             0.01
            ],
            [
             54552,
             "Cameron Thomas",
             "OLB",
             "ARI",
             0.13
            ]
           ],
           "hovertemplate": "<b>nflId:</b> %{customdata[0]}<br><b>Player:</b> %{customdata[1]} %{customdata[2]}<br><b>Team:</b> %{customdata[3]}<br><br><b>Tackling Probability:</b> %{customdata[4]}",
           "marker": {
            "cmax": 1,
            "cmin": 0,
            "color": [
             "#fff4ef",
             "#b51318",
             "#ffefe8",
             "#f14331",
             "#fff3ed",
             "#ffeee7",
             "#fdd7c6",
             "#fff2ec",
             "#fee7db",
             "#fff4ef",
             "#fedfd0"
            ],
            "colorbar": {
             "len": 0.85,
             "thickness": 10,
             "title": {
              "text": "defense"
             },
             "x": 1.03,
             "y": 0.4
            },
            "colorscale": [
             [
              0,
              "rgb(255,245,240)"
             ],
             [
              0.125,
              "rgb(254,224,210)"
             ],
             [
              0.25,
              "rgb(252,187,161)"
             ],
             [
              0.375,
              "rgb(252,146,114)"
             ],
             [
              0.5,
              "rgb(251,106,74)"
             ],
             [
              0.625,
              "rgb(239,59,44)"
             ],
             [
              0.75,
              "rgb(203,24,29)"
             ],
             [
              0.875,
              "rgb(165,15,21)"
             ],
             [
              1,
              "rgb(103,0,13)"
             ]
            ],
            "size": 10
           },
           "mode": "markers",
           "name": "defense",
           "showlegend": false,
           "type": "scatter",
           "x": [
            55.39,
            55.29,
            50.87,
            53.88,
            55.28,
            42.62,
            55.07,
            57.79,
            52.8,
            50.54,
            57.07
           ],
           "y": [
            23.72,
            39.08,
            28.1,
            38.06,
            27.85,
            30.8,
            34.86,
            30.78,
            30.84,
            21.83,
            33.37
           ]
          }
         ],
         "name": "11"
        },
        {
         "data": [
          {
           "hoverinfo": "none",
           "marker": {
            "color": "#FE962F",
            "line": {
             "width": 1
            },
            "opacity": 0,
            "size": 12,
            "symbol": "x"
           },
           "mode": "markers",
           "name": "MOTT",
           "type": "scatter",
           "x": [
            0
           ],
           "y": [
            0
           ]
          },
          {
           "hoverinfo": "none",
           "marker": {
            "color": "black",
            "size": 10
           },
           "mode": "markers",
           "name": "offense",
           "type": "scatter",
           "x": [
            54.28,
            57.04,
            58.1,
            53.31,
            57.4,
            62.77,
            53.67,
            54.29,
            55.06,
            54.74
           ],
           "y": [
            31.74,
            32.26,
            29.56,
            22.57,
            25.6,
            24.43,
            26.71,
            26.94,
            22.41,
            37.66
           ]
          },
          {
           "hoverinfo": "none",
           "marker": {
            "color": "yellow",
            "opacity": 1,
            "size": 10
           },
           "mode": "markers",
           "name": "ball_carrier",
           "type": "scatter",
           "x": [
            58.24
           ],
           "y": [
            40.13
           ]
          },
          {
           "customdata": [
            [
             42401,
             "Markus Golden",
             "OLB",
             "ARI",
             0.01
            ],
            [
             43986,
             "Antonio Hamilton",
             "CB",
             "ARI",
             0.88
            ],
            [
             44848,
             "Budda Baker",
             "SS",
             "ARI",
             0.05
            ],
            [
             47816,
             "Byron Murphy",
             "CB",
             "ARI",
             0.67
            ],
            [
             47848,
             "Zach Allen",
             "DE",
             "ARI",
             0.01
            ],
            [
             49410,
             "Jalen Thompson",
             "FS",
             "ARI",
             0.07
            ],
            [
             52416,
             "Isaiah Simmons",
             "DB",
             "ARI",
             0.27
            ],
            [
             52522,
             "Leki Fotu",
             "DT",
             "ARI",
             0.01
            ],
            [
             53445,
             "Zaven Collins",
             "OLB",
             "ARI",
             0.07
            ],
            [
             53565,
             "Marco Wilson",
             "CB",
             "ARI",
             0
            ],
            [
             54552,
             "Cameron Thomas",
             "OLB",
             "ARI",
             0.1
            ]
           ],
           "hovertemplate": "<b>nflId:</b> %{customdata[0]}<br><b>Player:</b> %{customdata[1]} %{customdata[2]}<br><b>Team:</b> %{customdata[3]}<br><br><b>Tackling Probability:</b> %{customdata[4]}",
           "marker": {
            "cmax": 1,
            "cmin": 0,
            "color": [
             "#fff4ef",
             "#a10e15",
             "#ffede5",
             "#e12d26",
             "#fff4ee",
             "#feeae1",
             "#fcb499",
             "#fff3ed",
             "#fee9df",
             "#fff4ef",
             "#fee5d9"
            ],
            "colorbar": {
             "len": 0.85,
             "thickness": 10,
             "title": {
              "text": "defense"
             },
             "x": 1.03,
             "y": 0.4
            },
            "colorscale": [
             [
              0,
              "rgb(255,245,240)"
             ],
             [
              0.125,
              "rgb(254,224,210)"
             ],
             [
              0.25,
              "rgb(252,187,161)"
             ],
             [
              0.375,
              "rgb(252,146,114)"
             ],
             [
              0.5,
              "rgb(251,106,74)"
             ],
             [
              0.625,
              "rgb(239,59,44)"
             ],
             [
              0.75,
              "rgb(203,24,29)"
             ],
             [
              0.875,
              "rgb(165,15,21)"
             ],
             [
              1,
              "rgb(103,0,13)"
             ]
            ],
            "size": 10
           },
           "mode": "markers",
           "name": "defense",
           "showlegend": false,
           "type": "scatter",
           "x": [
            55.17,
            55.78,
            50.69,
            54.02,
            55.24,
            42.95,
            55.2,
            57.75,
            52.8,
            50.32,
            56.92
           ],
           "y": [
            24.08,
            39.54,
            28.79,
            38.67,
            28.03,
            31.32,
            35.62,
            31.17,
            31.48,
            22.27,
            33.87
           ]
          }
         ],
         "name": "12"
        },
        {
         "data": [
          {
           "hoverinfo": "none",
           "marker": {
            "color": "#FE962F",
            "line": {
             "width": 1
            },
            "opacity": 0,
            "size": 12,
            "symbol": "x"
           },
           "mode": "markers",
           "name": "MOTT",
           "type": "scatter",
           "x": [
            0
           ],
           "y": [
            0
           ]
          },
          {
           "hoverinfo": "none",
           "marker": {
            "color": "black",
            "size": 10
           },
           "mode": "markers",
           "name": "offense",
           "type": "scatter",
           "x": [
            54.33,
            56.97,
            58.23,
            53,
            57.28,
            62.74,
            53.56,
            54.17,
            54.69,
            54.62
           ],
           "y": [
            32.09,
            32.58,
            29.74,
            22.84,
            25.69,
            24.41,
            26.89,
            27.05,
            22.5,
            38.32
           ]
          },
          {
           "hoverinfo": "none",
           "marker": {
            "color": "yellow",
            "opacity": 1,
            "size": 10
           },
           "mode": "markers",
           "name": "ball_carrier",
           "type": "scatter",
           "x": [
            58.06
           ],
           "y": [
            40.66
           ]
          },
          {
           "customdata": [
            [
             42401,
             "Markus Golden",
             "OLB",
             "ARI",
             0.01
            ],
            [
             43986,
             "Antonio Hamilton",
             "CB",
             "ARI",
             0.83
            ],
            [
             44848,
             "Budda Baker",
             "SS",
             "ARI",
             0.04
            ],
            [
             47816,
             "Byron Murphy",
             "CB",
             "ARI",
             0.67
            ],
            [
             47848,
             "Zach Allen",
             "DE",
             "ARI",
             0.01
            ],
            [
             49410,
             "Jalen Thompson",
             "FS",
             "ARI",
             0.08
            ],
            [
             52416,
             "Isaiah Simmons",
             "DB",
             "ARI",
             0.21
            ],
            [
             52522,
             "Leki Fotu",
             "DT",
             "ARI",
             0.02
            ],
            [
             53445,
             "Zaven Collins",
             "OLB",
             "ARI",
             0.06
            ],
            [
             53565,
             "Marco Wilson",
             "CB",
             "ARI",
             0.01
            ],
            [
             54552,
             "Cameron Thomas",
             "OLB",
             "ARI",
             0.04
            ]
           ],
           "hovertemplate": "<b>nflId:</b> %{customdata[0]}<br><b>Player:</b> %{customdata[1]} %{customdata[2]}<br><b>Team:</b> %{customdata[3]}<br><br><b>Tackling Probability:</b> %{customdata[4]}",
           "marker": {
            "cmax": 1,
            "cmin": 0,
            "color": [
             "#fff4ef",
             "#b21218",
             "#ffeee7",
             "#e22e27",
             "#fff3ed",
             "#fee8dd",
             "#fdc6b0",
             "#fff2eb",
             "#feeae1",
             "#fff4ef",
             "#ffeee7"
            ],
            "colorbar": {
             "len": 0.85,
             "thickness": 10,
             "title": {
              "text": "defense"
             },
             "x": 1.03,
             "y": 0.4
            },
            "colorscale": [
             [
              0,
              "rgb(255,245,240)"
             ],
             [
              0.125,
              "rgb(254,224,210)"
             ],
             [
              0.25,
              "rgb(252,187,161)"
             ],
             [
              0.375,
              "rgb(252,146,114)"
             ],
             [
              0.5,
              "rgb(251,106,74)"
             ],
             [
              0.625,
              "rgb(239,59,44)"
             ],
             [
              0.75,
              "rgb(203,24,29)"
             ],
             [
              0.875,
              "rgb(165,15,21)"
             ],
             [
              1,
              "rgb(103,0,13)"
             ]
            ],
            "size": 10
           },
           "mode": "markers",
           "name": "defense",
           "showlegend": false,
           "type": "scatter",
           "x": [
            54.97,
            56.23,
            50.52,
            54.15,
            55.2,
            43.27,
            55.32,
            57.7,
            52.81,
            50.08,
            56.79
           ],
           "y": [
            24.45,
            40.06,
            29.5,
            39.3,
            28.21,
            31.86,
            36.41,
            31.6,
            32.14,
            22.71,
            34.38
           ]
          }
         ],
         "name": "13"
        },
        {
         "data": [
          {
           "hoverinfo": "none",
           "marker": {
            "color": "#FE962F",
            "line": {
             "width": 1
            },
            "opacity": 0,
            "size": 12,
            "symbol": "x"
           },
           "mode": "markers",
           "name": "MOTT",
           "type": "scatter",
           "x": [
            0
           ],
           "y": [
            0
           ]
          },
          {
           "hoverinfo": "none",
           "marker": {
            "color": "black",
            "size": 10
           },
           "mode": "markers",
           "name": "offense",
           "type": "scatter",
           "x": [
            54.41,
            56.91,
            58.34,
            52.71,
            57.2,
            62.71,
            53.46,
            54.06,
            54.32,
            54.52
           ],
           "y": [
            32.43,
            32.89,
            29.91,
            23.1,
            25.78,
            24.4,
            27.05,
            27.15,
            22.59,
            38.99
           ]
          },
          {
           "hoverinfo": "none",
           "marker": {
            "color": "yellow",
            "opacity": 1,
            "size": 10
           },
           "mode": "markers",
           "name": "ball_carrier",
           "type": "scatter",
           "x": [
            57.9
           ],
           "y": [
            41.22
           ]
          },
          {
           "customdata": [
            [
             42401,
             "Markus Golden",
             "OLB",
             "ARI",
             0
            ],
            [
             43986,
             "Antonio Hamilton",
             "CB",
             "ARI",
             0.81
            ],
            [
             44848,
             "Budda Baker",
             "SS",
             "ARI",
             0.03
            ],
            [
             47816,
             "Byron Murphy",
             "CB",
             "ARI",
             0.76
            ],
            [
             47848,
             "Zach Allen",
             "DE",
             "ARI",
             0.01
            ],
            [
             49410,
             "Jalen Thompson",
             "FS",
             "ARI",
             0.05
            ],
            [
             52416,
             "Isaiah Simmons",
             "DB",
             "ARI",
             0.27
            ],
            [
             52522,
             "Leki Fotu",
             "DT",
             "ARI",
             0.02
            ],
            [
             53445,
             "Zaven Collins",
             "OLB",
             "ARI",
             0.05
            ],
            [
             53565,
             "Marco Wilson",
             "CB",
             "ARI",
             0
            ],
            [
             54552,
             "Cameron Thomas",
             "OLB",
             "ARI",
             0.05
            ]
           ],
           "hovertemplate": "<b>nflId:</b> %{customdata[0]}<br><b>Player:</b> %{customdata[1]} %{customdata[2]}<br><b>Team:</b> %{customdata[3]}<br><br><b>Tackling Probability:</b> %{customdata[4]}",
           "marker": {
            "cmax": 1,
            "cmin": 0,
            "color": [
             "#fff4ef",
             "#b91419",
             "#fff1ea",
             "#c8171c",
             "#fff4ee",
             "#ffede5",
             "#fcb69b",
             "#fff1ea",
             "#ffece4",
             "#fff5f0",
             "#ffede5"
            ],
            "colorbar": {
             "len": 0.85,
             "thickness": 10,
             "title": {
              "text": "defense"
             },
             "x": 1.03,
             "y": 0.4
            },
            "colorscale": [
             [
              0,
              "rgb(255,245,240)"
             ],
             [
              0.125,
              "rgb(254,224,210)"
             ],
             [
              0.25,
              "rgb(252,187,161)"
             ],
             [
              0.375,
              "rgb(252,146,114)"
             ],
             [
              0.5,
              "rgb(251,106,74)"
             ],
             [
              0.625,
              "rgb(239,59,44)"
             ],
             [
              0.75,
              "rgb(203,24,29)"
             ],
             [
              0.875,
              "rgb(165,15,21)"
             ],
             [
              1,
              "rgb(103,0,13)"
             ]
            ],
            "size": 10
           },
           "mode": "markers",
           "name": "defense",
           "showlegend": false,
           "type": "scatter",
           "x": [
            54.8,
            56.62,
            50.34,
            54.27,
            55.17,
            43.59,
            55.43,
            57.65,
            52.82,
            49.83,
            56.65
           ],
           "y": [
            24.83,
            40.58,
            30.23,
            39.94,
            28.39,
            32.43,
            37.2,
            32.05,
            32.82,
            23.15,
            34.91
           ]
          }
         ],
         "name": "14"
        },
        {
         "data": [
          {
           "hoverinfo": "none",
           "marker": {
            "color": "#FE962F",
            "line": {
             "width": 1
            },
            "opacity": 0,
            "size": 12,
            "symbol": "x"
           },
           "mode": "markers",
           "name": "MOTT",
           "type": "scatter",
           "x": [
            0
           ],
           "y": [
            0
           ]
          },
          {
           "hoverinfo": "none",
           "marker": {
            "color": "black",
            "size": 10
           },
           "mode": "markers",
           "name": "offense",
           "type": "scatter",
           "x": [
            54.49,
            56.86,
            58.46,
            52.44,
            57.13,
            62.67,
            53.35,
            53.98,
            53.95,
            54.44
           ],
           "y": [
            32.74,
            33.19,
            30.07,
            23.34,
            25.86,
            24.39,
            27.21,
            27.24,
            22.69,
            39.65
           ]
          },
          {
           "hoverinfo": "none",
           "marker": {
            "color": "yellow",
            "opacity": 1,
            "size": 10
           },
           "mode": "markers",
           "name": "ball_carrier",
           "type": "scatter",
           "x": [
            57.75
           ],
           "y": [
            41.8
           ]
          },
          {
           "customdata": [
            [
             42401,
             "Markus Golden",
             "OLB",
             "ARI",
             0
            ],
            [
             43986,
             "Antonio Hamilton",
             "CB",
             "ARI",
             0.64
            ],
            [
             44848,
             "Budda Baker",
             "SS",
             "ARI",
             0.03
            ],
            [
             47816,
             "Byron Murphy",
             "CB",
             "ARI",
             0.71
            ],
            [
             47848,
             "Zach Allen",
             "DE",
             "ARI",
             0
            ],
            [
             49410,
             "Jalen Thompson",
             "FS",
             "ARI",
             0.05
            ],
            [
             52416,
             "Isaiah Simmons",
             "DB",
             "ARI",
             0.39
            ],
            [
             52522,
             "Leki Fotu",
             "DT",
             "ARI",
             0.03
            ],
            [
             53445,
             "Zaven Collins",
             "OLB",
             "ARI",
             0.04
            ],
            [
             53565,
             "Marco Wilson",
             "CB",
             "ARI",
             0
            ],
            [
             54552,
             "Cameron Thomas",
             "OLB",
             "ARI",
             0.04
            ]
           ],
           "hovertemplate": "<b>nflId:</b> %{customdata[0]}<br><b>Player:</b> %{customdata[1]} %{customdata[2]}<br><b>Team:</b> %{customdata[3]}<br><br><b>Tackling Probability:</b> %{customdata[4]}",
           "marker": {
            "cmax": 1,
            "cmin": 0,
            "color": [
             "#fff5f0",
             "#eb372a",
             "#fff0e8",
             "#d82422",
             "#fff5f0",
             "#ffece4",
             "#fc8d6d",
             "#fff1ea",
             "#ffeee7",
             "#fff5f0",
             "#ffeee7"
            ],
            "colorbar": {
             "len": 0.85,
             "thickness": 10,
             "title": {
              "text": "defense"
             },
             "x": 1.03,
             "y": 0.4
            },
            "colorscale": [
             [
              0,
              "rgb(255,245,240)"
             ],
             [
              0.125,
              "rgb(254,224,210)"
             ],
             [
              0.25,
              "rgb(252,187,161)"
             ],
             [
              0.375,
              "rgb(252,146,114)"
             ],
             [
              0.5,
              "rgb(251,106,74)"
             ],
             [
              0.625,
              "rgb(239,59,44)"
             ],
             [
              0.75,
              "rgb(203,24,29)"
             ],
             [
              0.875,
              "rgb(165,15,21)"
             ],
             [
              1,
              "rgb(103,0,13)"
             ]
            ],
            "size": 10
           },
           "mode": "markers",
           "name": "defense",
           "showlegend": false,
           "type": "scatter",
           "x": [
            54.65,
            56.99,
            50.18,
            54.39,
            55.14,
            43.88,
            55.53,
            57.59,
            52.82,
            49.56,
            56.5
           ],
           "y": [
            25.21,
            41.1,
            30.97,
            40.61,
            28.57,
            33.03,
            38.01,
            32.52,
            33.5,
            23.6,
            35.48
           ]
          }
         ],
         "name": "15"
        },
        {
         "data": [
          {
           "customdata": [
            [
             43986,
             "Antonio Hamilton",
             "CB",
             "ARI",
             0.67
            ]
           ],
           "hovertemplate": "<b>nflId:</b> %{customdata[0]}<br><b>Player:</b> %{customdata[1]} %{customdata[2]}<br><b>Team:</b> %{customdata[3]}<br><br><b>Tackling Probability:</b> %{customdata[4]}",
           "marker": {
            "color": "#FE962F",
            "line": {
             "width": 1
            },
            "opacity": 1,
            "size": 12,
            "symbol": "x"
           },
           "mode": "markers",
           "name": "MOTT",
           "type": "scatter",
           "x": [
            57.33
           ],
           "y": [
            41.61
           ]
          },
          {
           "hoverinfo": "none",
           "marker": {
            "color": "black",
            "size": 10
           },
           "mode": "markers",
           "name": "offense",
           "type": "scatter",
           "x": [
            54.57,
            56.81,
            58.57,
            52.18,
            57.08,
            62.63,
            53.26,
            53.92,
            53.59,
            54.37
           ],
           "y": [
            33.05,
            33.5,
            30.22,
            23.57,
            25.95,
            24.37,
            27.35,
            27.31,
            22.79,
            40.3
           ]
          },
          {
           "hoverinfo": "none",
           "marker": {
            "color": "yellow",
            "opacity": 1,
            "size": 10
           },
           "mode": "markers",
           "name": "ball_carrier",
           "type": "scatter",
           "x": [
            57.61
           ],
           "y": [
            42.41
           ]
          },
          {
           "customdata": [
            [
             42401,
             "Markus Golden",
             "OLB",
             "ARI",
             0
            ],
            [
             43986,
             "Antonio Hamilton",
             "CB",
             "ARI",
             0.67
            ],
            [
             44848,
             "Budda Baker",
             "SS",
             "ARI",
             0.02
            ],
            [
             47816,
             "Byron Murphy",
             "CB",
             "ARI",
             0.83
            ],
            [
             47848,
             "Zach Allen",
             "DE",
             "ARI",
             0
            ],
            [
             49410,
             "Jalen Thompson",
             "FS",
             "ARI",
             0.05
            ],
            [
             52416,
             "Isaiah Simmons",
             "DB",
             "ARI",
             0.37
            ],
            [
             52522,
             "Leki Fotu",
             "DT",
             "ARI",
             0.01
            ],
            [
             53445,
             "Zaven Collins",
             "OLB",
             "ARI",
             0.03
            ],
            [
             53565,
             "Marco Wilson",
             "CB",
             "ARI",
             0
            ],
            [
             54552,
             "Cameron Thomas",
             "OLB",
             "ARI",
             0.05
            ]
           ],
           "hovertemplate": "<b>nflId:</b> %{customdata[0]}<br><b>Player:</b> %{customdata[1]} %{customdata[2]}<br><b>Team:</b> %{customdata[3]}<br><br><b>Tackling Probability:</b> %{customdata[4]}",
           "marker": {
            "cmax": 1,
            "cmin": 0,
            "color": [
             "#fff5f0",
             "#e12d26",
             "#fff2eb",
             "#b21218",
             "#fff5f0",
             "#ffece4",
             "#fc9373",
             "#fff4ef",
             "#fff0e8",
             "#fff5f0",
             "#ffece4"
            ],
            "colorbar": {
             "len": 0.85,
             "thickness": 10,
             "title": {
              "text": "defense"
             },
             "x": 1.03,
             "y": 0.4
            },
            "colorscale": [
             [
              0,
              "rgb(255,245,240)"
             ],
             [
              0.125,
              "rgb(254,224,210)"
             ],
             [
              0.25,
              "rgb(252,187,161)"
             ],
             [
              0.375,
              "rgb(252,146,114)"
             ],
             [
              0.5,
              "rgb(251,106,74)"
             ],
             [
              0.625,
              "rgb(239,59,44)"
             ],
             [
              0.75,
              "rgb(203,24,29)"
             ],
             [
              0.875,
              "rgb(165,15,21)"
             ],
             [
              1,
              "rgb(103,0,13)"
             ]
            ],
            "size": 10
           },
           "mode": "markers",
           "name": "defense",
           "showlegend": false,
           "type": "scatter",
           "x": [
            54.53,
            57.33,
            50.02,
            54.52,
            55.12,
            44.16,
            55.63,
            57.53,
            52.81,
            49.3,
            56.35
           ],
           "y": [
            25.59,
            41.61,
            31.72,
            41.29,
            28.74,
            33.65,
            38.83,
            33.02,
            34.19,
            24.05,
            36.06
           ]
          }
         ],
         "name": "16"
        },
        {
         "data": [
          {
           "customdata": [
            [
             43986,
             "Antonio Hamilton",
             "CB",
             "ARI",
             0.67
            ]
           ],
           "hovertemplate": "<b>nflId:</b> %{customdata[0]}<br><b>Player:</b> %{customdata[1]} %{customdata[2]}<br><b>Team:</b> %{customdata[3]}<br><br><b>Tackling Probability:</b> %{customdata[4]}",
           "marker": {
            "color": "#FE962F",
            "line": {
             "width": 1
            },
            "opacity": 1,
            "size": 12,
            "symbol": "x"
           },
           "mode": "markers",
           "name": "MOTT",
           "type": "scatter",
           "x": [
            57.33
           ],
           "y": [
            41.61
           ]
          },
          {
           "hoverinfo": "none",
           "marker": {
            "color": "black",
            "size": 10
           },
           "mode": "markers",
           "name": "offense",
           "type": "scatter",
           "x": [
            54.65,
            56.77,
            58.68,
            51.94,
            57.04,
            62.58,
            53.17,
            53.86,
            53.24,
            54.36
           ],
           "y": [
            33.32,
            33.79,
            30.36,
            23.78,
            26.05,
            24.36,
            27.49,
            27.38,
            22.9,
            40.94
           ]
          },
          {
           "hoverinfo": "none",
           "marker": {
            "color": "yellow",
            "opacity": 1,
            "size": 10
           },
           "mode": "markers",
           "name": "ball_carrier",
           "type": "scatter",
           "x": [
            57.47
           ],
           "y": [
            43.03
           ]
          },
          {
           "customdata": [
            [
             42401,
             "Markus Golden",
             "OLB",
             "ARI",
             0
            ],
            [
             43986,
             "Antonio Hamilton",
             "CB",
             "ARI",
             0.49
            ],
            [
             44848,
             "Budda Baker",
             "SS",
             "ARI",
             0.02
            ],
            [
             47816,
             "Byron Murphy",
             "CB",
             "ARI",
             0.81
            ],
            [
             47848,
             "Zach Allen",
             "DE",
             "ARI",
             0
            ],
            [
             49410,
             "Jalen Thompson",
             "FS",
             "ARI",
             0.04
            ],
            [
             52416,
             "Isaiah Simmons",
             "DB",
             "ARI",
             0.36
            ],
            [
             52522,
             "Leki Fotu",
             "DT",
             "ARI",
             0.01
            ],
            [
             53445,
             "Zaven Collins",
             "OLB",
             "ARI",
             0.04
            ],
            [
             53565,
             "Marco Wilson",
             "CB",
             "ARI",
             0
            ],
            [
             54552,
             "Cameron Thomas",
             "OLB",
             "ARI",
             0.04
            ]
           ],
           "hovertemplate": "<b>nflId:</b> %{customdata[0]}<br><b>Player:</b> %{customdata[1]} %{customdata[2]}<br><b>Team:</b> %{customdata[3]}<br><br><b>Tackling Probability:</b> %{customdata[4]}",
           "marker": {
            "cmax": 1,
            "cmin": 0,
            "color": [
             "#fff5f0",
             "#fb6c4c",
             "#fff2eb",
             "#b71319",
             "#fff5f0",
             "#ffeee6",
             "#fc9879",
             "#fff4ef",
             "#ffefe8",
             "#fff5f0",
             "#ffeee7"
            ],
            "colorbar": {
             "len": 0.85,
             "thickness": 10,
             "title": {
              "text": "defense"
             },
             "x": 1.03,
             "y": 0.4
            },
            "colorscale": [
             [
              0,
              "rgb(255,245,240)"
             ],
             [
              0.125,
              "rgb(254,224,210)"
             ],
             [
              0.25,
              "rgb(252,187,161)"
             ],
             [
              0.375,
              "rgb(252,146,114)"
             ],
             [
              0.5,
              "rgb(251,106,74)"
             ],
             [
              0.625,
              "rgb(239,59,44)"
             ],
             [
              0.75,
              "rgb(203,24,29)"
             ],
             [
              0.875,
              "rgb(165,15,21)"
             ],
             [
              1,
              "rgb(103,0,13)"
             ]
            ],
            "size": 10
           },
           "mode": "markers",
           "name": "defense",
           "showlegend": false,
           "type": "scatter",
           "x": [
            54.43,
            57.61,
            49.88,
            54.65,
            55.11,
            44.42,
            55.71,
            57.47,
            52.79,
            49.04,
            56.2
           ],
           "y": [
            25.97,
            42.09,
            32.49,
            41.98,
            28.93,
            34.28,
            39.66,
            33.52,
            34.88,
            24.49,
            36.67
           ]
          }
         ],
         "name": "17"
        },
        {
         "data": [
          {
           "customdata": [
            [
             43986,
             "Antonio Hamilton",
             "CB",
             "ARI",
             0.67
            ]
           ],
           "hovertemplate": "<b>nflId:</b> %{customdata[0]}<br><b>Player:</b> %{customdata[1]} %{customdata[2]}<br><b>Team:</b> %{customdata[3]}<br><br><b>Tackling Probability:</b> %{customdata[4]}",
           "marker": {
            "color": "#FE962F",
            "line": {
             "width": 1
            },
            "opacity": 1,
            "size": 12,
            "symbol": "x"
           },
           "mode": "markers",
           "name": "MOTT",
           "type": "scatter",
           "x": [
            57.33
           ],
           "y": [
            41.61
           ]
          },
          {
           "hoverinfo": "none",
           "marker": {
            "color": "black",
            "size": 10
           },
           "mode": "markers",
           "name": "offense",
           "type": "scatter",
           "x": [
            54.74,
            56.74,
            58.79,
            51.72,
            57.01,
            62.54,
            53.09,
            53.82,
            52.9,
            54.36
           ],
           "y": [
            33.59,
            34.08,
            30.49,
            23.97,
            26.14,
            24.36,
            27.61,
            27.43,
            23.01,
            41.58
           ]
          },
          {
           "hoverinfo": "none",
           "marker": {
            "color": "yellow",
            "opacity": 1,
            "size": 10
           },
           "mode": "markers",
           "name": "ball_carrier",
           "type": "scatter",
           "x": [
            57.32
           ],
           "y": [
            43.67
           ]
          },
          {
           "customdata": [
            [
             42401,
             "Markus Golden",
             "OLB",
             "ARI",
             0
            ],
            [
             43986,
             "Antonio Hamilton",
             "CB",
             "ARI",
             0.32
            ],
            [
             44848,
             "Budda Baker",
             "SS",
             "ARI",
             0.01
            ],
            [
             47816,
             "Byron Murphy",
             "CB",
             "ARI",
             0.88
            ],
            [
             47848,
             "Zach Allen",
             "DE",
             "ARI",
             0
            ],
            [
             49410,
             "Jalen Thompson",
             "FS",
             "ARI",
             0.04
            ],
            [
             52416,
             "Isaiah Simmons",
             "DB",
             "ARI",
             0.33
            ],
            [
             52522,
             "Leki Fotu",
             "DT",
             "ARI",
             0.01
            ],
            [
             53445,
             "Zaven Collins",
             "OLB",
             "ARI",
             0.03
            ],
            [
             53565,
             "Marco Wilson",
             "CB",
             "ARI",
             0
            ],
            [
             54552,
             "Cameron Thomas",
             "OLB",
             "ARI",
             0.05
            ]
           ],
           "hovertemplate": "<b>nflId:</b> %{customdata[0]}<br><b>Player:</b> %{customdata[1]} %{customdata[2]}<br><b>Team:</b> %{customdata[3]}<br><br><b>Tackling Probability:</b> %{customdata[4]}",
           "marker": {
            "cmax": 1,
            "cmin": 0,
            "color": [
             "#fff5f0",
             "#fca588",
             "#fff3ed",
             "#a10e15",
             "#fff5f0",
             "#ffeee7",
             "#fca082",
             "#fff4ef",
             "#fff0e8",
             "#fff5f0",
             "#ffece4"
            ],
            "colorbar": {
             "len": 0.85,
             "thickness": 10,
             "title": {
              "text": "defense"
             },
             "x": 1.03,
             "y": 0.4
            },
            "colorscale": [
             [
              0,
              "rgb(255,245,240)"
             ],
             [
              0.125,
              "rgb(254,224,210)"
             ],
             [
              0.25,
              "rgb(252,187,161)"
             ],
             [
              0.375,
              "rgb(252,146,114)"
             ],
             [
              0.5,
              "rgb(251,106,74)"
             ],
             [
              0.625,
              "rgb(239,59,44)"
             ],
             [
              0.75,
              "rgb(203,24,29)"
             ],
             [
              0.875,
              "rgb(165,15,21)"
             ],
             [
              1,
              "rgb(103,0,13)"
             ]
            ],
            "size": 10
           },
           "mode": "markers",
           "name": "defense",
           "showlegend": false,
           "type": "scatter",
           "x": [
            54.36,
            57.86,
            49.76,
            54.8,
            55.09,
            44.66,
            55.77,
            57.42,
            52.76,
            48.78,
            56.06
           ],
           "y": [
            26.34,
            42.56,
            33.26,
            42.68,
            29.11,
            34.93,
            40.51,
            34,
            35.58,
            24.94,
            37.31
           ]
          }
         ],
         "name": "18"
        },
        {
         "data": [
          {
           "customdata": [
            [
             43986,
             "Antonio Hamilton",
             "CB",
             "ARI",
             0.67
            ]
           ],
           "hovertemplate": "<b>nflId:</b> %{customdata[0]}<br><b>Player:</b> %{customdata[1]} %{customdata[2]}<br><b>Team:</b> %{customdata[3]}<br><br><b>Tackling Probability:</b> %{customdata[4]}",
           "marker": {
            "color": "#FE962F",
            "line": {
             "width": 1
            },
            "opacity": 1,
            "size": 12,
            "symbol": "x"
           },
           "mode": "markers",
           "name": "MOTT",
           "type": "scatter",
           "x": [
            57.33
           ],
           "y": [
            41.61
           ]
          },
          {
           "hoverinfo": "none",
           "marker": {
            "color": "black",
            "size": 10
           },
           "mode": "markers",
           "name": "offense",
           "type": "scatter",
           "x": [
            54.83,
            56.71,
            58.89,
            51.52,
            56.98,
            62.49,
            53.01,
            53.77,
            52.57,
            54.39
           ],
           "y": [
            33.85,
            34.36,
            30.63,
            24.15,
            26.22,
            24.37,
            27.73,
            27.48,
            23.14,
            42.22
           ]
          },
          {
           "hoverinfo": "none",
           "marker": {
            "color": "yellow",
            "opacity": 1,
            "size": 10
           },
           "mode": "markers",
           "name": "ball_carrier",
           "type": "scatter",
           "x": [
            57.17
           ],
           "y": [
            44.32
           ]
          },
          {
           "customdata": [
            [
             42401,
             "Markus Golden",
             "OLB",
             "ARI",
             0
            ],
            [
             43986,
             "Antonio Hamilton",
             "CB",
             "ARI",
             0.29
            ],
            [
             44848,
             "Budda Baker",
             "SS",
             "ARI",
             0.01
            ],
            [
             47816,
             "Byron Murphy",
             "CB",
             "ARI",
             0.87
            ],
            [
             47848,
             "Zach Allen",
             "DE",
             "ARI",
             0
            ],
            [
             49410,
             "Jalen Thompson",
             "FS",
             "ARI",
             0.04
            ],
            [
             52416,
             "Isaiah Simmons",
             "DB",
             "ARI",
             0.28
            ],
            [
             52522,
             "Leki Fotu",
             "DT",
             "ARI",
             0.01
            ],
            [
             53445,
             "Zaven Collins",
             "OLB",
             "ARI",
             0.04
            ],
            [
             53565,
             "Marco Wilson",
             "CB",
             "ARI",
             0
            ],
            [
             54552,
             "Cameron Thomas",
             "OLB",
             "ARI",
             0.05
            ]
           ],
           "hovertemplate": "<b>nflId:</b> %{customdata[0]}<br><b>Player:</b> %{customdata[1]} %{customdata[2]}<br><b>Team:</b> %{customdata[3]}<br><br><b>Tackling Probability:</b> %{customdata[4]}",
           "marker": {
            "cmax": 1,
            "cmin": 0,
            "color": [
             "#fff5f0",
             "#fcaf93",
             "#fff4ee",
             "#a60f15",
             "#fff5f0",
             "#ffefe8",
             "#fcb095",
             "#fff4ef",
             "#ffeee7",
             "#fff5f0",
             "#ffeee6"
            ],
            "colorbar": {
             "len": 0.85,
             "thickness": 10,
             "title": {
              "text": "defense"
             },
             "x": 1.03,
             "y": 0.4
            },
            "colorscale": [
             [
              0,
              "rgb(255,245,240)"
             ],
             [
              0.125,
              "rgb(254,224,210)"
             ],
             [
              0.25,
              "rgb(252,187,161)"
             ],
             [
              0.375,
              "rgb(252,146,114)"
             ],
             [
              0.5,
              "rgb(251,106,74)"
             ],
             [
              0.625,
              "rgb(239,59,44)"
             ],
             [
              0.75,
              "rgb(203,24,29)"
             ],
             [
              0.875,
              "rgb(165,15,21)"
             ],
             [
              1,
              "rgb(103,0,13)"
             ]
            ],
            "size": 10
           },
           "mode": "markers",
           "name": "defense",
           "showlegend": false,
           "type": "scatter",
           "x": [
            54.29,
            58.07,
            49.65,
            54.95,
            55.07,
            44.88,
            55.83,
            57.36,
            52.71,
            48.52,
            55.93
           ],
           "y": [
            26.7,
            43.01,
            34.04,
            43.41,
            29.29,
            35.6,
            41.37,
            34.52,
            36.28,
            25.39,
            37.99
           ]
          }
         ],
         "name": "19"
        },
        {
         "data": [
          {
           "customdata": [
            [
             43986,
             "Antonio Hamilton",
             "CB",
             "ARI",
             0.67
            ]
           ],
           "hovertemplate": "<b>nflId:</b> %{customdata[0]}<br><b>Player:</b> %{customdata[1]} %{customdata[2]}<br><b>Team:</b> %{customdata[3]}<br><br><b>Tackling Probability:</b> %{customdata[4]}",
           "marker": {
            "color": "#FE962F",
            "line": {
             "width": 1
            },
            "opacity": 1,
            "size": 12,
            "symbol": "x"
           },
           "mode": "markers",
           "name": "MOTT",
           "type": "scatter",
           "x": [
            57.33
           ],
           "y": [
            41.61
           ]
          },
          {
           "hoverinfo": "none",
           "marker": {
            "color": "black",
            "size": 10
           },
           "mode": "markers",
           "name": "offense",
           "type": "scatter",
           "x": [
            54.92,
            56.68,
            58.98,
            51.33,
            56.95,
            62.46,
            52.94,
            53.73,
            52.27,
            54.44
           ],
           "y": [
            34.09,
            34.63,
            30.77,
            24.32,
            26.31,
            24.39,
            27.85,
            27.52,
            23.28,
            42.85
           ]
          },
          {
           "hoverinfo": "none",
           "marker": {
            "color": "yellow",
            "opacity": 1,
            "size": 10
           },
           "mode": "markers",
           "name": "ball_carrier",
           "type": "scatter",
           "x": [
            57.01
           ],
           "y": [
            44.99
           ]
          },
          {
           "customdata": [
            [
             42401,
             "Markus Golden",
             "OLB",
             "ARI",
             0
            ],
            [
             43986,
             "Antonio Hamilton",
             "CB",
             "ARI",
             0.16
            ],
            [
             44848,
             "Budda Baker",
             "SS",
             "ARI",
             0.01
            ],
            [
             47816,
             "Byron Murphy",
             "CB",
             "ARI",
             0.89
            ],
            [
             47848,
             "Zach Allen",
             "DE",
             "ARI",
             0
            ],
            [
             49410,
             "Jalen Thompson",
             "FS",
             "ARI",
             0.04
            ],
            [
             52416,
             "Isaiah Simmons",
             "DB",
             "ARI",
             0.14
            ],
            [
             52522,
             "Leki Fotu",
             "DT",
             "ARI",
             0.01
            ],
            [
             53445,
             "Zaven Collins",
             "OLB",
             "ARI",
             0.04
            ],
            [
             53565,
             "Marco Wilson",
             "CB",
             "ARI",
             0
            ],
            [
             54552,
             "Cameron Thomas",
             "OLB",
             "ARI",
             0.04
            ]
           ],
           "hovertemplate": "<b>nflId:</b> %{customdata[0]}<br><b>Player:</b> %{customdata[1]} %{customdata[2]}<br><b>Team:</b> %{customdata[3]}<br><br><b>Tackling Probability:</b> %{customdata[4]}",
           "marker": {
            "cmax": 1,
            "cmin": 0,
            "color": [
             "#fff5f0",
             "#fdd5c4",
             "#fff4ee",
             "#9d0d14",
             "#fff5f0",
             "#ffeee7",
             "#fedbcc",
             "#fff4ef",
             "#ffeee7",
             "#fff5f0",
             "#ffeee7"
            ],
            "colorbar": {
             "len": 0.85,
             "thickness": 10,
             "title": {
              "text": "defense"
             },
             "x": 1.03,
             "y": 0.4
            },
            "colorscale": [
             [
              0,
              "rgb(255,245,240)"
             ],
             [
              0.125,
              "rgb(254,224,210)"
             ],
             [
              0.25,
              "rgb(252,187,161)"
             ],
             [
              0.375,
              "rgb(252,146,114)"
             ],
             [
              0.5,
              "rgb(251,106,74)"
             ],
             [
              0.625,
              "rgb(239,59,44)"
             ],
             [
              0.75,
              "rgb(203,24,29)"
             ],
             [
              0.875,
              "rgb(165,15,21)"
             ],
             [
              1,
              "rgb(103,0,13)"
             ]
            ],
            "size": 10
           },
           "mode": "markers",
           "name": "defense",
           "showlegend": false,
           "type": "scatter",
           "x": [
            54.24,
            58.25,
            49.54,
            55.12,
            55.05,
            45.06,
            55.88,
            57.3,
            52.64,
            48.27,
            55.8
           ],
           "y": [
            27.05,
            43.42,
            34.82,
            44.14,
            29.47,
            36.29,
            42.24,
            35.07,
            36.98,
            25.84,
            38.68
           ]
          }
         ],
         "name": "20"
        },
        {
         "data": [
          {
           "customdata": [
            [
             43986,
             "Antonio Hamilton",
             "CB",
             "ARI",
             0.67
            ]
           ],
           "hovertemplate": "<b>nflId:</b> %{customdata[0]}<br><b>Player:</b> %{customdata[1]} %{customdata[2]}<br><b>Team:</b> %{customdata[3]}<br><br><b>Tackling Probability:</b> %{customdata[4]}",
           "marker": {
            "color": "#FE962F",
            "line": {
             "width": 1
            },
            "opacity": 1,
            "size": 12,
            "symbol": "x"
           },
           "mode": "markers",
           "name": "MOTT",
           "type": "scatter",
           "x": [
            57.33
           ],
           "y": [
            41.61
           ]
          },
          {
           "hoverinfo": "none",
           "marker": {
            "color": "black",
            "size": 10
           },
           "mode": "markers",
           "name": "offense",
           "type": "scatter",
           "x": [
            55,
            56.64,
            59.07,
            51.16,
            56.92,
            62.42,
            52.87,
            53.67,
            51.99,
            54.5
           ],
           "y": [
            34.31,
            34.9,
            30.9,
            24.48,
            26.4,
            24.41,
            27.96,
            27.55,
            23.42,
            43.48
           ]
          },
          {
           "hoverinfo": "none",
           "marker": {
            "color": "yellow",
            "opacity": 1,
            "size": 10
           },
           "mode": "markers",
           "name": "ball_carrier",
           "type": "scatter",
           "x": [
            56.83
           ],
           "y": [
            45.68
           ]
          },
          {
           "customdata": [
            [
             42401,
             "Markus Golden",
             "OLB",
             "ARI",
             0
            ],
            [
             43986,
             "Antonio Hamilton",
             "CB",
             "ARI",
             0.07
            ],
            [
             44848,
             "Budda Baker",
             "SS",
             "ARI",
             0.02
            ],
            [
             47816,
             "Byron Murphy",
             "CB",
             "ARI",
             0.88
            ],
            [
             47848,
             "Zach Allen",
             "DE",
             "ARI",
             0
            ],
            [
             49410,
             "Jalen Thompson",
             "FS",
             "ARI",
             0.04
            ],
            [
             52416,
             "Isaiah Simmons",
             "DB",
             "ARI",
             0.16
            ],
            [
             52522,
             "Leki Fotu",
             "DT",
             "ARI",
             0.01
            ],
            [
             53445,
             "Zaven Collins",
             "OLB",
             "ARI",
             0.04
            ],
            [
             53565,
             "Marco Wilson",
             "CB",
             "ARI",
             0
            ],
            [
             54552,
             "Cameron Thomas",
             "OLB",
             "ARI",
             0.02
            ]
           ],
           "hovertemplate": "<b>nflId:</b> %{customdata[0]}<br><b>Player:</b> %{customdata[1]} %{customdata[2]}<br><b>Team:</b> %{customdata[3]}<br><br><b>Tackling Probability:</b> %{customdata[4]}",
           "marker": {
            "cmax": 1,
            "cmin": 0,
            "color": [
             "#fff5f0",
             "#fee9df",
             "#fff2ec",
             "#9f0e14",
             "#fff5f0",
             "#ffefe8",
             "#fdd4c2",
             "#fff4ef",
             "#ffeee7",
             "#fff5f0",
             "#fff2eb"
            ],
            "colorbar": {
             "len": 0.85,
             "thickness": 10,
             "title": {
              "text": "defense"
             },
             "x": 1.03,
             "y": 0.4
            },
            "colorscale": [
             [
              0,
              "rgb(255,245,240)"
             ],
             [
              0.125,
              "rgb(254,224,210)"
             ],
             [
              0.25,
              "rgb(252,187,161)"
             ],
             [
              0.375,
              "rgb(252,146,114)"
             ],
             [
              0.5,
              "rgb(251,106,74)"
             ],
             [
              0.625,
              "rgb(239,59,44)"
             ],
             [
              0.75,
              "rgb(203,24,29)"
             ],
             [
              0.875,
              "rgb(165,15,21)"
             ],
             [
              1,
              "rgb(103,0,13)"
             ]
            ],
            "size": 10
           },
           "mode": "markers",
           "name": "defense",
           "showlegend": false,
           "type": "scatter",
           "x": [
            54.2,
            58.39,
            49.45,
            55.3,
            55.03,
            45.23,
            55.92,
            57.24,
            52.55,
            48.03,
            55.68
           ],
           "y": [
            27.4,
            43.8,
            35.62,
            44.87,
            29.65,
            36.98,
            43.13,
            35.63,
            37.67,
            26.29,
            39.39
           ]
          }
         ],
         "name": "21"
        },
        {
         "data": [
          {
           "customdata": [
            [
             43986,
             "Antonio Hamilton",
             "CB",
             "ARI",
             0.67
            ]
           ],
           "hovertemplate": "<b>nflId:</b> %{customdata[0]}<br><b>Player:</b> %{customdata[1]} %{customdata[2]}<br><b>Team:</b> %{customdata[3]}<br><br><b>Tackling Probability:</b> %{customdata[4]}",
           "marker": {
            "color": "#FE962F",
            "line": {
             "width": 1
            },
            "opacity": 1,
            "size": 12,
            "symbol": "x"
           },
           "mode": "markers",
           "name": "MOTT",
           "type": "scatter",
           "x": [
            57.33
           ],
           "y": [
            41.61
           ]
          },
          {
           "hoverinfo": "none",
           "marker": {
            "color": "black",
            "size": 10
           },
           "mode": "markers",
           "name": "offense",
           "type": "scatter",
           "x": [
            55.08,
            56.61,
            59.14,
            51.01,
            56.9,
            62.38,
            52.8,
            53.61,
            51.73,
            54.59
           ],
           "y": [
            34.5,
            35.15,
            31.02,
            24.63,
            26.47,
            24.45,
            28.07,
            27.57,
            23.57,
            44.1
           ]
          },
          {
           "hoverinfo": "none",
           "marker": {
            "color": "yellow",
            "opacity": 1,
            "size": 10
           },
           "mode": "markers",
           "name": "ball_carrier",
           "type": "scatter",
           "x": [
            56.64
           ],
           "y": [
            46.37
           ]
          },
          {
           "customdata": [
            [
             42401,
             "Markus Golden",
             "OLB",
             "ARI",
             0
            ],
            [
             43986,
             "Antonio Hamilton",
             "CB",
             "ARI",
             0.05
            ],
            [
             44848,
             "Budda Baker",
             "SS",
             "ARI",
             0.02
            ],
            [
             47816,
             "Byron Murphy",
             "CB",
             "ARI",
             0.85
            ],
            [
             47848,
             "Zach Allen",
             "DE",
             "ARI",
             0
            ],
            [
             49410,
             "Jalen Thompson",
             "FS",
             "ARI",
             0.03
            ],
            [
             52416,
             "Isaiah Simmons",
             "DB",
             "ARI",
             0.26
            ],
            [
             52522,
             "Leki Fotu",
             "DT",
             "ARI",
             0.01
            ],
            [
             53445,
             "Zaven Collins",
             "OLB",
             "ARI",
             0.04
            ],
            [
             53565,
             "Marco Wilson",
             "CB",
             "ARI",
             0
            ],
            [
             54552,
             "Cameron Thomas",
             "OLB",
             "ARI",
             0.04
            ]
           ],
           "hovertemplate": "<b>nflId:</b> %{customdata[0]}<br><b>Player:</b> %{customdata[1]} %{customdata[2]}<br><b>Team:</b> %{customdata[3]}<br><br><b>Tackling Probability:</b> %{customdata[4]}",
           "marker": {
            "cmax": 1,
            "cmin": 0,
            "color": [
             "#fff5f0",
             "#ffeee6",
             "#fff2ec",
             "#ab1016",
             "#fff5f0",
             "#fff0e9",
             "#fcb79c",
             "#fff4ee",
             "#ffefe8",
             "#fff5f0",
             "#ffeee7"
            ],
            "colorbar": {
             "len": 0.85,
             "thickness": 10,
             "title": {
              "text": "defense"
             },
             "x": 1.03,
             "y": 0.4
            },
            "colorscale": [
             [
              0,
              "rgb(255,245,240)"
             ],
             [
              0.125,
              "rgb(254,224,210)"
             ],
             [
              0.25,
              "rgb(252,187,161)"
             ],
             [
              0.375,
              "rgb(252,146,114)"
             ],
             [
              0.5,
              "rgb(251,106,74)"
             ],
             [
              0.625,
              "rgb(239,59,44)"
             ],
             [
              0.75,
              "rgb(203,24,29)"
             ],
             [
              0.875,
              "rgb(165,15,21)"
             ],
             [
              1,
              "rgb(103,0,13)"
             ]
            ],
            "size": 10
           },
           "mode": "markers",
           "name": "defense",
           "showlegend": false,
           "type": "scatter",
           "x": [
            54.16,
            58.49,
            49.37,
            55.48,
            55,
            45.38,
            55.93,
            57.17,
            52.45,
            47.78,
            55.57
           ],
           "y": [
            27.73,
            44.13,
            36.42,
            45.59,
            29.83,
            37.69,
            44.02,
            36.21,
            38.37,
            26.73,
            40.1
           ]
          }
         ],
         "name": "22"
        },
        {
         "data": [
          {
           "customdata": [
            [
             43986,
             "Antonio Hamilton",
             "CB",
             "ARI",
             0.67
            ]
           ],
           "hovertemplate": "<b>nflId:</b> %{customdata[0]}<br><b>Player:</b> %{customdata[1]} %{customdata[2]}<br><b>Team:</b> %{customdata[3]}<br><br><b>Tackling Probability:</b> %{customdata[4]}",
           "marker": {
            "color": "#FE962F",
            "line": {
             "width": 1
            },
            "opacity": 1,
            "size": 12,
            "symbol": "x"
           },
           "mode": "markers",
           "name": "MOTT",
           "type": "scatter",
           "x": [
            57.33
           ],
           "y": [
            41.61
           ]
          },
          {
           "hoverinfo": "none",
           "marker": {
            "color": "black",
            "size": 10
           },
           "mode": "markers",
           "name": "offense",
           "type": "scatter",
           "x": [
            55.16,
            56.57,
            59.2,
            50.88,
            56.89,
            62.34,
            52.75,
            53.56,
            51.5,
            54.7
           ],
           "y": [
            34.68,
            35.39,
            31.15,
            24.77,
            26.55,
            24.49,
            28.18,
            27.58,
            23.73,
            44.72
           ]
          },
          {
           "hoverinfo": "none",
           "marker": {
            "color": "yellow",
            "opacity": 1,
            "size": 10
           },
           "mode": "markers",
           "name": "ball_carrier",
           "type": "scatter",
           "x": [
            56.42
           ],
           "y": [
            47.08
           ]
          },
          {
           "customdata": [
            [
             42401,
             "Markus Golden",
             "OLB",
             "ARI",
             0
            ],
            [
             43986,
             "Antonio Hamilton",
             "CB",
             "ARI",
             0.02
            ],
            [
             44848,
             "Budda Baker",
             "SS",
             "ARI",
             0.01
            ],
            [
             47816,
             "Byron Murphy",
             "CB",
             "ARI",
             0.73
            ],
            [
             47848,
             "Zach Allen",
             "DE",
             "ARI",
             0
            ],
            [
             49410,
             "Jalen Thompson",
             "FS",
             "ARI",
             0.03
            ],
            [
             52416,
             "Isaiah Simmons",
             "DB",
             "ARI",
             0.4
            ],
            [
             52522,
             "Leki Fotu",
             "DT",
             "ARI",
             0.01
            ],
            [
             53445,
             "Zaven Collins",
             "OLB",
             "ARI",
             0.03
            ],
            [
             53565,
             "Marco Wilson",
             "CB",
             "ARI",
             0
            ],
            [
             54552,
             "Cameron Thomas",
             "OLB",
             "ARI",
             0.01
            ]
           ],
           "hovertemplate": "<b>nflId:</b> %{customdata[0]}<br><b>Player:</b> %{customdata[1]} %{customdata[2]}<br><b>Team:</b> %{customdata[3]}<br><br><b>Tackling Probability:</b> %{customdata[4]}",
           "marker": {
            "cmax": 1,
            "cmin": 0,
            "color": [
             "#fff5f0",
             "#fff2eb",
             "#fff3ed",
             "#d11e1f",
             "#fff5f0",
             "#fff0e8",
             "#fc8a6a",
             "#fff4ef",
             "#fff0e8",
             "#fff5f0",
             "#fff3ed"
            ],
            "colorbar": {
             "len": 0.85,
             "thickness": 10,
             "title": {
              "text": "defense"
             },
             "x": 1.03,
             "y": 0.4
            },
            "colorscale": [
             [
              0,
              "rgb(255,245,240)"
             ],
             [
              0.125,
              "rgb(254,224,210)"
             ],
             [
              0.25,
              "rgb(252,187,161)"
             ],
             [
              0.375,
              "rgb(252,146,114)"
             ],
             [
              0.5,
              "rgb(251,106,74)"
             ],
             [
              0.625,
              "rgb(239,59,44)"
             ],
             [
              0.75,
              "rgb(203,24,29)"
             ],
             [
              0.875,
              "rgb(165,15,21)"
             ],
             [
              1,
              "rgb(103,0,13)"
             ]
            ],
            "size": 10
           },
           "mode": "markers",
           "name": "defense",
           "showlegend": false,
           "type": "scatter",
           "x": [
            54.13,
            58.57,
            49.29,
            55.67,
            54.98,
            45.5,
            55.93,
            57.1,
            52.34,
            47.54,
            55.45
           ],
           "y": [
            28.06,
            44.42,
            37.21,
            46.3,
            30.01,
            38.4,
            44.92,
            36.79,
            39.08,
            27.17,
            40.83
           ]
          }
         ],
         "name": "23"
        },
        {
         "data": [
          {
           "customdata": [
            [
             43986,
             "Antonio Hamilton",
             "CB",
             "ARI",
             0.67
            ],
            [
             47816,
             "Byron Murphy",
             "CB",
             "ARI",
             0.91
            ]
           ],
           "hovertemplate": "<b>nflId:</b> %{customdata[0]}<br><b>Player:</b> %{customdata[1]} %{customdata[2]}<br><b>Team:</b> %{customdata[3]}<br><br><b>Tackling Probability:</b> %{customdata[4]}",
           "marker": {
            "color": "#FE962F",
            "line": {
             "width": 1
            },
            "opacity": 1,
            "size": 12,
            "symbol": "x"
           },
           "mode": "markers",
           "name": "MOTT",
           "type": "scatter",
           "x": [
            57.33,
            55.87
           ],
           "y": [
            41.61,
            47
           ]
          },
          {
           "hoverinfo": "none",
           "marker": {
            "color": "black",
            "size": 10
           },
           "mode": "markers",
           "name": "offense",
           "type": "scatter",
           "x": [
            55.24,
            56.55,
            59.24,
            50.78,
            56.87,
            62.29,
            52.71,
            53.5,
            51.3,
            54.83
           ],
           "y": [
            34.84,
            35.62,
            31.28,
            24.9,
            26.62,
            24.54,
            28.3,
            27.59,
            23.9,
            45.34
           ]
          },
          {
           "hoverinfo": "none",
           "marker": {
            "color": "yellow",
            "opacity": 1,
            "size": 10
           },
           "mode": "markers",
           "name": "ball_carrier",
           "type": "scatter",
           "x": [
            56.19
           ],
           "y": [
            47.78
           ]
          },
          {
           "customdata": [
            [
             42401,
             "Markus Golden",
             "OLB",
             "ARI",
             0
            ],
            [
             43986,
             "Antonio Hamilton",
             "CB",
             "ARI",
             0.01
            ],
            [
             44848,
             "Budda Baker",
             "SS",
             "ARI",
             0.02
            ],
            [
             47816,
             "Byron Murphy",
             "CB",
             "ARI",
             0.91
            ],
            [
             47848,
             "Zach Allen",
             "DE",
             "ARI",
             0
            ],
            [
             49410,
             "Jalen Thompson",
             "FS",
             "ARI",
             0.02
            ],
            [
             52416,
             "Isaiah Simmons",
             "DB",
             "ARI",
             0.2
            ],
            [
             52522,
             "Leki Fotu",
             "DT",
             "ARI",
             0
            ],
            [
             53445,
             "Zaven Collins",
             "OLB",
             "ARI",
             0.04
            ],
            [
             53565,
             "Marco Wilson",
             "CB",
             "ARI",
             0
            ],
            [
             54552,
             "Cameron Thomas",
             "OLB",
             "ARI",
             0.05
            ]
           ],
           "hovertemplate": "<b>nflId:</b> %{customdata[0]}<br><b>Player:</b> %{customdata[1]} %{customdata[2]}<br><b>Team:</b> %{customdata[3]}<br><br><b>Tackling Probability:</b> %{customdata[4]}",
           "marker": {
            "cmax": 1,
            "cmin": 0,
            "color": [
             "#fff5f0",
             "#fff4ef",
             "#fff3ed",
             "#940b13",
             "#fff5f0",
             "#fff2eb",
             "#fdc9b3",
             "#fff5f0",
             "#ffeee6",
             "#fff5f0",
             "#ffece4"
            ],
            "colorbar": {
             "len": 0.85,
             "thickness": 10,
             "title": {
              "text": "defense"
             },
             "x": 1.03,
             "y": 0.4
            },
            "colorscale": [
             [
              0,
              "rgb(255,245,240)"
             ],
             [
              0.125,
              "rgb(254,224,210)"
             ],
             [
              0.25,
              "rgb(252,187,161)"
             ],
             [
              0.375,
              "rgb(252,146,114)"
             ],
             [
              0.5,
              "rgb(251,106,74)"
             ],
             [
              0.625,
              "rgb(239,59,44)"
             ],
             [
              0.75,
              "rgb(203,24,29)"
             ],
             [
              0.875,
              "rgb(165,15,21)"
             ],
             [
              1,
              "rgb(103,0,13)"
             ]
            ],
            "size": 10
           },
           "mode": "markers",
           "name": "defense",
           "showlegend": false,
           "type": "scatter",
           "x": [
            54.1,
            58.61,
            49.22,
            55.87,
            54.96,
            45.62,
            55.92,
            57.03,
            52.21,
            47.31,
            55.34
           ],
           "y": [
            28.37,
            44.69,
            38,
            47,
            30.19,
            39.11,
            45.81,
            37.38,
            39.78,
            27.61,
            41.58
           ]
          }
         ],
         "name": "24"
        },
        {
         "data": [
          {
           "customdata": [
            [
             43986,
             "Antonio Hamilton",
             "CB",
             "ARI",
             0.67
            ],
            [
             47816,
             "Byron Murphy",
             "CB",
             "ARI",
             0.91
            ]
           ],
           "hovertemplate": "<b>nflId:</b> %{customdata[0]}<br><b>Player:</b> %{customdata[1]} %{customdata[2]}<br><b>Team:</b> %{customdata[3]}<br><br><b>Tackling Probability:</b> %{customdata[4]}",
           "marker": {
            "color": "#FE962F",
            "line": {
             "width": 1
            },
            "opacity": 1,
            "size": 12,
            "symbol": "x"
           },
           "mode": "markers",
           "name": "MOTT",
           "type": "scatter",
           "x": [
            57.33,
            55.87
           ],
           "y": [
            41.61,
            47
           ]
          },
          {
           "hoverinfo": "none",
           "marker": {
            "color": "black",
            "size": 10
           },
           "mode": "markers",
           "name": "offense",
           "type": "scatter",
           "x": [
            55.31,
            56.51,
            59.27,
            50.69,
            56.87,
            62.24,
            52.68,
            53.43,
            51.13,
            54.97
           ],
           "y": [
            34.99,
            35.83,
            31.41,
            25.03,
            26.68,
            24.59,
            28.42,
            27.59,
            24.08,
            45.96
           ]
          },
          {
           "hoverinfo": "none",
           "marker": {
            "color": "yellow",
            "opacity": 1,
            "size": 10
           },
           "mode": "markers",
           "name": "ball_carrier",
           "type": "scatter",
           "x": [
            55.94
           ],
           "y": [
            48.48
           ]
          },
          {
           "customdata": [
            [
             42401,
             "Markus Golden",
             "OLB",
             "ARI",
             0
            ],
            [
             43986,
             "Antonio Hamilton",
             "CB",
             "ARI",
             0
            ],
            [
             44848,
             "Budda Baker",
             "SS",
             "ARI",
             0.02
            ],
            [
             47816,
             "Byron Murphy",
             "CB",
             "ARI",
             0.77
            ],
            [
             47848,
             "Zach Allen",
             "DE",
             "ARI",
             0
            ],
            [
             49410,
             "Jalen Thompson",
             "FS",
             "ARI",
             0.02
            ],
            [
             52416,
             "Isaiah Simmons",
             "DB",
             "ARI",
             0.24
            ],
            [
             52522,
             "Leki Fotu",
             "DT",
             "ARI",
             0
            ],
            [
             53445,
             "Zaven Collins",
             "OLB",
             "ARI",
             0.04
            ],
            [
             53565,
             "Marco Wilson",
             "CB",
             "ARI",
             0
            ],
            [
             54552,
             "Cameron Thomas",
             "OLB",
             "ARI",
             0.06
            ]
           ],
           "hovertemplate": "<b>nflId:</b> %{customdata[0]}<br><b>Player:</b> %{customdata[1]} %{customdata[2]}<br><b>Team:</b> %{customdata[3]}<br><br><b>Tackling Probability:</b> %{customdata[4]}",
           "marker": {
            "cmax": 1,
            "cmin": 0,
            "color": [
             "#fff5f0",
             "#fff4ef",
             "#fff2ec",
             "#c3161b",
             "#fff5f0",
             "#fff2ec",
             "#fcbfa7",
             "#fff5f0",
             "#ffeee6",
             "#fff5f0",
             "#ffebe2"
            ],
            "colorbar": {
             "len": 0.85,
             "thickness": 10,
             "title": {
              "text": "defense"
             },
             "x": 1.03,
             "y": 0.4
            },
            "colorscale": [
             [
              0,
              "rgb(255,245,240)"
             ],
             [
              0.125,
              "rgb(254,224,210)"
             ],
             [
              0.25,
              "rgb(252,187,161)"
             ],
             [
              0.375,
              "rgb(252,146,114)"
             ],
             [
              0.5,
              "rgb(251,106,74)"
             ],
             [
              0.625,
              "rgb(239,59,44)"
             ],
             [
              0.75,
              "rgb(203,24,29)"
             ],
             [
              0.875,
              "rgb(165,15,21)"
             ],
             [
              1,
              "rgb(103,0,13)"
             ]
            ],
            "size": 10
           },
           "mode": "markers",
           "name": "defense",
           "showlegend": false,
           "type": "scatter",
           "x": [
            54.06,
            58.62,
            49.16,
            56.06,
            54.94,
            45.72,
            55.89,
            56.94,
            52.07,
            47.07,
            55.21
           ],
           "y": [
            28.68,
            44.92,
            38.79,
            47.66,
            30.37,
            39.82,
            46.71,
            37.96,
            40.49,
            28.04,
            42.34
           ]
          }
         ],
         "name": "25"
        },
        {
         "data": [
          {
           "customdata": [
            [
             43986,
             "Antonio Hamilton",
             "CB",
             "ARI",
             0.67
            ],
            [
             47816,
             "Byron Murphy",
             "CB",
             "ARI",
             0.91
            ]
           ],
           "hovertemplate": "<b>nflId:</b> %{customdata[0]}<br><b>Player:</b> %{customdata[1]} %{customdata[2]}<br><b>Team:</b> %{customdata[3]}<br><br><b>Tackling Probability:</b> %{customdata[4]}",
           "marker": {
            "color": "#FE962F",
            "line": {
             "width": 1
            },
            "opacity": 1,
            "size": 12,
            "symbol": "x"
           },
           "mode": "markers",
           "name": "MOTT",
           "type": "scatter",
           "x": [
            57.33,
            55.87
           ],
           "y": [
            41.61,
            47
           ]
          },
          {
           "hoverinfo": "none",
           "marker": {
            "color": "black",
            "size": 10
           },
           "mode": "markers",
           "name": "offense",
           "type": "scatter",
           "x": [
            55.37,
            56.49,
            59.28,
            50.62,
            56.87,
            62.18,
            52.65,
            53.36,
            50.98,
            55.12
           ],
           "y": [
            35.12,
            36.04,
            31.53,
            25.16,
            26.74,
            24.64,
            28.54,
            27.58,
            24.26,
            46.58
           ]
          },
          {
           "hoverinfo": "none",
           "marker": {
            "color": "yellow",
            "opacity": 1,
            "size": 10
           },
           "mode": "markers",
           "name": "ball_carrier",
           "type": "scatter",
           "x": [
            55.67
           ],
           "y": [
            49.17
           ]
          },
          {
           "customdata": [
            [
             42401,
             "Markus Golden",
             "OLB",
             "ARI",
             0
            ],
            [
             43986,
             "Antonio Hamilton",
             "CB",
             "ARI",
             0.01
            ],
            [
             44848,
             "Budda Baker",
             "SS",
             "ARI",
             0.03
            ],
            [
             47816,
             "Byron Murphy",
             "CB",
             "ARI",
             0.65
            ],
            [
             47848,
             "Zach Allen",
             "DE",
             "ARI",
             0
            ],
            [
             49410,
             "Jalen Thompson",
             "FS",
             "ARI",
             0.03
            ],
            [
             52416,
             "Isaiah Simmons",
             "DB",
             "ARI",
             0.21
            ],
            [
             52522,
             "Leki Fotu",
             "DT",
             "ARI",
             0
            ],
            [
             53445,
             "Zaven Collins",
             "OLB",
             "ARI",
             0.07
            ],
            [
             53565,
             "Marco Wilson",
             "CB",
             "ARI",
             0
            ],
            [
             54552,
             "Cameron Thomas",
             "OLB",
             "ARI",
             0.05
            ]
           ],
           "hovertemplate": "<b>nflId:</b> %{customdata[0]}<br><b>Player:</b> %{customdata[1]} %{customdata[2]}<br><b>Team:</b> %{customdata[3]}<br><br><b>Tackling Probability:</b> %{customdata[4]}",
           "marker": {
            "cmax": 1,
            "cmin": 0,
            "color": [
             "#fff5f0",
             "#fff4ef",
             "#fff1ea",
             "#e83429",
             "#fff5f0",
             "#fff0e9",
             "#fdc5ae",
             "#fff5f0",
             "#feeae1",
             "#fff5f0",
             "#ffece4"
            ],
            "colorbar": {
             "len": 0.85,
             "thickness": 10,
             "title": {
              "text": "defense"
             },
             "x": 1.03,
             "y": 0.4
            },
            "colorscale": [
             [
              0,
              "rgb(255,245,240)"
             ],
             [
              0.125,
              "rgb(254,224,210)"
             ],
             [
              0.25,
              "rgb(252,187,161)"
             ],
             [
              0.375,
              "rgb(252,146,114)"
             ],
             [
              0.5,
              "rgb(251,106,74)"
             ],
             [
              0.625,
              "rgb(239,59,44)"
             ],
             [
              0.75,
              "rgb(203,24,29)"
             ],
             [
              0.875,
              "rgb(165,15,21)"
             ],
             [
              1,
              "rgb(103,0,13)"
             ]
            ],
            "size": 10
           },
           "mode": "markers",
           "name": "defense",
           "showlegend": false,
           "type": "scatter",
           "x": [
            54.02,
            58.61,
            49.08,
            56.24,
            54.92,
            45.8,
            55.84,
            56.86,
            51.91,
            46.84,
            55.07
           ],
           "y": [
            28.98,
            45.16,
            39.57,
            48.27,
            30.54,
            40.52,
            47.6,
            38.55,
            41.19,
            28.46,
            43.1
           ]
          }
         ],
         "name": "26"
        },
        {
         "data": [
          {
           "customdata": [
            [
             43986,
             "Antonio Hamilton",
             "CB",
             "ARI",
             0.67
            ],
            [
             47816,
             "Byron Murphy",
             "CB",
             "ARI",
             0.91
            ]
           ],
           "hovertemplate": "<b>nflId:</b> %{customdata[0]}<br><b>Player:</b> %{customdata[1]} %{customdata[2]}<br><b>Team:</b> %{customdata[3]}<br><br><b>Tackling Probability:</b> %{customdata[4]}",
           "marker": {
            "color": "#FE962F",
            "line": {
             "width": 1
            },
            "opacity": 1,
            "size": 12,
            "symbol": "x"
           },
           "mode": "markers",
           "name": "MOTT",
           "type": "scatter",
           "x": [
            57.33,
            55.87
           ],
           "y": [
            41.61,
            47
           ]
          },
          {
           "hoverinfo": "none",
           "marker": {
            "color": "black",
            "size": 10
           },
           "mode": "markers",
           "name": "offense",
           "type": "scatter",
           "x": [
            55.43,
            56.47,
            59.28,
            50.56,
            56.88,
            62.12,
            52.64,
            53.29,
            50.86,
            55.29
           ],
           "y": [
            35.24,
            36.23,
            31.66,
            25.28,
            26.79,
            24.69,
            28.66,
            27.58,
            24.44,
            47.18
           ]
          },
          {
           "hoverinfo": "none",
           "marker": {
            "color": "yellow",
            "opacity": 1,
            "size": 10
           },
           "mode": "markers",
           "name": "ball_carrier",
           "type": "scatter",
           "x": [
            55.36
           ],
           "y": [
            49.82
           ]
          },
          {
           "customdata": [
            [
             42401,
             "Markus Golden",
             "OLB",
             "ARI",
             0
            ],
            [
             43986,
             "Antonio Hamilton",
             "CB",
             "ARI",
             0
            ],
            [
             44848,
             "Budda Baker",
             "SS",
             "ARI",
             0.03
            ],
            [
             47816,
             "Byron Murphy",
             "CB",
             "ARI",
             0.67
            ],
            [
             47848,
             "Zach Allen",
             "DE",
             "ARI",
             0
            ],
            [
             49410,
             "Jalen Thompson",
             "FS",
             "ARI",
             0.07
            ],
            [
             52416,
             "Isaiah Simmons",
             "DB",
             "ARI",
             0.53
            ],
            [
             52522,
             "Leki Fotu",
             "DT",
             "ARI",
             0
            ],
            [
             53445,
             "Zaven Collins",
             "OLB",
             "ARI",
             0.07
            ],
            [
             53565,
             "Marco Wilson",
             "CB",
             "ARI",
             0
            ],
            [
             54552,
             "Cameron Thomas",
             "OLB",
             "ARI",
             0.03
            ]
           ],
           "hovertemplate": "<b>nflId:</b> %{customdata[0]}<br><b>Player:</b> %{customdata[1]} %{customdata[2]}<br><b>Team:</b> %{customdata[3]}<br><br><b>Tackling Probability:</b> %{customdata[4]}",
           "marker": {
            "cmax": 1,
            "cmin": 0,
            "color": [
             "#fff5f0",
             "#fff5f0",
             "#fff0e8",
             "#e22e27",
             "#fff5f0",
             "#feeae1",
             "#f96044",
             "#fff5f0",
             "#feeae0",
             "#fff5f0",
             "#fff0e8"
            ],
            "colorbar": {
             "len": 0.85,
             "thickness": 10,
             "title": {
              "text": "defense"
             },
             "x": 1.03,
             "y": 0.4
            },
            "colorscale": [
             [
              0,
              "rgb(255,245,240)"
             ],
             [
              0.125,
              "rgb(254,224,210)"
             ],
             [
              0.25,
              "rgb(252,187,161)"
             ],
             [
              0.375,
              "rgb(252,146,114)"
             ],
             [
              0.5,
              "rgb(251,106,74)"
             ],
             [
              0.625,
              "rgb(239,59,44)"
             ],
             [
              0.75,
              "rgb(203,24,29)"
             ],
             [
              0.875,
              "rgb(165,15,21)"
             ],
             [
              1,
              "rgb(103,0,13)"
             ]
            ],
            "size": 10
           },
           "mode": "markers",
           "name": "defense",
           "showlegend": false,
           "type": "scatter",
           "x": [
            53.96,
            58.57,
            48.99,
            56.4,
            54.89,
            45.87,
            55.77,
            56.78,
            51.73,
            46.61,
            54.89
           ],
           "y": [
            29.28,
            45.37,
            40.35,
            48.78,
            30.7,
            41.23,
            48.49,
            39.12,
            41.9,
            28.88,
            43.88
           ]
          }
         ],
         "name": "27"
        },
        {
         "data": [
          {
           "customdata": [
            [
             43986,
             "Antonio Hamilton",
             "CB",
             "ARI",
             0.67
            ],
            [
             47816,
             "Byron Murphy",
             "CB",
             "ARI",
             0.91
            ]
           ],
           "hovertemplate": "<b>nflId:</b> %{customdata[0]}<br><b>Player:</b> %{customdata[1]} %{customdata[2]}<br><b>Team:</b> %{customdata[3]}<br><br><b>Tackling Probability:</b> %{customdata[4]}",
           "marker": {
            "color": "#FE962F",
            "line": {
             "width": 1
            },
            "opacity": 1,
            "size": 12,
            "symbol": "x"
           },
           "mode": "markers",
           "name": "MOTT",
           "type": "scatter",
           "x": [
            57.33,
            55.87
           ],
           "y": [
            41.61,
            47
           ]
          },
          {
           "hoverinfo": "none",
           "marker": {
            "color": "black",
            "size": 10
           },
           "mode": "markers",
           "name": "offense",
           "type": "scatter",
           "x": [
            55.49,
            56.45,
            59.26,
            50.51,
            56.89,
            62.06,
            52.65,
            53.21,
            50.77,
            55.46
           ],
           "y": [
            35.35,
            36.42,
            31.78,
            25.4,
            26.84,
            24.75,
            28.79,
            27.57,
            24.62,
            47.77
           ]
          },
          {
           "hoverinfo": "none",
           "marker": {
            "color": "yellow",
            "opacity": 1,
            "size": 10
           },
           "mode": "markers",
           "name": "ball_carrier",
           "type": "scatter",
           "x": [
            55.02
           ],
           "y": [
            50.44
           ]
          },
          {
           "customdata": [
            [
             42401,
             "Markus Golden",
             "OLB",
             "ARI",
             0
            ],
            [
             43986,
             "Antonio Hamilton",
             "CB",
             "ARI",
             0.01
            ],
            [
             44848,
             "Budda Baker",
             "SS",
             "ARI",
             0.05
            ],
            [
             47816,
             "Byron Murphy",
             "CB",
             "ARI",
             0.43
            ],
            [
             47848,
             "Zach Allen",
             "DE",
             "ARI",
             0
            ],
            [
             49410,
             "Jalen Thompson",
             "FS",
             "ARI",
             0.09
            ],
            [
             52416,
             "Isaiah Simmons",
             "DB",
             "ARI",
             0.64
            ],
            [
             52522,
             "Leki Fotu",
             "DT",
             "ARI",
             0
            ],
            [
             53445,
             "Zaven Collins",
             "OLB",
             "ARI",
             0.16
            ],
            [
             53565,
             "Marco Wilson",
             "CB",
             "ARI",
             0
            ],
            [
             54552,
             "Cameron Thomas",
             "OLB",
             "ARI",
             0.07
            ]
           ],
           "hovertemplate": "<b>nflId:</b> %{customdata[0]}<br><b>Player:</b> %{customdata[1]} %{customdata[2]}<br><b>Team:</b> %{customdata[3]}<br><br><b>Tackling Probability:</b> %{customdata[4]}",
           "marker": {
            "cmax": 1,
            "cmin": 0,
            "color": [
             "#fff5f0",
             "#fff4ef",
             "#ffece4",
             "#fc8060",
             "#fff5f0",
             "#fee7db",
             "#ea362a",
             "#fff5f0",
             "#fed8c7",
             "#fff4ef",
             "#feeae0"
            ],
            "colorbar": {
             "len": 0.85,
             "thickness": 10,
             "title": {
              "text": "defense"
             },
             "x": 1.03,
             "y": 0.4
            },
            "colorscale": [
             [
              0,
              "rgb(255,245,240)"
             ],
             [
              0.125,
              "rgb(254,224,210)"
             ],
             [
              0.25,
              "rgb(252,187,161)"
             ],
             [
              0.375,
              "rgb(252,146,114)"
             ],
             [
              0.5,
              "rgb(251,106,74)"
             ],
             [
              0.625,
              "rgb(239,59,44)"
             ],
             [
              0.75,
              "rgb(203,24,29)"
             ],
             [
              0.875,
              "rgb(165,15,21)"
             ],
             [
              1,
              "rgb(103,0,13)"
             ]
            ],
            "size": 10
           },
           "mode": "markers",
           "name": "defense",
           "showlegend": false,
           "type": "scatter",
           "x": [
            53.9,
            58.52,
            48.88,
            56.55,
            54.87,
            45.92,
            55.67,
            56.69,
            51.54,
            46.39,
            54.7
           ],
           "y": [
            29.58,
            45.57,
            41.12,
            49.26,
            30.86,
            41.94,
            49.37,
            39.68,
            42.61,
            29.28,
            44.64
           ]
          }
         ],
         "name": "28"
        },
        {
         "data": [
          {
           "customdata": [
            [
             43986,
             "Antonio Hamilton",
             "CB",
             "ARI",
             0.67
            ],
            [
             47816,
             "Byron Murphy",
             "CB",
             "ARI",
             0.91
            ],
            [
             52416,
             "Isaiah Simmons",
             "DB",
             "ARI",
             0.72
            ]
           ],
           "hovertemplate": "<b>nflId:</b> %{customdata[0]}<br><b>Player:</b> %{customdata[1]} %{customdata[2]}<br><b>Team:</b> %{customdata[3]}<br><br><b>Tackling Probability:</b> %{customdata[4]}",
           "marker": {
            "color": "#FE962F",
            "line": {
             "width": 1
            },
            "opacity": 1,
            "size": 12,
            "symbol": "x"
           },
           "mode": "markers",
           "name": "MOTT",
           "type": "scatter",
           "x": [
            57.33,
            55.87,
            55.55
           ],
           "y": [
            41.61,
            47,
            50.23
           ]
          },
          {
           "hoverinfo": "none",
           "marker": {
            "color": "black",
            "size": 10
           },
           "mode": "markers",
           "name": "offense",
           "type": "scatter",
           "x": [
            55.55,
            56.43,
            59.22,
            50.47,
            56.9,
            62,
            52.66,
            53.13,
            50.7,
            55.64
           ],
           "y": [
            35.44,
            36.6,
            31.89,
            25.5,
            26.88,
            24.81,
            28.92,
            27.58,
            24.81,
            48.35
           ]
          },
          {
           "hoverinfo": "none",
           "marker": {
            "color": "yellow",
            "opacity": 1,
            "size": 10
           },
           "mode": "markers",
           "name": "ball_carrier",
           "type": "scatter",
           "x": [
            54.65
           ],
           "y": [
            51.01
           ]
          },
          {
           "customdata": [
            [
             42401,
             "Markus Golden",
             "OLB",
             "ARI",
             0
            ],
            [
             43986,
             "Antonio Hamilton",
             "CB",
             "ARI",
             0.01
            ],
            [
             44848,
             "Budda Baker",
             "SS",
             "ARI",
             0.09
            ],
            [
             47816,
             "Byron Murphy",
             "CB",
             "ARI",
             0.3
            ],
            [
             47848,
             "Zach Allen",
             "DE",
             "ARI",
             0
            ],
            [
             49410,
             "Jalen Thompson",
             "FS",
             "ARI",
             0.11
            ],
            [
             52416,
             "Isaiah Simmons",
             "DB",
             "ARI",
             0.72
            ],
            [
             52522,
             "Leki Fotu",
             "DT",
             "ARI",
             0
            ],
            [
             53445,
             "Zaven Collins",
             "OLB",
             "ARI",
             0.13
            ],
            [
             53565,
             "Marco Wilson",
             "CB",
             "ARI",
             0
            ],
            [
             54552,
             "Cameron Thomas",
             "OLB",
             "ARI",
             0.08
            ]
           ],
           "hovertemplate": "<b>nflId:</b> %{customdata[0]}<br><b>Player:</b> %{customdata[1]} %{customdata[2]}<br><b>Team:</b> %{customdata[3]}<br><br><b>Tackling Probability:</b> %{customdata[4]}",
           "marker": {
            "cmax": 1,
            "cmin": 0,
            "color": [
             "#fff5f0",
             "#fff4ee",
             "#fee7dc",
             "#fcad90",
             "#fff5f0",
             "#fee3d6",
             "#d32020",
             "#fff5f0",
             "#fedfd0",
             "#fff5f0",
             "#fee8dd"
            ],
            "colorbar": {
             "len": 0.85,
             "thickness": 10,
             "title": {
              "text": "defense"
             },
             "x": 1.03,
             "y": 0.4
            },
            "colorscale": [
             [
              0,
              "rgb(255,245,240)"
             ],
             [
              0.125,
              "rgb(254,224,210)"
             ],
             [
              0.25,
              "rgb(252,187,161)"
             ],
             [
              0.375,
              "rgb(252,146,114)"
             ],
             [
              0.5,
              "rgb(251,106,74)"
             ],
             [
              0.625,
              "rgb(239,59,44)"
             ],
             [
              0.75,
              "rgb(203,24,29)"
             ],
             [
              0.875,
              "rgb(165,15,21)"
             ],
             [
              1,
              "rgb(103,0,13)"
             ]
            ],
            "size": 10
           },
           "mode": "markers",
           "name": "defense",
           "showlegend": false,
           "type": "scatter",
           "x": [
            53.84,
            58.44,
            48.75,
            56.68,
            54.84,
            45.96,
            55.55,
            56.6,
            51.33,
            46.17,
            54.49
           ],
           "y": [
            29.88,
            45.77,
            41.9,
            49.68,
            30.99,
            42.65,
            50.23,
            40.23,
            43.31,
            29.68,
            45.39
           ]
          }
         ],
         "name": "29"
        },
        {
         "data": [
          {
           "customdata": [
            [
             43986,
             "Antonio Hamilton",
             "CB",
             "ARI",
             0.67
            ],
            [
             47816,
             "Byron Murphy",
             "CB",
             "ARI",
             0.91
            ],
            [
             52416,
             "Isaiah Simmons",
             "DB",
             "ARI",
             0.72
            ]
           ],
           "hovertemplate": "<b>nflId:</b> %{customdata[0]}<br><b>Player:</b> %{customdata[1]} %{customdata[2]}<br><b>Team:</b> %{customdata[3]}<br><br><b>Tackling Probability:</b> %{customdata[4]}",
           "marker": {
            "color": "#FE962F",
            "line": {
             "width": 1
            },
            "opacity": 1,
            "size": 12,
            "symbol": "x"
           },
           "mode": "markers",
           "name": "MOTT",
           "type": "scatter",
           "x": [
            57.33,
            55.87,
            55.55
           ],
           "y": [
            41.61,
            47,
            50.23
           ]
          },
          {
           "hoverinfo": "none",
           "marker": {
            "color": "black",
            "size": 10
           },
           "mode": "markers",
           "name": "offense",
           "type": "scatter",
           "x": [
            55.61,
            56.4,
            59.17,
            50.44,
            56.92,
            61.93,
            52.69,
            53.06,
            50.65,
            55.82
           ],
           "y": [
            35.52,
            36.77,
            32.01,
            25.61,
            26.91,
            24.87,
            29.05,
            27.58,
            24.99,
            48.92
           ]
          },
          {
           "hoverinfo": "none",
           "marker": {
            "color": "yellow",
            "opacity": 1,
            "size": 10
           },
           "mode": "markers",
           "name": "ball_carrier",
           "type": "scatter",
           "x": [
            54.24
           ],
           "y": [
            51.53
           ]
          },
          {
           "customdata": [
            [
             42401,
             "Markus Golden",
             "OLB",
             "ARI",
             0
            ],
            [
             43986,
             "Antonio Hamilton",
             "CB",
             "ARI",
             0.01
            ],
            [
             44848,
             "Budda Baker",
             "SS",
             "ARI",
             0.15
            ],
            [
             47816,
             "Byron Murphy",
             "CB",
             "ARI",
             0.64
            ],
            [
             47848,
             "Zach Allen",
             "DE",
             "ARI",
             0
            ],
            [
             49410,
             "Jalen Thompson",
             "FS",
             "ARI",
             0.14
            ],
            [
             52416,
             "Isaiah Simmons",
             "DB",
             "ARI",
             0.54
            ],
            [
             52522,
             "Leki Fotu",
             "DT",
             "ARI",
             0
            ],
            [
             53445,
             "Zaven Collins",
             "OLB",
             "ARI",
             0.14
            ],
            [
             53565,
             "Marco Wilson",
             "CB",
             "ARI",
             0
            ],
            [
             54552,
             "Cameron Thomas",
             "OLB",
             "ARI",
             0.08
            ]
           ],
           "hovertemplate": "<b>nflId:</b> %{customdata[0]}<br><b>Player:</b> %{customdata[1]} %{customdata[2]}<br><b>Team:</b> %{customdata[3]}<br><br><b>Tackling Probability:</b> %{customdata[4]}",
           "marker": {
            "cmax": 1,
            "cmin": 0,
            "color": [
             "#fff5f0",
             "#fff4ee",
             "#fedaca",
             "#eb372a",
             "#fff5f0",
             "#fedbcc",
             "#f75c41",
             "#fff5f0",
             "#fedecf",
             "#fff5f0",
             "#fee8dd"
            ],
            "colorbar": {
             "len": 0.85,
             "thickness": 10,
             "title": {
              "text": "defense"
             },
             "x": 1.03,
             "y": 0.4
            },
            "colorscale": [
             [
              0,
              "rgb(255,245,240)"
             ],
             [
              0.125,
              "rgb(254,224,210)"
             ],
             [
              0.25,
              "rgb(252,187,161)"
             ],
             [
              0.375,
              "rgb(252,146,114)"
             ],
             [
              0.5,
              "rgb(251,106,74)"
             ],
             [
              0.625,
              "rgb(239,59,44)"
             ],
             [
              0.75,
              "rgb(203,24,29)"
             ],
             [
              0.875,
              "rgb(165,15,21)"
             ],
             [
              1,
              "rgb(103,0,13)"
             ]
            ],
            "size": 10
           },
           "mode": "markers",
           "name": "defense",
           "showlegend": false,
           "type": "scatter",
           "x": [
            53.77,
            58.32,
            48.6,
            56.81,
            54.82,
            45.98,
            55.42,
            56.5,
            51.09,
            45.95,
            54.24
           ],
           "y": [
            30.18,
            45.99,
            42.66,
            50.04,
            31.12,
            43.35,
            51.07,
            40.76,
            44.01,
            30.06,
            46.13
           ]
          }
         ],
         "name": "30"
        },
        {
         "data": [
          {
           "customdata": [
            [
             43986,
             "Antonio Hamilton",
             "CB",
             "ARI",
             0.67
            ],
            [
             47816,
             "Byron Murphy",
             "CB",
             "ARI",
             0.91
            ],
            [
             52416,
             "Isaiah Simmons",
             "DB",
             "ARI",
             0.72
            ]
           ],
           "hovertemplate": "<b>nflId:</b> %{customdata[0]}<br><b>Player:</b> %{customdata[1]} %{customdata[2]}<br><b>Team:</b> %{customdata[3]}<br><br><b>Tackling Probability:</b> %{customdata[4]}",
           "marker": {
            "color": "#FE962F",
            "line": {
             "width": 1
            },
            "opacity": 1,
            "size": 12,
            "symbol": "x"
           },
           "mode": "markers",
           "name": "MOTT",
           "type": "scatter",
           "x": [
            57.33,
            55.87,
            55.55
           ],
           "y": [
            41.61,
            47,
            50.23
           ]
          },
          {
           "hoverinfo": "none",
           "marker": {
            "color": "black",
            "size": 10
           },
           "mode": "markers",
           "name": "offense",
           "type": "scatter",
           "x": [
            55.65,
            56.39,
            59.11,
            50.42,
            56.94,
            61.86,
            52.71,
            52.99,
            50.63,
            55.99
           ],
           "y": [
            35.59,
            36.93,
            32.11,
            25.7,
            26.94,
            24.93,
            29.18,
            27.59,
            25.17,
            49.47
           ]
          },
          {
           "hoverinfo": "none",
           "marker": {
            "color": "yellow",
            "opacity": 1,
            "size": 10
           },
           "mode": "markers",
           "name": "ball_carrier",
           "type": "scatter",
           "x": [
            53.8
           ],
           "y": [
            52
           ]
          },
          {
           "customdata": [
            [
             42401,
             "Markus Golden",
             "OLB",
             "ARI",
             0
            ],
            [
             43986,
             "Antonio Hamilton",
             "CB",
             "ARI",
             0.01
            ],
            [
             44848,
             "Budda Baker",
             "SS",
             "ARI",
             0.1
            ],
            [
             47816,
             "Byron Murphy",
             "CB",
             "ARI",
             0.65
            ],
            [
             47848,
             "Zach Allen",
             "DE",
             "ARI",
             0
            ],
            [
             49410,
             "Jalen Thompson",
             "FS",
             "ARI",
             0.07
            ],
            [
             52416,
             "Isaiah Simmons",
             "DB",
             "ARI",
             0.44
            ],
            [
             52522,
             "Leki Fotu",
             "DT",
             "ARI",
             0
            ],
            [
             53445,
             "Zaven Collins",
             "OLB",
             "ARI",
             0.17
            ],
            [
             53565,
             "Marco Wilson",
             "CB",
             "ARI",
             0
            ],
            [
             54552,
             "Cameron Thomas",
             "OLB",
             "ARI",
             0.09
            ]
           ],
           "hovertemplate": "<b>nflId:</b> %{customdata[0]}<br><b>Player:</b> %{customdata[1]} %{customdata[2]}<br><b>Team:</b> %{customdata[3]}<br><br><b>Tackling Probability:</b> %{customdata[4]}",
           "marker": {
            "cmax": 1,
            "cmin": 0,
            "color": [
             "#fff5f0",
             "#fff4ef",
             "#fee5d8",
             "#e83429",
             "#fff5f0",
             "#feeae0",
             "#fc7f5f",
             "#fff4ef",
             "#fdd3c1",
             "#fff5f0",
             "#fee6da"
            ],
            "colorbar": {
             "len": 0.85,
             "thickness": 10,
             "title": {
              "text": "defense"
             },
             "x": 1.03,
             "y": 0.4
            },
            "colorscale": [
             [
              0,
              "rgb(255,245,240)"
             ],
             [
              0.125,
              "rgb(254,224,210)"
             ],
             [
              0.25,
              "rgb(252,187,161)"
             ],
             [
              0.375,
              "rgb(252,146,114)"
             ],
             [
              0.5,
              "rgb(251,106,74)"
             ],
             [
              0.625,
              "rgb(239,59,44)"
             ],
             [
              0.75,
              "rgb(203,24,29)"
             ],
             [
              0.875,
              "rgb(165,15,21)"
             ],
             [
              1,
              "rgb(103,0,13)"
             ]
            ],
            "size": 10
           },
           "mode": "markers",
           "name": "defense",
           "showlegend": false,
           "type": "scatter",
           "x": [
            53.69,
            58.19,
            48.41,
            56.97,
            54.79,
            45.99,
            55.26,
            56.4,
            50.82,
            45.74,
            53.96
           ],
           "y": [
            30.48,
            46.22,
            43.41,
            50.32,
            31.24,
            44.04,
            51.87,
            41.29,
            44.7,
            30.43,
            46.85
           ]
          }
         ],
         "name": "31"
        },
        {
         "data": [
          {
           "customdata": [
            [
             43986,
             "Antonio Hamilton",
             "CB",
             "ARI",
             0.67
            ],
            [
             47816,
             "Byron Murphy",
             "CB",
             "ARI",
             0.91
            ],
            [
             52416,
             "Isaiah Simmons",
             "DB",
             "ARI",
             0.72
            ]
           ],
           "hovertemplate": "<b>nflId:</b> %{customdata[0]}<br><b>Player:</b> %{customdata[1]} %{customdata[2]}<br><b>Team:</b> %{customdata[3]}<br><br><b>Tackling Probability:</b> %{customdata[4]}",
           "marker": {
            "color": "#FE962F",
            "line": {
             "width": 1
            },
            "opacity": 1,
            "size": 12,
            "symbol": "x"
           },
           "mode": "markers",
           "name": "MOTT",
           "type": "scatter",
           "x": [
            57.33,
            55.87,
            55.55
           ],
           "y": [
            41.61,
            47,
            50.23
           ]
          },
          {
           "hoverinfo": "none",
           "marker": {
            "color": "black",
            "size": 10
           },
           "mode": "markers",
           "name": "offense",
           "type": "scatter",
           "x": [
            55.69,
            56.39,
            59.03,
            50.4,
            56.95,
            61.77,
            52.74,
            52.92,
            50.62,
            56.16
           ],
           "y": [
            35.65,
            37.08,
            32.21,
            25.8,
            26.95,
            24.99,
            29.32,
            27.61,
            25.35,
            50
           ]
          },
          {
           "hoverinfo": "none",
           "marker": {
            "color": "yellow",
            "opacity": 1,
            "size": 10
           },
           "mode": "markers",
           "name": "ball_carrier",
           "type": "scatter",
           "x": [
            53.33
           ],
           "y": [
            52.43
           ]
          },
          {
           "customdata": [
            [
             42401,
             "Markus Golden",
             "OLB",
             "ARI",
             0
            ],
            [
             43986,
             "Antonio Hamilton",
             "CB",
             "ARI",
             0
            ],
            [
             44848,
             "Budda Baker",
             "SS",
             "ARI",
             0.15
            ],
            [
             47816,
             "Byron Murphy",
             "CB",
             "ARI",
             0.65
            ],
            [
             47848,
             "Zach Allen",
             "DE",
             "ARI",
             0
            ],
            [
             49410,
             "Jalen Thompson",
             "FS",
             "ARI",
             0.07
            ],
            [
             52416,
             "Isaiah Simmons",
             "DB",
             "ARI",
             0.44
            ],
            [
             52522,
             "Leki Fotu",
             "DT",
             "ARI",
             0.01
            ],
            [
             53445,
             "Zaven Collins",
             "OLB",
             "ARI",
             0.16
            ],
            [
             53565,
             "Marco Wilson",
             "CB",
             "ARI",
             0
            ],
            [
             54552,
             "Cameron Thomas",
             "OLB",
             "ARI",
             0.14
            ]
           ],
           "hovertemplate": "<b>nflId:</b> %{customdata[0]}<br><b>Player:</b> %{customdata[1]} %{customdata[2]}<br><b>Team:</b> %{customdata[3]}<br><br><b>Tackling Probability:</b> %{customdata[4]}",
           "marker": {
            "cmax": 1,
            "cmin": 0,
            "color": [
             "#fff5f0",
             "#fff5f0",
             "#fed9c9",
             "#e83429",
             "#fff5f0",
             "#feeae0",
             "#fb7d5d",
             "#fff4ef",
             "#fdd5c4",
             "#fff5f0",
             "#fedbcc"
            ],
            "colorbar": {
             "len": 0.85,
             "thickness": 10,
             "title": {
              "text": "defense"
             },
             "x": 1.03,
             "y": 0.4
            },
            "colorscale": [
             [
              0,
              "rgb(255,245,240)"
             ],
             [
              0.125,
              "rgb(254,224,210)"
             ],
             [
              0.25,
              "rgb(252,187,161)"
             ],
             [
              0.375,
              "rgb(252,146,114)"
             ],
             [
              0.5,
              "rgb(251,106,74)"
             ],
             [
              0.625,
              "rgb(239,59,44)"
             ],
             [
              0.75,
              "rgb(203,24,29)"
             ],
             [
              0.875,
              "rgb(165,15,21)"
             ],
             [
              1,
              "rgb(103,0,13)"
             ]
            ],
            "size": 10
           },
           "mode": "markers",
           "name": "defense",
           "showlegend": false,
           "type": "scatter",
           "x": [
            53.61,
            58.04,
            48.21,
            57.1,
            54.77,
            45.97,
            55.1,
            56.3,
            50.52,
            45.53,
            53.65
           ],
           "y": [
            30.77,
            46.47,
            44.14,
            50.55,
            31.34,
            44.72,
            52.61,
            41.81,
            45.38,
            30.79,
            47.55
           ]
          }
         ],
         "name": "32"
        },
        {
         "data": [
          {
           "customdata": [
            [
             43986,
             "Antonio Hamilton",
             "CB",
             "ARI",
             0.67
            ],
            [
             47816,
             "Byron Murphy",
             "CB",
             "ARI",
             0.91
            ],
            [
             52416,
             "Isaiah Simmons",
             "DB",
             "ARI",
             0.72
            ]
           ],
           "hovertemplate": "<b>nflId:</b> %{customdata[0]}<br><b>Player:</b> %{customdata[1]} %{customdata[2]}<br><b>Team:</b> %{customdata[3]}<br><br><b>Tackling Probability:</b> %{customdata[4]}",
           "marker": {
            "color": "#FE962F",
            "line": {
             "width": 1
            },
            "opacity": 1,
            "size": 12,
            "symbol": "x"
           },
           "mode": "markers",
           "name": "MOTT",
           "type": "scatter",
           "x": [
            57.33,
            55.87,
            55.55
           ],
           "y": [
            41.61,
            47,
            50.23
           ]
          },
          {
           "hoverinfo": "none",
           "marker": {
            "color": "black",
            "size": 10
           },
           "mode": "markers",
           "name": "offense",
           "type": "scatter",
           "x": [
            55.76,
            56.39,
            58.96,
            50.38,
            56.96,
            61.68,
            52.77,
            52.86,
            50.64,
            56.33
           ],
           "y": [
            35.69,
            37.22,
            32.3,
            25.89,
            26.96,
            25.06,
            29.46,
            27.63,
            25.54,
            50.52
           ]
          },
          {
           "hoverinfo": "none",
           "marker": {
            "color": "yellow",
            "opacity": 1,
            "size": 10
           },
           "mode": "markers",
           "name": "ball_carrier",
           "type": "scatter",
           "x": [
            52.83
           ],
           "y": [
            52.8
           ]
          },
          {
           "customdata": [
            [
             42401,
             "Markus Golden",
             "OLB",
             "ARI",
             0
            ],
            [
             43986,
             "Antonio Hamilton",
             "CB",
             "ARI",
             0
            ],
            [
             44848,
             "Budda Baker",
             "SS",
             "ARI",
             0.17
            ],
            [
             47816,
             "Byron Murphy",
             "CB",
             "ARI",
             0.25
            ],
            [
             47848,
             "Zach Allen",
             "DE",
             "ARI",
             0
            ],
            [
             49410,
             "Jalen Thompson",
             "FS",
             "ARI",
             0.11
            ],
            [
             52416,
             "Isaiah Simmons",
             "DB",
             "ARI",
             0.51
            ],
            [
             52522,
             "Leki Fotu",
             "DT",
             "ARI",
             0.01
            ],
            [
             53445,
             "Zaven Collins",
             "OLB",
             "ARI",
             0.13
            ],
            [
             53565,
             "Marco Wilson",
             "CB",
             "ARI",
             0
            ],
            [
             54552,
             "Cameron Thomas",
             "OLB",
             "ARI",
             0.18
            ]
           ],
           "hovertemplate": "<b>nflId:</b> %{customdata[0]}<br><b>Player:</b> %{customdata[1]} %{customdata[2]}<br><b>Team:</b> %{customdata[3]}<br><br><b>Tackling Probability:</b> %{customdata[4]}",
           "marker": {
            "cmax": 1,
            "cmin": 0,
            "color": [
             "#fff5f0",
             "#fff5f0",
             "#fdd2bf",
             "#fcb99f",
             "#fff5f0",
             "#fee3d7",
             "#fa6648",
             "#fff4ef",
             "#fee0d2",
             "#fff5f0",
             "#fdd1be"
            ],
            "colorbar": {
             "len": 0.85,
             "thickness": 10,
             "title": {
              "text": "defense"
             },
             "x": 1.03,
             "y": 0.4
            },
            "colorscale": [
             [
              0,
              "rgb(255,245,240)"
             ],
             [
              0.125,
              "rgb(254,224,210)"
             ],
             [
              0.25,
              "rgb(252,187,161)"
             ],
             [
              0.375,
              "rgb(252,146,114)"
             ],
             [
              0.5,
              "rgb(251,106,74)"
             ],
             [
              0.625,
              "rgb(239,59,44)"
             ],
             [
              0.75,
              "rgb(203,24,29)"
             ],
             [
              0.875,
              "rgb(165,15,21)"
             ],
             [
              1,
              "rgb(103,0,13)"
             ]
            ],
            "size": 10
           },
           "mode": "markers",
           "name": "defense",
           "showlegend": false,
           "type": "scatter",
           "x": [
            53.51,
            57.88,
            47.97,
            57.22,
            54.75,
            45.93,
            54.92,
            56.19,
            50.19,
            45.31,
            53.29
           ],
           "y": [
            31.06,
            46.72,
            44.86,
            50.73,
            31.43,
            45.4,
            53.3,
            42.31,
            46.05,
            31.13,
            48.22
           ]
          }
         ],
         "name": "33"
        },
        {
         "data": [
          {
           "customdata": [
            [
             43986,
             "Antonio Hamilton",
             "CB",
             "ARI",
             0.67
            ],
            [
             47816,
             "Byron Murphy",
             "CB",
             "ARI",
             0.91
            ],
            [
             52416,
             "Isaiah Simmons",
             "DB",
             "ARI",
             0.72
            ]
           ],
           "hovertemplate": "<b>nflId:</b> %{customdata[0]}<br><b>Player:</b> %{customdata[1]} %{customdata[2]}<br><b>Team:</b> %{customdata[3]}<br><br><b>Tackling Probability:</b> %{customdata[4]}",
           "marker": {
            "color": "#FE962F",
            "line": {
             "width": 1
            },
            "opacity": 1,
            "size": 12,
            "symbol": "x"
           },
           "mode": "markers",
           "name": "MOTT",
           "type": "scatter",
           "x": [
            57.33,
            55.87,
            55.55
           ],
           "y": [
            41.61,
            47,
            50.23
           ]
          },
          {
           "hoverinfo": "none",
           "marker": {
            "color": "black",
            "size": 10
           },
           "mode": "markers",
           "name": "offense",
           "type": "scatter",
           "x": [
            55.82,
            56.39,
            58.87,
            50.38,
            56.97,
            61.59,
            52.8,
            52.8,
            50.66,
            56.5
           ],
           "y": [
            35.72,
            37.35,
            32.38,
            25.98,
            26.97,
            25.14,
            29.59,
            27.66,
            25.74,
            51.03
           ]
          },
          {
           "hoverinfo": "none",
           "marker": {
            "color": "yellow",
            "opacity": 1,
            "size": 10
           },
           "mode": "markers",
           "name": "ball_carrier",
           "type": "scatter",
           "x": [
            52.3
           ],
           "y": [
            53.14
           ]
          },
          {
           "customdata": [
            [
             42401,
             "Markus Golden",
             "OLB",
             "ARI",
             0
            ],
            [
             43986,
             "Antonio Hamilton",
             "CB",
             "ARI",
             0
            ],
            [
             44848,
             "Budda Baker",
             "SS",
             "ARI",
             0.09
            ],
            [
             47816,
             "Byron Murphy",
             "CB",
             "ARI",
             0.23
            ],
            [
             47848,
             "Zach Allen",
             "DE",
             "ARI",
             0
            ],
            [
             49410,
             "Jalen Thompson",
             "FS",
             "ARI",
             0.06
            ],
            [
             52416,
             "Isaiah Simmons",
             "DB",
             "ARI",
             0.37
            ],
            [
             52522,
             "Leki Fotu",
             "DT",
             "ARI",
             0.01
            ],
            [
             53445,
             "Zaven Collins",
             "OLB",
             "ARI",
             0.11
            ],
            [
             53565,
             "Marco Wilson",
             "CB",
             "ARI",
             0
            ],
            [
             54552,
             "Cameron Thomas",
             "OLB",
             "ARI",
             0.1
            ]
           ],
           "hovertemplate": "<b>nflId:</b> %{customdata[0]}<br><b>Player:</b> %{customdata[1]} %{customdata[2]}<br><b>Team:</b> %{customdata[3]}<br><br><b>Tackling Probability:</b> %{customdata[4]}",
           "marker": {
            "cmax": 1,
            "cmin": 0,
            "color": [
             "#fff5f0",
             "#fff5f0",
             "#fee7dc",
             "#fcc3ab",
             "#fff5f0",
             "#ffebe2",
             "#fc9474",
             "#fff4ef",
             "#fee3d6",
             "#fff5f0",
             "#fee5d8"
            ],
            "colorbar": {
             "len": 0.85,
             "thickness": 10,
             "title": {
              "text": "defense"
             },
             "x": 1.03,
             "y": 0.4
            },
            "colorscale": [
             [
              0,
              "rgb(255,245,240)"
             ],
             [
              0.125,
              "rgb(254,224,210)"
             ],
             [
              0.25,
              "rgb(252,187,161)"
             ],
             [
              0.375,
              "rgb(252,146,114)"
             ],
             [
              0.5,
              "rgb(251,106,74)"
             ],
             [
              0.625,
              "rgb(239,59,44)"
             ],
             [
              0.75,
              "rgb(203,24,29)"
             ],
             [
              0.875,
              "rgb(165,15,21)"
             ],
             [
              1,
              "rgb(103,0,13)"
             ]
            ],
            "size": 10
           },
           "mode": "markers",
           "name": "defense",
           "showlegend": false,
           "type": "scatter",
           "x": [
            53.41,
            57.71,
            47.7,
            57.34,
            54.74,
            45.86,
            54.74,
            56.08,
            49.83,
            45.11,
            52.88
           ],
           "y": [
            31.34,
            46.98,
            45.57,
            50.86,
            31.51,
            46.07,
            53.93,
            42.79,
            46.71,
            31.46,
            48.89
           ]
          }
         ],
         "name": "34"
        },
        {
         "data": [
          {
           "customdata": [
            [
             43986,
             "Antonio Hamilton",
             "CB",
             "ARI",
             0.67
            ],
            [
             47816,
             "Byron Murphy",
             "CB",
             "ARI",
             0.91
            ],
            [
             52416,
             "Isaiah Simmons",
             "DB",
             "ARI",
             0.72
            ]
           ],
           "hovertemplate": "<b>nflId:</b> %{customdata[0]}<br><b>Player:</b> %{customdata[1]} %{customdata[2]}<br><b>Team:</b> %{customdata[3]}<br><br><b>Tackling Probability:</b> %{customdata[4]}",
           "marker": {
            "color": "#FE962F",
            "line": {
             "width": 1
            },
            "opacity": 1,
            "size": 12,
            "symbol": "x"
           },
           "mode": "markers",
           "name": "MOTT",
           "type": "scatter",
           "x": [
            57.33,
            55.87,
            55.55
           ],
           "y": [
            41.61,
            47,
            50.23
           ]
          },
          {
           "hoverinfo": "none",
           "marker": {
            "color": "black",
            "size": 10
           },
           "mode": "markers",
           "name": "offense",
           "type": "scatter",
           "x": [
            55.88,
            56.4,
            58.77,
            50.37,
            56.97,
            61.48,
            52.83,
            52.75,
            50.69,
            56.66
           ],
           "y": [
            35.75,
            37.48,
            32.46,
            26.06,
            26.97,
            25.21,
            29.72,
            27.69,
            25.93,
            51.53
           ]
          },
          {
           "hoverinfo": "none",
           "marker": {
            "color": "yellow",
            "opacity": 1,
            "size": 10
           },
           "mode": "markers",
           "name": "ball_carrier",
           "type": "scatter",
           "x": [
            51.74
           ],
           "y": [
            53.17
           ]
          },
          {
           "customdata": [
            [
             42401,
             "Markus Golden",
             "OLB",
             "ARI",
             0
            ],
            [
             43986,
             "Antonio Hamilton",
             "CB",
             "ARI",
             0
            ],
            [
             44848,
             "Budda Baker",
             "SS",
             "ARI",
             0.12
            ],
            [
             47816,
             "Byron Murphy",
             "CB",
             "ARI",
             0.2
            ],
            [
             47848,
             "Zach Allen",
             "DE",
             "ARI",
             0
            ],
            [
             49410,
             "Jalen Thompson",
             "FS",
             "ARI",
             0.09
            ],
            [
             52416,
             "Isaiah Simmons",
             "DB",
             "ARI",
             0.3
            ],
            [
             52522,
             "Leki Fotu",
             "DT",
             "ARI",
             0
            ],
            [
             53445,
             "Zaven Collins",
             "OLB",
             "ARI",
             0.13
            ],
            [
             53565,
             "Marco Wilson",
             "CB",
             "ARI",
             0
            ],
            [
             54552,
             "Cameron Thomas",
             "OLB",
             "ARI",
             0.19
            ]
           ],
           "hovertemplate": "<b>nflId:</b> %{customdata[0]}<br><b>Player:</b> %{customdata[1]} %{customdata[2]}<br><b>Team:</b> %{customdata[3]}<br><br><b>Tackling Probability:</b> %{customdata[4]}",
           "marker": {
            "cmax": 1,
            "cmin": 0,
            "color": [
             "#fff5f0",
             "#fff5f0",
             "#fee2d5",
             "#fdcab5",
             "#fff5f0",
             "#fee6da",
             "#fcab8f",
             "#fff5f0",
             "#fedfd0",
             "#fff5f0",
             "#fdccb8"
            ],
            "colorbar": {
             "len": 0.85,
             "thickness": 10,
             "title": {
              "text": "defense"
             },
             "x": 1.03,
             "y": 0.4
            },
            "colorscale": [
             [
              0,
              "rgb(255,245,240)"
             ],
             [
              0.125,
              "rgb(254,224,210)"
             ],
             [
              0.25,
              "rgb(252,187,161)"
             ],
             [
              0.375,
              "rgb(252,146,114)"
             ],
             [
              0.5,
              "rgb(251,106,74)"
             ],
             [
              0.625,
              "rgb(239,59,44)"
             ],
             [
              0.75,
              "rgb(203,24,29)"
             ],
             [
              0.875,
              "rgb(165,15,21)"
             ],
             [
              1,
              "rgb(103,0,13)"
             ]
            ],
            "size": 10
           },
           "mode": "markers",
           "name": "defense",
           "showlegend": false,
           "type": "scatter",
           "x": [
            53.3,
            57.54,
            47.41,
            57.46,
            54.73,
            45.77,
            54.57,
            55.97,
            49.45,
            44.9,
            52.44
           ],
           "y": [
            31.62,
            47.24,
            46.26,
            50.95,
            31.58,
            46.72,
            54.53,
            43.26,
            47.36,
            31.77,
            49.52
           ]
          }
         ],
         "name": "35"
        },
        {
         "data": [
          {
           "customdata": [
            [
             43986,
             "Antonio Hamilton",
             "CB",
             "ARI",
             0.67
            ],
            [
             47816,
             "Byron Murphy",
             "CB",
             "ARI",
             0.91
            ],
            [
             52416,
             "Isaiah Simmons",
             "DB",
             "ARI",
             0.72
            ]
           ],
           "hovertemplate": "<b>nflId:</b> %{customdata[0]}<br><b>Player:</b> %{customdata[1]} %{customdata[2]}<br><b>Team:</b> %{customdata[3]}<br><br><b>Tackling Probability:</b> %{customdata[4]}",
           "marker": {
            "color": "#FE962F",
            "line": {
             "width": 1
            },
            "opacity": 1,
            "size": 12,
            "symbol": "x"
           },
           "mode": "markers",
           "name": "MOTT",
           "type": "scatter",
           "x": [
            57.33,
            55.87,
            55.55
           ],
           "y": [
            41.61,
            47,
            50.23
           ]
          },
          {
           "hoverinfo": "none",
           "marker": {
            "color": "black",
            "size": 10
           },
           "mode": "markers",
           "name": "offense",
           "type": "scatter",
           "x": [
            55.94,
            56.41,
            58.67,
            50.37,
            56.96,
            61.37,
            52.86,
            52.71,
            50.71,
            56.83
           ],
           "y": [
            35.77,
            37.6,
            32.52,
            26.14,
            26.96,
            25.29,
            29.86,
            27.72,
            26.13,
            52
           ]
          },
          {
           "hoverinfo": "none",
           "marker": {
            "color": "yellow",
            "opacity": 1,
            "size": 10
           },
           "mode": "markers",
           "name": "ball_carrier",
           "type": "scatter",
           "x": [
            51.17
           ],
           "y": [
            53.17
           ]
          },
          {
           "customdata": [
            [
             42401,
             "Markus Golden",
             "OLB",
             "ARI",
             0
            ],
            [
             43986,
             "Antonio Hamilton",
             "CB",
             "ARI",
             0
            ],
            [
             44848,
             "Budda Baker",
             "SS",
             "ARI",
             0.1
            ],
            [
             47816,
             "Byron Murphy",
             "CB",
             "ARI",
             0.11
            ],
            [
             47848,
             "Zach Allen",
             "DE",
             "ARI",
             0
            ],
            [
             49410,
             "Jalen Thompson",
             "FS",
             "ARI",
             0.09
            ],
            [
             52416,
             "Isaiah Simmons",
             "DB",
             "ARI",
             0.47
            ],
            [
             52522,
             "Leki Fotu",
             "DT",
             "ARI",
             0
            ],
            [
             53445,
             "Zaven Collins",
             "OLB",
             "ARI",
             0.18
            ],
            [
             53565,
             "Marco Wilson",
             "CB",
             "ARI",
             0
            ],
            [
             54552,
             "Cameron Thomas",
             "OLB",
             "ARI",
             0.17
            ]
           ],
           "hovertemplate": "<b>nflId:</b> %{customdata[0]}<br><b>Player:</b> %{customdata[1]} %{customdata[2]}<br><b>Team:</b> %{customdata[3]}<br><br><b>Tackling Probability:</b> %{customdata[4]}",
           "marker": {
            "cmax": 1,
            "cmin": 0,
            "color": [
             "#fff5f0",
             "#fff4ef",
             "#fee4d8",
             "#fee3d6",
             "#fff5f0",
             "#fee6da",
             "#fb7555",
             "#fff5f0",
             "#fdd0bc",
             "#fff5f0",
             "#fdd4c2"
            ],
            "colorbar": {
             "len": 0.85,
             "thickness": 10,
             "title": {
              "text": "defense"
             },
             "x": 1.03,
             "y": 0.4
            },
            "colorscale": [
             [
              0,
              "rgb(255,245,240)"
             ],
             [
              0.125,
              "rgb(254,224,210)"
             ],
             [
              0.25,
              "rgb(252,187,161)"
             ],
             [
              0.375,
              "rgb(252,146,114)"
             ],
             [
              0.5,
              "rgb(251,106,74)"
             ],
             [
              0.625,
              "rgb(239,59,44)"
             ],
             [
              0.75,
              "rgb(203,24,29)"
             ],
             [
              0.875,
              "rgb(165,15,21)"
             ],
             [
              1,
              "rgb(103,0,13)"
             ]
            ],
            "size": 10
           },
           "mode": "markers",
           "name": "defense",
           "showlegend": false,
           "type": "scatter",
           "x": [
            53.2,
            57.35,
            47.1,
            57.58,
            54.71,
            45.63,
            54.41,
            55.85,
            49.05,
            44.71,
            51.98
           ],
           "y": [
            31.89,
            47.49,
            46.93,
            51.01,
            31.64,
            47.35,
            55.05,
            43.71,
            47.98,
            32.07,
            50.12
           ]
          }
         ],
         "name": "36"
        },
        {
         "data": [
          {
           "customdata": [
            [
             43986,
             "Antonio Hamilton",
             "CB",
             "ARI",
             0.67
            ],
            [
             47816,
             "Byron Murphy",
             "CB",
             "ARI",
             0.91
            ],
            [
             52416,
             "Isaiah Simmons",
             "DB",
             "ARI",
             0.72
            ]
           ],
           "hovertemplate": "<b>nflId:</b> %{customdata[0]}<br><b>Player:</b> %{customdata[1]} %{customdata[2]}<br><b>Team:</b> %{customdata[3]}<br><br><b>Tackling Probability:</b> %{customdata[4]}",
           "marker": {
            "color": "#FE962F",
            "line": {
             "width": 1
            },
            "opacity": 1,
            "size": 12,
            "symbol": "x"
           },
           "mode": "markers",
           "name": "MOTT",
           "type": "scatter",
           "x": [
            57.33,
            55.87,
            55.55
           ],
           "y": [
            41.61,
            47,
            50.23
           ]
          },
          {
           "hoverinfo": "none",
           "marker": {
            "color": "black",
            "size": 10
           },
           "mode": "markers",
           "name": "offense",
           "type": "scatter",
           "x": [
            56.01,
            56.41,
            58.57,
            50.37,
            56.95,
            61.26,
            52.88,
            50.57,
            52.69,
            50.74,
            56.98
           ],
           "y": [
            35.77,
            37.72,
            32.57,
            26.23,
            26.95,
            25.36,
            29.99,
            53.17,
            27.74,
            26.34,
            52.46
           ]
          },
          {
           "hoverinfo": "none",
           "marker": {
            "color": "yellow",
            "opacity": 0,
            "size": 10
           },
           "mode": "markers",
           "name": "ball_carrier",
           "type": "scatter",
           "x": [
            0
           ],
           "y": [
            0
           ]
          },
          {
           "customdata": [
            [
             42401,
             "Markus Golden",
             "OLB",
             "ARI",
             0
            ],
            [
             43986,
             "Antonio Hamilton",
             "CB",
             "ARI",
             0
            ],
            [
             44848,
             "Budda Baker",
             "SS",
             "ARI",
             0
            ],
            [
             47816,
             "Byron Murphy",
             "CB",
             "ARI",
             0
            ],
            [
             47848,
             "Zach Allen",
             "DE",
             "ARI",
             0
            ],
            [
             49410,
             "Jalen Thompson",
             "FS",
             "ARI",
             0
            ],
            [
             52416,
             "Isaiah Simmons",
             "DB",
             "ARI",
             0
            ],
            [
             52522,
             "Leki Fotu",
             "DT",
             "ARI",
             0
            ],
            [
             53445,
             "Zaven Collins",
             "OLB",
             "ARI",
             0
            ],
            [
             53565,
             "Marco Wilson",
             "CB",
             "ARI",
             0
            ],
            [
             54552,
             "Cameron Thomas",
             "OLB",
             "ARI",
             0
            ]
           ],
           "hovertemplate": "<b>nflId:</b> %{customdata[0]}<br><b>Player:</b> %{customdata[1]} %{customdata[2]}<br><b>Team:</b> %{customdata[3]}<br><br><b>Tackling Probability:</b> %{customdata[4]}",
           "marker": {
            "cmax": 1,
            "cmin": 0,
            "color": [
             "#fff5f0",
             "#fff5f0",
             "#fff5f0",
             "#fff5f0",
             "#fff5f0",
             "#fff5f0",
             "#fff5f0",
             "#fff5f0",
             "#fff5f0",
             "#fff5f0",
             "#fff5f0"
            ],
            "colorbar": {
             "len": 0.85,
             "thickness": 10,
             "title": {
              "text": "defense"
             },
             "x": 1.03,
             "y": 0.4
            },
            "colorscale": [
             [
              0,
              "rgb(255,245,240)"
             ],
             [
              0.125,
              "rgb(254,224,210)"
             ],
             [
              0.25,
              "rgb(252,187,161)"
             ],
             [
              0.375,
              "rgb(252,146,114)"
             ],
             [
              0.5,
              "rgb(251,106,74)"
             ],
             [
              0.625,
              "rgb(239,59,44)"
             ],
             [
              0.75,
              "rgb(203,24,29)"
             ],
             [
              0.875,
              "rgb(165,15,21)"
             ],
             [
              1,
              "rgb(103,0,13)"
             ]
            ],
            "size": 10
           },
           "mode": "markers",
           "name": "defense",
           "showlegend": false,
           "type": "scatter",
           "x": [
            53.09,
            57.16,
            46.76,
            57.69,
            54.69,
            45.48,
            54.25,
            55.72,
            48.64,
            44.51,
            51.47
           ],
           "y": [
            32.16,
            47.73,
            47.57,
            51.04,
            31.68,
            47.96,
            55.53,
            44.15,
            48.58,
            32.37,
            50.68
           ]
          }
         ],
         "name": "37"
        },
        {
         "data": [
          {
           "customdata": [
            [
             43986,
             "Antonio Hamilton",
             "CB",
             "ARI",
             0.67
            ],
            [
             47816,
             "Byron Murphy",
             "CB",
             "ARI",
             0.91
            ],
            [
             52416,
             "Isaiah Simmons",
             "DB",
             "ARI",
             0.72
            ]
           ],
           "hovertemplate": "<b>nflId:</b> %{customdata[0]}<br><b>Player:</b> %{customdata[1]} %{customdata[2]}<br><b>Team:</b> %{customdata[3]}<br><br><b>Tackling Probability:</b> %{customdata[4]}",
           "marker": {
            "color": "#FE962F",
            "line": {
             "width": 1
            },
            "opacity": 1,
            "size": 12,
            "symbol": "x"
           },
           "mode": "markers",
           "name": "MOTT",
           "type": "scatter",
           "x": [
            57.33,
            55.87,
            55.55
           ],
           "y": [
            41.61,
            47,
            50.23
           ]
          },
          {
           "hoverinfo": "none",
           "marker": {
            "color": "black",
            "size": 10
           },
           "mode": "markers",
           "name": "offense",
           "type": "scatter",
           "x": [
            56.08,
            56.41,
            58.46,
            50.36,
            56.93,
            61.15,
            52.9,
            49.98,
            52.66,
            50.75,
            57.14
           ],
           "y": [
            35.77,
            37.83,
            32.62,
            26.31,
            26.93,
            25.44,
            30.13,
            53.17,
            27.76,
            26.56,
            52.9
           ]
          },
          {
           "hoverinfo": "none",
           "marker": {
            "color": "yellow",
            "opacity": 0,
            "size": 10
           },
           "mode": "markers",
           "name": "ball_carrier",
           "type": "scatter",
           "x": [
            0
           ],
           "y": [
            0
           ]
          },
          {
           "customdata": [
            [
             42401,
             "Markus Golden",
             "OLB",
             "ARI",
             0
            ],
            [
             43986,
             "Antonio Hamilton",
             "CB",
             "ARI",
             0
            ],
            [
             44848,
             "Budda Baker",
             "SS",
             "ARI",
             0
            ],
            [
             47816,
             "Byron Murphy",
             "CB",
             "ARI",
             0
            ],
            [
             47848,
             "Zach Allen",
             "DE",
             "ARI",
             0
            ],
            [
             49410,
             "Jalen Thompson",
             "FS",
             "ARI",
             0
            ],
            [
             52416,
             "Isaiah Simmons",
             "DB",
             "ARI",
             0
            ],
            [
             52522,
             "Leki Fotu",
             "DT",
             "ARI",
             0
            ],
            [
             53445,
             "Zaven Collins",
             "OLB",
             "ARI",
             0
            ],
            [
             53565,
             "Marco Wilson",
             "CB",
             "ARI",
             0
            ],
            [
             54552,
             "Cameron Thomas",
             "OLB",
             "ARI",
             0
            ]
           ],
           "hovertemplate": "<b>nflId:</b> %{customdata[0]}<br><b>Player:</b> %{customdata[1]} %{customdata[2]}<br><b>Team:</b> %{customdata[3]}<br><br><b>Tackling Probability:</b> %{customdata[4]}",
           "marker": {
            "cmax": 1,
            "cmin": 0,
            "color": [
             "#fff5f0",
             "#fff5f0",
             "#fff5f0",
             "#fff5f0",
             "#fff5f0",
             "#fff5f0",
             "#fff5f0",
             "#fff5f0",
             "#fff5f0",
             "#fff5f0",
             "#fff5f0"
            ],
            "colorbar": {
             "len": 0.85,
             "thickness": 10,
             "title": {
              "text": "defense"
             },
             "x": 1.03,
             "y": 0.4
            },
            "colorscale": [
             [
              0,
              "rgb(255,245,240)"
             ],
             [
              0.125,
              "rgb(254,224,210)"
             ],
             [
              0.25,
              "rgb(252,187,161)"
             ],
             [
              0.375,
              "rgb(252,146,114)"
             ],
             [
              0.5,
              "rgb(251,106,74)"
             ],
             [
              0.625,
              "rgb(239,59,44)"
             ],
             [
              0.75,
              "rgb(203,24,29)"
             ],
             [
              0.875,
              "rgb(165,15,21)"
             ],
             [
              1,
              "rgb(103,0,13)"
             ]
            ],
            "size": 10
           },
           "mode": "markers",
           "name": "defense",
           "showlegend": false,
           "type": "scatter",
           "x": [
            52.97,
            56.96,
            46.41,
            57.8,
            54.68,
            45.31,
            54.17,
            55.59,
            48.24,
            44.32,
            50.95
           ],
           "y": [
            32.41,
            47.96,
            48.19,
            51.05,
            31.7,
            48.55,
            55.91,
            44.57,
            49.15,
            32.64,
            51.21
           ]
          }
         ],
         "name": "38"
        },
        {
         "data": [
          {
           "customdata": [
            [
             43986,
             "Antonio Hamilton",
             "CB",
             "ARI",
             0.67
            ],
            [
             47816,
             "Byron Murphy",
             "CB",
             "ARI",
             0.91
            ],
            [
             52416,
             "Isaiah Simmons",
             "DB",
             "ARI",
             0.72
            ]
           ],
           "hovertemplate": "<b>nflId:</b> %{customdata[0]}<br><b>Player:</b> %{customdata[1]} %{customdata[2]}<br><b>Team:</b> %{customdata[3]}<br><br><b>Tackling Probability:</b> %{customdata[4]}",
           "marker": {
            "color": "#FE962F",
            "line": {
             "width": 1
            },
            "opacity": 1,
            "size": 12,
            "symbol": "x"
           },
           "mode": "markers",
           "name": "MOTT",
           "type": "scatter",
           "x": [
            57.33,
            55.87,
            55.55
           ],
           "y": [
            41.61,
            47,
            50.23
           ]
          },
          {
           "hoverinfo": "none",
           "marker": {
            "color": "black",
            "size": 10
           },
           "mode": "markers",
           "name": "offense",
           "type": "scatter",
           "x": [
            56.16,
            56.4,
            58.36,
            50.36,
            56.91,
            61.04,
            52.9,
            49.38,
            52.65,
            50.75,
            57.3
           ],
           "y": [
            35.76,
            37.94,
            32.65,
            26.38,
            26.91,
            25.52,
            30.27,
            53.17,
            27.79,
            26.78,
            53.33
           ]
          },
          {
           "hoverinfo": "none",
           "marker": {
            "color": "yellow",
            "opacity": 0,
            "size": 10
           },
           "mode": "markers",
           "name": "ball_carrier",
           "type": "scatter",
           "x": [
            0
           ],
           "y": [
            0
           ]
          },
          {
           "customdata": [
            [
             42401,
             "Markus Golden",
             "OLB",
             "ARI",
             0
            ],
            [
             43986,
             "Antonio Hamilton",
             "CB",
             "ARI",
             0
            ],
            [
             44848,
             "Budda Baker",
             "SS",
             "ARI",
             0
            ],
            [
             47816,
             "Byron Murphy",
             "CB",
             "ARI",
             0
            ],
            [
             47848,
             "Zach Allen",
             "DE",
             "ARI",
             0
            ],
            [
             49410,
             "Jalen Thompson",
             "FS",
             "ARI",
             0
            ],
            [
             52416,
             "Isaiah Simmons",
             "DB",
             "ARI",
             0
            ],
            [
             52522,
             "Leki Fotu",
             "DT",
             "ARI",
             0
            ],
            [
             53445,
             "Zaven Collins",
             "OLB",
             "ARI",
             0
            ],
            [
             53565,
             "Marco Wilson",
             "CB",
             "ARI",
             0
            ],
            [
             54552,
             "Cameron Thomas",
             "OLB",
             "ARI",
             0
            ]
           ],
           "hovertemplate": "<b>nflId:</b> %{customdata[0]}<br><b>Player:</b> %{customdata[1]} %{customdata[2]}<br><b>Team:</b> %{customdata[3]}<br><br><b>Tackling Probability:</b> %{customdata[4]}",
           "marker": {
            "cmax": 1,
            "cmin": 0,
            "color": [
             "#fff5f0",
             "#fff5f0",
             "#fff5f0",
             "#fff5f0",
             "#fff5f0",
             "#fff5f0",
             "#fff5f0",
             "#fff5f0",
             "#fff5f0",
             "#fff5f0",
             "#fff5f0"
            ],
            "colorbar": {
             "len": 0.85,
             "thickness": 10,
             "title": {
              "text": "defense"
             },
             "x": 1.03,
             "y": 0.4
            },
            "colorscale": [
             [
              0,
              "rgb(255,245,240)"
             ],
             [
              0.125,
              "rgb(254,224,210)"
             ],
             [
              0.25,
              "rgb(252,187,161)"
             ],
             [
              0.375,
              "rgb(252,146,114)"
             ],
             [
              0.5,
              "rgb(251,106,74)"
             ],
             [
              0.625,
              "rgb(239,59,44)"
             ],
             [
              0.75,
              "rgb(203,24,29)"
             ],
             [
              0.875,
              "rgb(165,15,21)"
             ],
             [
              1,
              "rgb(103,0,13)"
             ]
            ],
            "size": 10
           },
           "mode": "markers",
           "name": "defense",
           "showlegend": false,
           "type": "scatter",
           "x": [
            52.85,
            56.76,
            46.06,
            57.9,
            54.66,
            45.13,
            54.12,
            55.45,
            47.82,
            44.14,
            50.4
           ],
           "y": [
            32.64,
            48.18,
            48.78,
            51.05,
            31.7,
            49.12,
            56.25,
            44.97,
            49.7,
            32.9,
            51.7
           ]
          }
         ],
         "name": "39"
        },
        {
         "data": [
          {
           "customdata": [
            [
             43986,
             "Antonio Hamilton",
             "CB",
             "ARI",
             0.67
            ],
            [
             47816,
             "Byron Murphy",
             "CB",
             "ARI",
             0.91
            ],
            [
             52416,
             "Isaiah Simmons",
             "DB",
             "ARI",
             0.72
            ]
           ],
           "hovertemplate": "<b>nflId:</b> %{customdata[0]}<br><b>Player:</b> %{customdata[1]} %{customdata[2]}<br><b>Team:</b> %{customdata[3]}<br><br><b>Tackling Probability:</b> %{customdata[4]}",
           "marker": {
            "color": "#FE962F",
            "line": {
             "width": 1
            },
            "opacity": 1,
            "size": 12,
            "symbol": "x"
           },
           "mode": "markers",
           "name": "MOTT",
           "type": "scatter",
           "x": [
            57.33,
            55.87,
            55.55
           ],
           "y": [
            41.61,
            47,
            50.23
           ]
          },
          {
           "hoverinfo": "none",
           "marker": {
            "color": "black",
            "size": 10
           },
           "mode": "markers",
           "name": "offense",
           "type": "scatter",
           "x": [
            56.25,
            56.39,
            58.24,
            50.34,
            56.89,
            60.93,
            52.9,
            48.79,
            52.65,
            50.73,
            57.45
           ],
           "y": [
            35.75,
            38.04,
            32.69,
            26.46,
            26.89,
            25.6,
            30.4,
            54.57,
            27.81,
            27,
            53.73
           ]
          },
          {
           "hoverinfo": "none",
           "marker": {
            "color": "yellow",
            "opacity": 0,
            "size": 10
           },
           "mode": "markers",
           "name": "ball_carrier",
           "type": "scatter",
           "x": [
            0
           ],
           "y": [
            0
           ]
          },
          {
           "customdata": [
            [
             42401,
             "Markus Golden",
             "OLB",
             "ARI",
             0
            ],
            [
             43986,
             "Antonio Hamilton",
             "CB",
             "ARI",
             0
            ],
            [
             44848,
             "Budda Baker",
             "SS",
             "ARI",
             0
            ],
            [
             47816,
             "Byron Murphy",
             "CB",
             "ARI",
             0
            ],
            [
             47848,
             "Zach Allen",
             "DE",
             "ARI",
             0
            ],
            [
             49410,
             "Jalen Thompson",
             "FS",
             "ARI",
             0
            ],
            [
             52416,
             "Isaiah Simmons",
             "DB",
             "ARI",
             0
            ],
            [
             52522,
             "Leki Fotu",
             "DT",
             "ARI",
             0
            ],
            [
             53445,
             "Zaven Collins",
             "OLB",
             "ARI",
             0
            ],
            [
             53565,
             "Marco Wilson",
             "CB",
             "ARI",
             0
            ],
            [
             54552,
             "Cameron Thomas",
             "OLB",
             "ARI",
             0
            ]
           ],
           "hovertemplate": "<b>nflId:</b> %{customdata[0]}<br><b>Player:</b> %{customdata[1]} %{customdata[2]}<br><b>Team:</b> %{customdata[3]}<br><br><b>Tackling Probability:</b> %{customdata[4]}",
           "marker": {
            "cmax": 1,
            "cmin": 0,
            "color": [
             "#fff5f0",
             "#fff5f0",
             "#fff5f0",
             "#fff5f0",
             "#fff5f0",
             "#fff5f0",
             "#fff5f0",
             "#fff5f0",
             "#fff5f0",
             "#fff5f0",
             "#fff5f0"
            ],
            "colorbar": {
             "len": 0.85,
             "thickness": 10,
             "title": {
              "text": "defense"
             },
             "x": 1.03,
             "y": 0.4
            },
            "colorscale": [
             [
              0,
              "rgb(255,245,240)"
             ],
             [
              0.125,
              "rgb(254,224,210)"
             ],
             [
              0.25,
              "rgb(252,187,161)"
             ],
             [
              0.375,
              "rgb(252,146,114)"
             ],
             [
              0.5,
              "rgb(251,106,74)"
             ],
             [
              0.625,
              "rgb(239,59,44)"
             ],
             [
              0.75,
              "rgb(203,24,29)"
             ],
             [
              0.875,
              "rgb(165,15,21)"
             ],
             [
              1,
              "rgb(103,0,13)"
             ]
            ],
            "size": 10
           },
           "mode": "markers",
           "name": "defense",
           "showlegend": false,
           "type": "scatter",
           "x": [
            52.72,
            56.56,
            45.7,
            58,
            54.65,
            44.92,
            54.1,
            55.32,
            47.42,
            43.96,
            49.88
           ],
           "y": [
            32.87,
            48.38,
            49.34,
            51.05,
            31.69,
            49.65,
            56.54,
            45.34,
            50.21,
            33.14,
            52.14
           ]
          }
         ],
         "name": "40"
        }
       ],
       "layout": {
        "annotations": [
         {
          "font": {
           "color": "white",
           "size": 25
          },
          "showarrow": false,
          "text": "10",
          "x": 20,
          "y": 48.3
         },
         {
          "font": {
           "color": "white",
           "size": 25
          },
          "showarrow": false,
          "text": "20",
          "x": 30,
          "y": 48.3
         },
         {
          "font": {
           "color": "white",
           "size": 25
          },
          "showarrow": false,
          "text": "30",
          "x": 40,
          "y": 48.3
         },
         {
          "font": {
           "color": "white",
           "size": 25
          },
          "showarrow": false,
          "text": "40",
          "x": 50,
          "y": 48.3
         },
         {
          "font": {
           "color": "white",
           "size": 25
          },
          "showarrow": false,
          "text": "50",
          "x": 60,
          "y": 48.3
         },
         {
          "font": {
           "color": "white",
           "size": 25
          },
          "showarrow": false,
          "text": "40",
          "x": 70,
          "y": 48.3
         },
         {
          "font": {
           "color": "white",
           "size": 25
          },
          "showarrow": false,
          "text": "30",
          "x": 80,
          "y": 48.3
         },
         {
          "font": {
           "color": "white",
           "size": 25
          },
          "showarrow": false,
          "text": "20",
          "x": 90,
          "y": 48.3
         },
         {
          "font": {
           "color": "white",
           "size": 25
          },
          "showarrow": false,
          "text": "10",
          "x": 100,
          "y": 48.3
         },
         {
          "font": {
           "color": "white",
           "size": 25
          },
          "showarrow": false,
          "text": "10",
          "x": 20,
          "y": 5
         },
         {
          "font": {
           "color": "white",
           "size": 25
          },
          "showarrow": false,
          "text": "20",
          "x": 30,
          "y": 5
         },
         {
          "font": {
           "color": "white",
           "size": 25
          },
          "showarrow": false,
          "text": "30",
          "x": 40,
          "y": 5
         },
         {
          "font": {
           "color": "white",
           "size": 25
          },
          "showarrow": false,
          "text": "40",
          "x": 50,
          "y": 5
         },
         {
          "font": {
           "color": "white",
           "size": 25
          },
          "showarrow": false,
          "text": "50",
          "x": 60,
          "y": 5
         },
         {
          "font": {
           "color": "white",
           "size": 25
          },
          "showarrow": false,
          "text": "40",
          "x": 70,
          "y": 5
         },
         {
          "font": {
           "color": "white",
           "size": 25
          },
          "showarrow": false,
          "text": "30",
          "x": 80,
          "y": 5
         },
         {
          "font": {
           "color": "white",
           "size": 25
          },
          "showarrow": false,
          "text": "20",
          "x": 90,
          "y": 5
         },
         {
          "font": {
           "color": "white",
           "size": 25
          },
          "showarrow": false,
          "text": "10",
          "x": 100,
          "y": 5
         }
        ],
        "height": 600,
        "shapes": [
         {
          "fillcolor": "#96B78C",
          "layer": "below",
          "line": {
           "width": 0
          },
          "type": "rect",
          "x0": 0,
          "x1": 120,
          "y0": 0,
          "y1": 53.3
         },
         {
          "fillcolor": "#6F976D",
          "layer": "below",
          "line": {
           "width": 0
          },
          "type": "rect",
          "x0": 0,
          "x1": 10,
          "y0": 0,
          "y1": 53.3
         },
         {
          "fillcolor": "#6F976D",
          "layer": "below",
          "line": {
           "width": 0
          },
          "type": "rect",
          "x0": 110,
          "x1": 120,
          "y0": 0,
          "y1": 53.3
         },
         {
          "layer": "below",
          "line": {
           "color": "white",
           "width": 2
          },
          "type": "line",
          "x0": 10,
          "x1": 10,
          "y0": 0,
          "y1": 53.3
         },
         {
          "layer": "below",
          "line": {
           "color": "white",
           "width": 1
          },
          "type": "line",
          "x0": 15,
          "x1": 15,
          "y0": 0,
          "y1": 53.3
         },
         {
          "layer": "below",
          "line": {
           "color": "white",
           "width": 2
          },
          "type": "line",
          "x0": 20,
          "x1": 20,
          "y0": 0,
          "y1": 53.3
         },
         {
          "layer": "below",
          "line": {
           "color": "white",
           "width": 1
          },
          "type": "line",
          "x0": 25,
          "x1": 25,
          "y0": 0,
          "y1": 53.3
         },
         {
          "layer": "below",
          "line": {
           "color": "white",
           "width": 2
          },
          "type": "line",
          "x0": 30,
          "x1": 30,
          "y0": 0,
          "y1": 53.3
         },
         {
          "layer": "below",
          "line": {
           "color": "white",
           "width": 1
          },
          "type": "line",
          "x0": 35,
          "x1": 35,
          "y0": 0,
          "y1": 53.3
         },
         {
          "layer": "below",
          "line": {
           "color": "white",
           "width": 2
          },
          "type": "line",
          "x0": 40,
          "x1": 40,
          "y0": 0,
          "y1": 53.3
         },
         {
          "layer": "below",
          "line": {
           "color": "white",
           "width": 1
          },
          "type": "line",
          "x0": 45,
          "x1": 45,
          "y0": 0,
          "y1": 53.3
         },
         {
          "layer": "below",
          "line": {
           "color": "white",
           "width": 2
          },
          "type": "line",
          "x0": 50,
          "x1": 50,
          "y0": 0,
          "y1": 53.3
         },
         {
          "layer": "below",
          "line": {
           "color": "white",
           "width": 1
          },
          "type": "line",
          "x0": 55,
          "x1": 55,
          "y0": 0,
          "y1": 53.3
         },
         {
          "layer": "below",
          "line": {
           "color": "white",
           "width": 2
          },
          "type": "line",
          "x0": 60,
          "x1": 60,
          "y0": 0,
          "y1": 53.3
         },
         {
          "layer": "below",
          "line": {
           "color": "white",
           "width": 1
          },
          "type": "line",
          "x0": 65,
          "x1": 65,
          "y0": 0,
          "y1": 53.3
         },
         {
          "layer": "below",
          "line": {
           "color": "white",
           "width": 2
          },
          "type": "line",
          "x0": 70,
          "x1": 70,
          "y0": 0,
          "y1": 53.3
         },
         {
          "layer": "below",
          "line": {
           "color": "white",
           "width": 1
          },
          "type": "line",
          "x0": 75,
          "x1": 75,
          "y0": 0,
          "y1": 53.3
         },
         {
          "layer": "below",
          "line": {
           "color": "white",
           "width": 2
          },
          "type": "line",
          "x0": 80,
          "x1": 80,
          "y0": 0,
          "y1": 53.3
         },
         {
          "layer": "below",
          "line": {
           "color": "white",
           "width": 1
          },
          "type": "line",
          "x0": 85,
          "x1": 85,
          "y0": 0,
          "y1": 53.3
         },
         {
          "layer": "below",
          "line": {
           "color": "white",
           "width": 2
          },
          "type": "line",
          "x0": 90,
          "x1": 90,
          "y0": 0,
          "y1": 53.3
         },
         {
          "layer": "below",
          "line": {
           "color": "white",
           "width": 1
          },
          "type": "line",
          "x0": 95,
          "x1": 95,
          "y0": 0,
          "y1": 53.3
         },
         {
          "layer": "below",
          "line": {
           "color": "white",
           "width": 2
          },
          "type": "line",
          "x0": 100,
          "x1": 100,
          "y0": 0,
          "y1": 53.3
         },
         {
          "layer": "below",
          "line": {
           "color": "white",
           "width": 1
          },
          "type": "line",
          "x0": 105,
          "x1": 105,
          "y0": 0,
          "y1": 53.3
         },
         {
          "layer": "below",
          "line": {
           "color": "white",
           "width": 2
          },
          "type": "line",
          "x0": 110,
          "x1": 110,
          "y0": 0,
          "y1": 53.3
         },
         {
          "layer": "below",
          "line": {
           "color": "#0070C0",
           "width": 2
          },
          "type": "line",
          "x0": 57,
          "x1": 57,
          "y0": 0,
          "y1": 53.3
         },
         {
          "layer": "below",
          "line": {
           "color": "#E9D11F",
           "width": 2
          },
          "type": "line",
          "x0": 53,
          "x1": 53,
          "y0": 0,
          "y1": 53.3
         }
        ],
        "sliders": [
         {
          "active": 0,
          "currentvalue": {
           "font": {
            "size": 20
           },
           "prefix": "frameId: ",
           "visible": true,
           "xanchor": "right"
          },
          "len": 0.9,
          "pad": {
           "b": 10,
           "t": 50
          },
          "steps": [
           {
            "args": [
             [
              "1"
             ],
             {
              "frame": {
               "duration": 50,
               "redraw": false
              },
              "mode": "immediate",
              "transition": {
               "duration": 0
              }
             }
            ],
            "label": "1",
            "method": "animate"
           },
           {
            "args": [
             [
              "2"
             ],
             {
              "frame": {
               "duration": 50,
               "redraw": false
              },
              "mode": "immediate",
              "transition": {
               "duration": 0
              }
             }
            ],
            "label": "2",
            "method": "animate"
           },
           {
            "args": [
             [
              "3"
             ],
             {
              "frame": {
               "duration": 50,
               "redraw": false
              },
              "mode": "immediate",
              "transition": {
               "duration": 0
              }
             }
            ],
            "label": "3",
            "method": "animate"
           },
           {
            "args": [
             [
              "4"
             ],
             {
              "frame": {
               "duration": 50,
               "redraw": false
              },
              "mode": "immediate",
              "transition": {
               "duration": 0
              }
             }
            ],
            "label": "4",
            "method": "animate"
           },
           {
            "args": [
             [
              "5"
             ],
             {
              "frame": {
               "duration": 50,
               "redraw": false
              },
              "mode": "immediate",
              "transition": {
               "duration": 0
              }
             }
            ],
            "label": "5",
            "method": "animate"
           },
           {
            "args": [
             [
              "6"
             ],
             {
              "frame": {
               "duration": 50,
               "redraw": false
              },
              "mode": "immediate",
              "transition": {
               "duration": 0
              }
             }
            ],
            "label": "6",
            "method": "animate"
           },
           {
            "args": [
             [
              "7"
             ],
             {
              "frame": {
               "duration": 50,
               "redraw": false
              },
              "mode": "immediate",
              "transition": {
               "duration": 0
              }
             }
            ],
            "label": "7",
            "method": "animate"
           },
           {
            "args": [
             [
              "8"
             ],
             {
              "frame": {
               "duration": 50,
               "redraw": false
              },
              "mode": "immediate",
              "transition": {
               "duration": 0
              }
             }
            ],
            "label": "8",
            "method": "animate"
           },
           {
            "args": [
             [
              "9"
             ],
             {
              "frame": {
               "duration": 50,
               "redraw": false
              },
              "mode": "immediate",
              "transition": {
               "duration": 0
              }
             }
            ],
            "label": "9",
            "method": "animate"
           },
           {
            "args": [
             [
              "10"
             ],
             {
              "frame": {
               "duration": 50,
               "redraw": false
              },
              "mode": "immediate",
              "transition": {
               "duration": 0
              }
             }
            ],
            "label": "10",
            "method": "animate"
           },
           {
            "args": [
             [
              "11"
             ],
             {
              "frame": {
               "duration": 50,
               "redraw": false
              },
              "mode": "immediate",
              "transition": {
               "duration": 0
              }
             }
            ],
            "label": "11",
            "method": "animate"
           },
           {
            "args": [
             [
              "12"
             ],
             {
              "frame": {
               "duration": 50,
               "redraw": false
              },
              "mode": "immediate",
              "transition": {
               "duration": 0
              }
             }
            ],
            "label": "12",
            "method": "animate"
           },
           {
            "args": [
             [
              "13"
             ],
             {
              "frame": {
               "duration": 50,
               "redraw": false
              },
              "mode": "immediate",
              "transition": {
               "duration": 0
              }
             }
            ],
            "label": "13",
            "method": "animate"
           },
           {
            "args": [
             [
              "14"
             ],
             {
              "frame": {
               "duration": 50,
               "redraw": false
              },
              "mode": "immediate",
              "transition": {
               "duration": 0
              }
             }
            ],
            "label": "14",
            "method": "animate"
           },
           {
            "args": [
             [
              "15"
             ],
             {
              "frame": {
               "duration": 50,
               "redraw": false
              },
              "mode": "immediate",
              "transition": {
               "duration": 0
              }
             }
            ],
            "label": "15",
            "method": "animate"
           },
           {
            "args": [
             [
              "16"
             ],
             {
              "frame": {
               "duration": 50,
               "redraw": false
              },
              "mode": "immediate",
              "transition": {
               "duration": 0
              }
             }
            ],
            "label": "16",
            "method": "animate"
           },
           {
            "args": [
             [
              "17"
             ],
             {
              "frame": {
               "duration": 50,
               "redraw": false
              },
              "mode": "immediate",
              "transition": {
               "duration": 0
              }
             }
            ],
            "label": "17",
            "method": "animate"
           },
           {
            "args": [
             [
              "18"
             ],
             {
              "frame": {
               "duration": 50,
               "redraw": false
              },
              "mode": "immediate",
              "transition": {
               "duration": 0
              }
             }
            ],
            "label": "18",
            "method": "animate"
           },
           {
            "args": [
             [
              "19"
             ],
             {
              "frame": {
               "duration": 50,
               "redraw": false
              },
              "mode": "immediate",
              "transition": {
               "duration": 0
              }
             }
            ],
            "label": "19",
            "method": "animate"
           },
           {
            "args": [
             [
              "20"
             ],
             {
              "frame": {
               "duration": 50,
               "redraw": false
              },
              "mode": "immediate",
              "transition": {
               "duration": 0
              }
             }
            ],
            "label": "20",
            "method": "animate"
           },
           {
            "args": [
             [
              "21"
             ],
             {
              "frame": {
               "duration": 50,
               "redraw": false
              },
              "mode": "immediate",
              "transition": {
               "duration": 0
              }
             }
            ],
            "label": "21",
            "method": "animate"
           },
           {
            "args": [
             [
              "22"
             ],
             {
              "frame": {
               "duration": 50,
               "redraw": false
              },
              "mode": "immediate",
              "transition": {
               "duration": 0
              }
             }
            ],
            "label": "22",
            "method": "animate"
           },
           {
            "args": [
             [
              "23"
             ],
             {
              "frame": {
               "duration": 50,
               "redraw": false
              },
              "mode": "immediate",
              "transition": {
               "duration": 0
              }
             }
            ],
            "label": "23",
            "method": "animate"
           },
           {
            "args": [
             [
              "24"
             ],
             {
              "frame": {
               "duration": 50,
               "redraw": false
              },
              "mode": "immediate",
              "transition": {
               "duration": 0
              }
             }
            ],
            "label": "24",
            "method": "animate"
           },
           {
            "args": [
             [
              "25"
             ],
             {
              "frame": {
               "duration": 50,
               "redraw": false
              },
              "mode": "immediate",
              "transition": {
               "duration": 0
              }
             }
            ],
            "label": "25",
            "method": "animate"
           },
           {
            "args": [
             [
              "26"
             ],
             {
              "frame": {
               "duration": 50,
               "redraw": false
              },
              "mode": "immediate",
              "transition": {
               "duration": 0
              }
             }
            ],
            "label": "26",
            "method": "animate"
           },
           {
            "args": [
             [
              "27"
             ],
             {
              "frame": {
               "duration": 50,
               "redraw": false
              },
              "mode": "immediate",
              "transition": {
               "duration": 0
              }
             }
            ],
            "label": "27",
            "method": "animate"
           },
           {
            "args": [
             [
              "28"
             ],
             {
              "frame": {
               "duration": 50,
               "redraw": false
              },
              "mode": "immediate",
              "transition": {
               "duration": 0
              }
             }
            ],
            "label": "28",
            "method": "animate"
           },
           {
            "args": [
             [
              "29"
             ],
             {
              "frame": {
               "duration": 50,
               "redraw": false
              },
              "mode": "immediate",
              "transition": {
               "duration": 0
              }
             }
            ],
            "label": "29",
            "method": "animate"
           },
           {
            "args": [
             [
              "30"
             ],
             {
              "frame": {
               "duration": 50,
               "redraw": false
              },
              "mode": "immediate",
              "transition": {
               "duration": 0
              }
             }
            ],
            "label": "30",
            "method": "animate"
           },
           {
            "args": [
             [
              "31"
             ],
             {
              "frame": {
               "duration": 50,
               "redraw": false
              },
              "mode": "immediate",
              "transition": {
               "duration": 0
              }
             }
            ],
            "label": "31",
            "method": "animate"
           },
           {
            "args": [
             [
              "32"
             ],
             {
              "frame": {
               "duration": 50,
               "redraw": false
              },
              "mode": "immediate",
              "transition": {
               "duration": 0
              }
             }
            ],
            "label": "32",
            "method": "animate"
           },
           {
            "args": [
             [
              "33"
             ],
             {
              "frame": {
               "duration": 50,
               "redraw": false
              },
              "mode": "immediate",
              "transition": {
               "duration": 0
              }
             }
            ],
            "label": "33",
            "method": "animate"
           },
           {
            "args": [
             [
              "34"
             ],
             {
              "frame": {
               "duration": 50,
               "redraw": false
              },
              "mode": "immediate",
              "transition": {
               "duration": 0
              }
             }
            ],
            "label": "34",
            "method": "animate"
           },
           {
            "args": [
             [
              "35"
             ],
             {
              "frame": {
               "duration": 50,
               "redraw": false
              },
              "mode": "immediate",
              "transition": {
               "duration": 0
              }
             }
            ],
            "label": "35",
            "method": "animate"
           },
           {
            "args": [
             [
              "36"
             ],
             {
              "frame": {
               "duration": 50,
               "redraw": false
              },
              "mode": "immediate",
              "transition": {
               "duration": 0
              }
             }
            ],
            "label": "36",
            "method": "animate"
           },
           {
            "args": [
             [
              "37"
             ],
             {
              "frame": {
               "duration": 50,
               "redraw": false
              },
              "mode": "immediate",
              "transition": {
               "duration": 0
              }
             }
            ],
            "label": "37",
            "method": "animate"
           },
           {
            "args": [
             [
              "38"
             ],
             {
              "frame": {
               "duration": 50,
               "redraw": false
              },
              "mode": "immediate",
              "transition": {
               "duration": 0
              }
             }
            ],
            "label": "38",
            "method": "animate"
           },
           {
            "args": [
             [
              "39"
             ],
             {
              "frame": {
               "duration": 50,
               "redraw": false
              },
              "mode": "immediate",
              "transition": {
               "duration": 0
              }
             }
            ],
            "label": "39",
            "method": "animate"
           },
           {
            "args": [
             [
              "40"
             ],
             {
              "frame": {
               "duration": 50,
               "redraw": false
              },
              "mode": "immediate",
              "transition": {
               "duration": 0
              }
             }
            ],
            "label": "40",
            "method": "animate"
           }
          ],
          "transition": {
           "duration": 50,
           "easing": "cubic-in-out"
          },
          "x": 0.1,
          "xanchor": "left",
          "y": 0,
          "yanchor": "top"
         }
        ],
        "template": {
         "data": {
          "bar": [
           {
            "error_x": {
             "color": "#2a3f5f"
            },
            "error_y": {
             "color": "#2a3f5f"
            },
            "marker": {
             "line": {
              "color": "#E5ECF6",
              "width": 0.5
             },
             "pattern": {
              "fillmode": "overlay",
              "size": 10,
              "solidity": 0.2
             }
            },
            "type": "bar"
           }
          ],
          "barpolar": [
           {
            "marker": {
             "line": {
              "color": "#E5ECF6",
              "width": 0.5
             },
             "pattern": {
              "fillmode": "overlay",
              "size": 10,
              "solidity": 0.2
             }
            },
            "type": "barpolar"
           }
          ],
          "carpet": [
           {
            "aaxis": {
             "endlinecolor": "#2a3f5f",
             "gridcolor": "white",
             "linecolor": "white",
             "minorgridcolor": "white",
             "startlinecolor": "#2a3f5f"
            },
            "baxis": {
             "endlinecolor": "#2a3f5f",
             "gridcolor": "white",
             "linecolor": "white",
             "minorgridcolor": "white",
             "startlinecolor": "#2a3f5f"
            },
            "type": "carpet"
           }
          ],
          "choropleth": [
           {
            "colorbar": {
             "outlinewidth": 0,
             "ticks": ""
            },
            "type": "choropleth"
           }
          ],
          "contour": [
           {
            "colorbar": {
             "outlinewidth": 0,
             "ticks": ""
            },
            "colorscale": [
             [
              0,
              "#0d0887"
             ],
             [
              0.1111111111111111,
              "#46039f"
             ],
             [
              0.2222222222222222,
              "#7201a8"
             ],
             [
              0.3333333333333333,
              "#9c179e"
             ],
             [
              0.4444444444444444,
              "#bd3786"
             ],
             [
              0.5555555555555556,
              "#d8576b"
             ],
             [
              0.6666666666666666,
              "#ed7953"
             ],
             [
              0.7777777777777778,
              "#fb9f3a"
             ],
             [
              0.8888888888888888,
              "#fdca26"
             ],
             [
              1,
              "#f0f921"
             ]
            ],
            "type": "contour"
           }
          ],
          "contourcarpet": [
           {
            "colorbar": {
             "outlinewidth": 0,
             "ticks": ""
            },
            "type": "contourcarpet"
           }
          ],
          "heatmap": [
           {
            "colorbar": {
             "outlinewidth": 0,
             "ticks": ""
            },
            "colorscale": [
             [
              0,
              "#0d0887"
             ],
             [
              0.1111111111111111,
              "#46039f"
             ],
             [
              0.2222222222222222,
              "#7201a8"
             ],
             [
              0.3333333333333333,
              "#9c179e"
             ],
             [
              0.4444444444444444,
              "#bd3786"
             ],
             [
              0.5555555555555556,
              "#d8576b"
             ],
             [
              0.6666666666666666,
              "#ed7953"
             ],
             [
              0.7777777777777778,
              "#fb9f3a"
             ],
             [
              0.8888888888888888,
              "#fdca26"
             ],
             [
              1,
              "#f0f921"
             ]
            ],
            "type": "heatmap"
           }
          ],
          "heatmapgl": [
           {
            "colorbar": {
             "outlinewidth": 0,
             "ticks": ""
            },
            "colorscale": [
             [
              0,
              "#0d0887"
             ],
             [
              0.1111111111111111,
              "#46039f"
             ],
             [
              0.2222222222222222,
              "#7201a8"
             ],
             [
              0.3333333333333333,
              "#9c179e"
             ],
             [
              0.4444444444444444,
              "#bd3786"
             ],
             [
              0.5555555555555556,
              "#d8576b"
             ],
             [
              0.6666666666666666,
              "#ed7953"
             ],
             [
              0.7777777777777778,
              "#fb9f3a"
             ],
             [
              0.8888888888888888,
              "#fdca26"
             ],
             [
              1,
              "#f0f921"
             ]
            ],
            "type": "heatmapgl"
           }
          ],
          "histogram": [
           {
            "marker": {
             "pattern": {
              "fillmode": "overlay",
              "size": 10,
              "solidity": 0.2
             }
            },
            "type": "histogram"
           }
          ],
          "histogram2d": [
           {
            "colorbar": {
             "outlinewidth": 0,
             "ticks": ""
            },
            "colorscale": [
             [
              0,
              "#0d0887"
             ],
             [
              0.1111111111111111,
              "#46039f"
             ],
             [
              0.2222222222222222,
              "#7201a8"
             ],
             [
              0.3333333333333333,
              "#9c179e"
             ],
             [
              0.4444444444444444,
              "#bd3786"
             ],
             [
              0.5555555555555556,
              "#d8576b"
             ],
             [
              0.6666666666666666,
              "#ed7953"
             ],
             [
              0.7777777777777778,
              "#fb9f3a"
             ],
             [
              0.8888888888888888,
              "#fdca26"
             ],
             [
              1,
              "#f0f921"
             ]
            ],
            "type": "histogram2d"
           }
          ],
          "histogram2dcontour": [
           {
            "colorbar": {
             "outlinewidth": 0,
             "ticks": ""
            },
            "colorscale": [
             [
              0,
              "#0d0887"
             ],
             [
              0.1111111111111111,
              "#46039f"
             ],
             [
              0.2222222222222222,
              "#7201a8"
             ],
             [
              0.3333333333333333,
              "#9c179e"
             ],
             [
              0.4444444444444444,
              "#bd3786"
             ],
             [
              0.5555555555555556,
              "#d8576b"
             ],
             [
              0.6666666666666666,
              "#ed7953"
             ],
             [
              0.7777777777777778,
              "#fb9f3a"
             ],
             [
              0.8888888888888888,
              "#fdca26"
             ],
             [
              1,
              "#f0f921"
             ]
            ],
            "type": "histogram2dcontour"
           }
          ],
          "mesh3d": [
           {
            "colorbar": {
             "outlinewidth": 0,
             "ticks": ""
            },
            "type": "mesh3d"
           }
          ],
          "parcoords": [
           {
            "line": {
             "colorbar": {
              "outlinewidth": 0,
              "ticks": ""
             }
            },
            "type": "parcoords"
           }
          ],
          "pie": [
           {
            "automargin": true,
            "type": "pie"
           }
          ],
          "scatter": [
           {
            "fillpattern": {
             "fillmode": "overlay",
             "size": 10,
             "solidity": 0.2
            },
            "type": "scatter"
           }
          ],
          "scatter3d": [
           {
            "line": {
             "colorbar": {
              "outlinewidth": 0,
              "ticks": ""
             }
            },
            "marker": {
             "colorbar": {
              "outlinewidth": 0,
              "ticks": ""
             }
            },
            "type": "scatter3d"
           }
          ],
          "scattercarpet": [
           {
            "marker": {
             "colorbar": {
              "outlinewidth": 0,
              "ticks": ""
             }
            },
            "type": "scattercarpet"
           }
          ],
          "scattergeo": [
           {
            "marker": {
             "colorbar": {
              "outlinewidth": 0,
              "ticks": ""
             }
            },
            "type": "scattergeo"
           }
          ],
          "scattergl": [
           {
            "marker": {
             "colorbar": {
              "outlinewidth": 0,
              "ticks": ""
             }
            },
            "type": "scattergl"
           }
          ],
          "scattermapbox": [
           {
            "marker": {
             "colorbar": {
              "outlinewidth": 0,
              "ticks": ""
             }
            },
            "type": "scattermapbox"
           }
          ],
          "scatterpolar": [
           {
            "marker": {
             "colorbar": {
              "outlinewidth": 0,
              "ticks": ""
             }
            },
            "type": "scatterpolar"
           }
          ],
          "scatterpolargl": [
           {
            "marker": {
             "colorbar": {
              "outlinewidth": 0,
              "ticks": ""
             }
            },
            "type": "scatterpolargl"
           }
          ],
          "scatterternary": [
           {
            "marker": {
             "colorbar": {
              "outlinewidth": 0,
              "ticks": ""
             }
            },
            "type": "scatterternary"
           }
          ],
          "surface": [
           {
            "colorbar": {
             "outlinewidth": 0,
             "ticks": ""
            },
            "colorscale": [
             [
              0,
              "#0d0887"
             ],
             [
              0.1111111111111111,
              "#46039f"
             ],
             [
              0.2222222222222222,
              "#7201a8"
             ],
             [
              0.3333333333333333,
              "#9c179e"
             ],
             [
              0.4444444444444444,
              "#bd3786"
             ],
             [
              0.5555555555555556,
              "#d8576b"
             ],
             [
              0.6666666666666666,
              "#ed7953"
             ],
             [
              0.7777777777777778,
              "#fb9f3a"
             ],
             [
              0.8888888888888888,
              "#fdca26"
             ],
             [
              1,
              "#f0f921"
             ]
            ],
            "type": "surface"
           }
          ],
          "table": [
           {
            "cells": {
             "fill": {
              "color": "#EBF0F8"
             },
             "line": {
              "color": "white"
             }
            },
            "header": {
             "fill": {
              "color": "#C8D4E3"
             },
             "line": {
              "color": "white"
             }
            },
            "type": "table"
           }
          ]
         },
         "layout": {
          "annotationdefaults": {
           "arrowcolor": "#2a3f5f",
           "arrowhead": 0,
           "arrowwidth": 1
          },
          "autotypenumbers": "strict",
          "coloraxis": {
           "colorbar": {
            "outlinewidth": 0,
            "ticks": ""
           }
          },
          "colorscale": {
           "diverging": [
            [
             0,
             "#8e0152"
            ],
            [
             0.1,
             "#c51b7d"
            ],
            [
             0.2,
             "#de77ae"
            ],
            [
             0.3,
             "#f1b6da"
            ],
            [
             0.4,
             "#fde0ef"
            ],
            [
             0.5,
             "#f7f7f7"
            ],
            [
             0.6,
             "#e6f5d0"
            ],
            [
             0.7,
             "#b8e186"
            ],
            [
             0.8,
             "#7fbc41"
            ],
            [
             0.9,
             "#4d9221"
            ],
            [
             1,
             "#276419"
            ]
           ],
           "sequential": [
            [
             0,
             "#0d0887"
            ],
            [
             0.1111111111111111,
             "#46039f"
            ],
            [
             0.2222222222222222,
             "#7201a8"
            ],
            [
             0.3333333333333333,
             "#9c179e"
            ],
            [
             0.4444444444444444,
             "#bd3786"
            ],
            [
             0.5555555555555556,
             "#d8576b"
            ],
            [
             0.6666666666666666,
             "#ed7953"
            ],
            [
             0.7777777777777778,
             "#fb9f3a"
            ],
            [
             0.8888888888888888,
             "#fdca26"
            ],
            [
             1,
             "#f0f921"
            ]
           ],
           "sequentialminus": [
            [
             0,
             "#0d0887"
            ],
            [
             0.1111111111111111,
             "#46039f"
            ],
            [
             0.2222222222222222,
             "#7201a8"
            ],
            [
             0.3333333333333333,
             "#9c179e"
            ],
            [
             0.4444444444444444,
             "#bd3786"
            ],
            [
             0.5555555555555556,
             "#d8576b"
            ],
            [
             0.6666666666666666,
             "#ed7953"
            ],
            [
             0.7777777777777778,
             "#fb9f3a"
            ],
            [
             0.8888888888888888,
             "#fdca26"
            ],
            [
             1,
             "#f0f921"
            ]
           ]
          },
          "colorway": [
           "#636efa",
           "#EF553B",
           "#00cc96",
           "#ab63fa",
           "#FFA15A",
           "#19d3f3",
           "#FF6692",
           "#B6E880",
           "#FF97FF",
           "#FECB52"
          ],
          "font": {
           "color": "#2a3f5f"
          },
          "geo": {
           "bgcolor": "white",
           "lakecolor": "white",
           "landcolor": "#E5ECF6",
           "showlakes": true,
           "showland": true,
           "subunitcolor": "white"
          },
          "hoverlabel": {
           "align": "left"
          },
          "hovermode": "closest",
          "mapbox": {
           "style": "light"
          },
          "paper_bgcolor": "white",
          "plot_bgcolor": "#E5ECF6",
          "polar": {
           "angularaxis": {
            "gridcolor": "white",
            "linecolor": "white",
            "ticks": ""
           },
           "bgcolor": "#E5ECF6",
           "radialaxis": {
            "gridcolor": "white",
            "linecolor": "white",
            "ticks": ""
           }
          },
          "scene": {
           "xaxis": {
            "backgroundcolor": "#E5ECF6",
            "gridcolor": "white",
            "gridwidth": 2,
            "linecolor": "white",
            "showbackground": true,
            "ticks": "",
            "zerolinecolor": "white"
           },
           "yaxis": {
            "backgroundcolor": "#E5ECF6",
            "gridcolor": "white",
            "gridwidth": 2,
            "linecolor": "white",
            "showbackground": true,
            "ticks": "",
            "zerolinecolor": "white"
           },
           "zaxis": {
            "backgroundcolor": "#E5ECF6",
            "gridcolor": "white",
            "gridwidth": 2,
            "linecolor": "white",
            "showbackground": true,
            "ticks": "",
            "zerolinecolor": "white"
           }
          },
          "shapedefaults": {
           "line": {
            "color": "#2a3f5f"
           }
          },
          "ternary": {
           "aaxis": {
            "gridcolor": "white",
            "linecolor": "white",
            "ticks": ""
           },
           "baxis": {
            "gridcolor": "white",
            "linecolor": "white",
            "ticks": ""
           },
           "bgcolor": "#E5ECF6",
           "caxis": {
            "gridcolor": "white",
            "linecolor": "white",
            "ticks": ""
           }
          },
          "title": {
           "x": 0.05
          },
          "xaxis": {
           "automargin": true,
           "gridcolor": "white",
           "linecolor": "white",
           "ticks": "",
           "title": {
            "standoff": 15
           },
           "zerolinecolor": "white",
           "zerolinewidth": 2
          },
          "yaxis": {
           "automargin": true,
           "gridcolor": "white",
           "linecolor": "white",
           "ticks": "",
           "title": {
            "standoff": 15
           },
           "zerolinecolor": "white",
           "zerolinewidth": 2
          }
         }
        },
        "title": {
         "text": "MOTT: CB Antonio Hamilton (43986) on frame 16, CB Byron Murphy (47816) on frame 24, DB Isaiah Simmons (52416) on frame 29<br>"
        },
        "updatemenus": [
         {
          "buttons": [
           {
            "args": [
             null,
             {
              "frame": {
               "duration": 50,
               "redraw": false
              },
              "fromcurrent": true,
              "transition": {
               "duration": 0
              }
             }
            ],
            "label": "⏵",
            "method": "animate"
           },
           {
            "args": [
             [
              null
             ],
             {
              "frame": {
               "duration": 0,
               "redraw": false
              },
              "mode": "immediate",
              "transition": {
               "duration": 0
              }
             }
            ],
            "label": "⏸",
            "method": "animate"
           }
          ],
          "direction": "left",
          "pad": {
           "r": 10,
           "t": 87
          },
          "showactive": false,
          "type": "buttons",
          "x": 0.1,
          "xanchor": "right",
          "y": 0,
          "yanchor": "top"
         }
        ],
        "xaxis": {
         "range": [
          -5,
          125
         ],
         "visible": false
        },
        "yaxis": {
         "range": [
          -5,
          58.3
         ],
         "scaleanchor": "x",
         "scaleratio": 1,
         "visible": false
        }
       }
      }
     },
     "metadata": {},
     "output_type": "display_data"
    }
   ],
   "source": [
    "field_mott.fig.show()"
   ]
  },
  {
   "cell_type": "code",
   "execution_count": 38,
   "metadata": {},
   "outputs": [],
   "source": [
    "field_mott.save_as_gif(\"animated_play_2\")"
   ]
  },
  {
   "cell_type": "code",
   "execution_count": null,
   "metadata": {},
   "outputs": [],
   "source": []
  }
 ],
 "metadata": {
  "kernelspec": {
   "display_name": "Python 3 (ipykernel)",
   "language": "python",
   "name": "python3"
  },
  "language_info": {
   "codemirror_mode": {
    "name": "ipython",
    "version": 3
   },
   "file_extension": ".py",
   "mimetype": "text/x-python",
   "name": "python",
   "nbconvert_exporter": "python",
   "pygments_lexer": "ipython3",
   "version": "3.10.13"
  }
 },
 "nbformat": 4,
 "nbformat_minor": 2
}
